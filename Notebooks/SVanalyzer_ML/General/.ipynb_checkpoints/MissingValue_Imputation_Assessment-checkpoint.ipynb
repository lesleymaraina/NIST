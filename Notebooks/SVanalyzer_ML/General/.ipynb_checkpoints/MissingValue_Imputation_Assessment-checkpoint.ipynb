{
 "cells": [
  {
   "cell_type": "markdown",
   "metadata": {},
   "source": [
    "Missing Value Impuation Assessment"
   ]
  },
  {
   "cell_type": "code",
   "execution_count": 1,
   "metadata": {
    "collapsed": true
   },
   "outputs": [],
   "source": [
    "import pandas as pd\n",
    "import matplotlib as mpl\n",
    "import matplotlib.pyplot as plt\n",
    "import numpy as np\n",
    "import math\n",
    "from bokeh.charts import Scatter, Bar, Histogram, output_file, show\n",
    "from bokeh.plotting import figure, show, output_file, ColumnDataSource\n",
    "from bokeh.io import output_notebook\n",
    "import seaborn as sns"
   ]
  },
  {
   "cell_type": "code",
   "execution_count": 2,
   "metadata": {
    "collapsed": true
   },
   "outputs": [],
   "source": [
    "df_preimp = pd.read_csv('/Volumes/lesleydata/SVanalyzer_ML/Imputation_Compare/preImp.csv')\n",
    "df_postimp = pd.read_csv('/Volumes/lesleydata/SVanalyzer_ML/Imputation_Compare/post_imp.csv')\n",
    "df_postimp_10X = pd.read_csv('/Volumes/lesleydata/SVanalyzer_ML/Imputation_Compare/post_imp_10X.csv')"
   ]
  },
  {
   "cell_type": "code",
   "execution_count": 3,
   "metadata": {
    "collapsed": true
   },
   "outputs": [],
   "source": [
    "sns.set_style(\"white\")"
   ]
  },
  {
   "cell_type": "code",
   "execution_count": 4,
   "metadata": {
    "collapsed": true
   },
   "outputs": [],
   "source": [
    "#Size Bins\n",
    "bins = [0, 0.5, 0.8,0.9,1]\n",
    "group_names_size = ['0-0.5', '0.5-0.8', '0.8-0.9', '0.9-1']\n",
    "df_postimp['GTcons_allmax_prob_bin'] = pd.cut(df_postimp['GTcons_allmax_prob'], bins, labels=group_names_size)"
   ]
  },
  {
   "cell_type": "code",
   "execution_count": 5,
   "metadata": {
    "collapsed": true
   },
   "outputs": [],
   "source": [
    "#Size Bins\n",
    "bins = [0, 0.5, 0.8,0.9,1]\n",
    "group_names_size = ['0-0.5', '0.5-0.8', '0.8-0.9', '0.9-1']\n",
    "df_postimp_10X['10X_max_prob_bin'] = pd.cut(df_postimp_10X['10X_max_prob'], bins, labels=group_names_size)"
   ]
  },
  {
   "cell_type": "code",
   "execution_count": null,
   "metadata": {
    "collapsed": true
   },
   "outputs": [],
   "source": [
    "ax = sns.boxplot(x=\"GTcons\", y=\"GTcons_allmax_prob_bin\", hue=\"GTcons_allmax_prob_bin\", data=df_postimp) \n",
    "plt.show()"
   ]
  },
  {
   "cell_type": "code",
   "execution_count": null,
   "metadata": {
    "collapsed": true
   },
   "outputs": [],
   "source": []
  },
  {
   "cell_type": "code",
   "execution_count": null,
   "metadata": {
    "collapsed": true
   },
   "outputs": [],
   "source": []
  },
  {
   "cell_type": "code",
   "execution_count": null,
   "metadata": {
    "collapsed": true
   },
   "outputs": [],
   "source": []
  },
  {
   "cell_type": "code",
   "execution_count": null,
   "metadata": {
    "collapsed": true
   },
   "outputs": [],
   "source": []
  },
  {
   "cell_type": "markdown",
   "metadata": {},
   "source": [
    "[resource for the following](https://youtu.be/v_sPnwoT_iA?t=1144)\n",
    "[color pallate](https://youtu.be/v_sPnwoT_iA?t=1259)"
   ]
  },
  {
   "cell_type": "code",
   "execution_count": null,
   "metadata": {
    "collapsed": true
   },
   "outputs": [],
   "source": [
    "# Select Features for comparison\n",
    "# Feature 1\n",
    "hom_var_1 = df_100_[df_100_['GTcons'] == 'Homozygous_Variant']['Ill300x.ref_reason_alignmentScore']\n",
    "het_var_1 = df_100_[df_100_['GTcons'] == 'Homozygous_Reference']['Ill300x.ref_reason_alignmentScore']\n",
    "hom_ref_1 = df_100_[df_100_['GTcons'] == 'Heterozygous_Variant']['Ill300x.ref_reason_alignmentScore']\n",
    "\n",
    "# Feature 2\n",
    "hom_var_2 = df_100_[df_100_['GTcons'] == 'Homozygous_Variant']['pacbio.alt_alnScore_std']\n",
    "het_var_2 = df_100_[df_100_['GTcons'] == 'Homozygous_Reference']['pacbio.alt_alnScore_std']\n",
    "hom_ref_2 = df_100_[df_100_['GTcons'] == 'Heterozygous_Variant']['pacbio.alt_alnScore_std']\n",
    "\n",
    "# Feature 3\n",
    "hom_var_3 = df_100_[df_100_['GTcons'] == 'Homozygous_Variant']['Ill250.alt_count']\n",
    "het_var_3 = df_100_[df_100_['GTcons'] == 'Homozygous_Reference']['Ill250.alt_count']\n",
    "hom_ref_3 = df_100_[df_100_['GTcons'] == 'Heterozygous_Variant']['Ill250.alt_count']\n",
    "\n",
    "# Feature 4\n",
    "hom_var_4 = df_100_[df_100_['GTcons'] == 'Homozygous_Variant']['Ill300x.ref_count']\n",
    "het_var_4 = df_100_[df_100_['GTcons'] == 'Homozygous_Reference']['Ill300x.ref_count']\n",
    "hom_ref_4 = df_100_[df_100_['GTcons'] == 'Heterozygous_Variant']['Ill300x.ref_count']\n",
    "\n",
    "# Feature 5\n",
    "hom_var_5 = df_100_[df_100_['GTcons'] == 'Homozygous_Variant']['pacbio.ref_count']\n",
    "het_var_5 = df_100_[df_100_['GTcons'] == 'Homozygous_Reference']['pacbio.ref_count']\n",
    "hom_ref_5 = df_100_[df_100_['GTcons'] == 'Heterozygous_Variant']['pacbio.ref_count']\n",
    "\n",
    "# Feature 6\n",
    "hom_var_6 = df_100_[df_100_['GTcons'] == 'Homozygous_Variant']['pacbio.alt_insertSize_mean']\n",
    "het_var_6 = df_100_[df_100_['GTcons'] == 'Homozygous_Reference']['pacbio.alt_insertSize_mean']\n",
    "hom_ref_6 = df_100_[df_100_['GTcons'] == 'Heterozygous_Variant']['pacbio.alt_insertSize_mean']\n",
    "\n",
    "# Feature 7\n",
    "hom_var_7 = df_100_[df_100_['GTcons'] == 'Homozygous_Variant']['pacbio.alt_insertSize_std']\n",
    "het_var_7 = df_100_[df_100_['GTcons'] == 'Homozygous_Reference']['pacbio.alt_insertSize_std']\n",
    "hom_ref_7 = df_100_[df_100_['GTcons'] == 'Heterozygous_Variant']['pacbio.alt_insertSize_std']\n",
    "\n",
    "# Feature 8\n",
    "hom_var_8 = df_100_[df_100_['GTcons'] == 'Homozygous_Variant']['pacbio.ref_alnScore_std']\n",
    "het_var_8 = df_100_[df_100_['GTcons'] == 'Homozygous_Reference']['pacbio.ref_alnScore_std']\n",
    "hom_ref_8 = df_100_[df_100_['GTcons'] == 'Heterozygous_Variant']['pacbio.ref_alnScore_std']\n",
    "\n",
    "# Feature 9\n",
    "hom_var_9 = df_100_[df_100_['GTcons'] == 'Homozygous_Variant']['Ill250.ref_reason_alignmentScore']\n",
    "het_var_9 = df_100_[df_100_['GTcons'] == 'Homozygous_Reference']['Ill250.ref_reason_alignmentScore']\n",
    "hom_ref_9 = df_100_[df_100_['GTcons'] == 'Heterozygous_Variant']['Ill250.ref_reason_alignmentScore']\n",
    "\n",
    "# Feature 10\n",
    "hom_var_10 = df_100_[df_100_['GTcons'] == 'Homozygous_Variant']['Ill250.alt_reason_alignmentScore']\n",
    "het_var_10 = df_100_[df_100_['GTcons'] == 'Homozygous_Reference']['Ill250.alt_reason_alignmentScore']\n",
    "hom_ref_10 = df_100_[df_100_['GTcons'] == 'Heterozygous_Variant']['Ill250.alt_reason_alignmentScore']"
   ]
  },
  {
   "cell_type": "code",
   "execution_count": null,
   "metadata": {},
   "outputs": [],
   "source": [
    "fig = plt.figure(figsize=(12,8))\n",
    "\n",
    "# Feature 7\n",
    "ax7 = fig.add_subplot(337)\n",
    "ax7.set_xlabel('pacbio.alt_insertSize_std')\n",
    "ax7.set_ylabel('Count')\n",
    "ax7.set_title('pacbio.alt_insertSize_std')\n",
    "hom_var_7.hist(alpha = 0.5, bins = 30, label='hom_var')\n",
    "het_var_7.hist(alpha = 0.5, bins = 30, label='het_var')\n",
    "hom_ref_7.hist(alpha = 0.5, bins = 30, label='hom_ref')\n",
    "\n",
    "plt.legend(loc = 'upper right')\n",
    "plt.show()\n",
    "\n",
    "# Feature 8\n",
    "ax8 = fig.add_subplot(338)\n",
    "ax8.set_xlabel('pacbio.ref_alnScore_std')\n",
    "ax8.set_ylabel('Count')\n",
    "ax8.set_title('pacbio.ref_alnScore_std')\n",
    "hom_var_8.hist(alpha = 0.5, bins = 30, label='hom_var')\n",
    "het_var_8.hist(alpha = 0.5, bins = 30, label='het_var')\n",
    "hom_ref_8.hist(alpha = 0.5, bins = 30, label='hom_ref')\n",
    "plt.legend(loc = 'upper right')\n",
    "plt.show()\n",
    "\n",
    "# Feature 9\n",
    "ax1 = fig.add_subplot(339)\n",
    "hom_var_9.hist(alpha = 0.5, bins = 30, label='hom_var')\n",
    "ax1.set_xlabel('Ill250.ref_reason_alignmentScore')\n",
    "ax1.set_ylabel('Count')\n",
    "ax1.set_title('Ill250.ref_reason_alignmentScore')\n",
    "\n",
    "ax1 = fig.add_subplot(339)\n",
    "het_var_9.hist(alpha = 0.5, bins = 30, label='het_var')\n",
    "\n",
    "ax1 = fig.add_subplot(339)\n",
    "hom_ref_9.hist(alpha = 0.5, bins = 30, label='hom_ref')\n",
    "\n",
    "\n",
    "\n",
    "# # Feature 10\n",
    "# ax3 = fig.add_subplot(331)\n",
    "# ax3.set_xlabel('Ill250.alt_reason_alignmentScore')\n",
    "# ax3.set_ylabel('Count')\n",
    "# ax3.set_title('Ill250.alt_reason_alignmentScore')\n",
    "# hom_var_10.hist(alpha = 0.5, bins = 30, label='hom_var')\n",
    "# het_var_10.hist(alpha = 0.5, bins = 30, label='het_var')\n",
    "# hom_ref_10.hist(alpha = 0.5, bins = 30, label='hom_ref')\n",
    "# plt.legend(loc = 'upper right')\n",
    "# plt.show()"
   ]
  },
  {
   "cell_type": "code",
   "execution_count": null,
   "metadata": {},
   "outputs": [],
   "source": [
    "fig = plt.figure(figsize=(12,15))\n",
    "\n",
    "# Feature 1 - Range adjusted to show distribution!!!\n",
    "ax1 = fig.add_subplot(331)\n",
    "ax1.grid(False)\n",
    "hom_var_1.hist(alpha = 0.5, bins = 30, range=(0, 750), label='hom_var')\n",
    "ax1.set_xlabel('Ill300x.ref_reason_alignmentScore')\n",
    "ax1.set_ylabel('Count')\n",
    "ax1.set_title('Ill300x.ref_reason_alignmentScore')\n",
    "\n",
    "ax1 = fig.add_subplot(331)\n",
    "het_var_1.hist(alpha = 0.5, bins = 30, range=(0, 750), label='het_var')\n",
    "\n",
    "ax1 = fig.add_subplot(331)\n",
    "hom_ref_1.hist(alpha = 0.5, bins = 30, range=(0, 750), label='hom_ref')\n",
    "plt.legend(loc = 'upper right')\n",
    "\n",
    "\n",
    "# Feature 2\n",
    "ax2 = fig.add_subplot(332)\n",
    "hom_var_2.hist(alpha = 0.5, bins = 30, label='hom_var')\n",
    "ax2.set_xlabel('pacbio.alt_alnScore_std')\n",
    "ax2.set_ylabel('Count')\n",
    "ax2.set_title('pacbio.alt_alnScore_std')\n",
    "\n",
    "ax2 = fig.add_subplot(332)\n",
    "het_var_2.hist(alpha = 0.5, bins = 30, label='het_var')\n",
    "\n",
    "ax2 = fig.add_subplot(332)\n",
    "hom_ref_2.hist(alpha = 0.5, bins = 30, label='hom_ref')\n",
    "plt.legend(loc = 'upper right')\n",
    "\n",
    "\n",
    "# Feature 3\n",
    "ax3 = fig.add_subplot(333)\n",
    "hom_var_3.hist(alpha = 0.5, bins = 30, label='hom_var')\n",
    "ax3.set_xlabel('Ill250.alt_count')\n",
    "ax3.set_ylabel('Count')\n",
    "ax3.set_title('Ill250.alt_count')\n",
    "\n",
    "ax3 = fig.add_subplot(333)\n",
    "het_var_3.hist(alpha = 0.5, bins = 30, label='het_var')\n",
    "\n",
    "ax3 = fig.add_subplot(333)\n",
    "hom_ref_3.hist(alpha = 0.5, bins = 30, label='hom_ref')\n",
    "plt.legend(loc = 'upper right')\n",
    "\n",
    "\n",
    "# Feature 4 - Range adjusted to show distribution!!\n",
    "ax4 = fig.add_subplot(334)\n",
    "hom_var_4.hist(alpha = 0.5, bins = 30, range=(0, 750), label='hom_var')\n",
    "ax4.set_xlabel('Ill300x.ref_count')\n",
    "ax4.set_ylabel('Count')\n",
    "ax4.set_title('Ill300x.ref_count')\n",
    "\n",
    "ax4 = fig.add_subplot(334)\n",
    "het_var_4.hist(alpha = 0.5, bins = 30, range=(0, 750), label='het_var')\n",
    "\n",
    "ax4 = fig.add_subplot(334)\n",
    "hom_ref_4.hist(alpha = 0.5, bins = 30, range=(0, 750), label='hom_ref')\n",
    "plt.legend(loc = 'upper right')\n",
    "\n",
    "# Feature 5\n",
    "ax5 = fig.add_subplot(335)\n",
    "hom_var_5.hist(alpha = 0.5, bins = 30, label='hom_var')\n",
    "ax5.set_xlabel('pacbio.ref_count')\n",
    "ax5.set_ylabel('Count')\n",
    "ax5.set_title('pacbio.ref_count')\n",
    "\n",
    "ax5 = fig.add_subplot(335)\n",
    "het_var_5.hist(alpha = 0.5, bins = 30, label='het_var')\n",
    "\n",
    "ax5 = fig.add_subplot(335)\n",
    "hom_ref_5.hist(alpha = 0.5, bins = 30, label='hom_ref')\n",
    "plt.legend(loc = 'upper right')\n",
    "\n",
    "# Feature 6\n",
    "ax6 = fig.add_subplot(336)\n",
    "hom_var_6.hist(alpha = 0.5, bins = 30, label='hom_var')\n",
    "ax6.set_xlabel('pacbio.alt_insertSize_mean')\n",
    "ax6.set_ylabel('Count')\n",
    "ax6.set_title('pacbio.alt_insertSize_mean')\n",
    "\n",
    "ax6 = fig.add_subplot(336)\n",
    "het_var_6.hist(alpha = 0.5, bins = 30, label='het_var')\n",
    "\n",
    "ax6 = fig.add_subplot(336)\n",
    "hom_ref_6.hist(alpha = 0.5, bins = 30, label='hom_ref')\n",
    "plt.legend(loc = 'upper right')\n",
    "\n",
    "# Feature 7\n",
    "ax7 = fig.add_subplot(337)\n",
    "hom_var_7.hist(alpha = 0.5, bins = 30, label='hom_var')\n",
    "ax7.set_xlabel('pacbio.alt_insertSize_std')\n",
    "ax7.set_ylabel('Count')\n",
    "ax7.set_title('pacbio.alt_insertSize_std')\n",
    "\n",
    "ax7 = fig.add_subplot(337)\n",
    "het_var_7.hist(alpha = 0.5, bins = 30, label='het_var')\n",
    "\n",
    "ax7 = fig.add_subplot(337)\n",
    "hom_ref_7.hist(alpha = 0.5, bins = 30, label='hom_ref')\n",
    "plt.legend(loc = 'upper right')\n",
    "\n",
    "# Feature 8\n",
    "ax8 = fig.add_subplot(338)\n",
    "hom_var_8.hist(alpha = 0.5, bins = 30, label='hom_var')\n",
    "ax8.set_xlabel('pacbio.ref_alnScore_std')\n",
    "ax8.set_ylabel('Count')\n",
    "ax8.set_title('pacbio.ref_alnScore_std')\n",
    "\n",
    "ax8 = fig.add_subplot(338)\n",
    "het_var_8.hist(alpha = 0.5, bins = 30, label='het_var')\n",
    "\n",
    "ax8 = fig.add_subplot(338)\n",
    "hom_ref_8.hist(alpha = 0.5, bins = 30, label='hom_ref')\n",
    "plt.legend(loc = 'upper right')\n",
    "\n",
    "# Feature 9 - NOTE: The range has been changed to see distribution!!\n",
    "ax9 = fig.add_subplot(339)\n",
    "hom_var_9.hist(alpha = 0.5, bins = 30, range=(0, 175), label='hom_var')\n",
    "ax9.set_xlabel('Ill250.ref_reason_alignmentScore')\n",
    "ax9.set_ylabel('Count')\n",
    "ax9.set_title('Ill250.ref_reason_alignmentScore')\n",
    "\n",
    "ax9 = fig.add_subplot(339)\n",
    "het_var_9.hist(alpha = 0.5, bins = 30, range=(0, 175), label='het_var')\n",
    "\n",
    "ax9 = fig.add_subplot(339)\n",
    "hom_ref_9.hist(alpha = 0.5, bins = 30, range=(0, 175), label='hom_ref')\n",
    "plt.legend(loc = 'upper right')\n",
    "\n",
    "plt.savefig('/Volumes/lesleydata/SVanalyzer_ML/Nov172017_EDA/combined_histo/top_10feat_adjrange_.png', bbox_inches='tight')\n",
    "plt.show()\n"
   ]
  },
  {
   "cell_type": "code",
   "execution_count": null,
   "metadata": {
    "scrolled": true
   },
   "outputs": [],
   "source": [
    "fig = plt.figure(figsize=(12,15))\n",
    "\n",
    "# Feature 1 - Range adjusted to show distribution!!!\n",
    "ax1 = fig.add_subplot(331)\n",
    "ax1.grid(False)\n",
    "hom_var_1.hist(alpha = 0.5, bins = 30, label='hom_var')\n",
    "ax1.set_xlabel('Ill300x.ref_reason_alignmentScore')\n",
    "ax1.set_ylabel('Count')\n",
    "ax1.set_title('Ill300x.ref_reason_alignmentScore')\n",
    "\n",
    "ax1 = fig.add_subplot(331)\n",
    "het_var_1.hist(alpha = 0.5, bins = 30, label='het_var')\n",
    "\n",
    "ax1 = fig.add_subplot(331)\n",
    "hom_ref_1.hist(alpha = 0.5, bins = 30, label='hom_ref')\n",
    "plt.legend(loc = 'upper right')\n",
    "\n",
    "\n",
    "# Feature 2\n",
    "ax2 = fig.add_subplot(332)\n",
    "hom_var_2.hist(alpha = 0.5, bins = 30, label='hom_var')\n",
    "ax2.set_xlabel('pacbio.alt_alnScore_std')\n",
    "ax2.set_ylabel('Count')\n",
    "ax2.set_title('pacbio.alt_alnScore_std')\n",
    "\n",
    "ax2 = fig.add_subplot(332)\n",
    "het_var_2.hist(alpha = 0.5, bins = 30, label='het_var')\n",
    "\n",
    "ax2 = fig.add_subplot(332)\n",
    "hom_ref_2.hist(alpha = 0.5, bins = 30, label='hom_ref')\n",
    "plt.legend(loc = 'upper right')\n",
    "\n",
    "# Feature 3\n",
    "ax3 = fig.add_subplot(333)\n",
    "hom_var_3.hist(alpha = 0.5, bins = 30, label='hom_var')\n",
    "ax3.set_xlabel('Ill250.alt_count')\n",
    "ax3.set_ylabel('Count')\n",
    "ax3.set_title('Ill250.alt_count')\n",
    "\n",
    "ax3 = fig.add_subplot(333)\n",
    "het_var_3.hist(alpha = 0.5, bins = 30, label='het_var')\n",
    "\n",
    "ax3 = fig.add_subplot(333)\n",
    "hom_ref_3.hist(alpha = 0.5, bins = 30, label='hom_ref')\n",
    "plt.legend(loc = 'upper right')\n",
    "\n",
    "\n",
    "# Feature 4\n",
    "ax4 = fig.add_subplot(334)\n",
    "hom_var_4.hist(alpha = 0.5, bins = 30, label='hom_var')\n",
    "ax4.set_xlabel('Ill300x.ref_count')\n",
    "ax4.set_ylabel('Count')\n",
    "ax4.set_title('Ill300x.ref_count')\n",
    "\n",
    "ax4 = fig.add_subplot(334)\n",
    "het_var_4.hist(alpha = 0.5, bins = 30, label='het_var')\n",
    "\n",
    "ax4 = fig.add_subplot(334)\n",
    "hom_ref_4.hist(alpha = 0.5, bins = 30, label='hom_ref')\n",
    "plt.legend(loc = 'upper right')\n",
    "\n",
    "# Feature 5\n",
    "ax5 = fig.add_subplot(335)\n",
    "hom_var_5.hist(alpha = 0.5, bins = 30, label='hom_var')\n",
    "ax5.set_xlabel('pacbio.ref_count')\n",
    "ax5.set_ylabel('Count')\n",
    "ax5.set_title('pacbio.ref_count')\n",
    "\n",
    "ax5 = fig.add_subplot(335)\n",
    "het_var_5.hist(alpha = 0.5, bins = 30, label='het_var')\n",
    "\n",
    "ax5 = fig.add_subplot(335)\n",
    "hom_ref_5.hist(alpha = 0.5, bins = 30, label='hom_ref')\n",
    "plt.legend(loc = 'upper right')\n",
    "\n",
    "# Feature 6\n",
    "ax6 = fig.add_subplot(336)\n",
    "hom_var_6.hist(alpha = 0.5, bins = 30, label='hom_var')\n",
    "ax6.set_xlabel('pacbio.alt_insertSize_mean')\n",
    "ax6.set_ylabel('Count')\n",
    "ax6.set_title('pacbio.alt_insertSize_mean')\n",
    "\n",
    "ax6 = fig.add_subplot(336)\n",
    "het_var_6.hist(alpha = 0.5, bins = 30, label='het_var')\n",
    "\n",
    "ax6 = fig.add_subplot(336)\n",
    "hom_ref_6.hist(alpha = 0.5, bins = 30, label='hom_ref')\n",
    "plt.legend(loc = 'upper right')\n",
    "\n",
    "# Feature 7\n",
    "ax7 = fig.add_subplot(337)\n",
    "hom_var_7.hist(alpha = 0.5, bins = 30, label='hom_var')\n",
    "ax7.set_xlabel('pacbio.alt_insertSize_std')\n",
    "ax7.set_ylabel('Count')\n",
    "ax7.set_title('pacbio.alt_insertSize_std')\n",
    "\n",
    "ax7 = fig.add_subplot(337)\n",
    "het_var_7.hist(alpha = 0.5, bins = 30, label='het_var')\n",
    "\n",
    "ax7 = fig.add_subplot(337)\n",
    "hom_ref_7.hist(alpha = 0.5, bins = 30, label='hom_ref')\n",
    "plt.legend(loc = 'upper right')\n",
    "\n",
    "# Feature 8\n",
    "ax8 = fig.add_subplot(338)\n",
    "hom_var_8.hist(alpha = 0.5, bins = 30, label='hom_var')\n",
    "ax8.set_xlabel('pacbio.ref_alnScore_std')\n",
    "ax8.set_ylabel('Count')\n",
    "ax8.set_title('pacbio.ref_alnScore_std')\n",
    "\n",
    "ax8 = fig.add_subplot(338)\n",
    "het_var_8.hist(alpha = 0.5, bins = 30, label='het_var')\n",
    "\n",
    "ax8 = fig.add_subplot(338)\n",
    "hom_ref_8.hist(alpha = 0.5, bins = 30, label='hom_ref')\n",
    "plt.legend(loc = 'upper right')\n",
    "\n",
    "# Feature 9 - NOTE: The range has been changed to see distribution!!\n",
    "ax9 = fig.add_subplot(339)\n",
    "hom_var_9.hist(alpha = 0.5, bins = 30, label='hom_var')\n",
    "ax9.set_xlabel('Ill250.ref_reason_alignmentScore')\n",
    "ax9.set_ylabel('Count')\n",
    "ax9.set_title('Ill250.ref_reason_alignmentScore')\n",
    "\n",
    "ax9 = fig.add_subplot(339)\n",
    "het_var_9.hist(alpha = 0.5, bins = 30, label='het_var')\n",
    "\n",
    "ax9 = fig.add_subplot(339)\n",
    "hom_ref_9.hist(alpha = 0.5, bins = 30, label='hom_ref')\n",
    "plt.legend(loc = 'upper right')\n",
    "\n",
    "plt.savefig('/Volumes/lesleydata/SVanalyzer_ML/Nov172017_EDA/combined_histo/top_10feat_.png', bbox_inches='tight')\n",
    "plt.show()\n"
   ]
  },
  {
   "cell_type": "code",
   "execution_count": null,
   "metadata": {
    "collapsed": true
   },
   "outputs": [],
   "source": []
  },
  {
   "cell_type": "code",
   "execution_count": null,
   "metadata": {
    "collapsed": true
   },
   "outputs": [],
   "source": [
    "# Nov 17 2017 Data"
   ]
  },
  {
   "cell_type": "code",
   "execution_count": null,
   "metadata": {
    "collapsed": true
   },
   "outputs": [],
   "source": [
    "# Select Features for comparison\n",
    "# Feature 1\n",
    "hom_var_1 = df_100_[df_100_['GTcons'] == 'Homozygous_Variant']['pacbio.ref_count']\n",
    "het_var_1 = df_100_[df_100_['GTcons'] == 'Heterozygous_Variant']['pacbio.ref_count']\n",
    "hom_ref_1 = df_100_[df_100_['GTcons'] == 'Homozygous_Reference']['pacbio.ref_count']\n",
    "\n",
    "# Feature 2\n",
    "hom_var_2 = df_100_[df_100_['GTcons'] == 'Homozygous_Variant']['Ill300x.ref_count']\n",
    "het_var_2 = df_100_[df_100_['GTcons'] == 'Heterozygous_Variant']['Ill300x.ref_count']\n",
    "hom_ref_2 = df_100_[df_100_['GTcons'] == 'Homozygous_Reference']['Ill300x.ref_count']\n",
    "\n",
    "# Feature 3\n",
    "hom_var_3 = df_100_[df_100_['GTcons'] == 'Homozygous_Variant']['pacbio.alt_alnScore_std']\n",
    "het_var_3 = df_100_[df_100_['GTcons'] == 'Heterozygous_Variant']['pacbio.alt_alnScore_std']\n",
    "hom_ref_3 = df_100_[df_100_['GTcons'] == 'Homozygous_Reference']['pacbio.alt_alnScore_std']\n",
    "\n",
    "# Feature 4\n",
    "hom_var_4 = df_100_[df_100_['GTcons'] == 'Homozygous_Variant']['Ill250.alt_count']\n",
    "het_var_4 = df_100_[df_100_['GTcons'] == 'Heterozygous_Variant']['Ill250.alt_count']\n",
    "hom_ref_4 = df_100_[df_100_['GTcons'] == 'Homozygous_Reference']['Ill250.alt_count']\n",
    "\n",
    "# Feature 5\n",
    "hom_var_5 = df_100_[df_100_['GTcons'] == 'Homozygous_Variant']['pacbio.alt_insertSize_std']\n",
    "het_var_5 = df_100_[df_100_['GTcons'] == 'Heterozygous_Variant']['pacbio.alt_insertSize_std']\n",
    "hom_ref_5 = df_100_[df_100_['GTcons'] == 'Homozygous_Reference']['pacbio.alt_insertSize_std']\n",
    "\n",
    "# Feature 6\n",
    "hom_var_6 = df_100_[df_100_['GTcons'] == 'Homozygous_Variant']['Ill300x.ref_reason_alignmentScore']\n",
    "het_var_6 = df_100_[df_100_['GTcons'] == 'Heterozygous_Variant']['Ill300x.ref_reason_alignmentScore']\n",
    "hom_ref_6 = df_100_[df_100_['GTcons'] == 'Homozygous_Reference']['Ill300x.ref_reason_alignmentScore']\n",
    "\n",
    "# Feature 7\n",
    "hom_var_7 = df_100_[df_100_['GTcons'] == 'Homozygous_Variant']['pacbio.alt_reason_alignmentScore']\n",
    "het_var_7 = df_100_[df_100_['GTcons'] == 'Heterozygous_Variant']['pacbio.alt_reason_alignmentScore']\n",
    "hom_ref_7 = df_100_[df_100_['GTcons'] == 'Homozygous_Reference']['pacbio.alt_reason_alignmentScore']\n",
    "\n",
    "# Feature 8\n",
    "hom_var_8 = df_100_[df_100_['GTcons'] == 'Homozygous_Variant']['pacbio.alt_count']\n",
    "het_var_8 = df_100_[df_100_['GTcons'] == 'Heterozygous_Variant']['pacbio.alt_count']\n",
    "hom_ref_8 = df_100_[df_100_['GTcons'] == 'Homozygous_Reference']['pacbio.alt_count']\n",
    "\n",
    "# Feature 9\n",
    "hom_var_9 = df_100_[df_100_['GTcons'] == 'Homozygous_Variant']['pacbio.alt_insertSize_mean']\n",
    "het_var_9 = df_100_[df_100_['GTcons'] == 'Heterozygous_Variant']['pacbio.alt_insertSize_mean']\n",
    "hom_ref_9 = df_100_[df_100_['GTcons'] == 'Homozygous_Reference']['pacbio.alt_insertSize_mean']\n",
    "\n",
    "# Feature 10\n",
    "hom_var_10 = df_100_[df_100_['GTcons'] == 'Homozygous_Variant']['Ill250.ref_reason_alignmentScore']\n",
    "het_var_10 = df_100_[df_100_['GTcons'] == 'Heterozygous_Variant']['Ill250.ref_reason_alignmentScore']\n",
    "hom_ref_10 = df_100_[df_100_['GTcons'] == 'Homozygous_Reference']['Ill250.ref_reason_alignmentScore']"
   ]
  },
  {
   "cell_type": "code",
   "execution_count": null,
   "metadata": {
    "scrolled": true
   },
   "outputs": [],
   "source": [
    "fig = plt.figure(figsize=(12,15))\n",
    "\n",
    "# Feature 1 \n",
    "ax1 = fig.add_subplot(331)\n",
    "hom_var_1.hist(alpha = 0.5, bins = 30, label='hom_var')\n",
    "ax1.set_xlabel('pacbio.ref_count')\n",
    "ax1.set_ylabel('Count')\n",
    "ax1.set_title('pacbio.ref_count')\n",
    "\n",
    "ax1 = fig.add_subplot(331)\n",
    "het_var_1.hist(alpha = 0.5, bins = 30, label='het_var')\n",
    "\n",
    "ax1 = fig.add_subplot(331)\n",
    "hom_ref_1.hist(alpha = 0.5, bins = 30, label='hom_ref')\n",
    "plt.legend(loc = 'upper right')\n",
    "\n",
    "\n",
    "# Feature 2\n",
    "ax2 = fig.add_subplot(332)\n",
    "hom_var_2.hist(alpha = 0.5, bins = 30, label='hom_var')\n",
    "ax2.set_xlabel('Ill300x.ref_count')\n",
    "ax2.set_ylabel('Count')\n",
    "ax2.set_title('Ill300x.ref_count')\n",
    "\n",
    "ax2 = fig.add_subplot(332)\n",
    "het_var_2.hist(alpha = 0.5, bins = 30, label='het_var')\n",
    "\n",
    "ax2 = fig.add_subplot(332)\n",
    "hom_ref_2.hist(alpha = 0.5, bins = 30, label='hom_ref')\n",
    "plt.legend(loc = 'upper right')\n",
    "\n",
    "# Feature 3\n",
    "ax3 = fig.add_subplot(333)\n",
    "hom_var_3.hist(alpha = 0.5, bins = 30, label='hom_var')\n",
    "ax3.set_xlabel('pacbio.alt_alnScore_std')\n",
    "ax3.set_ylabel('Count')\n",
    "ax3.set_title('pacbio.alt_alnScore_std')\n",
    "\n",
    "ax3 = fig.add_subplot(333)\n",
    "het_var_3.hist(alpha = 0.5, bins = 30, label='het_var')\n",
    "\n",
    "ax3 = fig.add_subplot(333)\n",
    "hom_ref_3.hist(alpha = 0.5, bins = 30, label='hom_ref')\n",
    "plt.legend(loc = 'upper right')\n",
    "\n",
    "\n",
    "# Feature 4\n",
    "ax4 = fig.add_subplot(334)\n",
    "hom_var_4.hist(alpha = 0.5, bins = 30, label='hom_var')\n",
    "ax4.set_xlabel('Ill250.alt_count')\n",
    "ax4.set_ylabel('Count')\n",
    "ax4.set_title('Ill250.alt_count')\n",
    "\n",
    "ax4 = fig.add_subplot(334)\n",
    "het_var_4.hist(alpha = 0.5, bins = 30, label='het_var')\n",
    "\n",
    "ax4 = fig.add_subplot(334)\n",
    "hom_ref_4.hist(alpha = 0.5, bins = 30, label='hom_ref')\n",
    "plt.legend(loc = 'upper right')\n",
    "\n",
    "# Feature 5\n",
    "ax5 = fig.add_subplot(335)\n",
    "hom_var_5.hist(alpha = 0.5, bins = 30, label='hom_var')\n",
    "ax5.set_xlabel('pacbio.alt_insertSize_std')\n",
    "ax5.set_ylabel('Count')\n",
    "ax5.set_title('pacbio.alt_insertSize_std')\n",
    "\n",
    "ax5 = fig.add_subplot(335)\n",
    "het_var_5.hist(alpha = 0.5, bins = 30, label='het_var')\n",
    "\n",
    "ax5 = fig.add_subplot(335)\n",
    "hom_ref_5.hist(alpha = 0.5, bins = 30, label='hom_ref')\n",
    "plt.legend(loc = 'upper right')\n",
    "\n",
    "# Feature 6\n",
    "ax6 = fig.add_subplot(336)\n",
    "hom_var_6.hist(alpha = 0.5, bins = 30, label='hom_var')\n",
    "ax6.set_xlabel('Ill300x.ref_reason_alignmentScore')\n",
    "ax6.set_ylabel('Count')\n",
    "ax6.set_title('Ill300x.ref_reason_alignmentScore')\n",
    "\n",
    "ax6 = fig.add_subplot(336)\n",
    "het_var_6.hist(alpha = 0.5, bins = 30, label='het_var')\n",
    "\n",
    "ax6 = fig.add_subplot(336)\n",
    "hom_ref_6.hist(alpha = 0.5, bins = 30, label='hom_ref')\n",
    "plt.legend(loc = 'upper right')\n",
    "\n",
    "# Feature 7\n",
    "ax7 = fig.add_subplot(337)\n",
    "hom_var_7.hist(alpha = 0.5, bins = 30, label='hom_var')\n",
    "ax7.set_xlabel('pacbio.alt_reason_alignmentScore')\n",
    "ax7.set_ylabel('Count')\n",
    "ax7.set_title('pacbio.alt_reason_alignmentScore')\n",
    "\n",
    "ax7 = fig.add_subplot(337)\n",
    "het_var_7.hist(alpha = 0.5, bins = 30, label='het_var')\n",
    "\n",
    "ax7 = fig.add_subplot(337)\n",
    "hom_ref_7.hist(alpha = 0.5, bins = 30, label='hom_ref')\n",
    "plt.legend(loc = 'upper right')\n",
    "\n",
    "# Feature 8\n",
    "ax8 = fig.add_subplot(338)\n",
    "hom_var_8.hist(alpha = 0.5, bins = 30, label='hom_var')\n",
    "ax8.set_xlabel('pacbio.alt_count')\n",
    "ax8.set_ylabel('Count')\n",
    "ax8.set_title('pacbio.alt_count')\n",
    "\n",
    "ax8 = fig.add_subplot(338)\n",
    "het_var_8.hist(alpha = 0.5, bins = 30, label='het_var')\n",
    "\n",
    "ax8 = fig.add_subplot(338)\n",
    "hom_ref_8.hist(alpha = 0.5, bins = 30, label='hom_ref')\n",
    "plt.legend(loc = 'upper right')\n",
    "\n",
    "# Feature 9 \n",
    "ax9 = fig.add_subplot(339)\n",
    "hom_var_9.hist(alpha = 0.5, bins = 30, label='hom_var')\n",
    "ax9.set_xlabel('pacbio.alt_insertSize_mean')\n",
    "ax9.set_ylabel('Count')\n",
    "ax9.set_title('pacbio.alt_insertSize_mean')\n",
    "\n",
    "ax9 = fig.add_subplot(339)\n",
    "het_var_9.hist(alpha = 0.5, bins = 30, label='het_var')\n",
    "\n",
    "ax9 = fig.add_subplot(339)\n",
    "hom_ref_9.hist(alpha = 0.5, bins = 30, label='hom_ref')\n",
    "plt.legend(loc = 'upper right')\n",
    "\n",
    "plt.savefig('/Volumes/lesleydata/SVanalyzer_ML/Nov172017_EDA/combined_histo/top_10feat_.png', bbox_inches='tight')\n",
    "plt.show()\n"
   ]
  },
  {
   "cell_type": "code",
   "execution_count": null,
   "metadata": {
    "scrolled": true
   },
   "outputs": [],
   "source": [
    "fig = plt.figure(figsize=(12,15))\n",
    "\n",
    "# Feature 1 \n",
    "ax1 = fig.add_subplot(331)\n",
    "ax1.grid(False)\n",
    "hom_var_1.hist(alpha = 0.5, bins = range(0,100), label='hom_var')\n",
    "ax1.set_xlabel('pacbio.ref_count')\n",
    "ax1.set_ylabel('Count')\n",
    "ax1.set_title('pacbio.ref_count')\n",
    "\n",
    "ax1 = fig.add_subplot(331)\n",
    "het_var_1.hist(alpha = 0.5, bins = range(0,100), label='het_var')\n",
    "\n",
    "ax1 = fig.add_subplot(331)\n",
    "hom_ref_1.hist(alpha = 0.5, bins = range(0,100), label='hom_ref')\n",
    "plt.legend(loc = 'upper right')\n",
    "\n",
    "\n",
    "# Feature 2\n",
    "ax2 = fig.add_subplot(332)\n",
    "hom_var_2.hist(alpha = 0.5, bins = 30, range=(0, 750), label='hom_var')\n",
    "ax2.set_xlabel('Ill300x.ref_count')\n",
    "ax2.set_ylabel('Count')\n",
    "ax2.set_title('Ill300x.ref_count')\n",
    "\n",
    "ax2 = fig.add_subplot(332)\n",
    "het_var_2.hist(alpha = 0.5, bins = 30, range=(0, 750), label='het_var')\n",
    "\n",
    "ax2 = fig.add_subplot(332)\n",
    "hom_ref_2.hist(alpha = 0.5, bins = 30, range=(0, 750), label='hom_ref')\n",
    "plt.legend(loc = 'upper right')\n",
    "\n",
    "# Feature 3\n",
    "ax3 = fig.add_subplot(333)\n",
    "hom_var_3.hist(alpha = 0.5, bins = 30, label='hom_var')\n",
    "ax3.set_xlabel('pacbio.alt_alnScore_std')\n",
    "ax3.set_ylabel('Count')\n",
    "ax3.set_title('pacbio.alt_alnScore_std')\n",
    "\n",
    "ax3 = fig.add_subplot(333)\n",
    "het_var_3.hist(alpha = 0.5, bins = 30, label='het_var')\n",
    "\n",
    "ax3 = fig.add_subplot(333)\n",
    "hom_ref_3.hist(alpha = 0.5, bins = 30, label='hom_ref')\n",
    "plt.legend(loc = 'upper right')\n",
    "\n",
    "\n",
    "# Feature 4\n",
    "ax4 = fig.add_subplot(334)\n",
    "hom_var_4.hist(alpha = 0.5, bins = 20, label='hom_var')\n",
    "ax4.set_xlabel('Ill250.alt_count')\n",
    "ax4.set_ylabel('Count')\n",
    "ax4.set_title('Ill250.alt_count')\n",
    "\n",
    "ax4 = fig.add_subplot(334)\n",
    "het_var_4.hist(alpha = 0.5, bins = 20, label='het_var')\n",
    "\n",
    "ax4 = fig.add_subplot(334)\n",
    "hom_ref_4.hist(alpha = 0.5, bins = 20, label='hom_ref')\n",
    "plt.legend(loc = 'upper right')\n",
    "\n",
    "# Feature 5\n",
    "ax5 = fig.add_subplot(335)\n",
    "hom_var_5.hist(alpha = 0.5, bins = 30, label='hom_var')\n",
    "ax5.set_xlabel('pacbio.alt_insertSize_std')\n",
    "ax5.set_ylabel('Count')\n",
    "ax5.set_title('pacbio.alt_insertSize_std')\n",
    "\n",
    "ax5 = fig.add_subplot(335)\n",
    "het_var_5.hist(alpha = 0.5, bins = 30, label='het_var')\n",
    "\n",
    "ax5 = fig.add_subplot(335)\n",
    "hom_ref_5.hist(alpha = 0.5, bins = 30, label='hom_ref')\n",
    "plt.legend(loc = 'upper right')\n",
    "\n",
    "# Feature 6\n",
    "ax6 = fig.add_subplot(336)\n",
    "hom_var_6.hist(alpha = 0.5, bins = 30, range=(0, 750), label='hom_var')\n",
    "ax6.set_xlabel('Ill300x.ref_reason_alignmentScore')\n",
    "ax6.set_ylabel('Count')\n",
    "ax6.set_title('Ill300x.ref_reason_alignmentScore')\n",
    "\n",
    "ax6 = fig.add_subplot(336)\n",
    "het_var_6.hist(alpha = 0.5, bins = 30, range=(0, 750), label='het_var')\n",
    "\n",
    "ax6 = fig.add_subplot(336)\n",
    "hom_ref_6.hist(alpha = 0.5, bins = 30, range=(0, 750), label='hom_ref')\n",
    "plt.legend(loc = 'upper right')\n",
    "\n",
    "# Feature 7\n",
    "ax7 = fig.add_subplot(337)\n",
    "hom_var_7.hist(alpha = 0.5, bins = 30, label='hom_var')\n",
    "ax7.set_xlabel('pacbio.alt_reason_alignmentScore')\n",
    "ax7.set_ylabel('Count')\n",
    "ax7.set_title('pacbio.alt_reason_alignmentScore')\n",
    "\n",
    "ax7 = fig.add_subplot(337)\n",
    "het_var_7.hist(alpha = 0.5, bins = 30, label='het_var')\n",
    "\n",
    "ax7 = fig.add_subplot(337)\n",
    "hom_ref_7.hist(alpha = 0.5, bins = 30, label='hom_ref')\n",
    "plt.legend(loc = 'upper right')\n",
    "\n",
    "# Feature 8\n",
    "ax8 = fig.add_subplot(338)\n",
    "hom_var_8.hist(alpha = 0.5, bins = 30, label='hom_var')\n",
    "ax8.set_xlabel('pacbio.alt_count')\n",
    "ax8.set_ylabel('Count')\n",
    "ax8.set_title('pacbio.alt_count')\n",
    "\n",
    "ax8 = fig.add_subplot(338)\n",
    "het_var_8.hist(alpha = 0.5, bins = 30, label='het_var')\n",
    "\n",
    "ax8 = fig.add_subplot(338)\n",
    "hom_ref_8.hist(alpha = 0.5, bins = 30, label='hom_ref')\n",
    "plt.legend(loc = 'upper right')\n",
    "\n",
    "# Feature 9 \n",
    "ax9 = fig.add_subplot(339)\n",
    "hom_var_9.hist(alpha = 0.5, bins = 30, label='hom_var')\n",
    "ax9.set_xlabel('pacbio.alt_insertSize_mean')\n",
    "ax9.set_ylabel('Count')\n",
    "ax9.set_title('pacbio.alt_insertSize_mean')\n",
    "\n",
    "ax9 = fig.add_subplot(339)\n",
    "het_var_9.hist(alpha = 0.5, bins = 30, label='het_var')\n",
    "\n",
    "ax9 = fig.add_subplot(339)\n",
    "hom_ref_9.hist(alpha = 0.5, bins = 30, label='hom_ref')\n",
    "plt.legend(loc = 'upper right')\n",
    "\n",
    "plt.savefig('/Volumes/lesleydata/SVanalyzer_ML/Nov172017_EDA/combined_histo/top_10feat_adj_.png', bbox_inches='tight')\n",
    "plt.show()\n"
   ]
  },
  {
   "cell_type": "markdown",
   "metadata": {},
   "source": [
    "**TODO**\n",
    "\n",
    "[create subplots for each distribution](https://www.youtube.com/watch?v=v_sPnwoT_iA)\n",
    "\n",
    "Also use to improve dotplots"
   ]
  },
  {
   "cell_type": "code",
   "execution_count": null,
   "metadata": {
    "collapsed": true
   },
   "outputs": [],
   "source": [
    "df_ = pd.read_csv('/Volumes/lesleydata/SVanalyzer_ML/Oct272017_ML_w_AllTech/data/final_df/alldata_final_GTcons_df_DEL_SVanalyzer_100trees.csv')"
   ]
  },
  {
   "cell_type": "code",
   "execution_count": null,
   "metadata": {
    "collapsed": true
   },
   "outputs": [],
   "source": [
    "# Feature 1\n",
    "hom_var_1 = df_100_[df_100_['GTcons'] == 'Homozygous_Variant']['pacbio.ref_count']\n",
    "het_var_1 = df_100_[df_100_['GTcons'] == 'Heterozygous_Variant']['pacbio.ref_count']\n",
    "hom_ref_1 = df_100_[df_100_['GTcons'] == 'Homozygous_Reference']['pacbio.ref_count']\n",
    "\n",
    "Ill300x_ref_00 = df_[(df_['predicted_GTcons_label'] == 0) & (df_['GTcons'] == 0)]['pacbio.ref_count']\n",
    "Ill300x_ref_01 = df_[(df_['predicted_GTcons_label'] == 0) & (df_['GTcons'] == 1)]['pacbio.ref_count']\n",
    "Ill300x_ref_02 = df_[(df_['predicted_GTcons_label'] == 0) & (df_['GTcons'] == 2)]['pacbio.ref_count']\n",
    "Ill300x_alt_00 = df_[(df_['predicted_GTcons_label'] == 0) & (df_['GTcons'] == 0)]['pacbio.alt_count']\n",
    "Ill300x_alt_01 = df_[(df_['predicted_GTcons_label'] == 0) & (df_['GTcons'] == 1)]['pacbio.alt_count']\n",
    "Ill300x_alt_02 = df_[(df_['predicted_GTcons_label'] == 0) & (df_['GTcons'] == 2)]['pacbio.alt_count']\n",
    "\n",
    "\n",
    "# Colors\n",
    "size_ = df_['Size']\n",
    "\n",
    "# Ill300x_ref = df_[df_['predicted_GTcons_label'] == 0 & ]\n",
    "# Ill300x_ref = df_[df_['predicted_GTcons_label'] == 0 & ]"
   ]
  },
  {
   "cell_type": "code",
   "execution_count": null,
   "metadata": {},
   "outputs": [],
   "source": [
    "plt.subplot(321)\n",
    "plt.scatter(Ill300x_ref_00, Ill300x_alt_00, marker=\">\", alpha = 0.5)\n",
    "\n",
    "plt.subplot(322)\n",
    "plt.scatter(Ill300x_ref_01, Ill300x_alt_01, marker=(5, 0), alpha = 0.5)\n",
    "\n",
    "plt.subplot(323)\n",
    "plt.scatter(Ill300x_ref_02, Ill300x_alt_02, marker=(5, 0), alpha = 0.5)\n",
    "plt.show()\n"
   ]
  },
  {
   "cell_type": "code",
   "execution_count": null,
   "metadata": {},
   "outputs": [],
   "source": [
    "g = sns.FacetGrid(df_, row=\"GTcons\", col=\"predicted_GTcons_label\", margin_titles=True, size=2.5, hue = \"Size\")\n",
    "g.map(plt.scatter, \"pacbio.ref_count\", \"pacbio.alt_count\", edgecolor=\"white\", lw=.5);\n",
    "g.set_axis_labels(\"Alt Count\", \"Ref Count\");\n",
    "g.set(xticks=[-50, 30, 500], yticks=[-2, 6, 100]);\n",
    "g.fig.subplots_adjust(wspace=.2, hspace=.2);\n",
    "plt.show(g)"
   ]
  },
  {
   "cell_type": "code",
   "execution_count": null,
   "metadata": {
    "collapsed": true
   },
   "outputs": [],
   "source": [
    "df_[\"pacbio_ref_count\"] = df_[\"pacbio.ref_count\"] + 0.1\n",
    "df_[\"pacbio_alt_count\"] = df_[\"pacbio.alt_count\"] + 0.1\n",
    "\n",
    "df_['ref_log'] = np.log10(df_.pacbio_ref_count)\n",
    "df_['alt_log'] = np.log10(df_.pacbio_alt_count)\n",
    "# df_\n",
    "# ins_Size.to_csv('ins_Size.csv', index=False)\n",
    "\n",
    "# all_df_del['abs_size'] = all_df_del['Size'].abs()\n",
    "# del_Size['log_size'] = np.log10(all_df_del.abs_size)\n",
    "# print del_Size.head(3)\n",
    "# del_Size.to_csv('del_Size.csv', index=False)"
   ]
  },
  {
   "cell_type": "code",
   "execution_count": null,
   "metadata": {
    "collapsed": true
   },
   "outputs": [],
   "source": [
    "#Size Bins\n",
    "bins = [0, 50, 100,500,1000,5000,10000,45516]\n",
    "df_['Size'] = df_['Size'].abs()\n",
    "group_names_size = ['0-50', '50-100', '100-500', '500-1000', '1000-5000', '5000-10000', '10000-45516']\n",
    "df_['size_bin'] = pd.cut(df_['Size'], bins, labels=group_names_size)"
   ]
  },
  {
   "cell_type": "code",
   "execution_count": null,
   "metadata": {},
   "outputs": [],
   "source": [
    "g = sns.FacetGrid(df_, row=\"GTcons\", col=\"predicted_GTcons_label\", margin_titles=True, size=2.5, hue = \"size_bin\", palette=\"GnBu_d\")\n",
    "g.map(plt.scatter, \"ref_log\", \"alt_log\", edgecolor=\"white\", lw=.5, alpha=.3);\n",
    "g.set_axis_labels(\"Alt Count\", \"Ref Count\");\n",
    "g.set(xticks=[-1, 2.85], yticks=[-1, 2.75]);\n",
    "g.fig.subplots_adjust(wspace=.2, hspace=.2);\n",
    "g.add_legend();\n",
    "plt.savefig('/Volumes/lesleydata/SVanalyzer_ML/Nov172017_EDA/combined_histo/PB_altRef_size.png', bbox_inches='tight')\n",
    "\n",
    "\n",
    "plt.show(g)"
   ]
  },
  {
   "cell_type": "code",
   "execution_count": null,
   "metadata": {
    "collapsed": true
   },
   "outputs": [],
   "source": [
    "#Size Bins\n",
    "bins = [0, 0.25, 0.5,0.75, 1]\n",
    "group_names_size = ['0-0.25', '0.25-0.5', '0.5-0.75', '0.75-1']\n",
    "df_['TR_bin'] = pd.cut(df_['tandemrep_pct'], bins, labels=group_names_size)"
   ]
  },
  {
   "cell_type": "code",
   "execution_count": null,
   "metadata": {
    "scrolled": true
   },
   "outputs": [],
   "source": [
    "g = sns.FacetGrid(df_, row=\"GTcons\", col=\"predicted_GTcons_label\", margin_titles=True, size=2.5, hue = \"TR_bin\", palette=\"PuBuGn\")\n",
    "g.map(plt.scatter, \"ref_log\", \"alt_log\", edgecolor=\"white\", lw=.5, alpha=.3);\n",
    "g.set_axis_labels(\"Alt Count\", \"Ref Count\");\n",
    "g.set(xticks=[-1, 2.85], yticks=[-1, 2.75]);\n",
    "g.fig.subplots_adjust(wspace=.2, hspace=.2);\n",
    "g.add_legend();\n",
    "plt.savefig('/Volumes/lesleydata/SVanalyzer_ML/Nov172017_EDA/combined_histo/PB_altRef_TR.png', bbox_inches='tight')\n",
    "\n",
    "\n",
    "plt.show(g)"
   ]
  },
  {
   "cell_type": "raw",
   "metadata": {},
   "source": []
  },
  {
   "cell_type": "code",
   "execution_count": null,
   "metadata": {
    "collapsed": true
   },
   "outputs": [],
   "source": []
  },
  {
   "cell_type": "code",
   "execution_count": null,
   "metadata": {
    "collapsed": true
   },
   "outputs": [],
   "source": [
    "df_[\"Ill300x_ref_count\"] = df_[\"Ill300x.ref_count\"] + 0.1\n",
    "df_[\"Ill300x_alt_count\"] = df_[\"Ill300x.alt_count\"] + 0.1\n",
    "\n",
    "df_['ref_log'] = np.log10(df_.Ill300x_ref_count)\n",
    "df_['alt_log'] = np.log10(df_.Ill300x_alt_count)\n",
    "# df_\n",
    "# ins_Size.to_csv('ins_Size.csv', index=False)\n",
    "\n",
    "# all_df_del['abs_size'] = all_df_del['Size'].abs()\n",
    "# del_Size['log_size'] = np.log10(all_df_del.abs_size)\n",
    "# print del_Size.head(3)\n",
    "# del_Size.to_csv('del_Size.csv', index=False)"
   ]
  },
  {
   "cell_type": "code",
   "execution_count": null,
   "metadata": {
    "collapsed": true
   },
   "outputs": [],
   "source": [
    "#Size Bins\n",
    "bins = [0, 50, 100,500,1000,5000,10000,45516]\n",
    "df_['Size'] = df_['Size'].abs()\n",
    "group_names_size = ['0-50', '50-100', '100-500', '500-1000', '1000-5000', '5000-10000', '10000-45516']\n",
    "df_['size_bin'] = pd.cut(df_['Size'], bins, labels=group_names_size)"
   ]
  },
  {
   "cell_type": "code",
   "execution_count": null,
   "metadata": {},
   "outputs": [],
   "source": [
    "g = sns.FacetGrid(df_, row=\"GTcons\", col=\"predicted_GTcons_label\", margin_titles=True, size=2.5, hue = \"size_bin\", palette=\"GnBu_d\")\n",
    "g.map(plt.scatter, \"ref_log\", \"alt_log\", edgecolor=\"white\", lw=.5, alpha=.3);\n",
    "g.set_axis_labels(\"Alt Count\", \"Ref Count\");\n",
    "g.set(xticks=[-1, 2.85], yticks=[-1, 2.75]);\n",
    "g.fig.subplots_adjust(wspace=.2, hspace=.2);\n",
    "g.add_legend();\n",
    "plt.savefig('/Volumes/lesleydata/SVanalyzer_ML/Nov172017_EDA/combined_histo/300x_altRef_size.png', bbox_inches='tight')\n",
    "\n",
    "\n",
    "plt.show(g)"
   ]
  },
  {
   "cell_type": "code",
   "execution_count": null,
   "metadata": {
    "collapsed": true
   },
   "outputs": [],
   "source": [
    "#Size Bins\n",
    "bins = [0, 0.25, 0.5,0.75, 1]\n",
    "group_names_size = ['0-0.25', '0.25-0.5', '0.5-0.75', '0.75-1']\n",
    "df_['TR_bin'] = pd.cut(df_['tandemrep_pct'], bins, labels=group_names_size)"
   ]
  },
  {
   "cell_type": "code",
   "execution_count": null,
   "metadata": {
    "scrolled": false
   },
   "outputs": [],
   "source": [
    "g = sns.FacetGrid(df_, row=\"GTcons\", col=\"predicted_GTcons_label\", margin_titles=True, size=2.5, hue = \"TR_bin\", palette=\"PuBuGn\")\n",
    "g.map(plt.scatter, \"ref_log\", \"alt_log\", edgecolor=\"white\", lw=.5, alpha=.3);\n",
    "g.set_axis_labels(\"Alt Count\", \"Ref Count\");\n",
    "g.set(xticks=[-1, 2.85], yticks=[-1, 2.75]);\n",
    "g.fig.subplots_adjust(wspace=.2, hspace=.2);\n",
    "g.add_legend();\n",
    "plt.savefig('/Volumes/lesleydata/SVanalyzer_ML/Nov172017_EDA/combined_histo/300x_altRef_TR.png', bbox_inches='tight')\n",
    "\n",
    "\n",
    "plt.show(g)"
   ]
  },
  {
   "cell_type": "code",
   "execution_count": null,
   "metadata": {
    "collapsed": true
   },
   "outputs": [],
   "source": []
  },
  {
   "cell_type": "code",
   "execution_count": null,
   "metadata": {
    "collapsed": true,
    "scrolled": true
   },
   "outputs": [],
   "source": [
    "p = Histogram(df_100_, values='Ill250.alt_reason_alignmentScore', color='GTcons', bins=123,\n",
    "              title=\"Ill250.alt_reason_alignmentScore\",\n",
    "              legend='top_right')\n",
    "\n",
    "output_file(\"Ill250.alt_reason_alignmentScore_histo.html\")\n",
    "\n",
    "show(p)"
   ]
  },
  {
   "cell_type": "code",
   "execution_count": null,
   "metadata": {
    "scrolled": true
   },
   "outputs": [],
   "source": [
    "p = Histogram(df_3, values='pacbio.ref_count', color='GTcons', bins=48,\n",
    "              title=\"PB: Reference Count\",\n",
    "              legend='top_right')\n",
    "\n",
    "output_file(\"PB.ref_count_histo.html\")\n",
    "\n",
    "show(p)"
   ]
  },
  {
   "cell_type": "code",
   "execution_count": null,
   "metadata": {
    "collapsed": true,
    "scrolled": false
   },
   "outputs": [],
   "source": [
    "p = Histogram(df_3, values='Ill250.alt_count', color='GTcons', bins=30\n",
    "              ,\n",
    "              title=\"GTcons Label Distribution: Illumnia 250bp alternate read count [Ill250.alt_count]\",\n",
    "              legend='top_right')\n",
    "\n",
    "output_file(\"Ill250.alt_count_histo.html\")\n",
    "\n",
    "show(p)"
   ]
  },
  {
   "cell_type": "markdown",
   "metadata": {},
   "source": [
    "**NOTE: Differing bin width**\n",
    "    \n",
    "[If all values are equal, the result is a single bin with arbitrary width](http://bokeh.pydata.org/en/0.12.0/docs/reference/charts.html)    \n",
    "    "
   ]
  },
  {
   "cell_type": "markdown",
   "metadata": {},
   "source": [
    "[Pair plot Resource](https://www.youtube.com/watch?v=cpZExlOKFH4)"
   ]
  },
  {
   "cell_type": "markdown",
   "metadata": {
    "collapsed": true
   },
   "source": [
    "**Variables that total 0.8627**"
   ]
  },
  {
   "cell_type": "code",
   "execution_count": null,
   "metadata": {
    "collapsed": true
   },
   "outputs": [],
   "source": [
    "df_feat = df[['Ill300x.ref_count','pacbio.ref_reason_alignmentScore','Ill300x.ref_reason_alignmentScore','Ill250.alt_count','Ill250.alt_reason_alignmentScore','pacbio.ref_count','Ill250.ref_reason_alignmentScore','Ill250.ref_count','pacbio.alt_count','pacbio.alt_reason_alignmentScore','Ill250.alt_insertSize_std','pacbio.ref_insertSize_std','Ill250.alt_alnScore_std','pacbio.ref_alnScore_std','Ill300x.alt_count','Ill300x.alt_reason_alignmentScore','pacbio.alt_insertSize_std','pacbio.alt_alnScore_std','Ill300x.alt_insertSize_std','Ill250.alt_insertSize_mean','pacbio.alt_insertSize_mean','Ill250.alt_alnScore_mean','pacbio.ref_insertSize_mean','IllMP.ref_reason_alignmentScore','pacbio.ref_alnScore_mean','IllMP.ref_count','IllMP.alt_insertSize_mean','Ill250.ref_insertSize_std','IllMP.alt_reason_alignmentScore','IllMP.ref_alnScore_std','pacbio.alt_alnScore_mean','IllMP.alt_alnScore_mean', 'GTcons']]"
   ]
  },
  {
   "cell_type": "code",
   "execution_count": null,
   "metadata": {
    "collapsed": true,
    "scrolled": true
   },
   "outputs": [],
   "source": [
    "g = sns.pairplot(df_feat, hue=\"GTcons\")\n",
    "plt.show"
   ]
  },
  {
   "cell_type": "code",
   "execution_count": null,
   "metadata": {
    "collapsed": true
   },
   "outputs": [],
   "source": [
    "sns.pairplot(df_feat, hue=\"GTcons\")"
   ]
  },
  {
   "cell_type": "code",
   "execution_count": null,
   "metadata": {
    "collapsed": true
   },
   "outputs": [],
   "source": [
    "plt.show(g)"
   ]
  },
  {
   "cell_type": "code",
   "execution_count": null,
   "metadata": {
    "collapsed": true
   },
   "outputs": [],
   "source": [
    "g"
   ]
  },
  {
   "cell_type": "code",
   "execution_count": null,
   "metadata": {
    "collapsed": true
   },
   "outputs": [],
   "source": []
  }
 ],
 "metadata": {
  "kernelspec": {
   "display_name": "Python [NIHFAES]",
   "language": "python",
   "name": "Python [NIHFAES]"
  },
  "language_info": {
   "codemirror_mode": {
    "name": "ipython",
    "version": 3
   },
   "file_extension": ".py",
   "mimetype": "text/x-python",
   "name": "python",
   "nbconvert_exporter": "python",
   "pygments_lexer": "ipython3",
   "version": "3.5.2"
  }
 },
 "nbformat": 4,
 "nbformat_minor": 2
}
