{
 "cells": [
  {
   "cell_type": "markdown",
   "metadata": {},
   "source": [
    "### TenX: GTcons\n",
    "\n",
    "* The following notebook is trained on data generated from revised R script [Oct 12 2017]\n",
    "    * Exact Match [1] and Homozygous [0] Reference data points\n",
    "    * Removed all data points with Gtcons and GTconswithoutXX -1\n",
    "* 5k randomly selected deletions test data was also processed through same R script\n",
    "* Balanced Training Set for GTcons labels\n",
    "    * 200 Homozygous Reference\n",
    "    * 200 Heterozygous Variant\n",
    "    * 194 Homozygous Variant\n",
    "* **Train/Prediction Label:** consensus genotype"
   ]
  },
  {
   "cell_type": "code",
   "execution_count": 1,
   "metadata": {},
   "outputs": [
    {
     "name": "stderr",
     "output_type": "stream",
     "text": [
      "/Users/lmc2/anaconda/envs/NIHFAES/lib/python3.5/site-packages/sklearn/cross_validation.py:44: DeprecationWarning:\n",
      "\n",
      "This module was deprecated in version 0.18 in favor of the model_selection module into which all the refactored classes and functions are moved. Also note that the interface of the new CV iterators are different from that of this module. This module will be removed in 0.20.\n",
      "\n",
      "/Users/lmc2/anaconda/envs/NIHFAES/lib/python3.5/site-packages/sklearn/grid_search.py:43: DeprecationWarning:\n",
      "\n",
      "This module was deprecated in version 0.18 in favor of the model_selection module into which all the refactored classes and functions are moved. This module will be removed in 0.20.\n",
      "\n"
     ]
    }
   ],
   "source": [
    "\"\"\"\n",
    "Imports\n",
    "\"\"\"\n",
    "import pandas as pd\n",
    "import numpy as np\n",
    "from fancyimpute import KNN\n",
    "import matplotlib.pyplot as plt\n",
    "from sklearn import preprocessing\n",
    "from sklearn.preprocessing import LabelEncoder\n",
    "from sklearn.model_selection import LeaveOneOut\n",
    "from scipy.stats import ks_2samp\n",
    "from scipy import stats\n",
    "from matplotlib import pyplot\n",
    "from sklearn import preprocessing\n",
    "from scipy.linalg import svd\n",
    "from sklearn.decomposition import TruncatedSVD\n",
    "from sklearn.ensemble import RandomForestClassifier\n",
    "from sklearn.metrics import roc_auc_score\n",
    "import seaborn as sns\n",
    "from sklearn.manifold import TSNE\n",
    "from sklearn.decomposition import PCA as sklearnPCA\n",
    "import plotly.plotly as py\n",
    "from sklearn.cluster import DBSCAN\n",
    "from sklearn.model_selection import train_test_split\n",
    "from sklearn import metrics\n",
    "from sklearn.grid_search import GridSearchCV\n",
    "from sklearn.metrics import f1_score, precision_score\n",
    "from sklearn import preprocessing\n",
    "from ggplot import *\n",
    "from bokeh.charts import TimeSeries\n",
    "from bokeh.models import HoverTool\n",
    "from bokeh.plotting import show\n",
    "from bokeh.charts import Scatter, Histogram, output_file, show\n",
    "from bokeh.plotting import figure, show, output_file, ColumnDataSource\n",
    "from bokeh.io import output_notebook\n",
    "from bokeh.charts import Bar, output_file, show\n",
    "import bokeh.palettes as palettes\n",
    "from bokeh.models import HoverTool, BoxSelectTool, Legend\n",
    "from sklearn import (manifold, datasets, decomposition, ensemble,\n",
    "                     discriminant_analysis, random_projection)"
   ]
  },
  {
   "cell_type": "code",
   "execution_count": 2,
   "metadata": {},
   "outputs": [
    {
     "data": {
      "text/html": [
       "<div>\n",
       "<table border=\"1\" class=\"dataframe\">\n",
       "  <thead>\n",
       "    <tr style=\"text-align: right;\">\n",
       "      <th></th>\n",
       "      <th>chrom</th>\n",
       "      <th>sample</th>\n",
       "      <th>id</th>\n",
       "      <th>start</th>\n",
       "      <th>end</th>\n",
       "      <th>Size</th>\n",
       "      <th>type</th>\n",
       "      <th>SVtype</th>\n",
       "      <th>refN_cnt</th>\n",
       "      <th>refN_pct</th>\n",
       "      <th>...</th>\n",
       "      <th>TenX.HP2_amb_reason_orientation_alignmentScore</th>\n",
       "      <th>TenX.HP2_amb_reason_orientation_orientation</th>\n",
       "      <th>TenX.HP2_amb_reason_same_scores</th>\n",
       "      <th>TenX.HP2_ref_alnScore_mean</th>\n",
       "      <th>TenX.HP2_ref_alnScore_std</th>\n",
       "      <th>TenX.HP2_ref_count</th>\n",
       "      <th>TenX.HP2_ref_insertSize_mean</th>\n",
       "      <th>TenX.HP2_ref_insertSize_std</th>\n",
       "      <th>TenX.HP2_ref_reason_alignmentScore</th>\n",
       "      <th>TenX.HP2_ref_reason_orientation</th>\n",
       "    </tr>\n",
       "  </thead>\n",
       "  <tbody>\n",
       "    <tr>\n",
       "      <th>0</th>\n",
       "      <td>1</td>\n",
       "      <td>HG002</td>\n",
       "      <td>21</td>\n",
       "      <td>65326531</td>\n",
       "      <td>65326651</td>\n",
       "      <td>-120</td>\n",
       "      <td>Deletion</td>\n",
       "      <td>Deletion</td>\n",
       "      <td>0</td>\n",
       "      <td>0</td>\n",
       "      <td>...</td>\n",
       "      <td>1.0</td>\n",
       "      <td>6.0</td>\n",
       "      <td>5.0</td>\n",
       "      <td>529.266667</td>\n",
       "      <td>19.624701</td>\n",
       "      <td>45.0</td>\n",
       "      <td>350.111111</td>\n",
       "      <td>102.531127</td>\n",
       "      <td>45.0</td>\n",
       "      <td>0.0</td>\n",
       "    </tr>\n",
       "  </tbody>\n",
       "</table>\n",
       "<p>1 rows × 76 columns</p>\n",
       "</div>"
      ],
      "text/plain": [
       "  chrom sample  id     start       end  Size      type    SVtype  refN_cnt  \\\n",
       "0     1  HG002  21  65326531  65326651  -120  Deletion  Deletion         0   \n",
       "\n",
       "   refN_pct               ...                 \\\n",
       "0         0               ...                  \n",
       "\n",
       "   TenX.HP2_amb_reason_orientation_alignmentScore  \\\n",
       "0                                             1.0   \n",
       "\n",
       "   TenX.HP2_amb_reason_orientation_orientation  \\\n",
       "0                                          6.0   \n",
       "\n",
       "   TenX.HP2_amb_reason_same_scores  TenX.HP2_ref_alnScore_mean  \\\n",
       "0                              5.0                  529.266667   \n",
       "\n",
       "   TenX.HP2_ref_alnScore_std  TenX.HP2_ref_count  \\\n",
       "0                  19.624701                45.0   \n",
       "\n",
       "   TenX.HP2_ref_insertSize_mean  TenX.HP2_ref_insertSize_std  \\\n",
       "0                    350.111111                   102.531127   \n",
       "\n",
       "   TenX.HP2_ref_reason_alignmentScore  TenX.HP2_ref_reason_orientation  \n",
       "0                                45.0                              0.0  \n",
       "\n",
       "[1 rows x 76 columns]"
      ]
     },
     "execution_count": 2,
     "metadata": {},
     "output_type": "execute_result"
    }
   ],
   "source": [
    "# Import Training Data\n",
    "# SVanalyzer generated training data\n",
    "df_train = pd.read_csv('/Volumes/lesleydata/SVanalyzer_ML/Oct122017_Revised_R/dataframes/training_data/tech_sep/HG002/DEL/TenX_EM_HR_HG002_DEL_balanced_label_min1.csv')\n",
    "df_train_2 = pd.read_csv('/Volumes/lesleydata/SVanalyzer_ML/Oct122017_Revised_R/dataframes/training_data/tech_sep/HG002/DEL/TenX_EM_HR_HG002_DEL_balanced_label_min1.csv')\n",
    "df_train.rename(columns={'size': 'Size'}, inplace=True)\n",
    "df_train.head(1)"
   ]
  },
  {
   "cell_type": "code",
   "execution_count": 3,
   "metadata": {
    "collapsed": true
   },
   "outputs": [],
   "source": [
    "train_set = pd.DataFrame()\n",
    "train_set = df_train_2"
   ]
  },
  {
   "cell_type": "code",
   "execution_count": 4,
   "metadata": {
    "collapsed": true
   },
   "outputs": [],
   "source": [
    "train_set['GTcons'].replace(0, 'Homozygous_Reference', inplace=True)\n",
    "train_set['GTcons'].replace(1, 'Heterozygous_Variant', inplace=True)\n",
    "train_set['GTcons'].replace(2, 'Homozygous_Variant', inplace=True)"
   ]
  },
  {
   "cell_type": "markdown",
   "metadata": {},
   "source": [
    "<a id='imbalance'></a>"
   ]
  },
  {
   "cell_type": "code",
   "execution_count": 5,
   "metadata": {},
   "outputs": [
    {
     "data": {
      "text/plain": [
       "Homozygous_Reference    200\n",
       "Heterozygous_Variant    200\n",
       "Homozygous_Variant      194\n",
       "dtype: int64"
      ]
     },
     "execution_count": 5,
     "metadata": {},
     "output_type": "execute_result"
    }
   ],
   "source": [
    "pd.value_counts(train_set['GTcons'].values, sort=False)"
   ]
  },
  {
   "cell_type": "code",
   "execution_count": 6,
   "metadata": {
    "collapsed": true
   },
   "outputs": [],
   "source": [
    "# Train the model only on the rows that have an Exact Match or Homozygous Reference Label\n",
    "# This step removes any row that has in 'Inaccurate Call' label\n",
    "df_train = df_train[(df_train['Label'] == 1) | (df_train['Label'] == 0)]\n",
    "df_train_2 = df_train_2[(df_train_2['Label'] == 1) | (df_train_2['Label'] == 0)]"
   ]
  },
  {
   "cell_type": "code",
   "execution_count": 7,
   "metadata": {},
   "outputs": [
    {
     "data": {
      "text/plain": [
       "0    164\n",
       "1    430\n",
       "dtype: int64"
      ]
     },
     "execution_count": 7,
     "metadata": {},
     "output_type": "execute_result"
    }
   ],
   "source": [
    "# There are only Exact Match [1] and Homozygous Reference Labels [0]\n",
    "pd.value_counts(df_train['Label'].values, sort=False)"
   ]
  },
  {
   "cell_type": "markdown",
   "metadata": {},
   "source": [
    "<a id='hom_ref'></a>"
   ]
  },
  {
   "cell_type": "code",
   "execution_count": 8,
   "metadata": {},
   "outputs": [
    {
     "data": {
      "text/html": [
       "<div>\n",
       "<table border=\"1\" class=\"dataframe\">\n",
       "  <thead>\n",
       "    <tr style=\"text-align: right;\">\n",
       "      <th></th>\n",
       "      <th>chrom</th>\n",
       "      <th>sample</th>\n",
       "      <th>id</th>\n",
       "      <th>start</th>\n",
       "      <th>end</th>\n",
       "      <th>Size</th>\n",
       "      <th>type</th>\n",
       "      <th>SVtype</th>\n",
       "      <th>refN_cnt</th>\n",
       "      <th>refN_pct</th>\n",
       "      <th>...</th>\n",
       "      <th>TenX.HP2_amb_reason_orientation_orientation</th>\n",
       "      <th>TenX.HP2_amb_reason_same_scores</th>\n",
       "      <th>TenX.HP2_ref_alnScore_mean</th>\n",
       "      <th>TenX.HP2_ref_alnScore_std</th>\n",
       "      <th>TenX.HP2_ref_count</th>\n",
       "      <th>TenX.HP2_ref_insertSize_mean</th>\n",
       "      <th>TenX.HP2_ref_insertSize_std</th>\n",
       "      <th>TenX.HP2_ref_reason_alignmentScore</th>\n",
       "      <th>TenX.HP2_ref_reason_insertSizeScore</th>\n",
       "      <th>TenX.HP2_ref_reason_orientation</th>\n",
       "    </tr>\n",
       "  </thead>\n",
       "  <tbody>\n",
       "    <tr>\n",
       "      <th>0</th>\n",
       "      <td>1</td>\n",
       "      <td>HG002</td>\n",
       "      <td>859</td>\n",
       "      <td>37568322</td>\n",
       "      <td>37568587</td>\n",
       "      <td>-115</td>\n",
       "      <td>Insertion</td>\n",
       "      <td>Deletion</td>\n",
       "      <td>0</td>\n",
       "      <td>0</td>\n",
       "      <td>...</td>\n",
       "      <td>24.0</td>\n",
       "      <td>0.0</td>\n",
       "      <td>529.093023</td>\n",
       "      <td>21.757451</td>\n",
       "      <td>43.0</td>\n",
       "      <td>348.418605</td>\n",
       "      <td>115.713606</td>\n",
       "      <td>40.0</td>\n",
       "      <td>0.0</td>\n",
       "      <td>3.0</td>\n",
       "    </tr>\n",
       "  </tbody>\n",
       "</table>\n",
       "<p>1 rows × 83 columns</p>\n",
       "</div>"
      ],
      "text/plain": [
       "  chrom sample   id     start       end  Size       type    SVtype  refN_cnt  \\\n",
       "0     1  HG002  859  37568322  37568587  -115  Insertion  Deletion         0   \n",
       "\n",
       "   refN_pct               ...                 \\\n",
       "0         0               ...                  \n",
       "\n",
       "   TenX.HP2_amb_reason_orientation_orientation  \\\n",
       "0                                         24.0   \n",
       "\n",
       "   TenX.HP2_amb_reason_same_scores  TenX.HP2_ref_alnScore_mean  \\\n",
       "0                              0.0                  529.093023   \n",
       "\n",
       "   TenX.HP2_ref_alnScore_std  TenX.HP2_ref_count  \\\n",
       "0                  21.757451                43.0   \n",
       "\n",
       "   TenX.HP2_ref_insertSize_mean  TenX.HP2_ref_insertSize_std  \\\n",
       "0                    348.418605                   115.713606   \n",
       "\n",
       "   TenX.HP2_ref_reason_alignmentScore  TenX.HP2_ref_reason_insertSizeScore  \\\n",
       "0                                40.0                                  0.0   \n",
       "\n",
       "   TenX.HP2_ref_reason_orientation  \n",
       "0                              3.0  \n",
       "\n",
       "[1 rows x 83 columns]"
      ]
     },
     "execution_count": 8,
     "metadata": {},
     "output_type": "execute_result"
    }
   ],
   "source": [
    "# Import Test Data\n",
    "# SVanalyzer generated training data\n",
    "df_test = pd.read_csv('/Volumes/lesleydata/SVanalyzer_ML/Oct122017_Revised_R/dataframes/test/final_df/tech_sep/DEL/HG002/TenX_HG002_DEL_min1.csv')\n",
    "df_test_2 = pd.read_csv('/Volumes/lesleydata/SVanalyzer_ML/Oct122017_Revised_R/dataframes/test/final_df/tech_sep/DEL/HG002/TenX_HG002_DEL_min1.csv')\n",
    "df_test.rename(columns={'size': 'Size'}, inplace=True)\n",
    "df_test.head(1)"
   ]
  },
  {
   "cell_type": "code",
   "execution_count": 9,
   "metadata": {},
   "outputs": [
    {
     "data": {
      "text/plain": [
       "{'Label'}"
      ]
     },
     "execution_count": 9,
     "metadata": {},
     "output_type": "execute_result"
    }
   ],
   "source": [
    "# Store header names in lists and find names that are NOT contained in BOTH lists\n",
    "c = list(df_train.columns.values)\n",
    "d = list(df_test.columns.values)\n",
    "set(c) - set(d)"
   ]
  },
  {
   "cell_type": "code",
   "execution_count": 10,
   "metadata": {
    "collapsed": true
   },
   "outputs": [],
   "source": [
    "### Drop columns that are not shared by both dataframes\n",
    "df_train.drop(['Label'], axis=1, inplace = True)\n",
    "df_train.drop(['GTconswithoutTenX.GT'], axis=1, inplace = True)\n",
    "df_train.drop(['GTconflict'], axis=1, inplace = True)\n",
    "df_train.drop(['GTsupp'], axis=1, inplace = True)\n",
    "df_train.drop(['sample'], axis=1, inplace = True)\n",
    "df_train.drop(['SVtype'], axis=1, inplace = True)\n",
    "df_train.drop(['type'], axis=1, inplace = True)\n",
    "df_train.drop(['id'], axis=1, inplace = True)"
   ]
  },
  {
   "cell_type": "code",
   "execution_count": 11,
   "metadata": {},
   "outputs": [
    {
     "data": {
      "text/html": [
       "<div>\n",
       "<table border=\"1\" class=\"dataframe\">\n",
       "  <thead>\n",
       "    <tr style=\"text-align: right;\">\n",
       "      <th></th>\n",
       "      <th>chrom</th>\n",
       "      <th>start</th>\n",
       "      <th>end</th>\n",
       "      <th>Size</th>\n",
       "      <th>refN_cnt</th>\n",
       "      <th>refN_pct</th>\n",
       "      <th>segdup_cnt</th>\n",
       "      <th>segdup_pct</th>\n",
       "      <th>tandemrep_cnt</th>\n",
       "      <th>tandemrep_pct</th>\n",
       "      <th>...</th>\n",
       "      <th>TenX.HP2_amb_reason_orientation_alignmentScore</th>\n",
       "      <th>TenX.HP2_amb_reason_orientation_orientation</th>\n",
       "      <th>TenX.HP2_amb_reason_same_scores</th>\n",
       "      <th>TenX.HP2_ref_alnScore_mean</th>\n",
       "      <th>TenX.HP2_ref_alnScore_std</th>\n",
       "      <th>TenX.HP2_ref_count</th>\n",
       "      <th>TenX.HP2_ref_insertSize_mean</th>\n",
       "      <th>TenX.HP2_ref_insertSize_std</th>\n",
       "      <th>TenX.HP2_ref_reason_alignmentScore</th>\n",
       "      <th>TenX.HP2_ref_reason_orientation</th>\n",
       "    </tr>\n",
       "  </thead>\n",
       "  <tbody>\n",
       "    <tr>\n",
       "      <th>0</th>\n",
       "      <td>1</td>\n",
       "      <td>65326531</td>\n",
       "      <td>65326651</td>\n",
       "      <td>-120</td>\n",
       "      <td>0</td>\n",
       "      <td>0</td>\n",
       "      <td>0</td>\n",
       "      <td>0.0</td>\n",
       "      <td>1</td>\n",
       "      <td>1.0</td>\n",
       "      <td>...</td>\n",
       "      <td>1.0</td>\n",
       "      <td>6.0</td>\n",
       "      <td>5.0</td>\n",
       "      <td>529.266667</td>\n",
       "      <td>19.624701</td>\n",
       "      <td>45.0</td>\n",
       "      <td>350.111111</td>\n",
       "      <td>102.531127</td>\n",
       "      <td>45.0</td>\n",
       "      <td>0.0</td>\n",
       "    </tr>\n",
       "  </tbody>\n",
       "</table>\n",
       "<p>1 rows × 68 columns</p>\n",
       "</div>"
      ],
      "text/plain": [
       "  chrom     start       end  Size  refN_cnt  refN_pct  segdup_cnt  segdup_pct  \\\n",
       "0     1  65326531  65326651  -120         0         0           0         0.0   \n",
       "\n",
       "   tandemrep_cnt  tandemrep_pct               ...                 \\\n",
       "0              1            1.0               ...                  \n",
       "\n",
       "   TenX.HP2_amb_reason_orientation_alignmentScore  \\\n",
       "0                                             1.0   \n",
       "\n",
       "   TenX.HP2_amb_reason_orientation_orientation  \\\n",
       "0                                          6.0   \n",
       "\n",
       "   TenX.HP2_amb_reason_same_scores  TenX.HP2_ref_alnScore_mean  \\\n",
       "0                              5.0                  529.266667   \n",
       "\n",
       "   TenX.HP2_ref_alnScore_std  TenX.HP2_ref_count  \\\n",
       "0                  19.624701                45.0   \n",
       "\n",
       "   TenX.HP2_ref_insertSize_mean  TenX.HP2_ref_insertSize_std  \\\n",
       "0                    350.111111                   102.531127   \n",
       "\n",
       "   TenX.HP2_ref_reason_alignmentScore  TenX.HP2_ref_reason_orientation  \n",
       "0                                45.0                              0.0  \n",
       "\n",
       "[1 rows x 68 columns]"
      ]
     },
     "execution_count": 11,
     "metadata": {},
     "output_type": "execute_result"
    }
   ],
   "source": [
    "df_train.head(1)"
   ]
  },
  {
   "cell_type": "code",
   "execution_count": 12,
   "metadata": {
    "collapsed": true
   },
   "outputs": [],
   "source": [
    "df_train['chrom'].replace('X', 23, inplace=True)\n",
    "df_train['chrom'].replace('Y', 24, inplace=True)\n",
    "df_test['chrom'].replace('X', 23, inplace=True)\n",
    "df_test['chrom'].replace('Y', 24, inplace=True)"
   ]
  },
  {
   "cell_type": "code",
   "execution_count": 13,
   "metadata": {},
   "outputs": [
    {
     "data": {
      "text/plain": [
       "{'GTconflict',\n",
       " 'GTconswithoutTenX.GT',\n",
       " 'GTsupp',\n",
       " 'SVtype',\n",
       " 'TenX.HP1_amb_reason_insertSizeScore_insertSizeScore',\n",
       " 'TenX.HP1_amb_reason_insertSizeScore_orientation',\n",
       " 'TenX.HP1_amb_reason_orientation_insertSizeScore',\n",
       " 'TenX.HP1_ref_reason_insertSizeScore',\n",
       " 'TenX.HP2_amb_reason_insertSizeScore_insertSizeScore',\n",
       " 'TenX.HP2_amb_reason_insertSizeScore_orientation',\n",
       " 'TenX.HP2_amb_reason_orientation_insertSizeScore',\n",
       " 'TenX.HP2_ref_reason_insertSizeScore',\n",
       " 'id',\n",
       " 'sample',\n",
       " 'type'}"
      ]
     },
     "execution_count": 13,
     "metadata": {},
     "output_type": "execute_result"
    }
   ],
   "source": [
    "# Store header names in lists and find names that are NOT contained in BOTH lists\n",
    "c = list(df_train.columns.values)\n",
    "d = list(df_test.columns.values)\n",
    "set(d) - set(c)"
   ]
  },
  {
   "cell_type": "code",
   "execution_count": 14,
   "metadata": {
    "collapsed": true
   },
   "outputs": [],
   "source": [
    "### Drop columns that are not shared by both dataframes\n",
    "df_test.drop(['TenX.HP1_amb_reason_insertSizeScore_insertSizeScore'], axis=1, inplace = True)\n",
    "df_test.drop(['TenX.HP1_amb_reason_insertSizeScore_orientation'], axis=1, inplace = True)\n",
    "df_test.drop(['TenX.HP1_amb_reason_orientation_insertSizeScore'], axis=1, inplace = True)\n",
    "df_test.drop(['TenX.HP1_ref_reason_insertSizeScore'], axis=1, inplace = True)\n",
    "df_test.drop(['TenX.HP2_amb_reason_insertSizeScore_insertSizeScore'], axis=1, inplace = True)\n",
    "df_test.drop(['TenX.HP2_amb_reason_insertSizeScore_orientation'], axis=1, inplace = True)\n",
    "df_test.drop(['TenX.HP2_amb_reason_orientation_insertSizeScore'], axis=1, inplace = True)\n",
    "df_test.drop(['TenX.HP2_ref_reason_insertSizeScore'], axis=1, inplace = True)\n",
    "df_test.drop(['GTconswithoutTenX.GT'], axis=1, inplace = True)\n",
    "df_test.drop(['GTcons'], axis=1, inplace = True)\n",
    "df_test.drop(['GTconflict'], axis=1, inplace = True)\n",
    "df_test.drop(['GTsupp'], axis=1, inplace = True)\n",
    "df_test.drop(['sample'], axis=1, inplace = True)\n",
    "df_test.drop(['SVtype'], axis=1, inplace = True)\n",
    "df_test.drop(['type'], axis=1, inplace = True)\n",
    "df_test.drop(['id'], axis=1, inplace = True)"
   ]
  },
  {
   "cell_type": "markdown",
   "metadata": {},
   "source": [
    "***\n",
    "Impute missing values using KNN\n",
    "***"
   ]
  },
  {
   "cell_type": "code",
   "execution_count": 15,
   "metadata": {},
   "outputs": [
    {
     "data": {
      "text/html": [
       "<div>\n",
       "<table border=\"1\" class=\"dataframe\">\n",
       "  <thead>\n",
       "    <tr style=\"text-align: right;\">\n",
       "      <th></th>\n",
       "      <th>chrom</th>\n",
       "      <th>start</th>\n",
       "      <th>end</th>\n",
       "      <th>Size</th>\n",
       "      <th>refN_cnt</th>\n",
       "      <th>refN_pct</th>\n",
       "      <th>segdup_cnt</th>\n",
       "      <th>segdup_pct</th>\n",
       "      <th>tandemrep_cnt</th>\n",
       "      <th>tandemrep_pct</th>\n",
       "      <th>...</th>\n",
       "      <th>TenX.HP2_amb_reason_orientation_alignmentScore</th>\n",
       "      <th>TenX.HP2_amb_reason_orientation_orientation</th>\n",
       "      <th>TenX.HP2_amb_reason_same_scores</th>\n",
       "      <th>TenX.HP2_ref_alnScore_mean</th>\n",
       "      <th>TenX.HP2_ref_alnScore_std</th>\n",
       "      <th>TenX.HP2_ref_count</th>\n",
       "      <th>TenX.HP2_ref_insertSize_mean</th>\n",
       "      <th>TenX.HP2_ref_insertSize_std</th>\n",
       "      <th>TenX.HP2_ref_reason_alignmentScore</th>\n",
       "      <th>TenX.HP2_ref_reason_orientation</th>\n",
       "    </tr>\n",
       "  </thead>\n",
       "  <tbody>\n",
       "    <tr>\n",
       "      <th>0</th>\n",
       "      <td>1</td>\n",
       "      <td>65326531</td>\n",
       "      <td>65326651</td>\n",
       "      <td>-120</td>\n",
       "      <td>0</td>\n",
       "      <td>0</td>\n",
       "      <td>0</td>\n",
       "      <td>0.0</td>\n",
       "      <td>1</td>\n",
       "      <td>1.0</td>\n",
       "      <td>...</td>\n",
       "      <td>1.0</td>\n",
       "      <td>6.0</td>\n",
       "      <td>5.0</td>\n",
       "      <td>529.266667</td>\n",
       "      <td>19.624701</td>\n",
       "      <td>45.0</td>\n",
       "      <td>350.111111</td>\n",
       "      <td>102.531127</td>\n",
       "      <td>45.0</td>\n",
       "      <td>0.0</td>\n",
       "    </tr>\n",
       "    <tr>\n",
       "      <th>1</th>\n",
       "      <td>1</td>\n",
       "      <td>83753489</td>\n",
       "      <td>83753698</td>\n",
       "      <td>-209</td>\n",
       "      <td>0</td>\n",
       "      <td>0</td>\n",
       "      <td>1</td>\n",
       "      <td>1.0</td>\n",
       "      <td>1</td>\n",
       "      <td>1.0</td>\n",
       "      <td>...</td>\n",
       "      <td>1.0</td>\n",
       "      <td>2.0</td>\n",
       "      <td>1.0</td>\n",
       "      <td>546.700000</td>\n",
       "      <td>11.424097</td>\n",
       "      <td>20.0</td>\n",
       "      <td>380.550000</td>\n",
       "      <td>104.843443</td>\n",
       "      <td>20.0</td>\n",
       "      <td>0.0</td>\n",
       "    </tr>\n",
       "    <tr>\n",
       "      <th>2</th>\n",
       "      <td>1</td>\n",
       "      <td>152326749</td>\n",
       "      <td>152326980</td>\n",
       "      <td>-231</td>\n",
       "      <td>0</td>\n",
       "      <td>0</td>\n",
       "      <td>1</td>\n",
       "      <td>1.0</td>\n",
       "      <td>0</td>\n",
       "      <td>0.0</td>\n",
       "      <td>...</td>\n",
       "      <td>1.0</td>\n",
       "      <td>5.0</td>\n",
       "      <td>1.0</td>\n",
       "      <td>544.958333</td>\n",
       "      <td>16.102482</td>\n",
       "      <td>24.0</td>\n",
       "      <td>377.916667</td>\n",
       "      <td>136.597620</td>\n",
       "      <td>22.0</td>\n",
       "      <td>2.0</td>\n",
       "    </tr>\n",
       "  </tbody>\n",
       "</table>\n",
       "<p>3 rows × 68 columns</p>\n",
       "</div>"
      ],
      "text/plain": [
       "  chrom      start        end  Size  refN_cnt  refN_pct  segdup_cnt  \\\n",
       "0     1   65326531   65326651  -120         0         0           0   \n",
       "1     1   83753489   83753698  -209         0         0           1   \n",
       "2     1  152326749  152326980  -231         0         0           1   \n",
       "\n",
       "   segdup_pct  tandemrep_cnt  tandemrep_pct               ...                 \\\n",
       "0         0.0              1            1.0               ...                  \n",
       "1         1.0              1            1.0               ...                  \n",
       "2         1.0              0            0.0               ...                  \n",
       "\n",
       "   TenX.HP2_amb_reason_orientation_alignmentScore  \\\n",
       "0                                             1.0   \n",
       "1                                             1.0   \n",
       "2                                             1.0   \n",
       "\n",
       "   TenX.HP2_amb_reason_orientation_orientation  \\\n",
       "0                                          6.0   \n",
       "1                                          2.0   \n",
       "2                                          5.0   \n",
       "\n",
       "   TenX.HP2_amb_reason_same_scores  TenX.HP2_ref_alnScore_mean  \\\n",
       "0                              5.0                  529.266667   \n",
       "1                              1.0                  546.700000   \n",
       "2                              1.0                  544.958333   \n",
       "\n",
       "   TenX.HP2_ref_alnScore_std  TenX.HP2_ref_count  \\\n",
       "0                  19.624701                45.0   \n",
       "1                  11.424097                20.0   \n",
       "2                  16.102482                24.0   \n",
       "\n",
       "   TenX.HP2_ref_insertSize_mean  TenX.HP2_ref_insertSize_std  \\\n",
       "0                    350.111111                   102.531127   \n",
       "1                    380.550000                   104.843443   \n",
       "2                    377.916667                   136.597620   \n",
       "\n",
       "   TenX.HP2_ref_reason_alignmentScore  TenX.HP2_ref_reason_orientation  \n",
       "0                                45.0                              0.0  \n",
       "1                                20.0                              0.0  \n",
       "2                                22.0                              2.0  \n",
       "\n",
       "[3 rows x 68 columns]"
      ]
     },
     "execution_count": 15,
     "metadata": {},
     "output_type": "execute_result"
    }
   ],
   "source": [
    "# Store training data in a new variable which will be converted to a matrix\n",
    "X = df_train\n",
    "X.head(3)"
   ]
  },
  {
   "cell_type": "code",
   "execution_count": 16,
   "metadata": {},
   "outputs": [
    {
     "name": "stdout",
     "output_type": "stream",
     "text": [
      "Imputing row 1/594 with 0 missing, elapsed time: 0.144\n",
      "Imputing row 101/594 with 0 missing, elapsed time: 0.186\n",
      "Imputing row 201/594 with 0 missing, elapsed time: 0.189\n",
      "Imputing row 301/594 with 0 missing, elapsed time: 0.190\n",
      "Imputing row 401/594 with 0 missing, elapsed time: 0.190\n",
      "Imputing row 501/594 with 0 missing, elapsed time: 0.195\n"
     ]
    }
   ],
   "source": [
    "# Convert dataframe to matrix\n",
    "X=X.as_matrix()\n",
    "\n",
    "#Imput missing values from three closest observations\n",
    "X_imputed=KNN(k=3).complete(X)\n",
    "X=pd.DataFrame(X_imputed)"
   ]
  },
  {
   "cell_type": "code",
   "execution_count": 17,
   "metadata": {},
   "outputs": [
    {
     "data": {
      "text/html": [
       "<div>\n",
       "<table border=\"1\" class=\"dataframe\">\n",
       "  <thead>\n",
       "    <tr style=\"text-align: right;\">\n",
       "      <th></th>\n",
       "      <th>chrom</th>\n",
       "      <th>start</th>\n",
       "      <th>end</th>\n",
       "      <th>Size</th>\n",
       "      <th>refN_cnt</th>\n",
       "      <th>refN_pct</th>\n",
       "      <th>segdup_cnt</th>\n",
       "      <th>segdup_pct</th>\n",
       "      <th>tandemrep_cnt</th>\n",
       "      <th>tandemrep_pct</th>\n",
       "      <th>...</th>\n",
       "      <th>TenX.HP2_amb_reason_orientation_alignmentScore</th>\n",
       "      <th>TenX.HP2_amb_reason_orientation_orientation</th>\n",
       "      <th>TenX.HP2_amb_reason_same_scores</th>\n",
       "      <th>TenX.HP2_ref_alnScore_mean</th>\n",
       "      <th>TenX.HP2_ref_alnScore_std</th>\n",
       "      <th>TenX.HP2_ref_count</th>\n",
       "      <th>TenX.HP2_ref_insertSize_mean</th>\n",
       "      <th>TenX.HP2_ref_insertSize_std</th>\n",
       "      <th>TenX.HP2_ref_reason_alignmentScore</th>\n",
       "      <th>TenX.HP2_ref_reason_orientation</th>\n",
       "    </tr>\n",
       "  </thead>\n",
       "  <tbody>\n",
       "    <tr>\n",
       "      <th>0</th>\n",
       "      <td>1.0</td>\n",
       "      <td>65326531.0</td>\n",
       "      <td>65326651.0</td>\n",
       "      <td>-120.0</td>\n",
       "      <td>0.0</td>\n",
       "      <td>0.0</td>\n",
       "      <td>0.0</td>\n",
       "      <td>0.0</td>\n",
       "      <td>1.0</td>\n",
       "      <td>1.0</td>\n",
       "      <td>...</td>\n",
       "      <td>1.0</td>\n",
       "      <td>6.0</td>\n",
       "      <td>5.0</td>\n",
       "      <td>529.266667</td>\n",
       "      <td>19.624701</td>\n",
       "      <td>45.0</td>\n",
       "      <td>350.111111</td>\n",
       "      <td>102.531127</td>\n",
       "      <td>45.0</td>\n",
       "      <td>0.0</td>\n",
       "    </tr>\n",
       "    <tr>\n",
       "      <th>1</th>\n",
       "      <td>1.0</td>\n",
       "      <td>83753489.0</td>\n",
       "      <td>83753698.0</td>\n",
       "      <td>-209.0</td>\n",
       "      <td>0.0</td>\n",
       "      <td>0.0</td>\n",
       "      <td>1.0</td>\n",
       "      <td>1.0</td>\n",
       "      <td>1.0</td>\n",
       "      <td>1.0</td>\n",
       "      <td>...</td>\n",
       "      <td>1.0</td>\n",
       "      <td>2.0</td>\n",
       "      <td>1.0</td>\n",
       "      <td>546.700000</td>\n",
       "      <td>11.424097</td>\n",
       "      <td>20.0</td>\n",
       "      <td>380.550000</td>\n",
       "      <td>104.843443</td>\n",
       "      <td>20.0</td>\n",
       "      <td>0.0</td>\n",
       "    </tr>\n",
       "    <tr>\n",
       "      <th>2</th>\n",
       "      <td>1.0</td>\n",
       "      <td>152326749.0</td>\n",
       "      <td>152326980.0</td>\n",
       "      <td>-231.0</td>\n",
       "      <td>0.0</td>\n",
       "      <td>0.0</td>\n",
       "      <td>1.0</td>\n",
       "      <td>1.0</td>\n",
       "      <td>0.0</td>\n",
       "      <td>0.0</td>\n",
       "      <td>...</td>\n",
       "      <td>1.0</td>\n",
       "      <td>5.0</td>\n",
       "      <td>1.0</td>\n",
       "      <td>544.958333</td>\n",
       "      <td>16.102482</td>\n",
       "      <td>24.0</td>\n",
       "      <td>377.916667</td>\n",
       "      <td>136.597620</td>\n",
       "      <td>22.0</td>\n",
       "      <td>2.0</td>\n",
       "    </tr>\n",
       "  </tbody>\n",
       "</table>\n",
       "<p>3 rows × 68 columns</p>\n",
       "</div>"
      ],
      "text/plain": [
       "   chrom        start          end   Size  refN_cnt  refN_pct  segdup_cnt  \\\n",
       "0    1.0   65326531.0   65326651.0 -120.0       0.0       0.0         0.0   \n",
       "1    1.0   83753489.0   83753698.0 -209.0       0.0       0.0         1.0   \n",
       "2    1.0  152326749.0  152326980.0 -231.0       0.0       0.0         1.0   \n",
       "\n",
       "   segdup_pct  tandemrep_cnt  tandemrep_pct               ...                 \\\n",
       "0         0.0            1.0            1.0               ...                  \n",
       "1         1.0            1.0            1.0               ...                  \n",
       "2         1.0            0.0            0.0               ...                  \n",
       "\n",
       "   TenX.HP2_amb_reason_orientation_alignmentScore  \\\n",
       "0                                             1.0   \n",
       "1                                             1.0   \n",
       "2                                             1.0   \n",
       "\n",
       "   TenX.HP2_amb_reason_orientation_orientation  \\\n",
       "0                                          6.0   \n",
       "1                                          2.0   \n",
       "2                                          5.0   \n",
       "\n",
       "   TenX.HP2_amb_reason_same_scores  TenX.HP2_ref_alnScore_mean  \\\n",
       "0                              5.0                  529.266667   \n",
       "1                              1.0                  546.700000   \n",
       "2                              1.0                  544.958333   \n",
       "\n",
       "   TenX.HP2_ref_alnScore_std  TenX.HP2_ref_count  \\\n",
       "0                  19.624701                45.0   \n",
       "1                  11.424097                20.0   \n",
       "2                  16.102482                24.0   \n",
       "\n",
       "   TenX.HP2_ref_insertSize_mean  TenX.HP2_ref_insertSize_std  \\\n",
       "0                    350.111111                   102.531127   \n",
       "1                    380.550000                   104.843443   \n",
       "2                    377.916667                   136.597620   \n",
       "\n",
       "   TenX.HP2_ref_reason_alignmentScore  TenX.HP2_ref_reason_orientation  \n",
       "0                                45.0                              0.0  \n",
       "1                                20.0                              0.0  \n",
       "2                                22.0                              2.0  \n",
       "\n",
       "[3 rows x 68 columns]"
      ]
     },
     "execution_count": 17,
     "metadata": {},
     "output_type": "execute_result"
    }
   ],
   "source": [
    "# Store header values in a list, will be used later to re-label the matrix post KNN imputation\n",
    "dftrain_header = list(df_train.columns.values)\n",
    "X.columns = dftrain_header\n",
    "X.head(3)"
   ]
  },
  {
   "cell_type": "code",
   "execution_count": 18,
   "metadata": {
    "collapsed": true
   },
   "outputs": [],
   "source": [
    "# Store Labels in a new 'Y' DataFrame\n",
    "Y = pd.DataFrame()\n",
    "Y = X['GTcons']"
   ]
  },
  {
   "cell_type": "code",
   "execution_count": 19,
   "metadata": {},
   "outputs": [
    {
     "data": {
      "text/plain": [
       "0.0    200\n",
       "1.0    200\n",
       "2.0    194\n",
       "dtype: int64"
      ]
     },
     "execution_count": 19,
     "metadata": {},
     "output_type": "execute_result"
    }
   ],
   "source": [
    "#Count the number of labels\n",
    "pd.value_counts(Y.values, sort=False)"
   ]
  },
  {
   "cell_type": "code",
   "execution_count": 20,
   "metadata": {
    "collapsed": true
   },
   "outputs": [],
   "source": [
    "# Note: originally selected 1000 of each label --> find out why some are lost"
   ]
  },
  {
   "cell_type": "code",
   "execution_count": 21,
   "metadata": {
    "collapsed": true
   },
   "outputs": [],
   "source": [
    "# Remove labels from feature set\n",
    "X.drop(['GTcons'],axis=1, inplace = True)"
   ]
  },
  {
   "cell_type": "code",
   "execution_count": 22,
   "metadata": {
    "collapsed": true
   },
   "outputs": [],
   "source": [
    "# Order features\n",
    "X4 = X.reindex_axis(sorted(X.columns), axis=1)"
   ]
  },
  {
   "cell_type": "markdown",
   "metadata": {},
   "source": [
    "***\n",
    "Machine Learning\n",
    "***"
   ]
  },
  {
   "cell_type": "markdown",
   "metadata": {},
   "source": [
    "<a id='machine_learning'></a>"
   ]
  },
  {
   "cell_type": "markdown",
   "metadata": {},
   "source": [
    "Description:\n",
    "\n",
    "   * In the following section a random forest model will be trained on svanalyzer data.\n",
    "\n",
    "       * The model was trained using [train/test split](http://scikit-learn.org/0.16/modules/generated/sklearn.cross_validation.train_test_split.html) where 70% of the data was used to train the model and the model performance was determined by predicting labels for the remaining 30% of the data. The trained model will be used in a [later section](#predict) to predict the consensus GT for 5000 randomly selected deletions [these deletions were randomly selected from [union_170509_refalt.sort.vcf](ftp://ftp-trace.ncbi.nlm.nih.gov/giab/ftp/data/AshkenazimTrio/analysis/NIST_UnionSVs_05092017/)]\n",
    "       * In the following section, svanalyzer data was used to train a random forest (RF) model. The features for the svanalyzer dataset include: svviz features, GA4GH features [RefN, Segmental Duplications, Tandem Repeat], preliminary R script analysis [consensus GT, GTsup].\n",
    "       * The RF classifier will predict the consensus GT labels:\n",
    "           * Homozygous Reference (0)\n",
    "           * Heterozygous Variant (1)\n",
    "           * Homozygous Variant (2)\n",
    "       \n",
    "       * In the [following section](#prediction_step), the trained RF model will be used to predict labels for genotype labels for 5000 randomly selected deletions [these deletions were randomly selected from [union_170509_refalt.sort.vcf](ftp://ftp-trace.ncbi.nlm.nih.gov/giab/ftp/data/AshkenazimTrio/analysis/NIST_UnionSVs_05092017/)]. "
   ]
  },
  {
   "cell_type": "markdown",
   "metadata": {},
   "source": [
    "** Train Random Forest Classifier **"
   ]
  },
  {
   "cell_type": "markdown",
   "metadata": {},
   "source": [
    "<a id='train_test'></a>"
   ]
  },
  {
   "cell_type": "code",
   "execution_count": 24,
   "metadata": {},
   "outputs": [],
   "source": [
    "# Train Test Split\n",
    "# Train on 70% of the data and test on 30%\n",
    "X_train, X_test, y_train, y_test = train_test_split(X4, Y, test_size=0.3, random_state=0)"
   ]
  },
  {
   "cell_type": "code",
   "execution_count": 25,
   "metadata": {
    "scrolled": false
   },
   "outputs": [
    {
     "data": {
      "text/plain": [
       "RandomForestClassifier(bootstrap=True, class_weight=None, criterion='gini',\n",
       "            max_depth=None, max_features='auto', max_leaf_nodes=None,\n",
       "            min_impurity_split=1e-07, min_samples_leaf=1,\n",
       "            min_samples_split=2, min_weight_fraction_leaf=0.0,\n",
       "            n_estimators=100, n_jobs=1, oob_score=False, random_state=4,\n",
       "            verbose=0, warm_start=False)"
      ]
     },
     "execution_count": 25,
     "metadata": {},
     "output_type": "execute_result"
    }
   ],
   "source": [
    "# %%timeit\n",
    "# Train Random Forest Classifier\n",
    "model = RandomForestClassifier(n_estimators=100, random_state=4) \n",
    "model.fit(X_train, y_train)"
   ]
  },
  {
   "cell_type": "code",
   "execution_count": 26,
   "metadata": {},
   "outputs": [
    {
     "name": "stdout",
     "output_type": "stream",
     "text": [
      "Feature ranking:\n",
      "1. feature 6 (0.079099)\n",
      "2. feature 4 (0.062129)\n",
      "3. feature 31 (0.061495)\n",
      "4. feature 56 (0.055276)\n",
      "5. feature 7 (0.055213)\n",
      "6. feature 34 (0.053763)\n",
      "7. feature 53 (0.050888)\n",
      "8. feature 32 (0.050744)\n",
      "9. feature 35 (0.049877)\n",
      "10. feature 28 (0.049692)\n",
      "11. feature 3 (0.042569)\n",
      "12. feature 25 (0.036131)\n",
      "13. feature 30 (0.030388)\n",
      "14. feature 5 (0.026561)\n",
      "15. feature 52 (0.025061)\n",
      "16. feature 2 (0.023326)\n",
      "17. feature 55 (0.019825)\n",
      "18. feature 27 (0.017858)\n",
      "19. feature 24 (0.017379)\n",
      "20. feature 1 (0.017370)\n",
      "21. feature 33 (0.014889)\n",
      "22. feature 58 (0.013348)\n",
      "23. feature 51 (0.010848)\n",
      "24. feature 54 (0.008131)\n",
      "25. feature 0 (0.006858)\n",
      "26. feature 26 (0.006723)\n",
      "27. feature 45 (0.006452)\n",
      "28. feature 17 (0.005734)\n",
      "29. feature 20 (0.005719)\n",
      "30. feature 41 (0.005562)\n",
      "31. feature 64 (0.005374)\n",
      "32. feature 22 (0.005296)\n",
      "33. feature 12 (0.005200)\n",
      "34. feature 40 (0.005072)\n",
      "35. feature 13 (0.004906)\n",
      "36. feature 21 (0.004638)\n",
      "37. feature 23 (0.004557)\n",
      "38. feature 39 (0.004444)\n",
      "39. feature 15 (0.004318)\n",
      "40. feature 59 (0.004135)\n",
      "41. feature 38 (0.004064)\n",
      "42. feature 50 (0.003867)\n",
      "43. feature 47 (0.003851)\n",
      "44. feature 43 (0.003260)\n",
      "45. feature 49 (0.003203)\n",
      "46. feature 42 (0.003151)\n",
      "47. feature 11 (0.003031)\n",
      "48. feature 48 (0.002584)\n",
      "49. feature 19 (0.002383)\n",
      "50. feature 10 (0.002263)\n",
      "51. feature 14 (0.002042)\n",
      "52. feature 36 (0.001964)\n",
      "53. feature 66 (0.001827)\n",
      "54. feature 8 (0.001466)\n",
      "55. feature 65 (0.001069)\n",
      "56. feature 16 (0.000807)\n",
      "57. feature 57 (0.000749)\n",
      "58. feature 62 (0.000479)\n",
      "59. feature 63 (0.000429)\n",
      "60. feature 46 (0.000255)\n",
      "61. feature 44 (0.000202)\n",
      "62. feature 18 (0.000107)\n",
      "63. feature 37 (0.000063)\n",
      "64. feature 29 (0.000036)\n",
      "65. feature 9 (0.000000)\n",
      "66. feature 60 (0.000000)\n",
      "67. feature 61 (0.000000)\n"
     ]
    }
   ],
   "source": [
    "# Feature Importance\n",
    "importances = model.feature_importances_\n",
    "indices = np.argsort(importances)[::-1]\n",
    "print(\"Feature ranking:\")\n",
    "\n",
    "for f in range(X_test.shape[1]):\n",
    "    print(\"%d. feature %d (%f)\" % (f + 1, indices[f], importances[indices[f]]))"
   ]
  },
  {
   "cell_type": "markdown",
   "metadata": {},
   "source": [
    "[Another Resource](https://stackoverflow.com/questions/37877542/how-to-label-the-feature-importance-with-forests-of-trees)"
   ]
  },
  {
   "cell_type": "markdown",
   "metadata": {},
   "source": [
    "<a id='feature_importance'></a>"
   ]
  },
  {
   "cell_type": "code",
   "execution_count": 27,
   "metadata": {},
   "outputs": [
    {
     "name": "stderr",
     "output_type": "stream",
     "text": [
      "/Users/lmc2/anaconda/envs/NIHFAES/lib/python3.5/site-packages/ipykernel/__main__.py:3: FutureWarning:\n",
      "\n",
      "sort is deprecated, use sort_values(inplace=True) for INPLACE sorting\n",
      "\n"
     ]
    },
    {
     "data": {
      "text/plain": [
       "<matplotlib.axes._subplots.AxesSubplot at 0x11bd82668>"
      ]
     },
     "execution_count": 27,
     "metadata": {},
     "output_type": "execute_result"
    },
    {
     "data": {
      "image/png": "[encoded data removed]",
      "text/plain": [
       "<matplotlib.figure.Figure at 0x11bd82048>"
      ]
     },
     "metadata": {},
     "output_type": "display_data"
    }
   ],
   "source": [
    "%matplotlib inline\n",
    "feature_importances = pd.Series(model.feature_importances_, index=X_test.columns)\n",
    "feature_importances.sort()\n",
    "feature_importances.plot(kind=\"barh\", figsize=(8,10))"
   ]
  },
  {
   "cell_type": "code",
   "execution_count": 28,
   "metadata": {
    "collapsed": true
   },
   "outputs": [],
   "source": [
    "#TODO: Try training the model with the most important features and note difference in overal model prediction score"
   ]
  },
  {
   "cell_type": "code",
   "execution_count": 29,
   "metadata": {},
   "outputs": [
    {
     "data": {
      "text/plain": [
       "0.0    150\n",
       "1.0    131\n",
       "2.0    134\n",
       "dtype: int64"
      ]
     },
     "execution_count": 29,
     "metadata": {},
     "output_type": "execute_result"
    }
   ],
   "source": [
    "#NOTE: Training Set - Show number of Hom Ref, Hom Var, Het Var datapoints the model was trained on\n",
    "ytrain = pd.DataFrame()\n",
    "ytrain['ytrain'] = y_train\n",
    "pd.value_counts(ytrain['ytrain'].values, sort=False)"
   ]
  },
  {
   "cell_type": "markdown",
   "metadata": {},
   "source": [
    "<a id='prediction_step'></a>"
   ]
  },
  {
   "cell_type": "code",
   "execution_count": 30,
   "metadata": {
    "collapsed": true
   },
   "outputs": [],
   "source": [
    "pred = model.predict(X_test)"
   ]
  },
  {
   "cell_type": "markdown",
   "metadata": {},
   "source": [
    "<a id='traintest_precision'></a>"
   ]
  },
  {
   "cell_type": "code",
   "execution_count": 31,
   "metadata": {},
   "outputs": [
    {
     "name": "stdout",
     "output_type": "stream",
     "text": [
      "Precision score of the training subset: 0.877\n"
     ]
    }
   ],
   "source": [
    "print('Precision score of the training subset: {:.3f}'.format(precision_score(pred, y_test, average='micro'))) "
   ]
  },
  {
   "cell_type": "code",
   "execution_count": 32,
   "metadata": {},
   "outputs": [
    {
     "data": {
      "text/html": [
       "<div>\n",
       "<table border=\"1\" class=\"dataframe\">\n",
       "  <thead>\n",
       "    <tr style=\"text-align: right;\">\n",
       "      <th></th>\n",
       "      <th>Size</th>\n",
       "      <th>TenX.GT</th>\n",
       "      <th>TenX.HP1_alt_alnScore_mean</th>\n",
       "      <th>TenX.HP1_alt_alnScore_std</th>\n",
       "      <th>TenX.HP1_alt_count</th>\n",
       "      <th>TenX.HP1_alt_insertSize_mean</th>\n",
       "      <th>TenX.HP1_alt_insertSize_std</th>\n",
       "      <th>TenX.HP1_alt_reason_alignmentScore</th>\n",
       "      <th>TenX.HP1_alt_reason_insertSizeScore</th>\n",
       "      <th>TenX.HP1_alt_reason_orientation</th>\n",
       "      <th>...</th>\n",
       "      <th>TenX.HP2_ref_reason_orientation</th>\n",
       "      <th>chrom</th>\n",
       "      <th>end</th>\n",
       "      <th>refN_cnt</th>\n",
       "      <th>refN_pct</th>\n",
       "      <th>segdup_cnt</th>\n",
       "      <th>segdup_pct</th>\n",
       "      <th>start</th>\n",
       "      <th>tandemrep_cnt</th>\n",
       "      <th>tandemrep_pct</th>\n",
       "    </tr>\n",
       "  </thead>\n",
       "  <tbody>\n",
       "    <tr>\n",
       "      <th>240</th>\n",
       "      <td>-22.0</td>\n",
       "      <td>-1.0</td>\n",
       "      <td>522.750000</td>\n",
       "      <td>14.914339</td>\n",
       "      <td>8.0</td>\n",
       "      <td>359.875</td>\n",
       "      <td>80.770412</td>\n",
       "      <td>8.0</td>\n",
       "      <td>0.0</td>\n",
       "      <td>0.0</td>\n",
       "      <td>...</td>\n",
       "      <td>0.0</td>\n",
       "      <td>1.0</td>\n",
       "      <td>238908601.0</td>\n",
       "      <td>0.0</td>\n",
       "      <td>0.0</td>\n",
       "      <td>0.0</td>\n",
       "      <td>0.0</td>\n",
       "      <td>238908578.0</td>\n",
       "      <td>1.0</td>\n",
       "      <td>1.000000</td>\n",
       "    </tr>\n",
       "    <tr>\n",
       "      <th>132</th>\n",
       "      <td>-28.0</td>\n",
       "      <td>0.0</td>\n",
       "      <td>525.000000</td>\n",
       "      <td>0.000000</td>\n",
       "      <td>1.0</td>\n",
       "      <td>288.000</td>\n",
       "      <td>0.000000</td>\n",
       "      <td>1.0</td>\n",
       "      <td>0.0</td>\n",
       "      <td>0.0</td>\n",
       "      <td>...</td>\n",
       "      <td>0.0</td>\n",
       "      <td>10.0</td>\n",
       "      <td>110381979.0</td>\n",
       "      <td>0.0</td>\n",
       "      <td>0.0</td>\n",
       "      <td>0.0</td>\n",
       "      <td>0.0</td>\n",
       "      <td>110381951.0</td>\n",
       "      <td>1.0</td>\n",
       "      <td>0.928571</td>\n",
       "    </tr>\n",
       "    <tr>\n",
       "      <th>424</th>\n",
       "      <td>-339.0</td>\n",
       "      <td>-1.0</td>\n",
       "      <td>522.944444</td>\n",
       "      <td>21.101533</td>\n",
       "      <td>18.0</td>\n",
       "      <td>389.500</td>\n",
       "      <td>80.988511</td>\n",
       "      <td>11.0</td>\n",
       "      <td>7.0</td>\n",
       "      <td>0.0</td>\n",
       "      <td>...</td>\n",
       "      <td>0.0</td>\n",
       "      <td>10.0</td>\n",
       "      <td>92969541.0</td>\n",
       "      <td>0.0</td>\n",
       "      <td>0.0</td>\n",
       "      <td>0.0</td>\n",
       "      <td>0.0</td>\n",
       "      <td>92969202.0</td>\n",
       "      <td>2.0</td>\n",
       "      <td>0.112094</td>\n",
       "    </tr>\n",
       "    <tr>\n",
       "      <th>92</th>\n",
       "      <td>-21.0</td>\n",
       "      <td>0.0</td>\n",
       "      <td>0.000000</td>\n",
       "      <td>0.000000</td>\n",
       "      <td>0.0</td>\n",
       "      <td>0.000</td>\n",
       "      <td>0.000000</td>\n",
       "      <td>0.0</td>\n",
       "      <td>0.0</td>\n",
       "      <td>0.0</td>\n",
       "      <td>...</td>\n",
       "      <td>0.0</td>\n",
       "      <td>10.0</td>\n",
       "      <td>3928410.0</td>\n",
       "      <td>0.0</td>\n",
       "      <td>0.0</td>\n",
       "      <td>0.0</td>\n",
       "      <td>0.0</td>\n",
       "      <td>3928388.0</td>\n",
       "      <td>1.0</td>\n",
       "      <td>1.000000</td>\n",
       "    </tr>\n",
       "    <tr>\n",
       "      <th>170</th>\n",
       "      <td>-50.0</td>\n",
       "      <td>0.0</td>\n",
       "      <td>529.000000</td>\n",
       "      <td>0.000000</td>\n",
       "      <td>1.0</td>\n",
       "      <td>235.000</td>\n",
       "      <td>0.000000</td>\n",
       "      <td>1.0</td>\n",
       "      <td>0.0</td>\n",
       "      <td>0.0</td>\n",
       "      <td>...</td>\n",
       "      <td>0.0</td>\n",
       "      <td>11.0</td>\n",
       "      <td>83841586.0</td>\n",
       "      <td>0.0</td>\n",
       "      <td>0.0</td>\n",
       "      <td>0.0</td>\n",
       "      <td>0.0</td>\n",
       "      <td>83841535.0</td>\n",
       "      <td>1.0</td>\n",
       "      <td>1.000000</td>\n",
       "    </tr>\n",
       "  </tbody>\n",
       "</table>\n",
       "<p>5 rows × 67 columns</p>\n",
       "</div>"
      ],
      "text/plain": [
       "      Size  TenX.GT  TenX.HP1_alt_alnScore_mean  TenX.HP1_alt_alnScore_std  \\\n",
       "240  -22.0     -1.0                  522.750000                  14.914339   \n",
       "132  -28.0      0.0                  525.000000                   0.000000   \n",
       "424 -339.0     -1.0                  522.944444                  21.101533   \n",
       "92   -21.0      0.0                    0.000000                   0.000000   \n",
       "170  -50.0      0.0                  529.000000                   0.000000   \n",
       "\n",
       "     TenX.HP1_alt_count  TenX.HP1_alt_insertSize_mean  \\\n",
       "240                 8.0                       359.875   \n",
       "132                 1.0                       288.000   \n",
       "424                18.0                       389.500   \n",
       "92                  0.0                         0.000   \n",
       "170                 1.0                       235.000   \n",
       "\n",
       "     TenX.HP1_alt_insertSize_std  TenX.HP1_alt_reason_alignmentScore  \\\n",
       "240                    80.770412                                 8.0   \n",
       "132                     0.000000                                 1.0   \n",
       "424                    80.988511                                11.0   \n",
       "92                      0.000000                                 0.0   \n",
       "170                     0.000000                                 1.0   \n",
       "\n",
       "     TenX.HP1_alt_reason_insertSizeScore  TenX.HP1_alt_reason_orientation  \\\n",
       "240                                  0.0                              0.0   \n",
       "132                                  0.0                              0.0   \n",
       "424                                  7.0                              0.0   \n",
       "92                                   0.0                              0.0   \n",
       "170                                  0.0                              0.0   \n",
       "\n",
       "         ...        TenX.HP2_ref_reason_orientation  chrom          end  \\\n",
       "240      ...                                    0.0    1.0  238908601.0   \n",
       "132      ...                                    0.0   10.0  110381979.0   \n",
       "424      ...                                    0.0   10.0   92969541.0   \n",
       "92       ...                                    0.0   10.0    3928410.0   \n",
       "170      ...                                    0.0   11.0   83841586.0   \n",
       "\n",
       "     refN_cnt  refN_pct  segdup_cnt  segdup_pct        start  tandemrep_cnt  \\\n",
       "240       0.0       0.0         0.0         0.0  238908578.0            1.0   \n",
       "132       0.0       0.0         0.0         0.0  110381951.0            1.0   \n",
       "424       0.0       0.0         0.0         0.0   92969202.0            2.0   \n",
       "92        0.0       0.0         0.0         0.0    3928388.0            1.0   \n",
       "170       0.0       0.0         0.0         0.0   83841535.0            1.0   \n",
       "\n",
       "     tandemrep_pct  \n",
       "240       1.000000  \n",
       "132       0.928571  \n",
       "424       0.112094  \n",
       "92        1.000000  \n",
       "170       1.000000  \n",
       "\n",
       "[5 rows x 67 columns]"
      ]
     },
     "execution_count": 32,
     "metadata": {},
     "output_type": "execute_result"
    }
   ],
   "source": [
    "# Add original labels and predicted labels back to the original dataframe\n",
    "df_Xtest = pd.DataFrame(X_test)\n",
    "df_Xtest.head()"
   ]
  },
  {
   "cell_type": "code",
   "execution_count": 33,
   "metadata": {
    "collapsed": true
   },
   "outputs": [],
   "source": [
    "labels = pd.DataFrame(y_test)"
   ]
  },
  {
   "cell_type": "code",
   "execution_count": 34,
   "metadata": {
    "collapsed": true
   },
   "outputs": [],
   "source": [
    "df_Xtest['predicted_label'] = pred\n",
    "df_Xtest['GTcons'] = df_train['GTcons']\n",
    "df_Xtest['chrom'] = df_train['chrom']\n",
    "df_Xtest['start'] = df_train['start']\n",
    "df_Xtest['end'] = df_train['end']\n",
    "# df_Xtest['Y_test'] = labels"
   ]
  },
  {
   "cell_type": "code",
   "execution_count": 35,
   "metadata": {
    "collapsed": true
   },
   "outputs": [],
   "source": [
    "df_Xtest['GTcons'].replace(0.0, 'Homozygous_Reference', inplace=True)\n",
    "df_Xtest['GTcons'].replace(1.0, 'Heterozygous_Variant', inplace=True)\n",
    "df_Xtest['GTcons'].replace(2.0, 'Homozygous_Variant', inplace=True)\n",
    "df_Xtest['predicted_label'].replace(0.0, 'Homozygous_Reference', inplace=True)\n",
    "df_Xtest['predicted_label'].replace(1.0, 'Heterozygous_Variant', inplace=True)\n",
    "df_Xtest['predicted_label'].replace(2.0, 'Homozygous_Variant', inplace=True)"
   ]
  },
  {
   "cell_type": "code",
   "execution_count": 36,
   "metadata": {},
   "outputs": [
    {
     "data": {
      "text/plain": [
       "Homozygous_Reference    50\n",
       "Heterozygous_Variant    69\n",
       "Homozygous_Variant      60\n",
       "dtype: int64"
      ]
     },
     "execution_count": 36,
     "metadata": {},
     "output_type": "execute_result"
    }
   ],
   "source": [
    "pd.value_counts(df_Xtest['GTcons'].values, sort=False)"
   ]
  },
  {
   "cell_type": "code",
   "execution_count": 37,
   "metadata": {},
   "outputs": [
    {
     "data": {
      "text/plain": [
       "Homozygous_Reference    62\n",
       "Heterozygous_Variant    56\n",
       "Homozygous_Variant      61\n",
       "dtype: int64"
      ]
     },
     "execution_count": 37,
     "metadata": {},
     "output_type": "execute_result"
    }
   ],
   "source": [
    "pd.value_counts(df_Xtest['predicted_label'].values, sort=False)"
   ]
  },
  {
   "cell_type": "code",
   "execution_count": 38,
   "metadata": {},
   "outputs": [
    {
     "name": "stdout",
     "output_type": "stream",
     "text": [
      "[[53  9  7]\n",
      " [ 0 50  0]\n",
      " [ 3  3 54]]\n"
     ]
    }
   ],
   "source": [
    "from sklearn.metrics import confusion_matrix\n",
    "ytest = df_Xtest['GTcons']\n",
    "predict = df_Xtest['predicted_label']\n",
    "print(confusion_matrix(ytest, predict))"
   ]
  },
  {
   "cell_type": "markdown",
   "metadata": {},
   "source": [
    "<a id='traintest_confusion_matrix'></a>"
   ]
  },
  {
   "cell_type": "code",
   "execution_count": 39,
   "metadata": {},
   "outputs": [
    {
     "data": {
      "text/html": [
       "<div>\n",
       "<table border=\"1\" class=\"dataframe\">\n",
       "  <thead>\n",
       "    <tr style=\"text-align: right;\">\n",
       "      <th>Predicted</th>\n",
       "      <th>Heterozygous_Variant</th>\n",
       "      <th>Homozygous_Reference</th>\n",
       "      <th>Homozygous_Variant</th>\n",
       "      <th>All</th>\n",
       "    </tr>\n",
       "    <tr>\n",
       "      <th>True</th>\n",
       "      <th></th>\n",
       "      <th></th>\n",
       "      <th></th>\n",
       "      <th></th>\n",
       "    </tr>\n",
       "  </thead>\n",
       "  <tbody>\n",
       "    <tr>\n",
       "      <th>Heterozygous_Variant</th>\n",
       "      <td>53</td>\n",
       "      <td>9</td>\n",
       "      <td>7</td>\n",
       "      <td>69</td>\n",
       "    </tr>\n",
       "    <tr>\n",
       "      <th>Homozygous_Reference</th>\n",
       "      <td>0</td>\n",
       "      <td>50</td>\n",
       "      <td>0</td>\n",
       "      <td>50</td>\n",
       "    </tr>\n",
       "    <tr>\n",
       "      <th>Homozygous_Variant</th>\n",
       "      <td>3</td>\n",
       "      <td>3</td>\n",
       "      <td>54</td>\n",
       "      <td>60</td>\n",
       "    </tr>\n",
       "    <tr>\n",
       "      <th>All</th>\n",
       "      <td>56</td>\n",
       "      <td>62</td>\n",
       "      <td>61</td>\n",
       "      <td>179</td>\n",
       "    </tr>\n",
       "  </tbody>\n",
       "</table>\n",
       "</div>"
      ],
      "text/plain": [
       "Predicted             Heterozygous_Variant  Homozygous_Reference  \\\n",
       "True                                                               \n",
       "Heterozygous_Variant                    53                     9   \n",
       "Homozygous_Reference                     0                    50   \n",
       "Homozygous_Variant                       3                     3   \n",
       "All                                     56                    62   \n",
       "\n",
       "Predicted             Homozygous_Variant  All  \n",
       "True                                           \n",
       "Heterozygous_Variant                   7   69  \n",
       "Homozygous_Reference                   0   50  \n",
       "Homozygous_Variant                    54   60  \n",
       "All                                   61  179  "
      ]
     },
     "execution_count": 39,
     "metadata": {},
     "output_type": "execute_result"
    }
   ],
   "source": [
    "pd.crosstab(ytest, predict, rownames=['True'], colnames=['Predicted'], margins=True)"
   ]
  },
  {
   "cell_type": "code",
   "execution_count": 40,
   "metadata": {
    "scrolled": true
   },
   "outputs": [
    {
     "name": "stdout",
     "output_type": "stream",
     "text": [
      "                      precision    recall  f1-score   support\n",
      "\n",
      "Heterozygous_Variant       0.95      0.77      0.85        69\n",
      "Homozygous_Reference       0.81      1.00      0.89        50\n",
      "  Homozygous_Variant       0.89      0.90      0.89        60\n",
      "\n",
      "         avg / total       0.89      0.88      0.88       179\n",
      "\n"
     ]
    }
   ],
   "source": [
    "from sklearn.metrics import classification_report\n",
    "print(classification_report(ytest, predict))"
   ]
  },
  {
   "cell_type": "markdown",
   "metadata": {},
   "source": [
    "***\n",
    "Predict\n",
    "***"
   ]
  },
  {
   "cell_type": "markdown",
   "metadata": {},
   "source": [
    "<a id='predict'></a>"
   ]
  },
  {
   "cell_type": "markdown",
   "metadata": {},
   "source": [
    "Description:\n",
    "\n",
    "   * In the [previous section](#machine_learning), a RF model was trained on svanalyzer data.\n",
    "\n",
    "       * The model was trained using [train/test split](#train_test) where 70% of the data was used to train the model and the model performance was determined by predicting labels for the remaining 30% of the data\n",
    " * Reminder: The labels for this training set and the following [prediction step](#prediction_step) are the consensus genotype (GTcons) labels generated from a preliminary R analysis based on reference and alternate read count:\n",
    "           * Homozygous Reference (0)\n",
    "           * Heterozygous Variant (1)\n",
    "           * Homozygous Variant (2)\n",
    "           \n",
    "   * The trained model is used in the following section to predict labels for 5000 randomly selected Deletions [these datapoints were randomly selected from [union_170509_refalt.sort.vcf](ftp://ftp-trace.ncbi.nlm.nih.gov/giab/ftp/data/AshkenazimTrio/analysis/NIST_UnionSVs_05092017/)]\n",
    "   \n",
    "   "
   ]
  },
  {
   "cell_type": "markdown",
   "metadata": {},
   "source": [
    "** Load Data **"
   ]
  },
  {
   "cell_type": "code",
   "execution_count": 41,
   "metadata": {
    "collapsed": true
   },
   "outputs": [],
   "source": [
    "X2 = df_test"
   ]
  },
  {
   "cell_type": "markdown",
   "metadata": {},
   "source": [
    "** Impute missing values using KNN **"
   ]
  },
  {
   "cell_type": "code",
   "execution_count": 42,
   "metadata": {},
   "outputs": [
    {
     "name": "stdout",
     "output_type": "stream",
     "text": [
      "Imputing row 1/4003 with 0 missing, elapsed time: 6.285\n",
      "Imputing row 101/4003 with 0 missing, elapsed time: 6.292\n",
      "Imputing row 201/4003 with 0 missing, elapsed time: 6.294\n",
      "Imputing row 301/4003 with 0 missing, elapsed time: 6.296\n",
      "Imputing row 401/4003 with 0 missing, elapsed time: 6.303\n",
      "Imputing row 501/4003 with 0 missing, elapsed time: 6.307\n",
      "Imputing row 601/4003 with 0 missing, elapsed time: 6.309\n",
      "Imputing row 701/4003 with 0 missing, elapsed time: 6.312\n",
      "Imputing row 801/4003 with 57 missing, elapsed time: 6.338\n",
      "Imputing row 901/4003 with 0 missing, elapsed time: 6.353\n",
      "Imputing row 1001/4003 with 0 missing, elapsed time: 6.354\n",
      "Imputing row 1101/4003 with 0 missing, elapsed time: 6.360\n",
      "Imputing row 1201/4003 with 0 missing, elapsed time: 6.363\n",
      "Imputing row 1301/4003 with 0 missing, elapsed time: 6.363\n",
      "Imputing row 1401/4003 with 0 missing, elapsed time: 6.366\n",
      "Imputing row 1501/4003 with 0 missing, elapsed time: 6.366\n",
      "Imputing row 1601/4003 with 57 missing, elapsed time: 6.423\n",
      "Imputing row 1701/4003 with 0 missing, elapsed time: 6.447\n",
      "Imputing row 1801/4003 with 0 missing, elapsed time: 6.450\n",
      "Imputing row 1901/4003 with 0 missing, elapsed time: 6.451\n",
      "Imputing row 2001/4003 with 0 missing, elapsed time: 6.453\n",
      "Imputing row 2101/4003 with 0 missing, elapsed time: 6.454\n",
      "Imputing row 2201/4003 with 0 missing, elapsed time: 6.462\n",
      "Imputing row 2301/4003 with 0 missing, elapsed time: 6.467\n",
      "Imputing row 2401/4003 with 0 missing, elapsed time: 6.532\n",
      "Imputing row 2501/4003 with 0 missing, elapsed time: 6.536\n",
      "Imputing row 2601/4003 with 0 missing, elapsed time: 6.546\n",
      "Imputing row 2701/4003 with 0 missing, elapsed time: 6.548\n",
      "Imputing row 2801/4003 with 0 missing, elapsed time: 6.551\n",
      "Imputing row 2901/4003 with 0 missing, elapsed time: 6.553\n",
      "Imputing row 3001/4003 with 0 missing, elapsed time: 6.554\n",
      "Imputing row 3101/4003 with 0 missing, elapsed time: 6.558\n",
      "Imputing row 3201/4003 with 0 missing, elapsed time: 6.610\n",
      "Imputing row 3301/4003 with 0 missing, elapsed time: 6.613\n",
      "Imputing row 3401/4003 with 0 missing, elapsed time: 6.613\n",
      "Imputing row 3501/4003 with 0 missing, elapsed time: 6.622\n",
      "Imputing row 3601/4003 with 0 missing, elapsed time: 6.632\n",
      "Imputing row 3701/4003 with 0 missing, elapsed time: 6.634\n",
      "Imputing row 3801/4003 with 0 missing, elapsed time: 6.641\n",
      "Imputing row 3901/4003 with 0 missing, elapsed time: 6.645\n",
      "Imputing row 4001/4003 with 57 missing, elapsed time: 6.692\n"
     ]
    }
   ],
   "source": [
    "#Convert dataframe to matrix\n",
    "X2=X2.as_matrix()\n",
    "X2=pd.DataFrame(X2)\n",
    "\n",
    "# Imput missing values from three closest observations\n",
    "X2_imputed=KNN(k=3).complete(X2)\n",
    "X2=pd.DataFrame(X2_imputed)"
   ]
  },
  {
   "cell_type": "code",
   "execution_count": 43,
   "metadata": {},
   "outputs": [
    {
     "data": {
      "text/html": [
       "<div>\n",
       "<table border=\"1\" class=\"dataframe\">\n",
       "  <thead>\n",
       "    <tr style=\"text-align: right;\">\n",
       "      <th></th>\n",
       "      <th>chrom</th>\n",
       "      <th>start</th>\n",
       "      <th>end</th>\n",
       "      <th>Size</th>\n",
       "      <th>refN_cnt</th>\n",
       "      <th>refN_pct</th>\n",
       "      <th>segdup_cnt</th>\n",
       "      <th>segdup_pct</th>\n",
       "      <th>tandemrep_cnt</th>\n",
       "      <th>tandemrep_pct</th>\n",
       "      <th>...</th>\n",
       "      <th>TenX.HP2_amb_reason_orientation_alignmentScore</th>\n",
       "      <th>TenX.HP2_amb_reason_orientation_orientation</th>\n",
       "      <th>TenX.HP2_amb_reason_same_scores</th>\n",
       "      <th>TenX.HP2_ref_alnScore_mean</th>\n",
       "      <th>TenX.HP2_ref_alnScore_std</th>\n",
       "      <th>TenX.HP2_ref_count</th>\n",
       "      <th>TenX.HP2_ref_insertSize_mean</th>\n",
       "      <th>TenX.HP2_ref_insertSize_std</th>\n",
       "      <th>TenX.HP2_ref_reason_alignmentScore</th>\n",
       "      <th>TenX.HP2_ref_reason_orientation</th>\n",
       "    </tr>\n",
       "  </thead>\n",
       "  <tbody>\n",
       "    <tr>\n",
       "      <th>0</th>\n",
       "      <td>1.0</td>\n",
       "      <td>37568322.0</td>\n",
       "      <td>37568587.0</td>\n",
       "      <td>-115.0</td>\n",
       "      <td>0.0</td>\n",
       "      <td>0.0</td>\n",
       "      <td>0.0</td>\n",
       "      <td>0.000000</td>\n",
       "      <td>3.0</td>\n",
       "      <td>0.818868</td>\n",
       "      <td>...</td>\n",
       "      <td>16.0</td>\n",
       "      <td>24.0</td>\n",
       "      <td>0.0</td>\n",
       "      <td>529.093023</td>\n",
       "      <td>21.757451</td>\n",
       "      <td>43.0</td>\n",
       "      <td>348.418605</td>\n",
       "      <td>115.713606</td>\n",
       "      <td>40.0</td>\n",
       "      <td>3.0</td>\n",
       "    </tr>\n",
       "    <tr>\n",
       "      <th>1</th>\n",
       "      <td>1.0</td>\n",
       "      <td>112835104.0</td>\n",
       "      <td>112837661.0</td>\n",
       "      <td>-2534.0</td>\n",
       "      <td>0.0</td>\n",
       "      <td>0.0</td>\n",
       "      <td>1.0</td>\n",
       "      <td>0.890888</td>\n",
       "      <td>6.0</td>\n",
       "      <td>0.460305</td>\n",
       "      <td>...</td>\n",
       "      <td>0.0</td>\n",
       "      <td>7.0</td>\n",
       "      <td>0.0</td>\n",
       "      <td>546.000000</td>\n",
       "      <td>0.000000</td>\n",
       "      <td>1.0</td>\n",
       "      <td>552.000000</td>\n",
       "      <td>0.000000</td>\n",
       "      <td>1.0</td>\n",
       "      <td>0.0</td>\n",
       "    </tr>\n",
       "    <tr>\n",
       "      <th>2</th>\n",
       "      <td>1.0</td>\n",
       "      <td>1092675.0</td>\n",
       "      <td>1092715.0</td>\n",
       "      <td>-40.0</td>\n",
       "      <td>0.0</td>\n",
       "      <td>0.0</td>\n",
       "      <td>0.0</td>\n",
       "      <td>0.000000</td>\n",
       "      <td>1.0</td>\n",
       "      <td>1.000000</td>\n",
       "      <td>...</td>\n",
       "      <td>0.0</td>\n",
       "      <td>23.0</td>\n",
       "      <td>8.0</td>\n",
       "      <td>509.400000</td>\n",
       "      <td>14.921126</td>\n",
       "      <td>5.0</td>\n",
       "      <td>381.400000</td>\n",
       "      <td>88.703100</td>\n",
       "      <td>5.0</td>\n",
       "      <td>0.0</td>\n",
       "    </tr>\n",
       "  </tbody>\n",
       "</table>\n",
       "<p>3 rows × 67 columns</p>\n",
       "</div>"
      ],
      "text/plain": [
       "   chrom        start          end    Size  refN_cnt  refN_pct  segdup_cnt  \\\n",
       "0    1.0   37568322.0   37568587.0  -115.0       0.0       0.0         0.0   \n",
       "1    1.0  112835104.0  112837661.0 -2534.0       0.0       0.0         1.0   \n",
       "2    1.0    1092675.0    1092715.0   -40.0       0.0       0.0         0.0   \n",
       "\n",
       "   segdup_pct  tandemrep_cnt  tandemrep_pct               ...                 \\\n",
       "0    0.000000            3.0       0.818868               ...                  \n",
       "1    0.890888            6.0       0.460305               ...                  \n",
       "2    0.000000            1.0       1.000000               ...                  \n",
       "\n",
       "   TenX.HP2_amb_reason_orientation_alignmentScore  \\\n",
       "0                                            16.0   \n",
       "1                                             0.0   \n",
       "2                                             0.0   \n",
       "\n",
       "   TenX.HP2_amb_reason_orientation_orientation  \\\n",
       "0                                         24.0   \n",
       "1                                          7.0   \n",
       "2                                         23.0   \n",
       "\n",
       "   TenX.HP2_amb_reason_same_scores  TenX.HP2_ref_alnScore_mean  \\\n",
       "0                              0.0                  529.093023   \n",
       "1                              0.0                  546.000000   \n",
       "2                              8.0                  509.400000   \n",
       "\n",
       "   TenX.HP2_ref_alnScore_std  TenX.HP2_ref_count  \\\n",
       "0                  21.757451                43.0   \n",
       "1                   0.000000                 1.0   \n",
       "2                  14.921126                 5.0   \n",
       "\n",
       "   TenX.HP2_ref_insertSize_mean  TenX.HP2_ref_insertSize_std  \\\n",
       "0                    348.418605                   115.713606   \n",
       "1                    552.000000                     0.000000   \n",
       "2                    381.400000                    88.703100   \n",
       "\n",
       "   TenX.HP2_ref_reason_alignmentScore  TenX.HP2_ref_reason_orientation  \n",
       "0                                40.0                              3.0  \n",
       "1                                 1.0                              0.0  \n",
       "2                                 5.0                              0.0  \n",
       "\n",
       "[3 rows x 67 columns]"
      ]
     },
     "execution_count": 43,
     "metadata": {},
     "output_type": "execute_result"
    }
   ],
   "source": [
    "dftest_header = list(df_test.columns.values)\n",
    "X2.columns = dftest_header\n",
    "X2.head(3)"
   ]
  },
  {
   "cell_type": "code",
   "execution_count": 44,
   "metadata": {},
   "outputs": [
    {
     "data": {
      "text/html": [
       "<div>\n",
       "<table border=\"1\" class=\"dataframe\">\n",
       "  <thead>\n",
       "    <tr style=\"text-align: right;\">\n",
       "      <th></th>\n",
       "      <th>chrom</th>\n",
       "      <th>start</th>\n",
       "      <th>end</th>\n",
       "      <th>Size</th>\n",
       "      <th>refN_cnt</th>\n",
       "      <th>refN_pct</th>\n",
       "      <th>segdup_cnt</th>\n",
       "      <th>segdup_pct</th>\n",
       "      <th>tandemrep_cnt</th>\n",
       "      <th>tandemrep_pct</th>\n",
       "      <th>...</th>\n",
       "      <th>TenX.HP2_amb_reason_orientation_alignmentScore</th>\n",
       "      <th>TenX.HP2_amb_reason_orientation_orientation</th>\n",
       "      <th>TenX.HP2_amb_reason_same_scores</th>\n",
       "      <th>TenX.HP2_ref_alnScore_mean</th>\n",
       "      <th>TenX.HP2_ref_alnScore_std</th>\n",
       "      <th>TenX.HP2_ref_count</th>\n",
       "      <th>TenX.HP2_ref_insertSize_mean</th>\n",
       "      <th>TenX.HP2_ref_insertSize_std</th>\n",
       "      <th>TenX.HP2_ref_reason_alignmentScore</th>\n",
       "      <th>TenX.HP2_ref_reason_orientation</th>\n",
       "    </tr>\n",
       "  </thead>\n",
       "  <tbody>\n",
       "    <tr>\n",
       "      <th>0</th>\n",
       "      <td>1.0</td>\n",
       "      <td>37568322.0</td>\n",
       "      <td>37568587.0</td>\n",
       "      <td>-115.0</td>\n",
       "      <td>0.0</td>\n",
       "      <td>0.0</td>\n",
       "      <td>0.0</td>\n",
       "      <td>0.000000</td>\n",
       "      <td>3.0</td>\n",
       "      <td>0.818868</td>\n",
       "      <td>...</td>\n",
       "      <td>16.0</td>\n",
       "      <td>24.0</td>\n",
       "      <td>0.0</td>\n",
       "      <td>529.093023</td>\n",
       "      <td>21.757451</td>\n",
       "      <td>43.0</td>\n",
       "      <td>348.418605</td>\n",
       "      <td>115.713606</td>\n",
       "      <td>40.0</td>\n",
       "      <td>3.0</td>\n",
       "    </tr>\n",
       "    <tr>\n",
       "      <th>1</th>\n",
       "      <td>1.0</td>\n",
       "      <td>112835104.0</td>\n",
       "      <td>112837661.0</td>\n",
       "      <td>-2534.0</td>\n",
       "      <td>0.0</td>\n",
       "      <td>0.0</td>\n",
       "      <td>1.0</td>\n",
       "      <td>0.890888</td>\n",
       "      <td>6.0</td>\n",
       "      <td>0.460305</td>\n",
       "      <td>...</td>\n",
       "      <td>0.0</td>\n",
       "      <td>7.0</td>\n",
       "      <td>0.0</td>\n",
       "      <td>546.000000</td>\n",
       "      <td>0.000000</td>\n",
       "      <td>1.0</td>\n",
       "      <td>552.000000</td>\n",
       "      <td>0.000000</td>\n",
       "      <td>1.0</td>\n",
       "      <td>0.0</td>\n",
       "    </tr>\n",
       "    <tr>\n",
       "      <th>2</th>\n",
       "      <td>1.0</td>\n",
       "      <td>1092675.0</td>\n",
       "      <td>1092715.0</td>\n",
       "      <td>-40.0</td>\n",
       "      <td>0.0</td>\n",
       "      <td>0.0</td>\n",
       "      <td>0.0</td>\n",
       "      <td>0.000000</td>\n",
       "      <td>1.0</td>\n",
       "      <td>1.000000</td>\n",
       "      <td>...</td>\n",
       "      <td>0.0</td>\n",
       "      <td>23.0</td>\n",
       "      <td>8.0</td>\n",
       "      <td>509.400000</td>\n",
       "      <td>14.921126</td>\n",
       "      <td>5.0</td>\n",
       "      <td>381.400000</td>\n",
       "      <td>88.703100</td>\n",
       "      <td>5.0</td>\n",
       "      <td>0.0</td>\n",
       "    </tr>\n",
       "  </tbody>\n",
       "</table>\n",
       "<p>3 rows × 67 columns</p>\n",
       "</div>"
      ],
      "text/plain": [
       "   chrom        start          end    Size  refN_cnt  refN_pct  segdup_cnt  \\\n",
       "0    1.0   37568322.0   37568587.0  -115.0       0.0       0.0         0.0   \n",
       "1    1.0  112835104.0  112837661.0 -2534.0       0.0       0.0         1.0   \n",
       "2    1.0    1092675.0    1092715.0   -40.0       0.0       0.0         0.0   \n",
       "\n",
       "   segdup_pct  tandemrep_cnt  tandemrep_pct               ...                 \\\n",
       "0    0.000000            3.0       0.818868               ...                  \n",
       "1    0.890888            6.0       0.460305               ...                  \n",
       "2    0.000000            1.0       1.000000               ...                  \n",
       "\n",
       "   TenX.HP2_amb_reason_orientation_alignmentScore  \\\n",
       "0                                            16.0   \n",
       "1                                             0.0   \n",
       "2                                             0.0   \n",
       "\n",
       "   TenX.HP2_amb_reason_orientation_orientation  \\\n",
       "0                                         24.0   \n",
       "1                                          7.0   \n",
       "2                                         23.0   \n",
       "\n",
       "   TenX.HP2_amb_reason_same_scores  TenX.HP2_ref_alnScore_mean  \\\n",
       "0                              0.0                  529.093023   \n",
       "1                              0.0                  546.000000   \n",
       "2                              8.0                  509.400000   \n",
       "\n",
       "   TenX.HP2_ref_alnScore_std  TenX.HP2_ref_count  \\\n",
       "0                  21.757451                43.0   \n",
       "1                   0.000000                 1.0   \n",
       "2                  14.921126                 5.0   \n",
       "\n",
       "   TenX.HP2_ref_insertSize_mean  TenX.HP2_ref_insertSize_std  \\\n",
       "0                    348.418605                   115.713606   \n",
       "1                    552.000000                     0.000000   \n",
       "2                    381.400000                    88.703100   \n",
       "\n",
       "   TenX.HP2_ref_reason_alignmentScore  TenX.HP2_ref_reason_orientation  \n",
       "0                                40.0                              3.0  \n",
       "1                                 1.0                              0.0  \n",
       "2                                 5.0                              0.0  \n",
       "\n",
       "[3 rows x 67 columns]"
      ]
     },
     "execution_count": 44,
     "metadata": {},
     "output_type": "execute_result"
    }
   ],
   "source": [
    "X3 = pd.DataFrame()\n",
    "X3 = X2\n",
    "X3.head(3)"
   ]
  },
  {
   "cell_type": "code",
   "execution_count": 45,
   "metadata": {
    "collapsed": true
   },
   "outputs": [],
   "source": [
    "# Order features\n",
    "X5 = X2.reindex_axis(sorted(X2.columns), axis=1)"
   ]
  },
  {
   "cell_type": "code",
   "execution_count": 46,
   "metadata": {
    "collapsed": true
   },
   "outputs": [],
   "source": [
    "\n",
    "# X5 = df_test"
   ]
  },
  {
   "cell_type": "markdown",
   "metadata": {},
   "source": [
    "<a id='prediction_step'></a>"
   ]
  },
  {
   "cell_type": "code",
   "execution_count": 47,
   "metadata": {
    "collapsed": true
   },
   "outputs": [],
   "source": [
    "pred = model.predict(X5)"
   ]
  },
  {
   "cell_type": "code",
   "execution_count": 48,
   "metadata": {
    "collapsed": true
   },
   "outputs": [],
   "source": [
    "pred_prob = model.predict_proba(X5)"
   ]
  },
  {
   "cell_type": "code",
   "execution_count": 49,
   "metadata": {
    "collapsed": true
   },
   "outputs": [],
   "source": [
    "pred_prob_log = model.predict_log_proba(X5)"
   ]
  },
  {
   "cell_type": "code",
   "execution_count": 50,
   "metadata": {
    "collapsed": true
   },
   "outputs": [],
   "source": [
    "X5['predicted_label'] = pred\n",
    "X5['chrom'] = df_test_2['chrom']\n",
    "X5['GTcons'] = df_test_2['GTcons']\n",
    "X5['start'] = df_test_2['start']\n",
    "X5['end'] = df_test_2['end']\n",
    "X5['Size'] = df_test_2['Size']\n",
    "X5['GTconswithoutTenX.GT'] = df_test_2['GTconswithoutTenX.GT']\n",
    "X5['GTsupp'] = df_test_2['GTsupp']"
   ]
  },
  {
   "cell_type": "code",
   "execution_count": 51,
   "metadata": {
    "collapsed": true
   },
   "outputs": [],
   "source": [
    "X6 = pd.concat([X5, pd.DataFrame(pred_prob, columns=['1','2','3'])])"
   ]
  },
  {
   "cell_type": "code",
   "execution_count": 52,
   "metadata": {
    "collapsed": true
   },
   "outputs": [],
   "source": [
    "X7 = pd.concat([X5, pd.DataFrame(pred_prob_log, columns=['1','2','3'])])"
   ]
  },
  {
   "cell_type": "code",
   "execution_count": 53,
   "metadata": {
    "collapsed": true
   },
   "outputs": [],
   "source": [
    "X6.to_csv('/Volumes/lesleydata/SVanalyzer_ML/Oct122017_Revised_R/summary_plots/data/preliminary_df/TenX_pred_prob_DEL_revisedR.csv', index=False)"
   ]
  },
  {
   "cell_type": "code",
   "execution_count": 54,
   "metadata": {
    "collapsed": true
   },
   "outputs": [],
   "source": [
    "X7.to_csv('/Volumes/lesleydata/SVanalyzer_ML/Oct122017_Revised_R/summary_plots/data/preliminary_df/TenX_pred_prob_log_DEL_revisedR.csv', index=False)"
   ]
  },
  {
   "cell_type": "code",
   "execution_count": 55,
   "metadata": {
    "collapsed": true
   },
   "outputs": [],
   "source": [
    "#Note: Reformat X6 csv"
   ]
  },
  {
   "cell_type": "code",
   "execution_count": 60,
   "metadata": {
    "collapsed": true
   },
   "outputs": [],
   "source": [
    "X6 = pd.read_csv('/Volumes/lesleydata/SVanalyzer_ML/Oct122017_Revised_R/summary_plots/data/preliminary_df/TenX_pred_prob_DEL_revisedR.csv')\n"
   ]
  },
  {
   "cell_type": "code",
   "execution_count": 61,
   "metadata": {
    "collapsed": true
   },
   "outputs": [],
   "source": [
    "X6.rename(columns={'1': 'Homozygous_Reference_GTcons_TenX'}, inplace=True)\n",
    "X6.rename(columns={'2': 'Heterozygous_Variant_GTcons_TenX'}, inplace=True)\n",
    "X6.rename(columns={'3': 'Homozygous_Variant_GTcons_TenX'}, inplace=True)\n",
    "X6.rename(columns={'predicted_label': 'TenX_predicted_GTcons_label'}, inplace=True)"
   ]
  },
  {
   "cell_type": "code",
   "execution_count": 62,
   "metadata": {},
   "outputs": [
    {
     "data": {
      "text/html": [
       "<div>\n",
       "<table border=\"1\" class=\"dataframe\">\n",
       "  <thead>\n",
       "    <tr style=\"text-align: right;\">\n",
       "      <th></th>\n",
       "      <th>Homozygous_Reference_GTcons_TenX</th>\n",
       "      <th>Heterozygous_Variant_GTcons_TenX</th>\n",
       "      <th>Homozygous_Variant_GTcons_TenX</th>\n",
       "      <th>GTcons</th>\n",
       "      <th>GTconswithoutTenX.GT</th>\n",
       "      <th>GTsupp</th>\n",
       "      <th>Size</th>\n",
       "      <th>TenX.GT</th>\n",
       "      <th>TenX.HP1_alt_alnScore_mean</th>\n",
       "      <th>TenX.HP1_alt_alnScore_std</th>\n",
       "      <th>...</th>\n",
       "      <th>chrom</th>\n",
       "      <th>end</th>\n",
       "      <th>TenX_predicted_GTcons_label</th>\n",
       "      <th>refN_cnt</th>\n",
       "      <th>refN_pct</th>\n",
       "      <th>segdup_cnt</th>\n",
       "      <th>segdup_pct</th>\n",
       "      <th>start</th>\n",
       "      <th>tandemrep_cnt</th>\n",
       "      <th>tandemrep_pct</th>\n",
       "    </tr>\n",
       "  </thead>\n",
       "  <tbody>\n",
       "    <tr>\n",
       "      <th>0</th>\n",
       "      <td>0.95</td>\n",
       "      <td>0.05</td>\n",
       "      <td>0.00</td>\n",
       "      <td>0</td>\n",
       "      <td>0</td>\n",
       "      <td>4</td>\n",
       "      <td>-115</td>\n",
       "      <td>0.0</td>\n",
       "      <td>0.000000</td>\n",
       "      <td>0.000000</td>\n",
       "      <td>...</td>\n",
       "      <td>1</td>\n",
       "      <td>37568587</td>\n",
       "      <td>0</td>\n",
       "      <td>0</td>\n",
       "      <td>0</td>\n",
       "      <td>0</td>\n",
       "      <td>0.000000</td>\n",
       "      <td>37568322</td>\n",
       "      <td>3</td>\n",
       "      <td>0.818868</td>\n",
       "    </tr>\n",
       "    <tr>\n",
       "      <th>1</th>\n",
       "      <td>0.04</td>\n",
       "      <td>0.18</td>\n",
       "      <td>0.78</td>\n",
       "      <td>2</td>\n",
       "      <td>2</td>\n",
       "      <td>1</td>\n",
       "      <td>-2534</td>\n",
       "      <td>-1.0</td>\n",
       "      <td>548.833333</td>\n",
       "      <td>8.394774</td>\n",
       "      <td>...</td>\n",
       "      <td>1</td>\n",
       "      <td>112837661</td>\n",
       "      <td>2</td>\n",
       "      <td>0</td>\n",
       "      <td>0</td>\n",
       "      <td>1</td>\n",
       "      <td>0.890888</td>\n",
       "      <td>112835104</td>\n",
       "      <td>6</td>\n",
       "      <td>0.460305</td>\n",
       "    </tr>\n",
       "    <tr>\n",
       "      <th>2</th>\n",
       "      <td>0.16</td>\n",
       "      <td>0.75</td>\n",
       "      <td>0.09</td>\n",
       "      <td>1</td>\n",
       "      <td>1</td>\n",
       "      <td>1</td>\n",
       "      <td>-40</td>\n",
       "      <td>-1.0</td>\n",
       "      <td>0.000000</td>\n",
       "      <td>0.000000</td>\n",
       "      <td>...</td>\n",
       "      <td>1</td>\n",
       "      <td>1092715</td>\n",
       "      <td>1</td>\n",
       "      <td>0</td>\n",
       "      <td>0</td>\n",
       "      <td>0</td>\n",
       "      <td>0.000000</td>\n",
       "      <td>1092675</td>\n",
       "      <td>1</td>\n",
       "      <td>1.000000</td>\n",
       "    </tr>\n",
       "  </tbody>\n",
       "</table>\n",
       "<p>3 rows × 74 columns</p>\n",
       "</div>"
      ],
      "text/plain": [
       "   Homozygous_Reference_GTcons_TenX  Heterozygous_Variant_GTcons_TenX  \\\n",
       "0                              0.95                              0.05   \n",
       "1                              0.04                              0.18   \n",
       "2                              0.16                              0.75   \n",
       "\n",
       "   Homozygous_Variant_GTcons_TenX  GTcons  GTconswithoutTenX.GT  GTsupp  Size  \\\n",
       "0                            0.00       0                     0       4  -115   \n",
       "1                            0.78       2                     2       1 -2534   \n",
       "2                            0.09       1                     1       1   -40   \n",
       "\n",
       "   TenX.GT  TenX.HP1_alt_alnScore_mean  TenX.HP1_alt_alnScore_std  \\\n",
       "0      0.0                    0.000000                   0.000000   \n",
       "1     -1.0                  548.833333                   8.394774   \n",
       "2     -1.0                    0.000000                   0.000000   \n",
       "\n",
       "       ...        chrom        end  TenX_predicted_GTcons_label  refN_cnt  \\\n",
       "0      ...            1   37568587                            0         0   \n",
       "1      ...            1  112837661                            2         0   \n",
       "2      ...            1    1092715                            1         0   \n",
       "\n",
       "   refN_pct  segdup_cnt  segdup_pct      start  tandemrep_cnt  tandemrep_pct  \n",
       "0         0           0    0.000000   37568322              3       0.818868  \n",
       "1         0           1    0.890888  112835104              6       0.460305  \n",
       "2         0           0    0.000000    1092675              1       1.000000  \n",
       "\n",
       "[3 rows x 74 columns]"
      ]
     },
     "execution_count": 62,
     "metadata": {},
     "output_type": "execute_result"
    }
   ],
   "source": [
    "X6.head(3)"
   ]
  },
  {
   "cell_type": "code",
   "execution_count": 63,
   "metadata": {
    "collapsed": true
   },
   "outputs": [],
   "source": [
    "X6.to_csv('/Volumes/lesleydata/SVanalyzer_ML/Oct122017_Revised_R/summary_plots/data/TenX_final_GTcons_df_DEL_SVanalyzer.csv', index=False)"
   ]
  },
  {
   "cell_type": "markdown",
   "metadata": {},
   "source": [
    "***\n",
    "Label Analysis\n",
    "***"
   ]
  },
  {
   "cell_type": "markdown",
   "metadata": {},
   "source": [
    "Description:\n",
    "  * The [random forest(RF) model](#train_test) was trained on svanalyzer data. The trained model was used to predict consensus GT labels for the 5000 deletions that were randomly selected from the union_refalt vcf. The following is a comparison of model predicted labels [Conesus GT] to consensus genotype generated by the R script for the 5000 randomly selected datapoints from union_refalt.vcf "
   ]
  },
  {
   "cell_type": "code",
   "execution_count": 61,
   "metadata": {},
   "outputs": [
    {
     "name": "stdout",
     "output_type": "stream",
     "text": [
      "[[ 743   67   55]\n",
      " [ 187 1737  316]\n",
      " [  21   75  802]]\n"
     ]
    }
   ],
   "source": [
    "from sklearn.metrics import confusion_matrix\n",
    "consensus_GT = X6['GTcons']\n",
    "predict = X6['TenX_predicted_GTcons_label']\n",
    "print(confusion_matrix(consensus_GT, predict))"
   ]
  },
  {
   "cell_type": "code",
   "execution_count": 62,
   "metadata": {
    "collapsed": true
   },
   "outputs": [],
   "source": [
    "X6['GTcons'].replace(0, 'Homozygous_Reference', inplace=True)\n",
    "X6['GTcons'].replace(1, 'Heterozygous_Variant', inplace=True)\n",
    "X6['GTcons'].replace(2, 'Homozygous_Variant', inplace=True)\n",
    "X6['TenX_predicted_GTcons_label'].replace(0.0, 'Homozygous_Reference', inplace=True)\n",
    "X6['TenX_predicted_GTcons_label'].replace(1.0, 'Heterozygous_Variant', inplace=True)\n",
    "X6['TenX_predicted_GTcons_label'].replace(2.0, 'Homozygous_Variant', inplace=True)"
   ]
  },
  {
   "cell_type": "markdown",
   "metadata": {},
   "source": [
    "<a id='predict_precision_score_matrix'></a>"
   ]
  },
  {
   "cell_type": "code",
   "execution_count": 64,
   "metadata": {},
   "outputs": [
    {
     "name": "stdout",
     "output_type": "stream",
     "text": [
      "Precision score of the prediction subset: 0.820\n"
     ]
    }
   ],
   "source": [
    "print('Precision score of the prediction subset: {:.3f}'.format(precision_score(consensus_GT, predict, average='micro'))) "
   ]
  },
  {
   "cell_type": "code",
   "execution_count": 63,
   "metadata": {},
   "outputs": [
    {
     "data": {
      "text/html": [
       "<div>\n",
       "<table border=\"1\" class=\"dataframe\">\n",
       "  <thead>\n",
       "    <tr style=\"text-align: right;\">\n",
       "      <th>Predicted</th>\n",
       "      <th>Heterozygous_Variant</th>\n",
       "      <th>Homozygous_Reference</th>\n",
       "      <th>Homozygous_Variant</th>\n",
       "      <th>All</th>\n",
       "    </tr>\n",
       "    <tr>\n",
       "      <th>True</th>\n",
       "      <th></th>\n",
       "      <th></th>\n",
       "      <th></th>\n",
       "      <th></th>\n",
       "    </tr>\n",
       "  </thead>\n",
       "  <tbody>\n",
       "    <tr>\n",
       "      <th>Heterozygous_Variant</th>\n",
       "      <td>1737</td>\n",
       "      <td>187</td>\n",
       "      <td>316</td>\n",
       "      <td>2240</td>\n",
       "    </tr>\n",
       "    <tr>\n",
       "      <th>Homozygous_Reference</th>\n",
       "      <td>67</td>\n",
       "      <td>743</td>\n",
       "      <td>55</td>\n",
       "      <td>865</td>\n",
       "    </tr>\n",
       "    <tr>\n",
       "      <th>Homozygous_Variant</th>\n",
       "      <td>75</td>\n",
       "      <td>21</td>\n",
       "      <td>802</td>\n",
       "      <td>898</td>\n",
       "    </tr>\n",
       "    <tr>\n",
       "      <th>All</th>\n",
       "      <td>1879</td>\n",
       "      <td>951</td>\n",
       "      <td>1173</td>\n",
       "      <td>4003</td>\n",
       "    </tr>\n",
       "  </tbody>\n",
       "</table>\n",
       "</div>"
      ],
      "text/plain": [
       "Predicted             Heterozygous_Variant  Homozygous_Reference  \\\n",
       "True                                                               \n",
       "Heterozygous_Variant                  1737                   187   \n",
       "Homozygous_Reference                    67                   743   \n",
       "Homozygous_Variant                      75                    21   \n",
       "All                                   1879                   951   \n",
       "\n",
       "Predicted             Homozygous_Variant   All  \n",
       "True                                            \n",
       "Heterozygous_Variant                 316  2240  \n",
       "Homozygous_Reference                  55   865  \n",
       "Homozygous_Variant                   802   898  \n",
       "All                                 1173  4003  "
      ]
     },
     "execution_count": 63,
     "metadata": {},
     "output_type": "execute_result"
    }
   ],
   "source": [
    "pd.crosstab(consensus_GT, predict, rownames=['True'], colnames=['Predicted'], margins=True)"
   ]
  },
  {
   "cell_type": "markdown",
   "metadata": {},
   "source": [
    "** High Confidence Label Analysis**\n",
    "* **Reminder:** The labels predicted by the model are the following consensus genotype:\n",
    "    * Homozygous Reference: 0 \n",
    "    * Heterozygous Variant: 1 \n",
    "    * Homozygous Variant: 2 \n",
    "* Here **high confidence labels** are the labels predicted by the model that were also assigned a predict probability of either 0.9 or 1\n",
    "* The following is an analysis of predicted svanalyzer labels with predict probability >0.9"
   ]
  },
  {
   "cell_type": "code",
   "execution_count": 65,
   "metadata": {
    "collapsed": true
   },
   "outputs": [],
   "source": [
    "high_conf_labels = X6[(X6['Homozygous_Reference_GTcons_TenX'] == 1) | (X6['Homozygous_Reference_GTcons_TenX'] == 0.9) | (X6['Heterozygous_Variant_GTcons_TenX'] == 1) | (X6['Heterozygous_Variant_GTcons_TenX'] == 0.9) | (X6['Homozygous_Variant_GTcons_TenX'] == 1) | (X6['Homozygous_Variant_GTcons_TenX'] == 0.9)]\n"
   ]
  },
  {
   "cell_type": "markdown",
   "metadata": {},
   "source": [
    "<a id='hiconf_precision_score'></a>"
   ]
  },
  {
   "cell_type": "code",
   "execution_count": 67,
   "metadata": {},
   "outputs": [
    {
     "data": {
      "text/html": [
       "<div>\n",
       "<table border=\"1\" class=\"dataframe\">\n",
       "  <thead>\n",
       "    <tr style=\"text-align: right;\">\n",
       "      <th>Predicted</th>\n",
       "      <th>Heterozygous_Variant</th>\n",
       "      <th>Homozygous_Reference</th>\n",
       "      <th>Homozygous_Variant</th>\n",
       "      <th>All</th>\n",
       "    </tr>\n",
       "    <tr>\n",
       "      <th>True</th>\n",
       "      <th></th>\n",
       "      <th></th>\n",
       "      <th></th>\n",
       "      <th></th>\n",
       "    </tr>\n",
       "  </thead>\n",
       "  <tbody>\n",
       "    <tr>\n",
       "      <th>Heterozygous_Variant</th>\n",
       "      <td>777</td>\n",
       "      <td>12</td>\n",
       "      <td>49</td>\n",
       "      <td>838</td>\n",
       "    </tr>\n",
       "    <tr>\n",
       "      <th>Homozygous_Reference</th>\n",
       "      <td>5</td>\n",
       "      <td>504</td>\n",
       "      <td>6</td>\n",
       "      <td>515</td>\n",
       "    </tr>\n",
       "    <tr>\n",
       "      <th>Homozygous_Variant</th>\n",
       "      <td>8</td>\n",
       "      <td>4</td>\n",
       "      <td>496</td>\n",
       "      <td>508</td>\n",
       "    </tr>\n",
       "    <tr>\n",
       "      <th>All</th>\n",
       "      <td>790</td>\n",
       "      <td>520</td>\n",
       "      <td>551</td>\n",
       "      <td>1861</td>\n",
       "    </tr>\n",
       "  </tbody>\n",
       "</table>\n",
       "</div>"
      ],
      "text/plain": [
       "Predicted             Heterozygous_Variant  Homozygous_Reference  \\\n",
       "True                                                               \n",
       "Heterozygous_Variant                   777                    12   \n",
       "Homozygous_Reference                     5                   504   \n",
       "Homozygous_Variant                       8                     4   \n",
       "All                                    790                   520   \n",
       "\n",
       "Predicted             Homozygous_Variant   All  \n",
       "True                                            \n",
       "Heterozygous_Variant                  49   838  \n",
       "Homozygous_Reference                   6   515  \n",
       "Homozygous_Variant                   496   508  \n",
       "All                                  551  1861  "
      ]
     },
     "execution_count": 67,
     "metadata": {},
     "output_type": "execute_result"
    }
   ],
   "source": [
    "consensus_GT = high_conf_labels['GTcons']\n",
    "predict = high_conf_labels['TenX_predicted_GTcons_label']\n",
    "pd.crosstab(consensus_GT, predict, rownames=['True'], colnames=['Predicted'], margins=True)"
   ]
  },
  {
   "cell_type": "code",
   "execution_count": 68,
   "metadata": {},
   "outputs": [
    {
     "name": "stdout",
     "output_type": "stream",
     "text": [
      "                      precision    recall  f1-score   support\n",
      "\n",
      "Heterozygous_Variant       0.98      0.93      0.95       838\n",
      "Homozygous_Reference       0.97      0.98      0.97       515\n",
      "  Homozygous_Variant       0.90      0.98      0.94       508\n",
      "\n",
      "         avg / total       0.96      0.95      0.96      1861\n",
      "\n"
     ]
    }
   ],
   "source": [
    "from sklearn.metrics import classification_report\n",
    "print(classification_report(consensus_GT, predict))"
   ]
  }
 ],
 "metadata": {
  "kernelspec": {
   "display_name": "Python [NIHFAES]",
   "language": "python",
   "name": "Python [NIHFAES]"
  },
  "language_info": {
   "codemirror_mode": {
    "name": "ipython",
    "version": 3
   },
   "file_extension": ".py",
   "mimetype": "text/x-python",
   "name": "python",
   "nbconvert_exporter": "python",
   "pygments_lexer": "ipython3",
   "version": "3.5.2"
  }
 },
 "nbformat": 4,
 "nbformat_minor": 2
}
