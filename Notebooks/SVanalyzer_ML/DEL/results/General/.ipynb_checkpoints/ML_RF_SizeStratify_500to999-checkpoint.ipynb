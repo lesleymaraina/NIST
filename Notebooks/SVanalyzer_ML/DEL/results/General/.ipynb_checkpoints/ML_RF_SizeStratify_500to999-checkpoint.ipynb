{
 "cells": [
  {
   "cell_type": "markdown",
   "metadata": {},
   "source": [
    "ML_RF_SizeStratify_400to499\n",
    "* Machine Learning Training Data : size stratification\n",
    "* Data originally pooled from all technologies"
   ]
  },
  {
   "cell_type": "code",
   "execution_count": 1,
   "metadata": {},
   "outputs": [
    {
     "name": "stderr",
     "output_type": "stream",
     "text": [
      "/Users/lmc2/anaconda/envs/NIHFAES/lib/python3.5/site-packages/sklearn/cross_validation.py:41: DeprecationWarning: This module was deprecated in version 0.18 in favor of the model_selection module into which all the refactored classes and functions are moved. Also note that the interface of the new CV iterators are different from that of this module. This module will be removed in 0.20.\n",
      "  \"This module will be removed in 0.20.\", DeprecationWarning)\n",
      "/Users/lmc2/anaconda/envs/NIHFAES/lib/python3.5/site-packages/sklearn/grid_search.py:42: DeprecationWarning: This module was deprecated in version 0.18 in favor of the model_selection module into which all the refactored classes and functions are moved. This module will be removed in 0.20.\n",
      "  DeprecationWarning)\n"
     ]
    }
   ],
   "source": [
    "\"\"\"\n",
    "Imports\n",
    "\"\"\"\n",
    "import pandas as pd\n",
    "import numpy as np\n",
    "import graphviz\n",
    "import io\n",
    "from fancyimpute import KNN\n",
    "import matplotlib.pyplot as plt\n",
    "from sklearn import preprocessing\n",
    "from sklearn.grid_search import GridSearchCV\n",
    "from sklearn.preprocessing import LabelEncoder\n",
    "from sklearn.model_selection import LeaveOneOut\n",
    "from scipy.stats import ks_2samp\n",
    "from scipy import stats\n",
    "from matplotlib import pyplot\n",
    "from sklearn import preprocessing\n",
    "from scipy.linalg import svd\n",
    "from sklearn.decomposition import TruncatedSVD\n",
    "from sklearn.ensemble import RandomForestClassifier\n",
    "from sklearn.metrics import roc_auc_score\n",
    "import seaborn as sns\n",
    "from sklearn.manifold import TSNE\n",
    "from sklearn.decomposition import PCA as sklearnPCA\n",
    "import plotly.plotly as py\n",
    "from sklearn.cluster import DBSCAN\n",
    "from sklearn.model_selection import train_test_split\n",
    "from sklearn import metrics\n",
    "from sklearn.grid_search import GridSearchCV\n",
    "from sklearn.metrics import f1_score, precision_score\n",
    "from sklearn import preprocessing\n",
    "from ggplot import *\n",
    "from bokeh.charts import TimeSeries\n",
    "from bokeh.models import HoverTool\n",
    "from bokeh.plotting import show\n",
    "from bokeh.charts import Scatter, Histogram, output_file, show\n",
    "from bokeh.plotting import figure, show, output_file, ColumnDataSource\n",
    "from bokeh.io import output_notebook\n",
    "from bokeh.charts import Bar, output_file, show\n",
    "import bokeh.palettes as palettes\n",
    "from bokeh.models import HoverTool, BoxSelectTool, Legend\n",
    "from sklearn import (manifold, datasets, decomposition, ensemble,\n",
    "                     discriminant_analysis, random_projection)"
   ]
  },
  {
   "cell_type": "code",
   "execution_count": 2,
   "metadata": {
    "collapsed": true
   },
   "outputs": [],
   "source": [
    "# Import Training Data\n",
    "df_20to49 = pd.read_csv('/Volumes/lesleydata/RF_model_trainingData_test/size_data/train/df_20to49_train_.csv')\n",
    "df_50to99 = pd.read_csv('/Volumes/lesleydata/RF_model_trainingData_test/size_data/train/df_50to99_train_.csv')\n",
    "df_100to299 = pd.read_csv('/Volumes/lesleydata/RF_model_trainingData_test/size_data/train/df_100to299_train_.csv')\n",
    "df_300to399 = pd.read_csv('/Volumes/lesleydata/RF_model_trainingData_test/size_data/train/df_300to399_train_.csv')\n",
    "df_400to499 = pd.read_csv('/Volumes/lesleydata/RF_model_trainingData_test/size_data/train/df_400to499_train_.csv')\n",
    "df_500to999 = pd.read_csv('/Volumes/lesleydata/RF_model_trainingData_test/size_data/train/df_500to999_train_.csv')\n",
    "df_1000to5999 = pd.read_csv('/Volumes/lesleydata/RF_model_trainingData_test/size_data/train/df_1000to5999_train_.csv')\n",
    "df_6000 = pd.read_csv('/Volumes/lesleydata/RF_model_trainingData_test/size_data/train/df_6000_train_.csv')"
   ]
  },
  {
   "cell_type": "code",
   "execution_count": 3,
   "metadata": {
    "collapsed": true
   },
   "outputs": [],
   "source": [
    "# Copy Dataframes for later parsing tasks\n",
    "df_20to49_ = pd.read_csv('/Volumes/lesleydata/RF_model_trainingData_test/size_data/train/df_20to49_train.csv')\n",
    "df_50to99_ = pd.read_csv('/Volumes/lesleydata/RF_model_trainingData_test/size_data/train/df_50to99_train.csv')\n",
    "df_100to299_ = pd.read_csv('/Volumes/lesleydata/RF_model_trainingData_test/size_data/train/df_100to299_train.csv')\n",
    "df_300to399_ = pd.read_csv('/Volumes/lesleydata/RF_model_trainingData_test/size_data/train/df_300to399_train.csv')\n",
    "df_400to499_ = pd.read_csv('/Volumes/lesleydata/RF_model_trainingData_test/size_data/train/df_400to499_train.csv')\n",
    "df_500to999_ = pd.read_csv('/Volumes/lesleydata/RF_model_trainingData_test/size_data/train/df_500to999_train.csv')\n",
    "df_1000to5999_ = pd.read_csv('/Volumes/lesleydata/RF_model_trainingData_test/size_data/train/df_1000to5999_train.csv')\n",
    "df_6000_ = pd.read_csv('/Volumes/lesleydata/RF_model_trainingData_test/size_data/train/df_6000_train.csv')"
   ]
  },
  {
   "cell_type": "code",
   "execution_count": 4,
   "metadata": {
    "collapsed": true
   },
   "outputs": [],
   "source": [
    "df_20to49['GTcons'].replace('Homozygous_Reference', 0, inplace=True)\n",
    "df_20to49['GTcons'].replace('Heterozygous_Variant', 1, inplace=True)\n",
    "df_20to49['GTcons'].replace('Homozygous_Variant', 2, inplace=True)\n",
    "\n",
    "df_50to99['GTcons'].replace('Homozygous_Reference', 0, inplace=True)\n",
    "df_50to99['GTcons'].replace('Heterozygous_Variant', 1, inplace=True)\n",
    "df_50to99['GTcons'].replace('Homozygous_Variant', 2, inplace=True)\n",
    "\n",
    "df_100to299['GTcons'].replace('Homozygous_Reference', 0, inplace=True)\n",
    "df_100to299['GTcons'].replace('Heterozygous_Variant', 1, inplace=True)\n",
    "df_100to299['GTcons'].replace('Homozygous_Variant', 2, inplace=True)\n",
    "\n",
    "df_300to399['GTcons'].replace('Homozygous_Reference', 0, inplace=True)\n",
    "df_300to399['GTcons'].replace('Heterozygous_Variant', 1, inplace=True)\n",
    "df_300to399['GTcons'].replace('Homozygous_Variant', 2, inplace=True)\n",
    "\n",
    "df_400to499['GTcons'].replace('Homozygous_Reference', 0, inplace=True)\n",
    "df_400to499['GTcons'].replace('Heterozygous_Variant', 1, inplace=True)\n",
    "df_400to499['GTcons'].replace('Homozygous_Variant', 2, inplace=True)\n",
    "\n",
    "df_500to999['GTcons'].replace('Homozygous_Reference', 0, inplace=True)\n",
    "df_500to999['GTcons'].replace('Heterozygous_Variant', 1, inplace=True)\n",
    "df_500to999['GTcons'].replace('Homozygous_Variant', 2, inplace=True)\n",
    "\n",
    "df_1000to5999['GTcons'].replace('Homozygous_Reference', 0, inplace=True)\n",
    "df_1000to5999['GTcons'].replace('Heterozygous_Variant', 1, inplace=True)\n",
    "df_1000to5999['GTcons'].replace('Homozygous_Variant', 2, inplace=True)\n",
    "\n",
    "df_6000['GTcons'].replace('Homozygous_Reference', 0, inplace=True)\n",
    "df_6000['GTcons'].replace('Heterozygous_Variant', 1, inplace=True)\n",
    "df_6000['GTcons'].replace('Homozygous_Variant', 2, inplace=True)"
   ]
  },
  {
   "cell_type": "markdown",
   "metadata": {},
   "source": [
    "<a id='imbalance'></a>"
   ]
  },
  {
   "cell_type": "markdown",
   "metadata": {},
   "source": [
    "<a id='hom_ref'></a>"
   ]
  },
  {
   "cell_type": "code",
   "execution_count": 5,
   "metadata": {
    "collapsed": true
   },
   "outputs": [],
   "source": [
    "# Import Test Data\n",
    "df_20to49_test = pd.read_csv('/Volumes/lesleydata/RF_model_trainingData_test/size_data/test/df_20to49_test_.csv')\n",
    "df_50to99_test = pd.read_csv('/Volumes/lesleydata/RF_model_trainingData_test/size_data/test/df_50to99_test_.csv')\n",
    "df_100to299_test = pd.read_csv('/Volumes/lesleydata/RF_model_trainingData_test/size_data/test/df_100to299_test_.csv')\n",
    "df_300to399_test = pd.read_csv('/Volumes/lesleydata/RF_model_trainingData_test/size_data/test/df_300to399_test_.csv')\n",
    "df_400to499_test = pd.read_csv('/Volumes/lesleydata/RF_model_trainingData_test/size_data/test/df_400to499_test_.csv')\n",
    "df_500to999_test = pd.read_csv('/Volumes/lesleydata/RF_model_trainingData_test/size_data/test/df_500to999_test_.csv')\n",
    "df_1000to5999_test = pd.read_csv('/Volumes/lesleydata/RF_model_trainingData_test/size_data/test/df_1000to5999_test_.csv')\n",
    "df_6000_test = pd.read_csv('/Volumes/lesleydata/RF_model_trainingData_test/size_data/test/df_6000_test_.csv')"
   ]
  },
  {
   "cell_type": "code",
   "execution_count": 6,
   "metadata": {
    "collapsed": true
   },
   "outputs": [],
   "source": [
    "# Import Test Data\n",
    "df_20to49_test_ = pd.read_csv('/Volumes/lesleydata/RF_model_trainingData_test/size_data/test/df_20to49_test.csv')\n",
    "df_50to99_test_ = pd.read_csv('/Volumes/lesleydata/RF_model_trainingData_test/size_data/test/df_50to99_test.csv')\n",
    "df_100to299_test_ = pd.read_csv('/Volumes/lesleydata/RF_model_trainingData_test/size_data/test/df_100to299_test.csv')\n",
    "df_300to399_test_ = pd.read_csv('/Volumes/lesleydata/RF_model_trainingData_test/size_data/test/df_300to399_test.csv')\n",
    "df_400to499_test_ = pd.read_csv('/Volumes/lesleydata/RF_model_trainingData_test/size_data/test/df_400to499_test.csv')\n",
    "df_500to999_test_ = pd.read_csv('/Volumes/lesleydata/RF_model_trainingData_test/size_data/test/df_500to999_test.csv')\n",
    "df_1000to5999_test_ = pd.read_csv('/Volumes/lesleydata/RF_model_trainingData_test/size_data/test/df_1000to5999_test.csv')\n",
    "df_6000_test_ = pd.read_csv('/Volumes/lesleydata/RF_model_trainingData_test/size_data/test/df_6000_test.csv')"
   ]
  },
  {
   "cell_type": "code",
   "execution_count": 7,
   "metadata": {
    "collapsed": true
   },
   "outputs": [],
   "source": [
    "df_20to49_test['GTcons'].replace('Homozygous_Reference', 0, inplace=True)\n",
    "df_20to49_test['GTcons'].replace('Heterozygous_Variant', 1, inplace=True)\n",
    "df_20to49_test['GTcons'].replace('Homozygous_Variant', 2, inplace=True)\n",
    "\n",
    "df_50to99_test['GTcons'].replace('Homozygous_Reference', 0, inplace=True)\n",
    "df_50to99_test['GTcons'].replace('Heterozygous_Variant', 1, inplace=True)\n",
    "df_50to99_test['GTcons'].replace('Homozygous_Variant', 2, inplace=True)\n",
    "\n",
    "df_100to299_test['GTcons'].replace('Homozygous_Reference', 0, inplace=True)\n",
    "df_100to299_test['GTcons'].replace('Heterozygous_Variant', 1, inplace=True)\n",
    "df_100to299_test['GTcons'].replace('Homozygous_Variant', 2, inplace=True)\n",
    "\n",
    "df_300to399_test['GTcons'].replace('Homozygous_Reference', 0, inplace=True)\n",
    "df_300to399_test['GTcons'].replace('Heterozygous_Variant', 1, inplace=True)\n",
    "df_300to399_test['GTcons'].replace('Homozygous_Variant', 2, inplace=True)\n",
    "\n",
    "df_400to499_test['GTcons'].replace('Homozygous_Reference', 0, inplace=True)\n",
    "df_400to499_test['GTcons'].replace('Heterozygous_Variant', 1, inplace=True)\n",
    "df_400to499_test['GTcons'].replace('Homozygous_Variant', 2, inplace=True)\n",
    "\n",
    "df_500to999_test['GTcons'].replace('Homozygous_Reference', 0, inplace=True)\n",
    "df_500to999_test['GTcons'].replace('Heterozygous_Variant', 1, inplace=True)\n",
    "df_500to999_test['GTcons'].replace('Homozygous_Variant', 2, inplace=True)\n",
    "\n",
    "df_1000to5999_test['GTcons'].replace('Homozygous_Reference', 0, inplace=True)\n",
    "df_1000to5999_test['GTcons'].replace('Heterozygous_Variant', 1, inplace=True)\n",
    "df_1000to5999_test['GTcons'].replace('Homozygous_Variant', 2, inplace=True)\n",
    "\n",
    "df_6000_test['GTcons'].replace('Homozygous_Reference', 0, inplace=True)\n",
    "df_6000_test['GTcons'].replace('Heterozygous_Variant', 1, inplace=True)\n",
    "df_6000_test['GTcons'].replace('Homozygous_Variant', 2, inplace=True)"
   ]
  },
  {
   "cell_type": "code",
   "execution_count": 8,
   "metadata": {
    "collapsed": true
   },
   "outputs": [],
   "source": [
    "df_20to49_test_['GTcons'].replace('Homozygous_Reference', 0, inplace=True)\n",
    "df_20to49_test_['GTcons'].replace('Heterozygous_Variant', 1, inplace=True)\n",
    "df_20to49_test_['GTcons'].replace('Homozygous_Variant', 2, inplace=True)\n",
    "\n",
    "df_50to99_test_['GTcons'].replace('Homozygous_Reference', 0, inplace=True)\n",
    "df_50to99_test_['GTcons'].replace('Heterozygous_Variant', 1, inplace=True)\n",
    "df_50to99_test_['GTcons'].replace('Homozygous_Variant', 2, inplace=True)\n",
    "\n",
    "df_100to299_test_['GTcons'].replace('Homozygous_Reference', 0, inplace=True)\n",
    "df_100to299_test_['GTcons'].replace('Heterozygous_Variant', 1, inplace=True)\n",
    "df_100to299_test_['GTcons'].replace('Homozygous_Variant', 2, inplace=True)\n",
    "\n",
    "df_300to399_test_['GTcons'].replace('Homozygous_Reference', 0, inplace=True)\n",
    "df_300to399_test_['GTcons'].replace('Heterozygous_Variant', 1, inplace=True)\n",
    "df_300to399_test_['GTcons'].replace('Homozygous_Variant', 2, inplace=True)\n",
    "\n",
    "df_400to499_test_['GTcons'].replace('Homozygous_Reference', 0, inplace=True)\n",
    "df_400to499_test_['GTcons'].replace('Heterozygous_Variant', 1, inplace=True)\n",
    "df_400to499_test_['GTcons'].replace('Homozygous_Variant', 2, inplace=True)\n",
    "\n",
    "df_500to999_test_['GTcons'].replace('Homozygous_Reference', 0, inplace=True)\n",
    "df_500to999_test_['GTcons'].replace('Heterozygous_Variant', 1, inplace=True)\n",
    "df_500to999_test_['GTcons'].replace('Homozygous_Variant', 2, inplace=True)\n",
    "\n",
    "df_1000to5999_test_['GTcons'].replace('Homozygous_Reference', 0, inplace=True)\n",
    "df_1000to5999_test_['GTcons'].replace('Heterozygous_Variant', 1, inplace=True)\n",
    "df_1000to5999_test_['GTcons'].replace('Homozygous_Variant', 2, inplace=True)\n",
    "\n",
    "df_6000_test_['GTcons'].replace('Homozygous_Reference', 0, inplace=True)\n",
    "df_6000_test_['GTcons'].replace('Heterozygous_Variant', 1, inplace=True)\n",
    "df_6000_test_['GTcons'].replace('Homozygous_Variant', 2, inplace=True)"
   ]
  },
  {
   "cell_type": "code",
   "execution_count": 9,
   "metadata": {
    "collapsed": true
   },
   "outputs": [],
   "source": [
    "# # Store header names in lists and find names that are NOT contained in BOTH lists\n",
    "# c = list(df_train.columns.values)\n",
    "# d = list(df_test.columns.values)\n",
    "# set(d) - set(c)"
   ]
  },
  {
   "cell_type": "markdown",
   "metadata": {},
   "source": [
    "***\n",
    "EDA\n",
    "\n",
    "Size distribution of sampled data set [all size datasets pooled]\n",
    "***"
   ]
  },
  {
   "cell_type": "code",
   "execution_count": 10,
   "metadata": {
    "collapsed": true
   },
   "outputs": [],
   "source": [
    "# df_train = pd.read_csv('/Volumes/lesleydata/RF_model_trainingData_test/train/random_sample_SizeBins_szwt_train.csv')\n",
    "# df_test = pd.read_csv('/Volumes/lesleydata/RF_model_trainingData_test/test/random_sample_SizeBins_szwt_test.csv')"
   ]
  },
  {
   "cell_type": "code",
   "execution_count": 11,
   "metadata": {
    "collapsed": true
   },
   "outputs": [],
   "source": [
    "# df_train['Size'].abs()\n",
    "# df_test['Size'].abs()\n",
    "# df_test = df_test[df_test['Size'] >= 20]\n",
    "\n",
    "# df_train['log_size'] = np.log10(df_train.Size)\n",
    "# df_test['log_size'] = np.log10(df_test.Size)"
   ]
  },
  {
   "cell_type": "code",
   "execution_count": 12,
   "metadata": {
    "collapsed": true
   },
   "outputs": [],
   "source": [
    "# sns.set_style(\"white\")\n",
    "# p = df_train['log_size'].hist(alpha = 0.5, bins = 30, edgecolor='black', label='hom_var')\n",
    "# p.grid(False)\n",
    "# p.set_xlabel('Size[log10]')\n",
    "# p.set_ylabel('Frequency')\n",
    "# p.set_title('Training Set')\n",
    "# # plt.savefig('/Volumes/lesleydata/RF_model_trainingData_test/size_data/results/figures/SizeDist_training.png', bbox_inches='tight') "
   ]
  },
  {
   "cell_type": "code",
   "execution_count": 13,
   "metadata": {
    "collapsed": true
   },
   "outputs": [],
   "source": [
    "# sns.set_style(\"white\")\n",
    "# p = df_test['log_size'].hist(alpha = 0.5, bins = 30, edgecolor='black', label='hom_var')\n",
    "# p.grid(False)\n",
    "# p.set_xlabel('Size[log10]')\n",
    "# p.set_ylabel('Frequency')\n",
    "# p.set_title('Test Set')\n",
    "# plt.savefig('/Volumes/lesleydata/RF_model_trainingData_test/size_data/results/figures/SizeDist_test.png', bbox_inches='tight') "
   ]
  },
  {
   "cell_type": "markdown",
   "metadata": {},
   "source": [
    "***\n",
    "**300-399bp**\n",
    "***"
   ]
  },
  {
   "cell_type": "markdown",
   "metadata": {},
   "source": [
    "***\n",
    "Impute missing values using KNN\n",
    "***"
   ]
  },
  {
   "cell_type": "code",
   "execution_count": 14,
   "metadata": {},
   "outputs": [
    {
     "data": {
      "text/html": [
       "<div>\n",
       "<table border=\"1\" class=\"dataframe\">\n",
       "  <thead>\n",
       "    <tr style=\"text-align: right;\">\n",
       "      <th></th>\n",
       "      <th>GTcons</th>\n",
       "      <th>Ill250.alt_alnScore_mean</th>\n",
       "      <th>Ill250.alt_alnScore_std</th>\n",
       "      <th>Ill250.alt_count</th>\n",
       "      <th>Ill250.alt_insertSize_mean</th>\n",
       "      <th>Ill250.alt_insertSize_std</th>\n",
       "      <th>Ill250.alt_reason_alignmentScore</th>\n",
       "      <th>Ill250.alt_reason_insertSizeScore</th>\n",
       "      <th>Ill250.alt_reason_orientation</th>\n",
       "      <th>Ill250.amb_alnScore_mean</th>\n",
       "      <th>...</th>\n",
       "      <th>pacbio.ref_insertSize_mean</th>\n",
       "      <th>pacbio.ref_insertSize_std</th>\n",
       "      <th>pacbio.ref_reason_alignmentScore</th>\n",
       "      <th>refN_cnt</th>\n",
       "      <th>refN_pct</th>\n",
       "      <th>segdup_cnt</th>\n",
       "      <th>segdup_pct</th>\n",
       "      <th>start</th>\n",
       "      <th>tandemrep_cnt</th>\n",
       "      <th>tandemrep_pct</th>\n",
       "    </tr>\n",
       "  </thead>\n",
       "  <tbody>\n",
       "    <tr>\n",
       "      <th>0</th>\n",
       "      <td>1</td>\n",
       "      <td>978.176471</td>\n",
       "      <td>11.791000</td>\n",
       "      <td>34.0</td>\n",
       "      <td>435.441176</td>\n",
       "      <td>87.213461</td>\n",
       "      <td>33.0</td>\n",
       "      <td>1.0</td>\n",
       "      <td>0.0</td>\n",
       "      <td>905.307692</td>\n",
       "      <td>...</td>\n",
       "      <td>2370.00000</td>\n",
       "      <td>0.000000</td>\n",
       "      <td>1.0</td>\n",
       "      <td>0</td>\n",
       "      <td>0</td>\n",
       "      <td>0</td>\n",
       "      <td>0.0</td>\n",
       "      <td>108380678</td>\n",
       "      <td>1</td>\n",
       "      <td>1.000000</td>\n",
       "    </tr>\n",
       "    <tr>\n",
       "      <th>1</th>\n",
       "      <td>0</td>\n",
       "      <td>962.000000</td>\n",
       "      <td>24.392622</td>\n",
       "      <td>10.0</td>\n",
       "      <td>419.700000</td>\n",
       "      <td>43.501839</td>\n",
       "      <td>10.0</td>\n",
       "      <td>0.0</td>\n",
       "      <td>0.0</td>\n",
       "      <td>841.210526</td>\n",
       "      <td>...</td>\n",
       "      <td>10299.21053</td>\n",
       "      <td>4609.772544</td>\n",
       "      <td>38.0</td>\n",
       "      <td>0</td>\n",
       "      <td>0</td>\n",
       "      <td>0</td>\n",
       "      <td>0.0</td>\n",
       "      <td>80085520</td>\n",
       "      <td>1</td>\n",
       "      <td>0.040094</td>\n",
       "    </tr>\n",
       "    <tr>\n",
       "      <th>2</th>\n",
       "      <td>0</td>\n",
       "      <td>0.000000</td>\n",
       "      <td>0.000000</td>\n",
       "      <td>0.0</td>\n",
       "      <td>0.000000</td>\n",
       "      <td>0.000000</td>\n",
       "      <td>0.0</td>\n",
       "      <td>0.0</td>\n",
       "      <td>0.0</td>\n",
       "      <td>881.853982</td>\n",
       "      <td>...</td>\n",
       "      <td>10507.58065</td>\n",
       "      <td>3814.763619</td>\n",
       "      <td>62.0</td>\n",
       "      <td>0</td>\n",
       "      <td>0</td>\n",
       "      <td>0</td>\n",
       "      <td>0.0</td>\n",
       "      <td>122804568</td>\n",
       "      <td>2</td>\n",
       "      <td>0.117271</td>\n",
       "    </tr>\n",
       "  </tbody>\n",
       "</table>\n",
       "<p>3 rows × 177 columns</p>\n",
       "</div>"
      ],
      "text/plain": [
       "   GTcons  Ill250.alt_alnScore_mean  Ill250.alt_alnScore_std  \\\n",
       "0       1                978.176471                11.791000   \n",
       "1       0                962.000000                24.392622   \n",
       "2       0                  0.000000                 0.000000   \n",
       "\n",
       "   Ill250.alt_count  Ill250.alt_insertSize_mean  Ill250.alt_insertSize_std  \\\n",
       "0              34.0                  435.441176                  87.213461   \n",
       "1              10.0                  419.700000                  43.501839   \n",
       "2               0.0                    0.000000                   0.000000   \n",
       "\n",
       "   Ill250.alt_reason_alignmentScore  Ill250.alt_reason_insertSizeScore  \\\n",
       "0                              33.0                                1.0   \n",
       "1                              10.0                                0.0   \n",
       "2                               0.0                                0.0   \n",
       "\n",
       "   Ill250.alt_reason_orientation  Ill250.amb_alnScore_mean      ...        \\\n",
       "0                            0.0                905.307692      ...         \n",
       "1                            0.0                841.210526      ...         \n",
       "2                            0.0                881.853982      ...         \n",
       "\n",
       "   pacbio.ref_insertSize_mean  pacbio.ref_insertSize_std  \\\n",
       "0                  2370.00000                   0.000000   \n",
       "1                 10299.21053                4609.772544   \n",
       "2                 10507.58065                3814.763619   \n",
       "\n",
       "   pacbio.ref_reason_alignmentScore  refN_cnt  refN_pct  segdup_cnt  \\\n",
       "0                               1.0         0         0           0   \n",
       "1                              38.0         0         0           0   \n",
       "2                              62.0         0         0           0   \n",
       "\n",
       "   segdup_pct      start  tandemrep_cnt  tandemrep_pct  \n",
       "0         0.0  108380678              1       1.000000  \n",
       "1         0.0   80085520              1       0.040094  \n",
       "2         0.0  122804568              2       0.117271  \n",
       "\n",
       "[3 rows x 177 columns]"
      ]
     },
     "execution_count": 14,
     "metadata": {},
     "output_type": "execute_result"
    }
   ],
   "source": [
    "# Store training data in a new variable which will be converted to a matrix\n",
    "X = df_400to499\n",
    "X.head(3)"
   ]
  },
  {
   "cell_type": "code",
   "execution_count": 15,
   "metadata": {},
   "outputs": [
    {
     "name": "stdout",
     "output_type": "stream",
     "text": [
      "Imputing row 1/33 with 2 missing, elapsed time: 0.003\n"
     ]
    }
   ],
   "source": [
    "# Convert dataframe to matrix\n",
    "X=X.as_matrix()\n",
    "\n",
    "#Imput missing values from three closest observations\n",
    "X_imputed=KNN(k=3).complete(X)\n",
    "X=pd.DataFrame(X_imputed)"
   ]
  },
  {
   "cell_type": "code",
   "execution_count": 16,
   "metadata": {},
   "outputs": [
    {
     "data": {
      "text/html": [
       "<div>\n",
       "<table border=\"1\" class=\"dataframe\">\n",
       "  <thead>\n",
       "    <tr style=\"text-align: right;\">\n",
       "      <th></th>\n",
       "      <th>GTcons</th>\n",
       "      <th>Ill250.alt_alnScore_mean</th>\n",
       "      <th>Ill250.alt_alnScore_std</th>\n",
       "      <th>Ill250.alt_count</th>\n",
       "      <th>Ill250.alt_insertSize_mean</th>\n",
       "      <th>Ill250.alt_insertSize_std</th>\n",
       "      <th>Ill250.alt_reason_alignmentScore</th>\n",
       "      <th>Ill250.alt_reason_insertSizeScore</th>\n",
       "      <th>Ill250.alt_reason_orientation</th>\n",
       "      <th>Ill250.amb_alnScore_mean</th>\n",
       "      <th>...</th>\n",
       "      <th>pacbio.ref_insertSize_mean</th>\n",
       "      <th>pacbio.ref_insertSize_std</th>\n",
       "      <th>pacbio.ref_reason_alignmentScore</th>\n",
       "      <th>refN_cnt</th>\n",
       "      <th>refN_pct</th>\n",
       "      <th>segdup_cnt</th>\n",
       "      <th>segdup_pct</th>\n",
       "      <th>start</th>\n",
       "      <th>tandemrep_cnt</th>\n",
       "      <th>tandemrep_pct</th>\n",
       "    </tr>\n",
       "  </thead>\n",
       "  <tbody>\n",
       "    <tr>\n",
       "      <th>0</th>\n",
       "      <td>1.0</td>\n",
       "      <td>978.176471</td>\n",
       "      <td>11.791000</td>\n",
       "      <td>34.0</td>\n",
       "      <td>435.441176</td>\n",
       "      <td>87.213461</td>\n",
       "      <td>33.0</td>\n",
       "      <td>1.0</td>\n",
       "      <td>0.0</td>\n",
       "      <td>905.307692</td>\n",
       "      <td>...</td>\n",
       "      <td>2370.00000</td>\n",
       "      <td>0.000000</td>\n",
       "      <td>1.0</td>\n",
       "      <td>0.0</td>\n",
       "      <td>0.0</td>\n",
       "      <td>0.0</td>\n",
       "      <td>0.0</td>\n",
       "      <td>108380678.0</td>\n",
       "      <td>1.0</td>\n",
       "      <td>1.000000</td>\n",
       "    </tr>\n",
       "    <tr>\n",
       "      <th>1</th>\n",
       "      <td>0.0</td>\n",
       "      <td>962.000000</td>\n",
       "      <td>24.392622</td>\n",
       "      <td>10.0</td>\n",
       "      <td>419.700000</td>\n",
       "      <td>43.501839</td>\n",
       "      <td>10.0</td>\n",
       "      <td>0.0</td>\n",
       "      <td>0.0</td>\n",
       "      <td>841.210526</td>\n",
       "      <td>...</td>\n",
       "      <td>10299.21053</td>\n",
       "      <td>4609.772544</td>\n",
       "      <td>38.0</td>\n",
       "      <td>0.0</td>\n",
       "      <td>0.0</td>\n",
       "      <td>0.0</td>\n",
       "      <td>0.0</td>\n",
       "      <td>80085520.0</td>\n",
       "      <td>1.0</td>\n",
       "      <td>0.040094</td>\n",
       "    </tr>\n",
       "    <tr>\n",
       "      <th>2</th>\n",
       "      <td>0.0</td>\n",
       "      <td>0.000000</td>\n",
       "      <td>0.000000</td>\n",
       "      <td>0.0</td>\n",
       "      <td>0.000000</td>\n",
       "      <td>0.000000</td>\n",
       "      <td>0.0</td>\n",
       "      <td>0.0</td>\n",
       "      <td>0.0</td>\n",
       "      <td>881.853982</td>\n",
       "      <td>...</td>\n",
       "      <td>10507.58065</td>\n",
       "      <td>3814.763619</td>\n",
       "      <td>62.0</td>\n",
       "      <td>0.0</td>\n",
       "      <td>0.0</td>\n",
       "      <td>0.0</td>\n",
       "      <td>0.0</td>\n",
       "      <td>122804568.0</td>\n",
       "      <td>2.0</td>\n",
       "      <td>0.117271</td>\n",
       "    </tr>\n",
       "  </tbody>\n",
       "</table>\n",
       "<p>3 rows × 177 columns</p>\n",
       "</div>"
      ],
      "text/plain": [
       "   GTcons  Ill250.alt_alnScore_mean  Ill250.alt_alnScore_std  \\\n",
       "0     1.0                978.176471                11.791000   \n",
       "1     0.0                962.000000                24.392622   \n",
       "2     0.0                  0.000000                 0.000000   \n",
       "\n",
       "   Ill250.alt_count  Ill250.alt_insertSize_mean  Ill250.alt_insertSize_std  \\\n",
       "0              34.0                  435.441176                  87.213461   \n",
       "1              10.0                  419.700000                  43.501839   \n",
       "2               0.0                    0.000000                   0.000000   \n",
       "\n",
       "   Ill250.alt_reason_alignmentScore  Ill250.alt_reason_insertSizeScore  \\\n",
       "0                              33.0                                1.0   \n",
       "1                              10.0                                0.0   \n",
       "2                               0.0                                0.0   \n",
       "\n",
       "   Ill250.alt_reason_orientation  Ill250.amb_alnScore_mean      ...        \\\n",
       "0                            0.0                905.307692      ...         \n",
       "1                            0.0                841.210526      ...         \n",
       "2                            0.0                881.853982      ...         \n",
       "\n",
       "   pacbio.ref_insertSize_mean  pacbio.ref_insertSize_std  \\\n",
       "0                  2370.00000                   0.000000   \n",
       "1                 10299.21053                4609.772544   \n",
       "2                 10507.58065                3814.763619   \n",
       "\n",
       "   pacbio.ref_reason_alignmentScore  refN_cnt  refN_pct  segdup_cnt  \\\n",
       "0                               1.0       0.0       0.0         0.0   \n",
       "1                              38.0       0.0       0.0         0.0   \n",
       "2                              62.0       0.0       0.0         0.0   \n",
       "\n",
       "   segdup_pct        start  tandemrep_cnt  tandemrep_pct  \n",
       "0         0.0  108380678.0            1.0       1.000000  \n",
       "1         0.0   80085520.0            1.0       0.040094  \n",
       "2         0.0  122804568.0            2.0       0.117271  \n",
       "\n",
       "[3 rows x 177 columns]"
      ]
     },
     "execution_count": 16,
     "metadata": {},
     "output_type": "execute_result"
    }
   ],
   "source": [
    "# Store header values in a list, will be used later to re-label the matrix post KNN imputation\n",
    "df_400to499_header = list(df_400to499.columns.values)\n",
    "X.columns = df_400to499_header\n",
    "X.head(3)"
   ]
  },
  {
   "cell_type": "code",
   "execution_count": 17,
   "metadata": {
    "collapsed": true
   },
   "outputs": [],
   "source": [
    "# Store Labels in a new 'Y' DataFrame\n",
    "Y = pd.DataFrame()\n",
    "Y = X['GTcons']"
   ]
  },
  {
   "cell_type": "code",
   "execution_count": 18,
   "metadata": {},
   "outputs": [
    {
     "data": {
      "text/plain": [
       "1.0     8\n",
       "0.0    21\n",
       "2.0     4\n",
       "dtype: int64"
      ]
     },
     "execution_count": 18,
     "metadata": {},
     "output_type": "execute_result"
    }
   ],
   "source": [
    "#Count the number of labels\n",
    "pd.value_counts(Y.values, sort=False)"
   ]
  },
  {
   "cell_type": "code",
   "execution_count": 19,
   "metadata": {
    "collapsed": true
   },
   "outputs": [],
   "source": [
    "# Remove labels from feature set\n",
    "X.drop(['GTcons'],axis=1, inplace = True)"
   ]
  },
  {
   "cell_type": "code",
   "execution_count": 20,
   "metadata": {
    "collapsed": true
   },
   "outputs": [],
   "source": [
    "# Order features\n",
    "X4 = X.reindex_axis(sorted(X.columns), axis=1)"
   ]
  },
  {
   "cell_type": "markdown",
   "metadata": {},
   "source": [
    "***\n",
    "Machine Learning\n",
    "***"
   ]
  },
  {
   "cell_type": "markdown",
   "metadata": {},
   "source": [
    "<a id='machine_learning'></a>"
   ]
  },
  {
   "cell_type": "markdown",
   "metadata": {},
   "source": [
    "** Train Random Forest Classifier **"
   ]
  },
  {
   "cell_type": "markdown",
   "metadata": {},
   "source": [
    "<a id='multi_run'></a>"
   ]
  },
  {
   "cell_type": "markdown",
   "metadata": {},
   "source": [
    "** Determine Number of trees: Out of Bag Error **"
   ]
  },
  {
   "cell_type": "code",
   "execution_count": 21,
   "metadata": {
    "collapsed": true
   },
   "outputs": [],
   "source": [
    "# Train Test Split\n",
    "# Train on 70% of the data and test on 30%\n",
    "X_train, X_test, y_train, y_test = train_test_split(X4, Y, test_size=0.3)"
   ]
  },
  {
   "cell_type": "code",
   "execution_count": 22,
   "metadata": {},
   "outputs": [
    {
     "data": {
      "text/plain": [
       "RandomForestClassifier(bootstrap=True, class_weight='balanced',\n",
       "            criterion='gini', max_depth=None, max_features='auto',\n",
       "            max_leaf_nodes=None, min_impurity_decrease=0.0,\n",
       "            min_impurity_split=None, min_samples_leaf=1,\n",
       "            min_samples_split=2, min_weight_fraction_leaf=0.0,\n",
       "            n_estimators=10, n_jobs=1, oob_score=True, random_state=None,\n",
       "            verbose=0, warm_start=False)"
      ]
     },
     "execution_count": 22,
     "metadata": {},
     "output_type": "execute_result"
    }
   ],
   "source": [
    "model = RandomForestClassifier(oob_score=True, class_weight='balanced') \n",
    "model.fit(X_train, y_train)"
   ]
  },
  {
   "cell_type": "markdown",
   "metadata": {},
   "source": [
    "**NOTE :** \n",
    "\n",
    "Determined OOB score based on 70% of the training data"
   ]
  },
  {
   "cell_type": "code",
   "execution_count": 23,
   "metadata": {},
   "outputs": [
    {
     "name": "stderr",
     "output_type": "stream",
     "text": [
      "/Users/lmc2/anaconda/envs/NIHFAES/lib/python3.5/site-packages/sklearn/ensemble/forest.py:453: UserWarning:\n",
      "\n",
      "Some inputs do not have OOB scores. This probably means too few trees were used to compute any reliable oob estimates.\n",
      "\n",
      "/Users/lmc2/anaconda/envs/NIHFAES/lib/python3.5/site-packages/sklearn/ensemble/forest.py:453: UserWarning:\n",
      "\n",
      "Some inputs do not have OOB scores. This probably means too few trees were used to compute any reliable oob estimates.\n",
      "\n",
      "/Users/lmc2/anaconda/envs/NIHFAES/lib/python3.5/site-packages/sklearn/ensemble/forest.py:453: UserWarning:\n",
      "\n",
      "Some inputs do not have OOB scores. This probably means too few trees were used to compute any reliable oob estimates.\n",
      "\n",
      "/Users/lmc2/anaconda/envs/NIHFAES/lib/python3.5/site-packages/sklearn/ensemble/forest.py:453: UserWarning:\n",
      "\n",
      "Some inputs do not have OOB scores. This probably means too few trees were used to compute any reliable oob estimates.\n",
      "\n",
      "/Users/lmc2/anaconda/envs/NIHFAES/lib/python3.5/site-packages/sklearn/ensemble/forest.py:453: UserWarning:\n",
      "\n",
      "Some inputs do not have OOB scores. This probably means too few trees were used to compute any reliable oob estimates.\n",
      "\n",
      "/Users/lmc2/anaconda/envs/NIHFAES/lib/python3.5/site-packages/sklearn/ensemble/forest.py:453: UserWarning:\n",
      "\n",
      "Some inputs do not have OOB scores. This probably means too few trees were used to compute any reliable oob estimates.\n",
      "\n",
      "/Users/lmc2/anaconda/envs/NIHFAES/lib/python3.5/site-packages/sklearn/ensemble/forest.py:453: UserWarning:\n",
      "\n",
      "Some inputs do not have OOB scores. This probably means too few trees were used to compute any reliable oob estimates.\n",
      "\n",
      "/Users/lmc2/anaconda/envs/NIHFAES/lib/python3.5/site-packages/sklearn/ensemble/forest.py:453: UserWarning:\n",
      "\n",
      "Some inputs do not have OOB scores. This probably means too few trees were used to compute any reliable oob estimates.\n",
      "\n",
      "/Users/lmc2/anaconda/envs/NIHFAES/lib/python3.5/site-packages/sklearn/ensemble/forest.py:453: UserWarning:\n",
      "\n",
      "Some inputs do not have OOB scores. This probably means too few trees were used to compute any reliable oob estimates.\n",
      "\n"
     ]
    }
   ],
   "source": [
    "n_estimators = 150\n",
    "trees = []\n",
    "oob = []\n",
    "for i in range(1, n_estimators):\n",
    "    model.set_params(n_estimators=i)\n",
    "    model.fit(X_train, y_train)\n",
    "    trees += [i]\n",
    "    oob += [model.oob_score_] "
   ]
  },
  {
   "cell_type": "code",
   "execution_count": 24,
   "metadata": {},
   "outputs": [],
   "source": [
    "# df_oob = pd.DataFrame()\n",
    "# df_oob['trees'] = trees\n",
    "# df_oob['oob'] = oob\n",
    "\n",
    "# ax = plt.plot(trees, oob)\n",
    "# sns.set_style(\"white\")\n",
    "# plt.xlabel(\"Number of Trees [n_estimators]\")\n",
    "# plt.ylim((0,1))\n",
    "# plt.ylabel(\"OOB error rate\")\n",
    "# plt.legend(loc=\"upper right\")\n",
    "# plt.savefig('/Volumes/lesleydata/RF_model_trainingData_test/size_data/results/figures/400to499/400to499bp_OOB.png', bbox_inches='tight')\n",
    "# # #plt.show()"
   ]
  },
  {
   "cell_type": "markdown",
   "metadata": {},
   "source": [
    "** Train Model Using Optimal Tuning Parameters**"
   ]
  },
  {
   "cell_type": "code",
   "execution_count": 25,
   "metadata": {},
   "outputs": [
    {
     "data": {
      "text/plain": [
       "RandomForestClassifier(bootstrap=True, class_weight='balanced',\n",
       "            criterion='gini', max_depth=None, max_features='auto',\n",
       "            max_leaf_nodes=None, min_impurity_decrease=0.0,\n",
       "            min_impurity_split=None, min_samples_leaf=1,\n",
       "            min_samples_split=2, min_weight_fraction_leaf=0.0,\n",
       "            n_estimators=20, n_jobs=1, oob_score=False, random_state=4,\n",
       "            verbose=0, warm_start=False)"
      ]
     },
     "execution_count": 25,
     "metadata": {},
     "output_type": "execute_result"
    }
   ],
   "source": [
    "model = RandomForestClassifier(n_estimators=20, random_state=4, class_weight=\"balanced\") \n",
    "model.fit(X_train, y_train)"
   ]
  },
  {
   "cell_type": "markdown",
   "metadata": {},
   "source": [
    "[Another Resource](https://stackoverflow.com/questions/37877542/how-to-label-the-feature-importance-with-forests-of-trees)"
   ]
  },
  {
   "cell_type": "code",
   "execution_count": 26,
   "metadata": {
    "collapsed": true
   },
   "outputs": [],
   "source": [
    "feature_importances = pd.Series(model.feature_importances_, index=X_train.columns)"
   ]
  },
  {
   "cell_type": "markdown",
   "metadata": {},
   "source": [
    "<a id='100_trees'></a>"
   ]
  },
  {
   "cell_type": "code",
   "execution_count": 27,
   "metadata": {
    "scrolled": true
   },
   "outputs": [
    {
     "name": "stderr",
     "output_type": "stream",
     "text": [
      "/Users/lmc2/anaconda/envs/NIHFAES/lib/python3.5/site-packages/ipykernel/__main__.py:3: FutureWarning:\n",
      "\n",
      "sort is deprecated, use sort_values(inplace=True) for INPLACE sorting\n",
      "\n"
     ]
    }
   ],
   "source": [
    "# # %matplotlib inline\n",
    "feature_importances = pd.Series(model.feature_importances_, index=X_train.columns)\n",
    "feature_importances.sort()\n",
    "feature_importances.plot(kind=\"barh\", figsize=(8,30))\n",
    "plt.savefig('/Volumes/lesleydata/RF_model_trainingData_test/size_data/results/figures/400to499/df_400to499_featureImportance.png', bbox_inches='tight')\n",
    "# plt.show()"
   ]
  },
  {
   "cell_type": "code",
   "execution_count": 28,
   "metadata": {
    "collapsed": true
   },
   "outputs": [],
   "source": [
    "feature_importances.to_csv('/Volumes/lesleydata/RF_model_trainingData_test/size_data/results/figures/400to499/400to499_feature_importance.csv')"
   ]
  },
  {
   "cell_type": "code",
   "execution_count": 29,
   "metadata": {
    "collapsed": true
   },
   "outputs": [],
   "source": [
    "X_ = X4[['Ill300x.alt_count','pacbio.alt_alnScore_mean','pacbio.ref_insertSize_mean','Ill300x.alt_reason_insertSizeScore','IllMP.ref_count','pacbio.alt_reason_alignmentScore','Ill250.ref_reason_alignmentScore','pacbio.ref_alnScore_std','pacbio.ref_insertSize_std','Ill250.ref_count','Ill250.alt_reason_alignmentScore','pacbio.ref_reason_alignmentScore','pacbio.alt_alnScore_std','pacbio.ref_alnScore_mean','pacbio.alt_insertSize_mean','Ill250.alt_alnScore_mean','Ill300x.ref_reason_alignmentScore','Ill250.alt_insertSize_std','IllMP.alt_reason_alignmentScore','Ill300x.ref_alnScore_std','Ill250.ref_alnScore_std','IllMP.alt_alnScore_std','TenX.HP1_alt_alnScore_std','Ill250.alt_reason_insertSizeScore','Ill250.alt_count']]"
   ]
  },
  {
   "cell_type": "code",
   "execution_count": 30,
   "metadata": {
    "collapsed": true
   },
   "outputs": [],
   "source": [
    "plt.figure(figsize=(15, 12))\n",
    "sns.heatmap(X_.corr(), annot=True, fmt=\".2f\")\n",
    "plt.xticks(rotation='vertical')\n",
    "plt.yticks(rotation='horizontal')\n",
    "# plt.figure(figsize=(18, 18))\n",
    "# plt.show()\n",
    "plt.savefig('/Volumes/lesleydata/RF_model_trainingData_test/size_data/results/figures/400to499/df_400to499_heatmap.png', bbox_inches='tight')"
   ]
  },
  {
   "cell_type": "code",
   "execution_count": 31,
   "metadata": {},
   "outputs": [
    {
     "data": {
      "text/plain": [
       "0.0    14\n",
       "2.0     3\n",
       "1.0     6\n",
       "dtype: int64"
      ]
     },
     "execution_count": 31,
     "metadata": {},
     "output_type": "execute_result"
    }
   ],
   "source": [
    "#NOTE: Training Set - Show number of Hom Ref, Hom Var, Het Var datapoints the model was trained on\n",
    "ytrain = pd.DataFrame()\n",
    "ytrain['ytrain'] = y_train\n",
    "pd.value_counts(ytrain['ytrain'].values, sort=False)"
   ]
  },
  {
   "cell_type": "markdown",
   "metadata": {},
   "source": [
    "<a id='prediction_step'></a>"
   ]
  },
  {
   "cell_type": "code",
   "execution_count": 32,
   "metadata": {
    "collapsed": true
   },
   "outputs": [],
   "source": [
    "pred = model.predict(X_test)"
   ]
  },
  {
   "cell_type": "markdown",
   "metadata": {},
   "source": [
    "<a id='traintest_precision'></a>"
   ]
  },
  {
   "cell_type": "code",
   "execution_count": 33,
   "metadata": {},
   "outputs": [
    {
     "name": "stdout",
     "output_type": "stream",
     "text": [
      "Precision score of the training subset: 0.900\n"
     ]
    }
   ],
   "source": [
    "print('Precision score of the training subset: {:.3f}'.format(precision_score(y_test, pred, average='micro'))) "
   ]
  },
  {
   "cell_type": "code",
   "execution_count": 34,
   "metadata": {},
   "outputs": [
    {
     "name": "stdout",
     "output_type": "stream",
     "text": [
      "Accuracy score of the training subset: 0.900\n"
     ]
    }
   ],
   "source": [
    "from sklearn.metrics import accuracy_score\n",
    "print('Accuracy score of the training subset: {:.3f}'.format(accuracy_score(y_test, pred))) "
   ]
  },
  {
   "cell_type": "code",
   "execution_count": 35,
   "metadata": {},
   "outputs": [
    {
     "data": {
      "text/html": [
       "<div>\n",
       "<table border=\"1\" class=\"dataframe\">\n",
       "  <thead>\n",
       "    <tr style=\"text-align: right;\">\n",
       "      <th></th>\n",
       "      <th>Ill250.alt_alnScore_mean</th>\n",
       "      <th>Ill250.alt_alnScore_std</th>\n",
       "      <th>Ill250.alt_count</th>\n",
       "      <th>Ill250.alt_insertSize_mean</th>\n",
       "      <th>Ill250.alt_insertSize_std</th>\n",
       "      <th>Ill250.alt_reason_alignmentScore</th>\n",
       "      <th>Ill250.alt_reason_insertSizeScore</th>\n",
       "      <th>Ill250.alt_reason_orientation</th>\n",
       "      <th>Ill250.amb_alnScore_mean</th>\n",
       "      <th>Ill250.amb_alnScore_std</th>\n",
       "      <th>...</th>\n",
       "      <th>pacbio.ref_insertSize_mean</th>\n",
       "      <th>pacbio.ref_insertSize_std</th>\n",
       "      <th>pacbio.ref_reason_alignmentScore</th>\n",
       "      <th>refN_cnt</th>\n",
       "      <th>refN_pct</th>\n",
       "      <th>segdup_cnt</th>\n",
       "      <th>segdup_pct</th>\n",
       "      <th>start</th>\n",
       "      <th>tandemrep_cnt</th>\n",
       "      <th>tandemrep_pct</th>\n",
       "    </tr>\n",
       "  </thead>\n",
       "  <tbody>\n",
       "    <tr>\n",
       "      <th>6</th>\n",
       "      <td>0.0</td>\n",
       "      <td>0.000000</td>\n",
       "      <td>0.0</td>\n",
       "      <td>0.0</td>\n",
       "      <td>0.000000</td>\n",
       "      <td>0.0</td>\n",
       "      <td>0.0</td>\n",
       "      <td>0.0</td>\n",
       "      <td>904.269231</td>\n",
       "      <td>138.939590</td>\n",
       "      <td>...</td>\n",
       "      <td>10693.428570</td>\n",
       "      <td>4222.477288</td>\n",
       "      <td>49.0</td>\n",
       "      <td>0.0</td>\n",
       "      <td>0.0</td>\n",
       "      <td>0.0</td>\n",
       "      <td>0.000000</td>\n",
       "      <td>179654346.0</td>\n",
       "      <td>0.0</td>\n",
       "      <td>0.000000</td>\n",
       "    </tr>\n",
       "    <tr>\n",
       "      <th>30</th>\n",
       "      <td>0.0</td>\n",
       "      <td>0.000000</td>\n",
       "      <td>0.0</td>\n",
       "      <td>0.0</td>\n",
       "      <td>0.000000</td>\n",
       "      <td>0.0</td>\n",
       "      <td>0.0</td>\n",
       "      <td>0.0</td>\n",
       "      <td>846.156566</td>\n",
       "      <td>151.380685</td>\n",
       "      <td>...</td>\n",
       "      <td>7626.298507</td>\n",
       "      <td>4782.906754</td>\n",
       "      <td>67.0</td>\n",
       "      <td>0.0</td>\n",
       "      <td>0.0</td>\n",
       "      <td>0.0</td>\n",
       "      <td>0.000000</td>\n",
       "      <td>157669425.0</td>\n",
       "      <td>0.0</td>\n",
       "      <td>0.000000</td>\n",
       "    </tr>\n",
       "    <tr>\n",
       "      <th>22</th>\n",
       "      <td>0.0</td>\n",
       "      <td>0.000000</td>\n",
       "      <td>0.0</td>\n",
       "      <td>0.0</td>\n",
       "      <td>0.000000</td>\n",
       "      <td>0.0</td>\n",
       "      <td>0.0</td>\n",
       "      <td>0.0</td>\n",
       "      <td>872.206522</td>\n",
       "      <td>165.946006</td>\n",
       "      <td>...</td>\n",
       "      <td>8568.714286</td>\n",
       "      <td>4870.414248</td>\n",
       "      <td>35.0</td>\n",
       "      <td>0.0</td>\n",
       "      <td>0.0</td>\n",
       "      <td>0.0</td>\n",
       "      <td>0.000000</td>\n",
       "      <td>129373510.0</td>\n",
       "      <td>3.0</td>\n",
       "      <td>0.356808</td>\n",
       "    </tr>\n",
       "    <tr>\n",
       "      <th>24</th>\n",
       "      <td>0.0</td>\n",
       "      <td>0.000000</td>\n",
       "      <td>0.0</td>\n",
       "      <td>0.0</td>\n",
       "      <td>0.000000</td>\n",
       "      <td>0.0</td>\n",
       "      <td>0.0</td>\n",
       "      <td>0.0</td>\n",
       "      <td>870.989583</td>\n",
       "      <td>168.220403</td>\n",
       "      <td>...</td>\n",
       "      <td>9996.311475</td>\n",
       "      <td>3242.668252</td>\n",
       "      <td>61.0</td>\n",
       "      <td>0.0</td>\n",
       "      <td>0.0</td>\n",
       "      <td>1.0</td>\n",
       "      <td>0.203098</td>\n",
       "      <td>47602752.0</td>\n",
       "      <td>3.0</td>\n",
       "      <td>0.179002</td>\n",
       "    </tr>\n",
       "    <tr>\n",
       "      <th>1</th>\n",
       "      <td>962.0</td>\n",
       "      <td>24.392622</td>\n",
       "      <td>10.0</td>\n",
       "      <td>419.7</td>\n",
       "      <td>43.501839</td>\n",
       "      <td>10.0</td>\n",
       "      <td>0.0</td>\n",
       "      <td>0.0</td>\n",
       "      <td>841.210526</td>\n",
       "      <td>130.446431</td>\n",
       "      <td>...</td>\n",
       "      <td>10299.210530</td>\n",
       "      <td>4609.772544</td>\n",
       "      <td>38.0</td>\n",
       "      <td>0.0</td>\n",
       "      <td>0.0</td>\n",
       "      <td>0.0</td>\n",
       "      <td>0.000000</td>\n",
       "      <td>80085520.0</td>\n",
       "      <td>1.0</td>\n",
       "      <td>0.040094</td>\n",
       "    </tr>\n",
       "  </tbody>\n",
       "</table>\n",
       "<p>5 rows × 176 columns</p>\n",
       "</div>"
      ],
      "text/plain": [
       "    Ill250.alt_alnScore_mean  Ill250.alt_alnScore_std  Ill250.alt_count  \\\n",
       "6                        0.0                 0.000000               0.0   \n",
       "30                       0.0                 0.000000               0.0   \n",
       "22                       0.0                 0.000000               0.0   \n",
       "24                       0.0                 0.000000               0.0   \n",
       "1                      962.0                24.392622              10.0   \n",
       "\n",
       "    Ill250.alt_insertSize_mean  Ill250.alt_insertSize_std  \\\n",
       "6                          0.0                   0.000000   \n",
       "30                         0.0                   0.000000   \n",
       "22                         0.0                   0.000000   \n",
       "24                         0.0                   0.000000   \n",
       "1                        419.7                  43.501839   \n",
       "\n",
       "    Ill250.alt_reason_alignmentScore  Ill250.alt_reason_insertSizeScore  \\\n",
       "6                                0.0                                0.0   \n",
       "30                               0.0                                0.0   \n",
       "22                               0.0                                0.0   \n",
       "24                               0.0                                0.0   \n",
       "1                               10.0                                0.0   \n",
       "\n",
       "    Ill250.alt_reason_orientation  Ill250.amb_alnScore_mean  \\\n",
       "6                             0.0                904.269231   \n",
       "30                            0.0                846.156566   \n",
       "22                            0.0                872.206522   \n",
       "24                            0.0                870.989583   \n",
       "1                             0.0                841.210526   \n",
       "\n",
       "    Ill250.amb_alnScore_std      ...        pacbio.ref_insertSize_mean  \\\n",
       "6                138.939590      ...                      10693.428570   \n",
       "30               151.380685      ...                       7626.298507   \n",
       "22               165.946006      ...                       8568.714286   \n",
       "24               168.220403      ...                       9996.311475   \n",
       "1                130.446431      ...                      10299.210530   \n",
       "\n",
       "    pacbio.ref_insertSize_std  pacbio.ref_reason_alignmentScore  refN_cnt  \\\n",
       "6                 4222.477288                              49.0       0.0   \n",
       "30                4782.906754                              67.0       0.0   \n",
       "22                4870.414248                              35.0       0.0   \n",
       "24                3242.668252                              61.0       0.0   \n",
       "1                 4609.772544                              38.0       0.0   \n",
       "\n",
       "    refN_pct  segdup_cnt  segdup_pct        start  tandemrep_cnt  \\\n",
       "6        0.0         0.0    0.000000  179654346.0            0.0   \n",
       "30       0.0         0.0    0.000000  157669425.0            0.0   \n",
       "22       0.0         0.0    0.000000  129373510.0            3.0   \n",
       "24       0.0         1.0    0.203098   47602752.0            3.0   \n",
       "1        0.0         0.0    0.000000   80085520.0            1.0   \n",
       "\n",
       "    tandemrep_pct  \n",
       "6        0.000000  \n",
       "30       0.000000  \n",
       "22       0.356808  \n",
       "24       0.179002  \n",
       "1        0.040094  \n",
       "\n",
       "[5 rows x 176 columns]"
      ]
     },
     "execution_count": 35,
     "metadata": {},
     "output_type": "execute_result"
    }
   ],
   "source": [
    "# Add original labels and predicted labels back to the original dataframe\n",
    "df_Xtest = pd.DataFrame(X_test)\n",
    "df_Xtest.head()"
   ]
  },
  {
   "cell_type": "code",
   "execution_count": 36,
   "metadata": {
    "collapsed": true
   },
   "outputs": [],
   "source": [
    "labels = pd.DataFrame(y_test)"
   ]
  },
  {
   "cell_type": "code",
   "execution_count": 37,
   "metadata": {
    "collapsed": true
   },
   "outputs": [],
   "source": [
    "df_Xtest['predicted_label'] = pred\n",
    "df_Xtest['GTcons'] = df_300to399['GTcons']\n",
    "df_Xtest['chrom'] = df_300to399['chrom']\n",
    "df_Xtest['start'] = df_300to399['start']\n",
    "df_Xtest['end'] = df_300to399['end']"
   ]
  },
  {
   "cell_type": "code",
   "execution_count": 38,
   "metadata": {
    "collapsed": true
   },
   "outputs": [],
   "source": [
    "df_Xtest['GTcons'].replace(0.0, 'Homozygous_Reference', inplace=True)\n",
    "df_Xtest['GTcons'].replace(1.0, 'Heterozygous_Variant', inplace=True)\n",
    "df_Xtest['GTcons'].replace(2.0, 'Homozygous_Variant', inplace=True)\n",
    "df_Xtest['predicted_label'].replace(0.0, 'Homozygous_Reference', inplace=True)\n",
    "df_Xtest['predicted_label'].replace(1.0, 'Heterozygous_Variant', inplace=True)\n",
    "df_Xtest['predicted_label'].replace(2.0, 'Homozygous_Variant', inplace=True)"
   ]
  },
  {
   "cell_type": "code",
   "execution_count": 39,
   "metadata": {},
   "outputs": [
    {
     "data": {
      "text/plain": [
       "Homozygous_Variant      4\n",
       "Homozygous_Reference    3\n",
       "Heterozygous_Variant    3\n",
       "dtype: int64"
      ]
     },
     "execution_count": 39,
     "metadata": {},
     "output_type": "execute_result"
    }
   ],
   "source": [
    "pd.value_counts(df_Xtest['GTcons'].values, sort=False)"
   ]
  },
  {
   "cell_type": "code",
   "execution_count": 40,
   "metadata": {},
   "outputs": [
    {
     "data": {
      "text/plain": [
       "Homozygous_Variant      1\n",
       "Homozygous_Reference    8\n",
       "Heterozygous_Variant    1\n",
       "dtype: int64"
      ]
     },
     "execution_count": 40,
     "metadata": {},
     "output_type": "execute_result"
    }
   ],
   "source": [
    "pd.value_counts(df_Xtest['predicted_label'].values, sort=False)"
   ]
  },
  {
   "cell_type": "code",
   "execution_count": 41,
   "metadata": {},
   "outputs": [
    {
     "name": "stdout",
     "output_type": "stream",
     "text": [
      "[[1 1 1]\n",
      " [0 3 0]\n",
      " [0 4 0]]\n"
     ]
    }
   ],
   "source": [
    "from sklearn.metrics import confusion_matrix\n",
    "ytest = df_Xtest['GTcons']\n",
    "predict = df_Xtest['predicted_label']\n",
    "print(confusion_matrix(ytest, predict))"
   ]
  },
  {
   "cell_type": "code",
   "execution_count": 42,
   "metadata": {},
   "outputs": [
    {
     "data": {
      "text/html": [
       "<div>\n",
       "<table border=\"1\" class=\"dataframe\">\n",
       "  <thead>\n",
       "    <tr style=\"text-align: right;\">\n",
       "      <th>Predicted</th>\n",
       "      <th>Heterozygous_Variant</th>\n",
       "      <th>Homozygous_Reference</th>\n",
       "      <th>Homozygous_Variant</th>\n",
       "      <th>All</th>\n",
       "    </tr>\n",
       "    <tr>\n",
       "      <th>True</th>\n",
       "      <th></th>\n",
       "      <th></th>\n",
       "      <th></th>\n",
       "      <th></th>\n",
       "    </tr>\n",
       "  </thead>\n",
       "  <tbody>\n",
       "    <tr>\n",
       "      <th>Heterozygous_Variant</th>\n",
       "      <td>1</td>\n",
       "      <td>1</td>\n",
       "      <td>1</td>\n",
       "      <td>3</td>\n",
       "    </tr>\n",
       "    <tr>\n",
       "      <th>Homozygous_Reference</th>\n",
       "      <td>0</td>\n",
       "      <td>3</td>\n",
       "      <td>0</td>\n",
       "      <td>3</td>\n",
       "    </tr>\n",
       "    <tr>\n",
       "      <th>Homozygous_Variant</th>\n",
       "      <td>0</td>\n",
       "      <td>4</td>\n",
       "      <td>0</td>\n",
       "      <td>4</td>\n",
       "    </tr>\n",
       "    <tr>\n",
       "      <th>All</th>\n",
       "      <td>1</td>\n",
       "      <td>8</td>\n",
       "      <td>1</td>\n",
       "      <td>10</td>\n",
       "    </tr>\n",
       "  </tbody>\n",
       "</table>\n",
       "</div>"
      ],
      "text/plain": [
       "Predicted             Heterozygous_Variant  Homozygous_Reference  \\\n",
       "True                                                               \n",
       "Heterozygous_Variant                     1                     1   \n",
       "Homozygous_Reference                     0                     3   \n",
       "Homozygous_Variant                       0                     4   \n",
       "All                                      1                     8   \n",
       "\n",
       "Predicted             Homozygous_Variant  All  \n",
       "True                                           \n",
       "Heterozygous_Variant                   1    3  \n",
       "Homozygous_Reference                   0    3  \n",
       "Homozygous_Variant                     0    4  \n",
       "All                                    1   10  "
      ]
     },
     "execution_count": 42,
     "metadata": {},
     "output_type": "execute_result"
    }
   ],
   "source": [
    "pd.crosstab(ytest, predict, rownames=['True'], colnames=['Predicted'], margins=True)"
   ]
  },
  {
   "cell_type": "markdown",
   "metadata": {},
   "source": [
    "<a id='traintest_confusion_matrix'></a>"
   ]
  },
  {
   "cell_type": "code",
   "execution_count": 43,
   "metadata": {
    "collapsed": true,
    "scrolled": false
   },
   "outputs": [],
   "source": [
    "# # Pandas: save table to HTML\n",
    "# p = pd.crosstab(ytest, predict, rownames=['True'], colnames=['Predicted'], margins=True)\n",
    "# p.to_html('cro.html')"
   ]
  },
  {
   "cell_type": "code",
   "execution_count": 44,
   "metadata": {
    "scrolled": true
   },
   "outputs": [
    {
     "name": "stdout",
     "output_type": "stream",
     "text": [
      "                      precision    recall  f1-score   support\n",
      "\n",
      "Heterozygous_Variant       1.00      0.33      0.50         3\n",
      "Homozygous_Reference       0.38      1.00      0.55         3\n",
      "  Homozygous_Variant       0.00      0.00      0.00         4\n",
      "\n",
      "         avg / total       0.41      0.40      0.31        10\n",
      "\n"
     ]
    }
   ],
   "source": [
    "from sklearn.metrics import classification_report\n",
    "print(classification_report(ytest, predict))"
   ]
  },
  {
   "cell_type": "markdown",
   "metadata": {},
   "source": [
    "***\n",
    "Predict\n",
    "***"
   ]
  },
  {
   "cell_type": "markdown",
   "metadata": {},
   "source": [
    "<a id='predict'></a>"
   ]
  },
  {
   "cell_type": "markdown",
   "metadata": {},
   "source": [
    "** Load Data **"
   ]
  },
  {
   "cell_type": "code",
   "execution_count": 45,
   "metadata": {
    "collapsed": true
   },
   "outputs": [],
   "source": [
    "df_400to499_test.drop(['GTcons'],axis=1, inplace=True)"
   ]
  },
  {
   "cell_type": "code",
   "execution_count": 46,
   "metadata": {
    "collapsed": true
   },
   "outputs": [],
   "source": [
    "X2 = df_400to499_test"
   ]
  },
  {
   "cell_type": "markdown",
   "metadata": {},
   "source": [
    "** Impute missing values using KNN **"
   ]
  },
  {
   "cell_type": "code",
   "execution_count": 47,
   "metadata": {},
   "outputs": [
    {
     "name": "stdout",
     "output_type": "stream",
     "text": [
      "Imputing row 1/20 with 2 missing, elapsed time: 0.002\n"
     ]
    }
   ],
   "source": [
    "#Convert dataframe to matrix\n",
    "X2=X2.as_matrix()\n",
    "X2=pd.DataFrame(X2)\n",
    "\n",
    "# Imput missing values from three closest observations\n",
    "X2_imputed=KNN(k=3).complete(X2)\n",
    "X2=pd.DataFrame(X2_imputed)"
   ]
  },
  {
   "cell_type": "code",
   "execution_count": 48,
   "metadata": {},
   "outputs": [
    {
     "data": {
      "text/html": [
       "<div>\n",
       "<table border=\"1\" class=\"dataframe\">\n",
       "  <thead>\n",
       "    <tr style=\"text-align: right;\">\n",
       "      <th></th>\n",
       "      <th>Ill250.alt_alnScore_mean</th>\n",
       "      <th>Ill250.alt_alnScore_std</th>\n",
       "      <th>Ill250.alt_count</th>\n",
       "      <th>Ill250.alt_insertSize_mean</th>\n",
       "      <th>Ill250.alt_insertSize_std</th>\n",
       "      <th>Ill250.alt_reason_alignmentScore</th>\n",
       "      <th>Ill250.alt_reason_insertSizeScore</th>\n",
       "      <th>Ill250.alt_reason_orientation</th>\n",
       "      <th>Ill250.amb_alnScore_mean</th>\n",
       "      <th>Ill250.amb_alnScore_std</th>\n",
       "      <th>...</th>\n",
       "      <th>pacbio.ref_insertSize_mean</th>\n",
       "      <th>pacbio.ref_insertSize_std</th>\n",
       "      <th>pacbio.ref_reason_alignmentScore</th>\n",
       "      <th>refN_cnt</th>\n",
       "      <th>refN_pct</th>\n",
       "      <th>segdup_cnt</th>\n",
       "      <th>segdup_pct</th>\n",
       "      <th>start</th>\n",
       "      <th>tandemrep_cnt</th>\n",
       "      <th>tandemrep_pct</th>\n",
       "    </tr>\n",
       "  </thead>\n",
       "  <tbody>\n",
       "    <tr>\n",
       "      <th>0</th>\n",
       "      <td>982.06383</td>\n",
       "      <td>7.788164</td>\n",
       "      <td>47.0</td>\n",
       "      <td>424.829787</td>\n",
       "      <td>73.258307</td>\n",
       "      <td>46.0</td>\n",
       "      <td>1.0</td>\n",
       "      <td>0.0</td>\n",
       "      <td>876.976331</td>\n",
       "      <td>148.283909</td>\n",
       "      <td>...</td>\n",
       "      <td>0.00000</td>\n",
       "      <td>0.000000</td>\n",
       "      <td>0.0</td>\n",
       "      <td>0.0</td>\n",
       "      <td>0.0</td>\n",
       "      <td>0.0</td>\n",
       "      <td>0.0</td>\n",
       "      <td>104091764.0</td>\n",
       "      <td>2.0</td>\n",
       "      <td>0.172199</td>\n",
       "    </tr>\n",
       "    <tr>\n",
       "      <th>1</th>\n",
       "      <td>985.28125</td>\n",
       "      <td>15.737563</td>\n",
       "      <td>64.0</td>\n",
       "      <td>458.265625</td>\n",
       "      <td>88.384678</td>\n",
       "      <td>59.0</td>\n",
       "      <td>5.0</td>\n",
       "      <td>0.0</td>\n",
       "      <td>889.793939</td>\n",
       "      <td>145.756272</td>\n",
       "      <td>...</td>\n",
       "      <td>0.00000</td>\n",
       "      <td>0.000000</td>\n",
       "      <td>0.0</td>\n",
       "      <td>0.0</td>\n",
       "      <td>0.0</td>\n",
       "      <td>0.0</td>\n",
       "      <td>0.0</td>\n",
       "      <td>196214814.0</td>\n",
       "      <td>2.0</td>\n",
       "      <td>0.094660</td>\n",
       "    </tr>\n",
       "    <tr>\n",
       "      <th>2</th>\n",
       "      <td>0.00000</td>\n",
       "      <td>0.000000</td>\n",
       "      <td>0.0</td>\n",
       "      <td>0.000000</td>\n",
       "      <td>0.000000</td>\n",
       "      <td>0.0</td>\n",
       "      <td>0.0</td>\n",
       "      <td>0.0</td>\n",
       "      <td>826.425837</td>\n",
       "      <td>141.188311</td>\n",
       "      <td>...</td>\n",
       "      <td>10330.15789</td>\n",
       "      <td>4554.115268</td>\n",
       "      <td>38.0</td>\n",
       "      <td>0.0</td>\n",
       "      <td>0.0</td>\n",
       "      <td>1.0</td>\n",
       "      <td>1.0</td>\n",
       "      <td>863924.0</td>\n",
       "      <td>1.0</td>\n",
       "      <td>1.000000</td>\n",
       "    </tr>\n",
       "  </tbody>\n",
       "</table>\n",
       "<p>3 rows × 176 columns</p>\n",
       "</div>"
      ],
      "text/plain": [
       "   Ill250.alt_alnScore_mean  Ill250.alt_alnScore_std  Ill250.alt_count  \\\n",
       "0                 982.06383                 7.788164              47.0   \n",
       "1                 985.28125                15.737563              64.0   \n",
       "2                   0.00000                 0.000000               0.0   \n",
       "\n",
       "   Ill250.alt_insertSize_mean  Ill250.alt_insertSize_std  \\\n",
       "0                  424.829787                  73.258307   \n",
       "1                  458.265625                  88.384678   \n",
       "2                    0.000000                   0.000000   \n",
       "\n",
       "   Ill250.alt_reason_alignmentScore  Ill250.alt_reason_insertSizeScore  \\\n",
       "0                              46.0                                1.0   \n",
       "1                              59.0                                5.0   \n",
       "2                               0.0                                0.0   \n",
       "\n",
       "   Ill250.alt_reason_orientation  Ill250.amb_alnScore_mean  \\\n",
       "0                            0.0                876.976331   \n",
       "1                            0.0                889.793939   \n",
       "2                            0.0                826.425837   \n",
       "\n",
       "   Ill250.amb_alnScore_std      ...        pacbio.ref_insertSize_mean  \\\n",
       "0               148.283909      ...                           0.00000   \n",
       "1               145.756272      ...                           0.00000   \n",
       "2               141.188311      ...                       10330.15789   \n",
       "\n",
       "   pacbio.ref_insertSize_std  pacbio.ref_reason_alignmentScore  refN_cnt  \\\n",
       "0                   0.000000                               0.0       0.0   \n",
       "1                   0.000000                               0.0       0.0   \n",
       "2                4554.115268                              38.0       0.0   \n",
       "\n",
       "   refN_pct  segdup_cnt  segdup_pct        start  tandemrep_cnt  tandemrep_pct  \n",
       "0       0.0         0.0         0.0  104091764.0            2.0       0.172199  \n",
       "1       0.0         0.0         0.0  196214814.0            2.0       0.094660  \n",
       "2       0.0         1.0         1.0     863924.0            1.0       1.000000  \n",
       "\n",
       "[3 rows x 176 columns]"
      ]
     },
     "execution_count": 48,
     "metadata": {},
     "output_type": "execute_result"
    }
   ],
   "source": [
    "df_400to499_test_header = list(df_400to499_test.columns.values)\n",
    "X2.columns = df_400to499_test_header\n",
    "X2.head(3)"
   ]
  },
  {
   "cell_type": "code",
   "execution_count": 49,
   "metadata": {},
   "outputs": [
    {
     "data": {
      "text/html": [
       "<div>\n",
       "<table border=\"1\" class=\"dataframe\">\n",
       "  <thead>\n",
       "    <tr style=\"text-align: right;\">\n",
       "      <th></th>\n",
       "      <th>Ill250.alt_alnScore_mean</th>\n",
       "      <th>Ill250.alt_alnScore_std</th>\n",
       "      <th>Ill250.alt_count</th>\n",
       "      <th>Ill250.alt_insertSize_mean</th>\n",
       "      <th>Ill250.alt_insertSize_std</th>\n",
       "      <th>Ill250.alt_reason_alignmentScore</th>\n",
       "      <th>Ill250.alt_reason_insertSizeScore</th>\n",
       "      <th>Ill250.alt_reason_orientation</th>\n",
       "      <th>Ill250.amb_alnScore_mean</th>\n",
       "      <th>Ill250.amb_alnScore_std</th>\n",
       "      <th>...</th>\n",
       "      <th>pacbio.ref_insertSize_mean</th>\n",
       "      <th>pacbio.ref_insertSize_std</th>\n",
       "      <th>pacbio.ref_reason_alignmentScore</th>\n",
       "      <th>refN_cnt</th>\n",
       "      <th>refN_pct</th>\n",
       "      <th>segdup_cnt</th>\n",
       "      <th>segdup_pct</th>\n",
       "      <th>start</th>\n",
       "      <th>tandemrep_cnt</th>\n",
       "      <th>tandemrep_pct</th>\n",
       "    </tr>\n",
       "  </thead>\n",
       "  <tbody>\n",
       "    <tr>\n",
       "      <th>0</th>\n",
       "      <td>982.06383</td>\n",
       "      <td>7.788164</td>\n",
       "      <td>47.0</td>\n",
       "      <td>424.829787</td>\n",
       "      <td>73.258307</td>\n",
       "      <td>46.0</td>\n",
       "      <td>1.0</td>\n",
       "      <td>0.0</td>\n",
       "      <td>876.976331</td>\n",
       "      <td>148.283909</td>\n",
       "      <td>...</td>\n",
       "      <td>0.00000</td>\n",
       "      <td>0.000000</td>\n",
       "      <td>0.0</td>\n",
       "      <td>0.0</td>\n",
       "      <td>0.0</td>\n",
       "      <td>0.0</td>\n",
       "      <td>0.0</td>\n",
       "      <td>104091764.0</td>\n",
       "      <td>2.0</td>\n",
       "      <td>0.172199</td>\n",
       "    </tr>\n",
       "    <tr>\n",
       "      <th>1</th>\n",
       "      <td>985.28125</td>\n",
       "      <td>15.737563</td>\n",
       "      <td>64.0</td>\n",
       "      <td>458.265625</td>\n",
       "      <td>88.384678</td>\n",
       "      <td>59.0</td>\n",
       "      <td>5.0</td>\n",
       "      <td>0.0</td>\n",
       "      <td>889.793939</td>\n",
       "      <td>145.756272</td>\n",
       "      <td>...</td>\n",
       "      <td>0.00000</td>\n",
       "      <td>0.000000</td>\n",
       "      <td>0.0</td>\n",
       "      <td>0.0</td>\n",
       "      <td>0.0</td>\n",
       "      <td>0.0</td>\n",
       "      <td>0.0</td>\n",
       "      <td>196214814.0</td>\n",
       "      <td>2.0</td>\n",
       "      <td>0.094660</td>\n",
       "    </tr>\n",
       "    <tr>\n",
       "      <th>2</th>\n",
       "      <td>0.00000</td>\n",
       "      <td>0.000000</td>\n",
       "      <td>0.0</td>\n",
       "      <td>0.000000</td>\n",
       "      <td>0.000000</td>\n",
       "      <td>0.0</td>\n",
       "      <td>0.0</td>\n",
       "      <td>0.0</td>\n",
       "      <td>826.425837</td>\n",
       "      <td>141.188311</td>\n",
       "      <td>...</td>\n",
       "      <td>10330.15789</td>\n",
       "      <td>4554.115268</td>\n",
       "      <td>38.0</td>\n",
       "      <td>0.0</td>\n",
       "      <td>0.0</td>\n",
       "      <td>1.0</td>\n",
       "      <td>1.0</td>\n",
       "      <td>863924.0</td>\n",
       "      <td>1.0</td>\n",
       "      <td>1.000000</td>\n",
       "    </tr>\n",
       "  </tbody>\n",
       "</table>\n",
       "<p>3 rows × 176 columns</p>\n",
       "</div>"
      ],
      "text/plain": [
       "   Ill250.alt_alnScore_mean  Ill250.alt_alnScore_std  Ill250.alt_count  \\\n",
       "0                 982.06383                 7.788164              47.0   \n",
       "1                 985.28125                15.737563              64.0   \n",
       "2                   0.00000                 0.000000               0.0   \n",
       "\n",
       "   Ill250.alt_insertSize_mean  Ill250.alt_insertSize_std  \\\n",
       "0                  424.829787                  73.258307   \n",
       "1                  458.265625                  88.384678   \n",
       "2                    0.000000                   0.000000   \n",
       "\n",
       "   Ill250.alt_reason_alignmentScore  Ill250.alt_reason_insertSizeScore  \\\n",
       "0                              46.0                                1.0   \n",
       "1                              59.0                                5.0   \n",
       "2                               0.0                                0.0   \n",
       "\n",
       "   Ill250.alt_reason_orientation  Ill250.amb_alnScore_mean  \\\n",
       "0                            0.0                876.976331   \n",
       "1                            0.0                889.793939   \n",
       "2                            0.0                826.425837   \n",
       "\n",
       "   Ill250.amb_alnScore_std      ...        pacbio.ref_insertSize_mean  \\\n",
       "0               148.283909      ...                           0.00000   \n",
       "1               145.756272      ...                           0.00000   \n",
       "2               141.188311      ...                       10330.15789   \n",
       "\n",
       "   pacbio.ref_insertSize_std  pacbio.ref_reason_alignmentScore  refN_cnt  \\\n",
       "0                   0.000000                               0.0       0.0   \n",
       "1                   0.000000                               0.0       0.0   \n",
       "2                4554.115268                              38.0       0.0   \n",
       "\n",
       "   refN_pct  segdup_cnt  segdup_pct        start  tandemrep_cnt  tandemrep_pct  \n",
       "0       0.0         0.0         0.0  104091764.0            2.0       0.172199  \n",
       "1       0.0         0.0         0.0  196214814.0            2.0       0.094660  \n",
       "2       0.0         1.0         1.0     863924.0            1.0       1.000000  \n",
       "\n",
       "[3 rows x 176 columns]"
      ]
     },
     "execution_count": 49,
     "metadata": {},
     "output_type": "execute_result"
    }
   ],
   "source": [
    "X3 = pd.DataFrame()\n",
    "X3 = X2\n",
    "X3.head(3)"
   ]
  },
  {
   "cell_type": "code",
   "execution_count": 50,
   "metadata": {
    "collapsed": true
   },
   "outputs": [],
   "source": [
    "# Order features\n",
    "X5 = X2.reindex_axis(sorted(X2.columns), axis=1)"
   ]
  },
  {
   "cell_type": "markdown",
   "metadata": {},
   "source": [
    "<a id='prediction_step'></a>"
   ]
  },
  {
   "cell_type": "code",
   "execution_count": 51,
   "metadata": {
    "collapsed": true
   },
   "outputs": [],
   "source": [
    "pred = model.predict(X5)"
   ]
  },
  {
   "cell_type": "code",
   "execution_count": 52,
   "metadata": {
    "collapsed": true
   },
   "outputs": [],
   "source": [
    "pred_prob = model.predict_proba(X5)"
   ]
  },
  {
   "cell_type": "code",
   "execution_count": 53,
   "metadata": {
    "collapsed": true
   },
   "outputs": [],
   "source": [
    "pred_prob_log = model.predict_log_proba(X5)"
   ]
  },
  {
   "cell_type": "code",
   "execution_count": 54,
   "metadata": {
    "collapsed": true
   },
   "outputs": [],
   "source": [
    "X5['predicted_label'] = pred\n",
    "X5['chrom'] = df_400to499_test_['chrom']\n",
    "X5['GTcons'] = df_400to499_test_['GTcons']\n",
    "X5['start'] = df_400to499_test_['start']\n",
    "X5['end'] = df_400to499_test_['end']\n",
    "X5['Size'] = df_400to499_test_['Size']\n",
    "X5['GTsupp'] = df_400to499_test_['GTsupp']"
   ]
  },
  {
   "cell_type": "code",
   "execution_count": 55,
   "metadata": {
    "collapsed": true
   },
   "outputs": [],
   "source": [
    "X6 = pd.concat([X5, pd.DataFrame(pred_prob, columns=['1','2','3'])])"
   ]
  },
  {
   "cell_type": "code",
   "execution_count": 56,
   "metadata": {
    "collapsed": true
   },
   "outputs": [],
   "source": [
    "X7 = pd.concat([X5, pd.DataFrame(pred_prob_log, columns=['1','2','3'])])"
   ]
  },
  {
   "cell_type": "code",
   "execution_count": 57,
   "metadata": {
    "collapsed": true
   },
   "outputs": [],
   "source": [
    "X6.to_csv('/Volumes/lesleydata/RF_model_trainingData_test/size_data/results/figures/400to499/df_400to499.csv', index=False)"
   ]
  },
  {
   "cell_type": "code",
   "execution_count": 58,
   "metadata": {},
   "outputs": [
    {
     "ename": "FileNotFoundError",
     "evalue": "[Errno 2] No such file or directory: '/Volumes/lesleydata/RF_model_trainingData_test/size_data/results/400to499/df_400to499_log.csv'",
     "output_type": "error",
     "traceback": [
      "\u001b[0;31m---------------------------------------------------------------------------\u001b[0m",
      "\u001b[0;31mFileNotFoundError\u001b[0m                         Traceback (most recent call last)",
      "\u001b[0;32m<ipython-input-58-54ac9a4c1b7c>\u001b[0m in \u001b[0;36m<module>\u001b[0;34m()\u001b[0m\n\u001b[0;32m----> 1\u001b[0;31m \u001b[0mX7\u001b[0m\u001b[0;34m.\u001b[0m\u001b[0mto_csv\u001b[0m\u001b[0;34m(\u001b[0m\u001b[0;34m'/Volumes/lesleydata/RF_model_trainingData_test/size_data/results/400to499/df_400to499_log.csv'\u001b[0m\u001b[0;34m,\u001b[0m \u001b[0mindex\u001b[0m\u001b[0;34m=\u001b[0m\u001b[0;32mFalse\u001b[0m\u001b[0;34m)\u001b[0m\u001b[0;34m\u001b[0m\u001b[0m\n\u001b[0m",
      "\u001b[0;32m/Users/lmc2/anaconda/envs/NIHFAES/lib/python3.5/site-packages/pandas/core/frame.py\u001b[0m in \u001b[0;36mto_csv\u001b[0;34m(self, path_or_buf, sep, na_rep, float_format, columns, header, index, index_label, mode, encoding, compression, quoting, quotechar, line_terminator, chunksize, tupleize_cols, date_format, doublequote, escapechar, decimal)\u001b[0m\n\u001b[1;32m   1381\u001b[0m                                      \u001b[0mdoublequote\u001b[0m\u001b[0;34m=\u001b[0m\u001b[0mdoublequote\u001b[0m\u001b[0;34m,\u001b[0m\u001b[0;34m\u001b[0m\u001b[0m\n\u001b[1;32m   1382\u001b[0m                                      escapechar=escapechar, decimal=decimal)\n\u001b[0;32m-> 1383\u001b[0;31m         \u001b[0mformatter\u001b[0m\u001b[0;34m.\u001b[0m\u001b[0msave\u001b[0m\u001b[0;34m(\u001b[0m\u001b[0;34m)\u001b[0m\u001b[0;34m\u001b[0m\u001b[0m\n\u001b[0m\u001b[1;32m   1384\u001b[0m \u001b[0;34m\u001b[0m\u001b[0m\n\u001b[1;32m   1385\u001b[0m         \u001b[0;32mif\u001b[0m \u001b[0mpath_or_buf\u001b[0m \u001b[0;32mis\u001b[0m \u001b[0;32mNone\u001b[0m\u001b[0;34m:\u001b[0m\u001b[0;34m\u001b[0m\u001b[0m\n",
      "\u001b[0;32m/Users/lmc2/anaconda/envs/NIHFAES/lib/python3.5/site-packages/pandas/formats/format.py\u001b[0m in \u001b[0;36msave\u001b[0;34m(self)\u001b[0m\n\u001b[1;32m   1458\u001b[0m             f = _get_handle(self.path_or_buf, self.mode,\n\u001b[1;32m   1459\u001b[0m                             \u001b[0mencoding\u001b[0m\u001b[0;34m=\u001b[0m\u001b[0mself\u001b[0m\u001b[0;34m.\u001b[0m\u001b[0mencoding\u001b[0m\u001b[0;34m,\u001b[0m\u001b[0;34m\u001b[0m\u001b[0m\n\u001b[0;32m-> 1460\u001b[0;31m                             compression=self.compression)\n\u001b[0m\u001b[1;32m   1461\u001b[0m             \u001b[0mclose\u001b[0m \u001b[0;34m=\u001b[0m \u001b[0;32mTrue\u001b[0m\u001b[0;34m\u001b[0m\u001b[0m\n\u001b[1;32m   1462\u001b[0m \u001b[0;34m\u001b[0m\u001b[0m\n",
      "\u001b[0;32m/Users/lmc2/anaconda/envs/NIHFAES/lib/python3.5/site-packages/pandas/io/common.py\u001b[0m in \u001b[0;36m_get_handle\u001b[0;34m(path, mode, encoding, compression, memory_map)\u001b[0m\n\u001b[1;32m    330\u001b[0m                 \u001b[0mf\u001b[0m \u001b[0;34m=\u001b[0m \u001b[0mopen\u001b[0m\u001b[0;34m(\u001b[0m\u001b[0mpath\u001b[0m\u001b[0;34m,\u001b[0m \u001b[0mmode\u001b[0m\u001b[0;34m,\u001b[0m \u001b[0mencoding\u001b[0m\u001b[0;34m=\u001b[0m\u001b[0mencoding\u001b[0m\u001b[0;34m)\u001b[0m\u001b[0;34m\u001b[0m\u001b[0m\n\u001b[1;32m    331\u001b[0m             \u001b[0;32melse\u001b[0m\u001b[0;34m:\u001b[0m\u001b[0;34m\u001b[0m\u001b[0m\n\u001b[0;32m--> 332\u001b[0;31m                 \u001b[0mf\u001b[0m \u001b[0;34m=\u001b[0m \u001b[0mopen\u001b[0m\u001b[0;34m(\u001b[0m\u001b[0mpath\u001b[0m\u001b[0;34m,\u001b[0m \u001b[0mmode\u001b[0m\u001b[0;34m,\u001b[0m \u001b[0merrors\u001b[0m\u001b[0;34m=\u001b[0m\u001b[0;34m'replace'\u001b[0m\u001b[0;34m)\u001b[0m\u001b[0;34m\u001b[0m\u001b[0m\n\u001b[0m\u001b[1;32m    333\u001b[0m         \u001b[0;32melse\u001b[0m\u001b[0;34m:\u001b[0m\u001b[0;34m\u001b[0m\u001b[0m\n\u001b[1;32m    334\u001b[0m             \u001b[0mf\u001b[0m \u001b[0;34m=\u001b[0m \u001b[0mopen\u001b[0m\u001b[0;34m(\u001b[0m\u001b[0mpath\u001b[0m\u001b[0;34m,\u001b[0m \u001b[0mmode\u001b[0m\u001b[0;34m)\u001b[0m\u001b[0;34m\u001b[0m\u001b[0m\n",
      "\u001b[0;31mFileNotFoundError\u001b[0m: [Errno 2] No such file or directory: '/Volumes/lesleydata/RF_model_trainingData_test/size_data/results/400to499/df_400to499_log.csv'"
     ]
    }
   ],
   "source": [
    "X7.to_csv('/Volumes/lesleydata/RF_model_trainingData_test/size_data/results/400to499/df_400to499_log.csv', index=False)"
   ]
  },
  {
   "cell_type": "code",
   "execution_count": 59,
   "metadata": {
    "collapsed": true
   },
   "outputs": [],
   "source": [
    "X6 = pd.read_csv('/Volumes/lesleydata/RF_model_trainingData_test/size_data/results/figures/400to499/df_400to499.csv')"
   ]
  },
  {
   "cell_type": "code",
   "execution_count": 60,
   "metadata": {
    "collapsed": true
   },
   "outputs": [],
   "source": [
    "X6.rename(columns={'1': 'Homozygous_Reference_GTcons'}, inplace=True)\n",
    "X6.rename(columns={'2': 'Heterozygous_Variant_GTcons'}, inplace=True)\n",
    "X6.rename(columns={'3': 'Homozygous_Variant_GTcons'}, inplace=True)\n",
    "X6.rename(columns={'predicted_label': 'predicted_GTcons_label'}, inplace=True)"
   ]
  },
  {
   "cell_type": "code",
   "execution_count": 61,
   "metadata": {},
   "outputs": [
    {
     "data": {
      "text/html": [
       "<div>\n",
       "<table border=\"1\" class=\"dataframe\">\n",
       "  <thead>\n",
       "    <tr style=\"text-align: right;\">\n",
       "      <th></th>\n",
       "      <th>Homozygous_Reference_GTcons</th>\n",
       "      <th>Heterozygous_Variant_GTcons</th>\n",
       "      <th>Homozygous_Variant_GTcons</th>\n",
       "      <th>GTcons</th>\n",
       "      <th>GTsupp</th>\n",
       "      <th>Ill250.alt_alnScore_mean</th>\n",
       "      <th>Ill250.alt_alnScore_std</th>\n",
       "      <th>Ill250.alt_count</th>\n",
       "      <th>Ill250.alt_insertSize_mean</th>\n",
       "      <th>Ill250.alt_insertSize_std</th>\n",
       "      <th>...</th>\n",
       "      <th>pacbio.ref_insertSize_std</th>\n",
       "      <th>pacbio.ref_reason_alignmentScore</th>\n",
       "      <th>predicted_GTcons_label</th>\n",
       "      <th>refN_cnt</th>\n",
       "      <th>refN_pct</th>\n",
       "      <th>segdup_cnt</th>\n",
       "      <th>segdup_pct</th>\n",
       "      <th>start</th>\n",
       "      <th>tandemrep_cnt</th>\n",
       "      <th>tandemrep_pct</th>\n",
       "    </tr>\n",
       "  </thead>\n",
       "  <tbody>\n",
       "    <tr>\n",
       "      <th>0</th>\n",
       "      <td>0.20</td>\n",
       "      <td>0.40</td>\n",
       "      <td>0.40</td>\n",
       "      <td>2</td>\n",
       "      <td>4</td>\n",
       "      <td>982.06383</td>\n",
       "      <td>7.788164</td>\n",
       "      <td>47</td>\n",
       "      <td>424.829787</td>\n",
       "      <td>73.258307</td>\n",
       "      <td>...</td>\n",
       "      <td>0.000000</td>\n",
       "      <td>0</td>\n",
       "      <td>1</td>\n",
       "      <td>0</td>\n",
       "      <td>0</td>\n",
       "      <td>0</td>\n",
       "      <td>0.0</td>\n",
       "      <td>104091764</td>\n",
       "      <td>2</td>\n",
       "      <td>0.172199</td>\n",
       "    </tr>\n",
       "    <tr>\n",
       "      <th>1</th>\n",
       "      <td>0.10</td>\n",
       "      <td>0.35</td>\n",
       "      <td>0.55</td>\n",
       "      <td>2</td>\n",
       "      <td>3</td>\n",
       "      <td>985.28125</td>\n",
       "      <td>15.737563</td>\n",
       "      <td>64</td>\n",
       "      <td>458.265625</td>\n",
       "      <td>88.384678</td>\n",
       "      <td>...</td>\n",
       "      <td>0.000000</td>\n",
       "      <td>0</td>\n",
       "      <td>2</td>\n",
       "      <td>0</td>\n",
       "      <td>0</td>\n",
       "      <td>0</td>\n",
       "      <td>0.0</td>\n",
       "      <td>196214814</td>\n",
       "      <td>2</td>\n",
       "      <td>0.094660</td>\n",
       "    </tr>\n",
       "    <tr>\n",
       "      <th>2</th>\n",
       "      <td>0.85</td>\n",
       "      <td>0.15</td>\n",
       "      <td>0.00</td>\n",
       "      <td>0</td>\n",
       "      <td>1</td>\n",
       "      <td>0.00000</td>\n",
       "      <td>0.000000</td>\n",
       "      <td>0</td>\n",
       "      <td>0.000000</td>\n",
       "      <td>0.000000</td>\n",
       "      <td>...</td>\n",
       "      <td>4554.115268</td>\n",
       "      <td>38</td>\n",
       "      <td>0</td>\n",
       "      <td>0</td>\n",
       "      <td>0</td>\n",
       "      <td>1</td>\n",
       "      <td>1.0</td>\n",
       "      <td>863924</td>\n",
       "      <td>1</td>\n",
       "      <td>1.000000</td>\n",
       "    </tr>\n",
       "  </tbody>\n",
       "</table>\n",
       "<p>3 rows × 182 columns</p>\n",
       "</div>"
      ],
      "text/plain": [
       "   Homozygous_Reference_GTcons  Heterozygous_Variant_GTcons  \\\n",
       "0                         0.20                         0.40   \n",
       "1                         0.10                         0.35   \n",
       "2                         0.85                         0.15   \n",
       "\n",
       "   Homozygous_Variant_GTcons  GTcons  GTsupp  Ill250.alt_alnScore_mean  \\\n",
       "0                       0.40       2       4                 982.06383   \n",
       "1                       0.55       2       3                 985.28125   \n",
       "2                       0.00       0       1                   0.00000   \n",
       "\n",
       "   Ill250.alt_alnScore_std  Ill250.alt_count  Ill250.alt_insertSize_mean  \\\n",
       "0                 7.788164                47                  424.829787   \n",
       "1                15.737563                64                  458.265625   \n",
       "2                 0.000000                 0                    0.000000   \n",
       "\n",
       "   Ill250.alt_insertSize_std      ...        pacbio.ref_insertSize_std  \\\n",
       "0                  73.258307      ...                         0.000000   \n",
       "1                  88.384678      ...                         0.000000   \n",
       "2                   0.000000      ...                      4554.115268   \n",
       "\n",
       "   pacbio.ref_reason_alignmentScore  predicted_GTcons_label  refN_cnt  \\\n",
       "0                                 0                       1         0   \n",
       "1                                 0                       2         0   \n",
       "2                                38                       0         0   \n",
       "\n",
       "   refN_pct  segdup_cnt  segdup_pct      start  tandemrep_cnt  tandemrep_pct  \n",
       "0         0           0         0.0  104091764              2       0.172199  \n",
       "1         0           0         0.0  196214814              2       0.094660  \n",
       "2         0           1         1.0     863924              1       1.000000  \n",
       "\n",
       "[3 rows x 182 columns]"
      ]
     },
     "execution_count": 61,
     "metadata": {},
     "output_type": "execute_result"
    }
   ],
   "source": [
    "X6.head(3)"
   ]
  },
  {
   "cell_type": "code",
   "execution_count": 62,
   "metadata": {
    "collapsed": true
   },
   "outputs": [],
   "source": [
    "X6.to_csv('/Volumes/lesleydata/RF_model_trainingData_test/size_data/results/figures/400to499/df_400to499_final.csv', index=False)"
   ]
  },
  {
   "cell_type": "code",
   "execution_count": null,
   "metadata": {
    "collapsed": true
   },
   "outputs": [],
   "source": [
    "# X6['GTcons'].replace('Homozygous_Reference', 0, inplace=True)\n",
    "# X6['GTcons'].replace('Heterozygous_Variant', 1, inplace=True)\n",
    "# X6['GTcons'].replace('Homozygous_Variant', 2, inplace=True)"
   ]
  },
  {
   "cell_type": "code",
   "execution_count": null,
   "metadata": {
    "collapsed": true
   },
   "outputs": [],
   "source": [
    "# X6['GTcons'].fillna(999)\n",
    "# X7 = X6[X6.GTcons != 999]\n",
    "# X7['GTcons'].isnull().sum()"
   ]
  },
  {
   "cell_type": "markdown",
   "metadata": {},
   "source": [
    "***\n",
    "Label Analysis\n",
    "***"
   ]
  },
  {
   "cell_type": "code",
   "execution_count": 63,
   "metadata": {
    "scrolled": true
   },
   "outputs": [
    {
     "name": "stdout",
     "output_type": "stream",
     "text": [
      "[[9 1 0]\n",
      " [0 4 0]\n",
      " [0 4 2]]\n"
     ]
    }
   ],
   "source": [
    "from sklearn.metrics import confusion_matrix\n",
    "consensus_GT = X6['GTcons']\n",
    "predict = X6['predicted_GTcons_label']\n",
    "print(confusion_matrix(consensus_GT, predict))"
   ]
  },
  {
   "cell_type": "code",
   "execution_count": 64,
   "metadata": {
    "collapsed": true
   },
   "outputs": [],
   "source": [
    "X6['GTcons'].replace(0, 'Homozygous_Reference', inplace=True)\n",
    "X6['GTcons'].replace(1, 'Heterozygous_Variant', inplace=True)\n",
    "X6['GTcons'].replace(2, 'Homozygous_Variant', inplace=True)\n",
    "X6['predicted_GTcons_label'].replace(0.0, 'Homozygous_Reference', inplace=True)\n",
    "X6['predicted_GTcons_label'].replace(1.0, 'Heterozygous_Variant', inplace=True)\n",
    "X6['predicted_GTcons_label'].replace(2.0, 'Homozygous_Variant', inplace=True)"
   ]
  },
  {
   "cell_type": "markdown",
   "metadata": {},
   "source": [
    "<a id='predict_precision_score_matrix'></a>"
   ]
  },
  {
   "cell_type": "code",
   "execution_count": 65,
   "metadata": {},
   "outputs": [
    {
     "name": "stdout",
     "output_type": "stream",
     "text": [
      "Precision score of the prediction subset: 0.750\n"
     ]
    }
   ],
   "source": [
    "print('Precision score of the prediction subset: {:.3f}'.format(precision_score(consensus_GT, predict, average='micro'))) "
   ]
  },
  {
   "cell_type": "code",
   "execution_count": 66,
   "metadata": {},
   "outputs": [
    {
     "name": "stdout",
     "output_type": "stream",
     "text": [
      "Accuracy score of the prediction subset: 0.750\n"
     ]
    }
   ],
   "source": [
    "print('Accuracy score of the prediction subset: {:.3f}'.format(accuracy_score(consensus_GT, predict))) "
   ]
  },
  {
   "cell_type": "code",
   "execution_count": 67,
   "metadata": {},
   "outputs": [
    {
     "data": {
      "text/html": [
       "<div>\n",
       "<table border=\"1\" class=\"dataframe\">\n",
       "  <thead>\n",
       "    <tr style=\"text-align: right;\">\n",
       "      <th>Predicted</th>\n",
       "      <th>Heterozygous_Variant</th>\n",
       "      <th>Homozygous_Reference</th>\n",
       "      <th>Homozygous_Variant</th>\n",
       "      <th>All</th>\n",
       "    </tr>\n",
       "    <tr>\n",
       "      <th>True</th>\n",
       "      <th></th>\n",
       "      <th></th>\n",
       "      <th></th>\n",
       "      <th></th>\n",
       "    </tr>\n",
       "  </thead>\n",
       "  <tbody>\n",
       "    <tr>\n",
       "      <th>Heterozygous_Variant</th>\n",
       "      <td>4</td>\n",
       "      <td>0</td>\n",
       "      <td>0</td>\n",
       "      <td>4</td>\n",
       "    </tr>\n",
       "    <tr>\n",
       "      <th>Homozygous_Reference</th>\n",
       "      <td>1</td>\n",
       "      <td>9</td>\n",
       "      <td>0</td>\n",
       "      <td>10</td>\n",
       "    </tr>\n",
       "    <tr>\n",
       "      <th>Homozygous_Variant</th>\n",
       "      <td>4</td>\n",
       "      <td>0</td>\n",
       "      <td>2</td>\n",
       "      <td>6</td>\n",
       "    </tr>\n",
       "    <tr>\n",
       "      <th>All</th>\n",
       "      <td>9</td>\n",
       "      <td>9</td>\n",
       "      <td>2</td>\n",
       "      <td>20</td>\n",
       "    </tr>\n",
       "  </tbody>\n",
       "</table>\n",
       "</div>"
      ],
      "text/plain": [
       "Predicted             Heterozygous_Variant  Homozygous_Reference  \\\n",
       "True                                                               \n",
       "Heterozygous_Variant                     4                     0   \n",
       "Homozygous_Reference                     1                     9   \n",
       "Homozygous_Variant                       4                     0   \n",
       "All                                      9                     9   \n",
       "\n",
       "Predicted             Homozygous_Variant  All  \n",
       "True                                           \n",
       "Heterozygous_Variant                   0    4  \n",
       "Homozygous_Reference                   0   10  \n",
       "Homozygous_Variant                     2    6  \n",
       "All                                    2   20  "
      ]
     },
     "execution_count": 67,
     "metadata": {},
     "output_type": "execute_result"
    }
   ],
   "source": [
    "pd.crosstab(consensus_GT, predict, rownames=['True'], colnames=['Predicted'], margins=True)"
   ]
  },
  {
   "cell_type": "markdown",
   "metadata": {},
   "source": [
    "** High Confidence Label Analysis**\n",
    "* **Reminder:** The labels predicted by the model are the following consensus genotype:\n",
    "    * Homozygous Reference: 0 \n",
    "    * Heterozygous Variant: 1 \n",
    "    * Homozygous Variant: 2 \n",
    "* Here **high confidence labels** are the GTcons labels predicted by the model that were also assigned a predict probability of either 0.9 or 1\n"
   ]
  },
  {
   "cell_type": "code",
   "execution_count": 68,
   "metadata": {
    "collapsed": true
   },
   "outputs": [],
   "source": [
    "high_conf_labels = X6[(X6['Homozygous_Reference_GTcons'] == 1) | (X6['Homozygous_Reference_GTcons'] >= 0.9) | (X6['Heterozygous_Variant_GTcons'] == 1) | (X6['Heterozygous_Variant_GTcons'] >= 0.9) | (X6['Homozygous_Variant_GTcons'] == 1) | (X6['Homozygous_Variant_GTcons'] >= 0.9)]\n"
   ]
  },
  {
   "cell_type": "markdown",
   "metadata": {},
   "source": [
    "<a id='hiconf_precision_score'></a>"
   ]
  },
  {
   "cell_type": "code",
   "execution_count": 69,
   "metadata": {},
   "outputs": [
    {
     "data": {
      "text/html": [
       "<div>\n",
       "<table border=\"1\" class=\"dataframe\">\n",
       "  <thead>\n",
       "    <tr style=\"text-align: right;\">\n",
       "      <th>Predicted</th>\n",
       "      <th>Homozygous_Reference</th>\n",
       "      <th>All</th>\n",
       "    </tr>\n",
       "    <tr>\n",
       "      <th>True</th>\n",
       "      <th></th>\n",
       "      <th></th>\n",
       "    </tr>\n",
       "  </thead>\n",
       "  <tbody>\n",
       "    <tr>\n",
       "      <th>Homozygous_Reference</th>\n",
       "      <td>5</td>\n",
       "      <td>5</td>\n",
       "    </tr>\n",
       "    <tr>\n",
       "      <th>All</th>\n",
       "      <td>5</td>\n",
       "      <td>5</td>\n",
       "    </tr>\n",
       "  </tbody>\n",
       "</table>\n",
       "</div>"
      ],
      "text/plain": [
       "Predicted             Homozygous_Reference  All\n",
       "True                                           \n",
       "Homozygous_Reference                     5    5\n",
       "All                                      5    5"
      ]
     },
     "execution_count": 69,
     "metadata": {},
     "output_type": "execute_result"
    }
   ],
   "source": [
    "consensus_GT = high_conf_labels['GTcons']\n",
    "predict = high_conf_labels['predicted_GTcons_label']\n",
    "pd.crosstab(consensus_GT, predict, rownames=['True'], colnames=['Predicted'], margins=True)"
   ]
  },
  {
   "cell_type": "code",
   "execution_count": 70,
   "metadata": {
    "scrolled": false
   },
   "outputs": [
    {
     "name": "stdout",
     "output_type": "stream",
     "text": [
      "                      precision    recall  f1-score   support\n",
      "\n",
      "Homozygous_Reference       1.00      1.00      1.00         5\n",
      "\n",
      "         avg / total       1.00      1.00      1.00         5\n",
      "\n"
     ]
    }
   ],
   "source": [
    "from sklearn.metrics import classification_report\n",
    "print(classification_report(consensus_GT, predict))"
   ]
  },
  {
   "cell_type": "markdown",
   "metadata": {},
   "source": [
    "***\n",
    "**Predict**\n",
    "\n",
    "\n",
    "How well does a model trained on small variants predict GT of large variants?\n",
    "Variants : 1000+ bp\n",
    "***"
   ]
  },
  {
   "cell_type": "markdown",
   "metadata": {},
   "source": [
    "<a id='predict'></a>"
   ]
  },
  {
   "cell_type": "markdown",
   "metadata": {},
   "source": [
    "Description:\n",
    "\n",
    "   * In the [previous section](#machine_learning), a RF model was trained on svanalyzer data.\n",
    "\n",
    "       * The model was trained using [train/test split](#train_test) where 70% of the data was used to train the model and the model performance was determined by predicting labels for the remaining 30% of the data\n",
    " * Reminder: The labels for this training set and the following [prediction step](#prediction_step) are the consensus genotype (GTcons) labels generated from a preliminary R analysis based on reference and alternate read count:\n",
    "           * Homozygous Reference (0)\n",
    "           * Heterozygous Variant (1)\n",
    "           * Homozygous Variant (2)\n",
    "           \n",
    "   * The trained model is used in the following section to predict labels for 5000 randomly selected Deletions [these datapoints were randomly selected from [union_170509_refalt.sort.vcf](ftp://ftp-trace.ncbi.nlm.nih.gov/giab/ftp/data/AshkenazimTrio/analysis/NIST_UnionSVs_05092017/)]\n",
    "   \n",
    "   "
   ]
  },
  {
   "cell_type": "markdown",
   "metadata": {},
   "source": [
    "** Load Data **"
   ]
  },
  {
   "cell_type": "markdown",
   "metadata": {},
   "source": [
    "* Pool all datasets with large variants 1000 - 6000+"
   ]
  },
  {
   "cell_type": "code",
   "execution_count": null,
   "metadata": {
    "collapsed": true
   },
   "outputs": [],
   "source": [
    "df = pd.concat([df_1000to5999, df_1000to5999_test, df_6000, df_6000_test], axis=0)\n",
    "df = df.reset_index()\n",
    "df2 = df\n",
    "df_ = pd.concat([df_1000to5999_, df_1000to5999_test_, df_6000_, df_6000_test_], axis=0)\n",
    "df_ = df_.reset_index()"
   ]
  },
  {
   "cell_type": "code",
   "execution_count": null,
   "metadata": {
    "collapsed": true
   },
   "outputs": [],
   "source": [
    "df.drop(['GTcons'],axis=1, inplace=True)\n",
    "df.drop(['index'],axis=1, inplace=True)\n",
    "df_.drop(['index'],axis=1, inplace=True)"
   ]
  },
  {
   "cell_type": "code",
   "execution_count": null,
   "metadata": {
    "collapsed": true
   },
   "outputs": [],
   "source": [
    "X2 = df"
   ]
  },
  {
   "cell_type": "markdown",
   "metadata": {},
   "source": [
    "** Impute missing values using KNN **"
   ]
  },
  {
   "cell_type": "code",
   "execution_count": null,
   "metadata": {
    "collapsed": true
   },
   "outputs": [],
   "source": [
    "#Convert dataframe to matrix\n",
    "X2=X2.as_matrix()\n",
    "X2=pd.DataFrame(X2)\n",
    "\n",
    "# Imput missing values from three closest observations\n",
    "X2_imputed=KNN(k=3).complete(X2)\n",
    "X2=pd.DataFrame(X2_imputed)"
   ]
  },
  {
   "cell_type": "code",
   "execution_count": null,
   "metadata": {
    "collapsed": true
   },
   "outputs": [],
   "source": [
    "df_header = list(df.columns.values)\n",
    "X2.columns = df_header\n",
    "X2.head(3)"
   ]
  },
  {
   "cell_type": "code",
   "execution_count": null,
   "metadata": {
    "collapsed": true
   },
   "outputs": [],
   "source": [
    "X3 = pd.DataFrame()\n",
    "X3 = X2\n",
    "X3.head(3)"
   ]
  },
  {
   "cell_type": "code",
   "execution_count": null,
   "metadata": {
    "collapsed": true
   },
   "outputs": [],
   "source": [
    "# Order features\n",
    "X5 = X2.reindex_axis(sorted(X2.columns), axis=1)"
   ]
  },
  {
   "cell_type": "markdown",
   "metadata": {},
   "source": [
    "<a id='prediction_step'></a>"
   ]
  },
  {
   "cell_type": "code",
   "execution_count": null,
   "metadata": {
    "collapsed": true
   },
   "outputs": [],
   "source": [
    "pred = model.predict(X5)"
   ]
  },
  {
   "cell_type": "code",
   "execution_count": null,
   "metadata": {
    "collapsed": true
   },
   "outputs": [],
   "source": [
    "pred_prob = model.predict_proba(X5)"
   ]
  },
  {
   "cell_type": "code",
   "execution_count": null,
   "metadata": {
    "collapsed": true
   },
   "outputs": [],
   "source": [
    "pred_prob_log = model.predict_log_proba(X5)"
   ]
  },
  {
   "cell_type": "code",
   "execution_count": null,
   "metadata": {
    "collapsed": true
   },
   "outputs": [],
   "source": [
    "df[df.index.duplicated()]"
   ]
  },
  {
   "cell_type": "code",
   "execution_count": null,
   "metadata": {
    "collapsed": true
   },
   "outputs": [],
   "source": [
    "X5['predicted_label'] = pred\n",
    "X5['chrom'] = df_['chrom']\n",
    "X5['GTcons'] = df_['GTcons']\n",
    "X5['start'] = df_['start']\n",
    "X5['end'] = df_['end']\n",
    "X5['Size'] = df_['Size']\n",
    "X5['GTsupp'] = df_['GTsupp']"
   ]
  },
  {
   "cell_type": "code",
   "execution_count": null,
   "metadata": {
    "collapsed": true
   },
   "outputs": [],
   "source": [
    "X6 = pd.concat([X5, pd.DataFrame(pred_prob, columns=['1','2','3'])])"
   ]
  },
  {
   "cell_type": "code",
   "execution_count": null,
   "metadata": {
    "collapsed": true
   },
   "outputs": [],
   "source": [
    "X7 = pd.concat([X5, pd.DataFrame(pred_prob_log, columns=['1','2','3'])])"
   ]
  },
  {
   "cell_type": "code",
   "execution_count": null,
   "metadata": {
    "collapsed": true
   },
   "outputs": [],
   "source": [
    "X6.to_csv('/Volumes/lesleydata/RF_model_trainingData_test/size_data/results/figures/100to299/100to299_predLrg.csv', index=False)"
   ]
  },
  {
   "cell_type": "code",
   "execution_count": null,
   "metadata": {
    "collapsed": true
   },
   "outputs": [],
   "source": [
    "X7.to_csv('/Volumes/lesleydata/RF_model_trainingData_test/size_data/results/figures/100to299/100to299_log._predLrgcsv', index=False)"
   ]
  },
  {
   "cell_type": "code",
   "execution_count": null,
   "metadata": {
    "collapsed": true
   },
   "outputs": [],
   "source": [
    "X6 = pd.read_csv('/Volumes/lesleydata/RF_model_trainingData_test/size_data/results/figures/100to299/100to299_predLrg.csv')"
   ]
  },
  {
   "cell_type": "code",
   "execution_count": null,
   "metadata": {
    "collapsed": true
   },
   "outputs": [],
   "source": [
    "X6.rename(columns={'1': 'Homozygous_Reference_GTcons'}, inplace=True)\n",
    "X6.rename(columns={'2': 'Heterozygous_Variant_GTcons'}, inplace=True)\n",
    "X6.rename(columns={'3': 'Homozygous_Variant_GTcons'}, inplace=True)\n",
    "X6.rename(columns={'predicted_label': 'predicted_GTcons_label'}, inplace=True)"
   ]
  },
  {
   "cell_type": "code",
   "execution_count": null,
   "metadata": {
    "collapsed": true
   },
   "outputs": [],
   "source": [
    "X6['GTcons'].replace('Homozygous_Reference', '0', inplace=True)\n",
    "X6['GTcons'].replace('Heterozygous_Variant', '1', inplace=True)\n",
    "X6['GTcons'].replace('Homozygous_Variant', '2', inplace=True)"
   ]
  },
  {
   "cell_type": "code",
   "execution_count": null,
   "metadata": {
    "collapsed": true,
    "scrolled": true
   },
   "outputs": [],
   "source": [
    "X6.head(3)"
   ]
  },
  {
   "cell_type": "code",
   "execution_count": null,
   "metadata": {
    "collapsed": true
   },
   "outputs": [],
   "source": [
    "X6.to_csv('/Volumes/lesleydata/RF_model_trainingData_test/size_data/results/figures/100to299/100to299_final_predLrg.csv', index=False)"
   ]
  },
  {
   "cell_type": "code",
   "execution_count": null,
   "metadata": {
    "collapsed": true
   },
   "outputs": [],
   "source": [
    "# X6['GTcons'].fillna(999)\n",
    "# X7 = X6[X6.GTcons != 999]\n",
    "# X6['predicted_GTcons_label'].isnull().sum()"
   ]
  },
  {
   "cell_type": "code",
   "execution_count": null,
   "metadata": {
    "collapsed": true
   },
   "outputs": [],
   "source": [
    "X6['predicted_GTcons_label'].dtypes"
   ]
  },
  {
   "cell_type": "code",
   "execution_count": null,
   "metadata": {
    "collapsed": true
   },
   "outputs": [],
   "source": [
    "X6.GTcons = X6.GTcons.astype(int)"
   ]
  },
  {
   "cell_type": "code",
   "execution_count": null,
   "metadata": {
    "collapsed": true
   },
   "outputs": [],
   "source": [
    "print (pd.value_counts(X6['GTcons'].values, sort=False))"
   ]
  },
  {
   "cell_type": "markdown",
   "metadata": {},
   "source": [
    "***\n",
    "Label Analysis\n",
    "***"
   ]
  },
  {
   "cell_type": "code",
   "execution_count": null,
   "metadata": {
    "collapsed": true
   },
   "outputs": [],
   "source": [
    "from sklearn.metrics import confusion_matrix\n",
    "consensus_GT = X6['GTcons']\n",
    "predict = X6['predicted_GTcons_label']\n",
    "print(confusion_matrix(consensus_GT, predict))"
   ]
  },
  {
   "cell_type": "code",
   "execution_count": null,
   "metadata": {
    "collapsed": true
   },
   "outputs": [],
   "source": [
    "X6['GTcons'].replace(0, 'Homozygous_Reference', inplace=True)\n",
    "X6['GTcons'].replace(1, 'Heterozygous_Variant', inplace=True)\n",
    "X6['GTcons'].replace(2, 'Homozygous_Variant', inplace=True)\n",
    "X6['predicted_GTcons_label'].replace(0.0, 'Homozygous_Reference', inplace=True)\n",
    "X6['predicted_GTcons_label'].replace(1.0, 'Heterozygous_Variant', inplace=True)\n",
    "X6['predicted_GTcons_label'].replace(2.0, 'Homozygous_Variant', inplace=True)"
   ]
  },
  {
   "cell_type": "markdown",
   "metadata": {},
   "source": [
    "<a id='predict_precision_score_matrix'></a>"
   ]
  },
  {
   "cell_type": "code",
   "execution_count": null,
   "metadata": {
    "collapsed": true
   },
   "outputs": [],
   "source": [
    "print('Precision score of the prediction subset: {:.3f}'.format(precision_score(consensus_GT, predict, average='micro'))) "
   ]
  },
  {
   "cell_type": "code",
   "execution_count": null,
   "metadata": {
    "collapsed": true
   },
   "outputs": [],
   "source": [
    "print('Accuracy score of the prediction subset: {:.3f}'.format(accuracy_score(consensus_GT, predict))) "
   ]
  },
  {
   "cell_type": "code",
   "execution_count": null,
   "metadata": {
    "collapsed": true,
    "scrolled": true
   },
   "outputs": [],
   "source": [
    "pd.crosstab(consensus_GT, predict, rownames=['True'], colnames=['Predicted'], margins=True)"
   ]
  },
  {
   "cell_type": "markdown",
   "metadata": {},
   "source": [
    "** High Confidence Label Analysis**\n",
    "* **Reminder:** The labels predicted by the model are the following consensus genotype:\n",
    "    * Homozygous Reference: 0 \n",
    "    * Heterozygous Variant: 1 \n",
    "    * Homozygous Variant: 2 \n",
    "* Here **high confidence labels** are the GTcons labels predicted by the model that were also assigned a predict probability of either 0.9 or 1\n"
   ]
  },
  {
   "cell_type": "code",
   "execution_count": null,
   "metadata": {
    "collapsed": true
   },
   "outputs": [],
   "source": [
    "high_conf_labels = X6[(X6['Homozygous_Reference_GTcons'] == 1) | (X6['Homozygous_Reference_GTcons'] >= 0.9) | (X6['Heterozygous_Variant_GTcons'] == 1) | (X6['Heterozygous_Variant_GTcons'] >= 0.9) | (X6['Homozygous_Variant_GTcons'] == 1) | (X6['Homozygous_Variant_GTcons'] >= 0.9)]\n"
   ]
  },
  {
   "cell_type": "markdown",
   "metadata": {},
   "source": [
    "<a id='hiconf_precision_score'></a>"
   ]
  },
  {
   "cell_type": "code",
   "execution_count": null,
   "metadata": {
    "collapsed": true
   },
   "outputs": [],
   "source": [
    "consensus_GT = high_conf_labels['GTcons']\n",
    "predict = high_conf_labels['predicted_GTcons_label']\n",
    "pd.crosstab(consensus_GT, predict, rownames=['True'], colnames=['Predicted'], margins=True)"
   ]
  },
  {
   "cell_type": "code",
   "execution_count": null,
   "metadata": {
    "collapsed": true,
    "scrolled": true
   },
   "outputs": [],
   "source": [
    "from sklearn.metrics import classification_report\n",
    "print(classification_report(consensus_GT, predict))"
   ]
  },
  {
   "cell_type": "markdown",
   "metadata": {},
   "source": [
    "***\n",
    "**Predict**\n",
    "\n",
    "\n",
    "How well does a model trained on small variants predict GT of large variants?\n",
    "Variants : 1000 - 5999 bp\n",
    "***"
   ]
  },
  {
   "cell_type": "markdown",
   "metadata": {},
   "source": [
    "<a id='predict'></a>"
   ]
  },
  {
   "cell_type": "markdown",
   "metadata": {},
   "source": [
    "** Load Data **"
   ]
  },
  {
   "cell_type": "markdown",
   "metadata": {},
   "source": [
    "* Pool all datasets with large variants 1000 - 5999"
   ]
  },
  {
   "cell_type": "code",
   "execution_count": 71,
   "metadata": {
    "collapsed": true
   },
   "outputs": [],
   "source": [
    "df = pd.concat([df_1000to5999, df_1000to5999_test], axis=0)\n",
    "df = df.reset_index()\n",
    "df2 = pd.concat([df_1000to5999_, df_1000to5999_test_], axis=0)\n",
    "df2 = df2.reset_index()"
   ]
  },
  {
   "cell_type": "code",
   "execution_count": 72,
   "metadata": {
    "collapsed": true
   },
   "outputs": [],
   "source": [
    "df.drop(['GTcons'],axis=1, inplace=True)\n",
    "df.drop(['index'],axis=1, inplace=True)\n",
    "df2.drop(['index'],axis=1, inplace=True)"
   ]
  },
  {
   "cell_type": "code",
   "execution_count": 73,
   "metadata": {
    "collapsed": true
   },
   "outputs": [],
   "source": [
    "X2 = df"
   ]
  },
  {
   "cell_type": "markdown",
   "metadata": {},
   "source": [
    "** Impute missing values using KNN **"
   ]
  },
  {
   "cell_type": "code",
   "execution_count": 74,
   "metadata": {},
   "outputs": [
    {
     "name": "stdout",
     "output_type": "stream",
     "text": [
      "Imputing row 1/227 with 1 missing, elapsed time: 0.046\n",
      "Imputing row 101/227 with 1 missing, elapsed time: 0.059\n",
      "Imputing row 201/227 with 57 missing, elapsed time: 0.065\n"
     ]
    }
   ],
   "source": [
    "#Convert dataframe to matrix\n",
    "X2=X2.as_matrix()\n",
    "X2=pd.DataFrame(X2)\n",
    "\n",
    "# Imput missing values from three closest observations\n",
    "X2_imputed=KNN(k=3).complete(X2)\n",
    "X2=pd.DataFrame(X2_imputed)"
   ]
  },
  {
   "cell_type": "code",
   "execution_count": 75,
   "metadata": {},
   "outputs": [
    {
     "data": {
      "text/html": [
       "<div>\n",
       "<table border=\"1\" class=\"dataframe\">\n",
       "  <thead>\n",
       "    <tr style=\"text-align: right;\">\n",
       "      <th></th>\n",
       "      <th>Ill250.alt_alnScore_mean</th>\n",
       "      <th>Ill250.alt_alnScore_std</th>\n",
       "      <th>Ill250.alt_count</th>\n",
       "      <th>Ill250.alt_insertSize_mean</th>\n",
       "      <th>Ill250.alt_insertSize_std</th>\n",
       "      <th>Ill250.alt_reason_alignmentScore</th>\n",
       "      <th>Ill250.alt_reason_insertSizeScore</th>\n",
       "      <th>Ill250.alt_reason_orientation</th>\n",
       "      <th>Ill250.amb_alnScore_mean</th>\n",
       "      <th>Ill250.amb_alnScore_std</th>\n",
       "      <th>...</th>\n",
       "      <th>pacbio.ref_insertSize_mean</th>\n",
       "      <th>pacbio.ref_insertSize_std</th>\n",
       "      <th>pacbio.ref_reason_alignmentScore</th>\n",
       "      <th>refN_cnt</th>\n",
       "      <th>refN_pct</th>\n",
       "      <th>segdup_cnt</th>\n",
       "      <th>segdup_pct</th>\n",
       "      <th>start</th>\n",
       "      <th>tandemrep_cnt</th>\n",
       "      <th>tandemrep_pct</th>\n",
       "    </tr>\n",
       "  </thead>\n",
       "  <tbody>\n",
       "    <tr>\n",
       "      <th>0</th>\n",
       "      <td>0.000000</td>\n",
       "      <td>0.000000</td>\n",
       "      <td>0.0</td>\n",
       "      <td>0.000000</td>\n",
       "      <td>0.000000</td>\n",
       "      <td>0.0</td>\n",
       "      <td>0.0</td>\n",
       "      <td>0.0</td>\n",
       "      <td>872.238636</td>\n",
       "      <td>151.265870</td>\n",
       "      <td>...</td>\n",
       "      <td>10683.11594</td>\n",
       "      <td>5291.525830</td>\n",
       "      <td>69.0</td>\n",
       "      <td>0.0</td>\n",
       "      <td>0.0</td>\n",
       "      <td>0.0</td>\n",
       "      <td>0.0</td>\n",
       "      <td>66398770.0</td>\n",
       "      <td>6.0</td>\n",
       "      <td>0.097264</td>\n",
       "    </tr>\n",
       "    <tr>\n",
       "      <th>1</th>\n",
       "      <td>972.727273</td>\n",
       "      <td>15.764407</td>\n",
       "      <td>44.0</td>\n",
       "      <td>446.931818</td>\n",
       "      <td>81.055368</td>\n",
       "      <td>35.0</td>\n",
       "      <td>9.0</td>\n",
       "      <td>0.0</td>\n",
       "      <td>861.743750</td>\n",
       "      <td>161.249545</td>\n",
       "      <td>...</td>\n",
       "      <td>0.00000</td>\n",
       "      <td>0.000000</td>\n",
       "      <td>0.0</td>\n",
       "      <td>0.0</td>\n",
       "      <td>0.0</td>\n",
       "      <td>0.0</td>\n",
       "      <td>0.0</td>\n",
       "      <td>14189915.0</td>\n",
       "      <td>3.0</td>\n",
       "      <td>0.037082</td>\n",
       "    </tr>\n",
       "    <tr>\n",
       "      <th>2</th>\n",
       "      <td>977.161290</td>\n",
       "      <td>15.238103</td>\n",
       "      <td>31.0</td>\n",
       "      <td>422.161290</td>\n",
       "      <td>57.943853</td>\n",
       "      <td>28.0</td>\n",
       "      <td>3.0</td>\n",
       "      <td>0.0</td>\n",
       "      <td>886.130045</td>\n",
       "      <td>129.576288</td>\n",
       "      <td>...</td>\n",
       "      <td>10714.20833</td>\n",
       "      <td>3615.789459</td>\n",
       "      <td>24.0</td>\n",
       "      <td>0.0</td>\n",
       "      <td>0.0</td>\n",
       "      <td>0.0</td>\n",
       "      <td>0.0</td>\n",
       "      <td>20950622.0</td>\n",
       "      <td>10.0</td>\n",
       "      <td>0.076469</td>\n",
       "    </tr>\n",
       "  </tbody>\n",
       "</table>\n",
       "<p>3 rows × 176 columns</p>\n",
       "</div>"
      ],
      "text/plain": [
       "   Ill250.alt_alnScore_mean  Ill250.alt_alnScore_std  Ill250.alt_count  \\\n",
       "0                  0.000000                 0.000000               0.0   \n",
       "1                972.727273                15.764407              44.0   \n",
       "2                977.161290                15.238103              31.0   \n",
       "\n",
       "   Ill250.alt_insertSize_mean  Ill250.alt_insertSize_std  \\\n",
       "0                    0.000000                   0.000000   \n",
       "1                  446.931818                  81.055368   \n",
       "2                  422.161290                  57.943853   \n",
       "\n",
       "   Ill250.alt_reason_alignmentScore  Ill250.alt_reason_insertSizeScore  \\\n",
       "0                               0.0                                0.0   \n",
       "1                              35.0                                9.0   \n",
       "2                              28.0                                3.0   \n",
       "\n",
       "   Ill250.alt_reason_orientation  Ill250.amb_alnScore_mean  \\\n",
       "0                            0.0                872.238636   \n",
       "1                            0.0                861.743750   \n",
       "2                            0.0                886.130045   \n",
       "\n",
       "   Ill250.amb_alnScore_std      ...        pacbio.ref_insertSize_mean  \\\n",
       "0               151.265870      ...                       10683.11594   \n",
       "1               161.249545      ...                           0.00000   \n",
       "2               129.576288      ...                       10714.20833   \n",
       "\n",
       "   pacbio.ref_insertSize_std  pacbio.ref_reason_alignmentScore  refN_cnt  \\\n",
       "0                5291.525830                              69.0       0.0   \n",
       "1                   0.000000                               0.0       0.0   \n",
       "2                3615.789459                              24.0       0.0   \n",
       "\n",
       "   refN_pct  segdup_cnt  segdup_pct       start  tandemrep_cnt  tandemrep_pct  \n",
       "0       0.0         0.0         0.0  66398770.0            6.0       0.097264  \n",
       "1       0.0         0.0         0.0  14189915.0            3.0       0.037082  \n",
       "2       0.0         0.0         0.0  20950622.0           10.0       0.076469  \n",
       "\n",
       "[3 rows x 176 columns]"
      ]
     },
     "execution_count": 75,
     "metadata": {},
     "output_type": "execute_result"
    }
   ],
   "source": [
    "df_header = list(df.columns.values)\n",
    "X2.columns = df_header\n",
    "X2.head(3)"
   ]
  },
  {
   "cell_type": "code",
   "execution_count": 76,
   "metadata": {},
   "outputs": [
    {
     "data": {
      "text/html": [
       "<div>\n",
       "<table border=\"1\" class=\"dataframe\">\n",
       "  <thead>\n",
       "    <tr style=\"text-align: right;\">\n",
       "      <th></th>\n",
       "      <th>Ill250.alt_alnScore_mean</th>\n",
       "      <th>Ill250.alt_alnScore_std</th>\n",
       "      <th>Ill250.alt_count</th>\n",
       "      <th>Ill250.alt_insertSize_mean</th>\n",
       "      <th>Ill250.alt_insertSize_std</th>\n",
       "      <th>Ill250.alt_reason_alignmentScore</th>\n",
       "      <th>Ill250.alt_reason_insertSizeScore</th>\n",
       "      <th>Ill250.alt_reason_orientation</th>\n",
       "      <th>Ill250.amb_alnScore_mean</th>\n",
       "      <th>Ill250.amb_alnScore_std</th>\n",
       "      <th>...</th>\n",
       "      <th>pacbio.ref_insertSize_mean</th>\n",
       "      <th>pacbio.ref_insertSize_std</th>\n",
       "      <th>pacbio.ref_reason_alignmentScore</th>\n",
       "      <th>refN_cnt</th>\n",
       "      <th>refN_pct</th>\n",
       "      <th>segdup_cnt</th>\n",
       "      <th>segdup_pct</th>\n",
       "      <th>start</th>\n",
       "      <th>tandemrep_cnt</th>\n",
       "      <th>tandemrep_pct</th>\n",
       "    </tr>\n",
       "  </thead>\n",
       "  <tbody>\n",
       "    <tr>\n",
       "      <th>0</th>\n",
       "      <td>0.000000</td>\n",
       "      <td>0.000000</td>\n",
       "      <td>0.0</td>\n",
       "      <td>0.000000</td>\n",
       "      <td>0.000000</td>\n",
       "      <td>0.0</td>\n",
       "      <td>0.0</td>\n",
       "      <td>0.0</td>\n",
       "      <td>872.238636</td>\n",
       "      <td>151.265870</td>\n",
       "      <td>...</td>\n",
       "      <td>10683.11594</td>\n",
       "      <td>5291.525830</td>\n",
       "      <td>69.0</td>\n",
       "      <td>0.0</td>\n",
       "      <td>0.0</td>\n",
       "      <td>0.0</td>\n",
       "      <td>0.0</td>\n",
       "      <td>66398770.0</td>\n",
       "      <td>6.0</td>\n",
       "      <td>0.097264</td>\n",
       "    </tr>\n",
       "    <tr>\n",
       "      <th>1</th>\n",
       "      <td>972.727273</td>\n",
       "      <td>15.764407</td>\n",
       "      <td>44.0</td>\n",
       "      <td>446.931818</td>\n",
       "      <td>81.055368</td>\n",
       "      <td>35.0</td>\n",
       "      <td>9.0</td>\n",
       "      <td>0.0</td>\n",
       "      <td>861.743750</td>\n",
       "      <td>161.249545</td>\n",
       "      <td>...</td>\n",
       "      <td>0.00000</td>\n",
       "      <td>0.000000</td>\n",
       "      <td>0.0</td>\n",
       "      <td>0.0</td>\n",
       "      <td>0.0</td>\n",
       "      <td>0.0</td>\n",
       "      <td>0.0</td>\n",
       "      <td>14189915.0</td>\n",
       "      <td>3.0</td>\n",
       "      <td>0.037082</td>\n",
       "    </tr>\n",
       "    <tr>\n",
       "      <th>2</th>\n",
       "      <td>977.161290</td>\n",
       "      <td>15.238103</td>\n",
       "      <td>31.0</td>\n",
       "      <td>422.161290</td>\n",
       "      <td>57.943853</td>\n",
       "      <td>28.0</td>\n",
       "      <td>3.0</td>\n",
       "      <td>0.0</td>\n",
       "      <td>886.130045</td>\n",
       "      <td>129.576288</td>\n",
       "      <td>...</td>\n",
       "      <td>10714.20833</td>\n",
       "      <td>3615.789459</td>\n",
       "      <td>24.0</td>\n",
       "      <td>0.0</td>\n",
       "      <td>0.0</td>\n",
       "      <td>0.0</td>\n",
       "      <td>0.0</td>\n",
       "      <td>20950622.0</td>\n",
       "      <td>10.0</td>\n",
       "      <td>0.076469</td>\n",
       "    </tr>\n",
       "  </tbody>\n",
       "</table>\n",
       "<p>3 rows × 176 columns</p>\n",
       "</div>"
      ],
      "text/plain": [
       "   Ill250.alt_alnScore_mean  Ill250.alt_alnScore_std  Ill250.alt_count  \\\n",
       "0                  0.000000                 0.000000               0.0   \n",
       "1                972.727273                15.764407              44.0   \n",
       "2                977.161290                15.238103              31.0   \n",
       "\n",
       "   Ill250.alt_insertSize_mean  Ill250.alt_insertSize_std  \\\n",
       "0                    0.000000                   0.000000   \n",
       "1                  446.931818                  81.055368   \n",
       "2                  422.161290                  57.943853   \n",
       "\n",
       "   Ill250.alt_reason_alignmentScore  Ill250.alt_reason_insertSizeScore  \\\n",
       "0                               0.0                                0.0   \n",
       "1                              35.0                                9.0   \n",
       "2                              28.0                                3.0   \n",
       "\n",
       "   Ill250.alt_reason_orientation  Ill250.amb_alnScore_mean  \\\n",
       "0                            0.0                872.238636   \n",
       "1                            0.0                861.743750   \n",
       "2                            0.0                886.130045   \n",
       "\n",
       "   Ill250.amb_alnScore_std      ...        pacbio.ref_insertSize_mean  \\\n",
       "0               151.265870      ...                       10683.11594   \n",
       "1               161.249545      ...                           0.00000   \n",
       "2               129.576288      ...                       10714.20833   \n",
       "\n",
       "   pacbio.ref_insertSize_std  pacbio.ref_reason_alignmentScore  refN_cnt  \\\n",
       "0                5291.525830                              69.0       0.0   \n",
       "1                   0.000000                               0.0       0.0   \n",
       "2                3615.789459                              24.0       0.0   \n",
       "\n",
       "   refN_pct  segdup_cnt  segdup_pct       start  tandemrep_cnt  tandemrep_pct  \n",
       "0       0.0         0.0         0.0  66398770.0            6.0       0.097264  \n",
       "1       0.0         0.0         0.0  14189915.0            3.0       0.037082  \n",
       "2       0.0         0.0         0.0  20950622.0           10.0       0.076469  \n",
       "\n",
       "[3 rows x 176 columns]"
      ]
     },
     "execution_count": 76,
     "metadata": {},
     "output_type": "execute_result"
    }
   ],
   "source": [
    "X3 = pd.DataFrame()\n",
    "X3 = X2\n",
    "X3.head(3)"
   ]
  },
  {
   "cell_type": "code",
   "execution_count": 77,
   "metadata": {
    "collapsed": true
   },
   "outputs": [],
   "source": [
    "# Order features\n",
    "X5 = X2.reindex_axis(sorted(X2.columns), axis=1)"
   ]
  },
  {
   "cell_type": "markdown",
   "metadata": {},
   "source": [
    "<a id='prediction_step'></a>"
   ]
  },
  {
   "cell_type": "code",
   "execution_count": 78,
   "metadata": {
    "collapsed": true
   },
   "outputs": [],
   "source": [
    "pred = model.predict(X5)"
   ]
  },
  {
   "cell_type": "code",
   "execution_count": 79,
   "metadata": {
    "collapsed": true
   },
   "outputs": [],
   "source": [
    "pred_prob = model.predict_proba(X5)"
   ]
  },
  {
   "cell_type": "code",
   "execution_count": 80,
   "metadata": {
    "collapsed": true
   },
   "outputs": [],
   "source": [
    "pred_prob_log = model.predict_log_proba(X5)"
   ]
  },
  {
   "cell_type": "code",
   "execution_count": 81,
   "metadata": {},
   "outputs": [
    {
     "data": {
      "text/html": [
       "<div>\n",
       "<table border=\"1\" class=\"dataframe\">\n",
       "  <thead>\n",
       "    <tr style=\"text-align: right;\">\n",
       "      <th></th>\n",
       "      <th>Ill250.alt_alnScore_mean</th>\n",
       "      <th>Ill250.alt_alnScore_std</th>\n",
       "      <th>Ill250.alt_count</th>\n",
       "      <th>Ill250.alt_insertSize_mean</th>\n",
       "      <th>Ill250.alt_insertSize_std</th>\n",
       "      <th>Ill250.alt_reason_alignmentScore</th>\n",
       "      <th>Ill250.alt_reason_insertSizeScore</th>\n",
       "      <th>Ill250.alt_reason_orientation</th>\n",
       "      <th>Ill250.amb_alnScore_mean</th>\n",
       "      <th>Ill250.amb_alnScore_std</th>\n",
       "      <th>...</th>\n",
       "      <th>pacbio.ref_insertSize_mean</th>\n",
       "      <th>pacbio.ref_insertSize_std</th>\n",
       "      <th>pacbio.ref_reason_alignmentScore</th>\n",
       "      <th>refN_cnt</th>\n",
       "      <th>refN_pct</th>\n",
       "      <th>segdup_cnt</th>\n",
       "      <th>segdup_pct</th>\n",
       "      <th>start</th>\n",
       "      <th>tandemrep_cnt</th>\n",
       "      <th>tandemrep_pct</th>\n",
       "    </tr>\n",
       "  </thead>\n",
       "  <tbody>\n",
       "  </tbody>\n",
       "</table>\n",
       "<p>0 rows × 176 columns</p>\n",
       "</div>"
      ],
      "text/plain": [
       "Empty DataFrame\n",
       "Columns: [Ill250.alt_alnScore_mean, Ill250.alt_alnScore_std, Ill250.alt_count, Ill250.alt_insertSize_mean, Ill250.alt_insertSize_std, Ill250.alt_reason_alignmentScore, Ill250.alt_reason_insertSizeScore, Ill250.alt_reason_orientation, Ill250.amb_alnScore_mean, Ill250.amb_alnScore_std, Ill250.amb_count, Ill250.amb_insertSize_mean, Ill250.amb_insertSize_std, Ill250.amb_reason_alignmentScore_alignmentScore, Ill250.amb_reason_alignmentScore_orientation, Ill250.amb_reason_flanking, Ill250.amb_reason_insertSizeScore_alignmentScore, Ill250.amb_reason_multimapping, Ill250.amb_reason_orientation_alignmentScore, Ill250.amb_reason_orientation_orientation, Ill250.amb_reason_same_scores, Ill250.ref_alnScore_mean, Ill250.ref_alnScore_std, Ill250.ref_count, Ill250.ref_insertSize_mean, Ill250.ref_insertSize_std, Ill250.ref_reason_alignmentScore, Ill250.ref_reason_orientation, Ill300x.alt_alnScore_mean, Ill300x.alt_alnScore_std, Ill300x.alt_count, Ill300x.alt_insertSize_mean, Ill300x.alt_insertSize_std, Ill300x.alt_reason_alignmentScore, Ill300x.alt_reason_insertSizeScore, Ill300x.alt_reason_orientation, Ill300x.amb_alnScore_mean, Ill300x.amb_alnScore_std, Ill300x.amb_count, Ill300x.amb_insertSize_mean, Ill300x.amb_insertSize_std, Ill300x.amb_reason_alignmentScore_alignmentScore, Ill300x.amb_reason_alignmentScore_insertSizeScore, Ill300x.amb_reason_alignmentScore_orientation, Ill300x.amb_reason_flanking, Ill300x.amb_reason_insertSizeScore_alignmentScore, Ill300x.amb_reason_insertSizeScore_insertSizeScore, Ill300x.amb_reason_multimapping, Ill300x.amb_reason_orientation_alignmentScore, Ill300x.amb_reason_orientation_orientation, Ill300x.amb_reason_same_scores, Ill300x.ref_alnScore_mean, Ill300x.ref_alnScore_std, Ill300x.ref_count, Ill300x.ref_insertSize_mean, Ill300x.ref_insertSize_std, Ill300x.ref_reason_alignmentScore, Ill300x.ref_reason_insertSizeScore, Ill300x.ref_reason_orientation, IllMP.alt_alnScore_mean, IllMP.alt_alnScore_std, IllMP.alt_count, IllMP.alt_insertSize_mean, IllMP.alt_insertSize_std, IllMP.alt_reason_alignmentScore, IllMP.alt_reason_insertSizeScore, IllMP.alt_reason_orientation, IllMP.amb_alnScore_mean, IllMP.amb_alnScore_std, IllMP.amb_count, IllMP.amb_insertSize_mean, IllMP.amb_insertSize_std, IllMP.amb_reason_alignmentScore_alignmentScore, IllMP.amb_reason_alignmentScore_orientation, IllMP.amb_reason_flanking, IllMP.amb_reason_insertSizeScore_alignmentScore, IllMP.amb_reason_insertSizeScore_insertSizeScore, IllMP.amb_reason_multimapping, IllMP.amb_reason_orientation_alignmentScore, IllMP.amb_reason_orientation_orientation, IllMP.amb_reason_same_scores, IllMP.ref_alnScore_mean, IllMP.ref_alnScore_std, IllMP.ref_count, IllMP.ref_insertSize_mean, IllMP.ref_insertSize_std, IllMP.ref_reason_alignmentScore, IllMP.ref_reason_insertSizeScore, IllMP.ref_reason_orientation, Size, TenX.HP1_alt_alnScore_mean, TenX.HP1_alt_alnScore_std, TenX.HP1_alt_count, TenX.HP1_alt_insertSize_mean, TenX.HP1_alt_insertSize_std, TenX.HP1_alt_reason_alignmentScore, TenX.HP1_alt_reason_insertSizeScore, TenX.HP1_alt_reason_orientation, TenX.HP1_amb_alnScore_mean, TenX.HP1_amb_alnScore_std, ...]\n",
       "Index: []\n",
       "\n",
       "[0 rows x 176 columns]"
      ]
     },
     "execution_count": 81,
     "metadata": {},
     "output_type": "execute_result"
    }
   ],
   "source": [
    "df[df.index.duplicated()]"
   ]
  },
  {
   "cell_type": "code",
   "execution_count": 82,
   "metadata": {
    "collapsed": true
   },
   "outputs": [],
   "source": [
    "X5['predicted_label'] = pred\n",
    "X5['chrom'] = df2['chrom']\n",
    "X5['GTcons'] = df2['GTcons']\n",
    "X5['start'] = df2['start']\n",
    "X5['end'] = df2['end']\n",
    "X5['Size'] = df2['Size']\n",
    "# X5['GTsupp'] = df['GTsupp']"
   ]
  },
  {
   "cell_type": "code",
   "execution_count": 83,
   "metadata": {
    "collapsed": true
   },
   "outputs": [],
   "source": [
    "X6 = pd.concat([X5, pd.DataFrame(pred_prob, columns=['1','2','3'])])"
   ]
  },
  {
   "cell_type": "code",
   "execution_count": 84,
   "metadata": {
    "collapsed": true
   },
   "outputs": [],
   "source": [
    "X7 = pd.concat([X5, pd.DataFrame(pred_prob_log, columns=['1','2','3'])])"
   ]
  },
  {
   "cell_type": "code",
   "execution_count": 85,
   "metadata": {
    "collapsed": true
   },
   "outputs": [],
   "source": [
    "X6.to_csv('/Volumes/lesleydata/RF_model_trainingData_test/size_data/results/figures/400to499/400to499_1000to5999_predLrg.csv', index=False)"
   ]
  },
  {
   "cell_type": "code",
   "execution_count": null,
   "metadata": {
    "collapsed": true
   },
   "outputs": [],
   "source": [
    "X7.to_csv('/Volumes/lesleydata/RF_model_trainingData_test/size_data/results/figures/400to499/400to499_log_1000to5999_.csv', index=False)"
   ]
  },
  {
   "cell_type": "code",
   "execution_count": 86,
   "metadata": {
    "collapsed": true
   },
   "outputs": [],
   "source": [
    "X6 = pd.read_csv('/Volumes/lesleydata/RF_model_trainingData_test/size_data/results/figures/400to499/400to499_1000to5999_predLrg.csv')"
   ]
  },
  {
   "cell_type": "code",
   "execution_count": 87,
   "metadata": {
    "collapsed": true
   },
   "outputs": [],
   "source": [
    "X6.rename(columns={'1': 'Homozygous_Reference_GTcons'}, inplace=True)\n",
    "X6.rename(columns={'2': 'Heterozygous_Variant_GTcons'}, inplace=True)\n",
    "X6.rename(columns={'3': 'Homozygous_Variant_GTcons'}, inplace=True)\n",
    "X6.rename(columns={'predicted_label': 'predicted_GTcons_label'}, inplace=True)"
   ]
  },
  {
   "cell_type": "code",
   "execution_count": 88,
   "metadata": {
    "collapsed": true
   },
   "outputs": [],
   "source": [
    "X6['GTcons'].replace('Homozygous_Reference', '0', inplace=True)\n",
    "X6['GTcons'].replace('Heterozygous_Variant', '1', inplace=True)\n",
    "X6['GTcons'].replace('Homozygous_Variant', '2', inplace=True)"
   ]
  },
  {
   "cell_type": "code",
   "execution_count": 89,
   "metadata": {},
   "outputs": [
    {
     "data": {
      "text/html": [
       "<div>\n",
       "<table border=\"1\" class=\"dataframe\">\n",
       "  <thead>\n",
       "    <tr style=\"text-align: right;\">\n",
       "      <th></th>\n",
       "      <th>Homozygous_Reference_GTcons</th>\n",
       "      <th>Heterozygous_Variant_GTcons</th>\n",
       "      <th>Homozygous_Variant_GTcons</th>\n",
       "      <th>GTcons</th>\n",
       "      <th>Ill250.alt_alnScore_mean</th>\n",
       "      <th>Ill250.alt_alnScore_std</th>\n",
       "      <th>Ill250.alt_count</th>\n",
       "      <th>Ill250.alt_insertSize_mean</th>\n",
       "      <th>Ill250.alt_insertSize_std</th>\n",
       "      <th>Ill250.alt_reason_alignmentScore</th>\n",
       "      <th>...</th>\n",
       "      <th>pacbio.ref_insertSize_std</th>\n",
       "      <th>pacbio.ref_reason_alignmentScore</th>\n",
       "      <th>predicted_GTcons_label</th>\n",
       "      <th>refN_cnt</th>\n",
       "      <th>refN_pct</th>\n",
       "      <th>segdup_cnt</th>\n",
       "      <th>segdup_pct</th>\n",
       "      <th>start</th>\n",
       "      <th>tandemrep_cnt</th>\n",
       "      <th>tandemrep_pct</th>\n",
       "    </tr>\n",
       "  </thead>\n",
       "  <tbody>\n",
       "    <tr>\n",
       "      <th>0</th>\n",
       "      <td>0.95</td>\n",
       "      <td>0.00</td>\n",
       "      <td>0.05</td>\n",
       "      <td>0</td>\n",
       "      <td>0.000000</td>\n",
       "      <td>0.000000</td>\n",
       "      <td>0</td>\n",
       "      <td>0.000000</td>\n",
       "      <td>0.000000</td>\n",
       "      <td>0</td>\n",
       "      <td>...</td>\n",
       "      <td>5291.525830</td>\n",
       "      <td>69.0</td>\n",
       "      <td>0</td>\n",
       "      <td>0</td>\n",
       "      <td>0</td>\n",
       "      <td>0</td>\n",
       "      <td>0.0</td>\n",
       "      <td>66398770</td>\n",
       "      <td>6</td>\n",
       "      <td>0.097264</td>\n",
       "    </tr>\n",
       "    <tr>\n",
       "      <th>1</th>\n",
       "      <td>0.10</td>\n",
       "      <td>0.45</td>\n",
       "      <td>0.45</td>\n",
       "      <td>2</td>\n",
       "      <td>972.727273</td>\n",
       "      <td>15.764407</td>\n",
       "      <td>44</td>\n",
       "      <td>446.931818</td>\n",
       "      <td>81.055368</td>\n",
       "      <td>35</td>\n",
       "      <td>...</td>\n",
       "      <td>0.000000</td>\n",
       "      <td>0.0</td>\n",
       "      <td>1</td>\n",
       "      <td>0</td>\n",
       "      <td>0</td>\n",
       "      <td>0</td>\n",
       "      <td>0.0</td>\n",
       "      <td>14189915</td>\n",
       "      <td>3</td>\n",
       "      <td>0.037082</td>\n",
       "    </tr>\n",
       "    <tr>\n",
       "      <th>2</th>\n",
       "      <td>0.15</td>\n",
       "      <td>0.65</td>\n",
       "      <td>0.20</td>\n",
       "      <td>1</td>\n",
       "      <td>977.161290</td>\n",
       "      <td>15.238103</td>\n",
       "      <td>31</td>\n",
       "      <td>422.161290</td>\n",
       "      <td>57.943853</td>\n",
       "      <td>28</td>\n",
       "      <td>...</td>\n",
       "      <td>3615.789459</td>\n",
       "      <td>24.0</td>\n",
       "      <td>1</td>\n",
       "      <td>0</td>\n",
       "      <td>0</td>\n",
       "      <td>0</td>\n",
       "      <td>0.0</td>\n",
       "      <td>20950622</td>\n",
       "      <td>10</td>\n",
       "      <td>0.076469</td>\n",
       "    </tr>\n",
       "  </tbody>\n",
       "</table>\n",
       "<p>3 rows × 181 columns</p>\n",
       "</div>"
      ],
      "text/plain": [
       "   Homozygous_Reference_GTcons  Heterozygous_Variant_GTcons  \\\n",
       "0                         0.95                         0.00   \n",
       "1                         0.10                         0.45   \n",
       "2                         0.15                         0.65   \n",
       "\n",
       "   Homozygous_Variant_GTcons GTcons  Ill250.alt_alnScore_mean  \\\n",
       "0                       0.05      0                  0.000000   \n",
       "1                       0.45      2                972.727273   \n",
       "2                       0.20      1                977.161290   \n",
       "\n",
       "   Ill250.alt_alnScore_std  Ill250.alt_count  Ill250.alt_insertSize_mean  \\\n",
       "0                 0.000000                 0                    0.000000   \n",
       "1                15.764407                44                  446.931818   \n",
       "2                15.238103                31                  422.161290   \n",
       "\n",
       "   Ill250.alt_insertSize_std  Ill250.alt_reason_alignmentScore      ...        \\\n",
       "0                   0.000000                                 0      ...         \n",
       "1                  81.055368                                35      ...         \n",
       "2                  57.943853                                28      ...         \n",
       "\n",
       "   pacbio.ref_insertSize_std  pacbio.ref_reason_alignmentScore  \\\n",
       "0                5291.525830                              69.0   \n",
       "1                   0.000000                               0.0   \n",
       "2                3615.789459                              24.0   \n",
       "\n",
       "   predicted_GTcons_label  refN_cnt  refN_pct  segdup_cnt  segdup_pct  \\\n",
       "0                       0         0         0           0         0.0   \n",
       "1                       1         0         0           0         0.0   \n",
       "2                       1         0         0           0         0.0   \n",
       "\n",
       "      start  tandemrep_cnt  tandemrep_pct  \n",
       "0  66398770              6       0.097264  \n",
       "1  14189915              3       0.037082  \n",
       "2  20950622             10       0.076469  \n",
       "\n",
       "[3 rows x 181 columns]"
      ]
     },
     "execution_count": 89,
     "metadata": {},
     "output_type": "execute_result"
    }
   ],
   "source": [
    "X6.head(3)"
   ]
  },
  {
   "cell_type": "code",
   "execution_count": 90,
   "metadata": {
    "collapsed": true
   },
   "outputs": [],
   "source": [
    "X6.to_csv('/Volumes/lesleydata/RF_model_trainingData_test/size_data/results/figures/400to499/400to499_final_1000to5999_predLrg.csv', index=False)"
   ]
  },
  {
   "cell_type": "code",
   "execution_count": null,
   "metadata": {
    "collapsed": true
   },
   "outputs": [],
   "source": [
    "# X6['GTcons'].fillna(999)\n",
    "# X7 = X6[X6.GTcons != 999]\n",
    "# X6['predicted_GTcons_label'].isnull().sum()"
   ]
  },
  {
   "cell_type": "code",
   "execution_count": 91,
   "metadata": {},
   "outputs": [
    {
     "data": {
      "text/plain": [
       "dtype('int64')"
      ]
     },
     "execution_count": 91,
     "metadata": {},
     "output_type": "execute_result"
    }
   ],
   "source": [
    "X6['predicted_GTcons_label'].dtypes"
   ]
  },
  {
   "cell_type": "code",
   "execution_count": 92,
   "metadata": {
    "collapsed": true
   },
   "outputs": [],
   "source": [
    "X6.GTcons = X6.GTcons.astype(int)"
   ]
  },
  {
   "cell_type": "code",
   "execution_count": 93,
   "metadata": {},
   "outputs": [
    {
     "name": "stdout",
     "output_type": "stream",
     "text": [
      "0    93\n",
      "1    80\n",
      "2    54\n",
      "dtype: int64\n"
     ]
    }
   ],
   "source": [
    "print (pd.value_counts(X6['GTcons'].values, sort=False))"
   ]
  },
  {
   "cell_type": "markdown",
   "metadata": {},
   "source": [
    "***\n",
    "Label Analysis\n",
    "***"
   ]
  },
  {
   "cell_type": "code",
   "execution_count": 94,
   "metadata": {},
   "outputs": [
    {
     "name": "stdout",
     "output_type": "stream",
     "text": [
      "[[90  3  0]\n",
      " [ 1 79  0]\n",
      " [ 0 29 25]]\n"
     ]
    }
   ],
   "source": [
    "from sklearn.metrics import confusion_matrix\n",
    "consensus_GT = X6['GTcons']\n",
    "predict = X6['predicted_GTcons_label']\n",
    "print(confusion_matrix(consensus_GT, predict))"
   ]
  },
  {
   "cell_type": "code",
   "execution_count": 95,
   "metadata": {
    "collapsed": true
   },
   "outputs": [],
   "source": [
    "X6['GTcons'].replace(0, 'Homozygous_Reference', inplace=True)\n",
    "X6['GTcons'].replace(1, 'Heterozygous_Variant', inplace=True)\n",
    "X6['GTcons'].replace(2, 'Homozygous_Variant', inplace=True)\n",
    "X6['predicted_GTcons_label'].replace(0.0, 'Homozygous_Reference', inplace=True)\n",
    "X6['predicted_GTcons_label'].replace(1.0, 'Heterozygous_Variant', inplace=True)\n",
    "X6['predicted_GTcons_label'].replace(2.0, 'Homozygous_Variant', inplace=True)"
   ]
  },
  {
   "cell_type": "markdown",
   "metadata": {},
   "source": [
    "<a id='predict_precision_score_matrix'></a>"
   ]
  },
  {
   "cell_type": "code",
   "execution_count": 96,
   "metadata": {},
   "outputs": [
    {
     "name": "stdout",
     "output_type": "stream",
     "text": [
      "Precision score of the prediction subset: 0.855\n"
     ]
    }
   ],
   "source": [
    "print('Precision score of the prediction subset: {:.3f}'.format(precision_score(consensus_GT, predict, average='micro'))) "
   ]
  },
  {
   "cell_type": "code",
   "execution_count": 97,
   "metadata": {},
   "outputs": [
    {
     "name": "stdout",
     "output_type": "stream",
     "text": [
      "Accuracy score of the prediction subset: 0.855\n"
     ]
    }
   ],
   "source": [
    "print('Accuracy score of the prediction subset: {:.3f}'.format(accuracy_score(consensus_GT, predict))) "
   ]
  },
  {
   "cell_type": "code",
   "execution_count": 98,
   "metadata": {
    "scrolled": true
   },
   "outputs": [
    {
     "data": {
      "text/html": [
       "<div>\n",
       "<table border=\"1\" class=\"dataframe\">\n",
       "  <thead>\n",
       "    <tr style=\"text-align: right;\">\n",
       "      <th>Predicted</th>\n",
       "      <th>Heterozygous_Variant</th>\n",
       "      <th>Homozygous_Reference</th>\n",
       "      <th>Homozygous_Variant</th>\n",
       "      <th>All</th>\n",
       "    </tr>\n",
       "    <tr>\n",
       "      <th>True</th>\n",
       "      <th></th>\n",
       "      <th></th>\n",
       "      <th></th>\n",
       "      <th></th>\n",
       "    </tr>\n",
       "  </thead>\n",
       "  <tbody>\n",
       "    <tr>\n",
       "      <th>Heterozygous_Variant</th>\n",
       "      <td>79</td>\n",
       "      <td>1</td>\n",
       "      <td>0</td>\n",
       "      <td>80</td>\n",
       "    </tr>\n",
       "    <tr>\n",
       "      <th>Homozygous_Reference</th>\n",
       "      <td>3</td>\n",
       "      <td>90</td>\n",
       "      <td>0</td>\n",
       "      <td>93</td>\n",
       "    </tr>\n",
       "    <tr>\n",
       "      <th>Homozygous_Variant</th>\n",
       "      <td>29</td>\n",
       "      <td>0</td>\n",
       "      <td>25</td>\n",
       "      <td>54</td>\n",
       "    </tr>\n",
       "    <tr>\n",
       "      <th>All</th>\n",
       "      <td>111</td>\n",
       "      <td>91</td>\n",
       "      <td>25</td>\n",
       "      <td>227</td>\n",
       "    </tr>\n",
       "  </tbody>\n",
       "</table>\n",
       "</div>"
      ],
      "text/plain": [
       "Predicted             Heterozygous_Variant  Homozygous_Reference  \\\n",
       "True                                                               \n",
       "Heterozygous_Variant                    79                     1   \n",
       "Homozygous_Reference                     3                    90   \n",
       "Homozygous_Variant                      29                     0   \n",
       "All                                    111                    91   \n",
       "\n",
       "Predicted             Homozygous_Variant  All  \n",
       "True                                           \n",
       "Heterozygous_Variant                   0   80  \n",
       "Homozygous_Reference                   0   93  \n",
       "Homozygous_Variant                    25   54  \n",
       "All                                   25  227  "
      ]
     },
     "execution_count": 98,
     "metadata": {},
     "output_type": "execute_result"
    }
   ],
   "source": [
    "pd.crosstab(consensus_GT, predict, rownames=['True'], colnames=['Predicted'], margins=True)"
   ]
  },
  {
   "cell_type": "markdown",
   "metadata": {},
   "source": [
    "** High Confidence Label Analysis**\n",
    "* **Reminder:** The labels predicted by the model are the following consensus genotype:\n",
    "    * Homozygous Reference: 0 \n",
    "    * Heterozygous Variant: 1 \n",
    "    * Homozygous Variant: 2 \n",
    "* Here **high confidence labels** are the GTcons labels predicted by the model that were also assigned a predict probability of either 0.9 or 1\n"
   ]
  },
  {
   "cell_type": "code",
   "execution_count": 99,
   "metadata": {
    "collapsed": true
   },
   "outputs": [],
   "source": [
    "high_conf_labels = X6[(X6['Homozygous_Reference_GTcons'] == 1) | (X6['Homozygous_Reference_GTcons'] >= 0.9) | (X6['Heterozygous_Variant_GTcons'] == 1) | (X6['Heterozygous_Variant_GTcons'] >= 0.9) | (X6['Homozygous_Variant_GTcons'] == 1) | (X6['Homozygous_Variant_GTcons'] >= 0.9)]\n"
   ]
  },
  {
   "cell_type": "markdown",
   "metadata": {},
   "source": [
    "<a id='hiconf_precision_score'></a>"
   ]
  },
  {
   "cell_type": "code",
   "execution_count": 100,
   "metadata": {},
   "outputs": [
    {
     "data": {
      "text/html": [
       "<div>\n",
       "<table border=\"1\" class=\"dataframe\">\n",
       "  <thead>\n",
       "    <tr style=\"text-align: right;\">\n",
       "      <th>Predicted</th>\n",
       "      <th>Homozygous_Reference</th>\n",
       "      <th>All</th>\n",
       "    </tr>\n",
       "    <tr>\n",
       "      <th>True</th>\n",
       "      <th></th>\n",
       "      <th></th>\n",
       "    </tr>\n",
       "  </thead>\n",
       "  <tbody>\n",
       "    <tr>\n",
       "      <th>Homozygous_Reference</th>\n",
       "      <td>64</td>\n",
       "      <td>64</td>\n",
       "    </tr>\n",
       "    <tr>\n",
       "      <th>All</th>\n",
       "      <td>64</td>\n",
       "      <td>64</td>\n",
       "    </tr>\n",
       "  </tbody>\n",
       "</table>\n",
       "</div>"
      ],
      "text/plain": [
       "Predicted             Homozygous_Reference  All\n",
       "True                                           \n",
       "Homozygous_Reference                    64   64\n",
       "All                                     64   64"
      ]
     },
     "execution_count": 100,
     "metadata": {},
     "output_type": "execute_result"
    }
   ],
   "source": [
    "consensus_GT = high_conf_labels['GTcons']\n",
    "predict = high_conf_labels['predicted_GTcons_label']\n",
    "pd.crosstab(consensus_GT, predict, rownames=['True'], colnames=['Predicted'], margins=True)"
   ]
  },
  {
   "cell_type": "code",
   "execution_count": 101,
   "metadata": {
    "scrolled": true
   },
   "outputs": [
    {
     "name": "stdout",
     "output_type": "stream",
     "text": [
      "                      precision    recall  f1-score   support\n",
      "\n",
      "Homozygous_Reference       1.00      1.00      1.00        64\n",
      "\n",
      "         avg / total       1.00      1.00      1.00        64\n",
      "\n"
     ]
    }
   ],
   "source": [
    "from sklearn.metrics import classification_report\n",
    "print(classification_report(consensus_GT, predict))"
   ]
  },
  {
   "cell_type": "markdown",
   "metadata": {},
   "source": [
    "***\n",
    "**Predict**\n",
    "\n",
    "\n",
    "How well does a model trained on small variants predict GT of large variants?\n",
    "Variants : 6000+ bp\n",
    "***"
   ]
  },
  {
   "cell_type": "markdown",
   "metadata": {},
   "source": [
    "<a id='predict'></a>"
   ]
  },
  {
   "cell_type": "markdown",
   "metadata": {},
   "source": [
    "Description:\n",
    "\n",
    "   * In the [previous section](#machine_learning), a RF model was trained on svanalyzer data.\n",
    "\n",
    "       * The model was trained using [train/test split](#train_test) where 70% of the data was used to train the model and the model performance was determined by predicting labels for the remaining 30% of the data\n",
    " * Reminder: The labels for this training set and the following [prediction step](#prediction_step) are the consensus genotype (GTcons) labels generated from a preliminary R analysis based on reference and alternate read count:\n",
    "           * Homozygous Reference (0)\n",
    "           * Heterozygous Variant (1)\n",
    "           * Homozygous Variant (2)\n",
    "           \n",
    "   * The trained model is used in the following section to predict labels for 5000 randomly selected Deletions [these datapoints were randomly selected from [union_170509_refalt.sort.vcf](ftp://ftp-trace.ncbi.nlm.nih.gov/giab/ftp/data/AshkenazimTrio/analysis/NIST_UnionSVs_05092017/)]\n",
    "   \n",
    "   "
   ]
  },
  {
   "cell_type": "markdown",
   "metadata": {},
   "source": [
    "** Load Data **"
   ]
  },
  {
   "cell_type": "markdown",
   "metadata": {},
   "source": [
    "* Pool all datasets with large variants 6000+"
   ]
  },
  {
   "cell_type": "code",
   "execution_count": 102,
   "metadata": {
    "collapsed": true
   },
   "outputs": [],
   "source": [
    "df = pd.concat([df_6000, df_6000_test], axis=0)\n",
    "df = df.reset_index()\n",
    "df2 = pd.concat([df_6000, df_6000_test], axis=0)\n",
    "df2 = df2.reset_index()"
   ]
  },
  {
   "cell_type": "code",
   "execution_count": 103,
   "metadata": {
    "collapsed": true
   },
   "outputs": [],
   "source": [
    "df.drop(['GTcons'],axis=1, inplace=True)\n",
    "df.drop(['index'],axis=1, inplace=True)\n",
    "df2.drop(['index'],axis=1, inplace=True)"
   ]
  },
  {
   "cell_type": "code",
   "execution_count": 104,
   "metadata": {
    "collapsed": true
   },
   "outputs": [],
   "source": [
    "X2 = df"
   ]
  },
  {
   "cell_type": "markdown",
   "metadata": {},
   "source": [
    "** Impute missing values using KNN **"
   ]
  },
  {
   "cell_type": "code",
   "execution_count": 105,
   "metadata": {},
   "outputs": [
    {
     "name": "stdout",
     "output_type": "stream",
     "text": [
      "Imputing row 1/57 with 2 missing, elapsed time: 0.005\n"
     ]
    }
   ],
   "source": [
    "#Convert dataframe to matrix\n",
    "X2=X2.as_matrix()\n",
    "X2=pd.DataFrame(X2)\n",
    "\n",
    "# Imput missing values from three closest observations\n",
    "X2_imputed=KNN(k=3).complete(X2)\n",
    "X2=pd.DataFrame(X2_imputed)"
   ]
  },
  {
   "cell_type": "code",
   "execution_count": 106,
   "metadata": {},
   "outputs": [
    {
     "data": {
      "text/html": [
       "<div>\n",
       "<table border=\"1\" class=\"dataframe\">\n",
       "  <thead>\n",
       "    <tr style=\"text-align: right;\">\n",
       "      <th></th>\n",
       "      <th>Ill250.alt_alnScore_mean</th>\n",
       "      <th>Ill250.alt_alnScore_std</th>\n",
       "      <th>Ill250.alt_count</th>\n",
       "      <th>Ill250.alt_insertSize_mean</th>\n",
       "      <th>Ill250.alt_insertSize_std</th>\n",
       "      <th>Ill250.alt_reason_alignmentScore</th>\n",
       "      <th>Ill250.alt_reason_insertSizeScore</th>\n",
       "      <th>Ill250.alt_reason_orientation</th>\n",
       "      <th>Ill250.amb_alnScore_mean</th>\n",
       "      <th>Ill250.amb_alnScore_std</th>\n",
       "      <th>...</th>\n",
       "      <th>pacbio.ref_insertSize_mean</th>\n",
       "      <th>pacbio.ref_insertSize_std</th>\n",
       "      <th>pacbio.ref_reason_alignmentScore</th>\n",
       "      <th>refN_cnt</th>\n",
       "      <th>refN_pct</th>\n",
       "      <th>segdup_cnt</th>\n",
       "      <th>segdup_pct</th>\n",
       "      <th>start</th>\n",
       "      <th>tandemrep_cnt</th>\n",
       "      <th>tandemrep_pct</th>\n",
       "    </tr>\n",
       "  </thead>\n",
       "  <tbody>\n",
       "    <tr>\n",
       "      <th>0</th>\n",
       "      <td>938.807692</td>\n",
       "      <td>17.007960</td>\n",
       "      <td>52.0</td>\n",
       "      <td>478.903846</td>\n",
       "      <td>84.485834</td>\n",
       "      <td>45.0</td>\n",
       "      <td>7.0</td>\n",
       "      <td>0.0</td>\n",
       "      <td>897.581731</td>\n",
       "      <td>141.008841</td>\n",
       "      <td>...</td>\n",
       "      <td>0.000000</td>\n",
       "      <td>0.000000</td>\n",
       "      <td>0.000000</td>\n",
       "      <td>0.0</td>\n",
       "      <td>0.0</td>\n",
       "      <td>0.0</td>\n",
       "      <td>0.000000</td>\n",
       "      <td>151456429.0</td>\n",
       "      <td>9.0</td>\n",
       "      <td>0.031567</td>\n",
       "    </tr>\n",
       "    <tr>\n",
       "      <th>1</th>\n",
       "      <td>967.517241</td>\n",
       "      <td>14.852425</td>\n",
       "      <td>29.0</td>\n",
       "      <td>430.965517</td>\n",
       "      <td>70.471556</td>\n",
       "      <td>28.0</td>\n",
       "      <td>1.0</td>\n",
       "      <td>0.0</td>\n",
       "      <td>882.136546</td>\n",
       "      <td>141.793126</td>\n",
       "      <td>...</td>\n",
       "      <td>9140.708333</td>\n",
       "      <td>4370.268586</td>\n",
       "      <td>72.000000</td>\n",
       "      <td>0.0</td>\n",
       "      <td>0.0</td>\n",
       "      <td>0.0</td>\n",
       "      <td>0.000000</td>\n",
       "      <td>146862618.0</td>\n",
       "      <td>33.0</td>\n",
       "      <td>0.055111</td>\n",
       "    </tr>\n",
       "    <tr>\n",
       "      <th>2</th>\n",
       "      <td>977.700000</td>\n",
       "      <td>17.343875</td>\n",
       "      <td>20.0</td>\n",
       "      <td>451.850000</td>\n",
       "      <td>87.001882</td>\n",
       "      <td>17.0</td>\n",
       "      <td>3.0</td>\n",
       "      <td>0.0</td>\n",
       "      <td>844.818436</td>\n",
       "      <td>134.444514</td>\n",
       "      <td>...</td>\n",
       "      <td>9168.799423</td>\n",
       "      <td>4232.174053</td>\n",
       "      <td>109.449801</td>\n",
       "      <td>0.0</td>\n",
       "      <td>0.0</td>\n",
       "      <td>4.0</td>\n",
       "      <td>0.076523</td>\n",
       "      <td>72766323.0</td>\n",
       "      <td>110.0</td>\n",
       "      <td>0.059979</td>\n",
       "    </tr>\n",
       "  </tbody>\n",
       "</table>\n",
       "<p>3 rows × 176 columns</p>\n",
       "</div>"
      ],
      "text/plain": [
       "   Ill250.alt_alnScore_mean  Ill250.alt_alnScore_std  Ill250.alt_count  \\\n",
       "0                938.807692                17.007960              52.0   \n",
       "1                967.517241                14.852425              29.0   \n",
       "2                977.700000                17.343875              20.0   \n",
       "\n",
       "   Ill250.alt_insertSize_mean  Ill250.alt_insertSize_std  \\\n",
       "0                  478.903846                  84.485834   \n",
       "1                  430.965517                  70.471556   \n",
       "2                  451.850000                  87.001882   \n",
       "\n",
       "   Ill250.alt_reason_alignmentScore  Ill250.alt_reason_insertSizeScore  \\\n",
       "0                              45.0                                7.0   \n",
       "1                              28.0                                1.0   \n",
       "2                              17.0                                3.0   \n",
       "\n",
       "   Ill250.alt_reason_orientation  Ill250.amb_alnScore_mean  \\\n",
       "0                            0.0                897.581731   \n",
       "1                            0.0                882.136546   \n",
       "2                            0.0                844.818436   \n",
       "\n",
       "   Ill250.amb_alnScore_std      ...        pacbio.ref_insertSize_mean  \\\n",
       "0               141.008841      ...                          0.000000   \n",
       "1               141.793126      ...                       9140.708333   \n",
       "2               134.444514      ...                       9168.799423   \n",
       "\n",
       "   pacbio.ref_insertSize_std  pacbio.ref_reason_alignmentScore  refN_cnt  \\\n",
       "0                   0.000000                          0.000000       0.0   \n",
       "1                4370.268586                         72.000000       0.0   \n",
       "2                4232.174053                        109.449801       0.0   \n",
       "\n",
       "   refN_pct  segdup_cnt  segdup_pct        start  tandemrep_cnt  tandemrep_pct  \n",
       "0       0.0         0.0    0.000000  151456429.0            9.0       0.031567  \n",
       "1       0.0         0.0    0.000000  146862618.0           33.0       0.055111  \n",
       "2       0.0         4.0    0.076523   72766323.0          110.0       0.059979  \n",
       "\n",
       "[3 rows x 176 columns]"
      ]
     },
     "execution_count": 106,
     "metadata": {},
     "output_type": "execute_result"
    }
   ],
   "source": [
    "df_header = list(df.columns.values)\n",
    "X2.columns = df_header\n",
    "X2.head(3)"
   ]
  },
  {
   "cell_type": "code",
   "execution_count": 107,
   "metadata": {},
   "outputs": [
    {
     "data": {
      "text/html": [
       "<div>\n",
       "<table border=\"1\" class=\"dataframe\">\n",
       "  <thead>\n",
       "    <tr style=\"text-align: right;\">\n",
       "      <th></th>\n",
       "      <th>Ill250.alt_alnScore_mean</th>\n",
       "      <th>Ill250.alt_alnScore_std</th>\n",
       "      <th>Ill250.alt_count</th>\n",
       "      <th>Ill250.alt_insertSize_mean</th>\n",
       "      <th>Ill250.alt_insertSize_std</th>\n",
       "      <th>Ill250.alt_reason_alignmentScore</th>\n",
       "      <th>Ill250.alt_reason_insertSizeScore</th>\n",
       "      <th>Ill250.alt_reason_orientation</th>\n",
       "      <th>Ill250.amb_alnScore_mean</th>\n",
       "      <th>Ill250.amb_alnScore_std</th>\n",
       "      <th>...</th>\n",
       "      <th>pacbio.ref_insertSize_mean</th>\n",
       "      <th>pacbio.ref_insertSize_std</th>\n",
       "      <th>pacbio.ref_reason_alignmentScore</th>\n",
       "      <th>refN_cnt</th>\n",
       "      <th>refN_pct</th>\n",
       "      <th>segdup_cnt</th>\n",
       "      <th>segdup_pct</th>\n",
       "      <th>start</th>\n",
       "      <th>tandemrep_cnt</th>\n",
       "      <th>tandemrep_pct</th>\n",
       "    </tr>\n",
       "  </thead>\n",
       "  <tbody>\n",
       "    <tr>\n",
       "      <th>0</th>\n",
       "      <td>938.807692</td>\n",
       "      <td>17.007960</td>\n",
       "      <td>52.0</td>\n",
       "      <td>478.903846</td>\n",
       "      <td>84.485834</td>\n",
       "      <td>45.0</td>\n",
       "      <td>7.0</td>\n",
       "      <td>0.0</td>\n",
       "      <td>897.581731</td>\n",
       "      <td>141.008841</td>\n",
       "      <td>...</td>\n",
       "      <td>0.000000</td>\n",
       "      <td>0.000000</td>\n",
       "      <td>0.000000</td>\n",
       "      <td>0.0</td>\n",
       "      <td>0.0</td>\n",
       "      <td>0.0</td>\n",
       "      <td>0.000000</td>\n",
       "      <td>151456429.0</td>\n",
       "      <td>9.0</td>\n",
       "      <td>0.031567</td>\n",
       "    </tr>\n",
       "    <tr>\n",
       "      <th>1</th>\n",
       "      <td>967.517241</td>\n",
       "      <td>14.852425</td>\n",
       "      <td>29.0</td>\n",
       "      <td>430.965517</td>\n",
       "      <td>70.471556</td>\n",
       "      <td>28.0</td>\n",
       "      <td>1.0</td>\n",
       "      <td>0.0</td>\n",
       "      <td>882.136546</td>\n",
       "      <td>141.793126</td>\n",
       "      <td>...</td>\n",
       "      <td>9140.708333</td>\n",
       "      <td>4370.268586</td>\n",
       "      <td>72.000000</td>\n",
       "      <td>0.0</td>\n",
       "      <td>0.0</td>\n",
       "      <td>0.0</td>\n",
       "      <td>0.000000</td>\n",
       "      <td>146862618.0</td>\n",
       "      <td>33.0</td>\n",
       "      <td>0.055111</td>\n",
       "    </tr>\n",
       "    <tr>\n",
       "      <th>2</th>\n",
       "      <td>977.700000</td>\n",
       "      <td>17.343875</td>\n",
       "      <td>20.0</td>\n",
       "      <td>451.850000</td>\n",
       "      <td>87.001882</td>\n",
       "      <td>17.0</td>\n",
       "      <td>3.0</td>\n",
       "      <td>0.0</td>\n",
       "      <td>844.818436</td>\n",
       "      <td>134.444514</td>\n",
       "      <td>...</td>\n",
       "      <td>9168.799423</td>\n",
       "      <td>4232.174053</td>\n",
       "      <td>109.449801</td>\n",
       "      <td>0.0</td>\n",
       "      <td>0.0</td>\n",
       "      <td>4.0</td>\n",
       "      <td>0.076523</td>\n",
       "      <td>72766323.0</td>\n",
       "      <td>110.0</td>\n",
       "      <td>0.059979</td>\n",
       "    </tr>\n",
       "  </tbody>\n",
       "</table>\n",
       "<p>3 rows × 176 columns</p>\n",
       "</div>"
      ],
      "text/plain": [
       "   Ill250.alt_alnScore_mean  Ill250.alt_alnScore_std  Ill250.alt_count  \\\n",
       "0                938.807692                17.007960              52.0   \n",
       "1                967.517241                14.852425              29.0   \n",
       "2                977.700000                17.343875              20.0   \n",
       "\n",
       "   Ill250.alt_insertSize_mean  Ill250.alt_insertSize_std  \\\n",
       "0                  478.903846                  84.485834   \n",
       "1                  430.965517                  70.471556   \n",
       "2                  451.850000                  87.001882   \n",
       "\n",
       "   Ill250.alt_reason_alignmentScore  Ill250.alt_reason_insertSizeScore  \\\n",
       "0                              45.0                                7.0   \n",
       "1                              28.0                                1.0   \n",
       "2                              17.0                                3.0   \n",
       "\n",
       "   Ill250.alt_reason_orientation  Ill250.amb_alnScore_mean  \\\n",
       "0                            0.0                897.581731   \n",
       "1                            0.0                882.136546   \n",
       "2                            0.0                844.818436   \n",
       "\n",
       "   Ill250.amb_alnScore_std      ...        pacbio.ref_insertSize_mean  \\\n",
       "0               141.008841      ...                          0.000000   \n",
       "1               141.793126      ...                       9140.708333   \n",
       "2               134.444514      ...                       9168.799423   \n",
       "\n",
       "   pacbio.ref_insertSize_std  pacbio.ref_reason_alignmentScore  refN_cnt  \\\n",
       "0                   0.000000                          0.000000       0.0   \n",
       "1                4370.268586                         72.000000       0.0   \n",
       "2                4232.174053                        109.449801       0.0   \n",
       "\n",
       "   refN_pct  segdup_cnt  segdup_pct        start  tandemrep_cnt  tandemrep_pct  \n",
       "0       0.0         0.0    0.000000  151456429.0            9.0       0.031567  \n",
       "1       0.0         0.0    0.000000  146862618.0           33.0       0.055111  \n",
       "2       0.0         4.0    0.076523   72766323.0          110.0       0.059979  \n",
       "\n",
       "[3 rows x 176 columns]"
      ]
     },
     "execution_count": 107,
     "metadata": {},
     "output_type": "execute_result"
    }
   ],
   "source": [
    "X3 = pd.DataFrame()\n",
    "X3 = X2\n",
    "X3.head(3)"
   ]
  },
  {
   "cell_type": "code",
   "execution_count": 108,
   "metadata": {
    "collapsed": true
   },
   "outputs": [],
   "source": [
    "# Order features\n",
    "X5 = X2.reindex_axis(sorted(X2.columns), axis=1)"
   ]
  },
  {
   "cell_type": "markdown",
   "metadata": {},
   "source": [
    "<a id='prediction_step'></a>"
   ]
  },
  {
   "cell_type": "code",
   "execution_count": 109,
   "metadata": {
    "collapsed": true
   },
   "outputs": [],
   "source": [
    "pred = model.predict(X5)"
   ]
  },
  {
   "cell_type": "code",
   "execution_count": 110,
   "metadata": {
    "collapsed": true
   },
   "outputs": [],
   "source": [
    "pred_prob = model.predict_proba(X5)"
   ]
  },
  {
   "cell_type": "code",
   "execution_count": 111,
   "metadata": {
    "collapsed": true
   },
   "outputs": [],
   "source": [
    "pred_prob_log = model.predict_log_proba(X5)"
   ]
  },
  {
   "cell_type": "code",
   "execution_count": 112,
   "metadata": {},
   "outputs": [
    {
     "data": {
      "text/html": [
       "<div>\n",
       "<table border=\"1\" class=\"dataframe\">\n",
       "  <thead>\n",
       "    <tr style=\"text-align: right;\">\n",
       "      <th></th>\n",
       "      <th>Ill250.alt_alnScore_mean</th>\n",
       "      <th>Ill250.alt_alnScore_std</th>\n",
       "      <th>Ill250.alt_count</th>\n",
       "      <th>Ill250.alt_insertSize_mean</th>\n",
       "      <th>Ill250.alt_insertSize_std</th>\n",
       "      <th>Ill250.alt_reason_alignmentScore</th>\n",
       "      <th>Ill250.alt_reason_insertSizeScore</th>\n",
       "      <th>Ill250.alt_reason_orientation</th>\n",
       "      <th>Ill250.amb_alnScore_mean</th>\n",
       "      <th>Ill250.amb_alnScore_std</th>\n",
       "      <th>...</th>\n",
       "      <th>pacbio.ref_insertSize_mean</th>\n",
       "      <th>pacbio.ref_insertSize_std</th>\n",
       "      <th>pacbio.ref_reason_alignmentScore</th>\n",
       "      <th>refN_cnt</th>\n",
       "      <th>refN_pct</th>\n",
       "      <th>segdup_cnt</th>\n",
       "      <th>segdup_pct</th>\n",
       "      <th>start</th>\n",
       "      <th>tandemrep_cnt</th>\n",
       "      <th>tandemrep_pct</th>\n",
       "    </tr>\n",
       "  </thead>\n",
       "  <tbody>\n",
       "  </tbody>\n",
       "</table>\n",
       "<p>0 rows × 176 columns</p>\n",
       "</div>"
      ],
      "text/plain": [
       "Empty DataFrame\n",
       "Columns: [Ill250.alt_alnScore_mean, Ill250.alt_alnScore_std, Ill250.alt_count, Ill250.alt_insertSize_mean, Ill250.alt_insertSize_std, Ill250.alt_reason_alignmentScore, Ill250.alt_reason_insertSizeScore, Ill250.alt_reason_orientation, Ill250.amb_alnScore_mean, Ill250.amb_alnScore_std, Ill250.amb_count, Ill250.amb_insertSize_mean, Ill250.amb_insertSize_std, Ill250.amb_reason_alignmentScore_alignmentScore, Ill250.amb_reason_alignmentScore_orientation, Ill250.amb_reason_flanking, Ill250.amb_reason_insertSizeScore_alignmentScore, Ill250.amb_reason_multimapping, Ill250.amb_reason_orientation_alignmentScore, Ill250.amb_reason_orientation_orientation, Ill250.amb_reason_same_scores, Ill250.ref_alnScore_mean, Ill250.ref_alnScore_std, Ill250.ref_count, Ill250.ref_insertSize_mean, Ill250.ref_insertSize_std, Ill250.ref_reason_alignmentScore, Ill250.ref_reason_orientation, Ill300x.alt_alnScore_mean, Ill300x.alt_alnScore_std, Ill300x.alt_count, Ill300x.alt_insertSize_mean, Ill300x.alt_insertSize_std, Ill300x.alt_reason_alignmentScore, Ill300x.alt_reason_insertSizeScore, Ill300x.alt_reason_orientation, Ill300x.amb_alnScore_mean, Ill300x.amb_alnScore_std, Ill300x.amb_count, Ill300x.amb_insertSize_mean, Ill300x.amb_insertSize_std, Ill300x.amb_reason_alignmentScore_alignmentScore, Ill300x.amb_reason_alignmentScore_insertSizeScore, Ill300x.amb_reason_alignmentScore_orientation, Ill300x.amb_reason_flanking, Ill300x.amb_reason_insertSizeScore_alignmentScore, Ill300x.amb_reason_insertSizeScore_insertSizeScore, Ill300x.amb_reason_multimapping, Ill300x.amb_reason_orientation_alignmentScore, Ill300x.amb_reason_orientation_orientation, Ill300x.amb_reason_same_scores, Ill300x.ref_alnScore_mean, Ill300x.ref_alnScore_std, Ill300x.ref_count, Ill300x.ref_insertSize_mean, Ill300x.ref_insertSize_std, Ill300x.ref_reason_alignmentScore, Ill300x.ref_reason_insertSizeScore, Ill300x.ref_reason_orientation, IllMP.alt_alnScore_mean, IllMP.alt_alnScore_std, IllMP.alt_count, IllMP.alt_insertSize_mean, IllMP.alt_insertSize_std, IllMP.alt_reason_alignmentScore, IllMP.alt_reason_insertSizeScore, IllMP.alt_reason_orientation, IllMP.amb_alnScore_mean, IllMP.amb_alnScore_std, IllMP.amb_count, IllMP.amb_insertSize_mean, IllMP.amb_insertSize_std, IllMP.amb_reason_alignmentScore_alignmentScore, IllMP.amb_reason_alignmentScore_orientation, IllMP.amb_reason_flanking, IllMP.amb_reason_insertSizeScore_alignmentScore, IllMP.amb_reason_insertSizeScore_insertSizeScore, IllMP.amb_reason_multimapping, IllMP.amb_reason_orientation_alignmentScore, IllMP.amb_reason_orientation_orientation, IllMP.amb_reason_same_scores, IllMP.ref_alnScore_mean, IllMP.ref_alnScore_std, IllMP.ref_count, IllMP.ref_insertSize_mean, IllMP.ref_insertSize_std, IllMP.ref_reason_alignmentScore, IllMP.ref_reason_insertSizeScore, IllMP.ref_reason_orientation, Size, TenX.HP1_alt_alnScore_mean, TenX.HP1_alt_alnScore_std, TenX.HP1_alt_count, TenX.HP1_alt_insertSize_mean, TenX.HP1_alt_insertSize_std, TenX.HP1_alt_reason_alignmentScore, TenX.HP1_alt_reason_insertSizeScore, TenX.HP1_alt_reason_orientation, TenX.HP1_amb_alnScore_mean, TenX.HP1_amb_alnScore_std, ...]\n",
       "Index: []\n",
       "\n",
       "[0 rows x 176 columns]"
      ]
     },
     "execution_count": 112,
     "metadata": {},
     "output_type": "execute_result"
    }
   ],
   "source": [
    "df[df.index.duplicated()]"
   ]
  },
  {
   "cell_type": "code",
   "execution_count": 113,
   "metadata": {
    "collapsed": true
   },
   "outputs": [],
   "source": [
    "X5['predicted_label'] = pred\n",
    "X5['chrom'] = df2['chrom']\n",
    "X5['GTcons'] = df2['GTcons']\n",
    "X5['start'] = df2['start']\n",
    "X5['end'] = df2['end']\n",
    "X5['Size'] = df2['Size']\n",
    "# X5['GTsupp'] = df2['GTsupp']"
   ]
  },
  {
   "cell_type": "code",
   "execution_count": 114,
   "metadata": {
    "collapsed": true
   },
   "outputs": [],
   "source": [
    "X6 = pd.concat([X5, pd.DataFrame(pred_prob, columns=['1','2','3'])])"
   ]
  },
  {
   "cell_type": "code",
   "execution_count": 115,
   "metadata": {
    "collapsed": true
   },
   "outputs": [],
   "source": [
    "X7 = pd.concat([X5, pd.DataFrame(pred_prob_log, columns=['1','2','3'])])"
   ]
  },
  {
   "cell_type": "code",
   "execution_count": 117,
   "metadata": {
    "collapsed": true
   },
   "outputs": [],
   "source": [
    "X6.to_csv('/Volumes/lesleydata/RF_model_trainingData_test/size_data/results/figures/400to499/400to499_6000_predLrg.csv', index=False)"
   ]
  },
  {
   "cell_type": "code",
   "execution_count": null,
   "metadata": {
    "collapsed": true
   },
   "outputs": [],
   "source": [
    "X7.to_csv('/Volumes/lesleydata/RF_model_trainingData_test/size_data/results/figures/400to499/400to499_log_6000_.csv', index=False)"
   ]
  },
  {
   "cell_type": "code",
   "execution_count": 118,
   "metadata": {
    "collapsed": true
   },
   "outputs": [],
   "source": [
    "X6 = pd.read_csv('/Volumes/lesleydata/RF_model_trainingData_test/size_data/results/figures/400to499/400to499_6000_predLrg.csv')"
   ]
  },
  {
   "cell_type": "code",
   "execution_count": 119,
   "metadata": {
    "collapsed": true
   },
   "outputs": [],
   "source": [
    "X6.rename(columns={'1': 'Homozygous_Reference_GTcons'}, inplace=True)\n",
    "X6.rename(columns={'2': 'Heterozygous_Variant_GTcons'}, inplace=True)\n",
    "X6.rename(columns={'3': 'Homozygous_Variant_GTcons'}, inplace=True)\n",
    "X6.rename(columns={'predicted_label': 'predicted_GTcons_label'}, inplace=True)"
   ]
  },
  {
   "cell_type": "code",
   "execution_count": 120,
   "metadata": {
    "collapsed": true
   },
   "outputs": [],
   "source": [
    "X6['GTcons'].replace('Homozygous_Reference', '0', inplace=True)\n",
    "X6['GTcons'].replace('Heterozygous_Variant', '1', inplace=True)\n",
    "X6['GTcons'].replace('Homozygous_Variant', '2', inplace=True)"
   ]
  },
  {
   "cell_type": "code",
   "execution_count": 121,
   "metadata": {},
   "outputs": [
    {
     "data": {
      "text/html": [
       "<div>\n",
       "<table border=\"1\" class=\"dataframe\">\n",
       "  <thead>\n",
       "    <tr style=\"text-align: right;\">\n",
       "      <th></th>\n",
       "      <th>Homozygous_Reference_GTcons</th>\n",
       "      <th>Heterozygous_Variant_GTcons</th>\n",
       "      <th>Homozygous_Variant_GTcons</th>\n",
       "      <th>GTcons</th>\n",
       "      <th>Ill250.alt_alnScore_mean</th>\n",
       "      <th>Ill250.alt_alnScore_std</th>\n",
       "      <th>Ill250.alt_count</th>\n",
       "      <th>Ill250.alt_insertSize_mean</th>\n",
       "      <th>Ill250.alt_insertSize_std</th>\n",
       "      <th>Ill250.alt_reason_alignmentScore</th>\n",
       "      <th>...</th>\n",
       "      <th>pacbio.ref_insertSize_std</th>\n",
       "      <th>pacbio.ref_reason_alignmentScore</th>\n",
       "      <th>predicted_GTcons_label</th>\n",
       "      <th>refN_cnt</th>\n",
       "      <th>refN_pct</th>\n",
       "      <th>segdup_cnt</th>\n",
       "      <th>segdup_pct</th>\n",
       "      <th>start</th>\n",
       "      <th>tandemrep_cnt</th>\n",
       "      <th>tandemrep_pct</th>\n",
       "    </tr>\n",
       "  </thead>\n",
       "  <tbody>\n",
       "    <tr>\n",
       "      <th>0</th>\n",
       "      <td>0.05</td>\n",
       "      <td>0.50</td>\n",
       "      <td>0.45</td>\n",
       "      <td>2</td>\n",
       "      <td>938.807692</td>\n",
       "      <td>17.007960</td>\n",
       "      <td>52.0</td>\n",
       "      <td>478.903846</td>\n",
       "      <td>84.485834</td>\n",
       "      <td>45.0</td>\n",
       "      <td>...</td>\n",
       "      <td>0.000000</td>\n",
       "      <td>0.000000</td>\n",
       "      <td>1</td>\n",
       "      <td>0</td>\n",
       "      <td>0</td>\n",
       "      <td>0</td>\n",
       "      <td>0.000000</td>\n",
       "      <td>151456429</td>\n",
       "      <td>9</td>\n",
       "      <td>0.031567</td>\n",
       "    </tr>\n",
       "    <tr>\n",
       "      <th>1</th>\n",
       "      <td>0.20</td>\n",
       "      <td>0.55</td>\n",
       "      <td>0.25</td>\n",
       "      <td>1</td>\n",
       "      <td>967.517241</td>\n",
       "      <td>14.852425</td>\n",
       "      <td>29.0</td>\n",
       "      <td>430.965517</td>\n",
       "      <td>70.471556</td>\n",
       "      <td>28.0</td>\n",
       "      <td>...</td>\n",
       "      <td>4370.268586</td>\n",
       "      <td>72.000000</td>\n",
       "      <td>1</td>\n",
       "      <td>0</td>\n",
       "      <td>0</td>\n",
       "      <td>0</td>\n",
       "      <td>0.000000</td>\n",
       "      <td>146862618</td>\n",
       "      <td>33</td>\n",
       "      <td>0.055111</td>\n",
       "    </tr>\n",
       "    <tr>\n",
       "      <th>2</th>\n",
       "      <td>0.55</td>\n",
       "      <td>0.20</td>\n",
       "      <td>0.25</td>\n",
       "      <td>1</td>\n",
       "      <td>977.700000</td>\n",
       "      <td>17.343875</td>\n",
       "      <td>20.0</td>\n",
       "      <td>451.850000</td>\n",
       "      <td>87.001882</td>\n",
       "      <td>17.0</td>\n",
       "      <td>...</td>\n",
       "      <td>4232.174053</td>\n",
       "      <td>109.449801</td>\n",
       "      <td>0</td>\n",
       "      <td>0</td>\n",
       "      <td>0</td>\n",
       "      <td>4</td>\n",
       "      <td>0.076523</td>\n",
       "      <td>72766323</td>\n",
       "      <td>110</td>\n",
       "      <td>0.059979</td>\n",
       "    </tr>\n",
       "  </tbody>\n",
       "</table>\n",
       "<p>3 rows × 181 columns</p>\n",
       "</div>"
      ],
      "text/plain": [
       "   Homozygous_Reference_GTcons  Heterozygous_Variant_GTcons  \\\n",
       "0                         0.05                         0.50   \n",
       "1                         0.20                         0.55   \n",
       "2                         0.55                         0.20   \n",
       "\n",
       "   Homozygous_Variant_GTcons  GTcons  Ill250.alt_alnScore_mean  \\\n",
       "0                       0.45       2                938.807692   \n",
       "1                       0.25       1                967.517241   \n",
       "2                       0.25       1                977.700000   \n",
       "\n",
       "   Ill250.alt_alnScore_std  Ill250.alt_count  Ill250.alt_insertSize_mean  \\\n",
       "0                17.007960              52.0                  478.903846   \n",
       "1                14.852425              29.0                  430.965517   \n",
       "2                17.343875              20.0                  451.850000   \n",
       "\n",
       "   Ill250.alt_insertSize_std  Ill250.alt_reason_alignmentScore      ...        \\\n",
       "0                  84.485834                              45.0      ...         \n",
       "1                  70.471556                              28.0      ...         \n",
       "2                  87.001882                              17.0      ...         \n",
       "\n",
       "   pacbio.ref_insertSize_std  pacbio.ref_reason_alignmentScore  \\\n",
       "0                   0.000000                          0.000000   \n",
       "1                4370.268586                         72.000000   \n",
       "2                4232.174053                        109.449801   \n",
       "\n",
       "   predicted_GTcons_label  refN_cnt  refN_pct  segdup_cnt  segdup_pct  \\\n",
       "0                       1         0         0           0    0.000000   \n",
       "1                       1         0         0           0    0.000000   \n",
       "2                       0         0         0           4    0.076523   \n",
       "\n",
       "       start  tandemrep_cnt  tandemrep_pct  \n",
       "0  151456429              9       0.031567  \n",
       "1  146862618             33       0.055111  \n",
       "2   72766323            110       0.059979  \n",
       "\n",
       "[3 rows x 181 columns]"
      ]
     },
     "execution_count": 121,
     "metadata": {},
     "output_type": "execute_result"
    }
   ],
   "source": [
    "X6.head(3)"
   ]
  },
  {
   "cell_type": "code",
   "execution_count": 122,
   "metadata": {
    "collapsed": true
   },
   "outputs": [],
   "source": [
    "X6.to_csv('/Volumes/lesleydata/RF_model_trainingData_test/size_data/results/figures/400to499/400to499_final_6000_predLrg.csv', index=False)"
   ]
  },
  {
   "cell_type": "code",
   "execution_count": 123,
   "metadata": {
    "collapsed": true
   },
   "outputs": [],
   "source": [
    "# X6['GTcons'].fillna(999)\n",
    "# X7 = X6[X6.GTcons != 999]\n",
    "# X6['predicted_GTcons_label'].isnull().sum()"
   ]
  },
  {
   "cell_type": "code",
   "execution_count": 124,
   "metadata": {},
   "outputs": [
    {
     "data": {
      "text/plain": [
       "dtype('int64')"
      ]
     },
     "execution_count": 124,
     "metadata": {},
     "output_type": "execute_result"
    }
   ],
   "source": [
    "X6['predicted_GTcons_label'].dtypes"
   ]
  },
  {
   "cell_type": "code",
   "execution_count": 125,
   "metadata": {
    "collapsed": true
   },
   "outputs": [],
   "source": [
    "X6.GTcons = X6.GTcons.astype(int)"
   ]
  },
  {
   "cell_type": "code",
   "execution_count": 126,
   "metadata": {
    "scrolled": true
   },
   "outputs": [
    {
     "name": "stdout",
     "output_type": "stream",
     "text": [
      "0    27\n",
      "1    20\n",
      "2    10\n",
      "dtype: int64\n"
     ]
    }
   ],
   "source": [
    "print (pd.value_counts(X6['GTcons'].values, sort=False))"
   ]
  },
  {
   "cell_type": "markdown",
   "metadata": {},
   "source": [
    "***\n",
    "Label Analysis\n",
    "***"
   ]
  },
  {
   "cell_type": "code",
   "execution_count": 127,
   "metadata": {},
   "outputs": [
    {
     "name": "stdout",
     "output_type": "stream",
     "text": [
      "[[27  0  0]\n",
      " [ 2 18  0]\n",
      " [ 0  7  3]]\n"
     ]
    }
   ],
   "source": [
    "from sklearn.metrics import confusion_matrix\n",
    "consensus_GT = X6['GTcons']\n",
    "predict = X6['predicted_GTcons_label']\n",
    "print(confusion_matrix(consensus_GT, predict))"
   ]
  },
  {
   "cell_type": "code",
   "execution_count": 128,
   "metadata": {
    "collapsed": true
   },
   "outputs": [],
   "source": [
    "X6['GTcons'].replace(0, 'Homozygous_Reference', inplace=True)\n",
    "X6['GTcons'].replace(1, 'Heterozygous_Variant', inplace=True)\n",
    "X6['GTcons'].replace(2, 'Homozygous_Variant', inplace=True)\n",
    "X6['predicted_GTcons_label'].replace(0.0, 'Homozygous_Reference', inplace=True)\n",
    "X6['predicted_GTcons_label'].replace(1.0, 'Heterozygous_Variant', inplace=True)\n",
    "X6['predicted_GTcons_label'].replace(2.0, 'Homozygous_Variant', inplace=True)"
   ]
  },
  {
   "cell_type": "markdown",
   "metadata": {},
   "source": [
    "<a id='predict_precision_score_matrix'></a>"
   ]
  },
  {
   "cell_type": "code",
   "execution_count": 129,
   "metadata": {},
   "outputs": [
    {
     "name": "stdout",
     "output_type": "stream",
     "text": [
      "Precision score of the prediction subset: 0.842\n"
     ]
    }
   ],
   "source": [
    "print('Precision score of the prediction subset: {:.3f}'.format(precision_score(consensus_GT, predict, average='micro'))) "
   ]
  },
  {
   "cell_type": "code",
   "execution_count": 130,
   "metadata": {},
   "outputs": [
    {
     "name": "stdout",
     "output_type": "stream",
     "text": [
      "Accuracy score of the prediction subset: 0.842\n"
     ]
    }
   ],
   "source": [
    "print('Accuracy score of the prediction subset: {:.3f}'.format(accuracy_score(consensus_GT, predict))) "
   ]
  },
  {
   "cell_type": "code",
   "execution_count": 131,
   "metadata": {
    "scrolled": true
   },
   "outputs": [
    {
     "data": {
      "text/html": [
       "<div>\n",
       "<table border=\"1\" class=\"dataframe\">\n",
       "  <thead>\n",
       "    <tr style=\"text-align: right;\">\n",
       "      <th>Predicted</th>\n",
       "      <th>Heterozygous_Variant</th>\n",
       "      <th>Homozygous_Reference</th>\n",
       "      <th>Homozygous_Variant</th>\n",
       "      <th>All</th>\n",
       "    </tr>\n",
       "    <tr>\n",
       "      <th>True</th>\n",
       "      <th></th>\n",
       "      <th></th>\n",
       "      <th></th>\n",
       "      <th></th>\n",
       "    </tr>\n",
       "  </thead>\n",
       "  <tbody>\n",
       "    <tr>\n",
       "      <th>Heterozygous_Variant</th>\n",
       "      <td>18</td>\n",
       "      <td>2</td>\n",
       "      <td>0</td>\n",
       "      <td>20</td>\n",
       "    </tr>\n",
       "    <tr>\n",
       "      <th>Homozygous_Reference</th>\n",
       "      <td>0</td>\n",
       "      <td>27</td>\n",
       "      <td>0</td>\n",
       "      <td>27</td>\n",
       "    </tr>\n",
       "    <tr>\n",
       "      <th>Homozygous_Variant</th>\n",
       "      <td>7</td>\n",
       "      <td>0</td>\n",
       "      <td>3</td>\n",
       "      <td>10</td>\n",
       "    </tr>\n",
       "    <tr>\n",
       "      <th>All</th>\n",
       "      <td>25</td>\n",
       "      <td>29</td>\n",
       "      <td>3</td>\n",
       "      <td>57</td>\n",
       "    </tr>\n",
       "  </tbody>\n",
       "</table>\n",
       "</div>"
      ],
      "text/plain": [
       "Predicted             Heterozygous_Variant  Homozygous_Reference  \\\n",
       "True                                                               \n",
       "Heterozygous_Variant                    18                     2   \n",
       "Homozygous_Reference                     0                    27   \n",
       "Homozygous_Variant                       7                     0   \n",
       "All                                     25                    29   \n",
       "\n",
       "Predicted             Homozygous_Variant  All  \n",
       "True                                           \n",
       "Heterozygous_Variant                   0   20  \n",
       "Homozygous_Reference                   0   27  \n",
       "Homozygous_Variant                     3   10  \n",
       "All                                    3   57  "
      ]
     },
     "execution_count": 131,
     "metadata": {},
     "output_type": "execute_result"
    }
   ],
   "source": [
    "pd.crosstab(consensus_GT, predict, rownames=['True'], colnames=['Predicted'], margins=True)"
   ]
  },
  {
   "cell_type": "markdown",
   "metadata": {},
   "source": [
    "** High Confidence Label Analysis**\n",
    "* **Reminder:** The labels predicted by the model are the following consensus genotype:\n",
    "    * Homozygous Reference: 0 \n",
    "    * Heterozygous Variant: 1 \n",
    "    * Homozygous Variant: 2 \n",
    "* Here **high confidence labels** are the GTcons labels predicted by the model that were also assigned a predict probability of either 0.9 or 1\n"
   ]
  },
  {
   "cell_type": "code",
   "execution_count": 132,
   "metadata": {
    "collapsed": true
   },
   "outputs": [],
   "source": [
    "high_conf_labels = X6[(X6['Homozygous_Reference_GTcons'] == 1) | (X6['Homozygous_Reference_GTcons'] >= 0.9) | (X6['Heterozygous_Variant_GTcons'] == 1) | (X6['Heterozygous_Variant_GTcons'] >= 0.9) | (X6['Homozygous_Variant_GTcons'] == 1) | (X6['Homozygous_Variant_GTcons'] >= 0.9)]\n"
   ]
  },
  {
   "cell_type": "markdown",
   "metadata": {},
   "source": [
    "<a id='hiconf_precision_score'></a>"
   ]
  },
  {
   "cell_type": "code",
   "execution_count": 133,
   "metadata": {},
   "outputs": [
    {
     "data": {
      "text/html": [
       "<div>\n",
       "<table border=\"1\" class=\"dataframe\">\n",
       "  <thead>\n",
       "    <tr style=\"text-align: right;\">\n",
       "      <th>Predicted</th>\n",
       "      <th>Homozygous_Reference</th>\n",
       "      <th>All</th>\n",
       "    </tr>\n",
       "    <tr>\n",
       "      <th>True</th>\n",
       "      <th></th>\n",
       "      <th></th>\n",
       "    </tr>\n",
       "  </thead>\n",
       "  <tbody>\n",
       "    <tr>\n",
       "      <th>Homozygous_Reference</th>\n",
       "      <td>26</td>\n",
       "      <td>26</td>\n",
       "    </tr>\n",
       "    <tr>\n",
       "      <th>All</th>\n",
       "      <td>26</td>\n",
       "      <td>26</td>\n",
       "    </tr>\n",
       "  </tbody>\n",
       "</table>\n",
       "</div>"
      ],
      "text/plain": [
       "Predicted             Homozygous_Reference  All\n",
       "True                                           \n",
       "Homozygous_Reference                    26   26\n",
       "All                                     26   26"
      ]
     },
     "execution_count": 133,
     "metadata": {},
     "output_type": "execute_result"
    }
   ],
   "source": [
    "consensus_GT = high_conf_labels['GTcons']\n",
    "predict = high_conf_labels['predicted_GTcons_label']\n",
    "pd.crosstab(consensus_GT, predict, rownames=['True'], colnames=['Predicted'], margins=True)"
   ]
  },
  {
   "cell_type": "code",
   "execution_count": 134,
   "metadata": {
    "scrolled": true
   },
   "outputs": [
    {
     "name": "stdout",
     "output_type": "stream",
     "text": [
      "                      precision    recall  f1-score   support\n",
      "\n",
      "Homozygous_Reference       1.00      1.00      1.00        26\n",
      "\n",
      "         avg / total       1.00      1.00      1.00        26\n",
      "\n"
     ]
    }
   ],
   "source": [
    "from sklearn.metrics import classification_report\n",
    "print(classification_report(consensus_GT, predict))"
   ]
  },
  {
   "cell_type": "markdown",
   "metadata": {},
   "source": [
    "***\n",
    "**Predict**\n",
    "\n",
    "\n",
    "How well does a model trained on small variants predict GT of large variants?\n",
    "Variants : 20 to 49bp\n",
    "***"
   ]
  },
  {
   "cell_type": "markdown",
   "metadata": {},
   "source": [
    "<a id='predict'></a>"
   ]
  },
  {
   "cell_type": "markdown",
   "metadata": {},
   "source": [
    "** Load Data **"
   ]
  },
  {
   "cell_type": "markdown",
   "metadata": {},
   "source": [
    "* Pool all datasets with large variants 20 to 49bp"
   ]
  },
  {
   "cell_type": "code",
   "execution_count": 135,
   "metadata": {
    "collapsed": true
   },
   "outputs": [],
   "source": [
    "df = pd.concat([df_20to49, df_20to49_test], axis=0)\n",
    "df = df.reset_index()\n",
    "df2 = pd.concat([df_20to49, df_20to49_test], axis=0)\n",
    "df2 = df2.reset_index()"
   ]
  },
  {
   "cell_type": "code",
   "execution_count": 136,
   "metadata": {
    "collapsed": true
   },
   "outputs": [],
   "source": [
    "df.drop(['GTcons'],axis=1, inplace=True)\n",
    "df.drop(['index'],axis=1, inplace=True)\n",
    "df2.drop(['index'],axis=1, inplace=True)"
   ]
  },
  {
   "cell_type": "code",
   "execution_count": 137,
   "metadata": {
    "collapsed": true
   },
   "outputs": [],
   "source": [
    "X2 = df"
   ]
  },
  {
   "cell_type": "markdown",
   "metadata": {},
   "source": [
    "** Impute missing values using KNN **"
   ]
  },
  {
   "cell_type": "code",
   "execution_count": 138,
   "metadata": {},
   "outputs": [
    {
     "name": "stdout",
     "output_type": "stream",
     "text": [
      "Imputing row 1/3350 with 1 missing, elapsed time: 9.566\n",
      "Imputing row 101/3350 with 1 missing, elapsed time: 9.581\n",
      "Imputing row 201/3350 with 2 missing, elapsed time: 9.595\n",
      "Imputing row 301/3350 with 2 missing, elapsed time: 9.609\n",
      "Imputing row 401/3350 with 2 missing, elapsed time: 9.624\n",
      "Imputing row 501/3350 with 2 missing, elapsed time: 9.643\n",
      "Imputing row 601/3350 with 1 missing, elapsed time: 9.655\n",
      "Imputing row 701/3350 with 2 missing, elapsed time: 9.670\n",
      "Imputing row 801/3350 with 1 missing, elapsed time: 9.684\n",
      "Imputing row 901/3350 with 58 missing, elapsed time: 9.698\n",
      "Imputing row 1001/3350 with 2 missing, elapsed time: 9.708\n",
      "Imputing row 1101/3350 with 1 missing, elapsed time: 9.724\n",
      "Imputing row 1201/3350 with 2 missing, elapsed time: 9.743\n",
      "Imputing row 1301/3350 with 2 missing, elapsed time: 9.761\n",
      "Imputing row 1401/3350 with 1 missing, elapsed time: 9.781\n",
      "Imputing row 1501/3350 with 2 missing, elapsed time: 9.805\n",
      "Imputing row 1601/3350 with 2 missing, elapsed time: 9.817\n",
      "Imputing row 1701/3350 with 2 missing, elapsed time: 9.826\n",
      "Imputing row 1801/3350 with 2 missing, elapsed time: 9.843\n",
      "Imputing row 1901/3350 with 1 missing, elapsed time: 9.858\n",
      "Imputing row 2001/3350 with 1 missing, elapsed time: 9.870\n",
      "Imputing row 2101/3350 with 1 missing, elapsed time: 9.876\n",
      "Imputing row 2201/3350 with 2 missing, elapsed time: 9.922\n",
      "Imputing row 2301/3350 with 2 missing, elapsed time: 9.934\n",
      "Imputing row 2401/3350 with 2 missing, elapsed time: 9.944\n",
      "Imputing row 2501/3350 with 2 missing, elapsed time: 9.967\n",
      "Imputing row 2601/3350 with 2 missing, elapsed time: 9.987\n",
      "Imputing row 2701/3350 with 1 missing, elapsed time: 10.016\n",
      "Imputing row 2801/3350 with 1 missing, elapsed time: 10.022\n",
      "Imputing row 2901/3350 with 1 missing, elapsed time: 10.049\n",
      "Imputing row 3001/3350 with 1 missing, elapsed time: 10.059\n",
      "Imputing row 3101/3350 with 57 missing, elapsed time: 10.066\n",
      "Imputing row 3201/3350 with 2 missing, elapsed time: 10.097\n",
      "Imputing row 3301/3350 with 2 missing, elapsed time: 10.111\n"
     ]
    }
   ],
   "source": [
    "#Convert dataframe to matrix\n",
    "X2=X2.as_matrix()\n",
    "X2=pd.DataFrame(X2)\n",
    "\n",
    "# Imput missing values from three closest observations\n",
    "X2_imputed=KNN(k=3).complete(X2)\n",
    "X2=pd.DataFrame(X2_imputed)"
   ]
  },
  {
   "cell_type": "code",
   "execution_count": 139,
   "metadata": {},
   "outputs": [
    {
     "data": {
      "text/html": [
       "<div>\n",
       "<table border=\"1\" class=\"dataframe\">\n",
       "  <thead>\n",
       "    <tr style=\"text-align: right;\">\n",
       "      <th></th>\n",
       "      <th>Ill250.alt_alnScore_mean</th>\n",
       "      <th>Ill250.alt_alnScore_std</th>\n",
       "      <th>Ill250.alt_count</th>\n",
       "      <th>Ill250.alt_insertSize_mean</th>\n",
       "      <th>Ill250.alt_insertSize_std</th>\n",
       "      <th>Ill250.alt_reason_alignmentScore</th>\n",
       "      <th>Ill250.alt_reason_insertSizeScore</th>\n",
       "      <th>Ill250.alt_reason_orientation</th>\n",
       "      <th>Ill250.amb_alnScore_mean</th>\n",
       "      <th>Ill250.amb_alnScore_std</th>\n",
       "      <th>...</th>\n",
       "      <th>pacbio.ref_insertSize_mean</th>\n",
       "      <th>pacbio.ref_insertSize_std</th>\n",
       "      <th>pacbio.ref_reason_alignmentScore</th>\n",
       "      <th>refN_cnt</th>\n",
       "      <th>refN_pct</th>\n",
       "      <th>segdup_cnt</th>\n",
       "      <th>segdup_pct</th>\n",
       "      <th>start</th>\n",
       "      <th>tandemrep_cnt</th>\n",
       "      <th>tandemrep_pct</th>\n",
       "    </tr>\n",
       "  </thead>\n",
       "  <tbody>\n",
       "    <tr>\n",
       "      <th>0</th>\n",
       "      <td>976.871795</td>\n",
       "      <td>12.113098</td>\n",
       "      <td>39.0</td>\n",
       "      <td>431.384615</td>\n",
       "      <td>91.092406</td>\n",
       "      <td>39.0</td>\n",
       "      <td>0.0</td>\n",
       "      <td>0.0</td>\n",
       "      <td>890.273292</td>\n",
       "      <td>144.669681</td>\n",
       "      <td>...</td>\n",
       "      <td>8754.50</td>\n",
       "      <td>3356.194618</td>\n",
       "      <td>30.0</td>\n",
       "      <td>0.0</td>\n",
       "      <td>0.0</td>\n",
       "      <td>0.0</td>\n",
       "      <td>0.0</td>\n",
       "      <td>65359519.0</td>\n",
       "      <td>0.0</td>\n",
       "      <td>0.000000</td>\n",
       "    </tr>\n",
       "    <tr>\n",
       "      <th>1</th>\n",
       "      <td>0.000000</td>\n",
       "      <td>0.000000</td>\n",
       "      <td>0.0</td>\n",
       "      <td>0.000000</td>\n",
       "      <td>0.000000</td>\n",
       "      <td>0.0</td>\n",
       "      <td>0.0</td>\n",
       "      <td>0.0</td>\n",
       "      <td>907.097143</td>\n",
       "      <td>146.444984</td>\n",
       "      <td>...</td>\n",
       "      <td>10767.32</td>\n",
       "      <td>3791.304854</td>\n",
       "      <td>50.0</td>\n",
       "      <td>0.0</td>\n",
       "      <td>0.0</td>\n",
       "      <td>0.0</td>\n",
       "      <td>0.0</td>\n",
       "      <td>44564287.0</td>\n",
       "      <td>1.0</td>\n",
       "      <td>1.000000</td>\n",
       "    </tr>\n",
       "    <tr>\n",
       "      <th>2</th>\n",
       "      <td>980.865672</td>\n",
       "      <td>12.845692</td>\n",
       "      <td>67.0</td>\n",
       "      <td>430.701492</td>\n",
       "      <td>88.234426</td>\n",
       "      <td>67.0</td>\n",
       "      <td>0.0</td>\n",
       "      <td>0.0</td>\n",
       "      <td>883.863905</td>\n",
       "      <td>158.467660</td>\n",
       "      <td>...</td>\n",
       "      <td>18545.00</td>\n",
       "      <td>0.000000</td>\n",
       "      <td>1.0</td>\n",
       "      <td>0.0</td>\n",
       "      <td>0.0</td>\n",
       "      <td>1.0</td>\n",
       "      <td>1.0</td>\n",
       "      <td>96806440.0</td>\n",
       "      <td>1.0</td>\n",
       "      <td>0.586207</td>\n",
       "    </tr>\n",
       "  </tbody>\n",
       "</table>\n",
       "<p>3 rows × 176 columns</p>\n",
       "</div>"
      ],
      "text/plain": [
       "   Ill250.alt_alnScore_mean  Ill250.alt_alnScore_std  Ill250.alt_count  \\\n",
       "0                976.871795                12.113098              39.0   \n",
       "1                  0.000000                 0.000000               0.0   \n",
       "2                980.865672                12.845692              67.0   \n",
       "\n",
       "   Ill250.alt_insertSize_mean  Ill250.alt_insertSize_std  \\\n",
       "0                  431.384615                  91.092406   \n",
       "1                    0.000000                   0.000000   \n",
       "2                  430.701492                  88.234426   \n",
       "\n",
       "   Ill250.alt_reason_alignmentScore  Ill250.alt_reason_insertSizeScore  \\\n",
       "0                              39.0                                0.0   \n",
       "1                               0.0                                0.0   \n",
       "2                              67.0                                0.0   \n",
       "\n",
       "   Ill250.alt_reason_orientation  Ill250.amb_alnScore_mean  \\\n",
       "0                            0.0                890.273292   \n",
       "1                            0.0                907.097143   \n",
       "2                            0.0                883.863905   \n",
       "\n",
       "   Ill250.amb_alnScore_std      ...        pacbio.ref_insertSize_mean  \\\n",
       "0               144.669681      ...                           8754.50   \n",
       "1               146.444984      ...                          10767.32   \n",
       "2               158.467660      ...                          18545.00   \n",
       "\n",
       "   pacbio.ref_insertSize_std  pacbio.ref_reason_alignmentScore  refN_cnt  \\\n",
       "0                3356.194618                              30.0       0.0   \n",
       "1                3791.304854                              50.0       0.0   \n",
       "2                   0.000000                               1.0       0.0   \n",
       "\n",
       "   refN_pct  segdup_cnt  segdup_pct       start  tandemrep_cnt  tandemrep_pct  \n",
       "0       0.0         0.0         0.0  65359519.0            0.0       0.000000  \n",
       "1       0.0         0.0         0.0  44564287.0            1.0       1.000000  \n",
       "2       0.0         1.0         1.0  96806440.0            1.0       0.586207  \n",
       "\n",
       "[3 rows x 176 columns]"
      ]
     },
     "execution_count": 139,
     "metadata": {},
     "output_type": "execute_result"
    }
   ],
   "source": [
    "df_header = list(df.columns.values)\n",
    "X2.columns = df_header\n",
    "X2.head(3)"
   ]
  },
  {
   "cell_type": "code",
   "execution_count": 140,
   "metadata": {},
   "outputs": [
    {
     "data": {
      "text/html": [
       "<div>\n",
       "<table border=\"1\" class=\"dataframe\">\n",
       "  <thead>\n",
       "    <tr style=\"text-align: right;\">\n",
       "      <th></th>\n",
       "      <th>Ill250.alt_alnScore_mean</th>\n",
       "      <th>Ill250.alt_alnScore_std</th>\n",
       "      <th>Ill250.alt_count</th>\n",
       "      <th>Ill250.alt_insertSize_mean</th>\n",
       "      <th>Ill250.alt_insertSize_std</th>\n",
       "      <th>Ill250.alt_reason_alignmentScore</th>\n",
       "      <th>Ill250.alt_reason_insertSizeScore</th>\n",
       "      <th>Ill250.alt_reason_orientation</th>\n",
       "      <th>Ill250.amb_alnScore_mean</th>\n",
       "      <th>Ill250.amb_alnScore_std</th>\n",
       "      <th>...</th>\n",
       "      <th>pacbio.ref_insertSize_mean</th>\n",
       "      <th>pacbio.ref_insertSize_std</th>\n",
       "      <th>pacbio.ref_reason_alignmentScore</th>\n",
       "      <th>refN_cnt</th>\n",
       "      <th>refN_pct</th>\n",
       "      <th>segdup_cnt</th>\n",
       "      <th>segdup_pct</th>\n",
       "      <th>start</th>\n",
       "      <th>tandemrep_cnt</th>\n",
       "      <th>tandemrep_pct</th>\n",
       "    </tr>\n",
       "  </thead>\n",
       "  <tbody>\n",
       "    <tr>\n",
       "      <th>0</th>\n",
       "      <td>976.871795</td>\n",
       "      <td>12.113098</td>\n",
       "      <td>39.0</td>\n",
       "      <td>431.384615</td>\n",
       "      <td>91.092406</td>\n",
       "      <td>39.0</td>\n",
       "      <td>0.0</td>\n",
       "      <td>0.0</td>\n",
       "      <td>890.273292</td>\n",
       "      <td>144.669681</td>\n",
       "      <td>...</td>\n",
       "      <td>8754.50</td>\n",
       "      <td>3356.194618</td>\n",
       "      <td>30.0</td>\n",
       "      <td>0.0</td>\n",
       "      <td>0.0</td>\n",
       "      <td>0.0</td>\n",
       "      <td>0.0</td>\n",
       "      <td>65359519.0</td>\n",
       "      <td>0.0</td>\n",
       "      <td>0.000000</td>\n",
       "    </tr>\n",
       "    <tr>\n",
       "      <th>1</th>\n",
       "      <td>0.000000</td>\n",
       "      <td>0.000000</td>\n",
       "      <td>0.0</td>\n",
       "      <td>0.000000</td>\n",
       "      <td>0.000000</td>\n",
       "      <td>0.0</td>\n",
       "      <td>0.0</td>\n",
       "      <td>0.0</td>\n",
       "      <td>907.097143</td>\n",
       "      <td>146.444984</td>\n",
       "      <td>...</td>\n",
       "      <td>10767.32</td>\n",
       "      <td>3791.304854</td>\n",
       "      <td>50.0</td>\n",
       "      <td>0.0</td>\n",
       "      <td>0.0</td>\n",
       "      <td>0.0</td>\n",
       "      <td>0.0</td>\n",
       "      <td>44564287.0</td>\n",
       "      <td>1.0</td>\n",
       "      <td>1.000000</td>\n",
       "    </tr>\n",
       "    <tr>\n",
       "      <th>2</th>\n",
       "      <td>980.865672</td>\n",
       "      <td>12.845692</td>\n",
       "      <td>67.0</td>\n",
       "      <td>430.701492</td>\n",
       "      <td>88.234426</td>\n",
       "      <td>67.0</td>\n",
       "      <td>0.0</td>\n",
       "      <td>0.0</td>\n",
       "      <td>883.863905</td>\n",
       "      <td>158.467660</td>\n",
       "      <td>...</td>\n",
       "      <td>18545.00</td>\n",
       "      <td>0.000000</td>\n",
       "      <td>1.0</td>\n",
       "      <td>0.0</td>\n",
       "      <td>0.0</td>\n",
       "      <td>1.0</td>\n",
       "      <td>1.0</td>\n",
       "      <td>96806440.0</td>\n",
       "      <td>1.0</td>\n",
       "      <td>0.586207</td>\n",
       "    </tr>\n",
       "  </tbody>\n",
       "</table>\n",
       "<p>3 rows × 176 columns</p>\n",
       "</div>"
      ],
      "text/plain": [
       "   Ill250.alt_alnScore_mean  Ill250.alt_alnScore_std  Ill250.alt_count  \\\n",
       "0                976.871795                12.113098              39.0   \n",
       "1                  0.000000                 0.000000               0.0   \n",
       "2                980.865672                12.845692              67.0   \n",
       "\n",
       "   Ill250.alt_insertSize_mean  Ill250.alt_insertSize_std  \\\n",
       "0                  431.384615                  91.092406   \n",
       "1                    0.000000                   0.000000   \n",
       "2                  430.701492                  88.234426   \n",
       "\n",
       "   Ill250.alt_reason_alignmentScore  Ill250.alt_reason_insertSizeScore  \\\n",
       "0                              39.0                                0.0   \n",
       "1                               0.0                                0.0   \n",
       "2                              67.0                                0.0   \n",
       "\n",
       "   Ill250.alt_reason_orientation  Ill250.amb_alnScore_mean  \\\n",
       "0                            0.0                890.273292   \n",
       "1                            0.0                907.097143   \n",
       "2                            0.0                883.863905   \n",
       "\n",
       "   Ill250.amb_alnScore_std      ...        pacbio.ref_insertSize_mean  \\\n",
       "0               144.669681      ...                           8754.50   \n",
       "1               146.444984      ...                          10767.32   \n",
       "2               158.467660      ...                          18545.00   \n",
       "\n",
       "   pacbio.ref_insertSize_std  pacbio.ref_reason_alignmentScore  refN_cnt  \\\n",
       "0                3356.194618                              30.0       0.0   \n",
       "1                3791.304854                              50.0       0.0   \n",
       "2                   0.000000                               1.0       0.0   \n",
       "\n",
       "   refN_pct  segdup_cnt  segdup_pct       start  tandemrep_cnt  tandemrep_pct  \n",
       "0       0.0         0.0         0.0  65359519.0            0.0       0.000000  \n",
       "1       0.0         0.0         0.0  44564287.0            1.0       1.000000  \n",
       "2       0.0         1.0         1.0  96806440.0            1.0       0.586207  \n",
       "\n",
       "[3 rows x 176 columns]"
      ]
     },
     "execution_count": 140,
     "metadata": {},
     "output_type": "execute_result"
    }
   ],
   "source": [
    "X3 = pd.DataFrame()\n",
    "X3 = X2\n",
    "X3.head(3)"
   ]
  },
  {
   "cell_type": "code",
   "execution_count": 141,
   "metadata": {
    "collapsed": true
   },
   "outputs": [],
   "source": [
    "# Order features\n",
    "X5 = X2.reindex_axis(sorted(X2.columns), axis=1)"
   ]
  },
  {
   "cell_type": "markdown",
   "metadata": {},
   "source": [
    "<a id='prediction_step'></a>"
   ]
  },
  {
   "cell_type": "code",
   "execution_count": 142,
   "metadata": {
    "collapsed": true
   },
   "outputs": [],
   "source": [
    "pred = model.predict(X5)"
   ]
  },
  {
   "cell_type": "code",
   "execution_count": 143,
   "metadata": {
    "collapsed": true
   },
   "outputs": [],
   "source": [
    "pred_prob = model.predict_proba(X5)"
   ]
  },
  {
   "cell_type": "code",
   "execution_count": 144,
   "metadata": {
    "collapsed": true
   },
   "outputs": [],
   "source": [
    "pred_prob_log = model.predict_log_proba(X5)"
   ]
  },
  {
   "cell_type": "code",
   "execution_count": 145,
   "metadata": {},
   "outputs": [
    {
     "data": {
      "text/html": [
       "<div>\n",
       "<table border=\"1\" class=\"dataframe\">\n",
       "  <thead>\n",
       "    <tr style=\"text-align: right;\">\n",
       "      <th></th>\n",
       "      <th>Ill250.alt_alnScore_mean</th>\n",
       "      <th>Ill250.alt_alnScore_std</th>\n",
       "      <th>Ill250.alt_count</th>\n",
       "      <th>Ill250.alt_insertSize_mean</th>\n",
       "      <th>Ill250.alt_insertSize_std</th>\n",
       "      <th>Ill250.alt_reason_alignmentScore</th>\n",
       "      <th>Ill250.alt_reason_insertSizeScore</th>\n",
       "      <th>Ill250.alt_reason_orientation</th>\n",
       "      <th>Ill250.amb_alnScore_mean</th>\n",
       "      <th>Ill250.amb_alnScore_std</th>\n",
       "      <th>...</th>\n",
       "      <th>pacbio.ref_insertSize_mean</th>\n",
       "      <th>pacbio.ref_insertSize_std</th>\n",
       "      <th>pacbio.ref_reason_alignmentScore</th>\n",
       "      <th>refN_cnt</th>\n",
       "      <th>refN_pct</th>\n",
       "      <th>segdup_cnt</th>\n",
       "      <th>segdup_pct</th>\n",
       "      <th>start</th>\n",
       "      <th>tandemrep_cnt</th>\n",
       "      <th>tandemrep_pct</th>\n",
       "    </tr>\n",
       "  </thead>\n",
       "  <tbody>\n",
       "  </tbody>\n",
       "</table>\n",
       "<p>0 rows × 176 columns</p>\n",
       "</div>"
      ],
      "text/plain": [
       "Empty DataFrame\n",
       "Columns: [Ill250.alt_alnScore_mean, Ill250.alt_alnScore_std, Ill250.alt_count, Ill250.alt_insertSize_mean, Ill250.alt_insertSize_std, Ill250.alt_reason_alignmentScore, Ill250.alt_reason_insertSizeScore, Ill250.alt_reason_orientation, Ill250.amb_alnScore_mean, Ill250.amb_alnScore_std, Ill250.amb_count, Ill250.amb_insertSize_mean, Ill250.amb_insertSize_std, Ill250.amb_reason_alignmentScore_alignmentScore, Ill250.amb_reason_alignmentScore_orientation, Ill250.amb_reason_flanking, Ill250.amb_reason_insertSizeScore_alignmentScore, Ill250.amb_reason_multimapping, Ill250.amb_reason_orientation_alignmentScore, Ill250.amb_reason_orientation_orientation, Ill250.amb_reason_same_scores, Ill250.ref_alnScore_mean, Ill250.ref_alnScore_std, Ill250.ref_count, Ill250.ref_insertSize_mean, Ill250.ref_insertSize_std, Ill250.ref_reason_alignmentScore, Ill250.ref_reason_orientation, Ill300x.alt_alnScore_mean, Ill300x.alt_alnScore_std, Ill300x.alt_count, Ill300x.alt_insertSize_mean, Ill300x.alt_insertSize_std, Ill300x.alt_reason_alignmentScore, Ill300x.alt_reason_insertSizeScore, Ill300x.alt_reason_orientation, Ill300x.amb_alnScore_mean, Ill300x.amb_alnScore_std, Ill300x.amb_count, Ill300x.amb_insertSize_mean, Ill300x.amb_insertSize_std, Ill300x.amb_reason_alignmentScore_alignmentScore, Ill300x.amb_reason_alignmentScore_insertSizeScore, Ill300x.amb_reason_alignmentScore_orientation, Ill300x.amb_reason_flanking, Ill300x.amb_reason_insertSizeScore_alignmentScore, Ill300x.amb_reason_insertSizeScore_insertSizeScore, Ill300x.amb_reason_multimapping, Ill300x.amb_reason_orientation_alignmentScore, Ill300x.amb_reason_orientation_orientation, Ill300x.amb_reason_same_scores, Ill300x.ref_alnScore_mean, Ill300x.ref_alnScore_std, Ill300x.ref_count, Ill300x.ref_insertSize_mean, Ill300x.ref_insertSize_std, Ill300x.ref_reason_alignmentScore, Ill300x.ref_reason_insertSizeScore, Ill300x.ref_reason_orientation, IllMP.alt_alnScore_mean, IllMP.alt_alnScore_std, IllMP.alt_count, IllMP.alt_insertSize_mean, IllMP.alt_insertSize_std, IllMP.alt_reason_alignmentScore, IllMP.alt_reason_insertSizeScore, IllMP.alt_reason_orientation, IllMP.amb_alnScore_mean, IllMP.amb_alnScore_std, IllMP.amb_count, IllMP.amb_insertSize_mean, IllMP.amb_insertSize_std, IllMP.amb_reason_alignmentScore_alignmentScore, IllMP.amb_reason_alignmentScore_orientation, IllMP.amb_reason_flanking, IllMP.amb_reason_insertSizeScore_alignmentScore, IllMP.amb_reason_insertSizeScore_insertSizeScore, IllMP.amb_reason_multimapping, IllMP.amb_reason_orientation_alignmentScore, IllMP.amb_reason_orientation_orientation, IllMP.amb_reason_same_scores, IllMP.ref_alnScore_mean, IllMP.ref_alnScore_std, IllMP.ref_count, IllMP.ref_insertSize_mean, IllMP.ref_insertSize_std, IllMP.ref_reason_alignmentScore, IllMP.ref_reason_insertSizeScore, IllMP.ref_reason_orientation, Size, TenX.HP1_alt_alnScore_mean, TenX.HP1_alt_alnScore_std, TenX.HP1_alt_count, TenX.HP1_alt_insertSize_mean, TenX.HP1_alt_insertSize_std, TenX.HP1_alt_reason_alignmentScore, TenX.HP1_alt_reason_insertSizeScore, TenX.HP1_alt_reason_orientation, TenX.HP1_amb_alnScore_mean, TenX.HP1_amb_alnScore_std, ...]\n",
       "Index: []\n",
       "\n",
       "[0 rows x 176 columns]"
      ]
     },
     "execution_count": 145,
     "metadata": {},
     "output_type": "execute_result"
    }
   ],
   "source": [
    "df[df.index.duplicated()]"
   ]
  },
  {
   "cell_type": "code",
   "execution_count": 146,
   "metadata": {
    "collapsed": true
   },
   "outputs": [],
   "source": [
    "X5['predicted_label'] = pred\n",
    "X5['chrom'] = df2['chrom']\n",
    "X5['GTcons'] = df2['GTcons']\n",
    "X5['start'] = df2['start']\n",
    "X5['end'] = df2['end']\n",
    "X5['Size'] = df2['Size']\n",
    "# X5['GTsupp'] = df2['GTsupp']"
   ]
  },
  {
   "cell_type": "code",
   "execution_count": 147,
   "metadata": {
    "collapsed": true
   },
   "outputs": [],
   "source": [
    "X6 = pd.concat([X5, pd.DataFrame(pred_prob, columns=['1','2','3'])])"
   ]
  },
  {
   "cell_type": "code",
   "execution_count": 148,
   "metadata": {
    "collapsed": true
   },
   "outputs": [],
   "source": [
    "X7 = pd.concat([X5, pd.DataFrame(pred_prob_log, columns=['1','2','3'])])"
   ]
  },
  {
   "cell_type": "code",
   "execution_count": 149,
   "metadata": {
    "collapsed": true
   },
   "outputs": [],
   "source": [
    "X6.to_csv('/Volumes/lesleydata/RF_model_trainingData_test/size_data/results/figures/400to499/400to499_20to49_predsm.csv', index=False)"
   ]
  },
  {
   "cell_type": "code",
   "execution_count": null,
   "metadata": {
    "collapsed": true
   },
   "outputs": [],
   "source": [
    "X7.to_csv('/Volumes/lesleydata/RF_model_trainingData_test/size_data/results/figures/400to499/400to499_log_20to49_.csv', index=False)"
   ]
  },
  {
   "cell_type": "code",
   "execution_count": 150,
   "metadata": {
    "collapsed": true
   },
   "outputs": [],
   "source": [
    "X6 = pd.read_csv('/Volumes/lesleydata/RF_model_trainingData_test/size_data/results/figures/400to499/400to499_20to49_predsm.csv')"
   ]
  },
  {
   "cell_type": "code",
   "execution_count": 151,
   "metadata": {
    "collapsed": true
   },
   "outputs": [],
   "source": [
    "X6.rename(columns={'1': 'Homozygous_Reference_GTcons'}, inplace=True)\n",
    "X6.rename(columns={'2': 'Heterozygous_Variant_GTcons'}, inplace=True)\n",
    "X6.rename(columns={'3': 'Homozygous_Variant_GTcons'}, inplace=True)\n",
    "X6.rename(columns={'predicted_label': 'predicted_GTcons_label'}, inplace=True)"
   ]
  },
  {
   "cell_type": "code",
   "execution_count": 152,
   "metadata": {
    "collapsed": true
   },
   "outputs": [],
   "source": [
    "X6['GTcons'].replace('Homozygous_Reference', '0', inplace=True)\n",
    "X6['GTcons'].replace('Heterozygous_Variant', '1', inplace=True)\n",
    "X6['GTcons'].replace('Homozygous_Variant', '2', inplace=True)"
   ]
  },
  {
   "cell_type": "code",
   "execution_count": 153,
   "metadata": {},
   "outputs": [
    {
     "data": {
      "text/html": [
       "<div>\n",
       "<table border=\"1\" class=\"dataframe\">\n",
       "  <thead>\n",
       "    <tr style=\"text-align: right;\">\n",
       "      <th></th>\n",
       "      <th>Homozygous_Reference_GTcons</th>\n",
       "      <th>Heterozygous_Variant_GTcons</th>\n",
       "      <th>Homozygous_Variant_GTcons</th>\n",
       "      <th>GTcons</th>\n",
       "      <th>Ill250.alt_alnScore_mean</th>\n",
       "      <th>Ill250.alt_alnScore_std</th>\n",
       "      <th>Ill250.alt_count</th>\n",
       "      <th>Ill250.alt_insertSize_mean</th>\n",
       "      <th>Ill250.alt_insertSize_std</th>\n",
       "      <th>Ill250.alt_reason_alignmentScore</th>\n",
       "      <th>...</th>\n",
       "      <th>pacbio.ref_insertSize_std</th>\n",
       "      <th>pacbio.ref_reason_alignmentScore</th>\n",
       "      <th>predicted_GTcons_label</th>\n",
       "      <th>refN_cnt</th>\n",
       "      <th>refN_pct</th>\n",
       "      <th>segdup_cnt</th>\n",
       "      <th>segdup_pct</th>\n",
       "      <th>start</th>\n",
       "      <th>tandemrep_cnt</th>\n",
       "      <th>tandemrep_pct</th>\n",
       "    </tr>\n",
       "  </thead>\n",
       "  <tbody>\n",
       "    <tr>\n",
       "      <th>0</th>\n",
       "      <td>0.35</td>\n",
       "      <td>0.55</td>\n",
       "      <td>0.10</td>\n",
       "      <td>1</td>\n",
       "      <td>976.871795</td>\n",
       "      <td>12.113098</td>\n",
       "      <td>39.0</td>\n",
       "      <td>431.384615</td>\n",
       "      <td>91.092406</td>\n",
       "      <td>39.0</td>\n",
       "      <td>...</td>\n",
       "      <td>3356.194618</td>\n",
       "      <td>30.0</td>\n",
       "      <td>1</td>\n",
       "      <td>0</td>\n",
       "      <td>0</td>\n",
       "      <td>0</td>\n",
       "      <td>0.0</td>\n",
       "      <td>65359519</td>\n",
       "      <td>0</td>\n",
       "      <td>0.000000</td>\n",
       "    </tr>\n",
       "    <tr>\n",
       "      <th>1</th>\n",
       "      <td>0.80</td>\n",
       "      <td>0.15</td>\n",
       "      <td>0.05</td>\n",
       "      <td>0</td>\n",
       "      <td>0.000000</td>\n",
       "      <td>0.000000</td>\n",
       "      <td>0.0</td>\n",
       "      <td>0.000000</td>\n",
       "      <td>0.000000</td>\n",
       "      <td>0.0</td>\n",
       "      <td>...</td>\n",
       "      <td>3791.304854</td>\n",
       "      <td>50.0</td>\n",
       "      <td>0</td>\n",
       "      <td>0</td>\n",
       "      <td>0</td>\n",
       "      <td>0</td>\n",
       "      <td>0.0</td>\n",
       "      <td>44564287</td>\n",
       "      <td>1</td>\n",
       "      <td>1.000000</td>\n",
       "    </tr>\n",
       "    <tr>\n",
       "      <th>2</th>\n",
       "      <td>0.25</td>\n",
       "      <td>0.60</td>\n",
       "      <td>0.15</td>\n",
       "      <td>1</td>\n",
       "      <td>980.865672</td>\n",
       "      <td>12.845692</td>\n",
       "      <td>67.0</td>\n",
       "      <td>430.701492</td>\n",
       "      <td>88.234426</td>\n",
       "      <td>67.0</td>\n",
       "      <td>...</td>\n",
       "      <td>0.000000</td>\n",
       "      <td>1.0</td>\n",
       "      <td>1</td>\n",
       "      <td>0</td>\n",
       "      <td>0</td>\n",
       "      <td>1</td>\n",
       "      <td>1.0</td>\n",
       "      <td>96806440</td>\n",
       "      <td>1</td>\n",
       "      <td>0.586207</td>\n",
       "    </tr>\n",
       "  </tbody>\n",
       "</table>\n",
       "<p>3 rows × 181 columns</p>\n",
       "</div>"
      ],
      "text/plain": [
       "   Homozygous_Reference_GTcons  Heterozygous_Variant_GTcons  \\\n",
       "0                         0.35                         0.55   \n",
       "1                         0.80                         0.15   \n",
       "2                         0.25                         0.60   \n",
       "\n",
       "   Homozygous_Variant_GTcons  GTcons  Ill250.alt_alnScore_mean  \\\n",
       "0                       0.10       1                976.871795   \n",
       "1                       0.05       0                  0.000000   \n",
       "2                       0.15       1                980.865672   \n",
       "\n",
       "   Ill250.alt_alnScore_std  Ill250.alt_count  Ill250.alt_insertSize_mean  \\\n",
       "0                12.113098              39.0                  431.384615   \n",
       "1                 0.000000               0.0                    0.000000   \n",
       "2                12.845692              67.0                  430.701492   \n",
       "\n",
       "   Ill250.alt_insertSize_std  Ill250.alt_reason_alignmentScore      ...        \\\n",
       "0                  91.092406                              39.0      ...         \n",
       "1                   0.000000                               0.0      ...         \n",
       "2                  88.234426                              67.0      ...         \n",
       "\n",
       "   pacbio.ref_insertSize_std  pacbio.ref_reason_alignmentScore  \\\n",
       "0                3356.194618                              30.0   \n",
       "1                3791.304854                              50.0   \n",
       "2                   0.000000                               1.0   \n",
       "\n",
       "   predicted_GTcons_label  refN_cnt  refN_pct  segdup_cnt  segdup_pct  \\\n",
       "0                       1         0         0           0         0.0   \n",
       "1                       0         0         0           0         0.0   \n",
       "2                       1         0         0           1         1.0   \n",
       "\n",
       "      start  tandemrep_cnt  tandemrep_pct  \n",
       "0  65359519              0       0.000000  \n",
       "1  44564287              1       1.000000  \n",
       "2  96806440              1       0.586207  \n",
       "\n",
       "[3 rows x 181 columns]"
      ]
     },
     "execution_count": 153,
     "metadata": {},
     "output_type": "execute_result"
    }
   ],
   "source": [
    "X6.head(3)"
   ]
  },
  {
   "cell_type": "code",
   "execution_count": 154,
   "metadata": {
    "collapsed": true
   },
   "outputs": [],
   "source": [
    "X6.to_csv('/Volumes/lesleydata/RF_model_trainingData_test/size_data/results/figures/400to499/400to499_final_20to49_predsm.csv', index=False)"
   ]
  },
  {
   "cell_type": "code",
   "execution_count": 155,
   "metadata": {
    "collapsed": true
   },
   "outputs": [],
   "source": [
    "# X6['GTcons'].fillna(999)\n",
    "# X7 = X6[X6.GTcons != 999]\n",
    "# X6['predicted_GTcons_label'].isnull().sum()"
   ]
  },
  {
   "cell_type": "code",
   "execution_count": 156,
   "metadata": {},
   "outputs": [
    {
     "data": {
      "text/plain": [
       "dtype('int64')"
      ]
     },
     "execution_count": 156,
     "metadata": {},
     "output_type": "execute_result"
    }
   ],
   "source": [
    "X6['predicted_GTcons_label'].dtypes"
   ]
  },
  {
   "cell_type": "code",
   "execution_count": 157,
   "metadata": {
    "collapsed": true
   },
   "outputs": [],
   "source": [
    "X6.GTcons = X6.GTcons.astype(int)"
   ]
  },
  {
   "cell_type": "code",
   "execution_count": 158,
   "metadata": {
    "scrolled": true
   },
   "outputs": [
    {
     "name": "stdout",
     "output_type": "stream",
     "text": [
      "0     945\n",
      "2     581\n",
      "1    1824\n",
      "dtype: int64\n"
     ]
    }
   ],
   "source": [
    "print (pd.value_counts(X6['GTcons'].values, sort=False))"
   ]
  },
  {
   "cell_type": "markdown",
   "metadata": {},
   "source": [
    "***\n",
    "Label Analysis\n",
    "***"
   ]
  },
  {
   "cell_type": "code",
   "execution_count": 159,
   "metadata": {},
   "outputs": [
    {
     "name": "stdout",
     "output_type": "stream",
     "text": [
      "[[ 931   14    0]\n",
      " [ 130 1693    1]\n",
      " [  10  468  103]]\n"
     ]
    }
   ],
   "source": [
    "from sklearn.metrics import confusion_matrix\n",
    "consensus_GT = X6['GTcons']\n",
    "predict = X6['predicted_GTcons_label']\n",
    "print(confusion_matrix(consensus_GT, predict))"
   ]
  },
  {
   "cell_type": "code",
   "execution_count": 160,
   "metadata": {
    "collapsed": true
   },
   "outputs": [],
   "source": [
    "X6['GTcons'].replace(0, 'Homozygous_Reference', inplace=True)\n",
    "X6['GTcons'].replace(1, 'Heterozygous_Variant', inplace=True)\n",
    "X6['GTcons'].replace(2, 'Homozygous_Variant', inplace=True)\n",
    "X6['predicted_GTcons_label'].replace(0.0, 'Homozygous_Reference', inplace=True)\n",
    "X6['predicted_GTcons_label'].replace(1.0, 'Heterozygous_Variant', inplace=True)\n",
    "X6['predicted_GTcons_label'].replace(2.0, 'Homozygous_Variant', inplace=True)"
   ]
  },
  {
   "cell_type": "markdown",
   "metadata": {},
   "source": [
    "<a id='predict_precision_score_matrix'></a>"
   ]
  },
  {
   "cell_type": "code",
   "execution_count": 161,
   "metadata": {},
   "outputs": [
    {
     "name": "stdout",
     "output_type": "stream",
     "text": [
      "Precision score of the prediction subset: 0.814\n"
     ]
    }
   ],
   "source": [
    "print('Precision score of the prediction subset: {:.3f}'.format(precision_score(consensus_GT, predict, average='micro'))) "
   ]
  },
  {
   "cell_type": "code",
   "execution_count": 162,
   "metadata": {},
   "outputs": [
    {
     "name": "stdout",
     "output_type": "stream",
     "text": [
      "Accuracy score of the prediction subset: 0.814\n"
     ]
    }
   ],
   "source": [
    "print('Accuracy score of the prediction subset: {:.3f}'.format(accuracy_score(consensus_GT, predict))) "
   ]
  },
  {
   "cell_type": "code",
   "execution_count": 163,
   "metadata": {
    "scrolled": true
   },
   "outputs": [
    {
     "data": {
      "text/html": [
       "<div>\n",
       "<table border=\"1\" class=\"dataframe\">\n",
       "  <thead>\n",
       "    <tr style=\"text-align: right;\">\n",
       "      <th>Predicted</th>\n",
       "      <th>Heterozygous_Variant</th>\n",
       "      <th>Homozygous_Reference</th>\n",
       "      <th>Homozygous_Variant</th>\n",
       "      <th>All</th>\n",
       "    </tr>\n",
       "    <tr>\n",
       "      <th>True</th>\n",
       "      <th></th>\n",
       "      <th></th>\n",
       "      <th></th>\n",
       "      <th></th>\n",
       "    </tr>\n",
       "  </thead>\n",
       "  <tbody>\n",
       "    <tr>\n",
       "      <th>Heterozygous_Variant</th>\n",
       "      <td>1693</td>\n",
       "      <td>130</td>\n",
       "      <td>1</td>\n",
       "      <td>1824</td>\n",
       "    </tr>\n",
       "    <tr>\n",
       "      <th>Homozygous_Reference</th>\n",
       "      <td>14</td>\n",
       "      <td>931</td>\n",
       "      <td>0</td>\n",
       "      <td>945</td>\n",
       "    </tr>\n",
       "    <tr>\n",
       "      <th>Homozygous_Variant</th>\n",
       "      <td>468</td>\n",
       "      <td>10</td>\n",
       "      <td>103</td>\n",
       "      <td>581</td>\n",
       "    </tr>\n",
       "    <tr>\n",
       "      <th>All</th>\n",
       "      <td>2175</td>\n",
       "      <td>1071</td>\n",
       "      <td>104</td>\n",
       "      <td>3350</td>\n",
       "    </tr>\n",
       "  </tbody>\n",
       "</table>\n",
       "</div>"
      ],
      "text/plain": [
       "Predicted             Heterozygous_Variant  Homozygous_Reference  \\\n",
       "True                                                               \n",
       "Heterozygous_Variant                  1693                   130   \n",
       "Homozygous_Reference                    14                   931   \n",
       "Homozygous_Variant                     468                    10   \n",
       "All                                   2175                  1071   \n",
       "\n",
       "Predicted             Homozygous_Variant   All  \n",
       "True                                            \n",
       "Heterozygous_Variant                   1  1824  \n",
       "Homozygous_Reference                   0   945  \n",
       "Homozygous_Variant                   103   581  \n",
       "All                                  104  3350  "
      ]
     },
     "execution_count": 163,
     "metadata": {},
     "output_type": "execute_result"
    }
   ],
   "source": [
    "pd.crosstab(consensus_GT, predict, rownames=['True'], colnames=['Predicted'], margins=True)"
   ]
  },
  {
   "cell_type": "markdown",
   "metadata": {},
   "source": [
    "** High Confidence Label Analysis**\n",
    "* **Reminder:** The labels predicted by the model are the following consensus genotype:\n",
    "    * Homozygous Reference: 0 \n",
    "    * Heterozygous Variant: 1 \n",
    "    * Homozygous Variant: 2 \n",
    "* Here **high confidence labels** are the GTcons labels predicted by the model that were also assigned a predict probability of either 0.9 or 1\n"
   ]
  },
  {
   "cell_type": "code",
   "execution_count": 164,
   "metadata": {
    "collapsed": true
   },
   "outputs": [],
   "source": [
    "high_conf_labels = X6[(X6['Homozygous_Reference_GTcons'] == 1) | (X6['Homozygous_Reference_GTcons'] >= 0.9) | (X6['Heterozygous_Variant_GTcons'] == 1) | (X6['Heterozygous_Variant_GTcons'] >= 0.9) | (X6['Homozygous_Variant_GTcons'] == 1) | (X6['Homozygous_Variant_GTcons'] >= 0.9)]\n"
   ]
  },
  {
   "cell_type": "markdown",
   "metadata": {},
   "source": [
    "<a id='hiconf_precision_score'></a>"
   ]
  },
  {
   "cell_type": "code",
   "execution_count": 165,
   "metadata": {},
   "outputs": [
    {
     "data": {
      "text/html": [
       "<div>\n",
       "<table border=\"1\" class=\"dataframe\">\n",
       "  <thead>\n",
       "    <tr style=\"text-align: right;\">\n",
       "      <th>Predicted</th>\n",
       "      <th>Homozygous_Reference</th>\n",
       "      <th>All</th>\n",
       "    </tr>\n",
       "    <tr>\n",
       "      <th>True</th>\n",
       "      <th></th>\n",
       "      <th></th>\n",
       "    </tr>\n",
       "  </thead>\n",
       "  <tbody>\n",
       "    <tr>\n",
       "      <th>Homozygous_Reference</th>\n",
       "      <td>556</td>\n",
       "      <td>556</td>\n",
       "    </tr>\n",
       "    <tr>\n",
       "      <th>All</th>\n",
       "      <td>556</td>\n",
       "      <td>556</td>\n",
       "    </tr>\n",
       "  </tbody>\n",
       "</table>\n",
       "</div>"
      ],
      "text/plain": [
       "Predicted             Homozygous_Reference  All\n",
       "True                                           \n",
       "Homozygous_Reference                   556  556\n",
       "All                                    556  556"
      ]
     },
     "execution_count": 165,
     "metadata": {},
     "output_type": "execute_result"
    }
   ],
   "source": [
    "consensus_GT = high_conf_labels['GTcons']\n",
    "predict = high_conf_labels['predicted_GTcons_label']\n",
    "pd.crosstab(consensus_GT, predict, rownames=['True'], colnames=['Predicted'], margins=True)"
   ]
  },
  {
   "cell_type": "code",
   "execution_count": 166,
   "metadata": {
    "scrolled": false
   },
   "outputs": [
    {
     "name": "stdout",
     "output_type": "stream",
     "text": [
      "                      precision    recall  f1-score   support\n",
      "\n",
      "Homozygous_Reference       1.00      1.00      1.00       556\n",
      "\n",
      "         avg / total       1.00      1.00      1.00       556\n",
      "\n"
     ]
    }
   ],
   "source": [
    "from sklearn.metrics import classification_report\n",
    "print(classification_report(consensus_GT, predict))"
   ]
  },
  {
   "cell_type": "code",
   "execution_count": null,
   "metadata": {
    "collapsed": true
   },
   "outputs": [],
   "source": []
  }
 ],
 "metadata": {
  "kernelspec": {
   "display_name": "Python [NIHFAES]",
   "language": "python",
   "name": "Python [NIHFAES]"
  },
  "language_info": {
   "codemirror_mode": {
    "name": "ipython",
    "version": 3
   },
   "file_extension": ".py",
   "mimetype": "text/x-python",
   "name": "python",
   "nbconvert_exporter": "python",
   "pygments_lexer": "ipython3",
   "version": "3.5.2"
  }
 },
 "nbformat": 4,
 "nbformat_minor": 2
}
