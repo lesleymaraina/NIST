{
 "cells": [
  {
   "cell_type": "markdown",
   "metadata": {},
   "source": [
    "ML_RF_SizeStratify_100to299\n",
    "* Machine Learning Training Data : size stratification\n",
    "* Data originally pooled from all technologies"
   ]
  },
  {
   "cell_type": "code",
   "execution_count": 1,
   "metadata": {},
   "outputs": [
    {
     "name": "stderr",
     "output_type": "stream",
     "text": [
      "/Users/lmc2/anaconda/envs/NIHFAES/lib/python3.5/site-packages/sklearn/cross_validation.py:41: DeprecationWarning: This module was deprecated in version 0.18 in favor of the model_selection module into which all the refactored classes and functions are moved. Also note that the interface of the new CV iterators are different from that of this module. This module will be removed in 0.20.\n",
      "  \"This module will be removed in 0.20.\", DeprecationWarning)\n",
      "/Users/lmc2/anaconda/envs/NIHFAES/lib/python3.5/site-packages/sklearn/grid_search.py:42: DeprecationWarning: This module was deprecated in version 0.18 in favor of the model_selection module into which all the refactored classes and functions are moved. This module will be removed in 0.20.\n",
      "  DeprecationWarning)\n"
     ]
    }
   ],
   "source": [
    "\"\"\"\n",
    "Imports\n",
    "\"\"\"\n",
    "import pandas as pd\n",
    "import numpy as np\n",
    "import graphviz\n",
    "import io\n",
    "from fancyimpute import KNN\n",
    "import matplotlib.pyplot as plt\n",
    "from sklearn import preprocessing\n",
    "from sklearn.grid_search import GridSearchCV\n",
    "from sklearn.preprocessing import LabelEncoder\n",
    "from sklearn.model_selection import LeaveOneOut\n",
    "from scipy.stats import ks_2samp\n",
    "from scipy import stats\n",
    "from matplotlib import pyplot\n",
    "from sklearn import preprocessing\n",
    "from scipy.linalg import svd\n",
    "from sklearn.decomposition import TruncatedSVD\n",
    "from sklearn.ensemble import RandomForestClassifier\n",
    "from sklearn.metrics import roc_auc_score\n",
    "import seaborn as sns\n",
    "from sklearn.manifold import TSNE\n",
    "from sklearn.decomposition import PCA as sklearnPCA\n",
    "import plotly.plotly as py\n",
    "from sklearn.cluster import DBSCAN\n",
    "from sklearn.model_selection import train_test_split\n",
    "from sklearn import metrics\n",
    "from sklearn.grid_search import GridSearchCV\n",
    "from sklearn.metrics import f1_score, precision_score\n",
    "from sklearn import preprocessing\n",
    "from ggplot import *\n",
    "from bokeh.charts import TimeSeries\n",
    "from bokeh.models import HoverTool\n",
    "from bokeh.plotting import show\n",
    "from bokeh.charts import Scatter, Histogram, output_file, show\n",
    "from bokeh.plotting import figure, show, output_file, ColumnDataSource\n",
    "from bokeh.io import output_notebook\n",
    "from bokeh.charts import Bar, output_file, show\n",
    "import bokeh.palettes as palettes\n",
    "from bokeh.models import HoverTool, BoxSelectTool, Legend\n",
    "from sklearn import (manifold, datasets, decomposition, ensemble,\n",
    "                     discriminant_analysis, random_projection)"
   ]
  },
  {
   "cell_type": "code",
   "execution_count": 222,
   "metadata": {
    "collapsed": true
   },
   "outputs": [],
   "source": [
    "# Import Training Data\n",
    "df_20to49 = pd.read_csv('/Volumes/lesleydata/RF_model_trainingData_test/size_data/train/df_20to49_train_.csv')\n",
    "df_50to99 = pd.read_csv('/Volumes/lesleydata/RF_model_trainingData_test/size_data/train/df_50to99_train_.csv')\n",
    "df_100to299 = pd.read_csv('/Volumes/lesleydata/RF_model_trainingData_test/size_data/train/df_100to299_train_.csv')\n",
    "df_300to399 = pd.read_csv('/Volumes/lesleydata/RF_model_trainingData_test/size_data/train/df_300to399_train_.csv')\n",
    "df_400to499 = pd.read_csv('/Volumes/lesleydata/RF_model_trainingData_test/size_data/train/df_400to499_train_.csv')\n",
    "df_500to999 = pd.read_csv('/Volumes/lesleydata/RF_model_trainingData_test/size_data/train/df_500to999_train_.csv')\n",
    "df_1000to5999 = pd.read_csv('/Volumes/lesleydata/RF_model_trainingData_test/size_data/train/df_1000to5999_train_.csv')\n",
    "df_6000 = pd.read_csv('/Volumes/lesleydata/RF_model_trainingData_test/size_data/train/df_6000_train_.csv')"
   ]
  },
  {
   "cell_type": "code",
   "execution_count": 223,
   "metadata": {
    "collapsed": true
   },
   "outputs": [],
   "source": [
    "# Copy Dataframes for later parsing tasks\n",
    "df_20to49_ = pd.read_csv('/Volumes/lesleydata/RF_model_trainingData_test/size_data/train/df_20to49_train.csv')\n",
    "df_50to99_ = pd.read_csv('/Volumes/lesleydata/RF_model_trainingData_test/size_data/train/df_50to99_train.csv')\n",
    "df_100to299_ = pd.read_csv('/Volumes/lesleydata/RF_model_trainingData_test/size_data/train/df_100to299_train.csv')\n",
    "df_300to399_ = pd.read_csv('/Volumes/lesleydata/RF_model_trainingData_test/size_data/train/df_300to399_train.csv')\n",
    "df_400to499_ = pd.read_csv('/Volumes/lesleydata/RF_model_trainingData_test/size_data/train/df_400to499_train.csv')\n",
    "df_500to999_ = pd.read_csv('/Volumes/lesleydata/RF_model_trainingData_test/size_data/train/df_500to999_train.csv')\n",
    "df_1000to5999_ = pd.read_csv('/Volumes/lesleydata/RF_model_trainingData_test/size_data/train/df_1000to5999_train.csv')\n",
    "df_6000_ = pd.read_csv('/Volumes/lesleydata/RF_model_trainingData_test/size_data/train/df_6000_train.csv')"
   ]
  },
  {
   "cell_type": "code",
   "execution_count": 224,
   "metadata": {
    "collapsed": true
   },
   "outputs": [],
   "source": [
    "df_20to49['GTcons'].replace('Homozygous_Reference', 0, inplace=True)\n",
    "df_20to49['GTcons'].replace('Heterozygous_Variant', 1, inplace=True)\n",
    "df_20to49['GTcons'].replace('Homozygous_Variant', 2, inplace=True)\n",
    "\n",
    "df_50to99['GTcons'].replace('Homozygous_Reference', 0, inplace=True)\n",
    "df_50to99['GTcons'].replace('Heterozygous_Variant', 1, inplace=True)\n",
    "df_50to99['GTcons'].replace('Homozygous_Variant', 2, inplace=True)\n",
    "\n",
    "df_100to299['GTcons'].replace('Homozygous_Reference', 0, inplace=True)\n",
    "df_100to299['GTcons'].replace('Heterozygous_Variant', 1, inplace=True)\n",
    "df_100to299['GTcons'].replace('Homozygous_Variant', 2, inplace=True)\n",
    "\n",
    "df_300to399['GTcons'].replace('Homozygous_Reference', 0, inplace=True)\n",
    "df_300to399['GTcons'].replace('Heterozygous_Variant', 1, inplace=True)\n",
    "df_300to399['GTcons'].replace('Homozygous_Variant', 2, inplace=True)\n",
    "\n",
    "df_400to499['GTcons'].replace('Homozygous_Reference', 0, inplace=True)\n",
    "df_400to499['GTcons'].replace('Heterozygous_Variant', 1, inplace=True)\n",
    "df_400to499['GTcons'].replace('Homozygous_Variant', 2, inplace=True)\n",
    "\n",
    "df_500to999['GTcons'].replace('Homozygous_Reference', 0, inplace=True)\n",
    "df_500to999['GTcons'].replace('Heterozygous_Variant', 1, inplace=True)\n",
    "df_500to999['GTcons'].replace('Homozygous_Variant', 2, inplace=True)\n",
    "\n",
    "df_1000to5999['GTcons'].replace('Homozygous_Reference', 0, inplace=True)\n",
    "df_1000to5999['GTcons'].replace('Heterozygous_Variant', 1, inplace=True)\n",
    "df_1000to5999['GTcons'].replace('Homozygous_Variant', 2, inplace=True)\n",
    "\n",
    "df_6000['GTcons'].replace('Homozygous_Reference', 0, inplace=True)\n",
    "df_6000['GTcons'].replace('Heterozygous_Variant', 1, inplace=True)\n",
    "df_6000['GTcons'].replace('Homozygous_Variant', 2, inplace=True)"
   ]
  },
  {
   "cell_type": "markdown",
   "metadata": {},
   "source": [
    "<a id='imbalance'></a>"
   ]
  },
  {
   "cell_type": "markdown",
   "metadata": {},
   "source": [
    "<a id='hom_ref'></a>"
   ]
  },
  {
   "cell_type": "code",
   "execution_count": 225,
   "metadata": {
    "collapsed": true
   },
   "outputs": [],
   "source": [
    "# Import Test Data\n",
    "df_20to49_test = pd.read_csv('/Volumes/lesleydata/RF_model_trainingData_test/size_data/test/df_20to49_test_.csv')\n",
    "df_50to99_test = pd.read_csv('/Volumes/lesleydata/RF_model_trainingData_test/size_data/test/df_50to99_test_.csv')\n",
    "df_100to299_test = pd.read_csv('/Volumes/lesleydata/RF_model_trainingData_test/size_data/test/df_100to299_test_.csv')\n",
    "df_300to399_test = pd.read_csv('/Volumes/lesleydata/RF_model_trainingData_test/size_data/test/df_300to399_test_.csv')\n",
    "df_400to499_test = pd.read_csv('/Volumes/lesleydata/RF_model_trainingData_test/size_data/test/df_400to499_test_.csv')\n",
    "df_500to999_test = pd.read_csv('/Volumes/lesleydata/RF_model_trainingData_test/size_data/test/df_500to999_test_.csv')\n",
    "df_1000to5999_test = pd.read_csv('/Volumes/lesleydata/RF_model_trainingData_test/size_data/test/df_1000to5999_test_.csv')\n",
    "df_6000_test = pd.read_csv('/Volumes/lesleydata/RF_model_trainingData_test/size_data/test/df_6000_test_.csv')"
   ]
  },
  {
   "cell_type": "code",
   "execution_count": 226,
   "metadata": {
    "collapsed": true
   },
   "outputs": [],
   "source": [
    "# Import Test Data\n",
    "df_20to49_test_ = pd.read_csv('/Volumes/lesleydata/RF_model_trainingData_test/size_data/test/df_20to49_test.csv')\n",
    "df_50to99_test_ = pd.read_csv('/Volumes/lesleydata/RF_model_trainingData_test/size_data/test/df_50to99_test.csv')\n",
    "df_100to299_test_ = pd.read_csv('/Volumes/lesleydata/RF_model_trainingData_test/size_data/test/df_100to299_test.csv')\n",
    "df_300to399_test_ = pd.read_csv('/Volumes/lesleydata/RF_model_trainingData_test/size_data/test/df_300to399_test.csv')\n",
    "df_400to499_test_ = pd.read_csv('/Volumes/lesleydata/RF_model_trainingData_test/size_data/test/df_400to499_test.csv')\n",
    "df_500to999_test_ = pd.read_csv('/Volumes/lesleydata/RF_model_trainingData_test/size_data/test/df_500to999_test.csv')\n",
    "df_1000to5999_test_ = pd.read_csv('/Volumes/lesleydata/RF_model_trainingData_test/size_data/test/df_1000to5999_test.csv')\n",
    "df_6000_test_ = pd.read_csv('/Volumes/lesleydata/RF_model_trainingData_test/size_data/test/df_6000_test.csv')"
   ]
  },
  {
   "cell_type": "code",
   "execution_count": 227,
   "metadata": {},
   "outputs": [],
   "source": [
    "df_20to49_test['GTcons'].replace('Homozygous_Reference', 0, inplace=True)\n",
    "df_20to49_test['GTcons'].replace('Heterozygous_Variant', 1, inplace=True)\n",
    "df_20to49_test['GTcons'].replace('Homozygous_Variant', 2, inplace=True)\n",
    "\n",
    "df_50to99_test['GTcons'].replace('Homozygous_Reference', 0, inplace=True)\n",
    "df_50to99_test['GTcons'].replace('Heterozygous_Variant', 1, inplace=True)\n",
    "df_50to99_test['GTcons'].replace('Homozygous_Variant', 2, inplace=True)\n",
    "\n",
    "df_100to299_test['GTcons'].replace('Homozygous_Reference', 0, inplace=True)\n",
    "df_100to299_test['GTcons'].replace('Heterozygous_Variant', 1, inplace=True)\n",
    "df_100to299_test['GTcons'].replace('Homozygous_Variant', 2, inplace=True)\n",
    "\n",
    "df_300to399_test['GTcons'].replace('Homozygous_Reference', 0, inplace=True)\n",
    "df_300to399_test['GTcons'].replace('Heterozygous_Variant', 1, inplace=True)\n",
    "df_300to399_test['GTcons'].replace('Homozygous_Variant', 2, inplace=True)\n",
    "\n",
    "df_400to499_test['GTcons'].replace('Homozygous_Reference', 0, inplace=True)\n",
    "df_400to499_test['GTcons'].replace('Heterozygous_Variant', 1, inplace=True)\n",
    "df_400to499_test['GTcons'].replace('Homozygous_Variant', 2, inplace=True)\n",
    "\n",
    "df_500to999_test['GTcons'].replace('Homozygous_Reference', 0, inplace=True)\n",
    "df_500to999_test['GTcons'].replace('Heterozygous_Variant', 1, inplace=True)\n",
    "df_500to999_test['GTcons'].replace('Homozygous_Variant', 2, inplace=True)\n",
    "\n",
    "df_1000to5999_test['GTcons'].replace('Homozygous_Reference', 0, inplace=True)\n",
    "df_1000to5999_test['GTcons'].replace('Heterozygous_Variant', 1, inplace=True)\n",
    "df_1000to5999_test['GTcons'].replace('Homozygous_Variant', 2, inplace=True)\n",
    "\n",
    "df_6000_test['GTcons'].replace('Homozygous_Reference', 0, inplace=True)\n",
    "df_6000_test['GTcons'].replace('Heterozygous_Variant', 1, inplace=True)\n",
    "df_6000_test['GTcons'].replace('Homozygous_Variant', 2, inplace=True)"
   ]
  },
  {
   "cell_type": "code",
   "execution_count": 228,
   "metadata": {
    "collapsed": true
   },
   "outputs": [],
   "source": [
    "df_20to49_test_['GTcons'].replace('Homozygous_Reference', 0, inplace=True)\n",
    "df_20to49_test_['GTcons'].replace('Heterozygous_Variant', 1, inplace=True)\n",
    "df_20to49_test_['GTcons'].replace('Homozygous_Variant', 2, inplace=True)\n",
    "\n",
    "df_50to99_test_['GTcons'].replace('Homozygous_Reference', 0, inplace=True)\n",
    "df_50to99_test_['GTcons'].replace('Heterozygous_Variant', 1, inplace=True)\n",
    "df_50to99_test_['GTcons'].replace('Homozygous_Variant', 2, inplace=True)\n",
    "\n",
    "df_100to299_test_['GTcons'].replace('Homozygous_Reference', 0, inplace=True)\n",
    "df_100to299_test_['GTcons'].replace('Heterozygous_Variant', 1, inplace=True)\n",
    "df_100to299_test_['GTcons'].replace('Homozygous_Variant', 2, inplace=True)\n",
    "\n",
    "df_300to399_test_['GTcons'].replace('Homozygous_Reference', 0, inplace=True)\n",
    "df_300to399_test_['GTcons'].replace('Heterozygous_Variant', 1, inplace=True)\n",
    "df_300to399_test_['GTcons'].replace('Homozygous_Variant', 2, inplace=True)\n",
    "\n",
    "df_400to499_test_['GTcons'].replace('Homozygous_Reference', 0, inplace=True)\n",
    "df_400to499_test_['GTcons'].replace('Heterozygous_Variant', 1, inplace=True)\n",
    "df_400to499_test_['GTcons'].replace('Homozygous_Variant', 2, inplace=True)\n",
    "\n",
    "df_500to999_test_['GTcons'].replace('Homozygous_Reference', 0, inplace=True)\n",
    "df_500to999_test_['GTcons'].replace('Heterozygous_Variant', 1, inplace=True)\n",
    "df_500to999_test_['GTcons'].replace('Homozygous_Variant', 2, inplace=True)\n",
    "\n",
    "df_1000to5999_test_['GTcons'].replace('Homozygous_Reference', 0, inplace=True)\n",
    "df_1000to5999_test_['GTcons'].replace('Heterozygous_Variant', 1, inplace=True)\n",
    "df_1000to5999_test_['GTcons'].replace('Homozygous_Variant', 2, inplace=True)\n",
    "\n",
    "df_6000_test_['GTcons'].replace('Homozygous_Reference', 0, inplace=True)\n",
    "df_6000_test_['GTcons'].replace('Heterozygous_Variant', 1, inplace=True)\n",
    "df_6000_test_['GTcons'].replace('Homozygous_Variant', 2, inplace=True)"
   ]
  },
  {
   "cell_type": "code",
   "execution_count": 9,
   "metadata": {
    "collapsed": true
   },
   "outputs": [],
   "source": [
    "# # Store header names in lists and find names that are NOT contained in BOTH lists\n",
    "# c = list(df_train.columns.values)\n",
    "# d = list(df_test.columns.values)\n",
    "# set(d) - set(c)"
   ]
  },
  {
   "cell_type": "markdown",
   "metadata": {},
   "source": [
    "***\n",
    "EDA\n",
    "\n",
    "Size distribution of sampled data set [all size datasets pooled]\n",
    "***"
   ]
  },
  {
   "cell_type": "code",
   "execution_count": 10,
   "metadata": {
    "collapsed": true
   },
   "outputs": [],
   "source": [
    "# df_train = pd.read_csv('/Volumes/lesleydata/RF_model_trainingData_test/train/random_sample_SizeBins_szwt_train.csv')\n",
    "# df_test = pd.read_csv('/Volumes/lesleydata/RF_model_trainingData_test/test/random_sample_SizeBins_szwt_test.csv')"
   ]
  },
  {
   "cell_type": "code",
   "execution_count": 11,
   "metadata": {
    "collapsed": true
   },
   "outputs": [],
   "source": [
    "# df_train['Size'].abs()\n",
    "# df_test['Size'].abs()\n",
    "# df_test = df_test[df_test['Size'] >= 20]\n",
    "\n",
    "# df_train['log_size'] = np.log10(df_train.Size)\n",
    "# df_test['log_size'] = np.log10(df_test.Size)"
   ]
  },
  {
   "cell_type": "code",
   "execution_count": 12,
   "metadata": {
    "collapsed": true
   },
   "outputs": [],
   "source": [
    "# sns.set_style(\"white\")\n",
    "# p = df_train['log_size'].hist(alpha = 0.5, bins = 30, edgecolor='black', label='hom_var')\n",
    "# p.grid(False)\n",
    "# p.set_xlabel('Size[log10]')\n",
    "# p.set_ylabel('Frequency')\n",
    "# p.set_title('Training Set')\n",
    "# # plt.savefig('/Volumes/lesleydata/RF_model_trainingData_test/size_data/results/figures/SizeDist_training.png', bbox_inches='tight') "
   ]
  },
  {
   "cell_type": "code",
   "execution_count": 13,
   "metadata": {
    "collapsed": true
   },
   "outputs": [],
   "source": [
    "# sns.set_style(\"white\")\n",
    "# p = df_test['log_size'].hist(alpha = 0.5, bins = 30, edgecolor='black', label='hom_var')\n",
    "# p.grid(False)\n",
    "# p.set_xlabel('Size[log10]')\n",
    "# p.set_ylabel('Frequency')\n",
    "# p.set_title('Test Set')\n",
    "# plt.savefig('/Volumes/lesleydata/RF_model_trainingData_test/size_data/results/figures/SizeDist_test.png', bbox_inches='tight') "
   ]
  },
  {
   "cell_type": "markdown",
   "metadata": {},
   "source": [
    "***\n",
    "**50-99bp**\n",
    "***"
   ]
  },
  {
   "cell_type": "markdown",
   "metadata": {},
   "source": [
    "***\n",
    "Impute missing values using KNN\n",
    "***"
   ]
  },
  {
   "cell_type": "code",
   "execution_count": 14,
   "metadata": {},
   "outputs": [
    {
     "data": {
      "text/html": [
       "<div>\n",
       "<table border=\"1\" class=\"dataframe\">\n",
       "  <thead>\n",
       "    <tr style=\"text-align: right;\">\n",
       "      <th></th>\n",
       "      <th>GTcons</th>\n",
       "      <th>Ill250.alt_alnScore_mean</th>\n",
       "      <th>Ill250.alt_alnScore_std</th>\n",
       "      <th>Ill250.alt_count</th>\n",
       "      <th>Ill250.alt_insertSize_mean</th>\n",
       "      <th>Ill250.alt_insertSize_std</th>\n",
       "      <th>Ill250.alt_reason_alignmentScore</th>\n",
       "      <th>Ill250.alt_reason_insertSizeScore</th>\n",
       "      <th>Ill250.alt_reason_orientation</th>\n",
       "      <th>Ill250.amb_alnScore_mean</th>\n",
       "      <th>...</th>\n",
       "      <th>pacbio.ref_insertSize_mean</th>\n",
       "      <th>pacbio.ref_insertSize_std</th>\n",
       "      <th>pacbio.ref_reason_alignmentScore</th>\n",
       "      <th>refN_cnt</th>\n",
       "      <th>refN_pct</th>\n",
       "      <th>segdup_cnt</th>\n",
       "      <th>segdup_pct</th>\n",
       "      <th>start</th>\n",
       "      <th>tandemrep_cnt</th>\n",
       "      <th>tandemrep_pct</th>\n",
       "    </tr>\n",
       "  </thead>\n",
       "  <tbody>\n",
       "    <tr>\n",
       "      <th>0</th>\n",
       "      <td>1</td>\n",
       "      <td>981.787879</td>\n",
       "      <td>9.308704</td>\n",
       "      <td>33.0</td>\n",
       "      <td>471.848485</td>\n",
       "      <td>85.718398</td>\n",
       "      <td>33.0</td>\n",
       "      <td>0.0</td>\n",
       "      <td>0.0</td>\n",
       "      <td>867.821229</td>\n",
       "      <td>...</td>\n",
       "      <td>11822.66667</td>\n",
       "      <td>5734.492150</td>\n",
       "      <td>3.0</td>\n",
       "      <td>0</td>\n",
       "      <td>0</td>\n",
       "      <td>0</td>\n",
       "      <td>0.000000</td>\n",
       "      <td>210706592</td>\n",
       "      <td>1</td>\n",
       "      <td>1.00000</td>\n",
       "    </tr>\n",
       "    <tr>\n",
       "      <th>1</th>\n",
       "      <td>0</td>\n",
       "      <td>0.000000</td>\n",
       "      <td>0.000000</td>\n",
       "      <td>0.0</td>\n",
       "      <td>0.000000</td>\n",
       "      <td>0.000000</td>\n",
       "      <td>0.0</td>\n",
       "      <td>0.0</td>\n",
       "      <td>0.0</td>\n",
       "      <td>884.718085</td>\n",
       "      <td>...</td>\n",
       "      <td>9228.06250</td>\n",
       "      <td>4608.919233</td>\n",
       "      <td>32.0</td>\n",
       "      <td>0</td>\n",
       "      <td>0</td>\n",
       "      <td>0</td>\n",
       "      <td>0.000000</td>\n",
       "      <td>98438243</td>\n",
       "      <td>1</td>\n",
       "      <td>1.00000</td>\n",
       "    </tr>\n",
       "    <tr>\n",
       "      <th>2</th>\n",
       "      <td>1</td>\n",
       "      <td>987.828829</td>\n",
       "      <td>17.550891</td>\n",
       "      <td>111.0</td>\n",
       "      <td>444.549550</td>\n",
       "      <td>77.353027</td>\n",
       "      <td>111.0</td>\n",
       "      <td>0.0</td>\n",
       "      <td>0.0</td>\n",
       "      <td>915.625360</td>\n",
       "      <td>...</td>\n",
       "      <td>5051.00000</td>\n",
       "      <td>4251.000000</td>\n",
       "      <td>2.0</td>\n",
       "      <td>0</td>\n",
       "      <td>0</td>\n",
       "      <td>1</td>\n",
       "      <td>0.081025</td>\n",
       "      <td>9045127</td>\n",
       "      <td>5</td>\n",
       "      <td>0.11327</td>\n",
       "    </tr>\n",
       "  </tbody>\n",
       "</table>\n",
       "<p>3 rows × 177 columns</p>\n",
       "</div>"
      ],
      "text/plain": [
       "   GTcons  Ill250.alt_alnScore_mean  Ill250.alt_alnScore_std  \\\n",
       "0       1                981.787879                 9.308704   \n",
       "1       0                  0.000000                 0.000000   \n",
       "2       1                987.828829                17.550891   \n",
       "\n",
       "   Ill250.alt_count  Ill250.alt_insertSize_mean  Ill250.alt_insertSize_std  \\\n",
       "0              33.0                  471.848485                  85.718398   \n",
       "1               0.0                    0.000000                   0.000000   \n",
       "2             111.0                  444.549550                  77.353027   \n",
       "\n",
       "   Ill250.alt_reason_alignmentScore  Ill250.alt_reason_insertSizeScore  \\\n",
       "0                              33.0                                0.0   \n",
       "1                               0.0                                0.0   \n",
       "2                             111.0                                0.0   \n",
       "\n",
       "   Ill250.alt_reason_orientation  Ill250.amb_alnScore_mean      ...        \\\n",
       "0                            0.0                867.821229      ...         \n",
       "1                            0.0                884.718085      ...         \n",
       "2                            0.0                915.625360      ...         \n",
       "\n",
       "   pacbio.ref_insertSize_mean  pacbio.ref_insertSize_std  \\\n",
       "0                 11822.66667                5734.492150   \n",
       "1                  9228.06250                4608.919233   \n",
       "2                  5051.00000                4251.000000   \n",
       "\n",
       "   pacbio.ref_reason_alignmentScore  refN_cnt  refN_pct  segdup_cnt  \\\n",
       "0                               3.0         0         0           0   \n",
       "1                              32.0         0         0           0   \n",
       "2                               2.0         0         0           1   \n",
       "\n",
       "   segdup_pct      start  tandemrep_cnt  tandemrep_pct  \n",
       "0    0.000000  210706592              1        1.00000  \n",
       "1    0.000000   98438243              1        1.00000  \n",
       "2    0.081025    9045127              5        0.11327  \n",
       "\n",
       "[3 rows x 177 columns]"
      ]
     },
     "execution_count": 14,
     "metadata": {},
     "output_type": "execute_result"
    }
   ],
   "source": [
    "# Store training data in a new variable which will be converted to a matrix\n",
    "X = df_100to299\n",
    "X.head(3)"
   ]
  },
  {
   "cell_type": "code",
   "execution_count": 15,
   "metadata": {},
   "outputs": [
    {
     "name": "stdout",
     "output_type": "stream",
     "text": [
      "Imputing row 1/261 with 1 missing, elapsed time: 0.065\n",
      "Imputing row 101/261 with 1 missing, elapsed time: 0.115\n",
      "Imputing row 201/261 with 1 missing, elapsed time: 0.125\n"
     ]
    }
   ],
   "source": [
    "# Convert dataframe to matrix\n",
    "X=X.as_matrix()\n",
    "\n",
    "#Imput missing values from three closest observations\n",
    "X_imputed=KNN(k=3).complete(X)\n",
    "X=pd.DataFrame(X_imputed)"
   ]
  },
  {
   "cell_type": "code",
   "execution_count": 16,
   "metadata": {},
   "outputs": [
    {
     "data": {
      "text/html": [
       "<div>\n",
       "<table border=\"1\" class=\"dataframe\">\n",
       "  <thead>\n",
       "    <tr style=\"text-align: right;\">\n",
       "      <th></th>\n",
       "      <th>GTcons</th>\n",
       "      <th>Ill250.alt_alnScore_mean</th>\n",
       "      <th>Ill250.alt_alnScore_std</th>\n",
       "      <th>Ill250.alt_count</th>\n",
       "      <th>Ill250.alt_insertSize_mean</th>\n",
       "      <th>Ill250.alt_insertSize_std</th>\n",
       "      <th>Ill250.alt_reason_alignmentScore</th>\n",
       "      <th>Ill250.alt_reason_insertSizeScore</th>\n",
       "      <th>Ill250.alt_reason_orientation</th>\n",
       "      <th>Ill250.amb_alnScore_mean</th>\n",
       "      <th>...</th>\n",
       "      <th>pacbio.ref_insertSize_mean</th>\n",
       "      <th>pacbio.ref_insertSize_std</th>\n",
       "      <th>pacbio.ref_reason_alignmentScore</th>\n",
       "      <th>refN_cnt</th>\n",
       "      <th>refN_pct</th>\n",
       "      <th>segdup_cnt</th>\n",
       "      <th>segdup_pct</th>\n",
       "      <th>start</th>\n",
       "      <th>tandemrep_cnt</th>\n",
       "      <th>tandemrep_pct</th>\n",
       "    </tr>\n",
       "  </thead>\n",
       "  <tbody>\n",
       "    <tr>\n",
       "      <th>0</th>\n",
       "      <td>1.0</td>\n",
       "      <td>981.787879</td>\n",
       "      <td>9.308704</td>\n",
       "      <td>33.0</td>\n",
       "      <td>471.848485</td>\n",
       "      <td>85.718398</td>\n",
       "      <td>33.0</td>\n",
       "      <td>0.0</td>\n",
       "      <td>0.0</td>\n",
       "      <td>867.821229</td>\n",
       "      <td>...</td>\n",
       "      <td>11822.66667</td>\n",
       "      <td>5734.492150</td>\n",
       "      <td>3.0</td>\n",
       "      <td>0.0</td>\n",
       "      <td>0.0</td>\n",
       "      <td>0.0</td>\n",
       "      <td>0.000000</td>\n",
       "      <td>210706592.0</td>\n",
       "      <td>1.0</td>\n",
       "      <td>1.00000</td>\n",
       "    </tr>\n",
       "    <tr>\n",
       "      <th>1</th>\n",
       "      <td>0.0</td>\n",
       "      <td>0.000000</td>\n",
       "      <td>0.000000</td>\n",
       "      <td>0.0</td>\n",
       "      <td>0.000000</td>\n",
       "      <td>0.000000</td>\n",
       "      <td>0.0</td>\n",
       "      <td>0.0</td>\n",
       "      <td>0.0</td>\n",
       "      <td>884.718085</td>\n",
       "      <td>...</td>\n",
       "      <td>9228.06250</td>\n",
       "      <td>4608.919233</td>\n",
       "      <td>32.0</td>\n",
       "      <td>0.0</td>\n",
       "      <td>0.0</td>\n",
       "      <td>0.0</td>\n",
       "      <td>0.000000</td>\n",
       "      <td>98438243.0</td>\n",
       "      <td>1.0</td>\n",
       "      <td>1.00000</td>\n",
       "    </tr>\n",
       "    <tr>\n",
       "      <th>2</th>\n",
       "      <td>1.0</td>\n",
       "      <td>987.828829</td>\n",
       "      <td>17.550891</td>\n",
       "      <td>111.0</td>\n",
       "      <td>444.549550</td>\n",
       "      <td>77.353027</td>\n",
       "      <td>111.0</td>\n",
       "      <td>0.0</td>\n",
       "      <td>0.0</td>\n",
       "      <td>915.625360</td>\n",
       "      <td>...</td>\n",
       "      <td>5051.00000</td>\n",
       "      <td>4251.000000</td>\n",
       "      <td>2.0</td>\n",
       "      <td>0.0</td>\n",
       "      <td>0.0</td>\n",
       "      <td>1.0</td>\n",
       "      <td>0.081025</td>\n",
       "      <td>9045127.0</td>\n",
       "      <td>5.0</td>\n",
       "      <td>0.11327</td>\n",
       "    </tr>\n",
       "  </tbody>\n",
       "</table>\n",
       "<p>3 rows × 177 columns</p>\n",
       "</div>"
      ],
      "text/plain": [
       "   GTcons  Ill250.alt_alnScore_mean  Ill250.alt_alnScore_std  \\\n",
       "0     1.0                981.787879                 9.308704   \n",
       "1     0.0                  0.000000                 0.000000   \n",
       "2     1.0                987.828829                17.550891   \n",
       "\n",
       "   Ill250.alt_count  Ill250.alt_insertSize_mean  Ill250.alt_insertSize_std  \\\n",
       "0              33.0                  471.848485                  85.718398   \n",
       "1               0.0                    0.000000                   0.000000   \n",
       "2             111.0                  444.549550                  77.353027   \n",
       "\n",
       "   Ill250.alt_reason_alignmentScore  Ill250.alt_reason_insertSizeScore  \\\n",
       "0                              33.0                                0.0   \n",
       "1                               0.0                                0.0   \n",
       "2                             111.0                                0.0   \n",
       "\n",
       "   Ill250.alt_reason_orientation  Ill250.amb_alnScore_mean      ...        \\\n",
       "0                            0.0                867.821229      ...         \n",
       "1                            0.0                884.718085      ...         \n",
       "2                            0.0                915.625360      ...         \n",
       "\n",
       "   pacbio.ref_insertSize_mean  pacbio.ref_insertSize_std  \\\n",
       "0                 11822.66667                5734.492150   \n",
       "1                  9228.06250                4608.919233   \n",
       "2                  5051.00000                4251.000000   \n",
       "\n",
       "   pacbio.ref_reason_alignmentScore  refN_cnt  refN_pct  segdup_cnt  \\\n",
       "0                               3.0       0.0       0.0         0.0   \n",
       "1                              32.0       0.0       0.0         0.0   \n",
       "2                               2.0       0.0       0.0         1.0   \n",
       "\n",
       "   segdup_pct        start  tandemrep_cnt  tandemrep_pct  \n",
       "0    0.000000  210706592.0            1.0        1.00000  \n",
       "1    0.000000   98438243.0            1.0        1.00000  \n",
       "2    0.081025    9045127.0            5.0        0.11327  \n",
       "\n",
       "[3 rows x 177 columns]"
      ]
     },
     "execution_count": 16,
     "metadata": {},
     "output_type": "execute_result"
    }
   ],
   "source": [
    "# Store header values in a list, will be used later to re-label the matrix post KNN imputation\n",
    "df_100to299_header = list(df_100to299.columns.values)\n",
    "X.columns = df_100to299_header\n",
    "X.head(3)"
   ]
  },
  {
   "cell_type": "code",
   "execution_count": 17,
   "metadata": {
    "collapsed": true
   },
   "outputs": [],
   "source": [
    "# Store Labels in a new 'Y' DataFrame\n",
    "Y = pd.DataFrame()\n",
    "Y = X['GTcons']"
   ]
  },
  {
   "cell_type": "code",
   "execution_count": 18,
   "metadata": {},
   "outputs": [
    {
     "data": {
      "text/plain": [
       "1.0    108\n",
       "0.0    110\n",
       "2.0     43\n",
       "dtype: int64"
      ]
     },
     "execution_count": 18,
     "metadata": {},
     "output_type": "execute_result"
    }
   ],
   "source": [
    "#Count the number of labels\n",
    "pd.value_counts(Y.values, sort=False)"
   ]
  },
  {
   "cell_type": "code",
   "execution_count": 19,
   "metadata": {
    "collapsed": true
   },
   "outputs": [],
   "source": [
    "# Remove labels from feature set\n",
    "X.drop(['GTcons'],axis=1, inplace = True)"
   ]
  },
  {
   "cell_type": "code",
   "execution_count": 20,
   "metadata": {
    "collapsed": true
   },
   "outputs": [],
   "source": [
    "# Order features\n",
    "X4 = X.reindex_axis(sorted(X.columns), axis=1)"
   ]
  },
  {
   "cell_type": "markdown",
   "metadata": {},
   "source": [
    "***\n",
    "Machine Learning\n",
    "***"
   ]
  },
  {
   "cell_type": "markdown",
   "metadata": {},
   "source": [
    "<a id='machine_learning'></a>"
   ]
  },
  {
   "cell_type": "markdown",
   "metadata": {},
   "source": [
    "** Train Random Forest Classifier **"
   ]
  },
  {
   "cell_type": "markdown",
   "metadata": {},
   "source": [
    "<a id='multi_run'></a>"
   ]
  },
  {
   "cell_type": "markdown",
   "metadata": {},
   "source": [
    "** Determine Number of trees: Out of Bag Error **"
   ]
  },
  {
   "cell_type": "code",
   "execution_count": 21,
   "metadata": {
    "collapsed": true
   },
   "outputs": [],
   "source": [
    "# Train Test Split\n",
    "# Train on 70% of the data and test on 30%\n",
    "X_train, X_test, y_train, y_test = train_test_split(X4, Y, test_size=0.3)"
   ]
  },
  {
   "cell_type": "code",
   "execution_count": 22,
   "metadata": {},
   "outputs": [
    {
     "name": "stderr",
     "output_type": "stream",
     "text": [
      "/Users/lmc2/anaconda/envs/NIHFAES/lib/python3.5/site-packages/sklearn/ensemble/forest.py:453: UserWarning:\n",
      "\n",
      "Some inputs do not have OOB scores. This probably means too few trees were used to compute any reliable oob estimates.\n",
      "\n"
     ]
    },
    {
     "data": {
      "text/plain": [
       "RandomForestClassifier(bootstrap=True, class_weight='balanced',\n",
       "            criterion='gini', max_depth=None, max_features='auto',\n",
       "            max_leaf_nodes=None, min_impurity_decrease=0.0,\n",
       "            min_impurity_split=None, min_samples_leaf=1,\n",
       "            min_samples_split=2, min_weight_fraction_leaf=0.0,\n",
       "            n_estimators=10, n_jobs=1, oob_score=True, random_state=None,\n",
       "            verbose=0, warm_start=False)"
      ]
     },
     "execution_count": 22,
     "metadata": {},
     "output_type": "execute_result"
    }
   ],
   "source": [
    "model = RandomForestClassifier(oob_score=True, class_weight='balanced') \n",
    "model.fit(X_train, y_train)"
   ]
  },
  {
   "cell_type": "markdown",
   "metadata": {},
   "source": [
    "**NOTE :** \n",
    "\n",
    "Determined OOB score based on 70% of the training data"
   ]
  },
  {
   "cell_type": "code",
   "execution_count": 23,
   "metadata": {},
   "outputs": [
    {
     "name": "stderr",
     "output_type": "stream",
     "text": [
      "/Users/lmc2/anaconda/envs/NIHFAES/lib/python3.5/site-packages/sklearn/ensemble/forest.py:453: UserWarning:\n",
      "\n",
      "Some inputs do not have OOB scores. This probably means too few trees were used to compute any reliable oob estimates.\n",
      "\n",
      "/Users/lmc2/anaconda/envs/NIHFAES/lib/python3.5/site-packages/sklearn/ensemble/forest.py:453: UserWarning:\n",
      "\n",
      "Some inputs do not have OOB scores. This probably means too few trees were used to compute any reliable oob estimates.\n",
      "\n",
      "/Users/lmc2/anaconda/envs/NIHFAES/lib/python3.5/site-packages/sklearn/ensemble/forest.py:453: UserWarning:\n",
      "\n",
      "Some inputs do not have OOB scores. This probably means too few trees were used to compute any reliable oob estimates.\n",
      "\n",
      "/Users/lmc2/anaconda/envs/NIHFAES/lib/python3.5/site-packages/sklearn/ensemble/forest.py:453: UserWarning:\n",
      "\n",
      "Some inputs do not have OOB scores. This probably means too few trees were used to compute any reliable oob estimates.\n",
      "\n",
      "/Users/lmc2/anaconda/envs/NIHFAES/lib/python3.5/site-packages/sklearn/ensemble/forest.py:453: UserWarning:\n",
      "\n",
      "Some inputs do not have OOB scores. This probably means too few trees were used to compute any reliable oob estimates.\n",
      "\n",
      "/Users/lmc2/anaconda/envs/NIHFAES/lib/python3.5/site-packages/sklearn/ensemble/forest.py:453: UserWarning:\n",
      "\n",
      "Some inputs do not have OOB scores. This probably means too few trees were used to compute any reliable oob estimates.\n",
      "\n",
      "/Users/lmc2/anaconda/envs/NIHFAES/lib/python3.5/site-packages/sklearn/ensemble/forest.py:453: UserWarning:\n",
      "\n",
      "Some inputs do not have OOB scores. This probably means too few trees were used to compute any reliable oob estimates.\n",
      "\n",
      "/Users/lmc2/anaconda/envs/NIHFAES/lib/python3.5/site-packages/sklearn/ensemble/forest.py:453: UserWarning:\n",
      "\n",
      "Some inputs do not have OOB scores. This probably means too few trees were used to compute any reliable oob estimates.\n",
      "\n",
      "/Users/lmc2/anaconda/envs/NIHFAES/lib/python3.5/site-packages/sklearn/ensemble/forest.py:453: UserWarning:\n",
      "\n",
      "Some inputs do not have OOB scores. This probably means too few trees were used to compute any reliable oob estimates.\n",
      "\n",
      "/Users/lmc2/anaconda/envs/NIHFAES/lib/python3.5/site-packages/sklearn/ensemble/forest.py:453: UserWarning:\n",
      "\n",
      "Some inputs do not have OOB scores. This probably means too few trees were used to compute any reliable oob estimates.\n",
      "\n",
      "/Users/lmc2/anaconda/envs/NIHFAES/lib/python3.5/site-packages/sklearn/ensemble/forest.py:453: UserWarning:\n",
      "\n",
      "Some inputs do not have OOB scores. This probably means too few trees were used to compute any reliable oob estimates.\n",
      "\n"
     ]
    }
   ],
   "source": [
    "n_estimators = 50\n",
    "trees = []\n",
    "oob = []\n",
    "for i in range(1, n_estimators):\n",
    "    model.set_params(n_estimators=i)\n",
    "    model.fit(X_train, y_train)\n",
    "    trees += [i]\n",
    "    oob += [model.oob_score_] "
   ]
  },
  {
   "cell_type": "code",
   "execution_count": 24,
   "metadata": {},
   "outputs": [
    {
     "name": "stderr",
     "output_type": "stream",
     "text": [
      "/Users/lmc2/anaconda/envs/NIHFAES/lib/python3.5/site-packages/matplotlib/axes/_axes.py:545: UserWarning:\n",
      "\n",
      "No labelled objects found. Use label='...' kwarg on individual plots.\n",
      "\n"
     ]
    }
   ],
   "source": [
    "df_oob = pd.DataFrame()\n",
    "df_oob['trees'] = trees\n",
    "df_oob['oob'] = oob\n",
    "\n",
    "ax = plt.plot(trees, oob)\n",
    "sns.set_style(\"white\")\n",
    "plt.xlabel(\"Number of Trees [n_estimators]\")\n",
    "plt.ylabel(\"OOB error rate\")\n",
    "plt.legend(loc=\"upper right\")\n",
    "plt.savefig('/Volumes/lesleydata/RF_model_trainingData_test/size_data/results/figures/100to299/100-299bp_OOB.png', bbox_inches='tight')\n",
    "#plt.show()"
   ]
  },
  {
   "cell_type": "markdown",
   "metadata": {},
   "source": [
    "** Train Model Using Optimal Tuning Parameters**"
   ]
  },
  {
   "cell_type": "code",
   "execution_count": 25,
   "metadata": {},
   "outputs": [
    {
     "data": {
      "text/plain": [
       "RandomForestClassifier(bootstrap=True, class_weight='balanced',\n",
       "            criterion='gini', max_depth=None, max_features='auto',\n",
       "            max_leaf_nodes=None, min_impurity_decrease=0.0,\n",
       "            min_impurity_split=None, min_samples_leaf=1,\n",
       "            min_samples_split=2, min_weight_fraction_leaf=0.0,\n",
       "            n_estimators=12, n_jobs=1, oob_score=False, random_state=4,\n",
       "            verbose=0, warm_start=False)"
      ]
     },
     "execution_count": 25,
     "metadata": {},
     "output_type": "execute_result"
    }
   ],
   "source": [
    "model = RandomForestClassifier(n_estimators=12, random_state=4, class_weight=\"balanced\") \n",
    "model.fit(X_train, y_train)"
   ]
  },
  {
   "cell_type": "markdown",
   "metadata": {},
   "source": [
    "[Another Resource](https://stackoverflow.com/questions/37877542/how-to-label-the-feature-importance-with-forests-of-trees)"
   ]
  },
  {
   "cell_type": "code",
   "execution_count": 26,
   "metadata": {
    "collapsed": true
   },
   "outputs": [],
   "source": [
    "feature_importances = pd.Series(model.feature_importances_, index=X_train.columns)"
   ]
  },
  {
   "cell_type": "markdown",
   "metadata": {},
   "source": [
    "<a id='100_trees'></a>"
   ]
  },
  {
   "cell_type": "code",
   "execution_count": 27,
   "metadata": {
    "scrolled": true
   },
   "outputs": [
    {
     "name": "stderr",
     "output_type": "stream",
     "text": [
      "/Users/lmc2/anaconda/envs/NIHFAES/lib/python3.5/site-packages/ipykernel/__main__.py:3: FutureWarning:\n",
      "\n",
      "sort is deprecated, use sort_values(inplace=True) for INPLACE sorting\n",
      "\n"
     ]
    }
   ],
   "source": [
    "# # %matplotlib inline\n",
    "feature_importances = pd.Series(model.feature_importances_, index=X_train.columns)\n",
    "feature_importances.sort()\n",
    "feature_importances.plot(kind=\"barh\", figsize=(8,30))\n",
    "plt.savefig('/Volumes/lesleydata/RF_model_trainingData_test/size_data/results/figures/100to299/df_100to299_featureImportance.png', bbox_inches='tight')\n",
    "# plt.show()"
   ]
  },
  {
   "cell_type": "code",
   "execution_count": 28,
   "metadata": {
    "collapsed": true
   },
   "outputs": [],
   "source": [
    "feature_importances.to_csv('/Volumes/lesleydata/RF_model_trainingData_test/size_data/results/figures/100to299/100to299_feature_importance.csv')"
   ]
  },
  {
   "cell_type": "code",
   "execution_count": 29,
   "metadata": {
    "collapsed": true
   },
   "outputs": [],
   "source": [
    "X_ = X4[['pacbio.alt_reason_alignmentScore','pacbio.ref_alnScore_std','pacbio.ref_insertSize_std','Ill250.alt_insertSize_mean','pacbio.ref_reason_alignmentScore','pacbio.alt_alnScore_std','Ill300x.alt_count','Ill250.alt_alnScore_std','IllMP.ref_count','Ill300x.ref_count','pacbio.ref_insertSize_mean','pacbio.alt_insertSize_mean','TenX.HP2_alt_count','IllMP.alt_reason_alignmentScore','Ill250.alt_alnScore_mean','TenX.HP2_alt_insertSize_mean','Ill250.ref_insertSize_std','pacbio.alt_count','TenX.HP1_alt_reason_alignmentScore','Ill250.alt_count','TenX.HP1_amb_alnScore_std','TenX.HP2_amb_alnScore_std','Ill250.alt_insertSize_std','Ill250.alt_reason_alignmentScore','pacbio.ref_count']]"
   ]
  },
  {
   "cell_type": "code",
   "execution_count": 30,
   "metadata": {},
   "outputs": [],
   "source": [
    "plt.figure(figsize=(15, 12))\n",
    "sns.heatmap(X_.corr(), annot=True, fmt=\".2f\")\n",
    "plt.xticks(rotation='vertical')\n",
    "plt.yticks(rotation='horizontal')\n",
    "# plt.figure(figsize=(18, 18))\n",
    "# plt.show()\n",
    "plt.savefig('/Volumes/lesleydata/RF_model_trainingData_test/size_data/results/figures/100to299/df_100to299_heatmap.png', bbox_inches='tight')"
   ]
  },
  {
   "cell_type": "code",
   "execution_count": 31,
   "metadata": {},
   "outputs": [
    {
     "data": {
      "text/plain": [
       "0.0    73\n",
       "1.0    79\n",
       "2.0    30\n",
       "dtype: int64"
      ]
     },
     "execution_count": 31,
     "metadata": {},
     "output_type": "execute_result"
    }
   ],
   "source": [
    "#NOTE: Training Set - Show number of Hom Ref, Hom Var, Het Var datapoints the model was trained on\n",
    "ytrain = pd.DataFrame()\n",
    "ytrain['ytrain'] = y_train\n",
    "pd.value_counts(ytrain['ytrain'].values, sort=False)"
   ]
  },
  {
   "cell_type": "markdown",
   "metadata": {},
   "source": [
    "<a id='prediction_step'></a>"
   ]
  },
  {
   "cell_type": "code",
   "execution_count": 32,
   "metadata": {
    "collapsed": true
   },
   "outputs": [],
   "source": [
    "pred = model.predict(X_test)"
   ]
  },
  {
   "cell_type": "markdown",
   "metadata": {},
   "source": [
    "<a id='traintest_precision'></a>"
   ]
  },
  {
   "cell_type": "code",
   "execution_count": 33,
   "metadata": {},
   "outputs": [
    {
     "name": "stdout",
     "output_type": "stream",
     "text": [
      "Precision score of the training subset: 0.949\n"
     ]
    }
   ],
   "source": [
    "print('Precision score of the training subset: {:.3f}'.format(precision_score(y_test, pred, average='micro'))) "
   ]
  },
  {
   "cell_type": "code",
   "execution_count": 34,
   "metadata": {},
   "outputs": [
    {
     "name": "stdout",
     "output_type": "stream",
     "text": [
      "Accuracy score of the training subset: 0.949\n"
     ]
    }
   ],
   "source": [
    "from sklearn.metrics import accuracy_score\n",
    "print('Accuracy score of the training subset: {:.3f}'.format(accuracy_score(y_test, pred))) "
   ]
  },
  {
   "cell_type": "code",
   "execution_count": 35,
   "metadata": {},
   "outputs": [
    {
     "data": {
      "text/html": [
       "<div>\n",
       "<table border=\"1\" class=\"dataframe\">\n",
       "  <thead>\n",
       "    <tr style=\"text-align: right;\">\n",
       "      <th></th>\n",
       "      <th>Ill250.alt_alnScore_mean</th>\n",
       "      <th>Ill250.alt_alnScore_std</th>\n",
       "      <th>Ill250.alt_count</th>\n",
       "      <th>Ill250.alt_insertSize_mean</th>\n",
       "      <th>Ill250.alt_insertSize_std</th>\n",
       "      <th>Ill250.alt_reason_alignmentScore</th>\n",
       "      <th>Ill250.alt_reason_insertSizeScore</th>\n",
       "      <th>Ill250.alt_reason_orientation</th>\n",
       "      <th>Ill250.amb_alnScore_mean</th>\n",
       "      <th>Ill250.amb_alnScore_std</th>\n",
       "      <th>...</th>\n",
       "      <th>pacbio.ref_insertSize_mean</th>\n",
       "      <th>pacbio.ref_insertSize_std</th>\n",
       "      <th>pacbio.ref_reason_alignmentScore</th>\n",
       "      <th>refN_cnt</th>\n",
       "      <th>refN_pct</th>\n",
       "      <th>segdup_cnt</th>\n",
       "      <th>segdup_pct</th>\n",
       "      <th>start</th>\n",
       "      <th>tandemrep_cnt</th>\n",
       "      <th>tandemrep_pct</th>\n",
       "    </tr>\n",
       "  </thead>\n",
       "  <tbody>\n",
       "    <tr>\n",
       "      <th>246</th>\n",
       "      <td>943.840000</td>\n",
       "      <td>35.535537</td>\n",
       "      <td>25.0</td>\n",
       "      <td>416.560000</td>\n",
       "      <td>94.600245</td>\n",
       "      <td>25.0</td>\n",
       "      <td>0.0</td>\n",
       "      <td>0.0</td>\n",
       "      <td>832.514970</td>\n",
       "      <td>160.470821</td>\n",
       "      <td>...</td>\n",
       "      <td>0.00000</td>\n",
       "      <td>0.000000</td>\n",
       "      <td>0.0</td>\n",
       "      <td>0.0</td>\n",
       "      <td>0.0</td>\n",
       "      <td>0.0</td>\n",
       "      <td>0.0</td>\n",
       "      <td>27935358.0</td>\n",
       "      <td>1.0</td>\n",
       "      <td>1.0</td>\n",
       "    </tr>\n",
       "    <tr>\n",
       "      <th>56</th>\n",
       "      <td>977.370968</td>\n",
       "      <td>20.065404</td>\n",
       "      <td>62.0</td>\n",
       "      <td>461.467742</td>\n",
       "      <td>92.003807</td>\n",
       "      <td>56.0</td>\n",
       "      <td>6.0</td>\n",
       "      <td>0.0</td>\n",
       "      <td>887.350785</td>\n",
       "      <td>148.388261</td>\n",
       "      <td>...</td>\n",
       "      <td>4976.50000</td>\n",
       "      <td>2109.500000</td>\n",
       "      <td>2.0</td>\n",
       "      <td>0.0</td>\n",
       "      <td>0.0</td>\n",
       "      <td>0.0</td>\n",
       "      <td>0.0</td>\n",
       "      <td>94657363.0</td>\n",
       "      <td>0.0</td>\n",
       "      <td>0.0</td>\n",
       "    </tr>\n",
       "    <tr>\n",
       "      <th>128</th>\n",
       "      <td>984.052632</td>\n",
       "      <td>13.589755</td>\n",
       "      <td>19.0</td>\n",
       "      <td>427.473684</td>\n",
       "      <td>101.171750</td>\n",
       "      <td>19.0</td>\n",
       "      <td>0.0</td>\n",
       "      <td>0.0</td>\n",
       "      <td>881.673684</td>\n",
       "      <td>155.248117</td>\n",
       "      <td>...</td>\n",
       "      <td>10784.89474</td>\n",
       "      <td>3556.918372</td>\n",
       "      <td>19.0</td>\n",
       "      <td>0.0</td>\n",
       "      <td>0.0</td>\n",
       "      <td>0.0</td>\n",
       "      <td>0.0</td>\n",
       "      <td>34022524.0</td>\n",
       "      <td>0.0</td>\n",
       "      <td>0.0</td>\n",
       "    </tr>\n",
       "    <tr>\n",
       "      <th>236</th>\n",
       "      <td>0.000000</td>\n",
       "      <td>0.000000</td>\n",
       "      <td>0.0</td>\n",
       "      <td>0.000000</td>\n",
       "      <td>0.000000</td>\n",
       "      <td>0.0</td>\n",
       "      <td>0.0</td>\n",
       "      <td>0.0</td>\n",
       "      <td>889.805714</td>\n",
       "      <td>165.238518</td>\n",
       "      <td>...</td>\n",
       "      <td>10485.46512</td>\n",
       "      <td>4305.661402</td>\n",
       "      <td>43.0</td>\n",
       "      <td>0.0</td>\n",
       "      <td>0.0</td>\n",
       "      <td>0.0</td>\n",
       "      <td>0.0</td>\n",
       "      <td>79928820.0</td>\n",
       "      <td>0.0</td>\n",
       "      <td>0.0</td>\n",
       "    </tr>\n",
       "    <tr>\n",
       "      <th>210</th>\n",
       "      <td>0.000000</td>\n",
       "      <td>0.000000</td>\n",
       "      <td>0.0</td>\n",
       "      <td>0.000000</td>\n",
       "      <td>0.000000</td>\n",
       "      <td>0.0</td>\n",
       "      <td>0.0</td>\n",
       "      <td>0.0</td>\n",
       "      <td>831.989691</td>\n",
       "      <td>156.174730</td>\n",
       "      <td>...</td>\n",
       "      <td>10496.51282</td>\n",
       "      <td>3453.648319</td>\n",
       "      <td>39.0</td>\n",
       "      <td>0.0</td>\n",
       "      <td>0.0</td>\n",
       "      <td>0.0</td>\n",
       "      <td>0.0</td>\n",
       "      <td>97992038.0</td>\n",
       "      <td>1.0</td>\n",
       "      <td>1.0</td>\n",
       "    </tr>\n",
       "  </tbody>\n",
       "</table>\n",
       "<p>5 rows × 176 columns</p>\n",
       "</div>"
      ],
      "text/plain": [
       "     Ill250.alt_alnScore_mean  Ill250.alt_alnScore_std  Ill250.alt_count  \\\n",
       "246                943.840000                35.535537              25.0   \n",
       "56                 977.370968                20.065404              62.0   \n",
       "128                984.052632                13.589755              19.0   \n",
       "236                  0.000000                 0.000000               0.0   \n",
       "210                  0.000000                 0.000000               0.0   \n",
       "\n",
       "     Ill250.alt_insertSize_mean  Ill250.alt_insertSize_std  \\\n",
       "246                  416.560000                  94.600245   \n",
       "56                   461.467742                  92.003807   \n",
       "128                  427.473684                 101.171750   \n",
       "236                    0.000000                   0.000000   \n",
       "210                    0.000000                   0.000000   \n",
       "\n",
       "     Ill250.alt_reason_alignmentScore  Ill250.alt_reason_insertSizeScore  \\\n",
       "246                              25.0                                0.0   \n",
       "56                               56.0                                6.0   \n",
       "128                              19.0                                0.0   \n",
       "236                               0.0                                0.0   \n",
       "210                               0.0                                0.0   \n",
       "\n",
       "     Ill250.alt_reason_orientation  Ill250.amb_alnScore_mean  \\\n",
       "246                            0.0                832.514970   \n",
       "56                             0.0                887.350785   \n",
       "128                            0.0                881.673684   \n",
       "236                            0.0                889.805714   \n",
       "210                            0.0                831.989691   \n",
       "\n",
       "     Ill250.amb_alnScore_std      ...        pacbio.ref_insertSize_mean  \\\n",
       "246               160.470821      ...                           0.00000   \n",
       "56                148.388261      ...                        4976.50000   \n",
       "128               155.248117      ...                       10784.89474   \n",
       "236               165.238518      ...                       10485.46512   \n",
       "210               156.174730      ...                       10496.51282   \n",
       "\n",
       "     pacbio.ref_insertSize_std  pacbio.ref_reason_alignmentScore  refN_cnt  \\\n",
       "246                   0.000000                               0.0       0.0   \n",
       "56                 2109.500000                               2.0       0.0   \n",
       "128                3556.918372                              19.0       0.0   \n",
       "236                4305.661402                              43.0       0.0   \n",
       "210                3453.648319                              39.0       0.0   \n",
       "\n",
       "     refN_pct  segdup_cnt  segdup_pct       start  tandemrep_cnt  \\\n",
       "246       0.0         0.0         0.0  27935358.0            1.0   \n",
       "56        0.0         0.0         0.0  94657363.0            0.0   \n",
       "128       0.0         0.0         0.0  34022524.0            0.0   \n",
       "236       0.0         0.0         0.0  79928820.0            0.0   \n",
       "210       0.0         0.0         0.0  97992038.0            1.0   \n",
       "\n",
       "     tandemrep_pct  \n",
       "246            1.0  \n",
       "56             0.0  \n",
       "128            0.0  \n",
       "236            0.0  \n",
       "210            1.0  \n",
       "\n",
       "[5 rows x 176 columns]"
      ]
     },
     "execution_count": 35,
     "metadata": {},
     "output_type": "execute_result"
    }
   ],
   "source": [
    "# Add original labels and predicted labels back to the original dataframe\n",
    "df_Xtest = pd.DataFrame(X_test)\n",
    "df_Xtest.head()"
   ]
  },
  {
   "cell_type": "code",
   "execution_count": 36,
   "metadata": {
    "collapsed": true
   },
   "outputs": [],
   "source": [
    "labels = pd.DataFrame(y_test)"
   ]
  },
  {
   "cell_type": "code",
   "execution_count": 45,
   "metadata": {
    "collapsed": true
   },
   "outputs": [],
   "source": [
    "df_Xtest['predicted_label'] = pred\n",
    "df_Xtest['GTcons'] = df_100to299['GTcons']\n",
    "df_Xtest['chrom'] = df_100to299['chrom']\n",
    "df_Xtest['start'] = df_100to299['start']\n",
    "df_Xtest['end'] = df_100to299['end']"
   ]
  },
  {
   "cell_type": "code",
   "execution_count": 46,
   "metadata": {
    "collapsed": true
   },
   "outputs": [],
   "source": [
    "df_Xtest['GTcons'].replace(0.0, 'Homozygous_Reference', inplace=True)\n",
    "df_Xtest['GTcons'].replace(1.0, 'Heterozygous_Variant', inplace=True)\n",
    "df_Xtest['GTcons'].replace(2.0, 'Homozygous_Variant', inplace=True)\n",
    "df_Xtest['predicted_label'].replace(0.0, 'Homozygous_Reference', inplace=True)\n",
    "df_Xtest['predicted_label'].replace(1.0, 'Heterozygous_Variant', inplace=True)\n",
    "df_Xtest['predicted_label'].replace(2.0, 'Homozygous_Variant', inplace=True)"
   ]
  },
  {
   "cell_type": "code",
   "execution_count": 47,
   "metadata": {},
   "outputs": [
    {
     "data": {
      "text/plain": [
       "Heterozygous_Variant    29\n",
       "Homozygous_Variant      13\n",
       "Homozygous_Reference    37\n",
       "dtype: int64"
      ]
     },
     "execution_count": 47,
     "metadata": {},
     "output_type": "execute_result"
    }
   ],
   "source": [
    "pd.value_counts(df_Xtest['GTcons'].values, sort=False)"
   ]
  },
  {
   "cell_type": "code",
   "execution_count": 48,
   "metadata": {},
   "outputs": [
    {
     "data": {
      "text/plain": [
       "Heterozygous_Variant    28\n",
       "Homozygous_Variant      15\n",
       "Homozygous_Reference    36\n",
       "dtype: int64"
      ]
     },
     "execution_count": 48,
     "metadata": {},
     "output_type": "execute_result"
    }
   ],
   "source": [
    "pd.value_counts(df_Xtest['predicted_label'].values, sort=False)"
   ]
  },
  {
   "cell_type": "code",
   "execution_count": 49,
   "metadata": {},
   "outputs": [
    {
     "name": "stdout",
     "output_type": "stream",
     "text": [
      "[[27  0  2]\n",
      " [ 0 36  1]\n",
      " [ 1  0 12]]\n"
     ]
    }
   ],
   "source": [
    "from sklearn.metrics import confusion_matrix\n",
    "ytest = df_Xtest['GTcons']\n",
    "predict = df_Xtest['predicted_label']\n",
    "print(confusion_matrix(ytest, predict))"
   ]
  },
  {
   "cell_type": "code",
   "execution_count": 50,
   "metadata": {},
   "outputs": [
    {
     "data": {
      "text/html": [
       "<div>\n",
       "<table border=\"1\" class=\"dataframe\">\n",
       "  <thead>\n",
       "    <tr style=\"text-align: right;\">\n",
       "      <th>Predicted</th>\n",
       "      <th>Heterozygous_Variant</th>\n",
       "      <th>Homozygous_Reference</th>\n",
       "      <th>Homozygous_Variant</th>\n",
       "      <th>All</th>\n",
       "    </tr>\n",
       "    <tr>\n",
       "      <th>True</th>\n",
       "      <th></th>\n",
       "      <th></th>\n",
       "      <th></th>\n",
       "      <th></th>\n",
       "    </tr>\n",
       "  </thead>\n",
       "  <tbody>\n",
       "    <tr>\n",
       "      <th>Heterozygous_Variant</th>\n",
       "      <td>27</td>\n",
       "      <td>0</td>\n",
       "      <td>2</td>\n",
       "      <td>29</td>\n",
       "    </tr>\n",
       "    <tr>\n",
       "      <th>Homozygous_Reference</th>\n",
       "      <td>0</td>\n",
       "      <td>36</td>\n",
       "      <td>1</td>\n",
       "      <td>37</td>\n",
       "    </tr>\n",
       "    <tr>\n",
       "      <th>Homozygous_Variant</th>\n",
       "      <td>1</td>\n",
       "      <td>0</td>\n",
       "      <td>12</td>\n",
       "      <td>13</td>\n",
       "    </tr>\n",
       "    <tr>\n",
       "      <th>All</th>\n",
       "      <td>28</td>\n",
       "      <td>36</td>\n",
       "      <td>15</td>\n",
       "      <td>79</td>\n",
       "    </tr>\n",
       "  </tbody>\n",
       "</table>\n",
       "</div>"
      ],
      "text/plain": [
       "Predicted             Heterozygous_Variant  Homozygous_Reference  \\\n",
       "True                                                               \n",
       "Heterozygous_Variant                    27                     0   \n",
       "Homozygous_Reference                     0                    36   \n",
       "Homozygous_Variant                       1                     0   \n",
       "All                                     28                    36   \n",
       "\n",
       "Predicted             Homozygous_Variant  All  \n",
       "True                                           \n",
       "Heterozygous_Variant                   2   29  \n",
       "Homozygous_Reference                   1   37  \n",
       "Homozygous_Variant                    12   13  \n",
       "All                                   15   79  "
      ]
     },
     "execution_count": 50,
     "metadata": {},
     "output_type": "execute_result"
    }
   ],
   "source": [
    "pd.crosstab(ytest, predict, rownames=['True'], colnames=['Predicted'], margins=True)"
   ]
  },
  {
   "cell_type": "markdown",
   "metadata": {},
   "source": [
    "<a id='traintest_confusion_matrix'></a>"
   ]
  },
  {
   "cell_type": "code",
   "execution_count": 51,
   "metadata": {
    "collapsed": true,
    "scrolled": false
   },
   "outputs": [],
   "source": [
    "# # Pandas: save table to HTML\n",
    "# p = pd.crosstab(ytest, predict, rownames=['True'], colnames=['Predicted'], margins=True)\n",
    "# p.to_html('cro.html')"
   ]
  },
  {
   "cell_type": "code",
   "execution_count": 52,
   "metadata": {
    "scrolled": false
   },
   "outputs": [
    {
     "name": "stdout",
     "output_type": "stream",
     "text": [
      "                      precision    recall  f1-score   support\n",
      "\n",
      "Heterozygous_Variant       0.96      0.93      0.95        29\n",
      "Homozygous_Reference       1.00      0.97      0.99        37\n",
      "  Homozygous_Variant       0.80      0.92      0.86        13\n",
      "\n",
      "         avg / total       0.95      0.95      0.95        79\n",
      "\n"
     ]
    }
   ],
   "source": [
    "from sklearn.metrics import classification_report\n",
    "print(classification_report(ytest, predict))"
   ]
  },
  {
   "cell_type": "markdown",
   "metadata": {},
   "source": [
    "***\n",
    "Predict\n",
    "***"
   ]
  },
  {
   "cell_type": "markdown",
   "metadata": {},
   "source": [
    "<a id='predict'></a>"
   ]
  },
  {
   "cell_type": "markdown",
   "metadata": {},
   "source": [
    "Description:\n",
    "\n",
    "   * In the [previous section](#machine_learning), a RF model was trained on svanalyzer data.\n",
    "\n",
    "       * The model was trained using [train/test split](#train_test) where 70% of the data was used to train the model and the model performance was determined by predicting labels for the remaining 30% of the data\n",
    " * Reminder: The labels for this training set and the following [prediction step](#prediction_step) are the consensus genotype (GTcons) labels generated from a preliminary R analysis based on reference and alternate read count:\n",
    "           * Homozygous Reference (0)\n",
    "           * Heterozygous Variant (1)\n",
    "           * Homozygous Variant (2)\n",
    "           \n",
    "   * The trained model is used in the following section to predict labels for 5000 randomly selected Deletions [these datapoints were randomly selected from [union_170509_refalt.sort.vcf](ftp://ftp-trace.ncbi.nlm.nih.gov/giab/ftp/data/AshkenazimTrio/analysis/NIST_UnionSVs_05092017/)]\n",
    "   \n",
    "   "
   ]
  },
  {
   "cell_type": "markdown",
   "metadata": {},
   "source": [
    "** Load Data **"
   ]
  },
  {
   "cell_type": "code",
   "execution_count": 88,
   "metadata": {},
   "outputs": [],
   "source": [
    "df_100to299_test.drop(['GTcons'],axis=1, inplace=True)"
   ]
  },
  {
   "cell_type": "code",
   "execution_count": 89,
   "metadata": {
    "collapsed": true
   },
   "outputs": [],
   "source": [
    "X2 = df_100to299_test"
   ]
  },
  {
   "cell_type": "markdown",
   "metadata": {},
   "source": [
    "** Impute missing values using KNN **"
   ]
  },
  {
   "cell_type": "code",
   "execution_count": 90,
   "metadata": {},
   "outputs": [
    {
     "name": "stdout",
     "output_type": "stream",
     "text": [
      "Imputing row 1/339 with 2 missing, elapsed time: 0.096\n",
      "Imputing row 101/339 with 87 missing, elapsed time: 0.102\n",
      "Imputing row 201/339 with 1 missing, elapsed time: 0.118\n",
      "Imputing row 301/339 with 2 missing, elapsed time: 0.131\n"
     ]
    }
   ],
   "source": [
    "#Convert dataframe to matrix\n",
    "X2=X2.as_matrix()\n",
    "X2=pd.DataFrame(X2)\n",
    "\n",
    "# Imput missing values from three closest observations\n",
    "X2_imputed=KNN(k=3).complete(X2)\n",
    "X2=pd.DataFrame(X2_imputed)"
   ]
  },
  {
   "cell_type": "code",
   "execution_count": 91,
   "metadata": {},
   "outputs": [
    {
     "data": {
      "text/html": [
       "<div>\n",
       "<table border=\"1\" class=\"dataframe\">\n",
       "  <thead>\n",
       "    <tr style=\"text-align: right;\">\n",
       "      <th></th>\n",
       "      <th>Ill250.alt_alnScore_mean</th>\n",
       "      <th>Ill250.alt_alnScore_std</th>\n",
       "      <th>Ill250.alt_count</th>\n",
       "      <th>Ill250.alt_insertSize_mean</th>\n",
       "      <th>Ill250.alt_insertSize_std</th>\n",
       "      <th>Ill250.alt_reason_alignmentScore</th>\n",
       "      <th>Ill250.alt_reason_insertSizeScore</th>\n",
       "      <th>Ill250.alt_reason_orientation</th>\n",
       "      <th>Ill250.amb_alnScore_mean</th>\n",
       "      <th>Ill250.amb_alnScore_std</th>\n",
       "      <th>...</th>\n",
       "      <th>pacbio.ref_insertSize_mean</th>\n",
       "      <th>pacbio.ref_insertSize_std</th>\n",
       "      <th>pacbio.ref_reason_alignmentScore</th>\n",
       "      <th>refN_cnt</th>\n",
       "      <th>refN_pct</th>\n",
       "      <th>segdup_cnt</th>\n",
       "      <th>segdup_pct</th>\n",
       "      <th>start</th>\n",
       "      <th>tandemrep_cnt</th>\n",
       "      <th>tandemrep_pct</th>\n",
       "    </tr>\n",
       "  </thead>\n",
       "  <tbody>\n",
       "    <tr>\n",
       "      <th>0</th>\n",
       "      <td>983.052632</td>\n",
       "      <td>14.608843</td>\n",
       "      <td>19.0</td>\n",
       "      <td>472.315789</td>\n",
       "      <td>88.597287</td>\n",
       "      <td>18.0</td>\n",
       "      <td>1.0</td>\n",
       "      <td>0.0</td>\n",
       "      <td>869.614035</td>\n",
       "      <td>169.177068</td>\n",
       "      <td>...</td>\n",
       "      <td>9629.750000</td>\n",
       "      <td>3167.022576</td>\n",
       "      <td>32.0</td>\n",
       "      <td>0.0</td>\n",
       "      <td>0.0</td>\n",
       "      <td>0.0</td>\n",
       "      <td>0.0</td>\n",
       "      <td>74312431.0</td>\n",
       "      <td>0.0</td>\n",
       "      <td>0.0</td>\n",
       "    </tr>\n",
       "    <tr>\n",
       "      <th>1</th>\n",
       "      <td>908.000000</td>\n",
       "      <td>0.000000</td>\n",
       "      <td>1.0</td>\n",
       "      <td>547.000000</td>\n",
       "      <td>0.000000</td>\n",
       "      <td>0.0</td>\n",
       "      <td>1.0</td>\n",
       "      <td>0.0</td>\n",
       "      <td>892.635945</td>\n",
       "      <td>150.764966</td>\n",
       "      <td>...</td>\n",
       "      <td>11648.902440</td>\n",
       "      <td>2866.042175</td>\n",
       "      <td>41.0</td>\n",
       "      <td>0.0</td>\n",
       "      <td>0.0</td>\n",
       "      <td>1.0</td>\n",
       "      <td>1.0</td>\n",
       "      <td>83753489.0</td>\n",
       "      <td>1.0</td>\n",
       "      <td>1.0</td>\n",
       "    </tr>\n",
       "    <tr>\n",
       "      <th>2</th>\n",
       "      <td>949.375000</td>\n",
       "      <td>51.051292</td>\n",
       "      <td>8.0</td>\n",
       "      <td>410.500000</td>\n",
       "      <td>110.576896</td>\n",
       "      <td>7.0</td>\n",
       "      <td>1.0</td>\n",
       "      <td>0.0</td>\n",
       "      <td>817.587065</td>\n",
       "      <td>145.576102</td>\n",
       "      <td>...</td>\n",
       "      <td>8411.857143</td>\n",
       "      <td>3674.965187</td>\n",
       "      <td>14.0</td>\n",
       "      <td>0.0</td>\n",
       "      <td>0.0</td>\n",
       "      <td>0.0</td>\n",
       "      <td>0.0</td>\n",
       "      <td>247569530.0</td>\n",
       "      <td>0.0</td>\n",
       "      <td>0.0</td>\n",
       "    </tr>\n",
       "  </tbody>\n",
       "</table>\n",
       "<p>3 rows × 176 columns</p>\n",
       "</div>"
      ],
      "text/plain": [
       "   Ill250.alt_alnScore_mean  Ill250.alt_alnScore_std  Ill250.alt_count  \\\n",
       "0                983.052632                14.608843              19.0   \n",
       "1                908.000000                 0.000000               1.0   \n",
       "2                949.375000                51.051292               8.0   \n",
       "\n",
       "   Ill250.alt_insertSize_mean  Ill250.alt_insertSize_std  \\\n",
       "0                  472.315789                  88.597287   \n",
       "1                  547.000000                   0.000000   \n",
       "2                  410.500000                 110.576896   \n",
       "\n",
       "   Ill250.alt_reason_alignmentScore  Ill250.alt_reason_insertSizeScore  \\\n",
       "0                              18.0                                1.0   \n",
       "1                               0.0                                1.0   \n",
       "2                               7.0                                1.0   \n",
       "\n",
       "   Ill250.alt_reason_orientation  Ill250.amb_alnScore_mean  \\\n",
       "0                            0.0                869.614035   \n",
       "1                            0.0                892.635945   \n",
       "2                            0.0                817.587065   \n",
       "\n",
       "   Ill250.amb_alnScore_std      ...        pacbio.ref_insertSize_mean  \\\n",
       "0               169.177068      ...                       9629.750000   \n",
       "1               150.764966      ...                      11648.902440   \n",
       "2               145.576102      ...                       8411.857143   \n",
       "\n",
       "   pacbio.ref_insertSize_std  pacbio.ref_reason_alignmentScore  refN_cnt  \\\n",
       "0                3167.022576                              32.0       0.0   \n",
       "1                2866.042175                              41.0       0.0   \n",
       "2                3674.965187                              14.0       0.0   \n",
       "\n",
       "   refN_pct  segdup_cnt  segdup_pct        start  tandemrep_cnt  tandemrep_pct  \n",
       "0       0.0         0.0         0.0   74312431.0            0.0            0.0  \n",
       "1       0.0         1.0         1.0   83753489.0            1.0            1.0  \n",
       "2       0.0         0.0         0.0  247569530.0            0.0            0.0  \n",
       "\n",
       "[3 rows x 176 columns]"
      ]
     },
     "execution_count": 91,
     "metadata": {},
     "output_type": "execute_result"
    }
   ],
   "source": [
    "df_100to299_test_header = list(df_100to299_test.columns.values)\n",
    "X2.columns = df_100to299_test_header\n",
    "X2.head(3)"
   ]
  },
  {
   "cell_type": "code",
   "execution_count": 92,
   "metadata": {},
   "outputs": [
    {
     "data": {
      "text/html": [
       "<div>\n",
       "<table border=\"1\" class=\"dataframe\">\n",
       "  <thead>\n",
       "    <tr style=\"text-align: right;\">\n",
       "      <th></th>\n",
       "      <th>Ill250.alt_alnScore_mean</th>\n",
       "      <th>Ill250.alt_alnScore_std</th>\n",
       "      <th>Ill250.alt_count</th>\n",
       "      <th>Ill250.alt_insertSize_mean</th>\n",
       "      <th>Ill250.alt_insertSize_std</th>\n",
       "      <th>Ill250.alt_reason_alignmentScore</th>\n",
       "      <th>Ill250.alt_reason_insertSizeScore</th>\n",
       "      <th>Ill250.alt_reason_orientation</th>\n",
       "      <th>Ill250.amb_alnScore_mean</th>\n",
       "      <th>Ill250.amb_alnScore_std</th>\n",
       "      <th>...</th>\n",
       "      <th>pacbio.ref_insertSize_mean</th>\n",
       "      <th>pacbio.ref_insertSize_std</th>\n",
       "      <th>pacbio.ref_reason_alignmentScore</th>\n",
       "      <th>refN_cnt</th>\n",
       "      <th>refN_pct</th>\n",
       "      <th>segdup_cnt</th>\n",
       "      <th>segdup_pct</th>\n",
       "      <th>start</th>\n",
       "      <th>tandemrep_cnt</th>\n",
       "      <th>tandemrep_pct</th>\n",
       "    </tr>\n",
       "  </thead>\n",
       "  <tbody>\n",
       "    <tr>\n",
       "      <th>0</th>\n",
       "      <td>983.052632</td>\n",
       "      <td>14.608843</td>\n",
       "      <td>19.0</td>\n",
       "      <td>472.315789</td>\n",
       "      <td>88.597287</td>\n",
       "      <td>18.0</td>\n",
       "      <td>1.0</td>\n",
       "      <td>0.0</td>\n",
       "      <td>869.614035</td>\n",
       "      <td>169.177068</td>\n",
       "      <td>...</td>\n",
       "      <td>9629.750000</td>\n",
       "      <td>3167.022576</td>\n",
       "      <td>32.0</td>\n",
       "      <td>0.0</td>\n",
       "      <td>0.0</td>\n",
       "      <td>0.0</td>\n",
       "      <td>0.0</td>\n",
       "      <td>74312431.0</td>\n",
       "      <td>0.0</td>\n",
       "      <td>0.0</td>\n",
       "    </tr>\n",
       "    <tr>\n",
       "      <th>1</th>\n",
       "      <td>908.000000</td>\n",
       "      <td>0.000000</td>\n",
       "      <td>1.0</td>\n",
       "      <td>547.000000</td>\n",
       "      <td>0.000000</td>\n",
       "      <td>0.0</td>\n",
       "      <td>1.0</td>\n",
       "      <td>0.0</td>\n",
       "      <td>892.635945</td>\n",
       "      <td>150.764966</td>\n",
       "      <td>...</td>\n",
       "      <td>11648.902440</td>\n",
       "      <td>2866.042175</td>\n",
       "      <td>41.0</td>\n",
       "      <td>0.0</td>\n",
       "      <td>0.0</td>\n",
       "      <td>1.0</td>\n",
       "      <td>1.0</td>\n",
       "      <td>83753489.0</td>\n",
       "      <td>1.0</td>\n",
       "      <td>1.0</td>\n",
       "    </tr>\n",
       "    <tr>\n",
       "      <th>2</th>\n",
       "      <td>949.375000</td>\n",
       "      <td>51.051292</td>\n",
       "      <td>8.0</td>\n",
       "      <td>410.500000</td>\n",
       "      <td>110.576896</td>\n",
       "      <td>7.0</td>\n",
       "      <td>1.0</td>\n",
       "      <td>0.0</td>\n",
       "      <td>817.587065</td>\n",
       "      <td>145.576102</td>\n",
       "      <td>...</td>\n",
       "      <td>8411.857143</td>\n",
       "      <td>3674.965187</td>\n",
       "      <td>14.0</td>\n",
       "      <td>0.0</td>\n",
       "      <td>0.0</td>\n",
       "      <td>0.0</td>\n",
       "      <td>0.0</td>\n",
       "      <td>247569530.0</td>\n",
       "      <td>0.0</td>\n",
       "      <td>0.0</td>\n",
       "    </tr>\n",
       "  </tbody>\n",
       "</table>\n",
       "<p>3 rows × 176 columns</p>\n",
       "</div>"
      ],
      "text/plain": [
       "   Ill250.alt_alnScore_mean  Ill250.alt_alnScore_std  Ill250.alt_count  \\\n",
       "0                983.052632                14.608843              19.0   \n",
       "1                908.000000                 0.000000               1.0   \n",
       "2                949.375000                51.051292               8.0   \n",
       "\n",
       "   Ill250.alt_insertSize_mean  Ill250.alt_insertSize_std  \\\n",
       "0                  472.315789                  88.597287   \n",
       "1                  547.000000                   0.000000   \n",
       "2                  410.500000                 110.576896   \n",
       "\n",
       "   Ill250.alt_reason_alignmentScore  Ill250.alt_reason_insertSizeScore  \\\n",
       "0                              18.0                                1.0   \n",
       "1                               0.0                                1.0   \n",
       "2                               7.0                                1.0   \n",
       "\n",
       "   Ill250.alt_reason_orientation  Ill250.amb_alnScore_mean  \\\n",
       "0                            0.0                869.614035   \n",
       "1                            0.0                892.635945   \n",
       "2                            0.0                817.587065   \n",
       "\n",
       "   Ill250.amb_alnScore_std      ...        pacbio.ref_insertSize_mean  \\\n",
       "0               169.177068      ...                       9629.750000   \n",
       "1               150.764966      ...                      11648.902440   \n",
       "2               145.576102      ...                       8411.857143   \n",
       "\n",
       "   pacbio.ref_insertSize_std  pacbio.ref_reason_alignmentScore  refN_cnt  \\\n",
       "0                3167.022576                              32.0       0.0   \n",
       "1                2866.042175                              41.0       0.0   \n",
       "2                3674.965187                              14.0       0.0   \n",
       "\n",
       "   refN_pct  segdup_cnt  segdup_pct        start  tandemrep_cnt  tandemrep_pct  \n",
       "0       0.0         0.0         0.0   74312431.0            0.0            0.0  \n",
       "1       0.0         1.0         1.0   83753489.0            1.0            1.0  \n",
       "2       0.0         0.0         0.0  247569530.0            0.0            0.0  \n",
       "\n",
       "[3 rows x 176 columns]"
      ]
     },
     "execution_count": 92,
     "metadata": {},
     "output_type": "execute_result"
    }
   ],
   "source": [
    "X3 = pd.DataFrame()\n",
    "X3 = X2\n",
    "X3.head(3)"
   ]
  },
  {
   "cell_type": "code",
   "execution_count": 93,
   "metadata": {
    "collapsed": true
   },
   "outputs": [],
   "source": [
    "# Order features\n",
    "X5 = X2.reindex_axis(sorted(X2.columns), axis=1)"
   ]
  },
  {
   "cell_type": "markdown",
   "metadata": {},
   "source": [
    "<a id='prediction_step'></a>"
   ]
  },
  {
   "cell_type": "code",
   "execution_count": 94,
   "metadata": {},
   "outputs": [],
   "source": [
    "pred = model.predict(X5)"
   ]
  },
  {
   "cell_type": "code",
   "execution_count": 95,
   "metadata": {
    "collapsed": true
   },
   "outputs": [],
   "source": [
    "pred_prob = model.predict_proba(X5)"
   ]
  },
  {
   "cell_type": "code",
   "execution_count": 96,
   "metadata": {
    "collapsed": true
   },
   "outputs": [],
   "source": [
    "pred_prob_log = model.predict_log_proba(X5)"
   ]
  },
  {
   "cell_type": "code",
   "execution_count": 97,
   "metadata": {
    "collapsed": true
   },
   "outputs": [],
   "source": [
    "X5['predicted_label'] = pred\n",
    "X5['chrom'] = df_100to299_test_['chrom']\n",
    "X5['GTcons'] = df_100to299_test_['GTcons']\n",
    "X5['start'] = df_100to299_test_['start']\n",
    "X5['end'] = df_100to299_test_['end']\n",
    "X5['Size'] = df_100to299_test_['Size']\n",
    "X5['GTsupp'] = df_100to299_test_['GTsupp']"
   ]
  },
  {
   "cell_type": "code",
   "execution_count": 98,
   "metadata": {
    "collapsed": true
   },
   "outputs": [],
   "source": [
    "X6 = pd.concat([X5, pd.DataFrame(pred_prob, columns=['1','2','3'])])"
   ]
  },
  {
   "cell_type": "code",
   "execution_count": 99,
   "metadata": {
    "collapsed": true
   },
   "outputs": [],
   "source": [
    "X7 = pd.concat([X5, pd.DataFrame(pred_prob_log, columns=['1','2','3'])])"
   ]
  },
  {
   "cell_type": "code",
   "execution_count": 100,
   "metadata": {
    "collapsed": true
   },
   "outputs": [],
   "source": [
    "X6.to_csv('/Volumes/lesleydata/RF_model_trainingData_test/size_data/results/figures/100to299/df_100to299.csv', index=False)"
   ]
  },
  {
   "cell_type": "code",
   "execution_count": null,
   "metadata": {
    "collapsed": true
   },
   "outputs": [],
   "source": [
    "X7.to_csv('/Volumes/lesleydata/RF_model_trainingData_test/size_data/results/100to299/df_100to299_log.csv', index=False)"
   ]
  },
  {
   "cell_type": "code",
   "execution_count": 101,
   "metadata": {
    "collapsed": true
   },
   "outputs": [],
   "source": [
    "X6 = pd.read_csv('/Volumes/lesleydata/RF_model_trainingData_test/size_data/results/figures/100to299/df_100to299.csv')"
   ]
  },
  {
   "cell_type": "code",
   "execution_count": 102,
   "metadata": {
    "collapsed": true
   },
   "outputs": [],
   "source": [
    "X6.rename(columns={'1': 'Homozygous_Reference_GTcons'}, inplace=True)\n",
    "X6.rename(columns={'2': 'Heterozygous_Variant_GTcons'}, inplace=True)\n",
    "X6.rename(columns={'3': 'Homozygous_Variant_GTcons'}, inplace=True)\n",
    "X6.rename(columns={'predicted_label': 'predicted_GTcons_label'}, inplace=True)"
   ]
  },
  {
   "cell_type": "code",
   "execution_count": 103,
   "metadata": {},
   "outputs": [
    {
     "data": {
      "text/html": [
       "<div>\n",
       "<table border=\"1\" class=\"dataframe\">\n",
       "  <thead>\n",
       "    <tr style=\"text-align: right;\">\n",
       "      <th></th>\n",
       "      <th>Homozygous_Reference_GTcons</th>\n",
       "      <th>Heterozygous_Variant_GTcons</th>\n",
       "      <th>Homozygous_Variant_GTcons</th>\n",
       "      <th>GTcons</th>\n",
       "      <th>GTsupp</th>\n",
       "      <th>Ill250.alt_alnScore_mean</th>\n",
       "      <th>Ill250.alt_alnScore_std</th>\n",
       "      <th>Ill250.alt_count</th>\n",
       "      <th>Ill250.alt_insertSize_mean</th>\n",
       "      <th>Ill250.alt_insertSize_std</th>\n",
       "      <th>...</th>\n",
       "      <th>pacbio.ref_insertSize_std</th>\n",
       "      <th>pacbio.ref_reason_alignmentScore</th>\n",
       "      <th>predicted_GTcons_label</th>\n",
       "      <th>refN_cnt</th>\n",
       "      <th>refN_pct</th>\n",
       "      <th>segdup_cnt</th>\n",
       "      <th>segdup_pct</th>\n",
       "      <th>start</th>\n",
       "      <th>tandemrep_cnt</th>\n",
       "      <th>tandemrep_pct</th>\n",
       "    </tr>\n",
       "  </thead>\n",
       "  <tbody>\n",
       "    <tr>\n",
       "      <th>0</th>\n",
       "      <td>0.0</td>\n",
       "      <td>1.0</td>\n",
       "      <td>0.0</td>\n",
       "      <td>1</td>\n",
       "      <td>4</td>\n",
       "      <td>983.052632</td>\n",
       "      <td>14.608843</td>\n",
       "      <td>19</td>\n",
       "      <td>472.315789</td>\n",
       "      <td>88.597287</td>\n",
       "      <td>...</td>\n",
       "      <td>3167.022576</td>\n",
       "      <td>32</td>\n",
       "      <td>1</td>\n",
       "      <td>0</td>\n",
       "      <td>0</td>\n",
       "      <td>0</td>\n",
       "      <td>0.0</td>\n",
       "      <td>74312431</td>\n",
       "      <td>0</td>\n",
       "      <td>0.0</td>\n",
       "    </tr>\n",
       "    <tr>\n",
       "      <th>1</th>\n",
       "      <td>1.0</td>\n",
       "      <td>0.0</td>\n",
       "      <td>0.0</td>\n",
       "      <td>0</td>\n",
       "      <td>2</td>\n",
       "      <td>908.000000</td>\n",
       "      <td>0.000000</td>\n",
       "      <td>1</td>\n",
       "      <td>547.000000</td>\n",
       "      <td>0.000000</td>\n",
       "      <td>...</td>\n",
       "      <td>2866.042175</td>\n",
       "      <td>41</td>\n",
       "      <td>0</td>\n",
       "      <td>0</td>\n",
       "      <td>0</td>\n",
       "      <td>1</td>\n",
       "      <td>1.0</td>\n",
       "      <td>83753489</td>\n",
       "      <td>1</td>\n",
       "      <td>1.0</td>\n",
       "    </tr>\n",
       "    <tr>\n",
       "      <th>2</th>\n",
       "      <td>0.0</td>\n",
       "      <td>1.0</td>\n",
       "      <td>0.0</td>\n",
       "      <td>1</td>\n",
       "      <td>3</td>\n",
       "      <td>949.375000</td>\n",
       "      <td>51.051292</td>\n",
       "      <td>8</td>\n",
       "      <td>410.500000</td>\n",
       "      <td>110.576896</td>\n",
       "      <td>...</td>\n",
       "      <td>3674.965187</td>\n",
       "      <td>14</td>\n",
       "      <td>1</td>\n",
       "      <td>0</td>\n",
       "      <td>0</td>\n",
       "      <td>0</td>\n",
       "      <td>0.0</td>\n",
       "      <td>247569530</td>\n",
       "      <td>0</td>\n",
       "      <td>0.0</td>\n",
       "    </tr>\n",
       "  </tbody>\n",
       "</table>\n",
       "<p>3 rows × 182 columns</p>\n",
       "</div>"
      ],
      "text/plain": [
       "   Homozygous_Reference_GTcons  Heterozygous_Variant_GTcons  \\\n",
       "0                          0.0                          1.0   \n",
       "1                          1.0                          0.0   \n",
       "2                          0.0                          1.0   \n",
       "\n",
       "   Homozygous_Variant_GTcons  GTcons  GTsupp  Ill250.alt_alnScore_mean  \\\n",
       "0                        0.0       1       4                983.052632   \n",
       "1                        0.0       0       2                908.000000   \n",
       "2                        0.0       1       3                949.375000   \n",
       "\n",
       "   Ill250.alt_alnScore_std  Ill250.alt_count  Ill250.alt_insertSize_mean  \\\n",
       "0                14.608843                19                  472.315789   \n",
       "1                 0.000000                 1                  547.000000   \n",
       "2                51.051292                 8                  410.500000   \n",
       "\n",
       "   Ill250.alt_insertSize_std      ...        pacbio.ref_insertSize_std  \\\n",
       "0                  88.597287      ...                      3167.022576   \n",
       "1                   0.000000      ...                      2866.042175   \n",
       "2                 110.576896      ...                      3674.965187   \n",
       "\n",
       "   pacbio.ref_reason_alignmentScore  predicted_GTcons_label  refN_cnt  \\\n",
       "0                                32                       1         0   \n",
       "1                                41                       0         0   \n",
       "2                                14                       1         0   \n",
       "\n",
       "   refN_pct  segdup_cnt  segdup_pct      start  tandemrep_cnt  tandemrep_pct  \n",
       "0         0           0         0.0   74312431              0            0.0  \n",
       "1         0           1         1.0   83753489              1            1.0  \n",
       "2         0           0         0.0  247569530              0            0.0  \n",
       "\n",
       "[3 rows x 182 columns]"
      ]
     },
     "execution_count": 103,
     "metadata": {},
     "output_type": "execute_result"
    }
   ],
   "source": [
    "X6.head(3)"
   ]
  },
  {
   "cell_type": "code",
   "execution_count": 104,
   "metadata": {
    "collapsed": true
   },
   "outputs": [],
   "source": [
    "X6.to_csv('/Volumes/lesleydata/RF_model_trainingData_test/size_data/results/figures/100to299/df_100to299_final.csv', index=False)"
   ]
  },
  {
   "cell_type": "code",
   "execution_count": null,
   "metadata": {
    "collapsed": true
   },
   "outputs": [],
   "source": [
    "# X6['GTcons'].replace('Homozygous_Reference', 0, inplace=True)\n",
    "# X6['GTcons'].replace('Heterozygous_Variant', 1, inplace=True)\n",
    "# X6['GTcons'].replace('Homozygous_Variant', 2, inplace=True)"
   ]
  },
  {
   "cell_type": "code",
   "execution_count": null,
   "metadata": {
    "collapsed": true
   },
   "outputs": [],
   "source": [
    "# X6['GTcons'].fillna(999)\n",
    "# X7 = X6[X6.GTcons != 999]\n",
    "# X7['GTcons'].isnull().sum()"
   ]
  },
  {
   "cell_type": "markdown",
   "metadata": {},
   "source": [
    "***\n",
    "Label Analysis\n",
    "***"
   ]
  },
  {
   "cell_type": "code",
   "execution_count": 105,
   "metadata": {
    "scrolled": true
   },
   "outputs": [
    {
     "name": "stdout",
     "output_type": "stream",
     "text": [
      "[[136   1   2]\n",
      " [  0 125   5]\n",
      " [  0   3  67]]\n"
     ]
    }
   ],
   "source": [
    "from sklearn.metrics import confusion_matrix\n",
    "consensus_GT = X6['GTcons']\n",
    "predict = X6['predicted_GTcons_label']\n",
    "print(confusion_matrix(consensus_GT, predict))"
   ]
  },
  {
   "cell_type": "code",
   "execution_count": 106,
   "metadata": {
    "collapsed": true
   },
   "outputs": [],
   "source": [
    "X6['GTcons'].replace(0, 'Homozygous_Reference', inplace=True)\n",
    "X6['GTcons'].replace(1, 'Heterozygous_Variant', inplace=True)\n",
    "X6['GTcons'].replace(2, 'Homozygous_Variant', inplace=True)\n",
    "X6['predicted_GTcons_label'].replace(0.0, 'Homozygous_Reference', inplace=True)\n",
    "X6['predicted_GTcons_label'].replace(1.0, 'Heterozygous_Variant', inplace=True)\n",
    "X6['predicted_GTcons_label'].replace(2.0, 'Homozygous_Variant', inplace=True)"
   ]
  },
  {
   "cell_type": "markdown",
   "metadata": {},
   "source": [
    "<a id='predict_precision_score_matrix'></a>"
   ]
  },
  {
   "cell_type": "code",
   "execution_count": 107,
   "metadata": {},
   "outputs": [
    {
     "name": "stdout",
     "output_type": "stream",
     "text": [
      "Precision score of the prediction subset: 0.968\n"
     ]
    }
   ],
   "source": [
    "print('Precision score of the prediction subset: {:.3f}'.format(precision_score(consensus_GT, predict, average='micro'))) "
   ]
  },
  {
   "cell_type": "code",
   "execution_count": 108,
   "metadata": {},
   "outputs": [
    {
     "name": "stdout",
     "output_type": "stream",
     "text": [
      "Accuracy score of the prediction subset: 0.968\n"
     ]
    }
   ],
   "source": [
    "print('Accuracy score of the prediction subset: {:.3f}'.format(accuracy_score(consensus_GT, predict))) "
   ]
  },
  {
   "cell_type": "code",
   "execution_count": 109,
   "metadata": {},
   "outputs": [
    {
     "data": {
      "text/html": [
       "<div>\n",
       "<table border=\"1\" class=\"dataframe\">\n",
       "  <thead>\n",
       "    <tr style=\"text-align: right;\">\n",
       "      <th>Predicted</th>\n",
       "      <th>Heterozygous_Variant</th>\n",
       "      <th>Homozygous_Reference</th>\n",
       "      <th>Homozygous_Variant</th>\n",
       "      <th>All</th>\n",
       "    </tr>\n",
       "    <tr>\n",
       "      <th>True</th>\n",
       "      <th></th>\n",
       "      <th></th>\n",
       "      <th></th>\n",
       "      <th></th>\n",
       "    </tr>\n",
       "  </thead>\n",
       "  <tbody>\n",
       "    <tr>\n",
       "      <th>Heterozygous_Variant</th>\n",
       "      <td>125</td>\n",
       "      <td>0</td>\n",
       "      <td>5</td>\n",
       "      <td>130</td>\n",
       "    </tr>\n",
       "    <tr>\n",
       "      <th>Homozygous_Reference</th>\n",
       "      <td>1</td>\n",
       "      <td>136</td>\n",
       "      <td>2</td>\n",
       "      <td>139</td>\n",
       "    </tr>\n",
       "    <tr>\n",
       "      <th>Homozygous_Variant</th>\n",
       "      <td>3</td>\n",
       "      <td>0</td>\n",
       "      <td>67</td>\n",
       "      <td>70</td>\n",
       "    </tr>\n",
       "    <tr>\n",
       "      <th>All</th>\n",
       "      <td>129</td>\n",
       "      <td>136</td>\n",
       "      <td>74</td>\n",
       "      <td>339</td>\n",
       "    </tr>\n",
       "  </tbody>\n",
       "</table>\n",
       "</div>"
      ],
      "text/plain": [
       "Predicted             Heterozygous_Variant  Homozygous_Reference  \\\n",
       "True                                                               \n",
       "Heterozygous_Variant                   125                     0   \n",
       "Homozygous_Reference                     1                   136   \n",
       "Homozygous_Variant                       3                     0   \n",
       "All                                    129                   136   \n",
       "\n",
       "Predicted             Homozygous_Variant  All  \n",
       "True                                           \n",
       "Heterozygous_Variant                   5  130  \n",
       "Homozygous_Reference                   2  139  \n",
       "Homozygous_Variant                    67   70  \n",
       "All                                   74  339  "
      ]
     },
     "execution_count": 109,
     "metadata": {},
     "output_type": "execute_result"
    }
   ],
   "source": [
    "pd.crosstab(consensus_GT, predict, rownames=['True'], colnames=['Predicted'], margins=True)"
   ]
  },
  {
   "cell_type": "markdown",
   "metadata": {},
   "source": [
    "** High Confidence Label Analysis**\n",
    "* **Reminder:** The labels predicted by the model are the following consensus genotype:\n",
    "    * Homozygous Reference: 0 \n",
    "    * Heterozygous Variant: 1 \n",
    "    * Homozygous Variant: 2 \n",
    "* Here **high confidence labels** are the GTcons labels predicted by the model that were also assigned a predict probability of either 0.9 or 1\n"
   ]
  },
  {
   "cell_type": "code",
   "execution_count": 110,
   "metadata": {
    "collapsed": true
   },
   "outputs": [],
   "source": [
    "high_conf_labels = X6[(X6['Homozygous_Reference_GTcons'] == 1) | (X6['Homozygous_Reference_GTcons'] >= 0.9) | (X6['Heterozygous_Variant_GTcons'] == 1) | (X6['Heterozygous_Variant_GTcons'] >= 0.9) | (X6['Homozygous_Variant_GTcons'] == 1) | (X6['Homozygous_Variant_GTcons'] >= 0.9)]\n"
   ]
  },
  {
   "cell_type": "markdown",
   "metadata": {},
   "source": [
    "<a id='hiconf_precision_score'></a>"
   ]
  },
  {
   "cell_type": "code",
   "execution_count": 111,
   "metadata": {},
   "outputs": [
    {
     "data": {
      "text/html": [
       "<div>\n",
       "<table border=\"1\" class=\"dataframe\">\n",
       "  <thead>\n",
       "    <tr style=\"text-align: right;\">\n",
       "      <th>Predicted</th>\n",
       "      <th>Heterozygous_Variant</th>\n",
       "      <th>Homozygous_Reference</th>\n",
       "      <th>Homozygous_Variant</th>\n",
       "      <th>All</th>\n",
       "    </tr>\n",
       "    <tr>\n",
       "      <th>True</th>\n",
       "      <th></th>\n",
       "      <th></th>\n",
       "      <th></th>\n",
       "      <th></th>\n",
       "    </tr>\n",
       "  </thead>\n",
       "  <tbody>\n",
       "    <tr>\n",
       "      <th>Heterozygous_Variant</th>\n",
       "      <td>84</td>\n",
       "      <td>0</td>\n",
       "      <td>0</td>\n",
       "      <td>84</td>\n",
       "    </tr>\n",
       "    <tr>\n",
       "      <th>Homozygous_Reference</th>\n",
       "      <td>0</td>\n",
       "      <td>122</td>\n",
       "      <td>0</td>\n",
       "      <td>122</td>\n",
       "    </tr>\n",
       "    <tr>\n",
       "      <th>Homozygous_Variant</th>\n",
       "      <td>0</td>\n",
       "      <td>0</td>\n",
       "      <td>39</td>\n",
       "      <td>39</td>\n",
       "    </tr>\n",
       "    <tr>\n",
       "      <th>All</th>\n",
       "      <td>84</td>\n",
       "      <td>122</td>\n",
       "      <td>39</td>\n",
       "      <td>245</td>\n",
       "    </tr>\n",
       "  </tbody>\n",
       "</table>\n",
       "</div>"
      ],
      "text/plain": [
       "Predicted             Heterozygous_Variant  Homozygous_Reference  \\\n",
       "True                                                               \n",
       "Heterozygous_Variant                    84                     0   \n",
       "Homozygous_Reference                     0                   122   \n",
       "Homozygous_Variant                       0                     0   \n",
       "All                                     84                   122   \n",
       "\n",
       "Predicted             Homozygous_Variant  All  \n",
       "True                                           \n",
       "Heterozygous_Variant                   0   84  \n",
       "Homozygous_Reference                   0  122  \n",
       "Homozygous_Variant                    39   39  \n",
       "All                                   39  245  "
      ]
     },
     "execution_count": 111,
     "metadata": {},
     "output_type": "execute_result"
    }
   ],
   "source": [
    "consensus_GT = high_conf_labels['GTcons']\n",
    "predict = high_conf_labels['predicted_GTcons_label']\n",
    "pd.crosstab(consensus_GT, predict, rownames=['True'], colnames=['Predicted'], margins=True)"
   ]
  },
  {
   "cell_type": "code",
   "execution_count": 112,
   "metadata": {
    "scrolled": false
   },
   "outputs": [
    {
     "name": "stdout",
     "output_type": "stream",
     "text": [
      "                      precision    recall  f1-score   support\n",
      "\n",
      "Heterozygous_Variant       1.00      1.00      1.00        84\n",
      "Homozygous_Reference       1.00      1.00      1.00       122\n",
      "  Homozygous_Variant       1.00      1.00      1.00        39\n",
      "\n",
      "         avg / total       1.00      1.00      1.00       245\n",
      "\n"
     ]
    }
   ],
   "source": [
    "from sklearn.metrics import classification_report\n",
    "print(classification_report(consensus_GT, predict))"
   ]
  },
  {
   "cell_type": "markdown",
   "metadata": {},
   "source": [
    "***\n",
    "**Predict**\n",
    "\n",
    "\n",
    "How well does a model trained on small variants predict GT of large variants?\n",
    "Variants : 1000+ bp\n",
    "***"
   ]
  },
  {
   "cell_type": "markdown",
   "metadata": {},
   "source": [
    "<a id='predict'></a>"
   ]
  },
  {
   "cell_type": "markdown",
   "metadata": {},
   "source": [
    "Description:\n",
    "\n",
    "   * In the [previous section](#machine_learning), a RF model was trained on svanalyzer data.\n",
    "\n",
    "       * The model was trained using [train/test split](#train_test) where 70% of the data was used to train the model and the model performance was determined by predicting labels for the remaining 30% of the data\n",
    " * Reminder: The labels for this training set and the following [prediction step](#prediction_step) are the consensus genotype (GTcons) labels generated from a preliminary R analysis based on reference and alternate read count:\n",
    "           * Homozygous Reference (0)\n",
    "           * Heterozygous Variant (1)\n",
    "           * Homozygous Variant (2)\n",
    "           \n",
    "   * The trained model is used in the following section to predict labels for 5000 randomly selected Deletions [these datapoints were randomly selected from [union_170509_refalt.sort.vcf](ftp://ftp-trace.ncbi.nlm.nih.gov/giab/ftp/data/AshkenazimTrio/analysis/NIST_UnionSVs_05092017/)]\n",
    "   \n",
    "   "
   ]
  },
  {
   "cell_type": "markdown",
   "metadata": {},
   "source": [
    "** Load Data **"
   ]
  },
  {
   "cell_type": "markdown",
   "metadata": {},
   "source": [
    "* Pool all datasets with large variants 1000 - 6000+"
   ]
  },
  {
   "cell_type": "code",
   "execution_count": 113,
   "metadata": {
    "collapsed": true
   },
   "outputs": [],
   "source": [
    "df = pd.concat([df_1000to5999, df_1000to5999_test, df_6000, df_6000_test], axis=0)\n",
    "df = df.reset_index()\n",
    "df2 = df\n",
    "df_ = pd.concat([df_1000to5999_, df_1000to5999_test_, df_6000_, df_6000_test_], axis=0)\n",
    "df_ = df_.reset_index()"
   ]
  },
  {
   "cell_type": "code",
   "execution_count": 114,
   "metadata": {
    "collapsed": true
   },
   "outputs": [],
   "source": [
    "df.drop(['GTcons'],axis=1, inplace=True)\n",
    "df.drop(['index'],axis=1, inplace=True)\n",
    "df_.drop(['index'],axis=1, inplace=True)"
   ]
  },
  {
   "cell_type": "code",
   "execution_count": 115,
   "metadata": {
    "collapsed": true
   },
   "outputs": [],
   "source": [
    "X2 = df"
   ]
  },
  {
   "cell_type": "markdown",
   "metadata": {},
   "source": [
    "** Impute missing values using KNN **"
   ]
  },
  {
   "cell_type": "code",
   "execution_count": 116,
   "metadata": {},
   "outputs": [
    {
     "name": "stdout",
     "output_type": "stream",
     "text": [
      "Imputing row 1/284 with 1 missing, elapsed time: 0.068\n",
      "Imputing row 101/284 with 1 missing, elapsed time: 0.082\n",
      "Imputing row 201/284 with 57 missing, elapsed time: 0.088\n"
     ]
    }
   ],
   "source": [
    "#Convert dataframe to matrix\n",
    "X2=X2.as_matrix()\n",
    "X2=pd.DataFrame(X2)\n",
    "\n",
    "# Imput missing values from three closest observations\n",
    "X2_imputed=KNN(k=3).complete(X2)\n",
    "X2=pd.DataFrame(X2_imputed)"
   ]
  },
  {
   "cell_type": "code",
   "execution_count": 117,
   "metadata": {},
   "outputs": [
    {
     "data": {
      "text/html": [
       "<div>\n",
       "<table border=\"1\" class=\"dataframe\">\n",
       "  <thead>\n",
       "    <tr style=\"text-align: right;\">\n",
       "      <th></th>\n",
       "      <th>Ill250.alt_alnScore_mean</th>\n",
       "      <th>Ill250.alt_alnScore_std</th>\n",
       "      <th>Ill250.alt_count</th>\n",
       "      <th>Ill250.alt_insertSize_mean</th>\n",
       "      <th>Ill250.alt_insertSize_std</th>\n",
       "      <th>Ill250.alt_reason_alignmentScore</th>\n",
       "      <th>Ill250.alt_reason_insertSizeScore</th>\n",
       "      <th>Ill250.alt_reason_orientation</th>\n",
       "      <th>Ill250.amb_alnScore_mean</th>\n",
       "      <th>Ill250.amb_alnScore_std</th>\n",
       "      <th>...</th>\n",
       "      <th>pacbio.ref_insertSize_mean</th>\n",
       "      <th>pacbio.ref_insertSize_std</th>\n",
       "      <th>pacbio.ref_reason_alignmentScore</th>\n",
       "      <th>refN_cnt</th>\n",
       "      <th>refN_pct</th>\n",
       "      <th>segdup_cnt</th>\n",
       "      <th>segdup_pct</th>\n",
       "      <th>start</th>\n",
       "      <th>tandemrep_cnt</th>\n",
       "      <th>tandemrep_pct</th>\n",
       "    </tr>\n",
       "  </thead>\n",
       "  <tbody>\n",
       "    <tr>\n",
       "      <th>0</th>\n",
       "      <td>0.000000</td>\n",
       "      <td>0.000000</td>\n",
       "      <td>0.0</td>\n",
       "      <td>0.000000</td>\n",
       "      <td>0.000000</td>\n",
       "      <td>0.0</td>\n",
       "      <td>0.0</td>\n",
       "      <td>0.0</td>\n",
       "      <td>872.238636</td>\n",
       "      <td>151.265870</td>\n",
       "      <td>...</td>\n",
       "      <td>10683.11594</td>\n",
       "      <td>5291.525830</td>\n",
       "      <td>69.0</td>\n",
       "      <td>0.0</td>\n",
       "      <td>0.0</td>\n",
       "      <td>0.0</td>\n",
       "      <td>0.0</td>\n",
       "      <td>66398770.0</td>\n",
       "      <td>6.0</td>\n",
       "      <td>0.097264</td>\n",
       "    </tr>\n",
       "    <tr>\n",
       "      <th>1</th>\n",
       "      <td>972.727273</td>\n",
       "      <td>15.764407</td>\n",
       "      <td>44.0</td>\n",
       "      <td>446.931818</td>\n",
       "      <td>81.055368</td>\n",
       "      <td>35.0</td>\n",
       "      <td>9.0</td>\n",
       "      <td>0.0</td>\n",
       "      <td>861.743750</td>\n",
       "      <td>161.249545</td>\n",
       "      <td>...</td>\n",
       "      <td>0.00000</td>\n",
       "      <td>0.000000</td>\n",
       "      <td>0.0</td>\n",
       "      <td>0.0</td>\n",
       "      <td>0.0</td>\n",
       "      <td>0.0</td>\n",
       "      <td>0.0</td>\n",
       "      <td>14189915.0</td>\n",
       "      <td>3.0</td>\n",
       "      <td>0.037082</td>\n",
       "    </tr>\n",
       "    <tr>\n",
       "      <th>2</th>\n",
       "      <td>977.161290</td>\n",
       "      <td>15.238103</td>\n",
       "      <td>31.0</td>\n",
       "      <td>422.161290</td>\n",
       "      <td>57.943853</td>\n",
       "      <td>28.0</td>\n",
       "      <td>3.0</td>\n",
       "      <td>0.0</td>\n",
       "      <td>886.130045</td>\n",
       "      <td>129.576288</td>\n",
       "      <td>...</td>\n",
       "      <td>10714.20833</td>\n",
       "      <td>3615.789459</td>\n",
       "      <td>24.0</td>\n",
       "      <td>0.0</td>\n",
       "      <td>0.0</td>\n",
       "      <td>0.0</td>\n",
       "      <td>0.0</td>\n",
       "      <td>20950622.0</td>\n",
       "      <td>10.0</td>\n",
       "      <td>0.076469</td>\n",
       "    </tr>\n",
       "  </tbody>\n",
       "</table>\n",
       "<p>3 rows × 176 columns</p>\n",
       "</div>"
      ],
      "text/plain": [
       "   Ill250.alt_alnScore_mean  Ill250.alt_alnScore_std  Ill250.alt_count  \\\n",
       "0                  0.000000                 0.000000               0.0   \n",
       "1                972.727273                15.764407              44.0   \n",
       "2                977.161290                15.238103              31.0   \n",
       "\n",
       "   Ill250.alt_insertSize_mean  Ill250.alt_insertSize_std  \\\n",
       "0                    0.000000                   0.000000   \n",
       "1                  446.931818                  81.055368   \n",
       "2                  422.161290                  57.943853   \n",
       "\n",
       "   Ill250.alt_reason_alignmentScore  Ill250.alt_reason_insertSizeScore  \\\n",
       "0                               0.0                                0.0   \n",
       "1                              35.0                                9.0   \n",
       "2                              28.0                                3.0   \n",
       "\n",
       "   Ill250.alt_reason_orientation  Ill250.amb_alnScore_mean  \\\n",
       "0                            0.0                872.238636   \n",
       "1                            0.0                861.743750   \n",
       "2                            0.0                886.130045   \n",
       "\n",
       "   Ill250.amb_alnScore_std      ...        pacbio.ref_insertSize_mean  \\\n",
       "0               151.265870      ...                       10683.11594   \n",
       "1               161.249545      ...                           0.00000   \n",
       "2               129.576288      ...                       10714.20833   \n",
       "\n",
       "   pacbio.ref_insertSize_std  pacbio.ref_reason_alignmentScore  refN_cnt  \\\n",
       "0                5291.525830                              69.0       0.0   \n",
       "1                   0.000000                               0.0       0.0   \n",
       "2                3615.789459                              24.0       0.0   \n",
       "\n",
       "   refN_pct  segdup_cnt  segdup_pct       start  tandemrep_cnt  tandemrep_pct  \n",
       "0       0.0         0.0         0.0  66398770.0            6.0       0.097264  \n",
       "1       0.0         0.0         0.0  14189915.0            3.0       0.037082  \n",
       "2       0.0         0.0         0.0  20950622.0           10.0       0.076469  \n",
       "\n",
       "[3 rows x 176 columns]"
      ]
     },
     "execution_count": 117,
     "metadata": {},
     "output_type": "execute_result"
    }
   ],
   "source": [
    "df_header = list(df.columns.values)\n",
    "X2.columns = df_header\n",
    "X2.head(3)"
   ]
  },
  {
   "cell_type": "code",
   "execution_count": 118,
   "metadata": {},
   "outputs": [
    {
     "data": {
      "text/html": [
       "<div>\n",
       "<table border=\"1\" class=\"dataframe\">\n",
       "  <thead>\n",
       "    <tr style=\"text-align: right;\">\n",
       "      <th></th>\n",
       "      <th>Ill250.alt_alnScore_mean</th>\n",
       "      <th>Ill250.alt_alnScore_std</th>\n",
       "      <th>Ill250.alt_count</th>\n",
       "      <th>Ill250.alt_insertSize_mean</th>\n",
       "      <th>Ill250.alt_insertSize_std</th>\n",
       "      <th>Ill250.alt_reason_alignmentScore</th>\n",
       "      <th>Ill250.alt_reason_insertSizeScore</th>\n",
       "      <th>Ill250.alt_reason_orientation</th>\n",
       "      <th>Ill250.amb_alnScore_mean</th>\n",
       "      <th>Ill250.amb_alnScore_std</th>\n",
       "      <th>...</th>\n",
       "      <th>pacbio.ref_insertSize_mean</th>\n",
       "      <th>pacbio.ref_insertSize_std</th>\n",
       "      <th>pacbio.ref_reason_alignmentScore</th>\n",
       "      <th>refN_cnt</th>\n",
       "      <th>refN_pct</th>\n",
       "      <th>segdup_cnt</th>\n",
       "      <th>segdup_pct</th>\n",
       "      <th>start</th>\n",
       "      <th>tandemrep_cnt</th>\n",
       "      <th>tandemrep_pct</th>\n",
       "    </tr>\n",
       "  </thead>\n",
       "  <tbody>\n",
       "    <tr>\n",
       "      <th>0</th>\n",
       "      <td>0.000000</td>\n",
       "      <td>0.000000</td>\n",
       "      <td>0.0</td>\n",
       "      <td>0.000000</td>\n",
       "      <td>0.000000</td>\n",
       "      <td>0.0</td>\n",
       "      <td>0.0</td>\n",
       "      <td>0.0</td>\n",
       "      <td>872.238636</td>\n",
       "      <td>151.265870</td>\n",
       "      <td>...</td>\n",
       "      <td>10683.11594</td>\n",
       "      <td>5291.525830</td>\n",
       "      <td>69.0</td>\n",
       "      <td>0.0</td>\n",
       "      <td>0.0</td>\n",
       "      <td>0.0</td>\n",
       "      <td>0.0</td>\n",
       "      <td>66398770.0</td>\n",
       "      <td>6.0</td>\n",
       "      <td>0.097264</td>\n",
       "    </tr>\n",
       "    <tr>\n",
       "      <th>1</th>\n",
       "      <td>972.727273</td>\n",
       "      <td>15.764407</td>\n",
       "      <td>44.0</td>\n",
       "      <td>446.931818</td>\n",
       "      <td>81.055368</td>\n",
       "      <td>35.0</td>\n",
       "      <td>9.0</td>\n",
       "      <td>0.0</td>\n",
       "      <td>861.743750</td>\n",
       "      <td>161.249545</td>\n",
       "      <td>...</td>\n",
       "      <td>0.00000</td>\n",
       "      <td>0.000000</td>\n",
       "      <td>0.0</td>\n",
       "      <td>0.0</td>\n",
       "      <td>0.0</td>\n",
       "      <td>0.0</td>\n",
       "      <td>0.0</td>\n",
       "      <td>14189915.0</td>\n",
       "      <td>3.0</td>\n",
       "      <td>0.037082</td>\n",
       "    </tr>\n",
       "    <tr>\n",
       "      <th>2</th>\n",
       "      <td>977.161290</td>\n",
       "      <td>15.238103</td>\n",
       "      <td>31.0</td>\n",
       "      <td>422.161290</td>\n",
       "      <td>57.943853</td>\n",
       "      <td>28.0</td>\n",
       "      <td>3.0</td>\n",
       "      <td>0.0</td>\n",
       "      <td>886.130045</td>\n",
       "      <td>129.576288</td>\n",
       "      <td>...</td>\n",
       "      <td>10714.20833</td>\n",
       "      <td>3615.789459</td>\n",
       "      <td>24.0</td>\n",
       "      <td>0.0</td>\n",
       "      <td>0.0</td>\n",
       "      <td>0.0</td>\n",
       "      <td>0.0</td>\n",
       "      <td>20950622.0</td>\n",
       "      <td>10.0</td>\n",
       "      <td>0.076469</td>\n",
       "    </tr>\n",
       "  </tbody>\n",
       "</table>\n",
       "<p>3 rows × 176 columns</p>\n",
       "</div>"
      ],
      "text/plain": [
       "   Ill250.alt_alnScore_mean  Ill250.alt_alnScore_std  Ill250.alt_count  \\\n",
       "0                  0.000000                 0.000000               0.0   \n",
       "1                972.727273                15.764407              44.0   \n",
       "2                977.161290                15.238103              31.0   \n",
       "\n",
       "   Ill250.alt_insertSize_mean  Ill250.alt_insertSize_std  \\\n",
       "0                    0.000000                   0.000000   \n",
       "1                  446.931818                  81.055368   \n",
       "2                  422.161290                  57.943853   \n",
       "\n",
       "   Ill250.alt_reason_alignmentScore  Ill250.alt_reason_insertSizeScore  \\\n",
       "0                               0.0                                0.0   \n",
       "1                              35.0                                9.0   \n",
       "2                              28.0                                3.0   \n",
       "\n",
       "   Ill250.alt_reason_orientation  Ill250.amb_alnScore_mean  \\\n",
       "0                            0.0                872.238636   \n",
       "1                            0.0                861.743750   \n",
       "2                            0.0                886.130045   \n",
       "\n",
       "   Ill250.amb_alnScore_std      ...        pacbio.ref_insertSize_mean  \\\n",
       "0               151.265870      ...                       10683.11594   \n",
       "1               161.249545      ...                           0.00000   \n",
       "2               129.576288      ...                       10714.20833   \n",
       "\n",
       "   pacbio.ref_insertSize_std  pacbio.ref_reason_alignmentScore  refN_cnt  \\\n",
       "0                5291.525830                              69.0       0.0   \n",
       "1                   0.000000                               0.0       0.0   \n",
       "2                3615.789459                              24.0       0.0   \n",
       "\n",
       "   refN_pct  segdup_cnt  segdup_pct       start  tandemrep_cnt  tandemrep_pct  \n",
       "0       0.0         0.0         0.0  66398770.0            6.0       0.097264  \n",
       "1       0.0         0.0         0.0  14189915.0            3.0       0.037082  \n",
       "2       0.0         0.0         0.0  20950622.0           10.0       0.076469  \n",
       "\n",
       "[3 rows x 176 columns]"
      ]
     },
     "execution_count": 118,
     "metadata": {},
     "output_type": "execute_result"
    }
   ],
   "source": [
    "X3 = pd.DataFrame()\n",
    "X3 = X2\n",
    "X3.head(3)"
   ]
  },
  {
   "cell_type": "code",
   "execution_count": 119,
   "metadata": {
    "collapsed": true
   },
   "outputs": [],
   "source": [
    "# Order features\n",
    "X5 = X2.reindex_axis(sorted(X2.columns), axis=1)"
   ]
  },
  {
   "cell_type": "markdown",
   "metadata": {},
   "source": [
    "<a id='prediction_step'></a>"
   ]
  },
  {
   "cell_type": "code",
   "execution_count": 120,
   "metadata": {
    "collapsed": true
   },
   "outputs": [],
   "source": [
    "pred = model.predict(X5)"
   ]
  },
  {
   "cell_type": "code",
   "execution_count": 121,
   "metadata": {
    "collapsed": true
   },
   "outputs": [],
   "source": [
    "pred_prob = model.predict_proba(X5)"
   ]
  },
  {
   "cell_type": "code",
   "execution_count": 122,
   "metadata": {
    "collapsed": true
   },
   "outputs": [],
   "source": [
    "pred_prob_log = model.predict_log_proba(X5)"
   ]
  },
  {
   "cell_type": "code",
   "execution_count": 123,
   "metadata": {},
   "outputs": [
    {
     "data": {
      "text/html": [
       "<div>\n",
       "<table border=\"1\" class=\"dataframe\">\n",
       "  <thead>\n",
       "    <tr style=\"text-align: right;\">\n",
       "      <th></th>\n",
       "      <th>Ill250.alt_alnScore_mean</th>\n",
       "      <th>Ill250.alt_alnScore_std</th>\n",
       "      <th>Ill250.alt_count</th>\n",
       "      <th>Ill250.alt_insertSize_mean</th>\n",
       "      <th>Ill250.alt_insertSize_std</th>\n",
       "      <th>Ill250.alt_reason_alignmentScore</th>\n",
       "      <th>Ill250.alt_reason_insertSizeScore</th>\n",
       "      <th>Ill250.alt_reason_orientation</th>\n",
       "      <th>Ill250.amb_alnScore_mean</th>\n",
       "      <th>Ill250.amb_alnScore_std</th>\n",
       "      <th>...</th>\n",
       "      <th>pacbio.ref_insertSize_mean</th>\n",
       "      <th>pacbio.ref_insertSize_std</th>\n",
       "      <th>pacbio.ref_reason_alignmentScore</th>\n",
       "      <th>refN_cnt</th>\n",
       "      <th>refN_pct</th>\n",
       "      <th>segdup_cnt</th>\n",
       "      <th>segdup_pct</th>\n",
       "      <th>start</th>\n",
       "      <th>tandemrep_cnt</th>\n",
       "      <th>tandemrep_pct</th>\n",
       "    </tr>\n",
       "  </thead>\n",
       "  <tbody>\n",
       "  </tbody>\n",
       "</table>\n",
       "<p>0 rows × 176 columns</p>\n",
       "</div>"
      ],
      "text/plain": [
       "Empty DataFrame\n",
       "Columns: [Ill250.alt_alnScore_mean, Ill250.alt_alnScore_std, Ill250.alt_count, Ill250.alt_insertSize_mean, Ill250.alt_insertSize_std, Ill250.alt_reason_alignmentScore, Ill250.alt_reason_insertSizeScore, Ill250.alt_reason_orientation, Ill250.amb_alnScore_mean, Ill250.amb_alnScore_std, Ill250.amb_count, Ill250.amb_insertSize_mean, Ill250.amb_insertSize_std, Ill250.amb_reason_alignmentScore_alignmentScore, Ill250.amb_reason_alignmentScore_orientation, Ill250.amb_reason_flanking, Ill250.amb_reason_insertSizeScore_alignmentScore, Ill250.amb_reason_multimapping, Ill250.amb_reason_orientation_alignmentScore, Ill250.amb_reason_orientation_orientation, Ill250.amb_reason_same_scores, Ill250.ref_alnScore_mean, Ill250.ref_alnScore_std, Ill250.ref_count, Ill250.ref_insertSize_mean, Ill250.ref_insertSize_std, Ill250.ref_reason_alignmentScore, Ill250.ref_reason_orientation, Ill300x.alt_alnScore_mean, Ill300x.alt_alnScore_std, Ill300x.alt_count, Ill300x.alt_insertSize_mean, Ill300x.alt_insertSize_std, Ill300x.alt_reason_alignmentScore, Ill300x.alt_reason_insertSizeScore, Ill300x.alt_reason_orientation, Ill300x.amb_alnScore_mean, Ill300x.amb_alnScore_std, Ill300x.amb_count, Ill300x.amb_insertSize_mean, Ill300x.amb_insertSize_std, Ill300x.amb_reason_alignmentScore_alignmentScore, Ill300x.amb_reason_alignmentScore_insertSizeScore, Ill300x.amb_reason_alignmentScore_orientation, Ill300x.amb_reason_flanking, Ill300x.amb_reason_insertSizeScore_alignmentScore, Ill300x.amb_reason_insertSizeScore_insertSizeScore, Ill300x.amb_reason_multimapping, Ill300x.amb_reason_orientation_alignmentScore, Ill300x.amb_reason_orientation_orientation, Ill300x.amb_reason_same_scores, Ill300x.ref_alnScore_mean, Ill300x.ref_alnScore_std, Ill300x.ref_count, Ill300x.ref_insertSize_mean, Ill300x.ref_insertSize_std, Ill300x.ref_reason_alignmentScore, Ill300x.ref_reason_insertSizeScore, Ill300x.ref_reason_orientation, IllMP.alt_alnScore_mean, IllMP.alt_alnScore_std, IllMP.alt_count, IllMP.alt_insertSize_mean, IllMP.alt_insertSize_std, IllMP.alt_reason_alignmentScore, IllMP.alt_reason_insertSizeScore, IllMP.alt_reason_orientation, IllMP.amb_alnScore_mean, IllMP.amb_alnScore_std, IllMP.amb_count, IllMP.amb_insertSize_mean, IllMP.amb_insertSize_std, IllMP.amb_reason_alignmentScore_alignmentScore, IllMP.amb_reason_alignmentScore_orientation, IllMP.amb_reason_flanking, IllMP.amb_reason_insertSizeScore_alignmentScore, IllMP.amb_reason_insertSizeScore_insertSizeScore, IllMP.amb_reason_multimapping, IllMP.amb_reason_orientation_alignmentScore, IllMP.amb_reason_orientation_orientation, IllMP.amb_reason_same_scores, IllMP.ref_alnScore_mean, IllMP.ref_alnScore_std, IllMP.ref_count, IllMP.ref_insertSize_mean, IllMP.ref_insertSize_std, IllMP.ref_reason_alignmentScore, IllMP.ref_reason_insertSizeScore, IllMP.ref_reason_orientation, Size, TenX.HP1_alt_alnScore_mean, TenX.HP1_alt_alnScore_std, TenX.HP1_alt_count, TenX.HP1_alt_insertSize_mean, TenX.HP1_alt_insertSize_std, TenX.HP1_alt_reason_alignmentScore, TenX.HP1_alt_reason_insertSizeScore, TenX.HP1_alt_reason_orientation, TenX.HP1_amb_alnScore_mean, TenX.HP1_amb_alnScore_std, ...]\n",
       "Index: []\n",
       "\n",
       "[0 rows x 176 columns]"
      ]
     },
     "execution_count": 123,
     "metadata": {},
     "output_type": "execute_result"
    }
   ],
   "source": [
    "df[df.index.duplicated()]"
   ]
  },
  {
   "cell_type": "code",
   "execution_count": 124,
   "metadata": {
    "collapsed": true
   },
   "outputs": [],
   "source": [
    "X5['predicted_label'] = pred\n",
    "X5['chrom'] = df_['chrom']\n",
    "X5['GTcons'] = df_['GTcons']\n",
    "X5['start'] = df_['start']\n",
    "X5['end'] = df_['end']\n",
    "X5['Size'] = df_['Size']\n",
    "X5['GTsupp'] = df_['GTsupp']"
   ]
  },
  {
   "cell_type": "code",
   "execution_count": 125,
   "metadata": {
    "collapsed": true
   },
   "outputs": [],
   "source": [
    "X6 = pd.concat([X5, pd.DataFrame(pred_prob, columns=['1','2','3'])])"
   ]
  },
  {
   "cell_type": "code",
   "execution_count": 126,
   "metadata": {
    "collapsed": true
   },
   "outputs": [],
   "source": [
    "X7 = pd.concat([X5, pd.DataFrame(pred_prob_log, columns=['1','2','3'])])"
   ]
  },
  {
   "cell_type": "code",
   "execution_count": 127,
   "metadata": {
    "collapsed": true
   },
   "outputs": [],
   "source": [
    "X6.to_csv('/Volumes/lesleydata/RF_model_trainingData_test/size_data/results/figures/100to299/100to299_predLrg.csv', index=False)"
   ]
  },
  {
   "cell_type": "code",
   "execution_count": null,
   "metadata": {
    "collapsed": true
   },
   "outputs": [],
   "source": [
    "X7.to_csv('/Volumes/lesleydata/RF_model_trainingData_test/size_data/results/figures/100to299/100to299_log._predLrgcsv', index=False)"
   ]
  },
  {
   "cell_type": "code",
   "execution_count": 128,
   "metadata": {
    "collapsed": true
   },
   "outputs": [],
   "source": [
    "X6 = pd.read_csv('/Volumes/lesleydata/RF_model_trainingData_test/size_data/results/figures/100to299/100to299_predLrg.csv')"
   ]
  },
  {
   "cell_type": "code",
   "execution_count": 129,
   "metadata": {
    "collapsed": true
   },
   "outputs": [],
   "source": [
    "X6.rename(columns={'1': 'Homozygous_Reference_GTcons'}, inplace=True)\n",
    "X6.rename(columns={'2': 'Heterozygous_Variant_GTcons'}, inplace=True)\n",
    "X6.rename(columns={'3': 'Homozygous_Variant_GTcons'}, inplace=True)\n",
    "X6.rename(columns={'predicted_label': 'predicted_GTcons_label'}, inplace=True)"
   ]
  },
  {
   "cell_type": "code",
   "execution_count": 130,
   "metadata": {
    "collapsed": true
   },
   "outputs": [],
   "source": [
    "X6['GTcons'].replace('Homozygous_Reference', '0', inplace=True)\n",
    "X6['GTcons'].replace('Heterozygous_Variant', '1', inplace=True)\n",
    "X6['GTcons'].replace('Homozygous_Variant', '2', inplace=True)"
   ]
  },
  {
   "cell_type": "code",
   "execution_count": 131,
   "metadata": {
    "scrolled": true
   },
   "outputs": [
    {
     "data": {
      "text/html": [
       "<div>\n",
       "<table border=\"1\" class=\"dataframe\">\n",
       "  <thead>\n",
       "    <tr style=\"text-align: right;\">\n",
       "      <th></th>\n",
       "      <th>Homozygous_Reference_GTcons</th>\n",
       "      <th>Heterozygous_Variant_GTcons</th>\n",
       "      <th>Homozygous_Variant_GTcons</th>\n",
       "      <th>GTcons</th>\n",
       "      <th>GTsupp</th>\n",
       "      <th>Ill250.alt_alnScore_mean</th>\n",
       "      <th>Ill250.alt_alnScore_std</th>\n",
       "      <th>Ill250.alt_count</th>\n",
       "      <th>Ill250.alt_insertSize_mean</th>\n",
       "      <th>Ill250.alt_insertSize_std</th>\n",
       "      <th>...</th>\n",
       "      <th>pacbio.ref_insertSize_std</th>\n",
       "      <th>pacbio.ref_reason_alignmentScore</th>\n",
       "      <th>predicted_GTcons_label</th>\n",
       "      <th>refN_cnt</th>\n",
       "      <th>refN_pct</th>\n",
       "      <th>segdup_cnt</th>\n",
       "      <th>segdup_pct</th>\n",
       "      <th>start</th>\n",
       "      <th>tandemrep_cnt</th>\n",
       "      <th>tandemrep_pct</th>\n",
       "    </tr>\n",
       "  </thead>\n",
       "  <tbody>\n",
       "    <tr>\n",
       "      <th>0</th>\n",
       "      <td>0.916667</td>\n",
       "      <td>0.083333</td>\n",
       "      <td>0.00</td>\n",
       "      <td>0</td>\n",
       "      <td>5</td>\n",
       "      <td>0.000000</td>\n",
       "      <td>0.000000</td>\n",
       "      <td>0.0</td>\n",
       "      <td>0.000000</td>\n",
       "      <td>0.000000</td>\n",
       "      <td>...</td>\n",
       "      <td>5291.525830</td>\n",
       "      <td>69.0</td>\n",
       "      <td>0</td>\n",
       "      <td>0</td>\n",
       "      <td>0</td>\n",
       "      <td>0</td>\n",
       "      <td>0.0</td>\n",
       "      <td>66398770</td>\n",
       "      <td>6</td>\n",
       "      <td>0.097264</td>\n",
       "    </tr>\n",
       "    <tr>\n",
       "      <th>1</th>\n",
       "      <td>0.000000</td>\n",
       "      <td>0.250000</td>\n",
       "      <td>0.75</td>\n",
       "      <td>2</td>\n",
       "      <td>3</td>\n",
       "      <td>972.727273</td>\n",
       "      <td>15.764407</td>\n",
       "      <td>44.0</td>\n",
       "      <td>446.931818</td>\n",
       "      <td>81.055368</td>\n",
       "      <td>...</td>\n",
       "      <td>0.000000</td>\n",
       "      <td>0.0</td>\n",
       "      <td>2</td>\n",
       "      <td>0</td>\n",
       "      <td>0</td>\n",
       "      <td>0</td>\n",
       "      <td>0.0</td>\n",
       "      <td>14189915</td>\n",
       "      <td>3</td>\n",
       "      <td>0.037082</td>\n",
       "    </tr>\n",
       "    <tr>\n",
       "      <th>2</th>\n",
       "      <td>0.000000</td>\n",
       "      <td>1.000000</td>\n",
       "      <td>0.00</td>\n",
       "      <td>1</td>\n",
       "      <td>5</td>\n",
       "      <td>977.161290</td>\n",
       "      <td>15.238103</td>\n",
       "      <td>31.0</td>\n",
       "      <td>422.161290</td>\n",
       "      <td>57.943853</td>\n",
       "      <td>...</td>\n",
       "      <td>3615.789459</td>\n",
       "      <td>24.0</td>\n",
       "      <td>1</td>\n",
       "      <td>0</td>\n",
       "      <td>0</td>\n",
       "      <td>0</td>\n",
       "      <td>0.0</td>\n",
       "      <td>20950622</td>\n",
       "      <td>10</td>\n",
       "      <td>0.076469</td>\n",
       "    </tr>\n",
       "  </tbody>\n",
       "</table>\n",
       "<p>3 rows × 182 columns</p>\n",
       "</div>"
      ],
      "text/plain": [
       "   Homozygous_Reference_GTcons  Heterozygous_Variant_GTcons  \\\n",
       "0                     0.916667                     0.083333   \n",
       "1                     0.000000                     0.250000   \n",
       "2                     0.000000                     1.000000   \n",
       "\n",
       "   Homozygous_Variant_GTcons GTcons  GTsupp  Ill250.alt_alnScore_mean  \\\n",
       "0                       0.00      0       5                  0.000000   \n",
       "1                       0.75      2       3                972.727273   \n",
       "2                       0.00      1       5                977.161290   \n",
       "\n",
       "   Ill250.alt_alnScore_std  Ill250.alt_count  Ill250.alt_insertSize_mean  \\\n",
       "0                 0.000000               0.0                    0.000000   \n",
       "1                15.764407              44.0                  446.931818   \n",
       "2                15.238103              31.0                  422.161290   \n",
       "\n",
       "   Ill250.alt_insertSize_std      ...        pacbio.ref_insertSize_std  \\\n",
       "0                   0.000000      ...                      5291.525830   \n",
       "1                  81.055368      ...                         0.000000   \n",
       "2                  57.943853      ...                      3615.789459   \n",
       "\n",
       "   pacbio.ref_reason_alignmentScore  predicted_GTcons_label  refN_cnt  \\\n",
       "0                              69.0                       0         0   \n",
       "1                               0.0                       2         0   \n",
       "2                              24.0                       1         0   \n",
       "\n",
       "   refN_pct  segdup_cnt  segdup_pct     start  tandemrep_cnt  tandemrep_pct  \n",
       "0         0           0         0.0  66398770              6       0.097264  \n",
       "1         0           0         0.0  14189915              3       0.037082  \n",
       "2         0           0         0.0  20950622             10       0.076469  \n",
       "\n",
       "[3 rows x 182 columns]"
      ]
     },
     "execution_count": 131,
     "metadata": {},
     "output_type": "execute_result"
    }
   ],
   "source": [
    "X6.head(3)"
   ]
  },
  {
   "cell_type": "code",
   "execution_count": 132,
   "metadata": {
    "collapsed": true
   },
   "outputs": [],
   "source": [
    "X6.to_csv('/Volumes/lesleydata/RF_model_trainingData_test/size_data/results/figures/100to299/100to299_final_predLrg.csv', index=False)"
   ]
  },
  {
   "cell_type": "code",
   "execution_count": null,
   "metadata": {
    "collapsed": true
   },
   "outputs": [],
   "source": [
    "# X6['GTcons'].fillna(999)\n",
    "# X7 = X6[X6.GTcons != 999]\n",
    "# X6['predicted_GTcons_label'].isnull().sum()"
   ]
  },
  {
   "cell_type": "code",
   "execution_count": 133,
   "metadata": {},
   "outputs": [
    {
     "data": {
      "text/plain": [
       "dtype('int64')"
      ]
     },
     "execution_count": 133,
     "metadata": {},
     "output_type": "execute_result"
    }
   ],
   "source": [
    "X6['predicted_GTcons_label'].dtypes"
   ]
  },
  {
   "cell_type": "code",
   "execution_count": 134,
   "metadata": {
    "collapsed": true
   },
   "outputs": [],
   "source": [
    "X6.GTcons = X6.GTcons.astype(int)"
   ]
  },
  {
   "cell_type": "code",
   "execution_count": 135,
   "metadata": {},
   "outputs": [
    {
     "name": "stdout",
     "output_type": "stream",
     "text": [
      "0    120\n",
      "1    100\n",
      "2     64\n",
      "dtype: int64\n"
     ]
    }
   ],
   "source": [
    "print (pd.value_counts(X6['GTcons'].values, sort=False))"
   ]
  },
  {
   "cell_type": "markdown",
   "metadata": {},
   "source": [
    "***\n",
    "Label Analysis\n",
    "***"
   ]
  },
  {
   "cell_type": "markdown",
   "metadata": {},
   "source": [
    "Description:\n",
    "  * The [random forest(RF) model](#train_test) was trained on svanalyzer data. The trained model was used to predict consensus GT labels for the 5000 deletions that were randomly selected from the union_refalt vcf. The following is a comparison of model predicted labels [Conesus GT] to consensus genotype generated by the R script for the 5000 randomly selected datapoints from union_refalt.vcf "
   ]
  },
  {
   "cell_type": "code",
   "execution_count": 136,
   "metadata": {},
   "outputs": [
    {
     "name": "stdout",
     "output_type": "stream",
     "text": [
      "[[118   2   0]\n",
      " [  2  97   1]\n",
      " [  1   4  59]]\n"
     ]
    }
   ],
   "source": [
    "from sklearn.metrics import confusion_matrix\n",
    "consensus_GT = X6['GTcons']\n",
    "predict = X6['predicted_GTcons_label']\n",
    "print(confusion_matrix(consensus_GT, predict))"
   ]
  },
  {
   "cell_type": "code",
   "execution_count": 137,
   "metadata": {
    "collapsed": true
   },
   "outputs": [],
   "source": [
    "X6['GTcons'].replace(0, 'Homozygous_Reference', inplace=True)\n",
    "X6['GTcons'].replace(1, 'Heterozygous_Variant', inplace=True)\n",
    "X6['GTcons'].replace(2, 'Homozygous_Variant', inplace=True)\n",
    "X6['predicted_GTcons_label'].replace(0.0, 'Homozygous_Reference', inplace=True)\n",
    "X6['predicted_GTcons_label'].replace(1.0, 'Heterozygous_Variant', inplace=True)\n",
    "X6['predicted_GTcons_label'].replace(2.0, 'Homozygous_Variant', inplace=True)"
   ]
  },
  {
   "cell_type": "markdown",
   "metadata": {},
   "source": [
    "<a id='predict_precision_score_matrix'></a>"
   ]
  },
  {
   "cell_type": "code",
   "execution_count": 138,
   "metadata": {},
   "outputs": [
    {
     "name": "stdout",
     "output_type": "stream",
     "text": [
      "Precision score of the prediction subset: 0.965\n"
     ]
    }
   ],
   "source": [
    "print('Precision score of the prediction subset: {:.3f}'.format(precision_score(consensus_GT, predict, average='micro'))) "
   ]
  },
  {
   "cell_type": "code",
   "execution_count": 139,
   "metadata": {},
   "outputs": [
    {
     "name": "stdout",
     "output_type": "stream",
     "text": [
      "Accuracy score of the prediction subset: 0.965\n"
     ]
    }
   ],
   "source": [
    "print('Accuracy score of the prediction subset: {:.3f}'.format(accuracy_score(consensus_GT, predict))) "
   ]
  },
  {
   "cell_type": "code",
   "execution_count": 140,
   "metadata": {
    "scrolled": true
   },
   "outputs": [
    {
     "data": {
      "text/html": [
       "<div>\n",
       "<table border=\"1\" class=\"dataframe\">\n",
       "  <thead>\n",
       "    <tr style=\"text-align: right;\">\n",
       "      <th>Predicted</th>\n",
       "      <th>Heterozygous_Variant</th>\n",
       "      <th>Homozygous_Reference</th>\n",
       "      <th>Homozygous_Variant</th>\n",
       "      <th>All</th>\n",
       "    </tr>\n",
       "    <tr>\n",
       "      <th>True</th>\n",
       "      <th></th>\n",
       "      <th></th>\n",
       "      <th></th>\n",
       "      <th></th>\n",
       "    </tr>\n",
       "  </thead>\n",
       "  <tbody>\n",
       "    <tr>\n",
       "      <th>Heterozygous_Variant</th>\n",
       "      <td>97</td>\n",
       "      <td>2</td>\n",
       "      <td>1</td>\n",
       "      <td>100</td>\n",
       "    </tr>\n",
       "    <tr>\n",
       "      <th>Homozygous_Reference</th>\n",
       "      <td>2</td>\n",
       "      <td>118</td>\n",
       "      <td>0</td>\n",
       "      <td>120</td>\n",
       "    </tr>\n",
       "    <tr>\n",
       "      <th>Homozygous_Variant</th>\n",
       "      <td>4</td>\n",
       "      <td>1</td>\n",
       "      <td>59</td>\n",
       "      <td>64</td>\n",
       "    </tr>\n",
       "    <tr>\n",
       "      <th>All</th>\n",
       "      <td>103</td>\n",
       "      <td>121</td>\n",
       "      <td>60</td>\n",
       "      <td>284</td>\n",
       "    </tr>\n",
       "  </tbody>\n",
       "</table>\n",
       "</div>"
      ],
      "text/plain": [
       "Predicted             Heterozygous_Variant  Homozygous_Reference  \\\n",
       "True                                                               \n",
       "Heterozygous_Variant                    97                     2   \n",
       "Homozygous_Reference                     2                   118   \n",
       "Homozygous_Variant                       4                     1   \n",
       "All                                    103                   121   \n",
       "\n",
       "Predicted             Homozygous_Variant  All  \n",
       "True                                           \n",
       "Heterozygous_Variant                   1  100  \n",
       "Homozygous_Reference                   0  120  \n",
       "Homozygous_Variant                    59   64  \n",
       "All                                   60  284  "
      ]
     },
     "execution_count": 140,
     "metadata": {},
     "output_type": "execute_result"
    }
   ],
   "source": [
    "pd.crosstab(consensus_GT, predict, rownames=['True'], colnames=['Predicted'], margins=True)"
   ]
  },
  {
   "cell_type": "markdown",
   "metadata": {},
   "source": [
    "** High Confidence Label Analysis**\n",
    "* **Reminder:** The labels predicted by the model are the following consensus genotype:\n",
    "    * Homozygous Reference: 0 \n",
    "    * Heterozygous Variant: 1 \n",
    "    * Homozygous Variant: 2 \n",
    "* Here **high confidence labels** are the GTcons labels predicted by the model that were also assigned a predict probability of either 0.9 or 1\n"
   ]
  },
  {
   "cell_type": "code",
   "execution_count": 141,
   "metadata": {
    "collapsed": true
   },
   "outputs": [],
   "source": [
    "high_conf_labels = X6[(X6['Homozygous_Reference_GTcons'] == 1) | (X6['Homozygous_Reference_GTcons'] >= 0.9) | (X6['Heterozygous_Variant_GTcons'] == 1) | (X6['Heterozygous_Variant_GTcons'] >= 0.9) | (X6['Homozygous_Variant_GTcons'] == 1) | (X6['Homozygous_Variant_GTcons'] >= 0.9)]\n"
   ]
  },
  {
   "cell_type": "markdown",
   "metadata": {},
   "source": [
    "<a id='hiconf_precision_score'></a>"
   ]
  },
  {
   "cell_type": "code",
   "execution_count": 142,
   "metadata": {},
   "outputs": [
    {
     "data": {
      "text/html": [
       "<div>\n",
       "<table border=\"1\" class=\"dataframe\">\n",
       "  <thead>\n",
       "    <tr style=\"text-align: right;\">\n",
       "      <th>Predicted</th>\n",
       "      <th>Heterozygous_Variant</th>\n",
       "      <th>Homozygous_Reference</th>\n",
       "      <th>Homozygous_Variant</th>\n",
       "      <th>All</th>\n",
       "    </tr>\n",
       "    <tr>\n",
       "      <th>True</th>\n",
       "      <th></th>\n",
       "      <th></th>\n",
       "      <th></th>\n",
       "      <th></th>\n",
       "    </tr>\n",
       "  </thead>\n",
       "  <tbody>\n",
       "    <tr>\n",
       "      <th>Heterozygous_Variant</th>\n",
       "      <td>59</td>\n",
       "      <td>0</td>\n",
       "      <td>0</td>\n",
       "      <td>59</td>\n",
       "    </tr>\n",
       "    <tr>\n",
       "      <th>Homozygous_Reference</th>\n",
       "      <td>0</td>\n",
       "      <td>114</td>\n",
       "      <td>0</td>\n",
       "      <td>114</td>\n",
       "    </tr>\n",
       "    <tr>\n",
       "      <th>Homozygous_Variant</th>\n",
       "      <td>2</td>\n",
       "      <td>0</td>\n",
       "      <td>20</td>\n",
       "      <td>22</td>\n",
       "    </tr>\n",
       "    <tr>\n",
       "      <th>All</th>\n",
       "      <td>61</td>\n",
       "      <td>114</td>\n",
       "      <td>20</td>\n",
       "      <td>195</td>\n",
       "    </tr>\n",
       "  </tbody>\n",
       "</table>\n",
       "</div>"
      ],
      "text/plain": [
       "Predicted             Heterozygous_Variant  Homozygous_Reference  \\\n",
       "True                                                               \n",
       "Heterozygous_Variant                    59                     0   \n",
       "Homozygous_Reference                     0                   114   \n",
       "Homozygous_Variant                       2                     0   \n",
       "All                                     61                   114   \n",
       "\n",
       "Predicted             Homozygous_Variant  All  \n",
       "True                                           \n",
       "Heterozygous_Variant                   0   59  \n",
       "Homozygous_Reference                   0  114  \n",
       "Homozygous_Variant                    20   22  \n",
       "All                                   20  195  "
      ]
     },
     "execution_count": 142,
     "metadata": {},
     "output_type": "execute_result"
    }
   ],
   "source": [
    "consensus_GT = high_conf_labels['GTcons']\n",
    "predict = high_conf_labels['predicted_GTcons_label']\n",
    "pd.crosstab(consensus_GT, predict, rownames=['True'], colnames=['Predicted'], margins=True)"
   ]
  },
  {
   "cell_type": "code",
   "execution_count": 143,
   "metadata": {
    "scrolled": true
   },
   "outputs": [
    {
     "name": "stdout",
     "output_type": "stream",
     "text": [
      "                      precision    recall  f1-score   support\n",
      "\n",
      "Heterozygous_Variant       0.97      1.00      0.98        59\n",
      "Homozygous_Reference       1.00      1.00      1.00       114\n",
      "  Homozygous_Variant       1.00      0.91      0.95        22\n",
      "\n",
      "         avg / total       0.99      0.99      0.99       195\n",
      "\n"
     ]
    }
   ],
   "source": [
    "from sklearn.metrics import classification_report\n",
    "print(classification_report(consensus_GT, predict))"
   ]
  },
  {
   "cell_type": "markdown",
   "metadata": {},
   "source": [
    "***\n",
    "**Predict**\n",
    "\n",
    "\n",
    "How well does a model trained on small variants predict GT of large variants?\n",
    "Variants : 1000 - 5999 bp\n",
    "***"
   ]
  },
  {
   "cell_type": "markdown",
   "metadata": {},
   "source": [
    "<a id='predict'></a>"
   ]
  },
  {
   "cell_type": "markdown",
   "metadata": {},
   "source": [
    "Description:\n",
    "\n",
    "   * In the [previous section](#machine_learning), a RF model was trained on svanalyzer data.\n",
    "\n",
    "       * The model was trained using [train/test split](#train_test) where 70% of the data was used to train the model and the model performance was determined by predicting labels for the remaining 30% of the data\n",
    " * Reminder: The labels for this training set and the following [prediction step](#prediction_step) are the consensus genotype (GTcons) labels generated from a preliminary R analysis based on reference and alternate read count:\n",
    "           * Homozygous Reference (0)\n",
    "           * Heterozygous Variant (1)\n",
    "           * Homozygous Variant (2)\n",
    "           \n",
    "   * The trained model is used in the following section to predict labels for 5000 randomly selected Deletions [these datapoints were randomly selected from [union_170509_refalt.sort.vcf](ftp://ftp-trace.ncbi.nlm.nih.gov/giab/ftp/data/AshkenazimTrio/analysis/NIST_UnionSVs_05092017/)]\n",
    "   \n",
    "   "
   ]
  },
  {
   "cell_type": "markdown",
   "metadata": {},
   "source": [
    "** Load Data **"
   ]
  },
  {
   "cell_type": "markdown",
   "metadata": {},
   "source": [
    "* Pool all datasets with large variants 1000 - 5999"
   ]
  },
  {
   "cell_type": "code",
   "execution_count": 276,
   "metadata": {
    "collapsed": true
   },
   "outputs": [],
   "source": [
    "df = pd.concat([df_1000to5999, df_1000to5999_test], axis=0)\n",
    "df = df.reset_index()\n",
    "df2 = pd.concat([df_1000to5999_, df_1000to5999_test_], axis=0)\n",
    "df2 = df2.reset_index()"
   ]
  },
  {
   "cell_type": "code",
   "execution_count": 277,
   "metadata": {},
   "outputs": [],
   "source": [
    "df.drop(['GTcons'],axis=1, inplace=True)\n",
    "df.drop(['index'],axis=1, inplace=True)\n",
    "df2.drop(['index'],axis=1, inplace=True)"
   ]
  },
  {
   "cell_type": "code",
   "execution_count": 278,
   "metadata": {
    "collapsed": true
   },
   "outputs": [],
   "source": [
    "X2 = df"
   ]
  },
  {
   "cell_type": "markdown",
   "metadata": {},
   "source": [
    "** Impute missing values using KNN **"
   ]
  },
  {
   "cell_type": "code",
   "execution_count": 279,
   "metadata": {},
   "outputs": [
    {
     "name": "stdout",
     "output_type": "stream",
     "text": [
      "Imputing row 1/227 with 1 missing, elapsed time: 0.045\n",
      "Imputing row 101/227 with 1 missing, elapsed time: 0.059\n",
      "Imputing row 201/227 with 57 missing, elapsed time: 0.064\n"
     ]
    }
   ],
   "source": [
    "#Convert dataframe to matrix\n",
    "X2=X2.as_matrix()\n",
    "X2=pd.DataFrame(X2)\n",
    "\n",
    "# Imput missing values from three closest observations\n",
    "X2_imputed=KNN(k=3).complete(X2)\n",
    "X2=pd.DataFrame(X2_imputed)"
   ]
  },
  {
   "cell_type": "code",
   "execution_count": 280,
   "metadata": {},
   "outputs": [
    {
     "data": {
      "text/html": [
       "<div>\n",
       "<table border=\"1\" class=\"dataframe\">\n",
       "  <thead>\n",
       "    <tr style=\"text-align: right;\">\n",
       "      <th></th>\n",
       "      <th>Ill250.alt_alnScore_mean</th>\n",
       "      <th>Ill250.alt_alnScore_std</th>\n",
       "      <th>Ill250.alt_count</th>\n",
       "      <th>Ill250.alt_insertSize_mean</th>\n",
       "      <th>Ill250.alt_insertSize_std</th>\n",
       "      <th>Ill250.alt_reason_alignmentScore</th>\n",
       "      <th>Ill250.alt_reason_insertSizeScore</th>\n",
       "      <th>Ill250.alt_reason_orientation</th>\n",
       "      <th>Ill250.amb_alnScore_mean</th>\n",
       "      <th>Ill250.amb_alnScore_std</th>\n",
       "      <th>...</th>\n",
       "      <th>pacbio.ref_insertSize_mean</th>\n",
       "      <th>pacbio.ref_insertSize_std</th>\n",
       "      <th>pacbio.ref_reason_alignmentScore</th>\n",
       "      <th>refN_cnt</th>\n",
       "      <th>refN_pct</th>\n",
       "      <th>segdup_cnt</th>\n",
       "      <th>segdup_pct</th>\n",
       "      <th>start</th>\n",
       "      <th>tandemrep_cnt</th>\n",
       "      <th>tandemrep_pct</th>\n",
       "    </tr>\n",
       "  </thead>\n",
       "  <tbody>\n",
       "    <tr>\n",
       "      <th>0</th>\n",
       "      <td>0.000000</td>\n",
       "      <td>0.000000</td>\n",
       "      <td>0.0</td>\n",
       "      <td>0.000000</td>\n",
       "      <td>0.000000</td>\n",
       "      <td>0.0</td>\n",
       "      <td>0.0</td>\n",
       "      <td>0.0</td>\n",
       "      <td>872.238636</td>\n",
       "      <td>151.265870</td>\n",
       "      <td>...</td>\n",
       "      <td>10683.11594</td>\n",
       "      <td>5291.525830</td>\n",
       "      <td>69.0</td>\n",
       "      <td>0.0</td>\n",
       "      <td>0.0</td>\n",
       "      <td>0.0</td>\n",
       "      <td>0.0</td>\n",
       "      <td>66398770.0</td>\n",
       "      <td>6.0</td>\n",
       "      <td>0.097264</td>\n",
       "    </tr>\n",
       "    <tr>\n",
       "      <th>1</th>\n",
       "      <td>972.727273</td>\n",
       "      <td>15.764407</td>\n",
       "      <td>44.0</td>\n",
       "      <td>446.931818</td>\n",
       "      <td>81.055368</td>\n",
       "      <td>35.0</td>\n",
       "      <td>9.0</td>\n",
       "      <td>0.0</td>\n",
       "      <td>861.743750</td>\n",
       "      <td>161.249545</td>\n",
       "      <td>...</td>\n",
       "      <td>0.00000</td>\n",
       "      <td>0.000000</td>\n",
       "      <td>0.0</td>\n",
       "      <td>0.0</td>\n",
       "      <td>0.0</td>\n",
       "      <td>0.0</td>\n",
       "      <td>0.0</td>\n",
       "      <td>14189915.0</td>\n",
       "      <td>3.0</td>\n",
       "      <td>0.037082</td>\n",
       "    </tr>\n",
       "    <tr>\n",
       "      <th>2</th>\n",
       "      <td>977.161290</td>\n",
       "      <td>15.238103</td>\n",
       "      <td>31.0</td>\n",
       "      <td>422.161290</td>\n",
       "      <td>57.943853</td>\n",
       "      <td>28.0</td>\n",
       "      <td>3.0</td>\n",
       "      <td>0.0</td>\n",
       "      <td>886.130045</td>\n",
       "      <td>129.576288</td>\n",
       "      <td>...</td>\n",
       "      <td>10714.20833</td>\n",
       "      <td>3615.789459</td>\n",
       "      <td>24.0</td>\n",
       "      <td>0.0</td>\n",
       "      <td>0.0</td>\n",
       "      <td>0.0</td>\n",
       "      <td>0.0</td>\n",
       "      <td>20950622.0</td>\n",
       "      <td>10.0</td>\n",
       "      <td>0.076469</td>\n",
       "    </tr>\n",
       "  </tbody>\n",
       "</table>\n",
       "<p>3 rows × 176 columns</p>\n",
       "</div>"
      ],
      "text/plain": [
       "   Ill250.alt_alnScore_mean  Ill250.alt_alnScore_std  Ill250.alt_count  \\\n",
       "0                  0.000000                 0.000000               0.0   \n",
       "1                972.727273                15.764407              44.0   \n",
       "2                977.161290                15.238103              31.0   \n",
       "\n",
       "   Ill250.alt_insertSize_mean  Ill250.alt_insertSize_std  \\\n",
       "0                    0.000000                   0.000000   \n",
       "1                  446.931818                  81.055368   \n",
       "2                  422.161290                  57.943853   \n",
       "\n",
       "   Ill250.alt_reason_alignmentScore  Ill250.alt_reason_insertSizeScore  \\\n",
       "0                               0.0                                0.0   \n",
       "1                              35.0                                9.0   \n",
       "2                              28.0                                3.0   \n",
       "\n",
       "   Ill250.alt_reason_orientation  Ill250.amb_alnScore_mean  \\\n",
       "0                            0.0                872.238636   \n",
       "1                            0.0                861.743750   \n",
       "2                            0.0                886.130045   \n",
       "\n",
       "   Ill250.amb_alnScore_std      ...        pacbio.ref_insertSize_mean  \\\n",
       "0               151.265870      ...                       10683.11594   \n",
       "1               161.249545      ...                           0.00000   \n",
       "2               129.576288      ...                       10714.20833   \n",
       "\n",
       "   pacbio.ref_insertSize_std  pacbio.ref_reason_alignmentScore  refN_cnt  \\\n",
       "0                5291.525830                              69.0       0.0   \n",
       "1                   0.000000                               0.0       0.0   \n",
       "2                3615.789459                              24.0       0.0   \n",
       "\n",
       "   refN_pct  segdup_cnt  segdup_pct       start  tandemrep_cnt  tandemrep_pct  \n",
       "0       0.0         0.0         0.0  66398770.0            6.0       0.097264  \n",
       "1       0.0         0.0         0.0  14189915.0            3.0       0.037082  \n",
       "2       0.0         0.0         0.0  20950622.0           10.0       0.076469  \n",
       "\n",
       "[3 rows x 176 columns]"
      ]
     },
     "execution_count": 280,
     "metadata": {},
     "output_type": "execute_result"
    }
   ],
   "source": [
    "df_header = list(df.columns.values)\n",
    "X2.columns = df_header\n",
    "X2.head(3)"
   ]
  },
  {
   "cell_type": "code",
   "execution_count": 281,
   "metadata": {},
   "outputs": [
    {
     "data": {
      "text/html": [
       "<div>\n",
       "<table border=\"1\" class=\"dataframe\">\n",
       "  <thead>\n",
       "    <tr style=\"text-align: right;\">\n",
       "      <th></th>\n",
       "      <th>Ill250.alt_alnScore_mean</th>\n",
       "      <th>Ill250.alt_alnScore_std</th>\n",
       "      <th>Ill250.alt_count</th>\n",
       "      <th>Ill250.alt_insertSize_mean</th>\n",
       "      <th>Ill250.alt_insertSize_std</th>\n",
       "      <th>Ill250.alt_reason_alignmentScore</th>\n",
       "      <th>Ill250.alt_reason_insertSizeScore</th>\n",
       "      <th>Ill250.alt_reason_orientation</th>\n",
       "      <th>Ill250.amb_alnScore_mean</th>\n",
       "      <th>Ill250.amb_alnScore_std</th>\n",
       "      <th>...</th>\n",
       "      <th>pacbio.ref_insertSize_mean</th>\n",
       "      <th>pacbio.ref_insertSize_std</th>\n",
       "      <th>pacbio.ref_reason_alignmentScore</th>\n",
       "      <th>refN_cnt</th>\n",
       "      <th>refN_pct</th>\n",
       "      <th>segdup_cnt</th>\n",
       "      <th>segdup_pct</th>\n",
       "      <th>start</th>\n",
       "      <th>tandemrep_cnt</th>\n",
       "      <th>tandemrep_pct</th>\n",
       "    </tr>\n",
       "  </thead>\n",
       "  <tbody>\n",
       "    <tr>\n",
       "      <th>0</th>\n",
       "      <td>0.000000</td>\n",
       "      <td>0.000000</td>\n",
       "      <td>0.0</td>\n",
       "      <td>0.000000</td>\n",
       "      <td>0.000000</td>\n",
       "      <td>0.0</td>\n",
       "      <td>0.0</td>\n",
       "      <td>0.0</td>\n",
       "      <td>872.238636</td>\n",
       "      <td>151.265870</td>\n",
       "      <td>...</td>\n",
       "      <td>10683.11594</td>\n",
       "      <td>5291.525830</td>\n",
       "      <td>69.0</td>\n",
       "      <td>0.0</td>\n",
       "      <td>0.0</td>\n",
       "      <td>0.0</td>\n",
       "      <td>0.0</td>\n",
       "      <td>66398770.0</td>\n",
       "      <td>6.0</td>\n",
       "      <td>0.097264</td>\n",
       "    </tr>\n",
       "    <tr>\n",
       "      <th>1</th>\n",
       "      <td>972.727273</td>\n",
       "      <td>15.764407</td>\n",
       "      <td>44.0</td>\n",
       "      <td>446.931818</td>\n",
       "      <td>81.055368</td>\n",
       "      <td>35.0</td>\n",
       "      <td>9.0</td>\n",
       "      <td>0.0</td>\n",
       "      <td>861.743750</td>\n",
       "      <td>161.249545</td>\n",
       "      <td>...</td>\n",
       "      <td>0.00000</td>\n",
       "      <td>0.000000</td>\n",
       "      <td>0.0</td>\n",
       "      <td>0.0</td>\n",
       "      <td>0.0</td>\n",
       "      <td>0.0</td>\n",
       "      <td>0.0</td>\n",
       "      <td>14189915.0</td>\n",
       "      <td>3.0</td>\n",
       "      <td>0.037082</td>\n",
       "    </tr>\n",
       "    <tr>\n",
       "      <th>2</th>\n",
       "      <td>977.161290</td>\n",
       "      <td>15.238103</td>\n",
       "      <td>31.0</td>\n",
       "      <td>422.161290</td>\n",
       "      <td>57.943853</td>\n",
       "      <td>28.0</td>\n",
       "      <td>3.0</td>\n",
       "      <td>0.0</td>\n",
       "      <td>886.130045</td>\n",
       "      <td>129.576288</td>\n",
       "      <td>...</td>\n",
       "      <td>10714.20833</td>\n",
       "      <td>3615.789459</td>\n",
       "      <td>24.0</td>\n",
       "      <td>0.0</td>\n",
       "      <td>0.0</td>\n",
       "      <td>0.0</td>\n",
       "      <td>0.0</td>\n",
       "      <td>20950622.0</td>\n",
       "      <td>10.0</td>\n",
       "      <td>0.076469</td>\n",
       "    </tr>\n",
       "  </tbody>\n",
       "</table>\n",
       "<p>3 rows × 176 columns</p>\n",
       "</div>"
      ],
      "text/plain": [
       "   Ill250.alt_alnScore_mean  Ill250.alt_alnScore_std  Ill250.alt_count  \\\n",
       "0                  0.000000                 0.000000               0.0   \n",
       "1                972.727273                15.764407              44.0   \n",
       "2                977.161290                15.238103              31.0   \n",
       "\n",
       "   Ill250.alt_insertSize_mean  Ill250.alt_insertSize_std  \\\n",
       "0                    0.000000                   0.000000   \n",
       "1                  446.931818                  81.055368   \n",
       "2                  422.161290                  57.943853   \n",
       "\n",
       "   Ill250.alt_reason_alignmentScore  Ill250.alt_reason_insertSizeScore  \\\n",
       "0                               0.0                                0.0   \n",
       "1                              35.0                                9.0   \n",
       "2                              28.0                                3.0   \n",
       "\n",
       "   Ill250.alt_reason_orientation  Ill250.amb_alnScore_mean  \\\n",
       "0                            0.0                872.238636   \n",
       "1                            0.0                861.743750   \n",
       "2                            0.0                886.130045   \n",
       "\n",
       "   Ill250.amb_alnScore_std      ...        pacbio.ref_insertSize_mean  \\\n",
       "0               151.265870      ...                       10683.11594   \n",
       "1               161.249545      ...                           0.00000   \n",
       "2               129.576288      ...                       10714.20833   \n",
       "\n",
       "   pacbio.ref_insertSize_std  pacbio.ref_reason_alignmentScore  refN_cnt  \\\n",
       "0                5291.525830                              69.0       0.0   \n",
       "1                   0.000000                               0.0       0.0   \n",
       "2                3615.789459                              24.0       0.0   \n",
       "\n",
       "   refN_pct  segdup_cnt  segdup_pct       start  tandemrep_cnt  tandemrep_pct  \n",
       "0       0.0         0.0         0.0  66398770.0            6.0       0.097264  \n",
       "1       0.0         0.0         0.0  14189915.0            3.0       0.037082  \n",
       "2       0.0         0.0         0.0  20950622.0           10.0       0.076469  \n",
       "\n",
       "[3 rows x 176 columns]"
      ]
     },
     "execution_count": 281,
     "metadata": {},
     "output_type": "execute_result"
    }
   ],
   "source": [
    "X3 = pd.DataFrame()\n",
    "X3 = X2\n",
    "X3.head(3)"
   ]
  },
  {
   "cell_type": "code",
   "execution_count": 282,
   "metadata": {
    "collapsed": true
   },
   "outputs": [],
   "source": [
    "# Order features\n",
    "X5 = X2.reindex_axis(sorted(X2.columns), axis=1)"
   ]
  },
  {
   "cell_type": "markdown",
   "metadata": {},
   "source": [
    "<a id='prediction_step'></a>"
   ]
  },
  {
   "cell_type": "code",
   "execution_count": 283,
   "metadata": {
    "collapsed": true
   },
   "outputs": [],
   "source": [
    "pred = model.predict(X5)"
   ]
  },
  {
   "cell_type": "code",
   "execution_count": 284,
   "metadata": {
    "collapsed": true
   },
   "outputs": [],
   "source": [
    "pred_prob = model.predict_proba(X5)"
   ]
  },
  {
   "cell_type": "code",
   "execution_count": 285,
   "metadata": {
    "collapsed": true
   },
   "outputs": [],
   "source": [
    "pred_prob_log = model.predict_log_proba(X5)"
   ]
  },
  {
   "cell_type": "code",
   "execution_count": 286,
   "metadata": {},
   "outputs": [
    {
     "data": {
      "text/html": [
       "<div>\n",
       "<table border=\"1\" class=\"dataframe\">\n",
       "  <thead>\n",
       "    <tr style=\"text-align: right;\">\n",
       "      <th></th>\n",
       "      <th>Ill250.alt_alnScore_mean</th>\n",
       "      <th>Ill250.alt_alnScore_std</th>\n",
       "      <th>Ill250.alt_count</th>\n",
       "      <th>Ill250.alt_insertSize_mean</th>\n",
       "      <th>Ill250.alt_insertSize_std</th>\n",
       "      <th>Ill250.alt_reason_alignmentScore</th>\n",
       "      <th>Ill250.alt_reason_insertSizeScore</th>\n",
       "      <th>Ill250.alt_reason_orientation</th>\n",
       "      <th>Ill250.amb_alnScore_mean</th>\n",
       "      <th>Ill250.amb_alnScore_std</th>\n",
       "      <th>...</th>\n",
       "      <th>pacbio.ref_insertSize_mean</th>\n",
       "      <th>pacbio.ref_insertSize_std</th>\n",
       "      <th>pacbio.ref_reason_alignmentScore</th>\n",
       "      <th>refN_cnt</th>\n",
       "      <th>refN_pct</th>\n",
       "      <th>segdup_cnt</th>\n",
       "      <th>segdup_pct</th>\n",
       "      <th>start</th>\n",
       "      <th>tandemrep_cnt</th>\n",
       "      <th>tandemrep_pct</th>\n",
       "    </tr>\n",
       "  </thead>\n",
       "  <tbody>\n",
       "  </tbody>\n",
       "</table>\n",
       "<p>0 rows × 176 columns</p>\n",
       "</div>"
      ],
      "text/plain": [
       "Empty DataFrame\n",
       "Columns: [Ill250.alt_alnScore_mean, Ill250.alt_alnScore_std, Ill250.alt_count, Ill250.alt_insertSize_mean, Ill250.alt_insertSize_std, Ill250.alt_reason_alignmentScore, Ill250.alt_reason_insertSizeScore, Ill250.alt_reason_orientation, Ill250.amb_alnScore_mean, Ill250.amb_alnScore_std, Ill250.amb_count, Ill250.amb_insertSize_mean, Ill250.amb_insertSize_std, Ill250.amb_reason_alignmentScore_alignmentScore, Ill250.amb_reason_alignmentScore_orientation, Ill250.amb_reason_flanking, Ill250.amb_reason_insertSizeScore_alignmentScore, Ill250.amb_reason_multimapping, Ill250.amb_reason_orientation_alignmentScore, Ill250.amb_reason_orientation_orientation, Ill250.amb_reason_same_scores, Ill250.ref_alnScore_mean, Ill250.ref_alnScore_std, Ill250.ref_count, Ill250.ref_insertSize_mean, Ill250.ref_insertSize_std, Ill250.ref_reason_alignmentScore, Ill250.ref_reason_orientation, Ill300x.alt_alnScore_mean, Ill300x.alt_alnScore_std, Ill300x.alt_count, Ill300x.alt_insertSize_mean, Ill300x.alt_insertSize_std, Ill300x.alt_reason_alignmentScore, Ill300x.alt_reason_insertSizeScore, Ill300x.alt_reason_orientation, Ill300x.amb_alnScore_mean, Ill300x.amb_alnScore_std, Ill300x.amb_count, Ill300x.amb_insertSize_mean, Ill300x.amb_insertSize_std, Ill300x.amb_reason_alignmentScore_alignmentScore, Ill300x.amb_reason_alignmentScore_insertSizeScore, Ill300x.amb_reason_alignmentScore_orientation, Ill300x.amb_reason_flanking, Ill300x.amb_reason_insertSizeScore_alignmentScore, Ill300x.amb_reason_insertSizeScore_insertSizeScore, Ill300x.amb_reason_multimapping, Ill300x.amb_reason_orientation_alignmentScore, Ill300x.amb_reason_orientation_orientation, Ill300x.amb_reason_same_scores, Ill300x.ref_alnScore_mean, Ill300x.ref_alnScore_std, Ill300x.ref_count, Ill300x.ref_insertSize_mean, Ill300x.ref_insertSize_std, Ill300x.ref_reason_alignmentScore, Ill300x.ref_reason_insertSizeScore, Ill300x.ref_reason_orientation, IllMP.alt_alnScore_mean, IllMP.alt_alnScore_std, IllMP.alt_count, IllMP.alt_insertSize_mean, IllMP.alt_insertSize_std, IllMP.alt_reason_alignmentScore, IllMP.alt_reason_insertSizeScore, IllMP.alt_reason_orientation, IllMP.amb_alnScore_mean, IllMP.amb_alnScore_std, IllMP.amb_count, IllMP.amb_insertSize_mean, IllMP.amb_insertSize_std, IllMP.amb_reason_alignmentScore_alignmentScore, IllMP.amb_reason_alignmentScore_orientation, IllMP.amb_reason_flanking, IllMP.amb_reason_insertSizeScore_alignmentScore, IllMP.amb_reason_insertSizeScore_insertSizeScore, IllMP.amb_reason_multimapping, IllMP.amb_reason_orientation_alignmentScore, IllMP.amb_reason_orientation_orientation, IllMP.amb_reason_same_scores, IllMP.ref_alnScore_mean, IllMP.ref_alnScore_std, IllMP.ref_count, IllMP.ref_insertSize_mean, IllMP.ref_insertSize_std, IllMP.ref_reason_alignmentScore, IllMP.ref_reason_insertSizeScore, IllMP.ref_reason_orientation, Size, TenX.HP1_alt_alnScore_mean, TenX.HP1_alt_alnScore_std, TenX.HP1_alt_count, TenX.HP1_alt_insertSize_mean, TenX.HP1_alt_insertSize_std, TenX.HP1_alt_reason_alignmentScore, TenX.HP1_alt_reason_insertSizeScore, TenX.HP1_alt_reason_orientation, TenX.HP1_amb_alnScore_mean, TenX.HP1_amb_alnScore_std, ...]\n",
       "Index: []\n",
       "\n",
       "[0 rows x 176 columns]"
      ]
     },
     "execution_count": 286,
     "metadata": {},
     "output_type": "execute_result"
    }
   ],
   "source": [
    "df[df.index.duplicated()]"
   ]
  },
  {
   "cell_type": "code",
   "execution_count": 288,
   "metadata": {},
   "outputs": [],
   "source": [
    "X5['predicted_label'] = pred\n",
    "X5['chrom'] = df2['chrom']\n",
    "X5['GTcons'] = df2['GTcons']\n",
    "X5['start'] = df2['start']\n",
    "X5['end'] = df2['end']\n",
    "X5['Size'] = df2['Size']\n",
    "# X5['GTsupp'] = df['GTsupp']"
   ]
  },
  {
   "cell_type": "code",
   "execution_count": 289,
   "metadata": {
    "collapsed": true
   },
   "outputs": [],
   "source": [
    "X6 = pd.concat([X5, pd.DataFrame(pred_prob, columns=['1','2','3'])])"
   ]
  },
  {
   "cell_type": "code",
   "execution_count": 290,
   "metadata": {
    "collapsed": true
   },
   "outputs": [],
   "source": [
    "X7 = pd.concat([X5, pd.DataFrame(pred_prob_log, columns=['1','2','3'])])"
   ]
  },
  {
   "cell_type": "code",
   "execution_count": 291,
   "metadata": {
    "collapsed": true
   },
   "outputs": [],
   "source": [
    "X6.to_csv('/Volumes/lesleydata/RF_model_trainingData_test/size_data/results/figures/100to299/100to299_1000to5999_predLrg.csv', index=False)"
   ]
  },
  {
   "cell_type": "code",
   "execution_count": null,
   "metadata": {
    "collapsed": true
   },
   "outputs": [],
   "source": [
    "X7.to_csv('/Volumes/lesleydata/RF_model_trainingData_test/size_data/results/figures/100to299/100to299_log_1000to5999_.csv', index=False)"
   ]
  },
  {
   "cell_type": "code",
   "execution_count": 292,
   "metadata": {
    "collapsed": true
   },
   "outputs": [],
   "source": [
    "X6 = pd.read_csv('/Volumes/lesleydata/RF_model_trainingData_test/size_data/results/figures/100to299/100to299_1000to5999_predLrg.csv')"
   ]
  },
  {
   "cell_type": "code",
   "execution_count": 293,
   "metadata": {
    "collapsed": true
   },
   "outputs": [],
   "source": [
    "X6.rename(columns={'1': 'Homozygous_Reference_GTcons'}, inplace=True)\n",
    "X6.rename(columns={'2': 'Heterozygous_Variant_GTcons'}, inplace=True)\n",
    "X6.rename(columns={'3': 'Homozygous_Variant_GTcons'}, inplace=True)\n",
    "X6.rename(columns={'predicted_label': 'predicted_GTcons_label'}, inplace=True)"
   ]
  },
  {
   "cell_type": "code",
   "execution_count": 294,
   "metadata": {
    "collapsed": true
   },
   "outputs": [],
   "source": [
    "X6['GTcons'].replace('Homozygous_Reference', '0', inplace=True)\n",
    "X6['GTcons'].replace('Heterozygous_Variant', '1', inplace=True)\n",
    "X6['GTcons'].replace('Homozygous_Variant', '2', inplace=True)"
   ]
  },
  {
   "cell_type": "code",
   "execution_count": 295,
   "metadata": {},
   "outputs": [
    {
     "data": {
      "text/html": [
       "<div>\n",
       "<table border=\"1\" class=\"dataframe\">\n",
       "  <thead>\n",
       "    <tr style=\"text-align: right;\">\n",
       "      <th></th>\n",
       "      <th>Homozygous_Reference_GTcons</th>\n",
       "      <th>Heterozygous_Variant_GTcons</th>\n",
       "      <th>Homozygous_Variant_GTcons</th>\n",
       "      <th>GTcons</th>\n",
       "      <th>Ill250.alt_alnScore_mean</th>\n",
       "      <th>Ill250.alt_alnScore_std</th>\n",
       "      <th>Ill250.alt_count</th>\n",
       "      <th>Ill250.alt_insertSize_mean</th>\n",
       "      <th>Ill250.alt_insertSize_std</th>\n",
       "      <th>Ill250.alt_reason_alignmentScore</th>\n",
       "      <th>...</th>\n",
       "      <th>pacbio.ref_insertSize_std</th>\n",
       "      <th>pacbio.ref_reason_alignmentScore</th>\n",
       "      <th>predicted_GTcons_label</th>\n",
       "      <th>refN_cnt</th>\n",
       "      <th>refN_pct</th>\n",
       "      <th>segdup_cnt</th>\n",
       "      <th>segdup_pct</th>\n",
       "      <th>start</th>\n",
       "      <th>tandemrep_cnt</th>\n",
       "      <th>tandemrep_pct</th>\n",
       "    </tr>\n",
       "  </thead>\n",
       "  <tbody>\n",
       "    <tr>\n",
       "      <th>0</th>\n",
       "      <td>0.916667</td>\n",
       "      <td>0.083333</td>\n",
       "      <td>0.00</td>\n",
       "      <td>0</td>\n",
       "      <td>0.000000</td>\n",
       "      <td>0.000000</td>\n",
       "      <td>0</td>\n",
       "      <td>0.000000</td>\n",
       "      <td>0.000000</td>\n",
       "      <td>0</td>\n",
       "      <td>...</td>\n",
       "      <td>5291.525830</td>\n",
       "      <td>69.0</td>\n",
       "      <td>0</td>\n",
       "      <td>0</td>\n",
       "      <td>0</td>\n",
       "      <td>0</td>\n",
       "      <td>0.0</td>\n",
       "      <td>66398770</td>\n",
       "      <td>6</td>\n",
       "      <td>0.097264</td>\n",
       "    </tr>\n",
       "    <tr>\n",
       "      <th>1</th>\n",
       "      <td>0.000000</td>\n",
       "      <td>0.250000</td>\n",
       "      <td>0.75</td>\n",
       "      <td>2</td>\n",
       "      <td>972.727273</td>\n",
       "      <td>15.764407</td>\n",
       "      <td>44</td>\n",
       "      <td>446.931818</td>\n",
       "      <td>81.055368</td>\n",
       "      <td>35</td>\n",
       "      <td>...</td>\n",
       "      <td>0.000000</td>\n",
       "      <td>0.0</td>\n",
       "      <td>2</td>\n",
       "      <td>0</td>\n",
       "      <td>0</td>\n",
       "      <td>0</td>\n",
       "      <td>0.0</td>\n",
       "      <td>14189915</td>\n",
       "      <td>3</td>\n",
       "      <td>0.037082</td>\n",
       "    </tr>\n",
       "    <tr>\n",
       "      <th>2</th>\n",
       "      <td>0.000000</td>\n",
       "      <td>1.000000</td>\n",
       "      <td>0.00</td>\n",
       "      <td>1</td>\n",
       "      <td>977.161290</td>\n",
       "      <td>15.238103</td>\n",
       "      <td>31</td>\n",
       "      <td>422.161290</td>\n",
       "      <td>57.943853</td>\n",
       "      <td>28</td>\n",
       "      <td>...</td>\n",
       "      <td>3615.789459</td>\n",
       "      <td>24.0</td>\n",
       "      <td>1</td>\n",
       "      <td>0</td>\n",
       "      <td>0</td>\n",
       "      <td>0</td>\n",
       "      <td>0.0</td>\n",
       "      <td>20950622</td>\n",
       "      <td>10</td>\n",
       "      <td>0.076469</td>\n",
       "    </tr>\n",
       "  </tbody>\n",
       "</table>\n",
       "<p>3 rows × 181 columns</p>\n",
       "</div>"
      ],
      "text/plain": [
       "   Homozygous_Reference_GTcons  Heterozygous_Variant_GTcons  \\\n",
       "0                     0.916667                     0.083333   \n",
       "1                     0.000000                     0.250000   \n",
       "2                     0.000000                     1.000000   \n",
       "\n",
       "   Homozygous_Variant_GTcons GTcons  Ill250.alt_alnScore_mean  \\\n",
       "0                       0.00      0                  0.000000   \n",
       "1                       0.75      2                972.727273   \n",
       "2                       0.00      1                977.161290   \n",
       "\n",
       "   Ill250.alt_alnScore_std  Ill250.alt_count  Ill250.alt_insertSize_mean  \\\n",
       "0                 0.000000                 0                    0.000000   \n",
       "1                15.764407                44                  446.931818   \n",
       "2                15.238103                31                  422.161290   \n",
       "\n",
       "   Ill250.alt_insertSize_std  Ill250.alt_reason_alignmentScore      ...        \\\n",
       "0                   0.000000                                 0      ...         \n",
       "1                  81.055368                                35      ...         \n",
       "2                  57.943853                                28      ...         \n",
       "\n",
       "   pacbio.ref_insertSize_std  pacbio.ref_reason_alignmentScore  \\\n",
       "0                5291.525830                              69.0   \n",
       "1                   0.000000                               0.0   \n",
       "2                3615.789459                              24.0   \n",
       "\n",
       "   predicted_GTcons_label  refN_cnt  refN_pct  segdup_cnt  segdup_pct  \\\n",
       "0                       0         0         0           0         0.0   \n",
       "1                       2         0         0           0         0.0   \n",
       "2                       1         0         0           0         0.0   \n",
       "\n",
       "      start  tandemrep_cnt  tandemrep_pct  \n",
       "0  66398770              6       0.097264  \n",
       "1  14189915              3       0.037082  \n",
       "2  20950622             10       0.076469  \n",
       "\n",
       "[3 rows x 181 columns]"
      ]
     },
     "execution_count": 295,
     "metadata": {},
     "output_type": "execute_result"
    }
   ],
   "source": [
    "X6.head(3)"
   ]
  },
  {
   "cell_type": "code",
   "execution_count": 296,
   "metadata": {
    "collapsed": true
   },
   "outputs": [],
   "source": [
    "X6.to_csv('/Volumes/lesleydata/RF_model_trainingData_test/size_data/results/figures/100to299/100to299_final_1000to5999_predLrg.csv', index=False)"
   ]
  },
  {
   "cell_type": "code",
   "execution_count": 297,
   "metadata": {
    "collapsed": true
   },
   "outputs": [],
   "source": [
    "# X6['GTcons'].fillna(999)\n",
    "# X7 = X6[X6.GTcons != 999]\n",
    "# X6['predicted_GTcons_label'].isnull().sum()"
   ]
  },
  {
   "cell_type": "code",
   "execution_count": 298,
   "metadata": {},
   "outputs": [
    {
     "data": {
      "text/plain": [
       "dtype('int64')"
      ]
     },
     "execution_count": 298,
     "metadata": {},
     "output_type": "execute_result"
    }
   ],
   "source": [
    "X6['predicted_GTcons_label'].dtypes"
   ]
  },
  {
   "cell_type": "code",
   "execution_count": 299,
   "metadata": {
    "collapsed": true
   },
   "outputs": [],
   "source": [
    "X6.GTcons = X6.GTcons.astype(int)"
   ]
  },
  {
   "cell_type": "code",
   "execution_count": 300,
   "metadata": {},
   "outputs": [
    {
     "name": "stdout",
     "output_type": "stream",
     "text": [
      "0    93\n",
      "1    80\n",
      "2    54\n",
      "dtype: int64\n"
     ]
    }
   ],
   "source": [
    "print (pd.value_counts(X6['GTcons'].values, sort=False))"
   ]
  },
  {
   "cell_type": "markdown",
   "metadata": {},
   "source": [
    "***\n",
    "Label Analysis\n",
    "***"
   ]
  },
  {
   "cell_type": "markdown",
   "metadata": {},
   "source": [
    "Description:\n",
    "  * The [random forest(RF) model](#train_test) was trained on svanalyzer data. The trained model was used to predict consensus GT labels for the 5000 deletions that were randomly selected from the union_refalt vcf. The following is a comparison of model predicted labels [Conesus GT] to consensus genotype generated by the R script for the 5000 randomly selected datapoints from union_refalt.vcf "
   ]
  },
  {
   "cell_type": "code",
   "execution_count": 301,
   "metadata": {},
   "outputs": [
    {
     "name": "stdout",
     "output_type": "stream",
     "text": [
      "[[90  3  0]\n",
      " [ 0 79  1]\n",
      " [ 1  4 49]]\n"
     ]
    }
   ],
   "source": [
    "from sklearn.metrics import confusion_matrix\n",
    "consensus_GT = X6['GTcons']\n",
    "predict = X6['predicted_GTcons_label']\n",
    "print(confusion_matrix(consensus_GT, predict))"
   ]
  },
  {
   "cell_type": "code",
   "execution_count": 302,
   "metadata": {
    "collapsed": true
   },
   "outputs": [],
   "source": [
    "X6['GTcons'].replace(0, 'Homozygous_Reference', inplace=True)\n",
    "X6['GTcons'].replace(1, 'Heterozygous_Variant', inplace=True)\n",
    "X6['GTcons'].replace(2, 'Homozygous_Variant', inplace=True)\n",
    "X6['predicted_GTcons_label'].replace(0.0, 'Homozygous_Reference', inplace=True)\n",
    "X6['predicted_GTcons_label'].replace(1.0, 'Heterozygous_Variant', inplace=True)\n",
    "X6['predicted_GTcons_label'].replace(2.0, 'Homozygous_Variant', inplace=True)"
   ]
  },
  {
   "cell_type": "markdown",
   "metadata": {},
   "source": [
    "<a id='predict_precision_score_matrix'></a>"
   ]
  },
  {
   "cell_type": "code",
   "execution_count": 303,
   "metadata": {},
   "outputs": [
    {
     "name": "stdout",
     "output_type": "stream",
     "text": [
      "Precision score of the prediction subset: 0.960\n"
     ]
    }
   ],
   "source": [
    "print('Precision score of the prediction subset: {:.3f}'.format(precision_score(consensus_GT, predict, average='micro'))) "
   ]
  },
  {
   "cell_type": "code",
   "execution_count": 304,
   "metadata": {},
   "outputs": [
    {
     "name": "stdout",
     "output_type": "stream",
     "text": [
      "Accuracy score of the prediction subset: 0.960\n"
     ]
    }
   ],
   "source": [
    "print('Accuracy score of the prediction subset: {:.3f}'.format(accuracy_score(consensus_GT, predict))) "
   ]
  },
  {
   "cell_type": "code",
   "execution_count": 305,
   "metadata": {
    "scrolled": true
   },
   "outputs": [
    {
     "data": {
      "text/html": [
       "<div>\n",
       "<table border=\"1\" class=\"dataframe\">\n",
       "  <thead>\n",
       "    <tr style=\"text-align: right;\">\n",
       "      <th>Predicted</th>\n",
       "      <th>Heterozygous_Variant</th>\n",
       "      <th>Homozygous_Reference</th>\n",
       "      <th>Homozygous_Variant</th>\n",
       "      <th>All</th>\n",
       "    </tr>\n",
       "    <tr>\n",
       "      <th>True</th>\n",
       "      <th></th>\n",
       "      <th></th>\n",
       "      <th></th>\n",
       "      <th></th>\n",
       "    </tr>\n",
       "  </thead>\n",
       "  <tbody>\n",
       "    <tr>\n",
       "      <th>Heterozygous_Variant</th>\n",
       "      <td>79</td>\n",
       "      <td>0</td>\n",
       "      <td>1</td>\n",
       "      <td>80</td>\n",
       "    </tr>\n",
       "    <tr>\n",
       "      <th>Homozygous_Reference</th>\n",
       "      <td>3</td>\n",
       "      <td>90</td>\n",
       "      <td>0</td>\n",
       "      <td>93</td>\n",
       "    </tr>\n",
       "    <tr>\n",
       "      <th>Homozygous_Variant</th>\n",
       "      <td>4</td>\n",
       "      <td>1</td>\n",
       "      <td>49</td>\n",
       "      <td>54</td>\n",
       "    </tr>\n",
       "    <tr>\n",
       "      <th>All</th>\n",
       "      <td>86</td>\n",
       "      <td>91</td>\n",
       "      <td>50</td>\n",
       "      <td>227</td>\n",
       "    </tr>\n",
       "  </tbody>\n",
       "</table>\n",
       "</div>"
      ],
      "text/plain": [
       "Predicted             Heterozygous_Variant  Homozygous_Reference  \\\n",
       "True                                                               \n",
       "Heterozygous_Variant                    79                     0   \n",
       "Homozygous_Reference                     3                    90   \n",
       "Homozygous_Variant                       4                     1   \n",
       "All                                     86                    91   \n",
       "\n",
       "Predicted             Homozygous_Variant  All  \n",
       "True                                           \n",
       "Heterozygous_Variant                   1   80  \n",
       "Homozygous_Reference                   0   93  \n",
       "Homozygous_Variant                    49   54  \n",
       "All                                   50  227  "
      ]
     },
     "execution_count": 305,
     "metadata": {},
     "output_type": "execute_result"
    }
   ],
   "source": [
    "pd.crosstab(consensus_GT, predict, rownames=['True'], colnames=['Predicted'], margins=True)"
   ]
  },
  {
   "cell_type": "markdown",
   "metadata": {},
   "source": [
    "** High Confidence Label Analysis**\n",
    "* **Reminder:** The labels predicted by the model are the following consensus genotype:\n",
    "    * Homozygous Reference: 0 \n",
    "    * Heterozygous Variant: 1 \n",
    "    * Homozygous Variant: 2 \n",
    "* Here **high confidence labels** are the GTcons labels predicted by the model that were also assigned a predict probability of either 0.9 or 1\n"
   ]
  },
  {
   "cell_type": "code",
   "execution_count": 306,
   "metadata": {
    "collapsed": true
   },
   "outputs": [],
   "source": [
    "high_conf_labels = X6[(X6['Homozygous_Reference_GTcons'] == 1) | (X6['Homozygous_Reference_GTcons'] >= 0.9) | (X6['Heterozygous_Variant_GTcons'] == 1) | (X6['Heterozygous_Variant_GTcons'] >= 0.9) | (X6['Homozygous_Variant_GTcons'] == 1) | (X6['Homozygous_Variant_GTcons'] >= 0.9)]\n"
   ]
  },
  {
   "cell_type": "markdown",
   "metadata": {},
   "source": [
    "<a id='hiconf_precision_score'></a>"
   ]
  },
  {
   "cell_type": "code",
   "execution_count": 307,
   "metadata": {},
   "outputs": [
    {
     "data": {
      "text/html": [
       "<div>\n",
       "<table border=\"1\" class=\"dataframe\">\n",
       "  <thead>\n",
       "    <tr style=\"text-align: right;\">\n",
       "      <th>Predicted</th>\n",
       "      <th>Heterozygous_Variant</th>\n",
       "      <th>Homozygous_Reference</th>\n",
       "      <th>Homozygous_Variant</th>\n",
       "      <th>All</th>\n",
       "    </tr>\n",
       "    <tr>\n",
       "      <th>True</th>\n",
       "      <th></th>\n",
       "      <th></th>\n",
       "      <th></th>\n",
       "      <th></th>\n",
       "    </tr>\n",
       "  </thead>\n",
       "  <tbody>\n",
       "    <tr>\n",
       "      <th>Heterozygous_Variant</th>\n",
       "      <td>49</td>\n",
       "      <td>0</td>\n",
       "      <td>0</td>\n",
       "      <td>49</td>\n",
       "    </tr>\n",
       "    <tr>\n",
       "      <th>Homozygous_Reference</th>\n",
       "      <td>0</td>\n",
       "      <td>87</td>\n",
       "      <td>0</td>\n",
       "      <td>87</td>\n",
       "    </tr>\n",
       "    <tr>\n",
       "      <th>Homozygous_Variant</th>\n",
       "      <td>2</td>\n",
       "      <td>0</td>\n",
       "      <td>14</td>\n",
       "      <td>16</td>\n",
       "    </tr>\n",
       "    <tr>\n",
       "      <th>All</th>\n",
       "      <td>51</td>\n",
       "      <td>87</td>\n",
       "      <td>14</td>\n",
       "      <td>152</td>\n",
       "    </tr>\n",
       "  </tbody>\n",
       "</table>\n",
       "</div>"
      ],
      "text/plain": [
       "Predicted             Heterozygous_Variant  Homozygous_Reference  \\\n",
       "True                                                               \n",
       "Heterozygous_Variant                    49                     0   \n",
       "Homozygous_Reference                     0                    87   \n",
       "Homozygous_Variant                       2                     0   \n",
       "All                                     51                    87   \n",
       "\n",
       "Predicted             Homozygous_Variant  All  \n",
       "True                                           \n",
       "Heterozygous_Variant                   0   49  \n",
       "Homozygous_Reference                   0   87  \n",
       "Homozygous_Variant                    14   16  \n",
       "All                                   14  152  "
      ]
     },
     "execution_count": 307,
     "metadata": {},
     "output_type": "execute_result"
    }
   ],
   "source": [
    "consensus_GT = high_conf_labels['GTcons']\n",
    "predict = high_conf_labels['predicted_GTcons_label']\n",
    "pd.crosstab(consensus_GT, predict, rownames=['True'], colnames=['Predicted'], margins=True)"
   ]
  },
  {
   "cell_type": "code",
   "execution_count": 308,
   "metadata": {
    "scrolled": true
   },
   "outputs": [
    {
     "name": "stdout",
     "output_type": "stream",
     "text": [
      "                      precision    recall  f1-score   support\n",
      "\n",
      "Heterozygous_Variant       0.96      1.00      0.98        49\n",
      "Homozygous_Reference       1.00      1.00      1.00        87\n",
      "  Homozygous_Variant       1.00      0.88      0.93        16\n",
      "\n",
      "         avg / total       0.99      0.99      0.99       152\n",
      "\n"
     ]
    }
   ],
   "source": [
    "from sklearn.metrics import classification_report\n",
    "print(classification_report(consensus_GT, predict))"
   ]
  },
  {
   "cell_type": "markdown",
   "metadata": {},
   "source": [
    "***\n",
    "**Predict**\n",
    "\n",
    "\n",
    "How well does a model trained on small variants predict GT of large variants?\n",
    "Variants : 6000+ bp\n",
    "***"
   ]
  },
  {
   "cell_type": "markdown",
   "metadata": {},
   "source": [
    "<a id='predict'></a>"
   ]
  },
  {
   "cell_type": "markdown",
   "metadata": {},
   "source": [
    "Description:\n",
    "\n",
    "   * In the [previous section](#machine_learning), a RF model was trained on svanalyzer data.\n",
    "\n",
    "       * The model was trained using [train/test split](#train_test) where 70% of the data was used to train the model and the model performance was determined by predicting labels for the remaining 30% of the data\n",
    " * Reminder: The labels for this training set and the following [prediction step](#prediction_step) are the consensus genotype (GTcons) labels generated from a preliminary R analysis based on reference and alternate read count:\n",
    "           * Homozygous Reference (0)\n",
    "           * Heterozygous Variant (1)\n",
    "           * Homozygous Variant (2)\n",
    "           \n",
    "   * The trained model is used in the following section to predict labels for 5000 randomly selected Deletions [these datapoints were randomly selected from [union_170509_refalt.sort.vcf](ftp://ftp-trace.ncbi.nlm.nih.gov/giab/ftp/data/AshkenazimTrio/analysis/NIST_UnionSVs_05092017/)]\n",
    "   \n",
    "   "
   ]
  },
  {
   "cell_type": "markdown",
   "metadata": {},
   "source": [
    "** Load Data **"
   ]
  },
  {
   "cell_type": "markdown",
   "metadata": {},
   "source": [
    "* Pool all datasets with large variants 6000+"
   ]
  },
  {
   "cell_type": "code",
   "execution_count": 309,
   "metadata": {
    "collapsed": true
   },
   "outputs": [],
   "source": [
    "df = pd.concat([df_6000, df_6000_test], axis=0)\n",
    "df = df.reset_index()\n",
    "df2 = pd.concat([df_6000, df_6000_test], axis=0)\n",
    "df2 = df2.reset_index()"
   ]
  },
  {
   "cell_type": "code",
   "execution_count": 310,
   "metadata": {
    "collapsed": true
   },
   "outputs": [],
   "source": [
    "df.drop(['GTcons'],axis=1, inplace=True)\n",
    "df.drop(['index'],axis=1, inplace=True)\n",
    "df2.drop(['index'],axis=1, inplace=True)"
   ]
  },
  {
   "cell_type": "code",
   "execution_count": 311,
   "metadata": {
    "collapsed": true
   },
   "outputs": [],
   "source": [
    "X2 = df"
   ]
  },
  {
   "cell_type": "markdown",
   "metadata": {},
   "source": [
    "** Impute missing values using KNN **"
   ]
  },
  {
   "cell_type": "code",
   "execution_count": 312,
   "metadata": {},
   "outputs": [
    {
     "name": "stdout",
     "output_type": "stream",
     "text": [
      "Imputing row 1/57 with 2 missing, elapsed time: 0.005\n"
     ]
    }
   ],
   "source": [
    "#Convert dataframe to matrix\n",
    "X2=X2.as_matrix()\n",
    "X2=pd.DataFrame(X2)\n",
    "\n",
    "# Imput missing values from three closest observations\n",
    "X2_imputed=KNN(k=3).complete(X2)\n",
    "X2=pd.DataFrame(X2_imputed)"
   ]
  },
  {
   "cell_type": "code",
   "execution_count": 313,
   "metadata": {},
   "outputs": [
    {
     "data": {
      "text/html": [
       "<div>\n",
       "<table border=\"1\" class=\"dataframe\">\n",
       "  <thead>\n",
       "    <tr style=\"text-align: right;\">\n",
       "      <th></th>\n",
       "      <th>Ill250.alt_alnScore_mean</th>\n",
       "      <th>Ill250.alt_alnScore_std</th>\n",
       "      <th>Ill250.alt_count</th>\n",
       "      <th>Ill250.alt_insertSize_mean</th>\n",
       "      <th>Ill250.alt_insertSize_std</th>\n",
       "      <th>Ill250.alt_reason_alignmentScore</th>\n",
       "      <th>Ill250.alt_reason_insertSizeScore</th>\n",
       "      <th>Ill250.alt_reason_orientation</th>\n",
       "      <th>Ill250.amb_alnScore_mean</th>\n",
       "      <th>Ill250.amb_alnScore_std</th>\n",
       "      <th>...</th>\n",
       "      <th>pacbio.ref_insertSize_mean</th>\n",
       "      <th>pacbio.ref_insertSize_std</th>\n",
       "      <th>pacbio.ref_reason_alignmentScore</th>\n",
       "      <th>refN_cnt</th>\n",
       "      <th>refN_pct</th>\n",
       "      <th>segdup_cnt</th>\n",
       "      <th>segdup_pct</th>\n",
       "      <th>start</th>\n",
       "      <th>tandemrep_cnt</th>\n",
       "      <th>tandemrep_pct</th>\n",
       "    </tr>\n",
       "  </thead>\n",
       "  <tbody>\n",
       "    <tr>\n",
       "      <th>0</th>\n",
       "      <td>938.807692</td>\n",
       "      <td>17.007960</td>\n",
       "      <td>52.0</td>\n",
       "      <td>478.903846</td>\n",
       "      <td>84.485834</td>\n",
       "      <td>45.0</td>\n",
       "      <td>7.0</td>\n",
       "      <td>0.0</td>\n",
       "      <td>897.581731</td>\n",
       "      <td>141.008841</td>\n",
       "      <td>...</td>\n",
       "      <td>0.000000</td>\n",
       "      <td>0.000000</td>\n",
       "      <td>0.000000</td>\n",
       "      <td>0.0</td>\n",
       "      <td>0.0</td>\n",
       "      <td>0.0</td>\n",
       "      <td>0.000000</td>\n",
       "      <td>151456429.0</td>\n",
       "      <td>9.0</td>\n",
       "      <td>0.031567</td>\n",
       "    </tr>\n",
       "    <tr>\n",
       "      <th>1</th>\n",
       "      <td>967.517241</td>\n",
       "      <td>14.852425</td>\n",
       "      <td>29.0</td>\n",
       "      <td>430.965517</td>\n",
       "      <td>70.471556</td>\n",
       "      <td>28.0</td>\n",
       "      <td>1.0</td>\n",
       "      <td>0.0</td>\n",
       "      <td>882.136546</td>\n",
       "      <td>141.793126</td>\n",
       "      <td>...</td>\n",
       "      <td>9140.708333</td>\n",
       "      <td>4370.268586</td>\n",
       "      <td>72.000000</td>\n",
       "      <td>0.0</td>\n",
       "      <td>0.0</td>\n",
       "      <td>0.0</td>\n",
       "      <td>0.000000</td>\n",
       "      <td>146862618.0</td>\n",
       "      <td>33.0</td>\n",
       "      <td>0.055111</td>\n",
       "    </tr>\n",
       "    <tr>\n",
       "      <th>2</th>\n",
       "      <td>977.700000</td>\n",
       "      <td>17.343875</td>\n",
       "      <td>20.0</td>\n",
       "      <td>451.850000</td>\n",
       "      <td>87.001882</td>\n",
       "      <td>17.0</td>\n",
       "      <td>3.0</td>\n",
       "      <td>0.0</td>\n",
       "      <td>844.818436</td>\n",
       "      <td>134.444514</td>\n",
       "      <td>...</td>\n",
       "      <td>9168.799423</td>\n",
       "      <td>4232.174053</td>\n",
       "      <td>109.449801</td>\n",
       "      <td>0.0</td>\n",
       "      <td>0.0</td>\n",
       "      <td>4.0</td>\n",
       "      <td>0.076523</td>\n",
       "      <td>72766323.0</td>\n",
       "      <td>110.0</td>\n",
       "      <td>0.059979</td>\n",
       "    </tr>\n",
       "  </tbody>\n",
       "</table>\n",
       "<p>3 rows × 176 columns</p>\n",
       "</div>"
      ],
      "text/plain": [
       "   Ill250.alt_alnScore_mean  Ill250.alt_alnScore_std  Ill250.alt_count  \\\n",
       "0                938.807692                17.007960              52.0   \n",
       "1                967.517241                14.852425              29.0   \n",
       "2                977.700000                17.343875              20.0   \n",
       "\n",
       "   Ill250.alt_insertSize_mean  Ill250.alt_insertSize_std  \\\n",
       "0                  478.903846                  84.485834   \n",
       "1                  430.965517                  70.471556   \n",
       "2                  451.850000                  87.001882   \n",
       "\n",
       "   Ill250.alt_reason_alignmentScore  Ill250.alt_reason_insertSizeScore  \\\n",
       "0                              45.0                                7.0   \n",
       "1                              28.0                                1.0   \n",
       "2                              17.0                                3.0   \n",
       "\n",
       "   Ill250.alt_reason_orientation  Ill250.amb_alnScore_mean  \\\n",
       "0                            0.0                897.581731   \n",
       "1                            0.0                882.136546   \n",
       "2                            0.0                844.818436   \n",
       "\n",
       "   Ill250.amb_alnScore_std      ...        pacbio.ref_insertSize_mean  \\\n",
       "0               141.008841      ...                          0.000000   \n",
       "1               141.793126      ...                       9140.708333   \n",
       "2               134.444514      ...                       9168.799423   \n",
       "\n",
       "   pacbio.ref_insertSize_std  pacbio.ref_reason_alignmentScore  refN_cnt  \\\n",
       "0                   0.000000                          0.000000       0.0   \n",
       "1                4370.268586                         72.000000       0.0   \n",
       "2                4232.174053                        109.449801       0.0   \n",
       "\n",
       "   refN_pct  segdup_cnt  segdup_pct        start  tandemrep_cnt  tandemrep_pct  \n",
       "0       0.0         0.0    0.000000  151456429.0            9.0       0.031567  \n",
       "1       0.0         0.0    0.000000  146862618.0           33.0       0.055111  \n",
       "2       0.0         4.0    0.076523   72766323.0          110.0       0.059979  \n",
       "\n",
       "[3 rows x 176 columns]"
      ]
     },
     "execution_count": 313,
     "metadata": {},
     "output_type": "execute_result"
    }
   ],
   "source": [
    "df_header = list(df.columns.values)\n",
    "X2.columns = df_header\n",
    "X2.head(3)"
   ]
  },
  {
   "cell_type": "code",
   "execution_count": 314,
   "metadata": {},
   "outputs": [
    {
     "data": {
      "text/html": [
       "<div>\n",
       "<table border=\"1\" class=\"dataframe\">\n",
       "  <thead>\n",
       "    <tr style=\"text-align: right;\">\n",
       "      <th></th>\n",
       "      <th>Ill250.alt_alnScore_mean</th>\n",
       "      <th>Ill250.alt_alnScore_std</th>\n",
       "      <th>Ill250.alt_count</th>\n",
       "      <th>Ill250.alt_insertSize_mean</th>\n",
       "      <th>Ill250.alt_insertSize_std</th>\n",
       "      <th>Ill250.alt_reason_alignmentScore</th>\n",
       "      <th>Ill250.alt_reason_insertSizeScore</th>\n",
       "      <th>Ill250.alt_reason_orientation</th>\n",
       "      <th>Ill250.amb_alnScore_mean</th>\n",
       "      <th>Ill250.amb_alnScore_std</th>\n",
       "      <th>...</th>\n",
       "      <th>pacbio.ref_insertSize_mean</th>\n",
       "      <th>pacbio.ref_insertSize_std</th>\n",
       "      <th>pacbio.ref_reason_alignmentScore</th>\n",
       "      <th>refN_cnt</th>\n",
       "      <th>refN_pct</th>\n",
       "      <th>segdup_cnt</th>\n",
       "      <th>segdup_pct</th>\n",
       "      <th>start</th>\n",
       "      <th>tandemrep_cnt</th>\n",
       "      <th>tandemrep_pct</th>\n",
       "    </tr>\n",
       "  </thead>\n",
       "  <tbody>\n",
       "    <tr>\n",
       "      <th>0</th>\n",
       "      <td>938.807692</td>\n",
       "      <td>17.007960</td>\n",
       "      <td>52.0</td>\n",
       "      <td>478.903846</td>\n",
       "      <td>84.485834</td>\n",
       "      <td>45.0</td>\n",
       "      <td>7.0</td>\n",
       "      <td>0.0</td>\n",
       "      <td>897.581731</td>\n",
       "      <td>141.008841</td>\n",
       "      <td>...</td>\n",
       "      <td>0.000000</td>\n",
       "      <td>0.000000</td>\n",
       "      <td>0.000000</td>\n",
       "      <td>0.0</td>\n",
       "      <td>0.0</td>\n",
       "      <td>0.0</td>\n",
       "      <td>0.000000</td>\n",
       "      <td>151456429.0</td>\n",
       "      <td>9.0</td>\n",
       "      <td>0.031567</td>\n",
       "    </tr>\n",
       "    <tr>\n",
       "      <th>1</th>\n",
       "      <td>967.517241</td>\n",
       "      <td>14.852425</td>\n",
       "      <td>29.0</td>\n",
       "      <td>430.965517</td>\n",
       "      <td>70.471556</td>\n",
       "      <td>28.0</td>\n",
       "      <td>1.0</td>\n",
       "      <td>0.0</td>\n",
       "      <td>882.136546</td>\n",
       "      <td>141.793126</td>\n",
       "      <td>...</td>\n",
       "      <td>9140.708333</td>\n",
       "      <td>4370.268586</td>\n",
       "      <td>72.000000</td>\n",
       "      <td>0.0</td>\n",
       "      <td>0.0</td>\n",
       "      <td>0.0</td>\n",
       "      <td>0.000000</td>\n",
       "      <td>146862618.0</td>\n",
       "      <td>33.0</td>\n",
       "      <td>0.055111</td>\n",
       "    </tr>\n",
       "    <tr>\n",
       "      <th>2</th>\n",
       "      <td>977.700000</td>\n",
       "      <td>17.343875</td>\n",
       "      <td>20.0</td>\n",
       "      <td>451.850000</td>\n",
       "      <td>87.001882</td>\n",
       "      <td>17.0</td>\n",
       "      <td>3.0</td>\n",
       "      <td>0.0</td>\n",
       "      <td>844.818436</td>\n",
       "      <td>134.444514</td>\n",
       "      <td>...</td>\n",
       "      <td>9168.799423</td>\n",
       "      <td>4232.174053</td>\n",
       "      <td>109.449801</td>\n",
       "      <td>0.0</td>\n",
       "      <td>0.0</td>\n",
       "      <td>4.0</td>\n",
       "      <td>0.076523</td>\n",
       "      <td>72766323.0</td>\n",
       "      <td>110.0</td>\n",
       "      <td>0.059979</td>\n",
       "    </tr>\n",
       "  </tbody>\n",
       "</table>\n",
       "<p>3 rows × 176 columns</p>\n",
       "</div>"
      ],
      "text/plain": [
       "   Ill250.alt_alnScore_mean  Ill250.alt_alnScore_std  Ill250.alt_count  \\\n",
       "0                938.807692                17.007960              52.0   \n",
       "1                967.517241                14.852425              29.0   \n",
       "2                977.700000                17.343875              20.0   \n",
       "\n",
       "   Ill250.alt_insertSize_mean  Ill250.alt_insertSize_std  \\\n",
       "0                  478.903846                  84.485834   \n",
       "1                  430.965517                  70.471556   \n",
       "2                  451.850000                  87.001882   \n",
       "\n",
       "   Ill250.alt_reason_alignmentScore  Ill250.alt_reason_insertSizeScore  \\\n",
       "0                              45.0                                7.0   \n",
       "1                              28.0                                1.0   \n",
       "2                              17.0                                3.0   \n",
       "\n",
       "   Ill250.alt_reason_orientation  Ill250.amb_alnScore_mean  \\\n",
       "0                            0.0                897.581731   \n",
       "1                            0.0                882.136546   \n",
       "2                            0.0                844.818436   \n",
       "\n",
       "   Ill250.amb_alnScore_std      ...        pacbio.ref_insertSize_mean  \\\n",
       "0               141.008841      ...                          0.000000   \n",
       "1               141.793126      ...                       9140.708333   \n",
       "2               134.444514      ...                       9168.799423   \n",
       "\n",
       "   pacbio.ref_insertSize_std  pacbio.ref_reason_alignmentScore  refN_cnt  \\\n",
       "0                   0.000000                          0.000000       0.0   \n",
       "1                4370.268586                         72.000000       0.0   \n",
       "2                4232.174053                        109.449801       0.0   \n",
       "\n",
       "   refN_pct  segdup_cnt  segdup_pct        start  tandemrep_cnt  tandemrep_pct  \n",
       "0       0.0         0.0    0.000000  151456429.0            9.0       0.031567  \n",
       "1       0.0         0.0    0.000000  146862618.0           33.0       0.055111  \n",
       "2       0.0         4.0    0.076523   72766323.0          110.0       0.059979  \n",
       "\n",
       "[3 rows x 176 columns]"
      ]
     },
     "execution_count": 314,
     "metadata": {},
     "output_type": "execute_result"
    }
   ],
   "source": [
    "X3 = pd.DataFrame()\n",
    "X3 = X2\n",
    "X3.head(3)"
   ]
  },
  {
   "cell_type": "code",
   "execution_count": 315,
   "metadata": {
    "collapsed": true
   },
   "outputs": [],
   "source": [
    "# Order features\n",
    "X5 = X2.reindex_axis(sorted(X2.columns), axis=1)"
   ]
  },
  {
   "cell_type": "markdown",
   "metadata": {},
   "source": [
    "<a id='prediction_step'></a>"
   ]
  },
  {
   "cell_type": "code",
   "execution_count": 316,
   "metadata": {
    "collapsed": true
   },
   "outputs": [],
   "source": [
    "pred = model.predict(X5)"
   ]
  },
  {
   "cell_type": "code",
   "execution_count": 317,
   "metadata": {
    "collapsed": true
   },
   "outputs": [],
   "source": [
    "pred_prob = model.predict_proba(X5)"
   ]
  },
  {
   "cell_type": "code",
   "execution_count": 318,
   "metadata": {
    "collapsed": true
   },
   "outputs": [],
   "source": [
    "pred_prob_log = model.predict_log_proba(X5)"
   ]
  },
  {
   "cell_type": "code",
   "execution_count": 319,
   "metadata": {},
   "outputs": [
    {
     "data": {
      "text/html": [
       "<div>\n",
       "<table border=\"1\" class=\"dataframe\">\n",
       "  <thead>\n",
       "    <tr style=\"text-align: right;\">\n",
       "      <th></th>\n",
       "      <th>Ill250.alt_alnScore_mean</th>\n",
       "      <th>Ill250.alt_alnScore_std</th>\n",
       "      <th>Ill250.alt_count</th>\n",
       "      <th>Ill250.alt_insertSize_mean</th>\n",
       "      <th>Ill250.alt_insertSize_std</th>\n",
       "      <th>Ill250.alt_reason_alignmentScore</th>\n",
       "      <th>Ill250.alt_reason_insertSizeScore</th>\n",
       "      <th>Ill250.alt_reason_orientation</th>\n",
       "      <th>Ill250.amb_alnScore_mean</th>\n",
       "      <th>Ill250.amb_alnScore_std</th>\n",
       "      <th>...</th>\n",
       "      <th>pacbio.ref_insertSize_mean</th>\n",
       "      <th>pacbio.ref_insertSize_std</th>\n",
       "      <th>pacbio.ref_reason_alignmentScore</th>\n",
       "      <th>refN_cnt</th>\n",
       "      <th>refN_pct</th>\n",
       "      <th>segdup_cnt</th>\n",
       "      <th>segdup_pct</th>\n",
       "      <th>start</th>\n",
       "      <th>tandemrep_cnt</th>\n",
       "      <th>tandemrep_pct</th>\n",
       "    </tr>\n",
       "  </thead>\n",
       "  <tbody>\n",
       "  </tbody>\n",
       "</table>\n",
       "<p>0 rows × 176 columns</p>\n",
       "</div>"
      ],
      "text/plain": [
       "Empty DataFrame\n",
       "Columns: [Ill250.alt_alnScore_mean, Ill250.alt_alnScore_std, Ill250.alt_count, Ill250.alt_insertSize_mean, Ill250.alt_insertSize_std, Ill250.alt_reason_alignmentScore, Ill250.alt_reason_insertSizeScore, Ill250.alt_reason_orientation, Ill250.amb_alnScore_mean, Ill250.amb_alnScore_std, Ill250.amb_count, Ill250.amb_insertSize_mean, Ill250.amb_insertSize_std, Ill250.amb_reason_alignmentScore_alignmentScore, Ill250.amb_reason_alignmentScore_orientation, Ill250.amb_reason_flanking, Ill250.amb_reason_insertSizeScore_alignmentScore, Ill250.amb_reason_multimapping, Ill250.amb_reason_orientation_alignmentScore, Ill250.amb_reason_orientation_orientation, Ill250.amb_reason_same_scores, Ill250.ref_alnScore_mean, Ill250.ref_alnScore_std, Ill250.ref_count, Ill250.ref_insertSize_mean, Ill250.ref_insertSize_std, Ill250.ref_reason_alignmentScore, Ill250.ref_reason_orientation, Ill300x.alt_alnScore_mean, Ill300x.alt_alnScore_std, Ill300x.alt_count, Ill300x.alt_insertSize_mean, Ill300x.alt_insertSize_std, Ill300x.alt_reason_alignmentScore, Ill300x.alt_reason_insertSizeScore, Ill300x.alt_reason_orientation, Ill300x.amb_alnScore_mean, Ill300x.amb_alnScore_std, Ill300x.amb_count, Ill300x.amb_insertSize_mean, Ill300x.amb_insertSize_std, Ill300x.amb_reason_alignmentScore_alignmentScore, Ill300x.amb_reason_alignmentScore_insertSizeScore, Ill300x.amb_reason_alignmentScore_orientation, Ill300x.amb_reason_flanking, Ill300x.amb_reason_insertSizeScore_alignmentScore, Ill300x.amb_reason_insertSizeScore_insertSizeScore, Ill300x.amb_reason_multimapping, Ill300x.amb_reason_orientation_alignmentScore, Ill300x.amb_reason_orientation_orientation, Ill300x.amb_reason_same_scores, Ill300x.ref_alnScore_mean, Ill300x.ref_alnScore_std, Ill300x.ref_count, Ill300x.ref_insertSize_mean, Ill300x.ref_insertSize_std, Ill300x.ref_reason_alignmentScore, Ill300x.ref_reason_insertSizeScore, Ill300x.ref_reason_orientation, IllMP.alt_alnScore_mean, IllMP.alt_alnScore_std, IllMP.alt_count, IllMP.alt_insertSize_mean, IllMP.alt_insertSize_std, IllMP.alt_reason_alignmentScore, IllMP.alt_reason_insertSizeScore, IllMP.alt_reason_orientation, IllMP.amb_alnScore_mean, IllMP.amb_alnScore_std, IllMP.amb_count, IllMP.amb_insertSize_mean, IllMP.amb_insertSize_std, IllMP.amb_reason_alignmentScore_alignmentScore, IllMP.amb_reason_alignmentScore_orientation, IllMP.amb_reason_flanking, IllMP.amb_reason_insertSizeScore_alignmentScore, IllMP.amb_reason_insertSizeScore_insertSizeScore, IllMP.amb_reason_multimapping, IllMP.amb_reason_orientation_alignmentScore, IllMP.amb_reason_orientation_orientation, IllMP.amb_reason_same_scores, IllMP.ref_alnScore_mean, IllMP.ref_alnScore_std, IllMP.ref_count, IllMP.ref_insertSize_mean, IllMP.ref_insertSize_std, IllMP.ref_reason_alignmentScore, IllMP.ref_reason_insertSizeScore, IllMP.ref_reason_orientation, Size, TenX.HP1_alt_alnScore_mean, TenX.HP1_alt_alnScore_std, TenX.HP1_alt_count, TenX.HP1_alt_insertSize_mean, TenX.HP1_alt_insertSize_std, TenX.HP1_alt_reason_alignmentScore, TenX.HP1_alt_reason_insertSizeScore, TenX.HP1_alt_reason_orientation, TenX.HP1_amb_alnScore_mean, TenX.HP1_amb_alnScore_std, ...]\n",
       "Index: []\n",
       "\n",
       "[0 rows x 176 columns]"
      ]
     },
     "execution_count": 319,
     "metadata": {},
     "output_type": "execute_result"
    }
   ],
   "source": [
    "df[df.index.duplicated()]"
   ]
  },
  {
   "cell_type": "code",
   "execution_count": 321,
   "metadata": {},
   "outputs": [],
   "source": [
    "X5['predicted_label'] = pred\n",
    "X5['chrom'] = df2['chrom']\n",
    "X5['GTcons'] = df2['GTcons']\n",
    "X5['start'] = df2['start']\n",
    "X5['end'] = df2['end']\n",
    "X5['Size'] = df2['Size']\n",
    "# X5['GTsupp'] = df2['GTsupp']"
   ]
  },
  {
   "cell_type": "code",
   "execution_count": 322,
   "metadata": {
    "collapsed": true
   },
   "outputs": [],
   "source": [
    "X6 = pd.concat([X5, pd.DataFrame(pred_prob, columns=['1','2','3'])])"
   ]
  },
  {
   "cell_type": "code",
   "execution_count": 323,
   "metadata": {
    "collapsed": true
   },
   "outputs": [],
   "source": [
    "X7 = pd.concat([X5, pd.DataFrame(pred_prob_log, columns=['1','2','3'])])"
   ]
  },
  {
   "cell_type": "code",
   "execution_count": 324,
   "metadata": {
    "collapsed": true
   },
   "outputs": [],
   "source": [
    "X6.to_csv('/Volumes/lesleydata/RF_model_trainingData_test/size_data/results/figures/100to299/100to299_6000_predLrg.csv', index=False)"
   ]
  },
  {
   "cell_type": "code",
   "execution_count": null,
   "metadata": {
    "collapsed": true
   },
   "outputs": [],
   "source": [
    "X7.to_csv('/Volumes/lesleydata/RF_model_trainingData_test/size_data/results/figures/100to299/100to299_log_6000_.csv', index=False)"
   ]
  },
  {
   "cell_type": "code",
   "execution_count": 325,
   "metadata": {
    "collapsed": true
   },
   "outputs": [],
   "source": [
    "X6 = pd.read_csv('/Volumes/lesleydata/RF_model_trainingData_test/size_data/results/figures/100to299/100to299_6000_predLrg.csv')"
   ]
  },
  {
   "cell_type": "code",
   "execution_count": 326,
   "metadata": {
    "collapsed": true
   },
   "outputs": [],
   "source": [
    "X6.rename(columns={'1': 'Homozygous_Reference_GTcons'}, inplace=True)\n",
    "X6.rename(columns={'2': 'Heterozygous_Variant_GTcons'}, inplace=True)\n",
    "X6.rename(columns={'3': 'Homozygous_Variant_GTcons'}, inplace=True)\n",
    "X6.rename(columns={'predicted_label': 'predicted_GTcons_label'}, inplace=True)"
   ]
  },
  {
   "cell_type": "code",
   "execution_count": 327,
   "metadata": {
    "collapsed": true
   },
   "outputs": [],
   "source": [
    "X6['GTcons'].replace('Homozygous_Reference', '0', inplace=True)\n",
    "X6['GTcons'].replace('Heterozygous_Variant', '1', inplace=True)\n",
    "X6['GTcons'].replace('Homozygous_Variant', '2', inplace=True)"
   ]
  },
  {
   "cell_type": "code",
   "execution_count": 328,
   "metadata": {},
   "outputs": [
    {
     "data": {
      "text/html": [
       "<div>\n",
       "<table border=\"1\" class=\"dataframe\">\n",
       "  <thead>\n",
       "    <tr style=\"text-align: right;\">\n",
       "      <th></th>\n",
       "      <th>Homozygous_Reference_GTcons</th>\n",
       "      <th>Heterozygous_Variant_GTcons</th>\n",
       "      <th>Homozygous_Variant_GTcons</th>\n",
       "      <th>GTcons</th>\n",
       "      <th>Ill250.alt_alnScore_mean</th>\n",
       "      <th>Ill250.alt_alnScore_std</th>\n",
       "      <th>Ill250.alt_count</th>\n",
       "      <th>Ill250.alt_insertSize_mean</th>\n",
       "      <th>Ill250.alt_insertSize_std</th>\n",
       "      <th>Ill250.alt_reason_alignmentScore</th>\n",
       "      <th>...</th>\n",
       "      <th>pacbio.ref_insertSize_std</th>\n",
       "      <th>pacbio.ref_reason_alignmentScore</th>\n",
       "      <th>predicted_GTcons_label</th>\n",
       "      <th>refN_cnt</th>\n",
       "      <th>refN_pct</th>\n",
       "      <th>segdup_cnt</th>\n",
       "      <th>segdup_pct</th>\n",
       "      <th>start</th>\n",
       "      <th>tandemrep_cnt</th>\n",
       "      <th>tandemrep_pct</th>\n",
       "    </tr>\n",
       "  </thead>\n",
       "  <tbody>\n",
       "    <tr>\n",
       "      <th>0</th>\n",
       "      <td>0.000000</td>\n",
       "      <td>0.083333</td>\n",
       "      <td>0.916667</td>\n",
       "      <td>2</td>\n",
       "      <td>938.807692</td>\n",
       "      <td>17.007960</td>\n",
       "      <td>52.0</td>\n",
       "      <td>478.903846</td>\n",
       "      <td>84.485834</td>\n",
       "      <td>45.0</td>\n",
       "      <td>...</td>\n",
       "      <td>0.000000</td>\n",
       "      <td>0.000000</td>\n",
       "      <td>2</td>\n",
       "      <td>0</td>\n",
       "      <td>0</td>\n",
       "      <td>0</td>\n",
       "      <td>0.000000</td>\n",
       "      <td>151456429</td>\n",
       "      <td>9</td>\n",
       "      <td>0.031567</td>\n",
       "    </tr>\n",
       "    <tr>\n",
       "      <th>1</th>\n",
       "      <td>0.083333</td>\n",
       "      <td>0.833333</td>\n",
       "      <td>0.083333</td>\n",
       "      <td>1</td>\n",
       "      <td>967.517241</td>\n",
       "      <td>14.852425</td>\n",
       "      <td>29.0</td>\n",
       "      <td>430.965517</td>\n",
       "      <td>70.471556</td>\n",
       "      <td>28.0</td>\n",
       "      <td>...</td>\n",
       "      <td>4370.268586</td>\n",
       "      <td>72.000000</td>\n",
       "      <td>1</td>\n",
       "      <td>0</td>\n",
       "      <td>0</td>\n",
       "      <td>0</td>\n",
       "      <td>0.000000</td>\n",
       "      <td>146862618</td>\n",
       "      <td>33</td>\n",
       "      <td>0.055111</td>\n",
       "    </tr>\n",
       "    <tr>\n",
       "      <th>2</th>\n",
       "      <td>0.583333</td>\n",
       "      <td>0.416667</td>\n",
       "      <td>0.000000</td>\n",
       "      <td>1</td>\n",
       "      <td>977.700000</td>\n",
       "      <td>17.343875</td>\n",
       "      <td>20.0</td>\n",
       "      <td>451.850000</td>\n",
       "      <td>87.001882</td>\n",
       "      <td>17.0</td>\n",
       "      <td>...</td>\n",
       "      <td>4232.174053</td>\n",
       "      <td>109.449801</td>\n",
       "      <td>0</td>\n",
       "      <td>0</td>\n",
       "      <td>0</td>\n",
       "      <td>4</td>\n",
       "      <td>0.076523</td>\n",
       "      <td>72766323</td>\n",
       "      <td>110</td>\n",
       "      <td>0.059979</td>\n",
       "    </tr>\n",
       "  </tbody>\n",
       "</table>\n",
       "<p>3 rows × 181 columns</p>\n",
       "</div>"
      ],
      "text/plain": [
       "   Homozygous_Reference_GTcons  Heterozygous_Variant_GTcons  \\\n",
       "0                     0.000000                     0.083333   \n",
       "1                     0.083333                     0.833333   \n",
       "2                     0.583333                     0.416667   \n",
       "\n",
       "   Homozygous_Variant_GTcons  GTcons  Ill250.alt_alnScore_mean  \\\n",
       "0                   0.916667       2                938.807692   \n",
       "1                   0.083333       1                967.517241   \n",
       "2                   0.000000       1                977.700000   \n",
       "\n",
       "   Ill250.alt_alnScore_std  Ill250.alt_count  Ill250.alt_insertSize_mean  \\\n",
       "0                17.007960              52.0                  478.903846   \n",
       "1                14.852425              29.0                  430.965517   \n",
       "2                17.343875              20.0                  451.850000   \n",
       "\n",
       "   Ill250.alt_insertSize_std  Ill250.alt_reason_alignmentScore      ...        \\\n",
       "0                  84.485834                              45.0      ...         \n",
       "1                  70.471556                              28.0      ...         \n",
       "2                  87.001882                              17.0      ...         \n",
       "\n",
       "   pacbio.ref_insertSize_std  pacbio.ref_reason_alignmentScore  \\\n",
       "0                   0.000000                          0.000000   \n",
       "1                4370.268586                         72.000000   \n",
       "2                4232.174053                        109.449801   \n",
       "\n",
       "   predicted_GTcons_label  refN_cnt  refN_pct  segdup_cnt  segdup_pct  \\\n",
       "0                       2         0         0           0    0.000000   \n",
       "1                       1         0         0           0    0.000000   \n",
       "2                       0         0         0           4    0.076523   \n",
       "\n",
       "       start  tandemrep_cnt  tandemrep_pct  \n",
       "0  151456429              9       0.031567  \n",
       "1  146862618             33       0.055111  \n",
       "2   72766323            110       0.059979  \n",
       "\n",
       "[3 rows x 181 columns]"
      ]
     },
     "execution_count": 328,
     "metadata": {},
     "output_type": "execute_result"
    }
   ],
   "source": [
    "X6.head(3)"
   ]
  },
  {
   "cell_type": "code",
   "execution_count": 329,
   "metadata": {
    "collapsed": true
   },
   "outputs": [],
   "source": [
    "X6.to_csv('/Volumes/lesleydata/RF_model_trainingData_test/size_data/results/figures/100to299/100to299_final_6000_predLrg.csv', index=False)"
   ]
  },
  {
   "cell_type": "code",
   "execution_count": 330,
   "metadata": {
    "collapsed": true
   },
   "outputs": [],
   "source": [
    "# X6['GTcons'].fillna(999)\n",
    "# X7 = X6[X6.GTcons != 999]\n",
    "# X6['predicted_GTcons_label'].isnull().sum()"
   ]
  },
  {
   "cell_type": "code",
   "execution_count": 331,
   "metadata": {},
   "outputs": [
    {
     "data": {
      "text/plain": [
       "dtype('int64')"
      ]
     },
     "execution_count": 331,
     "metadata": {},
     "output_type": "execute_result"
    }
   ],
   "source": [
    "X6['predicted_GTcons_label'].dtypes"
   ]
  },
  {
   "cell_type": "code",
   "execution_count": 332,
   "metadata": {
    "collapsed": true
   },
   "outputs": [],
   "source": [
    "X6.GTcons = X6.GTcons.astype(int)"
   ]
  },
  {
   "cell_type": "code",
   "execution_count": 333,
   "metadata": {
    "scrolled": true
   },
   "outputs": [
    {
     "name": "stdout",
     "output_type": "stream",
     "text": [
      "0    27\n",
      "1    20\n",
      "2    10\n",
      "dtype: int64\n"
     ]
    }
   ],
   "source": [
    "print (pd.value_counts(X6['GTcons'].values, sort=False))"
   ]
  },
  {
   "cell_type": "markdown",
   "metadata": {},
   "source": [
    "***\n",
    "Label Analysis\n",
    "***"
   ]
  },
  {
   "cell_type": "markdown",
   "metadata": {},
   "source": [
    "Description:\n",
    "  * The [random forest(RF) model](#train_test) was trained on svanalyzer data. The trained model was used to predict consensus GT labels for the 5000 deletions that were randomly selected from the union_refalt vcf. The following is a comparison of model predicted labels [Conesus GT] to consensus genotype generated by the R script for the 5000 randomly selected datapoints from union_refalt.vcf "
   ]
  },
  {
   "cell_type": "code",
   "execution_count": 334,
   "metadata": {},
   "outputs": [
    {
     "name": "stdout",
     "output_type": "stream",
     "text": [
      "[[27  0  0]\n",
      " [ 2 18  0]\n",
      " [ 0  0 10]]\n"
     ]
    }
   ],
   "source": [
    "from sklearn.metrics import confusion_matrix\n",
    "consensus_GT = X6['GTcons']\n",
    "predict = X6['predicted_GTcons_label']\n",
    "print(confusion_matrix(consensus_GT, predict))"
   ]
  },
  {
   "cell_type": "code",
   "execution_count": 335,
   "metadata": {
    "collapsed": true
   },
   "outputs": [],
   "source": [
    "X6['GTcons'].replace(0, 'Homozygous_Reference', inplace=True)\n",
    "X6['GTcons'].replace(1, 'Heterozygous_Variant', inplace=True)\n",
    "X6['GTcons'].replace(2, 'Homozygous_Variant', inplace=True)\n",
    "X6['predicted_GTcons_label'].replace(0.0, 'Homozygous_Reference', inplace=True)\n",
    "X6['predicted_GTcons_label'].replace(1.0, 'Heterozygous_Variant', inplace=True)\n",
    "X6['predicted_GTcons_label'].replace(2.0, 'Homozygous_Variant', inplace=True)"
   ]
  },
  {
   "cell_type": "markdown",
   "metadata": {},
   "source": [
    "<a id='predict_precision_score_matrix'></a>"
   ]
  },
  {
   "cell_type": "code",
   "execution_count": 336,
   "metadata": {},
   "outputs": [
    {
     "name": "stdout",
     "output_type": "stream",
     "text": [
      "Precision score of the prediction subset: 0.965\n"
     ]
    }
   ],
   "source": [
    "print('Precision score of the prediction subset: {:.3f}'.format(precision_score(consensus_GT, predict, average='micro'))) "
   ]
  },
  {
   "cell_type": "code",
   "execution_count": 337,
   "metadata": {},
   "outputs": [
    {
     "name": "stdout",
     "output_type": "stream",
     "text": [
      "Accuracy score of the prediction subset: 0.965\n"
     ]
    }
   ],
   "source": [
    "print('Accuracy score of the prediction subset: {:.3f}'.format(accuracy_score(consensus_GT, predict))) "
   ]
  },
  {
   "cell_type": "code",
   "execution_count": 338,
   "metadata": {
    "scrolled": true
   },
   "outputs": [
    {
     "data": {
      "text/html": [
       "<div>\n",
       "<table border=\"1\" class=\"dataframe\">\n",
       "  <thead>\n",
       "    <tr style=\"text-align: right;\">\n",
       "      <th>Predicted</th>\n",
       "      <th>Heterozygous_Variant</th>\n",
       "      <th>Homozygous_Reference</th>\n",
       "      <th>Homozygous_Variant</th>\n",
       "      <th>All</th>\n",
       "    </tr>\n",
       "    <tr>\n",
       "      <th>True</th>\n",
       "      <th></th>\n",
       "      <th></th>\n",
       "      <th></th>\n",
       "      <th></th>\n",
       "    </tr>\n",
       "  </thead>\n",
       "  <tbody>\n",
       "    <tr>\n",
       "      <th>Heterozygous_Variant</th>\n",
       "      <td>18</td>\n",
       "      <td>2</td>\n",
       "      <td>0</td>\n",
       "      <td>20</td>\n",
       "    </tr>\n",
       "    <tr>\n",
       "      <th>Homozygous_Reference</th>\n",
       "      <td>0</td>\n",
       "      <td>27</td>\n",
       "      <td>0</td>\n",
       "      <td>27</td>\n",
       "    </tr>\n",
       "    <tr>\n",
       "      <th>Homozygous_Variant</th>\n",
       "      <td>0</td>\n",
       "      <td>0</td>\n",
       "      <td>10</td>\n",
       "      <td>10</td>\n",
       "    </tr>\n",
       "    <tr>\n",
       "      <th>All</th>\n",
       "      <td>18</td>\n",
       "      <td>29</td>\n",
       "      <td>10</td>\n",
       "      <td>57</td>\n",
       "    </tr>\n",
       "  </tbody>\n",
       "</table>\n",
       "</div>"
      ],
      "text/plain": [
       "Predicted             Heterozygous_Variant  Homozygous_Reference  \\\n",
       "True                                                               \n",
       "Heterozygous_Variant                    18                     2   \n",
       "Homozygous_Reference                     0                    27   \n",
       "Homozygous_Variant                       0                     0   \n",
       "All                                     18                    29   \n",
       "\n",
       "Predicted             Homozygous_Variant  All  \n",
       "True                                           \n",
       "Heterozygous_Variant                   0   20  \n",
       "Homozygous_Reference                   0   27  \n",
       "Homozygous_Variant                    10   10  \n",
       "All                                   10   57  "
      ]
     },
     "execution_count": 338,
     "metadata": {},
     "output_type": "execute_result"
    }
   ],
   "source": [
    "pd.crosstab(consensus_GT, predict, rownames=['True'], colnames=['Predicted'], margins=True)"
   ]
  },
  {
   "cell_type": "markdown",
   "metadata": {},
   "source": [
    "** High Confidence Label Analysis**\n",
    "* **Reminder:** The labels predicted by the model are the following consensus genotype:\n",
    "    * Homozygous Reference: 0 \n",
    "    * Heterozygous Variant: 1 \n",
    "    * Homozygous Variant: 2 \n",
    "* Here **high confidence labels** are the GTcons labels predicted by the model that were also assigned a predict probability of either 0.9 or 1\n"
   ]
  },
  {
   "cell_type": "code",
   "execution_count": 339,
   "metadata": {
    "collapsed": true
   },
   "outputs": [],
   "source": [
    "high_conf_labels = X6[(X6['Homozygous_Reference_GTcons'] == 1) | (X6['Homozygous_Reference_GTcons'] >= 0.9) | (X6['Heterozygous_Variant_GTcons'] == 1) | (X6['Heterozygous_Variant_GTcons'] >= 0.9) | (X6['Homozygous_Variant_GTcons'] == 1) | (X6['Homozygous_Variant_GTcons'] >= 0.9)]\n"
   ]
  },
  {
   "cell_type": "markdown",
   "metadata": {},
   "source": [
    "<a id='hiconf_precision_score'></a>"
   ]
  },
  {
   "cell_type": "code",
   "execution_count": 340,
   "metadata": {},
   "outputs": [
    {
     "data": {
      "text/html": [
       "<div>\n",
       "<table border=\"1\" class=\"dataframe\">\n",
       "  <thead>\n",
       "    <tr style=\"text-align: right;\">\n",
       "      <th>Predicted</th>\n",
       "      <th>Heterozygous_Variant</th>\n",
       "      <th>Homozygous_Reference</th>\n",
       "      <th>Homozygous_Variant</th>\n",
       "      <th>All</th>\n",
       "    </tr>\n",
       "    <tr>\n",
       "      <th>True</th>\n",
       "      <th></th>\n",
       "      <th></th>\n",
       "      <th></th>\n",
       "      <th></th>\n",
       "    </tr>\n",
       "  </thead>\n",
       "  <tbody>\n",
       "    <tr>\n",
       "      <th>Heterozygous_Variant</th>\n",
       "      <td>10</td>\n",
       "      <td>0</td>\n",
       "      <td>0</td>\n",
       "      <td>10</td>\n",
       "    </tr>\n",
       "    <tr>\n",
       "      <th>Homozygous_Reference</th>\n",
       "      <td>0</td>\n",
       "      <td>27</td>\n",
       "      <td>0</td>\n",
       "      <td>27</td>\n",
       "    </tr>\n",
       "    <tr>\n",
       "      <th>Homozygous_Variant</th>\n",
       "      <td>0</td>\n",
       "      <td>0</td>\n",
       "      <td>5</td>\n",
       "      <td>5</td>\n",
       "    </tr>\n",
       "    <tr>\n",
       "      <th>All</th>\n",
       "      <td>10</td>\n",
       "      <td>27</td>\n",
       "      <td>5</td>\n",
       "      <td>42</td>\n",
       "    </tr>\n",
       "  </tbody>\n",
       "</table>\n",
       "</div>"
      ],
      "text/plain": [
       "Predicted             Heterozygous_Variant  Homozygous_Reference  \\\n",
       "True                                                               \n",
       "Heterozygous_Variant                    10                     0   \n",
       "Homozygous_Reference                     0                    27   \n",
       "Homozygous_Variant                       0                     0   \n",
       "All                                     10                    27   \n",
       "\n",
       "Predicted             Homozygous_Variant  All  \n",
       "True                                           \n",
       "Heterozygous_Variant                   0   10  \n",
       "Homozygous_Reference                   0   27  \n",
       "Homozygous_Variant                     5    5  \n",
       "All                                    5   42  "
      ]
     },
     "execution_count": 340,
     "metadata": {},
     "output_type": "execute_result"
    }
   ],
   "source": [
    "consensus_GT = high_conf_labels['GTcons']\n",
    "predict = high_conf_labels['predicted_GTcons_label']\n",
    "pd.crosstab(consensus_GT, predict, rownames=['True'], colnames=['Predicted'], margins=True)"
   ]
  },
  {
   "cell_type": "code",
   "execution_count": 341,
   "metadata": {
    "scrolled": true
   },
   "outputs": [
    {
     "name": "stdout",
     "output_type": "stream",
     "text": [
      "                      precision    recall  f1-score   support\n",
      "\n",
      "Heterozygous_Variant       1.00      1.00      1.00        10\n",
      "Homozygous_Reference       1.00      1.00      1.00        27\n",
      "  Homozygous_Variant       1.00      1.00      1.00         5\n",
      "\n",
      "         avg / total       1.00      1.00      1.00        42\n",
      "\n"
     ]
    }
   ],
   "source": [
    "from sklearn.metrics import classification_report\n",
    "print(classification_report(consensus_GT, predict))"
   ]
  },
  {
   "cell_type": "markdown",
   "metadata": {},
   "source": [
    "***\n",
    "**Predict**\n",
    "\n",
    "\n",
    "How well does a model trained on small variants predict GT of large variants?\n",
    "Variants : 20 to 49bp\n",
    "***"
   ]
  },
  {
   "cell_type": "markdown",
   "metadata": {},
   "source": [
    "<a id='predict'></a>"
   ]
  },
  {
   "cell_type": "markdown",
   "metadata": {},
   "source": [
    "** Load Data **"
   ]
  },
  {
   "cell_type": "markdown",
   "metadata": {},
   "source": [
    "* Pool all datasets with large variants 20 to 49bp"
   ]
  },
  {
   "cell_type": "code",
   "execution_count": 342,
   "metadata": {
    "collapsed": true
   },
   "outputs": [],
   "source": [
    "df = pd.concat([df_20to49, df_20to49_test], axis=0)\n",
    "df = df.reset_index()\n",
    "df2 = pd.concat([df_20to49, df_20to49_test], axis=0)\n",
    "df2 = df2.reset_index()"
   ]
  },
  {
   "cell_type": "code",
   "execution_count": 343,
   "metadata": {
    "collapsed": true
   },
   "outputs": [],
   "source": [
    "df.drop(['GTcons'],axis=1, inplace=True)\n",
    "df.drop(['index'],axis=1, inplace=True)\n",
    "df2.drop(['index'],axis=1, inplace=True)"
   ]
  },
  {
   "cell_type": "code",
   "execution_count": 344,
   "metadata": {
    "collapsed": true
   },
   "outputs": [],
   "source": [
    "X2 = df"
   ]
  },
  {
   "cell_type": "markdown",
   "metadata": {},
   "source": [
    "** Impute missing values using KNN **"
   ]
  },
  {
   "cell_type": "code",
   "execution_count": 345,
   "metadata": {},
   "outputs": [
    {
     "name": "stdout",
     "output_type": "stream",
     "text": [
      "Imputing row 1/3350 with 1 missing, elapsed time: 10.558\n",
      "Imputing row 101/3350 with 1 missing, elapsed time: 10.578\n",
      "Imputing row 201/3350 with 2 missing, elapsed time: 10.595\n",
      "Imputing row 301/3350 with 2 missing, elapsed time: 10.612\n",
      "Imputing row 401/3350 with 2 missing, elapsed time: 10.626\n",
      "Imputing row 501/3350 with 2 missing, elapsed time: 10.647\n",
      "Imputing row 601/3350 with 1 missing, elapsed time: 10.662\n",
      "Imputing row 701/3350 with 2 missing, elapsed time: 10.678\n",
      "Imputing row 801/3350 with 1 missing, elapsed time: 10.696\n",
      "Imputing row 901/3350 with 58 missing, elapsed time: 10.710\n",
      "Imputing row 1001/3350 with 2 missing, elapsed time: 10.721\n",
      "Imputing row 1101/3350 with 1 missing, elapsed time: 10.739\n",
      "Imputing row 1201/3350 with 2 missing, elapsed time: 10.755\n",
      "Imputing row 1301/3350 with 2 missing, elapsed time: 10.774\n",
      "Imputing row 1401/3350 with 1 missing, elapsed time: 10.792\n",
      "Imputing row 1501/3350 with 2 missing, elapsed time: 10.822\n",
      "Imputing row 1601/3350 with 2 missing, elapsed time: 10.833\n",
      "Imputing row 1701/3350 with 2 missing, elapsed time: 10.844\n",
      "Imputing row 1801/3350 with 2 missing, elapsed time: 10.859\n",
      "Imputing row 1901/3350 with 1 missing, elapsed time: 10.875\n",
      "Imputing row 2001/3350 with 1 missing, elapsed time: 10.887\n",
      "Imputing row 2101/3350 with 1 missing, elapsed time: 10.896\n",
      "Imputing row 2201/3350 with 2 missing, elapsed time: 10.942\n",
      "Imputing row 2301/3350 with 2 missing, elapsed time: 10.958\n",
      "Imputing row 2401/3350 with 2 missing, elapsed time: 10.968\n",
      "Imputing row 2501/3350 with 2 missing, elapsed time: 10.993\n",
      "Imputing row 2601/3350 with 2 missing, elapsed time: 11.009\n",
      "Imputing row 2701/3350 with 1 missing, elapsed time: 11.042\n",
      "Imputing row 2801/3350 with 1 missing, elapsed time: 11.049\n",
      "Imputing row 2901/3350 with 1 missing, elapsed time: 11.073\n",
      "Imputing row 3001/3350 with 1 missing, elapsed time: 11.081\n",
      "Imputing row 3101/3350 with 57 missing, elapsed time: 11.089\n",
      "Imputing row 3201/3350 with 2 missing, elapsed time: 11.123\n",
      "Imputing row 3301/3350 with 2 missing, elapsed time: 11.139\n"
     ]
    }
   ],
   "source": [
    "#Convert dataframe to matrix\n",
    "X2=X2.as_matrix()\n",
    "X2=pd.DataFrame(X2)\n",
    "\n",
    "# Imput missing values from three closest observations\n",
    "X2_imputed=KNN(k=3).complete(X2)\n",
    "X2=pd.DataFrame(X2_imputed)"
   ]
  },
  {
   "cell_type": "code",
   "execution_count": 346,
   "metadata": {},
   "outputs": [
    {
     "data": {
      "text/html": [
       "<div>\n",
       "<table border=\"1\" class=\"dataframe\">\n",
       "  <thead>\n",
       "    <tr style=\"text-align: right;\">\n",
       "      <th></th>\n",
       "      <th>Ill250.alt_alnScore_mean</th>\n",
       "      <th>Ill250.alt_alnScore_std</th>\n",
       "      <th>Ill250.alt_count</th>\n",
       "      <th>Ill250.alt_insertSize_mean</th>\n",
       "      <th>Ill250.alt_insertSize_std</th>\n",
       "      <th>Ill250.alt_reason_alignmentScore</th>\n",
       "      <th>Ill250.alt_reason_insertSizeScore</th>\n",
       "      <th>Ill250.alt_reason_orientation</th>\n",
       "      <th>Ill250.amb_alnScore_mean</th>\n",
       "      <th>Ill250.amb_alnScore_std</th>\n",
       "      <th>...</th>\n",
       "      <th>pacbio.ref_insertSize_mean</th>\n",
       "      <th>pacbio.ref_insertSize_std</th>\n",
       "      <th>pacbio.ref_reason_alignmentScore</th>\n",
       "      <th>refN_cnt</th>\n",
       "      <th>refN_pct</th>\n",
       "      <th>segdup_cnt</th>\n",
       "      <th>segdup_pct</th>\n",
       "      <th>start</th>\n",
       "      <th>tandemrep_cnt</th>\n",
       "      <th>tandemrep_pct</th>\n",
       "    </tr>\n",
       "  </thead>\n",
       "  <tbody>\n",
       "    <tr>\n",
       "      <th>0</th>\n",
       "      <td>976.871795</td>\n",
       "      <td>12.113098</td>\n",
       "      <td>39.0</td>\n",
       "      <td>431.384615</td>\n",
       "      <td>91.092406</td>\n",
       "      <td>39.0</td>\n",
       "      <td>0.0</td>\n",
       "      <td>0.0</td>\n",
       "      <td>890.273292</td>\n",
       "      <td>144.669681</td>\n",
       "      <td>...</td>\n",
       "      <td>8754.50</td>\n",
       "      <td>3356.194618</td>\n",
       "      <td>30.0</td>\n",
       "      <td>0.0</td>\n",
       "      <td>0.0</td>\n",
       "      <td>0.0</td>\n",
       "      <td>0.0</td>\n",
       "      <td>65359519.0</td>\n",
       "      <td>0.0</td>\n",
       "      <td>0.000000</td>\n",
       "    </tr>\n",
       "    <tr>\n",
       "      <th>1</th>\n",
       "      <td>0.000000</td>\n",
       "      <td>0.000000</td>\n",
       "      <td>0.0</td>\n",
       "      <td>0.000000</td>\n",
       "      <td>0.000000</td>\n",
       "      <td>0.0</td>\n",
       "      <td>0.0</td>\n",
       "      <td>0.0</td>\n",
       "      <td>907.097143</td>\n",
       "      <td>146.444984</td>\n",
       "      <td>...</td>\n",
       "      <td>10767.32</td>\n",
       "      <td>3791.304854</td>\n",
       "      <td>50.0</td>\n",
       "      <td>0.0</td>\n",
       "      <td>0.0</td>\n",
       "      <td>0.0</td>\n",
       "      <td>0.0</td>\n",
       "      <td>44564287.0</td>\n",
       "      <td>1.0</td>\n",
       "      <td>1.000000</td>\n",
       "    </tr>\n",
       "    <tr>\n",
       "      <th>2</th>\n",
       "      <td>980.865672</td>\n",
       "      <td>12.845692</td>\n",
       "      <td>67.0</td>\n",
       "      <td>430.701492</td>\n",
       "      <td>88.234426</td>\n",
       "      <td>67.0</td>\n",
       "      <td>0.0</td>\n",
       "      <td>0.0</td>\n",
       "      <td>883.863905</td>\n",
       "      <td>158.467660</td>\n",
       "      <td>...</td>\n",
       "      <td>18545.00</td>\n",
       "      <td>0.000000</td>\n",
       "      <td>1.0</td>\n",
       "      <td>0.0</td>\n",
       "      <td>0.0</td>\n",
       "      <td>1.0</td>\n",
       "      <td>1.0</td>\n",
       "      <td>96806440.0</td>\n",
       "      <td>1.0</td>\n",
       "      <td>0.586207</td>\n",
       "    </tr>\n",
       "  </tbody>\n",
       "</table>\n",
       "<p>3 rows × 176 columns</p>\n",
       "</div>"
      ],
      "text/plain": [
       "   Ill250.alt_alnScore_mean  Ill250.alt_alnScore_std  Ill250.alt_count  \\\n",
       "0                976.871795                12.113098              39.0   \n",
       "1                  0.000000                 0.000000               0.0   \n",
       "2                980.865672                12.845692              67.0   \n",
       "\n",
       "   Ill250.alt_insertSize_mean  Ill250.alt_insertSize_std  \\\n",
       "0                  431.384615                  91.092406   \n",
       "1                    0.000000                   0.000000   \n",
       "2                  430.701492                  88.234426   \n",
       "\n",
       "   Ill250.alt_reason_alignmentScore  Ill250.alt_reason_insertSizeScore  \\\n",
       "0                              39.0                                0.0   \n",
       "1                               0.0                                0.0   \n",
       "2                              67.0                                0.0   \n",
       "\n",
       "   Ill250.alt_reason_orientation  Ill250.amb_alnScore_mean  \\\n",
       "0                            0.0                890.273292   \n",
       "1                            0.0                907.097143   \n",
       "2                            0.0                883.863905   \n",
       "\n",
       "   Ill250.amb_alnScore_std      ...        pacbio.ref_insertSize_mean  \\\n",
       "0               144.669681      ...                           8754.50   \n",
       "1               146.444984      ...                          10767.32   \n",
       "2               158.467660      ...                          18545.00   \n",
       "\n",
       "   pacbio.ref_insertSize_std  pacbio.ref_reason_alignmentScore  refN_cnt  \\\n",
       "0                3356.194618                              30.0       0.0   \n",
       "1                3791.304854                              50.0       0.0   \n",
       "2                   0.000000                               1.0       0.0   \n",
       "\n",
       "   refN_pct  segdup_cnt  segdup_pct       start  tandemrep_cnt  tandemrep_pct  \n",
       "0       0.0         0.0         0.0  65359519.0            0.0       0.000000  \n",
       "1       0.0         0.0         0.0  44564287.0            1.0       1.000000  \n",
       "2       0.0         1.0         1.0  96806440.0            1.0       0.586207  \n",
       "\n",
       "[3 rows x 176 columns]"
      ]
     },
     "execution_count": 346,
     "metadata": {},
     "output_type": "execute_result"
    }
   ],
   "source": [
    "df_header = list(df.columns.values)\n",
    "X2.columns = df_header\n",
    "X2.head(3)"
   ]
  },
  {
   "cell_type": "code",
   "execution_count": 347,
   "metadata": {},
   "outputs": [
    {
     "data": {
      "text/html": [
       "<div>\n",
       "<table border=\"1\" class=\"dataframe\">\n",
       "  <thead>\n",
       "    <tr style=\"text-align: right;\">\n",
       "      <th></th>\n",
       "      <th>Ill250.alt_alnScore_mean</th>\n",
       "      <th>Ill250.alt_alnScore_std</th>\n",
       "      <th>Ill250.alt_count</th>\n",
       "      <th>Ill250.alt_insertSize_mean</th>\n",
       "      <th>Ill250.alt_insertSize_std</th>\n",
       "      <th>Ill250.alt_reason_alignmentScore</th>\n",
       "      <th>Ill250.alt_reason_insertSizeScore</th>\n",
       "      <th>Ill250.alt_reason_orientation</th>\n",
       "      <th>Ill250.amb_alnScore_mean</th>\n",
       "      <th>Ill250.amb_alnScore_std</th>\n",
       "      <th>...</th>\n",
       "      <th>pacbio.ref_insertSize_mean</th>\n",
       "      <th>pacbio.ref_insertSize_std</th>\n",
       "      <th>pacbio.ref_reason_alignmentScore</th>\n",
       "      <th>refN_cnt</th>\n",
       "      <th>refN_pct</th>\n",
       "      <th>segdup_cnt</th>\n",
       "      <th>segdup_pct</th>\n",
       "      <th>start</th>\n",
       "      <th>tandemrep_cnt</th>\n",
       "      <th>tandemrep_pct</th>\n",
       "    </tr>\n",
       "  </thead>\n",
       "  <tbody>\n",
       "    <tr>\n",
       "      <th>0</th>\n",
       "      <td>976.871795</td>\n",
       "      <td>12.113098</td>\n",
       "      <td>39.0</td>\n",
       "      <td>431.384615</td>\n",
       "      <td>91.092406</td>\n",
       "      <td>39.0</td>\n",
       "      <td>0.0</td>\n",
       "      <td>0.0</td>\n",
       "      <td>890.273292</td>\n",
       "      <td>144.669681</td>\n",
       "      <td>...</td>\n",
       "      <td>8754.50</td>\n",
       "      <td>3356.194618</td>\n",
       "      <td>30.0</td>\n",
       "      <td>0.0</td>\n",
       "      <td>0.0</td>\n",
       "      <td>0.0</td>\n",
       "      <td>0.0</td>\n",
       "      <td>65359519.0</td>\n",
       "      <td>0.0</td>\n",
       "      <td>0.000000</td>\n",
       "    </tr>\n",
       "    <tr>\n",
       "      <th>1</th>\n",
       "      <td>0.000000</td>\n",
       "      <td>0.000000</td>\n",
       "      <td>0.0</td>\n",
       "      <td>0.000000</td>\n",
       "      <td>0.000000</td>\n",
       "      <td>0.0</td>\n",
       "      <td>0.0</td>\n",
       "      <td>0.0</td>\n",
       "      <td>907.097143</td>\n",
       "      <td>146.444984</td>\n",
       "      <td>...</td>\n",
       "      <td>10767.32</td>\n",
       "      <td>3791.304854</td>\n",
       "      <td>50.0</td>\n",
       "      <td>0.0</td>\n",
       "      <td>0.0</td>\n",
       "      <td>0.0</td>\n",
       "      <td>0.0</td>\n",
       "      <td>44564287.0</td>\n",
       "      <td>1.0</td>\n",
       "      <td>1.000000</td>\n",
       "    </tr>\n",
       "    <tr>\n",
       "      <th>2</th>\n",
       "      <td>980.865672</td>\n",
       "      <td>12.845692</td>\n",
       "      <td>67.0</td>\n",
       "      <td>430.701492</td>\n",
       "      <td>88.234426</td>\n",
       "      <td>67.0</td>\n",
       "      <td>0.0</td>\n",
       "      <td>0.0</td>\n",
       "      <td>883.863905</td>\n",
       "      <td>158.467660</td>\n",
       "      <td>...</td>\n",
       "      <td>18545.00</td>\n",
       "      <td>0.000000</td>\n",
       "      <td>1.0</td>\n",
       "      <td>0.0</td>\n",
       "      <td>0.0</td>\n",
       "      <td>1.0</td>\n",
       "      <td>1.0</td>\n",
       "      <td>96806440.0</td>\n",
       "      <td>1.0</td>\n",
       "      <td>0.586207</td>\n",
       "    </tr>\n",
       "  </tbody>\n",
       "</table>\n",
       "<p>3 rows × 176 columns</p>\n",
       "</div>"
      ],
      "text/plain": [
       "   Ill250.alt_alnScore_mean  Ill250.alt_alnScore_std  Ill250.alt_count  \\\n",
       "0                976.871795                12.113098              39.0   \n",
       "1                  0.000000                 0.000000               0.0   \n",
       "2                980.865672                12.845692              67.0   \n",
       "\n",
       "   Ill250.alt_insertSize_mean  Ill250.alt_insertSize_std  \\\n",
       "0                  431.384615                  91.092406   \n",
       "1                    0.000000                   0.000000   \n",
       "2                  430.701492                  88.234426   \n",
       "\n",
       "   Ill250.alt_reason_alignmentScore  Ill250.alt_reason_insertSizeScore  \\\n",
       "0                              39.0                                0.0   \n",
       "1                               0.0                                0.0   \n",
       "2                              67.0                                0.0   \n",
       "\n",
       "   Ill250.alt_reason_orientation  Ill250.amb_alnScore_mean  \\\n",
       "0                            0.0                890.273292   \n",
       "1                            0.0                907.097143   \n",
       "2                            0.0                883.863905   \n",
       "\n",
       "   Ill250.amb_alnScore_std      ...        pacbio.ref_insertSize_mean  \\\n",
       "0               144.669681      ...                           8754.50   \n",
       "1               146.444984      ...                          10767.32   \n",
       "2               158.467660      ...                          18545.00   \n",
       "\n",
       "   pacbio.ref_insertSize_std  pacbio.ref_reason_alignmentScore  refN_cnt  \\\n",
       "0                3356.194618                              30.0       0.0   \n",
       "1                3791.304854                              50.0       0.0   \n",
       "2                   0.000000                               1.0       0.0   \n",
       "\n",
       "   refN_pct  segdup_cnt  segdup_pct       start  tandemrep_cnt  tandemrep_pct  \n",
       "0       0.0         0.0         0.0  65359519.0            0.0       0.000000  \n",
       "1       0.0         0.0         0.0  44564287.0            1.0       1.000000  \n",
       "2       0.0         1.0         1.0  96806440.0            1.0       0.586207  \n",
       "\n",
       "[3 rows x 176 columns]"
      ]
     },
     "execution_count": 347,
     "metadata": {},
     "output_type": "execute_result"
    }
   ],
   "source": [
    "X3 = pd.DataFrame()\n",
    "X3 = X2\n",
    "X3.head(3)"
   ]
  },
  {
   "cell_type": "code",
   "execution_count": 348,
   "metadata": {
    "collapsed": true
   },
   "outputs": [],
   "source": [
    "# Order features\n",
    "X5 = X2.reindex_axis(sorted(X2.columns), axis=1)"
   ]
  },
  {
   "cell_type": "markdown",
   "metadata": {},
   "source": [
    "<a id='prediction_step'></a>"
   ]
  },
  {
   "cell_type": "code",
   "execution_count": 349,
   "metadata": {
    "collapsed": true
   },
   "outputs": [],
   "source": [
    "pred = model.predict(X5)"
   ]
  },
  {
   "cell_type": "code",
   "execution_count": 350,
   "metadata": {
    "collapsed": true
   },
   "outputs": [],
   "source": [
    "pred_prob = model.predict_proba(X5)"
   ]
  },
  {
   "cell_type": "code",
   "execution_count": 351,
   "metadata": {
    "collapsed": true
   },
   "outputs": [],
   "source": [
    "pred_prob_log = model.predict_log_proba(X5)"
   ]
  },
  {
   "cell_type": "code",
   "execution_count": 352,
   "metadata": {},
   "outputs": [
    {
     "data": {
      "text/html": [
       "<div>\n",
       "<table border=\"1\" class=\"dataframe\">\n",
       "  <thead>\n",
       "    <tr style=\"text-align: right;\">\n",
       "      <th></th>\n",
       "      <th>Ill250.alt_alnScore_mean</th>\n",
       "      <th>Ill250.alt_alnScore_std</th>\n",
       "      <th>Ill250.alt_count</th>\n",
       "      <th>Ill250.alt_insertSize_mean</th>\n",
       "      <th>Ill250.alt_insertSize_std</th>\n",
       "      <th>Ill250.alt_reason_alignmentScore</th>\n",
       "      <th>Ill250.alt_reason_insertSizeScore</th>\n",
       "      <th>Ill250.alt_reason_orientation</th>\n",
       "      <th>Ill250.amb_alnScore_mean</th>\n",
       "      <th>Ill250.amb_alnScore_std</th>\n",
       "      <th>...</th>\n",
       "      <th>pacbio.ref_insertSize_mean</th>\n",
       "      <th>pacbio.ref_insertSize_std</th>\n",
       "      <th>pacbio.ref_reason_alignmentScore</th>\n",
       "      <th>refN_cnt</th>\n",
       "      <th>refN_pct</th>\n",
       "      <th>segdup_cnt</th>\n",
       "      <th>segdup_pct</th>\n",
       "      <th>start</th>\n",
       "      <th>tandemrep_cnt</th>\n",
       "      <th>tandemrep_pct</th>\n",
       "    </tr>\n",
       "  </thead>\n",
       "  <tbody>\n",
       "  </tbody>\n",
       "</table>\n",
       "<p>0 rows × 176 columns</p>\n",
       "</div>"
      ],
      "text/plain": [
       "Empty DataFrame\n",
       "Columns: [Ill250.alt_alnScore_mean, Ill250.alt_alnScore_std, Ill250.alt_count, Ill250.alt_insertSize_mean, Ill250.alt_insertSize_std, Ill250.alt_reason_alignmentScore, Ill250.alt_reason_insertSizeScore, Ill250.alt_reason_orientation, Ill250.amb_alnScore_mean, Ill250.amb_alnScore_std, Ill250.amb_count, Ill250.amb_insertSize_mean, Ill250.amb_insertSize_std, Ill250.amb_reason_alignmentScore_alignmentScore, Ill250.amb_reason_alignmentScore_orientation, Ill250.amb_reason_flanking, Ill250.amb_reason_insertSizeScore_alignmentScore, Ill250.amb_reason_multimapping, Ill250.amb_reason_orientation_alignmentScore, Ill250.amb_reason_orientation_orientation, Ill250.amb_reason_same_scores, Ill250.ref_alnScore_mean, Ill250.ref_alnScore_std, Ill250.ref_count, Ill250.ref_insertSize_mean, Ill250.ref_insertSize_std, Ill250.ref_reason_alignmentScore, Ill250.ref_reason_orientation, Ill300x.alt_alnScore_mean, Ill300x.alt_alnScore_std, Ill300x.alt_count, Ill300x.alt_insertSize_mean, Ill300x.alt_insertSize_std, Ill300x.alt_reason_alignmentScore, Ill300x.alt_reason_insertSizeScore, Ill300x.alt_reason_orientation, Ill300x.amb_alnScore_mean, Ill300x.amb_alnScore_std, Ill300x.amb_count, Ill300x.amb_insertSize_mean, Ill300x.amb_insertSize_std, Ill300x.amb_reason_alignmentScore_alignmentScore, Ill300x.amb_reason_alignmentScore_insertSizeScore, Ill300x.amb_reason_alignmentScore_orientation, Ill300x.amb_reason_flanking, Ill300x.amb_reason_insertSizeScore_alignmentScore, Ill300x.amb_reason_insertSizeScore_insertSizeScore, Ill300x.amb_reason_multimapping, Ill300x.amb_reason_orientation_alignmentScore, Ill300x.amb_reason_orientation_orientation, Ill300x.amb_reason_same_scores, Ill300x.ref_alnScore_mean, Ill300x.ref_alnScore_std, Ill300x.ref_count, Ill300x.ref_insertSize_mean, Ill300x.ref_insertSize_std, Ill300x.ref_reason_alignmentScore, Ill300x.ref_reason_insertSizeScore, Ill300x.ref_reason_orientation, IllMP.alt_alnScore_mean, IllMP.alt_alnScore_std, IllMP.alt_count, IllMP.alt_insertSize_mean, IllMP.alt_insertSize_std, IllMP.alt_reason_alignmentScore, IllMP.alt_reason_insertSizeScore, IllMP.alt_reason_orientation, IllMP.amb_alnScore_mean, IllMP.amb_alnScore_std, IllMP.amb_count, IllMP.amb_insertSize_mean, IllMP.amb_insertSize_std, IllMP.amb_reason_alignmentScore_alignmentScore, IllMP.amb_reason_alignmentScore_orientation, IllMP.amb_reason_flanking, IllMP.amb_reason_insertSizeScore_alignmentScore, IllMP.amb_reason_insertSizeScore_insertSizeScore, IllMP.amb_reason_multimapping, IllMP.amb_reason_orientation_alignmentScore, IllMP.amb_reason_orientation_orientation, IllMP.amb_reason_same_scores, IllMP.ref_alnScore_mean, IllMP.ref_alnScore_std, IllMP.ref_count, IllMP.ref_insertSize_mean, IllMP.ref_insertSize_std, IllMP.ref_reason_alignmentScore, IllMP.ref_reason_insertSizeScore, IllMP.ref_reason_orientation, Size, TenX.HP1_alt_alnScore_mean, TenX.HP1_alt_alnScore_std, TenX.HP1_alt_count, TenX.HP1_alt_insertSize_mean, TenX.HP1_alt_insertSize_std, TenX.HP1_alt_reason_alignmentScore, TenX.HP1_alt_reason_insertSizeScore, TenX.HP1_alt_reason_orientation, TenX.HP1_amb_alnScore_mean, TenX.HP1_amb_alnScore_std, ...]\n",
       "Index: []\n",
       "\n",
       "[0 rows x 176 columns]"
      ]
     },
     "execution_count": 352,
     "metadata": {},
     "output_type": "execute_result"
    }
   ],
   "source": [
    "df[df.index.duplicated()]"
   ]
  },
  {
   "cell_type": "code",
   "execution_count": 354,
   "metadata": {},
   "outputs": [],
   "source": [
    "X5['predicted_label'] = pred\n",
    "X5['chrom'] = df2['chrom']\n",
    "X5['GTcons'] = df2['GTcons']\n",
    "X5['start'] = df2['start']\n",
    "X5['end'] = df2['end']\n",
    "X5['Size'] = df2['Size']\n",
    "# X5['GTsupp'] = df2['GTsupp']"
   ]
  },
  {
   "cell_type": "code",
   "execution_count": 355,
   "metadata": {
    "collapsed": true
   },
   "outputs": [],
   "source": [
    "X6 = pd.concat([X5, pd.DataFrame(pred_prob, columns=['1','2','3'])])"
   ]
  },
  {
   "cell_type": "code",
   "execution_count": 356,
   "metadata": {
    "collapsed": true
   },
   "outputs": [],
   "source": [
    "X7 = pd.concat([X5, pd.DataFrame(pred_prob_log, columns=['1','2','3'])])"
   ]
  },
  {
   "cell_type": "code",
   "execution_count": 357,
   "metadata": {
    "collapsed": true
   },
   "outputs": [],
   "source": [
    "X6.to_csv('/Volumes/lesleydata/RF_model_trainingData_test/size_data/results/figures/100to299/100to299_20to49_predsm.csv', index=False)"
   ]
  },
  {
   "cell_type": "code",
   "execution_count": null,
   "metadata": {
    "collapsed": true
   },
   "outputs": [],
   "source": [
    "X7.to_csv('/Volumes/lesleydata/RF_model_trainingData_test/size_data/results/figures/100to299/100to299_log_20to49_.csv', index=False)"
   ]
  },
  {
   "cell_type": "code",
   "execution_count": 358,
   "metadata": {
    "collapsed": true
   },
   "outputs": [],
   "source": [
    "X6 = pd.read_csv('/Volumes/lesleydata/RF_model_trainingData_test/size_data/results/figures/100to299/100to299_20to49_predsm.csv')"
   ]
  },
  {
   "cell_type": "code",
   "execution_count": 359,
   "metadata": {
    "collapsed": true
   },
   "outputs": [],
   "source": [
    "X6.rename(columns={'1': 'Homozygous_Reference_GTcons'}, inplace=True)\n",
    "X6.rename(columns={'2': 'Heterozygous_Variant_GTcons'}, inplace=True)\n",
    "X6.rename(columns={'3': 'Homozygous_Variant_GTcons'}, inplace=True)\n",
    "X6.rename(columns={'predicted_label': 'predicted_GTcons_label'}, inplace=True)"
   ]
  },
  {
   "cell_type": "code",
   "execution_count": 360,
   "metadata": {
    "collapsed": true
   },
   "outputs": [],
   "source": [
    "X6['GTcons'].replace('Homozygous_Reference', '0', inplace=True)\n",
    "X6['GTcons'].replace('Heterozygous_Variant', '1', inplace=True)\n",
    "X6['GTcons'].replace('Homozygous_Variant', '2', inplace=True)"
   ]
  },
  {
   "cell_type": "code",
   "execution_count": 361,
   "metadata": {},
   "outputs": [
    {
     "data": {
      "text/html": [
       "<div>\n",
       "<table border=\"1\" class=\"dataframe\">\n",
       "  <thead>\n",
       "    <tr style=\"text-align: right;\">\n",
       "      <th></th>\n",
       "      <th>Homozygous_Reference_GTcons</th>\n",
       "      <th>Heterozygous_Variant_GTcons</th>\n",
       "      <th>Homozygous_Variant_GTcons</th>\n",
       "      <th>GTcons</th>\n",
       "      <th>Ill250.alt_alnScore_mean</th>\n",
       "      <th>Ill250.alt_alnScore_std</th>\n",
       "      <th>Ill250.alt_count</th>\n",
       "      <th>Ill250.alt_insertSize_mean</th>\n",
       "      <th>Ill250.alt_insertSize_std</th>\n",
       "      <th>Ill250.alt_reason_alignmentScore</th>\n",
       "      <th>...</th>\n",
       "      <th>pacbio.ref_insertSize_std</th>\n",
       "      <th>pacbio.ref_reason_alignmentScore</th>\n",
       "      <th>predicted_GTcons_label</th>\n",
       "      <th>refN_cnt</th>\n",
       "      <th>refN_pct</th>\n",
       "      <th>segdup_cnt</th>\n",
       "      <th>segdup_pct</th>\n",
       "      <th>start</th>\n",
       "      <th>tandemrep_cnt</th>\n",
       "      <th>tandemrep_pct</th>\n",
       "    </tr>\n",
       "  </thead>\n",
       "  <tbody>\n",
       "    <tr>\n",
       "      <th>0</th>\n",
       "      <td>0.000000</td>\n",
       "      <td>1.000000</td>\n",
       "      <td>0.000000</td>\n",
       "      <td>1</td>\n",
       "      <td>976.871795</td>\n",
       "      <td>12.113098</td>\n",
       "      <td>39.0</td>\n",
       "      <td>431.384615</td>\n",
       "      <td>91.092406</td>\n",
       "      <td>39.0</td>\n",
       "      <td>...</td>\n",
       "      <td>3356.194618</td>\n",
       "      <td>30.0</td>\n",
       "      <td>1</td>\n",
       "      <td>0</td>\n",
       "      <td>0</td>\n",
       "      <td>0</td>\n",
       "      <td>0.0</td>\n",
       "      <td>65359519</td>\n",
       "      <td>0</td>\n",
       "      <td>0.000000</td>\n",
       "    </tr>\n",
       "    <tr>\n",
       "      <th>1</th>\n",
       "      <td>0.916667</td>\n",
       "      <td>0.083333</td>\n",
       "      <td>0.000000</td>\n",
       "      <td>0</td>\n",
       "      <td>0.000000</td>\n",
       "      <td>0.000000</td>\n",
       "      <td>0.0</td>\n",
       "      <td>0.000000</td>\n",
       "      <td>0.000000</td>\n",
       "      <td>0.0</td>\n",
       "      <td>...</td>\n",
       "      <td>3791.304854</td>\n",
       "      <td>50.0</td>\n",
       "      <td>0</td>\n",
       "      <td>0</td>\n",
       "      <td>0</td>\n",
       "      <td>0</td>\n",
       "      <td>0.0</td>\n",
       "      <td>44564287</td>\n",
       "      <td>1</td>\n",
       "      <td>1.000000</td>\n",
       "    </tr>\n",
       "    <tr>\n",
       "      <th>2</th>\n",
       "      <td>0.166667</td>\n",
       "      <td>0.250000</td>\n",
       "      <td>0.583333</td>\n",
       "      <td>1</td>\n",
       "      <td>980.865672</td>\n",
       "      <td>12.845692</td>\n",
       "      <td>67.0</td>\n",
       "      <td>430.701492</td>\n",
       "      <td>88.234426</td>\n",
       "      <td>67.0</td>\n",
       "      <td>...</td>\n",
       "      <td>0.000000</td>\n",
       "      <td>1.0</td>\n",
       "      <td>2</td>\n",
       "      <td>0</td>\n",
       "      <td>0</td>\n",
       "      <td>1</td>\n",
       "      <td>1.0</td>\n",
       "      <td>96806440</td>\n",
       "      <td>1</td>\n",
       "      <td>0.586207</td>\n",
       "    </tr>\n",
       "  </tbody>\n",
       "</table>\n",
       "<p>3 rows × 181 columns</p>\n",
       "</div>"
      ],
      "text/plain": [
       "   Homozygous_Reference_GTcons  Heterozygous_Variant_GTcons  \\\n",
       "0                     0.000000                     1.000000   \n",
       "1                     0.916667                     0.083333   \n",
       "2                     0.166667                     0.250000   \n",
       "\n",
       "   Homozygous_Variant_GTcons  GTcons  Ill250.alt_alnScore_mean  \\\n",
       "0                   0.000000       1                976.871795   \n",
       "1                   0.000000       0                  0.000000   \n",
       "2                   0.583333       1                980.865672   \n",
       "\n",
       "   Ill250.alt_alnScore_std  Ill250.alt_count  Ill250.alt_insertSize_mean  \\\n",
       "0                12.113098              39.0                  431.384615   \n",
       "1                 0.000000               0.0                    0.000000   \n",
       "2                12.845692              67.0                  430.701492   \n",
       "\n",
       "   Ill250.alt_insertSize_std  Ill250.alt_reason_alignmentScore      ...        \\\n",
       "0                  91.092406                              39.0      ...         \n",
       "1                   0.000000                               0.0      ...         \n",
       "2                  88.234426                              67.0      ...         \n",
       "\n",
       "   pacbio.ref_insertSize_std  pacbio.ref_reason_alignmentScore  \\\n",
       "0                3356.194618                              30.0   \n",
       "1                3791.304854                              50.0   \n",
       "2                   0.000000                               1.0   \n",
       "\n",
       "   predicted_GTcons_label  refN_cnt  refN_pct  segdup_cnt  segdup_pct  \\\n",
       "0                       1         0         0           0         0.0   \n",
       "1                       0         0         0           0         0.0   \n",
       "2                       2         0         0           1         1.0   \n",
       "\n",
       "      start  tandemrep_cnt  tandemrep_pct  \n",
       "0  65359519              0       0.000000  \n",
       "1  44564287              1       1.000000  \n",
       "2  96806440              1       0.586207  \n",
       "\n",
       "[3 rows x 181 columns]"
      ]
     },
     "execution_count": 361,
     "metadata": {},
     "output_type": "execute_result"
    }
   ],
   "source": [
    "X6.head(3)"
   ]
  },
  {
   "cell_type": "code",
   "execution_count": 362,
   "metadata": {
    "collapsed": true
   },
   "outputs": [],
   "source": [
    "X6.to_csv('/Volumes/lesleydata/RF_model_trainingData_test/size_data/results/figures/100to299/100to299_final_20to49_predsm.csv', index=False)"
   ]
  },
  {
   "cell_type": "code",
   "execution_count": 363,
   "metadata": {
    "collapsed": true
   },
   "outputs": [],
   "source": [
    "# X6['GTcons'].fillna(999)\n",
    "# X7 = X6[X6.GTcons != 999]\n",
    "# X6['predicted_GTcons_label'].isnull().sum()"
   ]
  },
  {
   "cell_type": "code",
   "execution_count": 364,
   "metadata": {},
   "outputs": [
    {
     "data": {
      "text/plain": [
       "dtype('int64')"
      ]
     },
     "execution_count": 364,
     "metadata": {},
     "output_type": "execute_result"
    }
   ],
   "source": [
    "X6['predicted_GTcons_label'].dtypes"
   ]
  },
  {
   "cell_type": "code",
   "execution_count": 365,
   "metadata": {
    "collapsed": true
   },
   "outputs": [],
   "source": [
    "X6.GTcons = X6.GTcons.astype(int)"
   ]
  },
  {
   "cell_type": "code",
   "execution_count": 366,
   "metadata": {
    "scrolled": true
   },
   "outputs": [
    {
     "name": "stdout",
     "output_type": "stream",
     "text": [
      "0     945\n",
      "2     581\n",
      "1    1824\n",
      "dtype: int64\n"
     ]
    }
   ],
   "source": [
    "print (pd.value_counts(X6['GTcons'].values, sort=False))"
   ]
  },
  {
   "cell_type": "markdown",
   "metadata": {},
   "source": [
    "***\n",
    "Label Analysis\n",
    "***"
   ]
  },
  {
   "cell_type": "code",
   "execution_count": 367,
   "metadata": {},
   "outputs": [
    {
     "name": "stdout",
     "output_type": "stream",
     "text": [
      "[[ 932   11    2]\n",
      " [  33 1733   58]\n",
      " [   5   64  512]]\n"
     ]
    }
   ],
   "source": [
    "from sklearn.metrics import confusion_matrix\n",
    "consensus_GT = X6['GTcons']\n",
    "predict = X6['predicted_GTcons_label']\n",
    "print(confusion_matrix(consensus_GT, predict))"
   ]
  },
  {
   "cell_type": "code",
   "execution_count": 368,
   "metadata": {
    "collapsed": true
   },
   "outputs": [],
   "source": [
    "X6['GTcons'].replace(0, 'Homozygous_Reference', inplace=True)\n",
    "X6['GTcons'].replace(1, 'Heterozygous_Variant', inplace=True)\n",
    "X6['GTcons'].replace(2, 'Homozygous_Variant', inplace=True)\n",
    "X6['predicted_GTcons_label'].replace(0.0, 'Homozygous_Reference', inplace=True)\n",
    "X6['predicted_GTcons_label'].replace(1.0, 'Heterozygous_Variant', inplace=True)\n",
    "X6['predicted_GTcons_label'].replace(2.0, 'Homozygous_Variant', inplace=True)"
   ]
  },
  {
   "cell_type": "markdown",
   "metadata": {},
   "source": [
    "<a id='predict_precision_score_matrix'></a>"
   ]
  },
  {
   "cell_type": "code",
   "execution_count": 369,
   "metadata": {},
   "outputs": [
    {
     "name": "stdout",
     "output_type": "stream",
     "text": [
      "Precision score of the prediction subset: 0.948\n"
     ]
    }
   ],
   "source": [
    "print('Precision score of the prediction subset: {:.3f}'.format(precision_score(consensus_GT, predict, average='micro'))) "
   ]
  },
  {
   "cell_type": "code",
   "execution_count": 370,
   "metadata": {},
   "outputs": [
    {
     "name": "stdout",
     "output_type": "stream",
     "text": [
      "Accuracy score of the prediction subset: 0.948\n"
     ]
    }
   ],
   "source": [
    "print('Accuracy score of the prediction subset: {:.3f}'.format(accuracy_score(consensus_GT, predict))) "
   ]
  },
  {
   "cell_type": "code",
   "execution_count": 371,
   "metadata": {
    "scrolled": true
   },
   "outputs": [
    {
     "data": {
      "text/html": [
       "<div>\n",
       "<table border=\"1\" class=\"dataframe\">\n",
       "  <thead>\n",
       "    <tr style=\"text-align: right;\">\n",
       "      <th>Predicted</th>\n",
       "      <th>Heterozygous_Variant</th>\n",
       "      <th>Homozygous_Reference</th>\n",
       "      <th>Homozygous_Variant</th>\n",
       "      <th>All</th>\n",
       "    </tr>\n",
       "    <tr>\n",
       "      <th>True</th>\n",
       "      <th></th>\n",
       "      <th></th>\n",
       "      <th></th>\n",
       "      <th></th>\n",
       "    </tr>\n",
       "  </thead>\n",
       "  <tbody>\n",
       "    <tr>\n",
       "      <th>Heterozygous_Variant</th>\n",
       "      <td>1733</td>\n",
       "      <td>33</td>\n",
       "      <td>58</td>\n",
       "      <td>1824</td>\n",
       "    </tr>\n",
       "    <tr>\n",
       "      <th>Homozygous_Reference</th>\n",
       "      <td>11</td>\n",
       "      <td>932</td>\n",
       "      <td>2</td>\n",
       "      <td>945</td>\n",
       "    </tr>\n",
       "    <tr>\n",
       "      <th>Homozygous_Variant</th>\n",
       "      <td>64</td>\n",
       "      <td>5</td>\n",
       "      <td>512</td>\n",
       "      <td>581</td>\n",
       "    </tr>\n",
       "    <tr>\n",
       "      <th>All</th>\n",
       "      <td>1808</td>\n",
       "      <td>970</td>\n",
       "      <td>572</td>\n",
       "      <td>3350</td>\n",
       "    </tr>\n",
       "  </tbody>\n",
       "</table>\n",
       "</div>"
      ],
      "text/plain": [
       "Predicted             Heterozygous_Variant  Homozygous_Reference  \\\n",
       "True                                                               \n",
       "Heterozygous_Variant                  1733                    33   \n",
       "Homozygous_Reference                    11                   932   \n",
       "Homozygous_Variant                      64                     5   \n",
       "All                                   1808                   970   \n",
       "\n",
       "Predicted             Homozygous_Variant   All  \n",
       "True                                            \n",
       "Heterozygous_Variant                  58  1824  \n",
       "Homozygous_Reference                   2   945  \n",
       "Homozygous_Variant                   512   581  \n",
       "All                                  572  3350  "
      ]
     },
     "execution_count": 371,
     "metadata": {},
     "output_type": "execute_result"
    }
   ],
   "source": [
    "pd.crosstab(consensus_GT, predict, rownames=['True'], colnames=['Predicted'], margins=True)"
   ]
  },
  {
   "cell_type": "markdown",
   "metadata": {},
   "source": [
    "** High Confidence Label Analysis**\n",
    "* **Reminder:** The labels predicted by the model are the following consensus genotype:\n",
    "    * Homozygous Reference: 0 \n",
    "    * Heterozygous Variant: 1 \n",
    "    * Homozygous Variant: 2 \n",
    "* Here **high confidence labels** are the GTcons labels predicted by the model that were also assigned a predict probability of either 0.9 or 1\n"
   ]
  },
  {
   "cell_type": "code",
   "execution_count": 372,
   "metadata": {
    "collapsed": true
   },
   "outputs": [],
   "source": [
    "high_conf_labels = X6[(X6['Homozygous_Reference_GTcons'] == 1) | (X6['Homozygous_Reference_GTcons'] >= 0.9) | (X6['Heterozygous_Variant_GTcons'] == 1) | (X6['Heterozygous_Variant_GTcons'] >= 0.9) | (X6['Homozygous_Variant_GTcons'] == 1) | (X6['Homozygous_Variant_GTcons'] >= 0.9)]\n"
   ]
  },
  {
   "cell_type": "markdown",
   "metadata": {},
   "source": [
    "<a id='hiconf_precision_score'></a>"
   ]
  },
  {
   "cell_type": "code",
   "execution_count": 373,
   "metadata": {},
   "outputs": [
    {
     "data": {
      "text/html": [
       "<div>\n",
       "<table border=\"1\" class=\"dataframe\">\n",
       "  <thead>\n",
       "    <tr style=\"text-align: right;\">\n",
       "      <th>Predicted</th>\n",
       "      <th>Heterozygous_Variant</th>\n",
       "      <th>Homozygous_Reference</th>\n",
       "      <th>Homozygous_Variant</th>\n",
       "      <th>All</th>\n",
       "    </tr>\n",
       "    <tr>\n",
       "      <th>True</th>\n",
       "      <th></th>\n",
       "      <th></th>\n",
       "      <th></th>\n",
       "      <th></th>\n",
       "    </tr>\n",
       "  </thead>\n",
       "  <tbody>\n",
       "    <tr>\n",
       "      <th>Heterozygous_Variant</th>\n",
       "      <td>1146</td>\n",
       "      <td>0</td>\n",
       "      <td>0</td>\n",
       "      <td>1146</td>\n",
       "    </tr>\n",
       "    <tr>\n",
       "      <th>Homozygous_Reference</th>\n",
       "      <td>1</td>\n",
       "      <td>831</td>\n",
       "      <td>0</td>\n",
       "      <td>832</td>\n",
       "    </tr>\n",
       "    <tr>\n",
       "      <th>Homozygous_Variant</th>\n",
       "      <td>0</td>\n",
       "      <td>0</td>\n",
       "      <td>250</td>\n",
       "      <td>250</td>\n",
       "    </tr>\n",
       "    <tr>\n",
       "      <th>All</th>\n",
       "      <td>1147</td>\n",
       "      <td>831</td>\n",
       "      <td>250</td>\n",
       "      <td>2228</td>\n",
       "    </tr>\n",
       "  </tbody>\n",
       "</table>\n",
       "</div>"
      ],
      "text/plain": [
       "Predicted             Heterozygous_Variant  Homozygous_Reference  \\\n",
       "True                                                               \n",
       "Heterozygous_Variant                  1146                     0   \n",
       "Homozygous_Reference                     1                   831   \n",
       "Homozygous_Variant                       0                     0   \n",
       "All                                   1147                   831   \n",
       "\n",
       "Predicted             Homozygous_Variant   All  \n",
       "True                                            \n",
       "Heterozygous_Variant                   0  1146  \n",
       "Homozygous_Reference                   0   832  \n",
       "Homozygous_Variant                   250   250  \n",
       "All                                  250  2228  "
      ]
     },
     "execution_count": 373,
     "metadata": {},
     "output_type": "execute_result"
    }
   ],
   "source": [
    "consensus_GT = high_conf_labels['GTcons']\n",
    "predict = high_conf_labels['predicted_GTcons_label']\n",
    "pd.crosstab(consensus_GT, predict, rownames=['True'], colnames=['Predicted'], margins=True)"
   ]
  },
  {
   "cell_type": "code",
   "execution_count": 374,
   "metadata": {
    "scrolled": false
   },
   "outputs": [
    {
     "name": "stdout",
     "output_type": "stream",
     "text": [
      "                      precision    recall  f1-score   support\n",
      "\n",
      "Heterozygous_Variant       1.00      1.00      1.00      1146\n",
      "Homozygous_Reference       1.00      1.00      1.00       832\n",
      "  Homozygous_Variant       1.00      1.00      1.00       250\n",
      "\n",
      "         avg / total       1.00      1.00      1.00      2228\n",
      "\n"
     ]
    }
   ],
   "source": [
    "from sklearn.metrics import classification_report\n",
    "print(classification_report(consensus_GT, predict))"
   ]
  },
  {
   "cell_type": "code",
   "execution_count": null,
   "metadata": {
    "collapsed": true
   },
   "outputs": [],
   "source": []
  }
 ],
 "metadata": {
  "kernelspec": {
   "display_name": "Python [NIHFAES]",
   "language": "python",
   "name": "Python [NIHFAES]"
  },
  "language_info": {
   "codemirror_mode": {
    "name": "ipython",
    "version": 3
   },
   "file_extension": ".py",
   "mimetype": "text/x-python",
   "name": "python",
   "nbconvert_exporter": "python",
   "pygments_lexer": "ipython3",
   "version": "3.5.2"
  }
 },
 "nbformat": 4,
 "nbformat_minor": 2
}
