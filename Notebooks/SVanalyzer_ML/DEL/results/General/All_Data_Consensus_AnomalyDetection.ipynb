{
 "cells": [
  {
   "cell_type": "markdown",
   "metadata": {},
   "source": [
    "### All Data: Consensus Genotype\n",
    "\n",
    "* The following notebook is trained on data generated from revised R script [Oct 12 2017]\n",
    "    * Exact Match [1] and Homozygous [0] Reference data points\n",
    "    * Removed all data points with Gtcons and GTconswithoutXX -1\n",
    "* 5k randomly selected deletions test data was also processed through same R script\n",
    "* Balanced Training Set for GTcons labels:\n",
    "    * 200 Hom Var\n",
    "    * 200 Hom Ref\n",
    "    * 200 Het Var\n",
    "* **Train/Prediction Label:** consensus genotype\n"
   ]
  },
  {
   "cell_type": "code",
   "execution_count": 1,
   "metadata": {},
   "outputs": [
    {
     "name": "stderr",
     "output_type": "stream",
     "text": [
      "/Users/lmc2/anaconda/envs/NIHFAES/lib/python3.5/site-packages/sklearn/cross_validation.py:41: DeprecationWarning: This module was deprecated in version 0.18 in favor of the model_selection module into which all the refactored classes and functions are moved. Also note that the interface of the new CV iterators are different from that of this module. This module will be removed in 0.20.\n",
      "  \"This module will be removed in 0.20.\", DeprecationWarning)\n",
      "/Users/lmc2/anaconda/envs/NIHFAES/lib/python3.5/site-packages/sklearn/grid_search.py:42: DeprecationWarning: This module was deprecated in version 0.18 in favor of the model_selection module into which all the refactored classes and functions are moved. This module will be removed in 0.20.\n",
      "  DeprecationWarning)\n"
     ]
    }
   ],
   "source": [
    "\"\"\"\n",
    "Imports\n",
    "\"\"\"\n",
    "import pandas as pd\n",
    "import numpy as np\n",
    "import graphviz\n",
    "import io\n",
    "from fancyimpute import KNN\n",
    "from sklearn.covariance import EllipticEnvelope\n",
    "from sklearn.neighbors import LocalOutlierFactor\n",
    "import matplotlib.pyplot as plt\n",
    "from sklearn import preprocessing\n",
    "from sklearn.grid_search import GridSearchCV\n",
    "from sklearn.preprocessing import LabelEncoder\n",
    "from sklearn.model_selection import LeaveOneOut\n",
    "from scipy.stats import ks_2samp\n",
    "from scipy import stats\n",
    "from matplotlib import pyplot\n",
    "from sklearn import preprocessing\n",
    "from scipy.linalg import svd\n",
    "from sklearn.decomposition import TruncatedSVD\n",
    "from sklearn.ensemble import RandomForestClassifier\n",
    "from sklearn.metrics import roc_auc_score\n",
    "import seaborn as sns\n",
    "from sklearn.manifold import TSNE\n",
    "from sklearn.decomposition import PCA as sklearnPCA\n",
    "import plotly.plotly as py\n",
    "from sklearn.cluster import DBSCAN\n",
    "from sklearn.model_selection import train_test_split\n",
    "from sklearn import metrics\n",
    "from sklearn.grid_search import GridSearchCV\n",
    "from sklearn.metrics import f1_score, precision_score\n",
    "from sklearn import preprocessing\n",
    "from ggplot import *\n",
    "from bokeh.charts import TimeSeries\n",
    "from bokeh.models import HoverTool\n",
    "from bokeh.plotting import show\n",
    "from bokeh.charts import Scatter, Histogram, output_file, show\n",
    "from bokeh.plotting import figure, show, output_file, ColumnDataSource\n",
    "from bokeh.io import output_notebook\n",
    "from bokeh.charts import Bar, output_file, show\n",
    "import bokeh.palettes as palettes\n",
    "from bokeh.models import HoverTool, BoxSelectTool, Legend\n",
    "from sklearn import (manifold, datasets, decomposition, ensemble,\n",
    "                     discriminant_analysis, random_projection)\n",
    "from sklearn.covariance import EllipticEnvelope\n",
    "from sklearn.ensemble import IsolationForest\n",
    "from sklearn.neighbors import LocalOutlierFactor\n",
    "from sklearn import svm"
   ]
  },
  {
   "cell_type": "code",
   "execution_count": 2,
   "metadata": {
    "collapsed": true
   },
   "outputs": [],
   "source": [
    "# NOTE : if LocalOutlierFactor does not install try running : \n",
    "# pip install scikit-learn --upgrade"
   ]
  },
  {
   "cell_type": "code",
   "execution_count": 3,
   "metadata": {},
   "outputs": [
    {
     "data": {
      "text/html": [
       "<div>\n",
       "<table border=\"1\" class=\"dataframe\">\n",
       "  <thead>\n",
       "    <tr style=\"text-align: right;\">\n",
       "      <th></th>\n",
       "      <th>chrom</th>\n",
       "      <th>id</th>\n",
       "      <th>sample</th>\n",
       "      <th>start</th>\n",
       "      <th>end</th>\n",
       "      <th>type</th>\n",
       "      <th>SVtype</th>\n",
       "      <th>Size</th>\n",
       "      <th>Ill250.GT</th>\n",
       "      <th>Ill250.alt_alnScore_mean</th>\n",
       "      <th>...</th>\n",
       "      <th>tandemrep_pct</th>\n",
       "      <th>Label</th>\n",
       "      <th>GTconflict</th>\n",
       "      <th>GTcons</th>\n",
       "      <th>GTconswithoutIll250.GT</th>\n",
       "      <th>GTconswithoutIll300x.GT</th>\n",
       "      <th>GTconswithoutIllMP.GT</th>\n",
       "      <th>GTconswithoutTenX.GT</th>\n",
       "      <th>GTconswithoutpacbio.GT</th>\n",
       "      <th>GTsupp</th>\n",
       "    </tr>\n",
       "  </thead>\n",
       "  <tbody>\n",
       "    <tr>\n",
       "      <th>0</th>\n",
       "      <td>1</td>\n",
       "      <td>23</td>\n",
       "      <td>HG002</td>\n",
       "      <td>72766323</td>\n",
       "      <td>72811839</td>\n",
       "      <td>Deletion</td>\n",
       "      <td>Deletion</td>\n",
       "      <td>-45516</td>\n",
       "      <td>1.0</td>\n",
       "      <td>977.7</td>\n",
       "      <td>...</td>\n",
       "      <td>0.059979</td>\n",
       "      <td>1</td>\n",
       "      <td>-1</td>\n",
       "      <td>1</td>\n",
       "      <td>1</td>\n",
       "      <td>1</td>\n",
       "      <td>1</td>\n",
       "      <td>1</td>\n",
       "      <td>1</td>\n",
       "      <td>3</td>\n",
       "    </tr>\n",
       "  </tbody>\n",
       "</table>\n",
       "<p>1 rows × 193 columns</p>\n",
       "</div>"
      ],
      "text/plain": [
       "  chrom  id sample     start       end      type    SVtype   Size  Ill250.GT  \\\n",
       "0     1  23  HG002  72766323  72811839  Deletion  Deletion -45516        1.0   \n",
       "\n",
       "   Ill250.alt_alnScore_mean   ...    tandemrep_pct  Label  GTconflict  GTcons  \\\n",
       "0                     977.7   ...         0.059979      1          -1       1   \n",
       "\n",
       "   GTconswithoutIll250.GT  GTconswithoutIll300x.GT  GTconswithoutIllMP.GT  \\\n",
       "0                       1                        1                      1   \n",
       "\n",
       "   GTconswithoutTenX.GT  GTconswithoutpacbio.GT  GTsupp  \n",
       "0                     1                       1       3  \n",
       "\n",
       "[1 rows x 193 columns]"
      ]
     },
     "execution_count": 3,
     "metadata": {},
     "output_type": "execute_result"
    }
   ],
   "source": [
    "# Import Training Data\n",
    "# SVanalyzer generated training data\n",
    "df_train = pd.read_csv('/Volumes/lesleydata/SVanalyzer_ML/Oct272017_ML_w_AllTech/data/train_test_data/train_data_min1.csv')\n",
    "df_train_2 = pd.read_csv('/Volumes/lesleydata/SVanalyzer_ML/Oct272017_ML_w_AllTech/data/train_test_data/train_data_min1.csv')\n",
    "df_train.rename(columns={'size': 'Size'}, inplace=True)\n",
    "df_train.head(1)"
   ]
  },
  {
   "cell_type": "code",
   "execution_count": 4,
   "metadata": {
    "collapsed": true
   },
   "outputs": [],
   "source": [
    "train_set = pd.DataFrame()\n",
    "train_set = df_train_2"
   ]
  },
  {
   "cell_type": "code",
   "execution_count": 5,
   "metadata": {
    "collapsed": true
   },
   "outputs": [],
   "source": [
    "train_set['GTcons'].replace(0, 'Homozygous_Reference', inplace=True)\n",
    "train_set['GTcons'].replace(1, 'Heterozygous_Variant', inplace=True)\n",
    "train_set['GTcons'].replace(2, 'Homozygous_Variant', inplace=True)"
   ]
  },
  {
   "cell_type": "markdown",
   "metadata": {},
   "source": [
    "<a id='imbalance'></a>"
   ]
  },
  {
   "cell_type": "code",
   "execution_count": 6,
   "metadata": {
    "scrolled": true
   },
   "outputs": [
    {
     "data": {
      "text/plain": [
       "Homozygous_Reference    971\n",
       "Homozygous_Variant      200\n",
       "Heterozygous_Variant    623\n",
       "dtype: int64"
      ]
     },
     "execution_count": 6,
     "metadata": {},
     "output_type": "execute_result"
    }
   ],
   "source": [
    "pd.value_counts(train_set['GTcons'].values, sort=False)"
   ]
  },
  {
   "cell_type": "markdown",
   "metadata": {},
   "source": [
    "** NOTE: Imbalanced classes in original training dataset. The following loads dataset with equal examples of each class **"
   ]
  },
  {
   "cell_type": "code",
   "execution_count": 7,
   "metadata": {},
   "outputs": [
    {
     "data": {
      "text/html": [
       "<div>\n",
       "<table border=\"1\" class=\"dataframe\">\n",
       "  <thead>\n",
       "    <tr style=\"text-align: right;\">\n",
       "      <th></th>\n",
       "      <th>chrom</th>\n",
       "      <th>id</th>\n",
       "      <th>sample</th>\n",
       "      <th>start</th>\n",
       "      <th>end</th>\n",
       "      <th>type</th>\n",
       "      <th>SVtype</th>\n",
       "      <th>Size</th>\n",
       "      <th>Ill250.GT</th>\n",
       "      <th>Ill250.alt_alnScore_mean</th>\n",
       "      <th>...</th>\n",
       "      <th>tandemrep_pct</th>\n",
       "      <th>Label</th>\n",
       "      <th>GTconflict</th>\n",
       "      <th>GTcons</th>\n",
       "      <th>GTconswithoutIll250.GT</th>\n",
       "      <th>GTconswithoutIll300x.GT</th>\n",
       "      <th>GTconswithoutIllMP.GT</th>\n",
       "      <th>GTconswithoutTenX.GT</th>\n",
       "      <th>GTconswithoutpacbio.GT</th>\n",
       "      <th>GTsupp</th>\n",
       "    </tr>\n",
       "  </thead>\n",
       "  <tbody>\n",
       "    <tr>\n",
       "      <th>0</th>\n",
       "      <td>1</td>\n",
       "      <td>21</td>\n",
       "      <td>HG002</td>\n",
       "      <td>65326531</td>\n",
       "      <td>65326651</td>\n",
       "      <td>Deletion</td>\n",
       "      <td>Deletion</td>\n",
       "      <td>-120</td>\n",
       "      <td>0.0</td>\n",
       "      <td>954.0</td>\n",
       "      <td>...</td>\n",
       "      <td>1.0</td>\n",
       "      <td>1</td>\n",
       "      <td>-1</td>\n",
       "      <td>0</td>\n",
       "      <td>0</td>\n",
       "      <td>0</td>\n",
       "      <td>0</td>\n",
       "      <td>0</td>\n",
       "      <td>0</td>\n",
       "      <td>4</td>\n",
       "    </tr>\n",
       "  </tbody>\n",
       "</table>\n",
       "<p>1 rows × 193 columns</p>\n",
       "</div>"
      ],
      "text/plain": [
       "  chrom  id sample     start       end      type    SVtype  Size  Ill250.GT  \\\n",
       "0     1  21  HG002  65326531  65326651  Deletion  Deletion  -120        0.0   \n",
       "\n",
       "   Ill250.alt_alnScore_mean   ...    tandemrep_pct  Label  GTconflict  GTcons  \\\n",
       "0                     954.0   ...              1.0      1          -1       0   \n",
       "\n",
       "   GTconswithoutIll250.GT  GTconswithoutIll300x.GT  GTconswithoutIllMP.GT  \\\n",
       "0                       0                        0                      0   \n",
       "\n",
       "   GTconswithoutTenX.GT  GTconswithoutpacbio.GT  GTsupp  \n",
       "0                     0                       0       4  \n",
       "\n",
       "[1 rows x 193 columns]"
      ]
     },
     "execution_count": 7,
     "metadata": {},
     "output_type": "execute_result"
    }
   ],
   "source": [
    "# Import Training Data\n",
    "# SVanalyzer generated training data\n",
    "df_train = pd.read_csv('/Volumes/lesleydata/SVanalyzer_ML/Oct272017_ML_w_AllTech/data/train_test_data/train_data_balanced.csv')\n",
    "df_train_2 = pd.read_csv('/Volumes/lesleydata/SVanalyzer_ML/Oct272017_ML_w_AllTech/data/train_test_data/train_data_balanced.csv')\n",
    "df_train.rename(columns={'size': 'Size'}, inplace=True)\n",
    "df_train.head(1)"
   ]
  },
  {
   "cell_type": "code",
   "execution_count": 8,
   "metadata": {
    "collapsed": true
   },
   "outputs": [],
   "source": [
    "train_set = pd.DataFrame()\n",
    "train_set = df_train_2"
   ]
  },
  {
   "cell_type": "code",
   "execution_count": 9,
   "metadata": {
    "collapsed": true
   },
   "outputs": [],
   "source": [
    "train_set['GTcons'].replace(0, 'Homozygous_Reference', inplace=True)\n",
    "train_set['GTcons'].replace(1, 'Heterozygous_Variant', inplace=True)\n",
    "train_set['GTcons'].replace(2, 'Homozygous_Variant', inplace=True)"
   ]
  },
  {
   "cell_type": "markdown",
   "metadata": {},
   "source": [
    "<a id='imbalance'></a>"
   ]
  },
  {
   "cell_type": "code",
   "execution_count": 10,
   "metadata": {
    "scrolled": true
   },
   "outputs": [
    {
     "data": {
      "text/plain": [
       "Homozygous_Variant      200\n",
       "Heterozygous_Variant    200\n",
       "Homozygous_Reference    200\n",
       "dtype: int64"
      ]
     },
     "execution_count": 10,
     "metadata": {},
     "output_type": "execute_result"
    }
   ],
   "source": [
    "pd.value_counts(train_set['GTcons'].values, sort=False)"
   ]
  },
  {
   "cell_type": "code",
   "execution_count": 11,
   "metadata": {
    "collapsed": true
   },
   "outputs": [],
   "source": [
    "# Train the model only on the rows that have an Exact Match or Homozygous Reference Label\n",
    "# This step removes any row that has in 'Inaccurate Call' label\n",
    "df_train = df_train[(df_train['Label'] == 1) | (df_train['Label'] == 0)]\n",
    "df_train_2 = df_train_2[(df_train_2['Label'] == 1) | (df_train_2['Label'] == 0)]"
   ]
  },
  {
   "cell_type": "code",
   "execution_count": 12,
   "metadata": {},
   "outputs": [
    {
     "data": {
      "text/plain": [
       "0    164\n",
       "1    436\n",
       "dtype: int64"
      ]
     },
     "execution_count": 12,
     "metadata": {},
     "output_type": "execute_result"
    }
   ],
   "source": [
    "# There are only Exact Match [1] and Homozygous Reference Labels [0]\n",
    "pd.value_counts(df_train['Label'].values, sort=False)"
   ]
  },
  {
   "cell_type": "markdown",
   "metadata": {},
   "source": [
    "<a id='hom_ref'></a>"
   ]
  },
  {
   "cell_type": "code",
   "execution_count": 13,
   "metadata": {},
   "outputs": [
    {
     "data": {
      "text/html": [
       "<div>\n",
       "<table border=\"1\" class=\"dataframe\">\n",
       "  <thead>\n",
       "    <tr style=\"text-align: right;\">\n",
       "      <th></th>\n",
       "      <th>chrom</th>\n",
       "      <th>id</th>\n",
       "      <th>Size</th>\n",
       "      <th>sample</th>\n",
       "      <th>start</th>\n",
       "      <th>end</th>\n",
       "      <th>type</th>\n",
       "      <th>SVtype</th>\n",
       "      <th>Ill250.GT</th>\n",
       "      <th>Ill250.alt_alnScore_mean</th>\n",
       "      <th>...</th>\n",
       "      <th>tandemrep_cnt</th>\n",
       "      <th>tandemrep_pct</th>\n",
       "      <th>GTconflict</th>\n",
       "      <th>GTcons</th>\n",
       "      <th>GTconswithoutIll250.GT</th>\n",
       "      <th>GTconswithoutIll300x.GT</th>\n",
       "      <th>GTconswithoutIllMP.GT</th>\n",
       "      <th>GTconswithoutTenX.GT</th>\n",
       "      <th>GTconswithoutpacbio.GT</th>\n",
       "      <th>GTsupp</th>\n",
       "    </tr>\n",
       "  </thead>\n",
       "  <tbody>\n",
       "    <tr>\n",
       "      <th>0</th>\n",
       "      <td>1</td>\n",
       "      <td>859</td>\n",
       "      <td>-115</td>\n",
       "      <td>HG002</td>\n",
       "      <td>37568322</td>\n",
       "      <td>37568587</td>\n",
       "      <td>Insertion</td>\n",
       "      <td>Deletion</td>\n",
       "      <td>0.0</td>\n",
       "      <td>0.0</td>\n",
       "      <td>...</td>\n",
       "      <td>3</td>\n",
       "      <td>0.818868</td>\n",
       "      <td>-1</td>\n",
       "      <td>0</td>\n",
       "      <td>0</td>\n",
       "      <td>0</td>\n",
       "      <td>0</td>\n",
       "      <td>0</td>\n",
       "      <td>0</td>\n",
       "      <td>4</td>\n",
       "    </tr>\n",
       "  </tbody>\n",
       "</table>\n",
       "<p>1 rows × 206 columns</p>\n",
       "</div>"
      ],
      "text/plain": [
       "  chrom   id  Size sample     start       end       type    SVtype  Ill250.GT  \\\n",
       "0     1  859  -115  HG002  37568322  37568587  Insertion  Deletion        0.0   \n",
       "\n",
       "   Ill250.alt_alnScore_mean   ...    tandemrep_cnt  tandemrep_pct  GTconflict  \\\n",
       "0                       0.0   ...                3       0.818868          -1   \n",
       "\n",
       "   GTcons  GTconswithoutIll250.GT  GTconswithoutIll300x.GT  \\\n",
       "0       0                       0                        0   \n",
       "\n",
       "   GTconswithoutIllMP.GT  GTconswithoutTenX.GT  GTconswithoutpacbio.GT  GTsupp  \n",
       "0                      0                     0                       0       4  \n",
       "\n",
       "[1 rows x 206 columns]"
      ]
     },
     "execution_count": 13,
     "metadata": {},
     "output_type": "execute_result"
    }
   ],
   "source": [
    "# Import Test Data\n",
    "# SVanalyzer generated training data\n",
    "df_test = pd.read_csv('/Volumes/lesleydata/SVanalyzer_ML/Oct272017_ML_w_AllTech/data/train_test_data/test_data_min1.csv')\n",
    "df_test_2 = pd.read_csv('/Volumes/lesleydata/SVanalyzer_ML/Oct272017_ML_w_AllTech/data/train_test_data/test_data_min1.csv')\n",
    "df_test.rename(columns={'size': 'Size'}, inplace=True)\n",
    "df_test.head(1)"
   ]
  },
  {
   "cell_type": "code",
   "execution_count": 14,
   "metadata": {},
   "outputs": [
    {
     "data": {
      "text/plain": [
       "{'Label'}"
      ]
     },
     "execution_count": 14,
     "metadata": {},
     "output_type": "execute_result"
    }
   ],
   "source": [
    "# Store header names in lists and find names that are NOT contained in BOTH lists\n",
    "c = list(df_train.columns.values)\n",
    "d = list(df_test.columns.values)\n",
    "set(c) - set(d)"
   ]
  },
  {
   "cell_type": "code",
   "execution_count": 15,
   "metadata": {},
   "outputs": [],
   "source": [
    "### Drop columns that are not shared by both dataframes\n",
    "df_train.drop(['Label'], axis=1, inplace = True)\n",
    "df_train.drop(['GTconswithoutIll300x.GT'], axis=1, inplace = True)\n",
    "df_train.drop(['GTconswithoutIll250.GT'], axis=1, inplace = True)\n",
    "df_train.drop(['GTconswithoutIllMP.GT'], axis=1, inplace = True)\n",
    "df_train.drop(['GTconswithoutTenX.GT'], axis=1, inplace = True)\n",
    "df_train.drop(['GTconswithoutpacbio.GT'], axis=1, inplace = True)\n",
    "df_train.drop(['Ill300x.GT'], axis=1, inplace = True)\n",
    "df_train.drop(['Ill250.GT'], axis=1, inplace = True)\n",
    "df_train.drop(['IllMP.GT'], axis=1, inplace = True)\n",
    "df_train.drop(['TenX.GT'], axis=1, inplace = True)\n",
    "df_train.drop(['pacbio.GT'], axis=1, inplace = True)\n",
    "df_train.drop(['GTconflict'], axis=1, inplace = True)\n",
    "df_train.drop(['GTsupp'], axis=1, inplace = True)\n",
    "df_train.drop(['sample'], axis=1, inplace = True)\n",
    "df_train.drop(['SVtype'], axis=1, inplace = True)\n",
    "df_train.drop(['type'], axis=1, inplace = True)\n",
    "df_train.drop(['id'], axis=1, inplace = True)"
   ]
  },
  {
   "cell_type": "code",
   "execution_count": 16,
   "metadata": {},
   "outputs": [
    {
     "data": {
      "text/html": [
       "<div>\n",
       "<table border=\"1\" class=\"dataframe\">\n",
       "  <thead>\n",
       "    <tr style=\"text-align: right;\">\n",
       "      <th></th>\n",
       "      <th>chrom</th>\n",
       "      <th>start</th>\n",
       "      <th>end</th>\n",
       "      <th>Size</th>\n",
       "      <th>Ill250.alt_alnScore_mean</th>\n",
       "      <th>Ill250.alt_alnScore_std</th>\n",
       "      <th>Ill250.alt_count</th>\n",
       "      <th>Ill250.alt_insertSize_mean</th>\n",
       "      <th>Ill250.alt_insertSize_std</th>\n",
       "      <th>Ill250.alt_reason_alignmentScore</th>\n",
       "      <th>...</th>\n",
       "      <th>pacbio.ref_insertSize_mean</th>\n",
       "      <th>pacbio.ref_insertSize_std</th>\n",
       "      <th>pacbio.ref_reason_alignmentScore</th>\n",
       "      <th>refN_cnt</th>\n",
       "      <th>refN_pct</th>\n",
       "      <th>segdup_cnt</th>\n",
       "      <th>segdup_pct</th>\n",
       "      <th>tandemrep_cnt</th>\n",
       "      <th>tandemrep_pct</th>\n",
       "      <th>GTcons</th>\n",
       "    </tr>\n",
       "  </thead>\n",
       "  <tbody>\n",
       "    <tr>\n",
       "      <th>0</th>\n",
       "      <td>1</td>\n",
       "      <td>65326531</td>\n",
       "      <td>65326651</td>\n",
       "      <td>-120</td>\n",
       "      <td>954.0</td>\n",
       "      <td>0.0</td>\n",
       "      <td>1.0</td>\n",
       "      <td>445.0</td>\n",
       "      <td>0.0</td>\n",
       "      <td>1.0</td>\n",
       "      <td>...</td>\n",
       "      <td>11277.83333</td>\n",
       "      <td>4197.626206</td>\n",
       "      <td>54.0</td>\n",
       "      <td>0</td>\n",
       "      <td>0</td>\n",
       "      <td>0</td>\n",
       "      <td>0.0</td>\n",
       "      <td>1</td>\n",
       "      <td>1.0</td>\n",
       "      <td>0</td>\n",
       "    </tr>\n",
       "  </tbody>\n",
       "</table>\n",
       "<p>1 rows × 176 columns</p>\n",
       "</div>"
      ],
      "text/plain": [
       "  chrom     start       end  Size  Ill250.alt_alnScore_mean  \\\n",
       "0     1  65326531  65326651  -120                     954.0   \n",
       "\n",
       "   Ill250.alt_alnScore_std  Ill250.alt_count  Ill250.alt_insertSize_mean  \\\n",
       "0                      0.0               1.0                       445.0   \n",
       "\n",
       "   Ill250.alt_insertSize_std  Ill250.alt_reason_alignmentScore   ...    \\\n",
       "0                        0.0                               1.0   ...     \n",
       "\n",
       "   pacbio.ref_insertSize_mean  pacbio.ref_insertSize_std  \\\n",
       "0                 11277.83333                4197.626206   \n",
       "\n",
       "   pacbio.ref_reason_alignmentScore  refN_cnt  refN_pct  segdup_cnt  \\\n",
       "0                              54.0         0         0           0   \n",
       "\n",
       "   segdup_pct  tandemrep_cnt  tandemrep_pct  GTcons  \n",
       "0         0.0              1            1.0       0  \n",
       "\n",
       "[1 rows x 176 columns]"
      ]
     },
     "execution_count": 16,
     "metadata": {},
     "output_type": "execute_result"
    }
   ],
   "source": [
    "df_train.head(1)"
   ]
  },
  {
   "cell_type": "code",
   "execution_count": 17,
   "metadata": {
    "collapsed": true
   },
   "outputs": [],
   "source": [
    "df_train['chrom'].replace('X', 23, inplace=True)\n",
    "df_train['chrom'].replace('Y', 24, inplace=True)\n",
    "df_test['chrom'].replace('X', 23, inplace=True)\n",
    "df_test['chrom'].replace('Y', 24, inplace=True)"
   ]
  },
  {
   "cell_type": "code",
   "execution_count": 18,
   "metadata": {},
   "outputs": [
    {
     "data": {
      "text/plain": [
       "{'GTconflict',\n",
       " 'GTconswithoutIll250.GT',\n",
       " 'GTconswithoutIll300x.GT',\n",
       " 'GTconswithoutIllMP.GT',\n",
       " 'GTconswithoutTenX.GT',\n",
       " 'GTconswithoutpacbio.GT',\n",
       " 'GTsupp',\n",
       " 'Ill250.GT',\n",
       " 'Ill250.amb_reason_insertSizeScore_insertSizeScore',\n",
       " 'Ill250.amb_reason_insertSizeScore_orientation',\n",
       " 'Ill300x.GT',\n",
       " 'Ill300x.amb_reason_alignmentScore_insertSizeScore',\n",
       " 'Ill300x.amb_reason_insertSizeScore_orientation',\n",
       " 'Ill300x.amb_reason_orientation_insertSizeScore',\n",
       " 'IllMP.GT',\n",
       " 'IllMP.amb_reason_orientation_insertSizeScore',\n",
       " 'SVtype',\n",
       " 'TenX.GT',\n",
       " 'TenX.HP1_amb_reason_insertSizeScore_insertSizeScore',\n",
       " 'TenX.HP1_amb_reason_insertSizeScore_orientation',\n",
       " 'TenX.HP1_amb_reason_orientation_insertSizeScore',\n",
       " 'TenX.HP1_ref_reason_insertSizeScore',\n",
       " 'TenX.HP2_amb_reason_insertSizeScore_insertSizeScore',\n",
       " 'TenX.HP2_amb_reason_insertSizeScore_orientation',\n",
       " 'TenX.HP2_amb_reason_orientation_insertSizeScore',\n",
       " 'TenX.HP2_ref_reason_insertSizeScore',\n",
       " 'id',\n",
       " 'pacbio.GT',\n",
       " 'sample',\n",
       " 'type'}"
      ]
     },
     "execution_count": 18,
     "metadata": {},
     "output_type": "execute_result"
    }
   ],
   "source": [
    "# Store header names in lists and find names that are NOT contained in BOTH lists\n",
    "c = list(df_train.columns.values)\n",
    "d = list(df_test.columns.values)\n",
    "set(d) - set(c)"
   ]
  },
  {
   "cell_type": "code",
   "execution_count": 19,
   "metadata": {
    "collapsed": true
   },
   "outputs": [],
   "source": [
    "### Drop columns that are not shared by both dataframes\n",
    "df_test.drop(['Ill300x.amb_reason_alignmentScore_insertSizeScore'], axis=1, inplace = True)\n",
    "df_test.drop(['Ill300x.amb_reason_insertSizeScore_orientation'], axis=1, inplace = True)\n",
    "df_test.drop(['Ill300x.amb_reason_orientation_insertSizeScore'], axis=1, inplace = True)\n",
    "df_test.drop(['Ill250.amb_reason_insertSizeScore_insertSizeScore'], axis=1, inplace = True)\n",
    "df_test.drop(['Ill250.amb_reason_insertSizeScore_orientation'], axis=1, inplace = True)\n",
    "df_test.drop(['IllMP.amb_reason_orientation_insertSizeScore'], axis=1, inplace = True)\n",
    "df_test.drop(['TenX.HP1_amb_reason_insertSizeScore_insertSizeScore'], axis=1, inplace = True)\n",
    "df_test.drop(['TenX.HP1_amb_reason_insertSizeScore_orientation'], axis=1, inplace = True)\n",
    "df_test.drop(['TenX.HP1_amb_reason_orientation_insertSizeScore'], axis=1, inplace = True)\n",
    "df_test.drop(['TenX.HP1_ref_reason_insertSizeScore'], axis=1, inplace = True)\n",
    "df_test.drop(['TenX.HP2_amb_reason_insertSizeScore_insertSizeScore'], axis=1, inplace = True)\n",
    "df_test.drop(['TenX.HP2_amb_reason_insertSizeScore_orientation'], axis=1, inplace = True)\n",
    "df_test.drop(['TenX.HP2_amb_reason_orientation_insertSizeScore'], axis=1, inplace = True)\n",
    "df_test.drop(['TenX.HP2_ref_reason_insertSizeScore'], axis=1, inplace = True)\n",
    "df_test.drop(['GTconswithoutIll300x.GT'], axis=1, inplace = True)\n",
    "df_test.drop(['GTconswithoutIll250.GT'], axis=1, inplace = True)\n",
    "df_test.drop(['GTconswithoutIllMP.GT'], axis=1, inplace = True)\n",
    "df_test.drop(['GTconswithoutTenX.GT'], axis=1, inplace = True)\n",
    "df_test.drop(['GTconswithoutpacbio.GT'], axis=1, inplace = True)\n",
    "df_test.drop(['Ill300x.GT'], axis=1, inplace = True)\n",
    "df_test.drop(['Ill250.GT'], axis=1, inplace = True)\n",
    "df_test.drop(['IllMP.GT'], axis=1, inplace = True)\n",
    "df_test.drop(['TenX.GT'], axis=1, inplace = True)\n",
    "df_test.drop(['pacbio.GT'], axis=1, inplace = True)\n",
    "df_test.drop(['GTcons'], axis=1, inplace = True)\n",
    "df_test.drop(['GTconflict'], axis=1, inplace = True)\n",
    "df_test.drop(['GTsupp'], axis=1, inplace = True)\n",
    "df_test.drop(['sample'], axis=1, inplace = True)\n",
    "df_test.drop(['SVtype'], axis=1, inplace = True)\n",
    "df_test.drop(['type'], axis=1, inplace = True)\n",
    "df_test.drop(['id'], axis=1, inplace = True)"
   ]
  },
  {
   "cell_type": "markdown",
   "metadata": {},
   "source": [
    "***\n",
    "Impute missing values using KNN\n",
    "***"
   ]
  },
  {
   "cell_type": "code",
   "execution_count": 20,
   "metadata": {},
   "outputs": [
    {
     "data": {
      "text/html": [
       "<div>\n",
       "<table border=\"1\" class=\"dataframe\">\n",
       "  <thead>\n",
       "    <tr style=\"text-align: right;\">\n",
       "      <th></th>\n",
       "      <th>chrom</th>\n",
       "      <th>start</th>\n",
       "      <th>end</th>\n",
       "      <th>Size</th>\n",
       "      <th>Ill250.alt_alnScore_mean</th>\n",
       "      <th>Ill250.alt_alnScore_std</th>\n",
       "      <th>Ill250.alt_count</th>\n",
       "      <th>Ill250.alt_insertSize_mean</th>\n",
       "      <th>Ill250.alt_insertSize_std</th>\n",
       "      <th>Ill250.alt_reason_alignmentScore</th>\n",
       "      <th>...</th>\n",
       "      <th>pacbio.ref_insertSize_mean</th>\n",
       "      <th>pacbio.ref_insertSize_std</th>\n",
       "      <th>pacbio.ref_reason_alignmentScore</th>\n",
       "      <th>refN_cnt</th>\n",
       "      <th>refN_pct</th>\n",
       "      <th>segdup_cnt</th>\n",
       "      <th>segdup_pct</th>\n",
       "      <th>tandemrep_cnt</th>\n",
       "      <th>tandemrep_pct</th>\n",
       "      <th>GTcons</th>\n",
       "    </tr>\n",
       "  </thead>\n",
       "  <tbody>\n",
       "    <tr>\n",
       "      <th>0</th>\n",
       "      <td>1</td>\n",
       "      <td>65326531</td>\n",
       "      <td>65326651</td>\n",
       "      <td>-120</td>\n",
       "      <td>954.0</td>\n",
       "      <td>0.0</td>\n",
       "      <td>1.0</td>\n",
       "      <td>445.0</td>\n",
       "      <td>0.0</td>\n",
       "      <td>1.0</td>\n",
       "      <td>...</td>\n",
       "      <td>11277.83333</td>\n",
       "      <td>4197.626206</td>\n",
       "      <td>54.0</td>\n",
       "      <td>0</td>\n",
       "      <td>0</td>\n",
       "      <td>0</td>\n",
       "      <td>0.0</td>\n",
       "      <td>1</td>\n",
       "      <td>1.0</td>\n",
       "      <td>0</td>\n",
       "    </tr>\n",
       "    <tr>\n",
       "      <th>1</th>\n",
       "      <td>1</td>\n",
       "      <td>83753489</td>\n",
       "      <td>83753698</td>\n",
       "      <td>-209</td>\n",
       "      <td>908.0</td>\n",
       "      <td>0.0</td>\n",
       "      <td>1.0</td>\n",
       "      <td>547.0</td>\n",
       "      <td>0.0</td>\n",
       "      <td>0.0</td>\n",
       "      <td>...</td>\n",
       "      <td>11648.90244</td>\n",
       "      <td>2866.042175</td>\n",
       "      <td>41.0</td>\n",
       "      <td>0</td>\n",
       "      <td>0</td>\n",
       "      <td>1</td>\n",
       "      <td>1.0</td>\n",
       "      <td>1</td>\n",
       "      <td>1.0</td>\n",
       "      <td>0</td>\n",
       "    </tr>\n",
       "    <tr>\n",
       "      <th>2</th>\n",
       "      <td>1</td>\n",
       "      <td>152326749</td>\n",
       "      <td>152326980</td>\n",
       "      <td>-231</td>\n",
       "      <td>0.0</td>\n",
       "      <td>0.0</td>\n",
       "      <td>0.0</td>\n",
       "      <td>0.0</td>\n",
       "      <td>0.0</td>\n",
       "      <td>0.0</td>\n",
       "      <td>...</td>\n",
       "      <td>10544.55556</td>\n",
       "      <td>4602.637067</td>\n",
       "      <td>36.0</td>\n",
       "      <td>0</td>\n",
       "      <td>0</td>\n",
       "      <td>1</td>\n",
       "      <td>1.0</td>\n",
       "      <td>0</td>\n",
       "      <td>0.0</td>\n",
       "      <td>0</td>\n",
       "    </tr>\n",
       "  </tbody>\n",
       "</table>\n",
       "<p>3 rows × 176 columns</p>\n",
       "</div>"
      ],
      "text/plain": [
       "  chrom      start        end  Size  Ill250.alt_alnScore_mean  \\\n",
       "0     1   65326531   65326651  -120                     954.0   \n",
       "1     1   83753489   83753698  -209                     908.0   \n",
       "2     1  152326749  152326980  -231                       0.0   \n",
       "\n",
       "   Ill250.alt_alnScore_std  Ill250.alt_count  Ill250.alt_insertSize_mean  \\\n",
       "0                      0.0               1.0                       445.0   \n",
       "1                      0.0               1.0                       547.0   \n",
       "2                      0.0               0.0                         0.0   \n",
       "\n",
       "   Ill250.alt_insertSize_std  Ill250.alt_reason_alignmentScore   ...    \\\n",
       "0                        0.0                               1.0   ...     \n",
       "1                        0.0                               0.0   ...     \n",
       "2                        0.0                               0.0   ...     \n",
       "\n",
       "   pacbio.ref_insertSize_mean  pacbio.ref_insertSize_std  \\\n",
       "0                 11277.83333                4197.626206   \n",
       "1                 11648.90244                2866.042175   \n",
       "2                 10544.55556                4602.637067   \n",
       "\n",
       "   pacbio.ref_reason_alignmentScore  refN_cnt  refN_pct  segdup_cnt  \\\n",
       "0                              54.0         0         0           0   \n",
       "1                              41.0         0         0           1   \n",
       "2                              36.0         0         0           1   \n",
       "\n",
       "   segdup_pct  tandemrep_cnt  tandemrep_pct  GTcons  \n",
       "0         0.0              1            1.0       0  \n",
       "1         1.0              1            1.0       0  \n",
       "2         1.0              0            0.0       0  \n",
       "\n",
       "[3 rows x 176 columns]"
      ]
     },
     "execution_count": 20,
     "metadata": {},
     "output_type": "execute_result"
    }
   ],
   "source": [
    "# Store training data in a new variable which will be converted to a matrix\n",
    "X = df_train\n",
    "X.head(3)"
   ]
  },
  {
   "cell_type": "code",
   "execution_count": 21,
   "metadata": {},
   "outputs": [
    {
     "name": "stdout",
     "output_type": "stream",
     "text": [
      "Imputing row 1/600 with 1 missing, elapsed time: 0.309\n",
      "Imputing row 101/600 with 0 missing, elapsed time: 0.351\n",
      "Imputing row 201/600 with 22 missing, elapsed time: 0.354\n",
      "Imputing row 301/600 with 1 missing, elapsed time: 0.358\n",
      "Imputing row 401/600 with 1 missing, elapsed time: 0.361\n",
      "Imputing row 501/600 with 1 missing, elapsed time: 0.366\n"
     ]
    }
   ],
   "source": [
    "# Convert dataframe to matrix\n",
    "X=X.as_matrix()\n",
    "\n",
    "#Imput missing values from three closest observations\n",
    "X_imputed=KNN(k=3).complete(X)\n",
    "X=pd.DataFrame(X_imputed)"
   ]
  },
  {
   "cell_type": "code",
   "execution_count": 22,
   "metadata": {},
   "outputs": [
    {
     "data": {
      "text/html": [
       "<div>\n",
       "<table border=\"1\" class=\"dataframe\">\n",
       "  <thead>\n",
       "    <tr style=\"text-align: right;\">\n",
       "      <th></th>\n",
       "      <th>chrom</th>\n",
       "      <th>start</th>\n",
       "      <th>end</th>\n",
       "      <th>Size</th>\n",
       "      <th>Ill250.alt_alnScore_mean</th>\n",
       "      <th>Ill250.alt_alnScore_std</th>\n",
       "      <th>Ill250.alt_count</th>\n",
       "      <th>Ill250.alt_insertSize_mean</th>\n",
       "      <th>Ill250.alt_insertSize_std</th>\n",
       "      <th>Ill250.alt_reason_alignmentScore</th>\n",
       "      <th>...</th>\n",
       "      <th>pacbio.ref_insertSize_mean</th>\n",
       "      <th>pacbio.ref_insertSize_std</th>\n",
       "      <th>pacbio.ref_reason_alignmentScore</th>\n",
       "      <th>refN_cnt</th>\n",
       "      <th>refN_pct</th>\n",
       "      <th>segdup_cnt</th>\n",
       "      <th>segdup_pct</th>\n",
       "      <th>tandemrep_cnt</th>\n",
       "      <th>tandemrep_pct</th>\n",
       "      <th>GTcons</th>\n",
       "    </tr>\n",
       "  </thead>\n",
       "  <tbody>\n",
       "    <tr>\n",
       "      <th>0</th>\n",
       "      <td>1.0</td>\n",
       "      <td>65326531.0</td>\n",
       "      <td>65326651.0</td>\n",
       "      <td>-120.0</td>\n",
       "      <td>954.0</td>\n",
       "      <td>0.0</td>\n",
       "      <td>1.0</td>\n",
       "      <td>445.0</td>\n",
       "      <td>0.0</td>\n",
       "      <td>1.0</td>\n",
       "      <td>...</td>\n",
       "      <td>11277.83333</td>\n",
       "      <td>4197.626206</td>\n",
       "      <td>54.0</td>\n",
       "      <td>0.0</td>\n",
       "      <td>0.0</td>\n",
       "      <td>0.0</td>\n",
       "      <td>0.0</td>\n",
       "      <td>1.0</td>\n",
       "      <td>1.0</td>\n",
       "      <td>0.0</td>\n",
       "    </tr>\n",
       "    <tr>\n",
       "      <th>1</th>\n",
       "      <td>1.0</td>\n",
       "      <td>83753489.0</td>\n",
       "      <td>83753698.0</td>\n",
       "      <td>-209.0</td>\n",
       "      <td>908.0</td>\n",
       "      <td>0.0</td>\n",
       "      <td>1.0</td>\n",
       "      <td>547.0</td>\n",
       "      <td>0.0</td>\n",
       "      <td>0.0</td>\n",
       "      <td>...</td>\n",
       "      <td>11648.90244</td>\n",
       "      <td>2866.042175</td>\n",
       "      <td>41.0</td>\n",
       "      <td>0.0</td>\n",
       "      <td>0.0</td>\n",
       "      <td>1.0</td>\n",
       "      <td>1.0</td>\n",
       "      <td>1.0</td>\n",
       "      <td>1.0</td>\n",
       "      <td>0.0</td>\n",
       "    </tr>\n",
       "    <tr>\n",
       "      <th>2</th>\n",
       "      <td>1.0</td>\n",
       "      <td>152326749.0</td>\n",
       "      <td>152326980.0</td>\n",
       "      <td>-231.0</td>\n",
       "      <td>0.0</td>\n",
       "      <td>0.0</td>\n",
       "      <td>0.0</td>\n",
       "      <td>0.0</td>\n",
       "      <td>0.0</td>\n",
       "      <td>0.0</td>\n",
       "      <td>...</td>\n",
       "      <td>10544.55556</td>\n",
       "      <td>4602.637067</td>\n",
       "      <td>36.0</td>\n",
       "      <td>0.0</td>\n",
       "      <td>0.0</td>\n",
       "      <td>1.0</td>\n",
       "      <td>1.0</td>\n",
       "      <td>0.0</td>\n",
       "      <td>0.0</td>\n",
       "      <td>0.0</td>\n",
       "    </tr>\n",
       "  </tbody>\n",
       "</table>\n",
       "<p>3 rows × 176 columns</p>\n",
       "</div>"
      ],
      "text/plain": [
       "   chrom        start          end   Size  Ill250.alt_alnScore_mean  \\\n",
       "0    1.0   65326531.0   65326651.0 -120.0                     954.0   \n",
       "1    1.0   83753489.0   83753698.0 -209.0                     908.0   \n",
       "2    1.0  152326749.0  152326980.0 -231.0                       0.0   \n",
       "\n",
       "   Ill250.alt_alnScore_std  Ill250.alt_count  Ill250.alt_insertSize_mean  \\\n",
       "0                      0.0               1.0                       445.0   \n",
       "1                      0.0               1.0                       547.0   \n",
       "2                      0.0               0.0                         0.0   \n",
       "\n",
       "   Ill250.alt_insertSize_std  Ill250.alt_reason_alignmentScore   ...    \\\n",
       "0                        0.0                               1.0   ...     \n",
       "1                        0.0                               0.0   ...     \n",
       "2                        0.0                               0.0   ...     \n",
       "\n",
       "   pacbio.ref_insertSize_mean  pacbio.ref_insertSize_std  \\\n",
       "0                 11277.83333                4197.626206   \n",
       "1                 11648.90244                2866.042175   \n",
       "2                 10544.55556                4602.637067   \n",
       "\n",
       "   pacbio.ref_reason_alignmentScore  refN_cnt  refN_pct  segdup_cnt  \\\n",
       "0                              54.0       0.0       0.0         0.0   \n",
       "1                              41.0       0.0       0.0         1.0   \n",
       "2                              36.0       0.0       0.0         1.0   \n",
       "\n",
       "   segdup_pct  tandemrep_cnt  tandemrep_pct  GTcons  \n",
       "0         0.0            1.0            1.0     0.0  \n",
       "1         1.0            1.0            1.0     0.0  \n",
       "2         1.0            0.0            0.0     0.0  \n",
       "\n",
       "[3 rows x 176 columns]"
      ]
     },
     "execution_count": 22,
     "metadata": {},
     "output_type": "execute_result"
    }
   ],
   "source": [
    "# Store header values in a list, will be used later to re-label the matrix post KNN imputation\n",
    "dftrain_header = list(df_train.columns.values)\n",
    "X.columns = dftrain_header\n",
    "X.head(3)"
   ]
  },
  {
   "cell_type": "code",
   "execution_count": 23,
   "metadata": {
    "collapsed": true
   },
   "outputs": [],
   "source": [
    "# Store Labels in a new 'Y' DataFrame\n",
    "Y = pd.DataFrame()\n",
    "Y = X['GTcons']"
   ]
  },
  {
   "cell_type": "code",
   "execution_count": 24,
   "metadata": {},
   "outputs": [
    {
     "data": {
      "text/plain": [
       "0.0    200\n",
       "1.0    200\n",
       "2.0    200\n",
       "dtype: int64"
      ]
     },
     "execution_count": 24,
     "metadata": {},
     "output_type": "execute_result"
    }
   ],
   "source": [
    "#Count the number of labels\n",
    "pd.value_counts(Y.values, sort=False)"
   ]
  },
  {
   "cell_type": "code",
   "execution_count": 25,
   "metadata": {
    "collapsed": true
   },
   "outputs": [],
   "source": [
    "# Note: originally selected 1000 of each label --> find out why some are lost"
   ]
  },
  {
   "cell_type": "code",
   "execution_count": 26,
   "metadata": {
    "collapsed": true
   },
   "outputs": [],
   "source": [
    "# Remove labels from feature set\n",
    "X.drop(['GTcons'],axis=1, inplace = True)"
   ]
  },
  {
   "cell_type": "code",
   "execution_count": 27,
   "metadata": {
    "collapsed": true
   },
   "outputs": [],
   "source": [
    "# Order features\n",
    "X4 = X.reindex_axis(sorted(X.columns), axis=1)"
   ]
  },
  {
   "cell_type": "markdown",
   "metadata": {},
   "source": [
    "***\n",
    "Machine Learning\n",
    "***"
   ]
  },
  {
   "cell_type": "markdown",
   "metadata": {},
   "source": [
    "<a id='machine_learning'></a>"
   ]
  },
  {
   "cell_type": "markdown",
   "metadata": {},
   "source": [
    "Description:\n",
    "\n",
    "   * In the following section a random forest model will be trained on svanalyzer data.\n",
    "\n",
    "       * The model was trained using [train/test split](http://scikit-learn.org/0.16/modules/generated/sklearn.cross_validation.train_test_split.html) where 70% of the data was used to train the model and the model performance was determined by predicting labels for the remaining 30% of the data. The trained model will be used in a [later section](#predict) to predict the consensus GT for 5000 randomly selected deletions [these deletions were randomly selected from [union_170509_refalt.sort.vcf](ftp://ftp-trace.ncbi.nlm.nih.gov/giab/ftp/data/AshkenazimTrio/analysis/NIST_UnionSVs_05092017/)]\n",
    "       * In the following section, svanalyzer data was used to train a random forest (RF) model. The features for the svanalyzer dataset include: svviz features, GA4GH features [RefN, Segmental Duplications, Tandem Repeat], preliminary R script analysis [consensus GT, GTsup].\n",
    "       * The RF classifier will predict the consensus GT labels:\n",
    "           * Homozygous Reference (0)\n",
    "           * Heterozygous Variant (1)\n",
    "           * Homozygous Variant (2)\n",
    "       \n",
    "       * In the [following section](#prediction_step), the trained RF model will be used to predict labels for genotype labels for 5000 randomly selected deletions [these deletions were randomly selected from [union_170509_refalt.sort.vcf](ftp://ftp-trace.ncbi.nlm.nih.gov/giab/ftp/data/AshkenazimTrio/analysis/NIST_UnionSVs_05092017/)]. "
   ]
  },
  {
   "cell_type": "markdown",
   "metadata": {},
   "source": [
    "** Train Random Forest Classifier **"
   ]
  },
  {
   "cell_type": "markdown",
   "metadata": {},
   "source": [
    "<a id='multi_run'></a>"
   ]
  },
  {
   "cell_type": "markdown",
   "metadata": {},
   "source": [
    "** Determine Number of trees: Out of Bag Error **"
   ]
  },
  {
   "cell_type": "markdown",
   "metadata": {},
   "source": [
    "** Try 1 **"
   ]
  },
  {
   "cell_type": "code",
   "execution_count": 28,
   "metadata": {
    "collapsed": true
   },
   "outputs": [],
   "source": [
    "# Train Test Split\n",
    "# Train on 70% of the data and test on 30%\n",
    "X_train, X_test, y_train, y_test = train_test_split(X4, Y, test_size=0.3)"
   ]
  },
  {
   "cell_type": "markdown",
   "metadata": {},
   "source": [
    "** Train Model Using Optimal Tuning Parameters**"
   ]
  },
  {
   "cell_type": "code",
   "execution_count": 29,
   "metadata": {},
   "outputs": [
    {
     "data": {
      "text/plain": [
       "RandomForestClassifier(bootstrap=True, class_weight=None, criterion='gini',\n",
       "            max_depth=None, max_features='auto', max_leaf_nodes=None,\n",
       "            min_impurity_decrease=0.0, min_impurity_split=None,\n",
       "            min_samples_leaf=1, min_samples_split=2,\n",
       "            min_weight_fraction_leaf=0.0, n_estimators=500, n_jobs=1,\n",
       "            oob_score=False, random_state=4, verbose=0, warm_start=False)"
      ]
     },
     "execution_count": 29,
     "metadata": {},
     "output_type": "execute_result"
    }
   ],
   "source": [
    "model = RandomForestClassifier(n_estimators=500, random_state=4) \n",
    "model.fit(X_train, y_train)"
   ]
  },
  {
   "cell_type": "markdown",
   "metadata": {},
   "source": [
    "[Another Resource](https://stackoverflow.com/questions/37877542/how-to-label-the-feature-importance-with-forests-of-trees)"
   ]
  },
  {
   "cell_type": "markdown",
   "metadata": {},
   "source": [
    "<a id='100_trees'></a>"
   ]
  },
  {
   "cell_type": "code",
   "execution_count": 30,
   "metadata": {},
   "outputs": [
    {
     "name": "stderr",
     "output_type": "stream",
     "text": [
      "/Users/lmc2/anaconda/envs/NIHFAES/lib/python3.5/site-packages/ipykernel/__main__.py:3: FutureWarning:\n",
      "\n",
      "sort is deprecated, use sort_values(inplace=True) for INPLACE sorting\n",
      "\n"
     ]
    },
    {
     "data": {
      "image/png": "[encoded data removed]",
      "text/plain": [
       "<matplotlib.figure.Figure at 0x117843ef0>"
      ]
     },
     "metadata": {},
     "output_type": "display_data"
    }
   ],
   "source": [
    "# %matplotlib inline\n",
    "feature_importances_2 = pd.Series(model.feature_importances_, index=X_train.columns)\n",
    "feature_importances_2.sort()\n",
    "plt.figure(figsize=(37, 37))\n",
    "# plt.savefig('/Volumes/lesleydata/SVanalyzer_ML/Oct272017_ML_w_AllTech/data/prelim_df/alldata_features_100trees_.png', bbox_inches='tight')\n",
    "feature_importances_2.plot(kind=\"barh\", figsize=(8,30))\n",
    "plt.show()\n"
   ]
  },
  {
   "cell_type": "code",
   "execution_count": 31,
   "metadata": {
    "collapsed": true
   },
   "outputs": [],
   "source": [
    "# feature_importances.to_csv('feature_importance_500_.csv')\n",
    "# feature_importances_3.to_csv('feature_importance_300_.csv')\n",
    "# feature_importances_2.to_csv('feature_importance_100_.csv')"
   ]
  },
  {
   "cell_type": "code",
   "execution_count": 32,
   "metadata": {
    "collapsed": true
   },
   "outputs": [],
   "source": [
    "#TODO: Try training the model with the most important features and note difference in overal model prediction score"
   ]
  },
  {
   "cell_type": "code",
   "execution_count": 33,
   "metadata": {},
   "outputs": [
    {
     "data": {
      "text/plain": [
       "1.0    139\n",
       "2.0    144\n",
       "0.0    137\n",
       "dtype: int64"
      ]
     },
     "execution_count": 33,
     "metadata": {},
     "output_type": "execute_result"
    }
   ],
   "source": [
    "#NOTE: Training Set - Show number of Hom Ref, Hom Var, Het Var datapoints the model was trained on\n",
    "ytrain = pd.DataFrame()\n",
    "ytrain['ytrain'] = y_train\n",
    "pd.value_counts(ytrain['ytrain'].values, sort=False)"
   ]
  },
  {
   "cell_type": "markdown",
   "metadata": {},
   "source": [
    "<a id='prediction_step'></a>"
   ]
  },
  {
   "cell_type": "code",
   "execution_count": 34,
   "metadata": {
    "collapsed": true
   },
   "outputs": [],
   "source": [
    "pred = model.predict(X_test)"
   ]
  },
  {
   "cell_type": "markdown",
   "metadata": {},
   "source": [
    "<a id='traintest_precision'></a>"
   ]
  },
  {
   "cell_type": "code",
   "execution_count": 35,
   "metadata": {},
   "outputs": [
    {
     "name": "stdout",
     "output_type": "stream",
     "text": [
      "Precision score of the training subset: 0.989\n"
     ]
    }
   ],
   "source": [
    "print('Precision score of the training subset: {:.3f}'.format(precision_score(y_test, pred, average='micro'))) "
   ]
  },
  {
   "cell_type": "code",
   "execution_count": 36,
   "metadata": {},
   "outputs": [
    {
     "name": "stdout",
     "output_type": "stream",
     "text": [
      "Accuracy score of the training subset: 0.989\n"
     ]
    }
   ],
   "source": [
    "from sklearn.metrics import accuracy_score\n",
    "print('Accuracy score of the training subset: {:.3f}'.format(accuracy_score(y_test, pred))) "
   ]
  },
  {
   "cell_type": "code",
   "execution_count": 37,
   "metadata": {},
   "outputs": [
    {
     "data": {
      "text/html": [
       "<div>\n",
       "<table border=\"1\" class=\"dataframe\">\n",
       "  <thead>\n",
       "    <tr style=\"text-align: right;\">\n",
       "      <th></th>\n",
       "      <th>Ill250.alt_alnScore_mean</th>\n",
       "      <th>Ill250.alt_alnScore_std</th>\n",
       "      <th>Ill250.alt_count</th>\n",
       "      <th>Ill250.alt_insertSize_mean</th>\n",
       "      <th>Ill250.alt_insertSize_std</th>\n",
       "      <th>Ill250.alt_reason_alignmentScore</th>\n",
       "      <th>Ill250.alt_reason_insertSizeScore</th>\n",
       "      <th>Ill250.alt_reason_orientation</th>\n",
       "      <th>Ill250.amb_alnScore_mean</th>\n",
       "      <th>Ill250.amb_alnScore_std</th>\n",
       "      <th>...</th>\n",
       "      <th>pacbio.ref_insertSize_mean</th>\n",
       "      <th>pacbio.ref_insertSize_std</th>\n",
       "      <th>pacbio.ref_reason_alignmentScore</th>\n",
       "      <th>refN_cnt</th>\n",
       "      <th>refN_pct</th>\n",
       "      <th>segdup_cnt</th>\n",
       "      <th>segdup_pct</th>\n",
       "      <th>start</th>\n",
       "      <th>tandemrep_cnt</th>\n",
       "      <th>tandemrep_pct</th>\n",
       "    </tr>\n",
       "  </thead>\n",
       "  <tbody>\n",
       "    <tr>\n",
       "      <th>5</th>\n",
       "      <td>0.000000</td>\n",
       "      <td>0.000000</td>\n",
       "      <td>0.0</td>\n",
       "      <td>0.000000</td>\n",
       "      <td>0.000000</td>\n",
       "      <td>0.0</td>\n",
       "      <td>0.0</td>\n",
       "      <td>0.0</td>\n",
       "      <td>866.935484</td>\n",
       "      <td>121.344494</td>\n",
       "      <td>...</td>\n",
       "      <td>11311.735290</td>\n",
       "      <td>3421.676226</td>\n",
       "      <td>34.0</td>\n",
       "      <td>0.0</td>\n",
       "      <td>0.0</td>\n",
       "      <td>0.0</td>\n",
       "      <td>0.0</td>\n",
       "      <td>6248434.0</td>\n",
       "      <td>1.0</td>\n",
       "      <td>0.136000</td>\n",
       "    </tr>\n",
       "    <tr>\n",
       "      <th>428</th>\n",
       "      <td>934.354839</td>\n",
       "      <td>35.200393</td>\n",
       "      <td>31.0</td>\n",
       "      <td>434.645161</td>\n",
       "      <td>94.627469</td>\n",
       "      <td>31.0</td>\n",
       "      <td>0.0</td>\n",
       "      <td>0.0</td>\n",
       "      <td>873.880829</td>\n",
       "      <td>156.191995</td>\n",
       "      <td>...</td>\n",
       "      <td>0.000000</td>\n",
       "      <td>0.000000</td>\n",
       "      <td>0.0</td>\n",
       "      <td>0.0</td>\n",
       "      <td>0.0</td>\n",
       "      <td>0.0</td>\n",
       "      <td>0.0</td>\n",
       "      <td>123281086.0</td>\n",
       "      <td>0.0</td>\n",
       "      <td>0.000000</td>\n",
       "    </tr>\n",
       "    <tr>\n",
       "      <th>289</th>\n",
       "      <td>981.275862</td>\n",
       "      <td>10.569626</td>\n",
       "      <td>29.0</td>\n",
       "      <td>434.344828</td>\n",
       "      <td>59.896621</td>\n",
       "      <td>29.0</td>\n",
       "      <td>0.0</td>\n",
       "      <td>0.0</td>\n",
       "      <td>898.420118</td>\n",
       "      <td>143.612957</td>\n",
       "      <td>...</td>\n",
       "      <td>13157.909090</td>\n",
       "      <td>4137.713410</td>\n",
       "      <td>22.0</td>\n",
       "      <td>0.0</td>\n",
       "      <td>0.0</td>\n",
       "      <td>0.0</td>\n",
       "      <td>0.0</td>\n",
       "      <td>97368905.0</td>\n",
       "      <td>1.0</td>\n",
       "      <td>1.000000</td>\n",
       "    </tr>\n",
       "    <tr>\n",
       "      <th>16</th>\n",
       "      <td>892.800000</td>\n",
       "      <td>21.179235</td>\n",
       "      <td>5.0</td>\n",
       "      <td>414.800000</td>\n",
       "      <td>77.233154</td>\n",
       "      <td>5.0</td>\n",
       "      <td>0.0</td>\n",
       "      <td>0.0</td>\n",
       "      <td>871.968421</td>\n",
       "      <td>157.154229</td>\n",
       "      <td>...</td>\n",
       "      <td>9133.000000</td>\n",
       "      <td>0.000000</td>\n",
       "      <td>1.0</td>\n",
       "      <td>0.0</td>\n",
       "      <td>0.0</td>\n",
       "      <td>0.0</td>\n",
       "      <td>0.0</td>\n",
       "      <td>228642528.0</td>\n",
       "      <td>1.0</td>\n",
       "      <td>1.000000</td>\n",
       "    </tr>\n",
       "    <tr>\n",
       "      <th>26</th>\n",
       "      <td>0.000000</td>\n",
       "      <td>0.000000</td>\n",
       "      <td>0.0</td>\n",
       "      <td>0.000000</td>\n",
       "      <td>0.000000</td>\n",
       "      <td>0.0</td>\n",
       "      <td>0.0</td>\n",
       "      <td>0.0</td>\n",
       "      <td>903.430000</td>\n",
       "      <td>148.276044</td>\n",
       "      <td>...</td>\n",
       "      <td>9189.596491</td>\n",
       "      <td>3581.105856</td>\n",
       "      <td>57.0</td>\n",
       "      <td>0.0</td>\n",
       "      <td>0.0</td>\n",
       "      <td>0.0</td>\n",
       "      <td>0.0</td>\n",
       "      <td>18402087.0</td>\n",
       "      <td>1.0</td>\n",
       "      <td>0.033333</td>\n",
       "    </tr>\n",
       "  </tbody>\n",
       "</table>\n",
       "<p>5 rows × 175 columns</p>\n",
       "</div>"
      ],
      "text/plain": [
       "     Ill250.alt_alnScore_mean  Ill250.alt_alnScore_std  Ill250.alt_count  \\\n",
       "5                    0.000000                 0.000000               0.0   \n",
       "428                934.354839                35.200393              31.0   \n",
       "289                981.275862                10.569626              29.0   \n",
       "16                 892.800000                21.179235               5.0   \n",
       "26                   0.000000                 0.000000               0.0   \n",
       "\n",
       "     Ill250.alt_insertSize_mean  Ill250.alt_insertSize_std  \\\n",
       "5                      0.000000                   0.000000   \n",
       "428                  434.645161                  94.627469   \n",
       "289                  434.344828                  59.896621   \n",
       "16                   414.800000                  77.233154   \n",
       "26                     0.000000                   0.000000   \n",
       "\n",
       "     Ill250.alt_reason_alignmentScore  Ill250.alt_reason_insertSizeScore  \\\n",
       "5                                 0.0                                0.0   \n",
       "428                              31.0                                0.0   \n",
       "289                              29.0                                0.0   \n",
       "16                                5.0                                0.0   \n",
       "26                                0.0                                0.0   \n",
       "\n",
       "     Ill250.alt_reason_orientation  Ill250.amb_alnScore_mean  \\\n",
       "5                              0.0                866.935484   \n",
       "428                            0.0                873.880829   \n",
       "289                            0.0                898.420118   \n",
       "16                             0.0                871.968421   \n",
       "26                             0.0                903.430000   \n",
       "\n",
       "     Ill250.amb_alnScore_std      ...        pacbio.ref_insertSize_mean  \\\n",
       "5                 121.344494      ...                      11311.735290   \n",
       "428               156.191995      ...                          0.000000   \n",
       "289               143.612957      ...                      13157.909090   \n",
       "16                157.154229      ...                       9133.000000   \n",
       "26                148.276044      ...                       9189.596491   \n",
       "\n",
       "     pacbio.ref_insertSize_std  pacbio.ref_reason_alignmentScore  refN_cnt  \\\n",
       "5                  3421.676226                              34.0       0.0   \n",
       "428                   0.000000                               0.0       0.0   \n",
       "289                4137.713410                              22.0       0.0   \n",
       "16                    0.000000                               1.0       0.0   \n",
       "26                 3581.105856                              57.0       0.0   \n",
       "\n",
       "     refN_pct  segdup_cnt  segdup_pct        start  tandemrep_cnt  \\\n",
       "5         0.0         0.0         0.0    6248434.0            1.0   \n",
       "428       0.0         0.0         0.0  123281086.0            0.0   \n",
       "289       0.0         0.0         0.0   97368905.0            1.0   \n",
       "16        0.0         0.0         0.0  228642528.0            1.0   \n",
       "26        0.0         0.0         0.0   18402087.0            1.0   \n",
       "\n",
       "     tandemrep_pct  \n",
       "5         0.136000  \n",
       "428       0.000000  \n",
       "289       1.000000  \n",
       "16        1.000000  \n",
       "26        0.033333  \n",
       "\n",
       "[5 rows x 175 columns]"
      ]
     },
     "execution_count": 37,
     "metadata": {},
     "output_type": "execute_result"
    }
   ],
   "source": [
    "# Add original labels and predicted labels back to the original dataframe\n",
    "df_Xtest = pd.DataFrame(X_test)\n",
    "df_Xtest.head()"
   ]
  },
  {
   "cell_type": "code",
   "execution_count": 38,
   "metadata": {
    "collapsed": true
   },
   "outputs": [],
   "source": [
    "labels = pd.DataFrame(y_test)"
   ]
  },
  {
   "cell_type": "code",
   "execution_count": 39,
   "metadata": {
    "collapsed": true
   },
   "outputs": [],
   "source": [
    "df_Xtest['predicted_label'] = pred\n",
    "df_Xtest['GTcons'] = df_train['GTcons']\n",
    "df_Xtest['chrom'] = df_train['chrom']\n",
    "df_Xtest['start'] = df_train['start']\n",
    "df_Xtest['end'] = df_train['end']\n",
    "# df_Xtest['Y_test'] = labels"
   ]
  },
  {
   "cell_type": "code",
   "execution_count": 40,
   "metadata": {
    "collapsed": true
   },
   "outputs": [],
   "source": [
    "df_Xtest['GTcons'].replace(0.0, 'Homozygous_Reference', inplace=True)\n",
    "df_Xtest['GTcons'].replace(1.0, 'Heterozygous_Variant', inplace=True)\n",
    "df_Xtest['GTcons'].replace(2.0, 'Homozygous_Variant', inplace=True)\n",
    "df_Xtest['predicted_label'].replace(0.0, 'Homozygous_Reference', inplace=True)\n",
    "df_Xtest['predicted_label'].replace(1.0, 'Heterozygous_Variant', inplace=True)\n",
    "df_Xtest['predicted_label'].replace(2.0, 'Homozygous_Variant', inplace=True)"
   ]
  },
  {
   "cell_type": "code",
   "execution_count": 41,
   "metadata": {},
   "outputs": [
    {
     "data": {
      "text/plain": [
       "Homozygous_Variant      56\n",
       "Heterozygous_Variant    61\n",
       "Homozygous_Reference    63\n",
       "dtype: int64"
      ]
     },
     "execution_count": 41,
     "metadata": {},
     "output_type": "execute_result"
    }
   ],
   "source": [
    "pd.value_counts(df_Xtest['GTcons'].values, sort=False)"
   ]
  },
  {
   "cell_type": "code",
   "execution_count": 42,
   "metadata": {},
   "outputs": [
    {
     "data": {
      "text/plain": [
       "Homozygous_Variant      56\n",
       "Heterozygous_Variant    63\n",
       "Homozygous_Reference    61\n",
       "dtype: int64"
      ]
     },
     "execution_count": 42,
     "metadata": {},
     "output_type": "execute_result"
    }
   ],
   "source": [
    "pd.value_counts(df_Xtest['predicted_label'].values, sort=False)"
   ]
  },
  {
   "cell_type": "code",
   "execution_count": 43,
   "metadata": {},
   "outputs": [
    {
     "name": "stdout",
     "output_type": "stream",
     "text": [
      "[[61  0  0]\n",
      " [ 2 61  0]\n",
      " [ 0  0 56]]\n"
     ]
    }
   ],
   "source": [
    "from sklearn.metrics import confusion_matrix\n",
    "ytest = df_Xtest['GTcons']\n",
    "predict = df_Xtest['predicted_label']\n",
    "print(confusion_matrix(ytest, predict))"
   ]
  },
  {
   "cell_type": "markdown",
   "metadata": {},
   "source": [
    "<a id='traintest_confusion_matrix'></a>"
   ]
  },
  {
   "cell_type": "code",
   "execution_count": 44,
   "metadata": {},
   "outputs": [
    {
     "data": {
      "text/html": [
       "<div>\n",
       "<table border=\"1\" class=\"dataframe\">\n",
       "  <thead>\n",
       "    <tr style=\"text-align: right;\">\n",
       "      <th>Predicted</th>\n",
       "      <th>Heterozygous_Variant</th>\n",
       "      <th>Homozygous_Reference</th>\n",
       "      <th>Homozygous_Variant</th>\n",
       "      <th>All</th>\n",
       "    </tr>\n",
       "    <tr>\n",
       "      <th>True</th>\n",
       "      <th></th>\n",
       "      <th></th>\n",
       "      <th></th>\n",
       "      <th></th>\n",
       "    </tr>\n",
       "  </thead>\n",
       "  <tbody>\n",
       "    <tr>\n",
       "      <th>Heterozygous_Variant</th>\n",
       "      <td>61</td>\n",
       "      <td>0</td>\n",
       "      <td>0</td>\n",
       "      <td>61</td>\n",
       "    </tr>\n",
       "    <tr>\n",
       "      <th>Homozygous_Reference</th>\n",
       "      <td>2</td>\n",
       "      <td>61</td>\n",
       "      <td>0</td>\n",
       "      <td>63</td>\n",
       "    </tr>\n",
       "    <tr>\n",
       "      <th>Homozygous_Variant</th>\n",
       "      <td>0</td>\n",
       "      <td>0</td>\n",
       "      <td>56</td>\n",
       "      <td>56</td>\n",
       "    </tr>\n",
       "    <tr>\n",
       "      <th>All</th>\n",
       "      <td>63</td>\n",
       "      <td>61</td>\n",
       "      <td>56</td>\n",
       "      <td>180</td>\n",
       "    </tr>\n",
       "  </tbody>\n",
       "</table>\n",
       "</div>"
      ],
      "text/plain": [
       "Predicted             Heterozygous_Variant  Homozygous_Reference  \\\n",
       "True                                                               \n",
       "Heterozygous_Variant                    61                     0   \n",
       "Homozygous_Reference                     2                    61   \n",
       "Homozygous_Variant                       0                     0   \n",
       "All                                     63                    61   \n",
       "\n",
       "Predicted             Homozygous_Variant  All  \n",
       "True                                           \n",
       "Heterozygous_Variant                   0   61  \n",
       "Homozygous_Reference                   0   63  \n",
       "Homozygous_Variant                    56   56  \n",
       "All                                   56  180  "
      ]
     },
     "execution_count": 44,
     "metadata": {},
     "output_type": "execute_result"
    }
   ],
   "source": [
    "pd.crosstab(ytest, predict, rownames=['True'], colnames=['Predicted'], margins=True)"
   ]
  },
  {
   "cell_type": "code",
   "execution_count": 45,
   "metadata": {
    "scrolled": true
   },
   "outputs": [
    {
     "name": "stdout",
     "output_type": "stream",
     "text": [
      "                      precision    recall  f1-score   support\n",
      "\n",
      "Heterozygous_Variant       0.97      1.00      0.98        61\n",
      "Homozygous_Reference       1.00      0.97      0.98        63\n",
      "  Homozygous_Variant       1.00      1.00      1.00        56\n",
      "\n",
      "         avg / total       0.99      0.99      0.99       180\n",
      "\n"
     ]
    }
   ],
   "source": [
    "from sklearn.metrics import classification_report\n",
    "print(classification_report(ytest, predict))"
   ]
  },
  {
   "cell_type": "markdown",
   "metadata": {},
   "source": [
    "***\n",
    "Predict\n",
    "***"
   ]
  },
  {
   "cell_type": "markdown",
   "metadata": {},
   "source": [
    "<a id='predict'></a>"
   ]
  },
  {
   "cell_type": "markdown",
   "metadata": {},
   "source": [
    "Description:\n",
    "\n",
    "   * In the [previous section](#machine_learning), a RF model was trained on svanalyzer data.\n",
    "\n",
    "       * The model was trained using [train/test split](#train_test) where 70% of the data was used to train the model and the model performance was determined by predicting labels for the remaining 30% of the data\n",
    " * Reminder: The labels for this training set and the following [prediction step](#prediction_step) are the consensus genotype (GTcons) labels generated from a preliminary R analysis based on reference and alternate read count:\n",
    "           * Homozygous Reference (0)\n",
    "           * Heterozygous Variant (1)\n",
    "           * Homozygous Variant (2)\n",
    "           \n",
    "   * The trained model is used in the following section to predict labels for 5000 randomly selected Deletions [these datapoints were randomly selected from [union_170509_refalt.sort.vcf](ftp://ftp-trace.ncbi.nlm.nih.gov/giab/ftp/data/AshkenazimTrio/analysis/NIST_UnionSVs_05092017/)]\n",
    "   \n",
    "   "
   ]
  },
  {
   "cell_type": "markdown",
   "metadata": {},
   "source": [
    "** Load Data **"
   ]
  },
  {
   "cell_type": "code",
   "execution_count": 46,
   "metadata": {
    "collapsed": true
   },
   "outputs": [],
   "source": [
    "X2 = df_test"
   ]
  },
  {
   "cell_type": "markdown",
   "metadata": {},
   "source": [
    "** Impute missing values using KNN **"
   ]
  },
  {
   "cell_type": "code",
   "execution_count": 48,
   "metadata": {},
   "outputs": [
    {
     "name": "stdout",
     "output_type": "stream",
     "text": [
      "Imputing row 1/4041 with 1 missing, elapsed time: 16.955\n",
      "Imputing row 101/4041 with 1 missing, elapsed time: 16.966\n",
      "Imputing row 201/4041 with 1 missing, elapsed time: 16.974\n",
      "Imputing row 301/4041 with 1 missing, elapsed time: 16.983\n",
      "Imputing row 401/4041 with 1 missing, elapsed time: 16.996\n",
      "Imputing row 501/4041 with 1 missing, elapsed time: 17.007\n",
      "Imputing row 601/4041 with 1 missing, elapsed time: 17.018\n",
      "Imputing row 701/4041 with 1 missing, elapsed time: 17.026\n",
      "Imputing row 801/4041 with 57 missing, elapsed time: 17.051\n",
      "Imputing row 901/4041 with 1 missing, elapsed time: 17.082\n",
      "Imputing row 1001/4041 with 1 missing, elapsed time: 17.090\n",
      "Imputing row 1101/4041 with 1 missing, elapsed time: 17.104\n",
      "Imputing row 1201/4041 with 1 missing, elapsed time: 17.113\n",
      "Imputing row 1301/4041 with 29 missing, elapsed time: 17.121\n",
      "Imputing row 1401/4041 with 1 missing, elapsed time: 17.133\n",
      "Imputing row 1501/4041 with 1 missing, elapsed time: 17.142\n",
      "Imputing row 1601/4041 with 57 missing, elapsed time: 17.189\n",
      "Imputing row 1701/4041 with 1 missing, elapsed time: 17.244\n",
      "Imputing row 1801/4041 with 1 missing, elapsed time: 17.255\n",
      "Imputing row 1901/4041 with 1 missing, elapsed time: 17.262\n",
      "Imputing row 2001/4041 with 1 missing, elapsed time: 17.269\n",
      "Imputing row 2101/4041 with 1 missing, elapsed time: 17.275\n",
      "Imputing row 2201/4041 with 1 missing, elapsed time: 17.288\n",
      "Imputing row 2301/4041 with 1 missing, elapsed time: 17.298\n",
      "Imputing row 2401/4041 with 57 missing, elapsed time: 17.328\n",
      "Imputing row 2501/4041 with 0 missing, elapsed time: 17.372\n",
      "Imputing row 2601/4041 with 0 missing, elapsed time: 17.382\n",
      "Imputing row 2701/4041 with 0 missing, elapsed time: 17.385\n",
      "Imputing row 2801/4041 with 0 missing, elapsed time: 17.387\n",
      "Imputing row 2901/4041 with 0 missing, elapsed time: 17.393\n",
      "Imputing row 3001/4041 with 0 missing, elapsed time: 17.395\n",
      "Imputing row 3101/4041 with 0 missing, elapsed time: 17.400\n",
      "Imputing row 3201/4041 with 86 missing, elapsed time: 17.409\n",
      "Imputing row 3301/4041 with 1 missing, elapsed time: 17.464\n",
      "Imputing row 3401/4041 with 1 missing, elapsed time: 17.470\n",
      "Imputing row 3501/4041 with 1 missing, elapsed time: 17.480\n",
      "Imputing row 3601/4041 with 1 missing, elapsed time: 17.493\n",
      "Imputing row 3701/4041 with 1 missing, elapsed time: 17.503\n",
      "Imputing row 3801/4041 with 1 missing, elapsed time: 17.512\n",
      "Imputing row 3901/4041 with 1 missing, elapsed time: 17.526\n",
      "Imputing row 4001/4041 with 1 missing, elapsed time: 17.535\n"
     ]
    }
   ],
   "source": [
    "#Convert dataframe to matrix\n",
    "X2=X2.as_matrix()\n",
    "X2=pd.DataFrame(X2)\n",
    "\n",
    "# Imput missing values from three closest observations\n",
    "X2_imputed=KNN(k=3).complete(X2)\n",
    "X2=pd.DataFrame(X2_imputed)"
   ]
  },
  {
   "cell_type": "markdown",
   "metadata": {},
   "source": [
    "**NOTE: Error above notes that there are no missing values **"
   ]
  },
  {
   "cell_type": "code",
   "execution_count": 49,
   "metadata": {},
   "outputs": [
    {
     "data": {
      "text/html": [
       "<div>\n",
       "<table border=\"1\" class=\"dataframe\">\n",
       "  <thead>\n",
       "    <tr style=\"text-align: right;\">\n",
       "      <th></th>\n",
       "      <th>chrom</th>\n",
       "      <th>Size</th>\n",
       "      <th>start</th>\n",
       "      <th>end</th>\n",
       "      <th>Ill250.alt_alnScore_mean</th>\n",
       "      <th>Ill250.alt_alnScore_std</th>\n",
       "      <th>Ill250.alt_count</th>\n",
       "      <th>Ill250.alt_insertSize_mean</th>\n",
       "      <th>Ill250.alt_insertSize_std</th>\n",
       "      <th>Ill250.alt_reason_alignmentScore</th>\n",
       "      <th>...</th>\n",
       "      <th>pacbio.ref_count</th>\n",
       "      <th>pacbio.ref_insertSize_mean</th>\n",
       "      <th>pacbio.ref_insertSize_std</th>\n",
       "      <th>pacbio.ref_reason_alignmentScore</th>\n",
       "      <th>refN_cnt</th>\n",
       "      <th>refN_pct</th>\n",
       "      <th>segdup_cnt</th>\n",
       "      <th>segdup_pct</th>\n",
       "      <th>tandemrep_cnt</th>\n",
       "      <th>tandemrep_pct</th>\n",
       "    </tr>\n",
       "  </thead>\n",
       "  <tbody>\n",
       "    <tr>\n",
       "      <th>0</th>\n",
       "      <td>1.0</td>\n",
       "      <td>-115.0</td>\n",
       "      <td>37568322.0</td>\n",
       "      <td>37568587.0</td>\n",
       "      <td>0.000000</td>\n",
       "      <td>0.000000</td>\n",
       "      <td>0.0</td>\n",
       "      <td>0.000000</td>\n",
       "      <td>0.000000</td>\n",
       "      <td>0.0</td>\n",
       "      <td>...</td>\n",
       "      <td>31.0</td>\n",
       "      <td>8407.903226</td>\n",
       "      <td>4770.945293</td>\n",
       "      <td>31.0</td>\n",
       "      <td>0.0</td>\n",
       "      <td>0.0</td>\n",
       "      <td>0.0</td>\n",
       "      <td>0.000000</td>\n",
       "      <td>3.0</td>\n",
       "      <td>0.818868</td>\n",
       "    </tr>\n",
       "    <tr>\n",
       "      <th>1</th>\n",
       "      <td>1.0</td>\n",
       "      <td>-2534.0</td>\n",
       "      <td>112835104.0</td>\n",
       "      <td>112837661.0</td>\n",
       "      <td>942.288889</td>\n",
       "      <td>19.746867</td>\n",
       "      <td>45.0</td>\n",
       "      <td>498.422222</td>\n",
       "      <td>83.528435</td>\n",
       "      <td>36.0</td>\n",
       "      <td>...</td>\n",
       "      <td>2.0</td>\n",
       "      <td>7826.000000</td>\n",
       "      <td>4015.000000</td>\n",
       "      <td>2.0</td>\n",
       "      <td>0.0</td>\n",
       "      <td>0.0</td>\n",
       "      <td>1.0</td>\n",
       "      <td>0.890888</td>\n",
       "      <td>6.0</td>\n",
       "      <td>0.460305</td>\n",
       "    </tr>\n",
       "    <tr>\n",
       "      <th>2</th>\n",
       "      <td>1.0</td>\n",
       "      <td>-40.0</td>\n",
       "      <td>1092675.0</td>\n",
       "      <td>1092715.0</td>\n",
       "      <td>952.285714</td>\n",
       "      <td>30.564752</td>\n",
       "      <td>7.0</td>\n",
       "      <td>463.142857</td>\n",
       "      <td>87.950357</td>\n",
       "      <td>7.0</td>\n",
       "      <td>...</td>\n",
       "      <td>22.0</td>\n",
       "      <td>11561.909090</td>\n",
       "      <td>4027.216667</td>\n",
       "      <td>22.0</td>\n",
       "      <td>0.0</td>\n",
       "      <td>0.0</td>\n",
       "      <td>0.0</td>\n",
       "      <td>0.000000</td>\n",
       "      <td>1.0</td>\n",
       "      <td>1.000000</td>\n",
       "    </tr>\n",
       "  </tbody>\n",
       "</table>\n",
       "<p>3 rows × 175 columns</p>\n",
       "</div>"
      ],
      "text/plain": [
       "   chrom    Size        start          end  Ill250.alt_alnScore_mean  \\\n",
       "0    1.0  -115.0   37568322.0   37568587.0                  0.000000   \n",
       "1    1.0 -2534.0  112835104.0  112837661.0                942.288889   \n",
       "2    1.0   -40.0    1092675.0    1092715.0                952.285714   \n",
       "\n",
       "   Ill250.alt_alnScore_std  Ill250.alt_count  Ill250.alt_insertSize_mean  \\\n",
       "0                 0.000000               0.0                    0.000000   \n",
       "1                19.746867              45.0                  498.422222   \n",
       "2                30.564752               7.0                  463.142857   \n",
       "\n",
       "   Ill250.alt_insertSize_std  Ill250.alt_reason_alignmentScore      ...        \\\n",
       "0                   0.000000                               0.0      ...         \n",
       "1                  83.528435                              36.0      ...         \n",
       "2                  87.950357                               7.0      ...         \n",
       "\n",
       "   pacbio.ref_count  pacbio.ref_insertSize_mean  pacbio.ref_insertSize_std  \\\n",
       "0              31.0                 8407.903226                4770.945293   \n",
       "1               2.0                 7826.000000                4015.000000   \n",
       "2              22.0                11561.909090                4027.216667   \n",
       "\n",
       "   pacbio.ref_reason_alignmentScore  refN_cnt  refN_pct  segdup_cnt  \\\n",
       "0                              31.0       0.0       0.0         0.0   \n",
       "1                               2.0       0.0       0.0         1.0   \n",
       "2                              22.0       0.0       0.0         0.0   \n",
       "\n",
       "   segdup_pct  tandemrep_cnt  tandemrep_pct  \n",
       "0    0.000000            3.0       0.818868  \n",
       "1    0.890888            6.0       0.460305  \n",
       "2    0.000000            1.0       1.000000  \n",
       "\n",
       "[3 rows x 175 columns]"
      ]
     },
     "execution_count": 49,
     "metadata": {},
     "output_type": "execute_result"
    }
   ],
   "source": [
    "dftest_header = list(df_test.columns.values)\n",
    "X2.columns = dftest_header\n",
    "X2.head(3)"
   ]
  },
  {
   "cell_type": "code",
   "execution_count": 50,
   "metadata": {},
   "outputs": [
    {
     "data": {
      "text/html": [
       "<div>\n",
       "<table border=\"1\" class=\"dataframe\">\n",
       "  <thead>\n",
       "    <tr style=\"text-align: right;\">\n",
       "      <th></th>\n",
       "      <th>chrom</th>\n",
       "      <th>Size</th>\n",
       "      <th>start</th>\n",
       "      <th>end</th>\n",
       "      <th>Ill250.alt_alnScore_mean</th>\n",
       "      <th>Ill250.alt_alnScore_std</th>\n",
       "      <th>Ill250.alt_count</th>\n",
       "      <th>Ill250.alt_insertSize_mean</th>\n",
       "      <th>Ill250.alt_insertSize_std</th>\n",
       "      <th>Ill250.alt_reason_alignmentScore</th>\n",
       "      <th>...</th>\n",
       "      <th>pacbio.ref_count</th>\n",
       "      <th>pacbio.ref_insertSize_mean</th>\n",
       "      <th>pacbio.ref_insertSize_std</th>\n",
       "      <th>pacbio.ref_reason_alignmentScore</th>\n",
       "      <th>refN_cnt</th>\n",
       "      <th>refN_pct</th>\n",
       "      <th>segdup_cnt</th>\n",
       "      <th>segdup_pct</th>\n",
       "      <th>tandemrep_cnt</th>\n",
       "      <th>tandemrep_pct</th>\n",
       "    </tr>\n",
       "  </thead>\n",
       "  <tbody>\n",
       "    <tr>\n",
       "      <th>0</th>\n",
       "      <td>1.0</td>\n",
       "      <td>-115.0</td>\n",
       "      <td>37568322.0</td>\n",
       "      <td>37568587.0</td>\n",
       "      <td>0.000000</td>\n",
       "      <td>0.000000</td>\n",
       "      <td>0.0</td>\n",
       "      <td>0.000000</td>\n",
       "      <td>0.000000</td>\n",
       "      <td>0.0</td>\n",
       "      <td>...</td>\n",
       "      <td>31.0</td>\n",
       "      <td>8407.903226</td>\n",
       "      <td>4770.945293</td>\n",
       "      <td>31.0</td>\n",
       "      <td>0.0</td>\n",
       "      <td>0.0</td>\n",
       "      <td>0.0</td>\n",
       "      <td>0.000000</td>\n",
       "      <td>3.0</td>\n",
       "      <td>0.818868</td>\n",
       "    </tr>\n",
       "    <tr>\n",
       "      <th>1</th>\n",
       "      <td>1.0</td>\n",
       "      <td>-2534.0</td>\n",
       "      <td>112835104.0</td>\n",
       "      <td>112837661.0</td>\n",
       "      <td>942.288889</td>\n",
       "      <td>19.746867</td>\n",
       "      <td>45.0</td>\n",
       "      <td>498.422222</td>\n",
       "      <td>83.528435</td>\n",
       "      <td>36.0</td>\n",
       "      <td>...</td>\n",
       "      <td>2.0</td>\n",
       "      <td>7826.000000</td>\n",
       "      <td>4015.000000</td>\n",
       "      <td>2.0</td>\n",
       "      <td>0.0</td>\n",
       "      <td>0.0</td>\n",
       "      <td>1.0</td>\n",
       "      <td>0.890888</td>\n",
       "      <td>6.0</td>\n",
       "      <td>0.460305</td>\n",
       "    </tr>\n",
       "    <tr>\n",
       "      <th>2</th>\n",
       "      <td>1.0</td>\n",
       "      <td>-40.0</td>\n",
       "      <td>1092675.0</td>\n",
       "      <td>1092715.0</td>\n",
       "      <td>952.285714</td>\n",
       "      <td>30.564752</td>\n",
       "      <td>7.0</td>\n",
       "      <td>463.142857</td>\n",
       "      <td>87.950357</td>\n",
       "      <td>7.0</td>\n",
       "      <td>...</td>\n",
       "      <td>22.0</td>\n",
       "      <td>11561.909090</td>\n",
       "      <td>4027.216667</td>\n",
       "      <td>22.0</td>\n",
       "      <td>0.0</td>\n",
       "      <td>0.0</td>\n",
       "      <td>0.0</td>\n",
       "      <td>0.000000</td>\n",
       "      <td>1.0</td>\n",
       "      <td>1.000000</td>\n",
       "    </tr>\n",
       "  </tbody>\n",
       "</table>\n",
       "<p>3 rows × 175 columns</p>\n",
       "</div>"
      ],
      "text/plain": [
       "   chrom    Size        start          end  Ill250.alt_alnScore_mean  \\\n",
       "0    1.0  -115.0   37568322.0   37568587.0                  0.000000   \n",
       "1    1.0 -2534.0  112835104.0  112837661.0                942.288889   \n",
       "2    1.0   -40.0    1092675.0    1092715.0                952.285714   \n",
       "\n",
       "   Ill250.alt_alnScore_std  Ill250.alt_count  Ill250.alt_insertSize_mean  \\\n",
       "0                 0.000000               0.0                    0.000000   \n",
       "1                19.746867              45.0                  498.422222   \n",
       "2                30.564752               7.0                  463.142857   \n",
       "\n",
       "   Ill250.alt_insertSize_std  Ill250.alt_reason_alignmentScore      ...        \\\n",
       "0                   0.000000                               0.0      ...         \n",
       "1                  83.528435                              36.0      ...         \n",
       "2                  87.950357                               7.0      ...         \n",
       "\n",
       "   pacbio.ref_count  pacbio.ref_insertSize_mean  pacbio.ref_insertSize_std  \\\n",
       "0              31.0                 8407.903226                4770.945293   \n",
       "1               2.0                 7826.000000                4015.000000   \n",
       "2              22.0                11561.909090                4027.216667   \n",
       "\n",
       "   pacbio.ref_reason_alignmentScore  refN_cnt  refN_pct  segdup_cnt  \\\n",
       "0                              31.0       0.0       0.0         0.0   \n",
       "1                               2.0       0.0       0.0         1.0   \n",
       "2                              22.0       0.0       0.0         0.0   \n",
       "\n",
       "   segdup_pct  tandemrep_cnt  tandemrep_pct  \n",
       "0    0.000000            3.0       0.818868  \n",
       "1    0.890888            6.0       0.460305  \n",
       "2    0.000000            1.0       1.000000  \n",
       "\n",
       "[3 rows x 175 columns]"
      ]
     },
     "execution_count": 50,
     "metadata": {},
     "output_type": "execute_result"
    }
   ],
   "source": [
    "X3 = pd.DataFrame()\n",
    "X3 = X2\n",
    "X3.head(3)"
   ]
  },
  {
   "cell_type": "code",
   "execution_count": 51,
   "metadata": {
    "collapsed": true
   },
   "outputs": [],
   "source": [
    "# Order features\n",
    "X5 = X2.reindex_axis(sorted(X2.columns), axis=1)"
   ]
  },
  {
   "cell_type": "markdown",
   "metadata": {},
   "source": [
    "<a id='prediction_step'></a>"
   ]
  },
  {
   "cell_type": "code",
   "execution_count": null,
   "metadata": {
    "collapsed": true
   },
   "outputs": [],
   "source": [
    "pred = model.predict(X5)"
   ]
  },
  {
   "cell_type": "code",
   "execution_count": null,
   "metadata": {
    "collapsed": true
   },
   "outputs": [],
   "source": [
    "pred_prob = model.predict_proba(X5)"
   ]
  },
  {
   "cell_type": "code",
   "execution_count": null,
   "metadata": {
    "collapsed": true
   },
   "outputs": [],
   "source": [
    "pred_prob_log = model.predict_log_proba(X5)"
   ]
  },
  {
   "cell_type": "code",
   "execution_count": null,
   "metadata": {
    "collapsed": true
   },
   "outputs": [],
   "source": [
    "X5['predicted_label'] = pred\n",
    "X5['chrom'] = df_test_2['chrom']\n",
    "X5['GTcons'] = df_test_2['GTcons']\n",
    "X5['start'] = df_test_2['start']\n",
    "X5['end'] = df_test_2['end']\n",
    "X5['Size'] = df_test_2['Size']\n",
    "# X5['GTconswithoutIll300x.GT'] = df_test_2['GTconswithoutIll300x.GT']\n",
    "X5['GTsupp'] = df_test_2['GTsupp']"
   ]
  },
  {
   "cell_type": "code",
   "execution_count": null,
   "metadata": {
    "collapsed": true
   },
   "outputs": [],
   "source": [
    "X6 = pd.concat([X5, pd.DataFrame(pred_prob, columns=['1','2','3'])])"
   ]
  },
  {
   "cell_type": "code",
   "execution_count": null,
   "metadata": {
    "collapsed": true
   },
   "outputs": [],
   "source": [
    "X7 = pd.concat([X5, pd.DataFrame(pred_prob_log, columns=['1','2','3'])])"
   ]
  },
  {
   "cell_type": "code",
   "execution_count": null,
   "metadata": {
    "collapsed": true
   },
   "outputs": [],
   "source": [
    "X6.to_csv('/Volumes/lesleydata/SVanalyzer_ML/Oct272017_ML_w_AllTech/data/prelim_df/alldata_pred_prob_DEL_100trees.csv', index=False)"
   ]
  },
  {
   "cell_type": "code",
   "execution_count": null,
   "metadata": {
    "collapsed": true
   },
   "outputs": [],
   "source": [
    "X7.to_csv('/Volumes/lesleydata/SVanalyzer_ML/Oct272017_ML_w_AllTech/data/prelim_df/alldata_pred_prob_log_DEL_100trees.csv', index=False)"
   ]
  },
  {
   "cell_type": "code",
   "execution_count": null,
   "metadata": {
    "collapsed": true
   },
   "outputs": [],
   "source": [
    "#Note: Reformat X6 csv"
   ]
  },
  {
   "cell_type": "code",
   "execution_count": 52,
   "metadata": {
    "collapsed": true
   },
   "outputs": [],
   "source": [
    "X6 = pd.read_csv('/Volumes/lesleydata/SVanalyzer_ML/Oct272017_ML_w_AllTech/data/prelim_df/alldata_pred_prob_DEL_100trees.csv')\n"
   ]
  },
  {
   "cell_type": "code",
   "execution_count": 53,
   "metadata": {
    "collapsed": true
   },
   "outputs": [],
   "source": [
    "X6.rename(columns={'1': 'Homozygous_Reference_GTcons'}, inplace=True)\n",
    "X6.rename(columns={'2': 'Heterozygous_Variant_GTcons'}, inplace=True)\n",
    "X6.rename(columns={'3': 'Homozygous_Variant_GTcons'}, inplace=True)\n",
    "X6.rename(columns={'predicted_label': 'predicted_GTcons_label'}, inplace=True)"
   ]
  },
  {
   "cell_type": "code",
   "execution_count": null,
   "metadata": {},
   "outputs": [],
   "source": [
    "X6.head(3)"
   ]
  },
  {
   "cell_type": "code",
   "execution_count": null,
   "metadata": {
    "collapsed": true
   },
   "outputs": [],
   "source": [
    "X6.to_csv('/Volumes/lesleydata/SVanalyzer_ML/Oct272017_ML_w_AllTech/data/final_df/alldata_final_GTcons_df_DEL_SVanalyzer_100trees.csv', index=False)"
   ]
  },
  {
   "cell_type": "markdown",
   "metadata": {},
   "source": [
    "***\n",
    "Label Analysis\n",
    "***"
   ]
  },
  {
   "cell_type": "markdown",
   "metadata": {},
   "source": [
    "Description:\n",
    "  * The [random forest(RF) model](#train_test) was trained on svanalyzer data. The trained model was used to predict consensus GT labels for the 5000 deletions that were randomly selected from the union_refalt vcf. The following is a comparison of model predicted labels [Conesus GT] to consensus genotype generated by the R script for the 5000 randomly selected datapoints from union_refalt.vcf "
   ]
  },
  {
   "cell_type": "code",
   "execution_count": null,
   "metadata": {},
   "outputs": [],
   "source": [
    "from sklearn.metrics import confusion_matrix\n",
    "consensus_GT = X6['GTcons']\n",
    "predict = X6['predicted_GTcons_label']\n",
    "print(confusion_matrix(consensus_GT, predict))"
   ]
  },
  {
   "cell_type": "code",
   "execution_count": null,
   "metadata": {
    "collapsed": true
   },
   "outputs": [],
   "source": [
    "X6['GTcons'].replace(0, 'Homozygous_Reference', inplace=True)\n",
    "X6['GTcons'].replace(1, 'Heterozygous_Variant', inplace=True)\n",
    "X6['GTcons'].replace(2, 'Homozygous_Variant', inplace=True)\n",
    "X6['predicted_GTcons_label'].replace(0.0, 'Homozygous_Reference', inplace=True)\n",
    "X6['predicted_GTcons_label'].replace(1.0, 'Heterozygous_Variant', inplace=True)\n",
    "X6['predicted_GTcons_label'].replace(2.0, 'Homozygous_Variant', inplace=True)"
   ]
  },
  {
   "cell_type": "markdown",
   "metadata": {},
   "source": [
    "<a id='predict_precision_score_matrix'></a>"
   ]
  },
  {
   "cell_type": "code",
   "execution_count": null,
   "metadata": {},
   "outputs": [],
   "source": [
    "print('Precision score of the prediction subset: {:.3f}'.format(precision_score(consensus_GT, predict, average='micro'))) "
   ]
  },
  {
   "cell_type": "code",
   "execution_count": null,
   "metadata": {},
   "outputs": [],
   "source": [
    "pd.crosstab(consensus_GT, predict, rownames=['True'], colnames=['Predicted'], margins=True)"
   ]
  },
  {
   "cell_type": "markdown",
   "metadata": {},
   "source": [
    "** High Confidence Label Analysis**\n",
    "* **Reminder:** The labels predicted by the model are the following consensus genotype:\n",
    "    * Homozygous Reference: 0 \n",
    "    * Heterozygous Variant: 1 \n",
    "    * Homozygous Variant: 2 \n",
    "* Here **high confidence labels** are the GTcons labels predicted by the model that were also assigned a predict probability of either 0.9 or 1\n"
   ]
  },
  {
   "cell_type": "code",
   "execution_count": null,
   "metadata": {
    "collapsed": true
   },
   "outputs": [],
   "source": [
    "high_conf_labels = X6[(X6['Homozygous_Reference_GTcons'] == 1) | (X6['Homozygous_Reference_GTcons'] >= 0.9) | (X6['Heterozygous_Variant_GTcons'] == 1) | (X6['Heterozygous_Variant_GTcons'] >= 0.9) | (X6['Homozygous_Variant_GTcons'] == 1) | (X6['Homozygous_Variant_GTcons'] >= 0.9)]\n"
   ]
  },
  {
   "cell_type": "markdown",
   "metadata": {},
   "source": [
    "<a id='hiconf_precision_score'></a>"
   ]
  },
  {
   "cell_type": "code",
   "execution_count": null,
   "metadata": {},
   "outputs": [],
   "source": [
    "consensus_GT = high_conf_labels['GTcons']\n",
    "predict = high_conf_labels['predicted_GTcons_label']\n",
    "pd.crosstab(consensus_GT, predict, rownames=['True'], colnames=['Predicted'], margins=True)"
   ]
  },
  {
   "cell_type": "code",
   "execution_count": null,
   "metadata": {},
   "outputs": [],
   "source": [
    "from sklearn.metrics import classification_report\n",
    "print(classification_report(consensus_GT, predict))"
   ]
  },
  {
   "cell_type": "markdown",
   "metadata": {
    "collapsed": true
   },
   "source": [
    "** Anomaly Detection - SVM**"
   ]
  },
  {
   "cell_type": "code",
   "execution_count": 113,
   "metadata": {
    "collapsed": true
   },
   "outputs": [],
   "source": [
    "# Order features\n",
    "X5 = X2.reindex_axis(sorted(X2.columns), axis=1)"
   ]
  },
  {
   "cell_type": "code",
   "execution_count": 114,
   "metadata": {},
   "outputs": [],
   "source": [
    "clf = svm.OneClassSVM(nu=0.05, kernel=\"rbf\", gamma=0.1)\n",
    "clf.fit(X5)\n",
    "pred = clf.predict(X5)\n",
    "\n",
    "# inliers are labeled 1, outliers are labeled -1\n",
    "normal = X5[pred == 1]\n",
    "abnormal = X5[pred == -1]"
   ]
  },
  {
   "cell_type": "code",
   "execution_count": 115,
   "metadata": {},
   "outputs": [
    {
     "data": {
      "text/plain": [
       "(578, 175)"
      ]
     },
     "execution_count": 115,
     "metadata": {},
     "output_type": "execute_result"
    }
   ],
   "source": [
    "abnormal.shape"
   ]
  },
  {
   "cell_type": "code",
   "execution_count": 116,
   "metadata": {
    "collapsed": true
   },
   "outputs": [],
   "source": [
    "#Plot"
   ]
  },
  {
   "cell_type": "code",
   "execution_count": 117,
   "metadata": {},
   "outputs": [
    {
     "data": {
      "text/plain": [
       "(3463, 175)"
      ]
     },
     "execution_count": 117,
     "metadata": {},
     "output_type": "execute_result"
    }
   ],
   "source": [
    "from sklearn.manifold import TSNE\n",
    "from sklearn.decomposition import PCA \n",
    "from sklearn.preprocessing import StandardScaler\n",
    "df_std = StandardScaler().fit_transform(normal)\n",
    "df_std.shape"
   ]
  },
  {
   "cell_type": "code",
   "execution_count": 118,
   "metadata": {},
   "outputs": [
    {
     "name": "stdout",
     "output_type": "stream",
     "text": [
      "Number of components that explain 95% of the variance: 86.0\n"
     ]
    }
   ],
   "source": [
    "clf = PCA(0.95)\n",
    "X_tran = clf.fit_transform(df_std)\n",
    "print('Number of components that explain 95% of the variance: {:.1f}'.format(clf.n_components_)) "
   ]
  },
  {
   "cell_type": "code",
   "execution_count": 119,
   "metadata": {
    "collapsed": true
   },
   "outputs": [],
   "source": [
    "ncomps = 86\n",
    "pca=PCA(n_components=ncomps)\n",
    "Y = pca.fit_transform(df_std)\n",
    "dfpca = pd.DataFrame(Y, columns=['c{}'.format(c) for c in range(ncomps)], index=normal.index)\n",
    "tsne = TSNE(n_components=2, random_state=0)\n",
    "Z = tsne.fit_transform(dfpca)\n",
    "dftsne_norm = pd.DataFrame(Z, columns=['x','y'], index=dfpca.index)"
   ]
  },
  {
   "cell_type": "code",
   "execution_count": 120,
   "metadata": {
    "collapsed": true
   },
   "outputs": [],
   "source": [
    "X5['outliers'] = pred"
   ]
  },
  {
   "cell_type": "code",
   "execution_count": 121,
   "metadata": {},
   "outputs": [
    {
     "data": {
      "text/plain": [
       "(3463, 3)"
      ]
     },
     "execution_count": 121,
     "metadata": {},
     "output_type": "execute_result"
    }
   ],
   "source": [
    "dftsne_norm['outliers'] = 1\n",
    "dftsne_norm.shape"
   ]
  },
  {
   "cell_type": "code",
   "execution_count": 122,
   "metadata": {},
   "outputs": [
    {
     "name": "stdout",
     "output_type": "stream",
     "text": [
      "Number of components that explain 95% of the variance: 74.0\n"
     ]
    }
   ],
   "source": [
    "df_std = StandardScaler().fit_transform(abnormal)\n",
    "df_std.shape\n",
    "clf = PCA(0.95)\n",
    "X_tran = clf.fit_transform(df_std)\n",
    "print('Number of components that explain 95% of the variance: {:.1f}'.format(clf.n_components_)) "
   ]
  },
  {
   "cell_type": "code",
   "execution_count": 123,
   "metadata": {},
   "outputs": [],
   "source": [
    "ncomps = 74\n",
    "pca=PCA(n_components=ncomps)\n",
    "Y = pca.fit_transform(df_std)\n",
    "dfpca = pd.DataFrame(Y, columns=['c{}'.format(c) for c in range(ncomps)], index=abnormal.index)\n",
    "tsne = TSNE(n_components=2, random_state=0)\n",
    "Z = tsne.fit_transform(dfpca)\n",
    "dftsne_abnorm = pd.DataFrame(Z, columns=['x','y'], index=dfpca.index)"
   ]
  },
  {
   "cell_type": "code",
   "execution_count": 124,
   "metadata": {},
   "outputs": [
    {
     "data": {
      "text/plain": [
       "(578, 3)"
      ]
     },
     "execution_count": 124,
     "metadata": {},
     "output_type": "execute_result"
    }
   ],
   "source": [
    "dftsne_abnorm['outliers'] = -1\n",
    "dftsne_abnorm.shape"
   ]
  },
  {
   "cell_type": "code",
   "execution_count": 125,
   "metadata": {},
   "outputs": [
    {
     "data": {
      "text/plain": [
       "(4041, 3)"
      ]
     },
     "execution_count": 125,
     "metadata": {},
     "output_type": "execute_result"
    }
   ],
   "source": [
    "plot_ = pd.concat([dftsne_abnorm, dftsne_norm], axis=0)\n",
    "plot_.shape"
   ]
  },
  {
   "cell_type": "code",
   "execution_count": 126,
   "metadata": {},
   "outputs": [],
   "source": [
    "normal = plot_[plot_['outliers'] == 1]\n",
    "abnormal = plot_[plot_['outliers'] == -1]"
   ]
  },
  {
   "cell_type": "code",
   "execution_count": 127,
   "metadata": {},
   "outputs": [
    {
     "data": {
      "text/plain": [
       "(578, 3)"
      ]
     },
     "execution_count": 127,
     "metadata": {},
     "output_type": "execute_result"
    }
   ],
   "source": [
    "abnormal.shape"
   ]
  },
  {
   "cell_type": "code",
   "execution_count": 128,
   "metadata": {},
   "outputs": [],
   "source": [
    "plot_['Homozygous_Reference_GTcons'] = X6['Homozygous_Reference_GTcons']\n",
    "plot_['Heterozygous_Variant_GTcons'] = X6['Heterozygous_Variant_GTcons']\n",
    "plot_['Homozygous_Variant_GTcons'] = X6['Homozygous_Variant_GTcons']\n",
    "plot_['predicted_GTcons_label'] = X6['predicted_GTcons_label']"
   ]
  },
  {
   "cell_type": "code",
   "execution_count": 129,
   "metadata": {
    "collapsed": true
   },
   "outputs": [],
   "source": [
    "# Abnormal : Predict probability plot"
   ]
  },
  {
   "cell_type": "code",
   "execution_count": 130,
   "metadata": {
    "collapsed": true
   },
   "outputs": [],
   "source": [
    "abnormal_plt = plot_[plot_['outliers'] == -1]"
   ]
  },
  {
   "cell_type": "code",
   "execution_count": 131,
   "metadata": {},
   "outputs": [
    {
     "name": "stderr",
     "output_type": "stream",
     "text": [
      "/Users/lmc2/anaconda/envs/NIHFAES/lib/python3.5/site-packages/ipykernel/__main__.py:2: SettingWithCopyWarning:\n",
      "\n",
      "\n",
      "A value is trying to be set on a copy of a slice from a DataFrame.\n",
      "Try using .loc[row_indexer,col_indexer] = value instead\n",
      "\n",
      "See the caveats in the documentation: http://pandas.pydata.org/pandas-docs/stable/indexing.html#indexing-view-versus-copy\n",
      "\n"
     ]
    }
   ],
   "source": [
    "#Find the max across multiple rows\n",
    "abnormal_plt['max_predprob'] = abnormal_plt[['Homozygous_Reference_GTcons', 'Heterozygous_Variant_GTcons', 'Homozygous_Variant_GTcons']].max(axis=1)"
   ]
  },
  {
   "cell_type": "code",
   "execution_count": 132,
   "metadata": {},
   "outputs": [
    {
     "data": {
      "text/html": [
       "\n",
       "    <div class=\"bk-root\">\n",
       "        <a href=\"http://bokeh.pydata.org\" target=\"_blank\" class=\"bk-logo bk-logo-small bk-logo-notebook\"></a>\n",
       "        <span id=\"8c04bc4a-1022-4ff2-b47f-93e4c44bee83\">Loading BokehJS ...</span>\n",
       "    </div>"
      ]
     },
     "metadata": {},
     "output_type": "display_data"
    },
    {
     "data": {
      "application/javascript": [
       "\n",
       "(function(global) {\n",
       "  function now() {\n",
       "    return new Date();\n",
       "  }\n",
       "\n",
       "  var force = true;\n",
       "\n",
       "  if (typeof (window._bokeh_onload_callbacks) === \"undefined\" || force === true) {\n",
       "    window._bokeh_onload_callbacks = [];\n",
       "    window._bokeh_is_loading = undefined;\n",
       "  }\n",
       "\n",
       "\n",
       "  \n",
       "  if (typeof (window._bokeh_timeout) === \"undefined\" || force === true) {\n",
       "    window._bokeh_timeout = Date.now() + 5000;\n",
       "    window._bokeh_failed_load = false;\n",
       "  }\n",
       "\n",
       "  var NB_LOAD_WARNING = {'data': {'text/html':\n",
       "     \"<div style='background-color: #fdd'>\\n\"+\n",
       "     \"<p>\\n\"+\n",
       "     \"BokehJS does not appear to have successfully loaded. If loading BokehJS from CDN, this \\n\"+\n",
       "     \"may be due to a slow or bad network connection. Possible fixes:\\n\"+\n",
       "     \"</p>\\n\"+\n",
       "     \"<ul>\\n\"+\n",
       "     \"<li>re-rerun `output_notebook()` to attempt to load from CDN again, or</li>\\n\"+\n",
       "     \"<li>use INLINE resources instead, as so:</li>\\n\"+\n",
       "     \"</ul>\\n\"+\n",
       "     \"<code>\\n\"+\n",
       "     \"from bokeh.resources import INLINE\\n\"+\n",
       "     \"output_notebook(resources=INLINE)\\n\"+\n",
       "     \"</code>\\n\"+\n",
       "     \"</div>\"}};\n",
       "\n",
       "  function display_loaded() {\n",
       "    if (window.Bokeh !== undefined) {\n",
       "      document.getElementById(\"8c04bc4a-1022-4ff2-b47f-93e4c44bee83\").textContent = \"BokehJS successfully loaded.\";\n",
       "    } else if (Date.now() < window._bokeh_timeout) {\n",
       "      setTimeout(display_loaded, 100)\n",
       "    }\n",
       "  }\n",
       "\n",
       "  function run_callbacks() {\n",
       "    window._bokeh_onload_callbacks.forEach(function(callback) { callback() });\n",
       "    delete window._bokeh_onload_callbacks\n",
       "    console.info(\"Bokeh: all callbacks have finished\");\n",
       "  }\n",
       "\n",
       "  function load_libs(js_urls, callback) {\n",
       "    window._bokeh_onload_callbacks.push(callback);\n",
       "    if (window._bokeh_is_loading > 0) {\n",
       "      console.log(\"Bokeh: BokehJS is being loaded, scheduling callback at\", now());\n",
       "      return null;\n",
       "    }\n",
       "    if (js_urls == null || js_urls.length === 0) {\n",
       "      run_callbacks();\n",
       "      return null;\n",
       "    }\n",
       "    console.log(\"Bokeh: BokehJS not loaded, scheduling load and callback at\", now());\n",
       "    window._bokeh_is_loading = js_urls.length;\n",
       "    for (var i = 0; i < js_urls.length; i++) {\n",
       "      var url = js_urls[i];\n",
       "      var s = document.createElement('script');\n",
       "      s.src = url;\n",
       "      s.async = false;\n",
       "      s.onreadystatechange = s.onload = function() {\n",
       "        window._bokeh_is_loading--;\n",
       "        if (window._bokeh_is_loading === 0) {\n",
       "          console.log(\"Bokeh: all BokehJS libraries loaded\");\n",
       "          run_callbacks()\n",
       "        }\n",
       "      };\n",
       "      s.onerror = function() {\n",
       "        console.warn(\"failed to load library \" + url);\n",
       "      };\n",
       "      console.log(\"Bokeh: injecting script tag for BokehJS library: \", url);\n",
       "      document.getElementsByTagName(\"head\")[0].appendChild(s);\n",
       "    }\n",
       "  };var element = document.getElementById(\"8c04bc4a-1022-4ff2-b47f-93e4c44bee83\");\n",
       "  if (element == null) {\n",
       "    console.log(\"Bokeh: ERROR: autoload.js configured with elementid '8c04bc4a-1022-4ff2-b47f-93e4c44bee83' but no matching script tag was found. \")\n",
       "    return false;\n",
       "  }\n",
       "\n",
       "  var js_urls = [\"https://cdn.pydata.org/bokeh/release/bokeh-0.12.4.min.js\", \"https://cdn.pydata.org/bokeh/release/bokeh-widgets-0.12.4.min.js\"];\n",
       "\n",
       "  var inline_js = [\n",
       "    function(Bokeh) {\n",
       "      Bokeh.set_log_level(\"info\");\n",
       "    },\n",
       "    \n",
       "    function(Bokeh) {\n",
       "      \n",
       "      document.getElementById(\"8c04bc4a-1022-4ff2-b47f-93e4c44bee83\").textContent = \"BokehJS is loading...\";\n",
       "    },\n",
       "    function(Bokeh) {\n",
       "      console.log(\"Bokeh: injecting CSS: https://cdn.pydata.org/bokeh/release/bokeh-0.12.4.min.css\");\n",
       "      Bokeh.embed.inject_css(\"https://cdn.pydata.org/bokeh/release/bokeh-0.12.4.min.css\");\n",
       "      console.log(\"Bokeh: injecting CSS: https://cdn.pydata.org/bokeh/release/bokeh-widgets-0.12.4.min.css\");\n",
       "      Bokeh.embed.inject_css(\"https://cdn.pydata.org/bokeh/release/bokeh-widgets-0.12.4.min.css\");\n",
       "    }\n",
       "  ];\n",
       "\n",
       "  function run_inline_js() {\n",
       "    \n",
       "    if ((window.Bokeh !== undefined) || (force === true)) {\n",
       "      for (var i = 0; i < inline_js.length; i++) {\n",
       "        inline_js[i](window.Bokeh);\n",
       "      }if (force === true) {\n",
       "        display_loaded();\n",
       "      }} else if (Date.now() < window._bokeh_timeout) {\n",
       "      setTimeout(run_inline_js, 100);\n",
       "    } else if (!window._bokeh_failed_load) {\n",
       "      console.log(\"Bokeh: BokehJS failed to load within specified timeout.\");\n",
       "      window._bokeh_failed_load = true;\n",
       "    } else if (force !== true) {\n",
       "      var cell = $(document.getElementById(\"8c04bc4a-1022-4ff2-b47f-93e4c44bee83\")).parents('.cell').data().cell;\n",
       "      cell.output_area.append_execute_result(NB_LOAD_WARNING)\n",
       "    }\n",
       "\n",
       "  }\n",
       "\n",
       "  if (window._bokeh_is_loading === 0) {\n",
       "    console.log(\"Bokeh: BokehJS loaded, going straight to plotting\");\n",
       "    run_inline_js();\n",
       "  } else {\n",
       "    load_libs(js_urls, function() {\n",
       "      console.log(\"Bokeh: BokehJS plotting callback run at\", now());\n",
       "      run_inline_js();\n",
       "    });\n",
       "  }\n",
       "}(this));"
      ]
     },
     "metadata": {},
     "output_type": "display_data"
    }
   ],
   "source": [
    "output_notebook()"
   ]
  },
  {
   "cell_type": "code",
   "execution_count": 133,
   "metadata": {
    "scrolled": true
   },
   "outputs": [
    {
     "data": {
      "text/html": [
       "\n",
       "\n",
       "    <div class=\"bk-root\">\n",
       "        <div class=\"bk-plotdiv\" id=\"0d775bca-c2c8-41bb-91a2-d72713678afd\"></div>\n",
       "    </div>\n",
       "<script type=\"text/javascript\">\n",
       "  \n",
       "  (function(global) {\n",
       "    function now() {\n",
       "      return new Date();\n",
       "    }\n",
       "  \n",
       "    var force = false;\n",
       "  \n",
       "    if (typeof (window._bokeh_onload_callbacks) === \"undefined\" || force === true) {\n",
       "      window._bokeh_onload_callbacks = [];\n",
       "      window._bokeh_is_loading = undefined;\n",
       "    }\n",
       "  \n",
       "  \n",
       "    \n",
       "    if (typeof (window._bokeh_timeout) === \"undefined\" || force === true) {\n",
       "      window._bokeh_timeout = Date.now() + 0;\n",
       "      window._bokeh_failed_load = false;\n",
       "    }\n",
       "  \n",
       "    var NB_LOAD_WARNING = {'data': {'text/html':\n",
       "       \"<div style='background-color: #fdd'>\\n\"+\n",
       "       \"<p>\\n\"+\n",
       "       \"BokehJS does not appear to have successfully loaded. If loading BokehJS from CDN, this \\n\"+\n",
       "       \"may be due to a slow or bad network connection. Possible fixes:\\n\"+\n",
       "       \"</p>\\n\"+\n",
       "       \"<ul>\\n\"+\n",
       "       \"<li>re-rerun `output_notebook()` to attempt to load from CDN again, or</li>\\n\"+\n",
       "       \"<li>use INLINE resources instead, as so:</li>\\n\"+\n",
       "       \"</ul>\\n\"+\n",
       "       \"<code>\\n\"+\n",
       "       \"from bokeh.resources import INLINE\\n\"+\n",
       "       \"output_notebook(resources=INLINE)\\n\"+\n",
       "       \"</code>\\n\"+\n",
       "       \"</div>\"}};\n",
       "  \n",
       "    function display_loaded() {\n",
       "      if (window.Bokeh !== undefined) {\n",
       "        document.getElementById(\"0d775bca-c2c8-41bb-91a2-d72713678afd\").textContent = \"BokehJS successfully loaded.\";\n",
       "      } else if (Date.now() < window._bokeh_timeout) {\n",
       "        setTimeout(display_loaded, 100)\n",
       "      }\n",
       "    }\n",
       "  \n",
       "    function run_callbacks() {\n",
       "      window._bokeh_onload_callbacks.forEach(function(callback) { callback() });\n",
       "      delete window._bokeh_onload_callbacks\n",
       "      console.info(\"Bokeh: all callbacks have finished\");\n",
       "    }\n",
       "  \n",
       "    function load_libs(js_urls, callback) {\n",
       "      window._bokeh_onload_callbacks.push(callback);\n",
       "      if (window._bokeh_is_loading > 0) {\n",
       "        console.log(\"Bokeh: BokehJS is being loaded, scheduling callback at\", now());\n",
       "        return null;\n",
       "      }\n",
       "      if (js_urls == null || js_urls.length === 0) {\n",
       "        run_callbacks();\n",
       "        return null;\n",
       "      }\n",
       "      console.log(\"Bokeh: BokehJS not loaded, scheduling load and callback at\", now());\n",
       "      window._bokeh_is_loading = js_urls.length;\n",
       "      for (var i = 0; i < js_urls.length; i++) {\n",
       "        var url = js_urls[i];\n",
       "        var s = document.createElement('script');\n",
       "        s.src = url;\n",
       "        s.async = false;\n",
       "        s.onreadystatechange = s.onload = function() {\n",
       "          window._bokeh_is_loading--;\n",
       "          if (window._bokeh_is_loading === 0) {\n",
       "            console.log(\"Bokeh: all BokehJS libraries loaded\");\n",
       "            run_callbacks()\n",
       "          }\n",
       "        };\n",
       "        s.onerror = function() {\n",
       "          console.warn(\"failed to load library \" + url);\n",
       "        };\n",
       "        console.log(\"Bokeh: injecting script tag for BokehJS library: \", url);\n",
       "        document.getElementsByTagName(\"head\")[0].appendChild(s);\n",
       "      }\n",
       "    };var element = document.getElementById(\"0d775bca-c2c8-41bb-91a2-d72713678afd\");\n",
       "    if (element == null) {\n",
       "      console.log(\"Bokeh: ERROR: autoload.js configured with elementid '0d775bca-c2c8-41bb-91a2-d72713678afd' but no matching script tag was found. \")\n",
       "      return false;\n",
       "    }\n",
       "  \n",
       "    var js_urls = [];\n",
       "  \n",
       "    var inline_js = [\n",
       "      function(Bokeh) {\n",
       "        (function() {\n",
       "          var fn = function() {\n",
       "            var docs_json = {\"156099aa-cc4b-4e86-bf9a-c9e35490d617\":{\"roots\":{\"references\":[{\"attributes\":{\"callback\":null,\"column_names\":[\"color\",\"label\",\"height\",\"width\",\"fill_alpha\",\"y\",\"line_alpha\",\"x\",\"line_color\"],\"data\":{\"chart_index\":[\"(0.633933, 0.655467]\"],\"color\":[\"LightSlateGray\"],\"fill_alpha\":[0.8],\"height\":[10.0],\"label\":[\"(0.633933, 0.655467]\"],\"line_alpha\":[1.0],\"line_color\":[\"black\"],\"width\":[0.021533333333333293],\"x\":[\"0.6447\"],\"y\":[5.0]}},\"id\":\"51414eac-085a-42cd-90f6-df6a11c706ec\",\"type\":\"ColumnDataSource\"},{\"attributes\":{\"fill_alpha\":{\"field\":\"fill_alpha\"},\"fill_color\":{\"field\":\"color\"},\"height\":{\"field\":\"height\",\"units\":\"data\"},\"line_color\":{\"field\":\"line_color\"},\"width\":{\"field\":\"width\",\"units\":\"data\"},\"x\":{\"field\":\"x\"},\"y\":{\"field\":\"y\"}},\"id\":\"8970d3ca-c14f-4c1f-9858-758ed2a01db5\",\"type\":\"Rect\"},{\"attributes\":{\"bottom_units\":\"screen\",\"fill_alpha\":{\"value\":0.5},\"fill_color\":{\"value\":\"lightgrey\"},\"left_units\":\"screen\",\"level\":\"overlay\",\"line_alpha\":{\"value\":1.0},\"line_color\":{\"value\":\"black\"},\"line_dash\":[4,4],\"line_width\":{\"value\":2},\"plot\":null,\"render_mode\":\"css\",\"right_units\":\"screen\",\"top_units\":\"screen\"},\"id\":\"563c92cb-0b01-47c2-92f6-3fe19e9f5935\",\"type\":\"BoxAnnotation\"},{\"attributes\":{\"fill_alpha\":{\"field\":\"fill_alpha\"},\"fill_color\":{\"field\":\"color\"},\"height\":{\"field\":\"height\",\"units\":\"data\"},\"line_color\":{\"field\":\"line_color\"},\"width\":{\"field\":\"width\",\"units\":\"data\"},\"x\":{\"field\":\"x\"},\"y\":{\"field\":\"y\"}},\"id\":\"c15ae107-fb22-4f9a-922f-71d605017fb8\",\"type\":\"Rect\"},{\"attributes\":{\"callback\":null,\"column_names\":[\"color\",\"label\",\"height\",\"width\",\"fill_alpha\",\"y\",\"line_alpha\",\"x\",\"line_color\"],\"data\":{\"chart_index\":[\"(0.418600, 0.440133]\"],\"color\":[\"LightSlateGray\"],\"fill_alpha\":[0.8],\"height\":[1.0],\"label\":[\"(0.418600, 0.440133]\"],\"line_alpha\":[1.0],\"line_color\":[\"black\"],\"width\":[0.02153333333333335],\"x\":[\"0.4293665\"],\"y\":[0.5]}},\"id\":\"e6846380-8419-4c83-babb-99a54e7087e6\",\"type\":\"ColumnDataSource\"},{\"attributes\":{\"plot\":{\"id\":\"9f9360ab-bbca-4ff7-8a7d-1be50c2422e7\",\"subtype\":\"Chart\",\"type\":\"Plot\"}},\"id\":\"b961cf3d-7cdf-46fa-9572-fadb31eaecf8\",\"type\":\"ResetTool\"},{\"attributes\":{\"fill_alpha\":{\"field\":\"fill_alpha\"},\"fill_color\":{\"field\":\"color\"},\"height\":{\"field\":\"height\",\"units\":\"data\"},\"line_color\":{\"field\":\"line_color\"},\"width\":{\"field\":\"width\",\"units\":\"data\"},\"x\":{\"field\":\"x\"},\"y\":{\"field\":\"y\"}},\"id\":\"32c7d10e-9a1c-44d2-a042-531c85653d36\",\"type\":\"Rect\"},{\"attributes\":{\"data_source\":{\"id\":\"cefd1455-84f6-4c0c-b4c0-84807a2bce2c\",\"type\":\"ColumnDataSource\"},\"glyph\":{\"id\":\"9f1fb945-df9b-4090-8442-6890dd70b7c8\",\"type\":\"Rect\"},\"hover_glyph\":null,\"nonselection_glyph\":null,\"selection_glyph\":null},\"id\":\"982df28e-051f-410b-8c57-8ff888d9167e\",\"type\":\"GlyphRenderer\"},{\"attributes\":{},\"id\":\"99d7dc0f-26cd-41e9-949f-ae31887c4a56\",\"type\":\"ToolEvents\"},{\"attributes\":{\"callback\":null,\"column_names\":[\"color\",\"label\",\"height\",\"width\",\"fill_alpha\",\"y\",\"line_alpha\",\"x\",\"line_color\"],\"data\":{\"chart_index\":[\"(0.526267, 0.547800]\"],\"color\":[\"LightSlateGray\"],\"fill_alpha\":[0.8],\"height\":[3.0],\"label\":[\"(0.526267, 0.547800]\"],\"line_alpha\":[1.0],\"line_color\":[\"black\"],\"width\":[0.021533333333333404],\"x\":[\"0.5370334999999999\"],\"y\":[1.5]}},\"id\":\"1e3561f0-81e6-43e6-b450-6f4d1f35cb6d\",\"type\":\"ColumnDataSource\"},{\"attributes\":{\"fill_alpha\":{\"field\":\"fill_alpha\"},\"fill_color\":{\"field\":\"color\"},\"height\":{\"field\":\"height\",\"units\":\"data\"},\"line_color\":{\"field\":\"line_color\"},\"width\":{\"field\":\"width\",\"units\":\"data\"},\"x\":{\"field\":\"x\"},\"y\":{\"field\":\"y\"}},\"id\":\"37b025ec-ead3-404f-bc09-66bbf92458f4\",\"type\":\"Rect\"},{\"attributes\":{\"location\":\"top_left\",\"plot\":{\"id\":\"9f9360ab-bbca-4ff7-8a7d-1be50c2422e7\",\"subtype\":\"Chart\",\"type\":\"Plot\"}},\"id\":\"29185d11-34c0-43ca-9284-d992b6f962c2\",\"type\":\"Legend\"},{\"attributes\":{\"fill_alpha\":{\"field\":\"fill_alpha\"},\"fill_color\":{\"field\":\"color\"},\"height\":{\"field\":\"height\",\"units\":\"data\"},\"line_color\":{\"field\":\"line_color\"},\"width\":{\"field\":\"width\",\"units\":\"data\"},\"x\":{\"field\":\"x\"},\"y\":{\"field\":\"y\"}},\"id\":\"8393199f-75e3-4400-a2b2-82a6cabc36ef\",\"type\":\"Rect\"},{\"attributes\":{\"callback\":null,\"column_names\":[\"color\",\"label\",\"height\",\"width\",\"fill_alpha\",\"y\",\"line_alpha\",\"x\",\"line_color\"],\"data\":{\"chart_index\":[\"(0.978467, 1.000000]\"],\"color\":[\"LightSlateGray\"],\"fill_alpha\":[0.8],\"height\":[232.0],\"label\":[\"(0.978467, 1.000000]\"],\"line_alpha\":[1.0],\"line_color\":[\"black\"],\"width\":[0.021533333333333293],\"x\":[\"0.9892335\"],\"y\":[116.0]}},\"id\":\"5839ad3d-a2a2-4811-ae3c-977cc3e0b6a6\",\"type\":\"ColumnDataSource\"},{\"attributes\":{\"callback\":null,\"column_names\":[\"color\",\"label\",\"height\",\"width\",\"fill_alpha\",\"y\",\"line_alpha\",\"x\",\"line_color\"],\"data\":{\"chart_index\":[\"(0.741600, 0.763133]\"],\"color\":[\"LightSlateGray\"],\"fill_alpha\":[0.8],\"height\":[5.0],\"label\":[\"(0.741600, 0.763133]\"],\"line_alpha\":[1.0],\"line_color\":[\"black\"],\"width\":[0.021533333333333293],\"x\":[\"0.7523664999999999\"],\"y\":[2.5]}},\"id\":\"d30a102e-aebe-468b-a3ea-b3b916a2eb8b\",\"type\":\"ColumnDataSource\"},{\"attributes\":{\"callback\":null,\"column_names\":[\"color\",\"label\",\"height\",\"width\",\"fill_alpha\",\"y\",\"line_alpha\",\"x\",\"line_color\"],\"data\":{\"chart_index\":[\"[0.354000, 0.375533]\"],\"color\":[\"LightSlateGray\"],\"fill_alpha\":[0.8],\"height\":[1.0],\"label\":[\"[0.354000, 0.375533]\"],\"line_alpha\":[1.0],\"line_color\":[\"black\"],\"width\":[0.02153333333333335],\"x\":[\"0.3647665\"],\"y\":[0.5]}},\"id\":\"f4c9e38c-65d1-44e1-9dfb-c28479437c67\",\"type\":\"ColumnDataSource\"},{\"attributes\":{\"dimension\":1,\"plot\":{\"id\":\"9f9360ab-bbca-4ff7-8a7d-1be50c2422e7\",\"subtype\":\"Chart\",\"type\":\"Plot\"},\"ticker\":{\"id\":\"087f51c5-ad6a-46ea-934a-f36a9ee8b435\",\"type\":\"BasicTicker\"}},\"id\":\"2956c928-94c8-432c-8123-ad0b76768a49\",\"type\":\"Grid\"},{\"attributes\":{\"data_source\":{\"id\":\"a12861ce-0799-4126-b76b-257f1e139e84\",\"type\":\"ColumnDataSource\"},\"glyph\":{\"id\":\"cdea9a6e-7f72-4caa-ae83-02d46dac7bd1\",\"type\":\"Rect\"},\"hover_glyph\":null,\"nonselection_glyph\":null,\"selection_glyph\":null},\"id\":\"3df957d2-bb16-454a-b657-9bec09c43d10\",\"type\":\"GlyphRenderer\"},{\"attributes\":{\"callback\":null,\"column_names\":[\"color\",\"label\",\"height\",\"width\",\"fill_alpha\",\"y\",\"line_alpha\",\"x\",\"line_color\"],\"data\":{\"chart_index\":[\"(0.547800, 0.569333]\"],\"color\":[\"LightSlateGray\"],\"fill_alpha\":[0.8],\"height\":[8.0],\"label\":[\"(0.547800, 0.569333]\"],\"line_alpha\":[1.0],\"line_color\":[\"black\"],\"width\":[0.021533333333333293],\"x\":[\"0.5585665\"],\"y\":[4.0]}},\"id\":\"a12861ce-0799-4126-b76b-257f1e139e84\",\"type\":\"ColumnDataSource\"},{\"attributes\":{\"data_source\":{\"id\":\"ec660651-1d1a-4a15-baf1-04f89d83b5c9\",\"type\":\"ColumnDataSource\"},\"glyph\":{\"id\":\"588b06f6-011e-4ab8-a3e1-6685137eb64c\",\"type\":\"Rect\"},\"hover_glyph\":null,\"nonselection_glyph\":null,\"selection_glyph\":null},\"id\":\"cb5e3e74-4850-4d52-b5a5-39b233d05ccf\",\"type\":\"GlyphRenderer\"},{\"attributes\":{\"data_source\":{\"id\":\"27fb4224-e8f0-47f4-8b2b-e9ae6e5a6c7c\",\"type\":\"ColumnDataSource\"},\"glyph\":{\"id\":\"5e7e3312-80de-4a71-861f-5568deb1f538\",\"type\":\"Rect\"},\"hover_glyph\":null,\"nonselection_glyph\":null,\"selection_glyph\":null},\"id\":\"f0c0f542-2a54-48e4-af81-c47118a50a13\",\"type\":\"GlyphRenderer\"},{\"attributes\":{\"fill_alpha\":{\"field\":\"fill_alpha\"},\"fill_color\":{\"field\":\"color\"},\"height\":{\"field\":\"height\",\"units\":\"data\"},\"line_color\":{\"field\":\"line_color\"},\"width\":{\"field\":\"width\",\"units\":\"data\"},\"x\":{\"field\":\"x\"},\"y\":{\"field\":\"y\"}},\"id\":\"9f1fb945-df9b-4090-8442-6890dd70b7c8\",\"type\":\"Rect\"},{\"attributes\":{\"fill_alpha\":{\"field\":\"fill_alpha\"},\"fill_color\":{\"field\":\"color\"},\"height\":{\"field\":\"height\",\"units\":\"data\"},\"line_color\":{\"field\":\"line_color\"},\"width\":{\"field\":\"width\",\"units\":\"data\"},\"x\":{\"field\":\"x\"},\"y\":{\"field\":\"y\"}},\"id\":\"588b06f6-011e-4ab8-a3e1-6685137eb64c\",\"type\":\"Rect\"},{\"attributes\":{\"data_source\":{\"id\":\"9221b141-bb4c-46d7-8984-1fcae1c275b8\",\"type\":\"ColumnDataSource\"},\"glyph\":{\"id\":\"07dacf82-6824-4837-a521-ee930995fc8c\",\"type\":\"Rect\"},\"hover_glyph\":null,\"nonselection_glyph\":null,\"selection_glyph\":null},\"id\":\"1746fa57-1747-47c1-97d4-92a2c3843dd5\",\"type\":\"GlyphRenderer\"},{\"attributes\":{\"callback\":null,\"column_names\":[\"color\",\"label\",\"height\",\"width\",\"fill_alpha\",\"y\",\"line_alpha\",\"x\",\"line_color\"],\"data\":{\"chart_index\":[\"(0.461667, 0.483200]\"],\"color\":[\"LightSlateGray\"],\"fill_alpha\":[0.8],\"height\":[4.0],\"label\":[\"(0.461667, 0.483200]\"],\"line_alpha\":[1.0],\"line_color\":[\"black\"],\"width\":[0.021533333333333293],\"x\":[\"0.4724335\"],\"y\":[2.0]}},\"id\":\"d08605d3-fb61-4b9b-a920-aa5cf8f4bb7b\",\"type\":\"ColumnDataSource\"},{\"attributes\":{\"data_source\":{\"id\":\"a9009e46-e19d-42ed-bcd3-61443da22053\",\"type\":\"ColumnDataSource\"},\"glyph\":{\"id\":\"b5173836-975c-4524-842f-6444b793c478\",\"type\":\"Rect\"},\"hover_glyph\":null,\"nonselection_glyph\":null,\"selection_glyph\":null},\"id\":\"19d5afc2-8bc7-4082-959b-545ebb90e3a3\",\"type\":\"GlyphRenderer\"},{\"attributes\":{\"callback\":null,\"column_names\":[\"color\",\"label\",\"height\",\"width\",\"fill_alpha\",\"y\",\"line_alpha\",\"x\",\"line_color\"],\"data\":{\"chart_index\":[\"(0.827733, 0.849267]\"],\"color\":[\"LightSlateGray\"],\"fill_alpha\":[0.8],\"height\":[11.0],\"label\":[\"(0.827733, 0.849267]\"],\"line_alpha\":[1.0],\"line_color\":[\"black\"],\"width\":[0.021533333333333293],\"x\":[\"0.8385\"],\"y\":[5.5]}},\"id\":\"a59dca0a-fb28-4f0c-8520-b677dd621640\",\"type\":\"ColumnDataSource\"},{\"attributes\":{\"overlay\":{\"id\":\"563c92cb-0b01-47c2-92f6-3fe19e9f5935\",\"type\":\"BoxAnnotation\"},\"plot\":{\"id\":\"9f9360ab-bbca-4ff7-8a7d-1be50c2422e7\",\"subtype\":\"Chart\",\"type\":\"Plot\"}},\"id\":\"e69efc77-ae41-42cc-a31b-2b721db72977\",\"type\":\"BoxZoomTool\"},{\"attributes\":{\"fill_alpha\":{\"field\":\"fill_alpha\"},\"fill_color\":{\"field\":\"color\"},\"height\":{\"field\":\"height\",\"units\":\"data\"},\"line_color\":{\"field\":\"line_color\"},\"width\":{\"field\":\"width\",\"units\":\"data\"},\"x\":{\"field\":\"x\"},\"y\":{\"field\":\"y\"}},\"id\":\"07087360-4e77-49fc-b473-3f7178fd292d\",\"type\":\"Rect\"},{\"attributes\":{\"data_source\":{\"id\":\"68c5eee0-0cd8-4459-9395-f03b4f03951d\",\"type\":\"ColumnDataSource\"},\"glyph\":{\"id\":\"8393199f-75e3-4400-a2b2-82a6cabc36ef\",\"type\":\"Rect\"},\"hover_glyph\":null,\"nonselection_glyph\":null,\"selection_glyph\":null},\"id\":\"23941c4e-630a-449b-8988-f6c64239f8bb\",\"type\":\"GlyphRenderer\"},{\"attributes\":{\"callback\":null,\"column_names\":[\"color\",\"label\",\"height\",\"width\",\"fill_alpha\",\"y\",\"line_alpha\",\"x\",\"line_color\"],\"data\":{\"chart_index\":[\"(0.677000, 0.698533]\"],\"color\":[\"LightSlateGray\"],\"fill_alpha\":[0.8],\"height\":[8.0],\"label\":[\"(0.677000, 0.698533]\"],\"line_alpha\":[1.0],\"line_color\":[\"black\"],\"width\":[0.021533333333333293],\"x\":[\"0.6877665\"],\"y\":[4.0]}},\"id\":\"a27dd04a-ad40-40d7-8d16-d0bdbbb6f60d\",\"type\":\"ColumnDataSource\"},{\"attributes\":{\"active_drag\":\"auto\",\"active_scroll\":\"auto\",\"active_tap\":\"auto\",\"tools\":[{\"id\":\"bf6e8ba8-0254-4156-a083-7528db6d9168\",\"type\":\"PanTool\"},{\"id\":\"8dd5816d-6f52-4ee3-9557-73f1b4a62818\",\"type\":\"WheelZoomTool\"},{\"id\":\"e69efc77-ae41-42cc-a31b-2b721db72977\",\"type\":\"BoxZoomTool\"},{\"id\":\"b554d96e-9a4e-47d0-8e54-39995e0480d2\",\"type\":\"SaveTool\"},{\"id\":\"b961cf3d-7cdf-46fa-9572-fadb31eaecf8\",\"type\":\"ResetTool\"},{\"id\":\"ad69e567-7374-4be7-b2ad-9315c452ae5e\",\"type\":\"HelpTool\"}]},\"id\":\"a8a0b454-5ec2-4bdd-8ac8-a1e9726651e2\",\"type\":\"Toolbar\"},{\"attributes\":{\"plot\":null,\"text\":\"SVM Outlier : Predict Probability\"},\"id\":\"46932b85-d21f-47c0-9b8c-a04c25202320\",\"type\":\"Title\"},{\"attributes\":{\"fill_alpha\":{\"field\":\"fill_alpha\"},\"fill_color\":{\"field\":\"color\"},\"height\":{\"field\":\"height\",\"units\":\"data\"},\"line_color\":{\"field\":\"line_color\"},\"width\":{\"field\":\"width\",\"units\":\"data\"},\"x\":{\"field\":\"x\"},\"y\":{\"field\":\"y\"}},\"id\":\"5e7e3312-80de-4a71-861f-5568deb1f538\",\"type\":\"Rect\"},{\"attributes\":{\"callback\":null,\"column_names\":[\"color\",\"label\",\"height\",\"width\",\"fill_alpha\",\"y\",\"line_alpha\",\"x\",\"line_color\"],\"data\":{\"chart_index\":[\"(0.763133, 0.784667]\"],\"color\":[\"LightSlateGray\"],\"fill_alpha\":[0.8],\"height\":[6.0],\"label\":[\"(0.763133, 0.784667]\"],\"line_alpha\":[1.0],\"line_color\":[\"black\"],\"width\":[0.021533333333333293],\"x\":[\"0.7739\"],\"y\":[3.0]}},\"id\":\"e330a0b6-f365-466a-bcb7-c3846a59fe8b\",\"type\":\"ColumnDataSource\"},{\"attributes\":{\"plot\":{\"id\":\"9f9360ab-bbca-4ff7-8a7d-1be50c2422e7\",\"subtype\":\"Chart\",\"type\":\"Plot\"}},\"id\":\"b554d96e-9a4e-47d0-8e54-39995e0480d2\",\"type\":\"SaveTool\"},{\"attributes\":{\"callback\":null,\"column_names\":[\"color\",\"label\",\"height\",\"width\",\"fill_alpha\",\"y\",\"line_alpha\",\"x\",\"line_color\"],\"data\":{\"chart_index\":[\"(0.935400, 0.956933]\"],\"color\":[\"LightSlateGray\"],\"fill_alpha\":[0.8],\"height\":[43.0],\"label\":[\"(0.935400, 0.956933]\"],\"line_alpha\":[1.0],\"line_color\":[\"black\"],\"width\":[0.021533333333333293],\"x\":[\"0.9461665\"],\"y\":[21.5]}},\"id\":\"1e936e03-b082-4f39-a22d-5779a743d331\",\"type\":\"ColumnDataSource\"},{\"attributes\":{\"callback\":null,\"column_names\":[\"color\",\"label\",\"height\",\"width\",\"fill_alpha\",\"y\",\"line_alpha\",\"x\",\"line_color\"],\"data\":{\"chart_index\":[\"(0.720067, 0.741600]\"],\"color\":[\"LightSlateGray\"],\"fill_alpha\":[0.8],\"height\":[8.0],\"label\":[\"(0.720067, 0.741600]\"],\"line_alpha\":[1.0],\"line_color\":[\"black\"],\"width\":[0.021533333333333404],\"x\":[\"0.7308335\"],\"y\":[4.0]}},\"id\":\"9221b141-bb4c-46d7-8984-1fcae1c275b8\",\"type\":\"ColumnDataSource\"},{\"attributes\":{\"data_source\":{\"id\":\"8d9df151-2bd9-4c51-ab16-b186ae0f7a48\",\"type\":\"ColumnDataSource\"},\"glyph\":{\"id\":\"e6c0493b-0eb0-41d4-9ae5-f15e9325d3f7\",\"type\":\"Rect\"},\"hover_glyph\":null,\"nonselection_glyph\":null,\"selection_glyph\":null},\"id\":\"31a0ac3c-de86-4e77-8072-06f091fe31b6\",\"type\":\"GlyphRenderer\"},{\"attributes\":{\"fill_alpha\":{\"field\":\"fill_alpha\"},\"fill_color\":{\"field\":\"color\"},\"height\":{\"field\":\"height\",\"units\":\"data\"},\"line_color\":{\"field\":\"line_color\"},\"width\":{\"field\":\"width\",\"units\":\"data\"},\"x\":{\"field\":\"x\"},\"y\":{\"field\":\"y\"}},\"id\":\"91b4c6cb-0bcf-4ab7-bed7-e7f16c451706\",\"type\":\"Rect\"},{\"attributes\":{\"callback\":null,\"column_names\":[\"color\",\"label\",\"height\",\"width\",\"fill_alpha\",\"y\",\"line_alpha\",\"x\",\"line_color\"],\"data\":{\"chart_index\":[\"(0.612400, 0.633933]\"],\"color\":[\"LightSlateGray\"],\"fill_alpha\":[0.8],\"height\":[9.0],\"label\":[\"(0.612400, 0.633933]\"],\"line_alpha\":[1.0],\"line_color\":[\"black\"],\"width\":[0.021533333333333293],\"x\":[\"0.6231665\"],\"y\":[4.5]}},\"id\":\"cefd1455-84f6-4c0c-b4c0-84807a2bce2c\",\"type\":\"ColumnDataSource\"},{\"attributes\":{\"callback\":null,\"column_names\":[\"color\",\"label\",\"height\",\"width\",\"fill_alpha\",\"y\",\"line_alpha\",\"x\",\"line_color\"],\"data\":{\"chart_index\":[\"(0.440133, 0.461667]\"],\"color\":[\"LightSlateGray\"],\"fill_alpha\":[0.8],\"height\":[1.0],\"label\":[\"(0.440133, 0.461667]\"],\"line_alpha\":[1.0],\"line_color\":[\"black\"],\"width\":[0.02153333333333335],\"x\":[\"0.45089999999999997\"],\"y\":[0.5]}},\"id\":\"27fb4224-e8f0-47f4-8b2b-e9ae6e5a6c7c\",\"type\":\"ColumnDataSource\"},{\"attributes\":{\"fill_alpha\":{\"field\":\"fill_alpha\"},\"fill_color\":{\"field\":\"color\"},\"height\":{\"field\":\"height\",\"units\":\"data\"},\"line_color\":{\"field\":\"line_color\"},\"width\":{\"field\":\"width\",\"units\":\"data\"},\"x\":{\"field\":\"x\"},\"y\":{\"field\":\"y\"}},\"id\":\"cdea9a6e-7f72-4caa-ae83-02d46dac7bd1\",\"type\":\"Rect\"},{\"attributes\":{\"fill_alpha\":{\"field\":\"fill_alpha\"},\"fill_color\":{\"field\":\"color\"},\"height\":{\"field\":\"height\",\"units\":\"data\"},\"line_color\":{\"field\":\"line_color\"},\"width\":{\"field\":\"width\",\"units\":\"data\"},\"x\":{\"field\":\"x\"},\"y\":{\"field\":\"y\"}},\"id\":\"a9288f43-3545-4437-9f55-463c949f4e6d\",\"type\":\"Rect\"},{\"attributes\":{\"plot\":{\"id\":\"9f9360ab-bbca-4ff7-8a7d-1be50c2422e7\",\"subtype\":\"Chart\",\"type\":\"Plot\"}},\"id\":\"8dd5816d-6f52-4ee3-9557-73f1b4a62818\",\"type\":\"WheelZoomTool\"},{\"attributes\":{\"data_source\":{\"id\":\"d30a102e-aebe-468b-a3ea-b3b916a2eb8b\",\"type\":\"ColumnDataSource\"},\"glyph\":{\"id\":\"8e02135a-f70e-4059-affe-87c29331ae3f\",\"type\":\"Rect\"},\"hover_glyph\":null,\"nonselection_glyph\":null,\"selection_glyph\":null},\"id\":\"7376c965-73cb-4ea3-a7f7-f5ceb5401ee9\",\"type\":\"GlyphRenderer\"},{\"attributes\":{\"fill_alpha\":{\"field\":\"fill_alpha\"},\"fill_color\":{\"field\":\"color\"},\"height\":{\"field\":\"height\",\"units\":\"data\"},\"line_color\":{\"field\":\"line_color\"},\"width\":{\"field\":\"width\",\"units\":\"data\"},\"x\":{\"field\":\"x\"},\"y\":{\"field\":\"y\"}},\"id\":\"8e02135a-f70e-4059-affe-87c29331ae3f\",\"type\":\"Rect\"},{\"attributes\":{\"callback\":null,\"column_names\":[\"color\",\"label\",\"height\",\"width\",\"fill_alpha\",\"y\",\"line_alpha\",\"x\",\"line_color\"],\"data\":{\"chart_index\":[\"(0.806200, 0.827733]\"],\"color\":[\"LightSlateGray\"],\"fill_alpha\":[0.8],\"height\":[5.0],\"label\":[\"(0.806200, 0.827733]\"],\"line_alpha\":[1.0],\"line_color\":[\"black\"],\"width\":[0.021533333333333293],\"x\":[\"0.8169665\"],\"y\":[2.5]}},\"id\":\"b36a3228-8f37-4cd8-b860-f9c8fdbb901d\",\"type\":\"ColumnDataSource\"},{\"attributes\":{\"callback\":null,\"column_names\":[\"color\",\"label\",\"height\",\"width\",\"fill_alpha\",\"y\",\"line_alpha\",\"x\",\"line_color\"],\"data\":{\"chart_index\":[\"(0.483200, 0.504733]\"],\"color\":[\"LightSlateGray\"],\"fill_alpha\":[0.8],\"height\":[5.0],\"label\":[\"(0.483200, 0.504733]\"],\"line_alpha\":[1.0],\"line_color\":[\"black\"],\"width\":[0.021533333333333293],\"x\":[\"0.4939665\"],\"y\":[2.5]}},\"id\":\"0becc298-0034-4603-8a3e-3758d5c90015\",\"type\":\"ColumnDataSource\"},{\"attributes\":{\"callback\":null,\"column_names\":[\"color\",\"label\",\"height\",\"width\",\"fill_alpha\",\"y\",\"line_alpha\",\"x\",\"line_color\"],\"data\":{\"chart_index\":[\"(0.892333, 0.913867]\"],\"color\":[\"LightSlateGray\"],\"fill_alpha\":[0.8],\"height\":[14.0],\"label\":[\"(0.892333, 0.913867]\"],\"line_alpha\":[1.0],\"line_color\":[\"black\"],\"width\":[0.021533333333333404],\"x\":[\"0.9031\"],\"y\":[7.0]}},\"id\":\"38c3cd6d-33ec-481e-a313-48688e5a4147\",\"type\":\"ColumnDataSource\"},{\"attributes\":{\"fill_alpha\":{\"field\":\"fill_alpha\"},\"fill_color\":{\"field\":\"color\"},\"height\":{\"field\":\"height\",\"units\":\"data\"},\"line_color\":{\"field\":\"line_color\"},\"width\":{\"field\":\"width\",\"units\":\"data\"},\"x\":{\"field\":\"x\"},\"y\":{\"field\":\"y\"}},\"id\":\"854fd77e-731f-4825-bf19-d0fced4a39bd\",\"type\":\"Rect\"},{\"attributes\":{\"fill_alpha\":{\"field\":\"fill_alpha\"},\"fill_color\":{\"field\":\"color\"},\"height\":{\"field\":\"height\",\"units\":\"data\"},\"line_color\":{\"field\":\"line_color\"},\"width\":{\"field\":\"width\",\"units\":\"data\"},\"x\":{\"field\":\"x\"},\"y\":{\"field\":\"y\"}},\"id\":\"b5173836-975c-4524-842f-6444b793c478\",\"type\":\"Rect\"},{\"attributes\":{\"data_source\":{\"id\":\"169dd408-f6d2-405c-9358-706fb5a8546c\",\"type\":\"ColumnDataSource\"},\"glyph\":{\"id\":\"82cde9b2-de15-472e-87d0-fa76be39e1d7\",\"type\":\"Rect\"},\"hover_glyph\":null,\"nonselection_glyph\":null,\"selection_glyph\":null},\"id\":\"7e97bf2e-85b7-4db8-a4f2-80c08592f253\",\"type\":\"GlyphRenderer\"},{\"attributes\":{},\"id\":\"b52faae0-9624-42c4-8343-81b64d6acc57\",\"type\":\"BasicTickFormatter\"},{\"attributes\":{\"callback\":null,\"column_names\":[\"color\",\"label\",\"height\",\"width\",\"fill_alpha\",\"y\",\"line_alpha\",\"x\",\"line_color\"],\"data\":{\"chart_index\":[\"(0.849267, 0.870800]\"],\"color\":[\"LightSlateGray\"],\"fill_alpha\":[0.8],\"height\":[12.0],\"label\":[\"(0.849267, 0.870800]\"],\"line_alpha\":[1.0],\"line_color\":[\"black\"],\"width\":[0.021533333333333404],\"x\":[\"0.8600335\"],\"y\":[6.0]}},\"id\":\"1e75942f-cfa6-44e3-aeb5-4ddd4aa55df3\",\"type\":\"ColumnDataSource\"},{\"attributes\":{\"fill_alpha\":{\"field\":\"fill_alpha\"},\"fill_color\":{\"field\":\"color\"},\"height\":{\"field\":\"height\",\"units\":\"data\"},\"line_color\":{\"field\":\"line_color\"},\"width\":{\"field\":\"width\",\"units\":\"data\"},\"x\":{\"field\":\"x\"},\"y\":{\"field\":\"y\"}},\"id\":\"82cde9b2-de15-472e-87d0-fa76be39e1d7\",\"type\":\"Rect\"},{\"attributes\":{},\"id\":\"03a7968c-bbd5-45cb-a100-fc773d29beda\",\"type\":\"BasicTickFormatter\"},{\"attributes\":{\"axis_label\":\"Frequency\",\"formatter\":{\"id\":\"b52faae0-9624-42c4-8343-81b64d6acc57\",\"type\":\"BasicTickFormatter\"},\"plot\":{\"id\":\"9f9360ab-bbca-4ff7-8a7d-1be50c2422e7\",\"subtype\":\"Chart\",\"type\":\"Plot\"},\"ticker\":{\"id\":\"087f51c5-ad6a-46ea-934a-f36a9ee8b435\",\"type\":\"BasicTicker\"}},\"id\":\"38e3a3c9-4494-4832-8d32-7efee9c5f188\",\"type\":\"LinearAxis\"},{\"attributes\":{\"fill_alpha\":{\"field\":\"fill_alpha\"},\"fill_color\":{\"field\":\"color\"},\"height\":{\"field\":\"height\",\"units\":\"data\"},\"line_color\":{\"field\":\"line_color\"},\"width\":{\"field\":\"width\",\"units\":\"data\"},\"x\":{\"field\":\"x\"},\"y\":{\"field\":\"y\"}},\"id\":\"07dacf82-6824-4837-a521-ee930995fc8c\",\"type\":\"Rect\"},{\"attributes\":{\"data_source\":{\"id\":\"b36a3228-8f37-4cd8-b860-f9c8fdbb901d\",\"type\":\"ColumnDataSource\"},\"glyph\":{\"id\":\"48f858f6-d796-45d3-87df-002e00801e1e\",\"type\":\"Rect\"},\"hover_glyph\":null,\"nonselection_glyph\":null,\"selection_glyph\":null},\"id\":\"251f26af-7c05-4073-828b-b0192a7954f1\",\"type\":\"GlyphRenderer\"},{\"attributes\":{\"callback\":null,\"column_names\":[\"color\",\"label\",\"height\",\"width\",\"fill_alpha\",\"y\",\"line_alpha\",\"x\",\"line_color\"],\"data\":{\"chart_index\":[\"(0.504733, 0.526267]\"],\"color\":[\"LightSlateGray\"],\"fill_alpha\":[0.8],\"height\":[8.0],\"label\":[\"(0.504733, 0.526267]\"],\"line_alpha\":[1.0],\"line_color\":[\"black\"],\"width\":[0.021533333333333404],\"x\":[\"0.5155000000000001\"],\"y\":[4.0]}},\"id\":\"e610ae27-e99a-4d4e-a222-70286f69fb92\",\"type\":\"ColumnDataSource\"},{\"attributes\":{\"plot\":{\"id\":\"9f9360ab-bbca-4ff7-8a7d-1be50c2422e7\",\"subtype\":\"Chart\",\"type\":\"Plot\"}},\"id\":\"ad69e567-7374-4be7-b2ad-9315c452ae5e\",\"type\":\"HelpTool\"},{\"attributes\":{\"callback\":null,\"column_names\":[\"color\",\"label\",\"height\",\"width\",\"fill_alpha\",\"y\",\"line_alpha\",\"x\",\"line_color\"],\"data\":{\"chart_index\":[\"(0.590867, 0.612400]\"],\"color\":[\"LightSlateGray\"],\"fill_alpha\":[0.8],\"height\":[6.0],\"label\":[\"(0.590867, 0.612400]\"],\"line_alpha\":[1.0],\"line_color\":[\"black\"],\"width\":[0.021533333333333404],\"x\":[\"0.6016335\"],\"y\":[3.0]}},\"id\":\"9bf5d84b-ecaa-446f-bd6a-82b9c3aa1270\",\"type\":\"ColumnDataSource\"},{\"attributes\":{\"callback\":null,\"column_names\":[\"color\",\"label\",\"height\",\"width\",\"fill_alpha\",\"y\",\"line_alpha\",\"x\",\"line_color\"],\"data\":{\"chart_index\":[\"(0.655467, 0.677000]\"],\"color\":[\"LightSlateGray\"],\"fill_alpha\":[0.8],\"height\":[7.0],\"label\":[\"(0.655467, 0.677000]\"],\"line_alpha\":[1.0],\"line_color\":[\"black\"],\"width\":[0.021533333333333404],\"x\":[\"0.6662335\"],\"y\":[3.5]}},\"id\":\"4cbc5852-b7b0-4b8a-b037-760e28f23b86\",\"type\":\"ColumnDataSource\"},{\"attributes\":{\"callback\":null,\"column_names\":[\"color\",\"label\",\"height\",\"width\",\"fill_alpha\",\"y\",\"line_alpha\",\"x\",\"line_color\"],\"data\":{\"chart_index\":[\"(0.569333, 0.590867]\"],\"color\":[\"LightSlateGray\"],\"fill_alpha\":[0.8],\"height\":[6.0],\"label\":[\"(0.569333, 0.590867]\"],\"line_alpha\":[1.0],\"line_color\":[\"black\"],\"width\":[0.021533333333333293],\"x\":[\"0.5801000000000001\"],\"y\":[3.0]}},\"id\":\"82a43b6a-5eac-4016-86fd-bd1d32396343\",\"type\":\"ColumnDataSource\"},{\"attributes\":{\"data_source\":{\"id\":\"1e3561f0-81e6-43e6-b450-6f4d1f35cb6d\",\"type\":\"ColumnDataSource\"},\"glyph\":{\"id\":\"493c085a-acd7-4b17-a1aa-ea81c15b4e23\",\"type\":\"Rect\"},\"hover_glyph\":null,\"nonselection_glyph\":null,\"selection_glyph\":null},\"id\":\"fafd80db-4deb-4bb3-8017-8d91d7a55fb2\",\"type\":\"GlyphRenderer\"},{\"attributes\":{\"data_source\":{\"id\":\"a27dd04a-ad40-40d7-8d16-d0bdbbb6f60d\",\"type\":\"ColumnDataSource\"},\"glyph\":{\"id\":\"0ca79509-a9c5-4b49-b4cc-8422e0f7552f\",\"type\":\"Rect\"},\"hover_glyph\":null,\"nonselection_glyph\":null,\"selection_glyph\":null},\"id\":\"208b6173-008d-4a37-b2a1-018348553fde\",\"type\":\"GlyphRenderer\"},{\"attributes\":{\"data_source\":{\"id\":\"5839ad3d-a2a2-4811-ae3c-977cc3e0b6a6\",\"type\":\"ColumnDataSource\"},\"glyph\":{\"id\":\"5676cea4-e05e-47f2-8f7d-5bf8c5bc8b12\",\"type\":\"Rect\"},\"hover_glyph\":null,\"nonselection_glyph\":null,\"selection_glyph\":null},\"id\":\"24aa3acb-f2a2-4e45-b9f9-8e75f5319ee1\",\"type\":\"GlyphRenderer\"},{\"attributes\":{\"below\":[{\"id\":\"865ec92c-b5b6-43ff-9384-3478f74b2921\",\"type\":\"LinearAxis\"}],\"css_classes\":null,\"left\":[{\"id\":\"38e3a3c9-4494-4832-8d32-7efee9c5f188\",\"type\":\"LinearAxis\"}],\"renderers\":[{\"id\":\"563c92cb-0b01-47c2-92f6-3fe19e9f5935\",\"type\":\"BoxAnnotation\"},{\"id\":\"fc9c06cb-5897-4e36-9bd5-b0a9fc1b009d\",\"type\":\"GlyphRenderer\"},{\"id\":\"7e97bf2e-85b7-4db8-a4f2-80c08592f253\",\"type\":\"GlyphRenderer\"},{\"id\":\"bbebb09a-6ad3-499f-956e-3e742c90742d\",\"type\":\"GlyphRenderer\"},{\"id\":\"cabedc0a-fc84-4838-b644-0fe078a3681c\",\"type\":\"GlyphRenderer\"},{\"id\":\"f0c0f542-2a54-48e4-af81-c47118a50a13\",\"type\":\"GlyphRenderer\"},{\"id\":\"e71ae512-1205-49a5-bd70-1527ec5f11af\",\"type\":\"GlyphRenderer\"},{\"id\":\"9936a2da-53ad-463a-887a-5fd9d50d1b7a\",\"type\":\"GlyphRenderer\"},{\"id\":\"c5061d0e-d7ba-487a-840c-7472a9a2de9b\",\"type\":\"GlyphRenderer\"},{\"id\":\"fafd80db-4deb-4bb3-8017-8d91d7a55fb2\",\"type\":\"GlyphRenderer\"},{\"id\":\"3df957d2-bb16-454a-b657-9bec09c43d10\",\"type\":\"GlyphRenderer\"},{\"id\":\"0220c4bf-dc92-4ace-aa34-acfb13d657b5\",\"type\":\"GlyphRenderer\"},{\"id\":\"9538b65f-8ef4-4b7e-9f37-ec3a7df81ba4\",\"type\":\"GlyphRenderer\"},{\"id\":\"982df28e-051f-410b-8c57-8ff888d9167e\",\"type\":\"GlyphRenderer\"},{\"id\":\"c9cdc277-b94c-44de-baef-0a4b9c867f03\",\"type\":\"GlyphRenderer\"},{\"id\":\"578663e3-af78-49a1-bb96-ab35788a0e2a\",\"type\":\"GlyphRenderer\"},{\"id\":\"208b6173-008d-4a37-b2a1-018348553fde\",\"type\":\"GlyphRenderer\"},{\"id\":\"23941c4e-630a-449b-8988-f6c64239f8bb\",\"type\":\"GlyphRenderer\"},{\"id\":\"1746fa57-1747-47c1-97d4-92a2c3843dd5\",\"type\":\"GlyphRenderer\"},{\"id\":\"7376c965-73cb-4ea3-a7f7-f5ceb5401ee9\",\"type\":\"GlyphRenderer\"},{\"id\":\"4b90082f-cee2-4b59-b29a-54a8bdf4b0a1\",\"type\":\"GlyphRenderer\"},{\"id\":\"19d5afc2-8bc7-4082-959b-545ebb90e3a3\",\"type\":\"GlyphRenderer\"},{\"id\":\"251f26af-7c05-4073-828b-b0192a7954f1\",\"type\":\"GlyphRenderer\"},{\"id\":\"447b76f7-6a8e-4f54-9694-b7efb759418a\",\"type\":\"GlyphRenderer\"},{\"id\":\"4048f2b2-fbb0-464e-96e5-0ce977ba0b66\",\"type\":\"GlyphRenderer\"},{\"id\":\"cb5e3e74-4850-4d52-b5a5-39b233d05ccf\",\"type\":\"GlyphRenderer\"},{\"id\":\"fe5ff40a-fd1b-40d7-b0ea-505354d246ed\",\"type\":\"GlyphRenderer\"},{\"id\":\"721b238b-995b-4ad2-9ae7-08c5dc5ad080\",\"type\":\"GlyphRenderer\"},{\"id\":\"e95cecdd-df01-449a-9514-9c1486eea650\",\"type\":\"GlyphRenderer\"},{\"id\":\"31a0ac3c-de86-4e77-8072-06f091fe31b6\",\"type\":\"GlyphRenderer\"},{\"id\":\"24aa3acb-f2a2-4e45-b9f9-8e75f5319ee1\",\"type\":\"GlyphRenderer\"},{\"id\":\"29185d11-34c0-43ca-9284-d992b6f962c2\",\"type\":\"Legend\"},{\"id\":\"865ec92c-b5b6-43ff-9384-3478f74b2921\",\"type\":\"LinearAxis\"},{\"id\":\"38e3a3c9-4494-4832-8d32-7efee9c5f188\",\"type\":\"LinearAxis\"},{\"id\":\"2956c928-94c8-432c-8123-ad0b76768a49\",\"type\":\"Grid\"}],\"title\":{\"id\":\"46932b85-d21f-47c0-9b8c-a04c25202320\",\"type\":\"Title\"},\"tool_events\":{\"id\":\"99d7dc0f-26cd-41e9-949f-ae31887c4a56\",\"type\":\"ToolEvents\"},\"toolbar\":{\"id\":\"a8a0b454-5ec2-4bdd-8ac8-a1e9726651e2\",\"type\":\"Toolbar\"},\"x_mapper_type\":\"auto\",\"x_range\":{\"id\":\"bd9f3568-0900-472d-86d0-601d24ca6cae\",\"type\":\"Range1d\"},\"y_mapper_type\":\"auto\",\"y_range\":{\"id\":\"3cd46d03-0bbb-483f-8624-ad417b0c648d\",\"type\":\"Range1d\"}},\"id\":\"9f9360ab-bbca-4ff7-8a7d-1be50c2422e7\",\"subtype\":\"Chart\",\"type\":\"Plot\"},{\"attributes\":{\"callback\":null,\"end\":255.20000000000002},\"id\":\"3cd46d03-0bbb-483f-8624-ad417b0c648d\",\"type\":\"Range1d\"},{\"attributes\":{\"callback\":null,\"column_names\":[\"color\",\"label\",\"height\",\"width\",\"fill_alpha\",\"y\",\"line_alpha\",\"x\",\"line_color\"],\"data\":{\"chart_index\":[\"(0.913867, 0.935400]\"],\"color\":[\"LightSlateGray\"],\"fill_alpha\":[0.8],\"height\":[33.0],\"label\":[\"(0.913867, 0.935400]\"],\"line_alpha\":[1.0],\"line_color\":[\"black\"],\"width\":[0.021533333333333293],\"x\":[\"0.9246335\"],\"y\":[16.5]}},\"id\":\"aa6f5d1d-c3a2-468e-94fb-cd57c1d21a59\",\"type\":\"ColumnDataSource\"},{\"attributes\":{\"data_source\":{\"id\":\"f4c9e38c-65d1-44e1-9dfb-c28479437c67\",\"type\":\"ColumnDataSource\"},\"glyph\":{\"id\":\"6cd93bb6-354a-4025-a004-577f7ca18b1b\",\"type\":\"Rect\"},\"hover_glyph\":null,\"nonselection_glyph\":null,\"selection_glyph\":null},\"id\":\"fc9c06cb-5897-4e36-9bd5-b0a9fc1b009d\",\"type\":\"GlyphRenderer\"},{\"attributes\":{\"data_source\":{\"id\":\"d08605d3-fb61-4b9b-a920-aa5cf8f4bb7b\",\"type\":\"ColumnDataSource\"},\"glyph\":{\"id\":\"854fd77e-731f-4825-bf19-d0fced4a39bd\",\"type\":\"Rect\"},\"hover_glyph\":null,\"nonselection_glyph\":null,\"selection_glyph\":null},\"id\":\"e71ae512-1205-49a5-bd70-1527ec5f11af\",\"type\":\"GlyphRenderer\"},{\"attributes\":{\"fill_alpha\":{\"field\":\"fill_alpha\"},\"fill_color\":{\"field\":\"color\"},\"height\":{\"field\":\"height\",\"units\":\"data\"},\"line_color\":{\"field\":\"line_color\"},\"width\":{\"field\":\"width\",\"units\":\"data\"},\"x\":{\"field\":\"x\"},\"y\":{\"field\":\"y\"}},\"id\":\"d38efc7b-14cb-495f-bc08-4b00b9e0ed1b\",\"type\":\"Rect\"},{\"attributes\":{\"data_source\":{\"id\":\"e610ae27-e99a-4d4e-a222-70286f69fb92\",\"type\":\"ColumnDataSource\"},\"glyph\":{\"id\":\"8970d3ca-c14f-4c1f-9858-758ed2a01db5\",\"type\":\"Rect\"},\"hover_glyph\":null,\"nonselection_glyph\":null,\"selection_glyph\":null},\"id\":\"c5061d0e-d7ba-487a-840c-7472a9a2de9b\",\"type\":\"GlyphRenderer\"},{\"attributes\":{\"callback\":null,\"column_names\":[\"color\",\"label\",\"height\",\"width\",\"fill_alpha\",\"y\",\"line_alpha\",\"x\",\"line_color\"],\"data\":{\"chart_index\":[\"(0.870800, 0.892333]\"],\"color\":[\"LightSlateGray\"],\"fill_alpha\":[0.8],\"height\":[20.0],\"label\":[\"(0.870800, 0.892333]\"],\"line_alpha\":[1.0],\"line_color\":[\"black\"],\"width\":[0.021533333333333293],\"x\":[\"0.8815665\"],\"y\":[10.0]}},\"id\":\"ec660651-1d1a-4a15-baf1-04f89d83b5c9\",\"type\":\"ColumnDataSource\"},{\"attributes\":{\"plot\":{\"id\":\"9f9360ab-bbca-4ff7-8a7d-1be50c2422e7\",\"subtype\":\"Chart\",\"type\":\"Plot\"}},\"id\":\"bf6e8ba8-0254-4156-a083-7528db6d9168\",\"type\":\"PanTool\"},{\"attributes\":{\"fill_alpha\":{\"field\":\"fill_alpha\"},\"fill_color\":{\"field\":\"color\"},\"height\":{\"field\":\"height\",\"units\":\"data\"},\"line_color\":{\"field\":\"line_color\"},\"width\":{\"field\":\"width\",\"units\":\"data\"},\"x\":{\"field\":\"x\"},\"y\":{\"field\":\"y\"}},\"id\":\"5676cea4-e05e-47f2-8f7d-5bf8c5bc8b12\",\"type\":\"Rect\"},{\"attributes\":{\"fill_alpha\":{\"field\":\"fill_alpha\"},\"fill_color\":{\"field\":\"color\"},\"height\":{\"field\":\"height\",\"units\":\"data\"},\"line_color\":{\"field\":\"line_color\"},\"width\":{\"field\":\"width\",\"units\":\"data\"},\"x\":{\"field\":\"x\"},\"y\":{\"field\":\"y\"}},\"id\":\"0cbe1c24-8ff7-43ab-a619-c4d5a3eada7d\",\"type\":\"Rect\"},{\"attributes\":{\"fill_alpha\":{\"field\":\"fill_alpha\"},\"fill_color\":{\"field\":\"color\"},\"height\":{\"field\":\"height\",\"units\":\"data\"},\"line_color\":{\"field\":\"line_color\"},\"width\":{\"field\":\"width\",\"units\":\"data\"},\"x\":{\"field\":\"x\"},\"y\":{\"field\":\"y\"}},\"id\":\"60c5d4ba-294b-42e1-a2a1-1c414696bea3\",\"type\":\"Rect\"},{\"attributes\":{\"callback\":null,\"column_names\":[\"color\",\"label\",\"height\",\"width\",\"fill_alpha\",\"y\",\"line_alpha\",\"x\",\"line_color\"],\"data\":{\"chart_index\":[\"(0.698533, 0.720067]\"],\"color\":[\"LightSlateGray\"],\"fill_alpha\":[0.8],\"height\":[6.0],\"label\":[\"(0.698533, 0.720067]\"],\"line_alpha\":[1.0],\"line_color\":[\"black\"],\"width\":[0.021533333333333293],\"x\":[\"0.7093\"],\"y\":[3.0]}},\"id\":\"68c5eee0-0cd8-4459-9395-f03b4f03951d\",\"type\":\"ColumnDataSource\"},{\"attributes\":{\"data_source\":{\"id\":\"38c3cd6d-33ec-481e-a313-48688e5a4147\",\"type\":\"ColumnDataSource\"},\"glyph\":{\"id\":\"0cbe1c24-8ff7-43ab-a619-c4d5a3eada7d\",\"type\":\"Rect\"},\"hover_glyph\":null,\"nonselection_glyph\":null,\"selection_glyph\":null},\"id\":\"fe5ff40a-fd1b-40d7-b0ea-505354d246ed\",\"type\":\"GlyphRenderer\"},{\"attributes\":{\"fill_alpha\":{\"field\":\"fill_alpha\"},\"fill_color\":{\"field\":\"color\"},\"height\":{\"field\":\"height\",\"units\":\"data\"},\"line_color\":{\"field\":\"line_color\"},\"width\":{\"field\":\"width\",\"units\":\"data\"},\"x\":{\"field\":\"x\"},\"y\":{\"field\":\"y\"}},\"id\":\"e6c0493b-0eb0-41d4-9ae5-f15e9325d3f7\",\"type\":\"Rect\"},{\"attributes\":{\"data_source\":{\"id\":\"9bf5d84b-ecaa-446f-bd6a-82b9c3aa1270\",\"type\":\"ColumnDataSource\"},\"glyph\":{\"id\":\"db11dc43-3778-4d07-8f8f-676eca7cac13\",\"type\":\"Rect\"},\"hover_glyph\":null,\"nonselection_glyph\":null,\"selection_glyph\":null},\"id\":\"9538b65f-8ef4-4b7e-9f37-ec3a7df81ba4\",\"type\":\"GlyphRenderer\"},{\"attributes\":{\"data_source\":{\"id\":\"1e936e03-b082-4f39-a22d-5779a743d331\",\"type\":\"ColumnDataSource\"},\"glyph\":{\"id\":\"91b4c6cb-0bcf-4ab7-bed7-e7f16c451706\",\"type\":\"Rect\"},\"hover_glyph\":null,\"nonselection_glyph\":null,\"selection_glyph\":null},\"id\":\"e95cecdd-df01-449a-9514-9c1486eea650\",\"type\":\"GlyphRenderer\"},{\"attributes\":{\"data_source\":{\"id\":\"ea857d44-7de0-4704-afdf-2d10bb60fa64\",\"type\":\"ColumnDataSource\"},\"glyph\":{\"id\":\"32c7d10e-9a1c-44d2-a042-531c85653d36\",\"type\":\"Rect\"},\"hover_glyph\":null,\"nonselection_glyph\":null,\"selection_glyph\":null},\"id\":\"bbebb09a-6ad3-499f-956e-3e742c90742d\",\"type\":\"GlyphRenderer\"},{\"attributes\":{\"data_source\":{\"id\":\"e330a0b6-f365-466a-bcb7-c3846a59fe8b\",\"type\":\"ColumnDataSource\"},\"glyph\":{\"id\":\"c15ae107-fb22-4f9a-922f-71d605017fb8\",\"type\":\"Rect\"},\"hover_glyph\":null,\"nonselection_glyph\":null,\"selection_glyph\":null},\"id\":\"4b90082f-cee2-4b59-b29a-54a8bdf4b0a1\",\"type\":\"GlyphRenderer\"},{\"attributes\":{\"data_source\":{\"id\":\"1e75942f-cfa6-44e3-aeb5-4ddd4aa55df3\",\"type\":\"ColumnDataSource\"},\"glyph\":{\"id\":\"07087360-4e77-49fc-b473-3f7178fd292d\",\"type\":\"Rect\"},\"hover_glyph\":null,\"nonselection_glyph\":null,\"selection_glyph\":null},\"id\":\"4048f2b2-fbb0-464e-96e5-0ce977ba0b66\",\"type\":\"GlyphRenderer\"},{\"attributes\":{},\"id\":\"2adbb5ac-d2e5-4040-8b8d-ed2a70cf0ef5\",\"type\":\"BasicTicker\"},{\"attributes\":{\"data_source\":{\"id\":\"51414eac-085a-42cd-90f6-df6a11c706ec\",\"type\":\"ColumnDataSource\"},\"glyph\":{\"id\":\"5904ec6b-9d52-48fc-a40a-7bddb7dfc0b6\",\"type\":\"Rect\"},\"hover_glyph\":null,\"nonselection_glyph\":null,\"selection_glyph\":null},\"id\":\"c9cdc277-b94c-44de-baef-0a4b9c867f03\",\"type\":\"GlyphRenderer\"},{\"attributes\":{\"fill_alpha\":{\"field\":\"fill_alpha\"},\"fill_color\":{\"field\":\"color\"},\"height\":{\"field\":\"height\",\"units\":\"data\"},\"line_color\":{\"field\":\"line_color\"},\"width\":{\"field\":\"width\",\"units\":\"data\"},\"x\":{\"field\":\"x\"},\"y\":{\"field\":\"y\"}},\"id\":\"5aca7707-4dc3-465e-a637-293e0351c28d\",\"type\":\"Rect\"},{\"attributes\":{\"data_source\":{\"id\":\"a59dca0a-fb28-4f0c-8520-b677dd621640\",\"type\":\"ColumnDataSource\"},\"glyph\":{\"id\":\"d38efc7b-14cb-495f-bc08-4b00b9e0ed1b\",\"type\":\"Rect\"},\"hover_glyph\":null,\"nonselection_glyph\":null,\"selection_glyph\":null},\"id\":\"447b76f7-6a8e-4f54-9694-b7efb759418a\",\"type\":\"GlyphRenderer\"},{\"attributes\":{\"data_source\":{\"id\":\"4cbc5852-b7b0-4b8a-b037-760e28f23b86\",\"type\":\"ColumnDataSource\"},\"glyph\":{\"id\":\"60c5d4ba-294b-42e1-a2a1-1c414696bea3\",\"type\":\"Rect\"},\"hover_glyph\":null,\"nonselection_glyph\":null,\"selection_glyph\":null},\"id\":\"578663e3-af78-49a1-bb96-ab35788a0e2a\",\"type\":\"GlyphRenderer\"},{\"attributes\":{\"callback\":null,\"column_names\":[\"color\",\"label\",\"height\",\"width\",\"fill_alpha\",\"y\",\"line_alpha\",\"x\",\"line_color\"],\"data\":{\"chart_index\":[\"(0.784667, 0.806200]\"],\"color\":[\"LightSlateGray\"],\"fill_alpha\":[0.8],\"height\":[4.0],\"label\":[\"(0.784667, 0.806200]\"],\"line_alpha\":[1.0],\"line_color\":[\"black\"],\"width\":[0.021533333333333404],\"x\":[\"0.7954335\"],\"y\":[2.0]}},\"id\":\"a9009e46-e19d-42ed-bcd3-61443da22053\",\"type\":\"ColumnDataSource\"},{\"attributes\":{\"fill_alpha\":{\"field\":\"fill_alpha\"},\"fill_color\":{\"field\":\"color\"},\"height\":{\"field\":\"height\",\"units\":\"data\"},\"line_color\":{\"field\":\"line_color\"},\"width\":{\"field\":\"width\",\"units\":\"data\"},\"x\":{\"field\":\"x\"},\"y\":{\"field\":\"y\"}},\"id\":\"493c085a-acd7-4b17-a1aa-ea81c15b4e23\",\"type\":\"Rect\"},{\"attributes\":{\"axis_label\":\"Predict Probability\",\"formatter\":{\"id\":\"03a7968c-bbd5-45cb-a100-fc773d29beda\",\"type\":\"BasicTickFormatter\"},\"plot\":{\"id\":\"9f9360ab-bbca-4ff7-8a7d-1be50c2422e7\",\"subtype\":\"Chart\",\"type\":\"Plot\"},\"ticker\":{\"id\":\"2adbb5ac-d2e5-4040-8b8d-ed2a70cf0ef5\",\"type\":\"BasicTicker\"}},\"id\":\"865ec92c-b5b6-43ff-9384-3478f74b2921\",\"type\":\"LinearAxis\"},{\"attributes\":{\"fill_alpha\":{\"field\":\"fill_alpha\"},\"fill_color\":{\"field\":\"color\"},\"height\":{\"field\":\"height\",\"units\":\"data\"},\"line_color\":{\"field\":\"line_color\"},\"width\":{\"field\":\"width\",\"units\":\"data\"},\"x\":{\"field\":\"x\"},\"y\":{\"field\":\"y\"}},\"id\":\"6cd93bb6-354a-4025-a004-577f7ca18b1b\",\"type\":\"Rect\"},{\"attributes\":{\"data_source\":{\"id\":\"e6846380-8419-4c83-babb-99a54e7087e6\",\"type\":\"ColumnDataSource\"},\"glyph\":{\"id\":\"37b025ec-ead3-404f-bc09-66bbf92458f4\",\"type\":\"Rect\"},\"hover_glyph\":null,\"nonselection_glyph\":null,\"selection_glyph\":null},\"id\":\"cabedc0a-fc84-4838-b644-0fe078a3681c\",\"type\":\"GlyphRenderer\"},{\"attributes\":{\"callback\":null,\"column_names\":[\"color\",\"label\",\"height\",\"width\",\"fill_alpha\",\"y\",\"line_alpha\",\"x\",\"line_color\"],\"data\":{\"chart_index\":[\"(0.397067, 0.418600]\"],\"color\":[\"LightSlateGray\"],\"fill_alpha\":[0.8],\"height\":[0.0],\"label\":[\"(0.397067, 0.418600]\"],\"line_alpha\":[1.0],\"line_color\":[\"black\"],\"width\":[0.021533333333333293],\"x\":[\"0.4078335\"],\"y\":[0.0]}},\"id\":\"ea857d44-7de0-4704-afdf-2d10bb60fa64\",\"type\":\"ColumnDataSource\"},{\"attributes\":{\"callback\":null,\"column_names\":[\"color\",\"label\",\"height\",\"width\",\"fill_alpha\",\"y\",\"line_alpha\",\"x\",\"line_color\"],\"data\":{\"chart_index\":[\"(0.375533, 0.397067]\"],\"color\":[\"LightSlateGray\"],\"fill_alpha\":[0.8],\"height\":[1.0],\"label\":[\"(0.375533, 0.397067]\"],\"line_alpha\":[1.0],\"line_color\":[\"black\"],\"width\":[0.02153333333333335],\"x\":[\"0.3863\"],\"y\":[0.5]}},\"id\":\"169dd408-f6d2-405c-9358-706fb5a8546c\",\"type\":\"ColumnDataSource\"},{\"attributes\":{\"data_source\":{\"id\":\"0becc298-0034-4603-8a3e-3758d5c90015\",\"type\":\"ColumnDataSource\"},\"glyph\":{\"id\":\"5aca7707-4dc3-465e-a637-293e0351c28d\",\"type\":\"Rect\"},\"hover_glyph\":null,\"nonselection_glyph\":null,\"selection_glyph\":null},\"id\":\"9936a2da-53ad-463a-887a-5fd9d50d1b7a\",\"type\":\"GlyphRenderer\"},{\"attributes\":{},\"id\":\"087f51c5-ad6a-46ea-934a-f36a9ee8b435\",\"type\":\"BasicTicker\"},{\"attributes\":{\"callback\":null,\"end\":1.0338501666666666,\"start\":0.3201498333333333},\"id\":\"bd9f3568-0900-472d-86d0-601d24ca6cae\",\"type\":\"Range1d\"},{\"attributes\":{\"fill_alpha\":{\"field\":\"fill_alpha\"},\"fill_color\":{\"field\":\"color\"},\"height\":{\"field\":\"height\",\"units\":\"data\"},\"line_color\":{\"field\":\"line_color\"},\"width\":{\"field\":\"width\",\"units\":\"data\"},\"x\":{\"field\":\"x\"},\"y\":{\"field\":\"y\"}},\"id\":\"48f858f6-d796-45d3-87df-002e00801e1e\",\"type\":\"Rect\"},{\"attributes\":{\"fill_alpha\":{\"field\":\"fill_alpha\"},\"fill_color\":{\"field\":\"color\"},\"height\":{\"field\":\"height\",\"units\":\"data\"},\"line_color\":{\"field\":\"line_color\"},\"width\":{\"field\":\"width\",\"units\":\"data\"},\"x\":{\"field\":\"x\"},\"y\":{\"field\":\"y\"}},\"id\":\"0ca79509-a9c5-4b49-b4cc-8422e0f7552f\",\"type\":\"Rect\"},{\"attributes\":{\"fill_alpha\":{\"field\":\"fill_alpha\"},\"fill_color\":{\"field\":\"color\"},\"height\":{\"field\":\"height\",\"units\":\"data\"},\"line_color\":{\"field\":\"line_color\"},\"width\":{\"field\":\"width\",\"units\":\"data\"},\"x\":{\"field\":\"x\"},\"y\":{\"field\":\"y\"}},\"id\":\"28c544c6-a443-486d-b50f-bf306ed4e400\",\"type\":\"Rect\"},{\"attributes\":{\"fill_alpha\":{\"field\":\"fill_alpha\"},\"fill_color\":{\"field\":\"color\"},\"height\":{\"field\":\"height\",\"units\":\"data\"},\"line_color\":{\"field\":\"line_color\"},\"width\":{\"field\":\"width\",\"units\":\"data\"},\"x\":{\"field\":\"x\"},\"y\":{\"field\":\"y\"}},\"id\":\"db11dc43-3778-4d07-8f8f-676eca7cac13\",\"type\":\"Rect\"},{\"attributes\":{\"callback\":null,\"column_names\":[\"color\",\"label\",\"height\",\"width\",\"fill_alpha\",\"y\",\"line_alpha\",\"x\",\"line_color\"],\"data\":{\"chart_index\":[\"(0.956933, 0.978467]\"],\"color\":[\"LightSlateGray\"],\"fill_alpha\":[0.8],\"height\":[101.0],\"label\":[\"(0.956933, 0.978467]\"],\"line_alpha\":[1.0],\"line_color\":[\"black\"],\"width\":[0.021533333333333404],\"x\":[\"0.9677\"],\"y\":[50.5]}},\"id\":\"8d9df151-2bd9-4c51-ab16-b186ae0f7a48\",\"type\":\"ColumnDataSource\"},{\"attributes\":{\"data_source\":{\"id\":\"aa6f5d1d-c3a2-468e-94fb-cd57c1d21a59\",\"type\":\"ColumnDataSource\"},\"glyph\":{\"id\":\"a9288f43-3545-4437-9f55-463c949f4e6d\",\"type\":\"Rect\"},\"hover_glyph\":null,\"nonselection_glyph\":null,\"selection_glyph\":null},\"id\":\"721b238b-995b-4ad2-9ae7-08c5dc5ad080\",\"type\":\"GlyphRenderer\"},{\"attributes\":{\"fill_alpha\":{\"field\":\"fill_alpha\"},\"fill_color\":{\"field\":\"color\"},\"height\":{\"field\":\"height\",\"units\":\"data\"},\"line_color\":{\"field\":\"line_color\"},\"width\":{\"field\":\"width\",\"units\":\"data\"},\"x\":{\"field\":\"x\"},\"y\":{\"field\":\"y\"}},\"id\":\"5904ec6b-9d52-48fc-a40a-7bddb7dfc0b6\",\"type\":\"Rect\"},{\"attributes\":{\"data_source\":{\"id\":\"82a43b6a-5eac-4016-86fd-bd1d32396343\",\"type\":\"ColumnDataSource\"},\"glyph\":{\"id\":\"28c544c6-a443-486d-b50f-bf306ed4e400\",\"type\":\"Rect\"},\"hover_glyph\":null,\"nonselection_glyph\":null,\"selection_glyph\":null},\"id\":\"0220c4bf-dc92-4ace-aa34-acfb13d657b5\",\"type\":\"GlyphRenderer\"}],\"root_ids\":[\"9f9360ab-bbca-4ff7-8a7d-1be50c2422e7\"]},\"title\":\"Bokeh Application\",\"version\":\"0.12.4\"}};\n",
       "            var render_items = [{\"docid\":\"156099aa-cc4b-4e86-bf9a-c9e35490d617\",\"elementid\":\"0d775bca-c2c8-41bb-91a2-d72713678afd\",\"modelid\":\"9f9360ab-bbca-4ff7-8a7d-1be50c2422e7\"}];\n",
       "            \n",
       "            Bokeh.embed.embed_items(docs_json, render_items);\n",
       "          };\n",
       "          if (document.readyState != \"loading\") fn();\n",
       "          else document.addEventListener(\"DOMContentLoaded\", fn);\n",
       "        })();\n",
       "      },\n",
       "      function(Bokeh) {\n",
       "      }\n",
       "    ];\n",
       "  \n",
       "    function run_inline_js() {\n",
       "      \n",
       "      if ((window.Bokeh !== undefined) || (force === true)) {\n",
       "        for (var i = 0; i < inline_js.length; i++) {\n",
       "          inline_js[i](window.Bokeh);\n",
       "        }if (force === true) {\n",
       "          display_loaded();\n",
       "        }} else if (Date.now() < window._bokeh_timeout) {\n",
       "        setTimeout(run_inline_js, 100);\n",
       "      } else if (!window._bokeh_failed_load) {\n",
       "        console.log(\"Bokeh: BokehJS failed to load within specified timeout.\");\n",
       "        window._bokeh_failed_load = true;\n",
       "      } else if (force !== true) {\n",
       "        var cell = $(document.getElementById(\"0d775bca-c2c8-41bb-91a2-d72713678afd\")).parents('.cell').data().cell;\n",
       "        cell.output_area.append_execute_result(NB_LOAD_WARNING)\n",
       "      }\n",
       "  \n",
       "    }\n",
       "  \n",
       "    if (window._bokeh_is_loading === 0) {\n",
       "      console.log(\"Bokeh: BokehJS loaded, going straight to plotting\");\n",
       "      run_inline_js();\n",
       "    } else {\n",
       "      load_libs(js_urls, function() {\n",
       "        console.log(\"Bokeh: BokehJS plotting callback run at\", now());\n",
       "        run_inline_js();\n",
       "      });\n",
       "    }\n",
       "  }(this));\n",
       "</script>"
      ]
     },
     "metadata": {},
     "output_type": "display_data"
    }
   ],
   "source": [
    "p=Histogram(abnormal_plt,values='max_predprob',title='SVM Outlier : Predict Probability',color='LightSlateGray',bins=30,xlabel=\"Predict Probability\",ylabel=\"Frequency\")\n",
    "show(p)"
   ]
  },
  {
   "cell_type": "code",
   "execution_count": 134,
   "metadata": {
    "collapsed": true
   },
   "outputs": [],
   "source": [
    "# Normal : Predict probability plot"
   ]
  },
  {
   "cell_type": "code",
   "execution_count": 135,
   "metadata": {
    "collapsed": true
   },
   "outputs": [],
   "source": [
    "normal_plt = plot_[plot_['outliers'] == 1]"
   ]
  },
  {
   "cell_type": "code",
   "execution_count": 136,
   "metadata": {},
   "outputs": [],
   "source": [
    "plot_['Homozygous_Reference_GTcons'] = X6['Homozygous_Reference_GTcons']\n",
    "plot_['Heterozygous_Variant_GTcons'] = X6['Heterozygous_Variant_GTcons']\n",
    "plot_['Homozygous_Variant_GTcons'] = X6['Homozygous_Variant_GTcons']\n",
    "plot_['predicted_GTcons_label'] = X6['predicted_GTcons_label']"
   ]
  },
  {
   "cell_type": "code",
   "execution_count": 137,
   "metadata": {},
   "outputs": [
    {
     "name": "stderr",
     "output_type": "stream",
     "text": [
      "/Users/lmc2/anaconda/envs/NIHFAES/lib/python3.5/site-packages/ipykernel/__main__.py:2: SettingWithCopyWarning:\n",
      "\n",
      "\n",
      "A value is trying to be set on a copy of a slice from a DataFrame.\n",
      "Try using .loc[row_indexer,col_indexer] = value instead\n",
      "\n",
      "See the caveats in the documentation: http://pandas.pydata.org/pandas-docs/stable/indexing.html#indexing-view-versus-copy\n",
      "\n"
     ]
    }
   ],
   "source": [
    "#Find the max across multiple rows\n",
    "normal_plt['max_predprob'] = normal_plt[['Homozygous_Reference_GTcons', 'Heterozygous_Variant_GTcons', 'Homozygous_Variant_GTcons']].max(axis=1)"
   ]
  },
  {
   "cell_type": "code",
   "execution_count": 138,
   "metadata": {},
   "outputs": [
    {
     "data": {
      "text/html": [
       "\n",
       "    <div class=\"bk-root\">\n",
       "        <a href=\"http://bokeh.pydata.org\" target=\"_blank\" class=\"bk-logo bk-logo-small bk-logo-notebook\"></a>\n",
       "        <span id=\"c6031adb-ecba-4622-9d17-8877d49c9306\">Loading BokehJS ...</span>\n",
       "    </div>"
      ]
     },
     "metadata": {},
     "output_type": "display_data"
    },
    {
     "data": {
      "application/javascript": [
       "\n",
       "(function(global) {\n",
       "  function now() {\n",
       "    return new Date();\n",
       "  }\n",
       "\n",
       "  var force = true;\n",
       "\n",
       "  if (typeof (window._bokeh_onload_callbacks) === \"undefined\" || force === true) {\n",
       "    window._bokeh_onload_callbacks = [];\n",
       "    window._bokeh_is_loading = undefined;\n",
       "  }\n",
       "\n",
       "\n",
       "  \n",
       "  if (typeof (window._bokeh_timeout) === \"undefined\" || force === true) {\n",
       "    window._bokeh_timeout = Date.now() + 5000;\n",
       "    window._bokeh_failed_load = false;\n",
       "  }\n",
       "\n",
       "  var NB_LOAD_WARNING = {'data': {'text/html':\n",
       "     \"<div style='background-color: #fdd'>\\n\"+\n",
       "     \"<p>\\n\"+\n",
       "     \"BokehJS does not appear to have successfully loaded. If loading BokehJS from CDN, this \\n\"+\n",
       "     \"may be due to a slow or bad network connection. Possible fixes:\\n\"+\n",
       "     \"</p>\\n\"+\n",
       "     \"<ul>\\n\"+\n",
       "     \"<li>re-rerun `output_notebook()` to attempt to load from CDN again, or</li>\\n\"+\n",
       "     \"<li>use INLINE resources instead, as so:</li>\\n\"+\n",
       "     \"</ul>\\n\"+\n",
       "     \"<code>\\n\"+\n",
       "     \"from bokeh.resources import INLINE\\n\"+\n",
       "     \"output_notebook(resources=INLINE)\\n\"+\n",
       "     \"</code>\\n\"+\n",
       "     \"</div>\"}};\n",
       "\n",
       "  function display_loaded() {\n",
       "    if (window.Bokeh !== undefined) {\n",
       "      document.getElementById(\"c6031adb-ecba-4622-9d17-8877d49c9306\").textContent = \"BokehJS successfully loaded.\";\n",
       "    } else if (Date.now() < window._bokeh_timeout) {\n",
       "      setTimeout(display_loaded, 100)\n",
       "    }\n",
       "  }\n",
       "\n",
       "  function run_callbacks() {\n",
       "    window._bokeh_onload_callbacks.forEach(function(callback) { callback() });\n",
       "    delete window._bokeh_onload_callbacks\n",
       "    console.info(\"Bokeh: all callbacks have finished\");\n",
       "  }\n",
       "\n",
       "  function load_libs(js_urls, callback) {\n",
       "    window._bokeh_onload_callbacks.push(callback);\n",
       "    if (window._bokeh_is_loading > 0) {\n",
       "      console.log(\"Bokeh: BokehJS is being loaded, scheduling callback at\", now());\n",
       "      return null;\n",
       "    }\n",
       "    if (js_urls == null || js_urls.length === 0) {\n",
       "      run_callbacks();\n",
       "      return null;\n",
       "    }\n",
       "    console.log(\"Bokeh: BokehJS not loaded, scheduling load and callback at\", now());\n",
       "    window._bokeh_is_loading = js_urls.length;\n",
       "    for (var i = 0; i < js_urls.length; i++) {\n",
       "      var url = js_urls[i];\n",
       "      var s = document.createElement('script');\n",
       "      s.src = url;\n",
       "      s.async = false;\n",
       "      s.onreadystatechange = s.onload = function() {\n",
       "        window._bokeh_is_loading--;\n",
       "        if (window._bokeh_is_loading === 0) {\n",
       "          console.log(\"Bokeh: all BokehJS libraries loaded\");\n",
       "          run_callbacks()\n",
       "        }\n",
       "      };\n",
       "      s.onerror = function() {\n",
       "        console.warn(\"failed to load library \" + url);\n",
       "      };\n",
       "      console.log(\"Bokeh: injecting script tag for BokehJS library: \", url);\n",
       "      document.getElementsByTagName(\"head\")[0].appendChild(s);\n",
       "    }\n",
       "  };var element = document.getElementById(\"c6031adb-ecba-4622-9d17-8877d49c9306\");\n",
       "  if (element == null) {\n",
       "    console.log(\"Bokeh: ERROR: autoload.js configured with elementid 'c6031adb-ecba-4622-9d17-8877d49c9306' but no matching script tag was found. \")\n",
       "    return false;\n",
       "  }\n",
       "\n",
       "  var js_urls = [\"https://cdn.pydata.org/bokeh/release/bokeh-0.12.4.min.js\", \"https://cdn.pydata.org/bokeh/release/bokeh-widgets-0.12.4.min.js\"];\n",
       "\n",
       "  var inline_js = [\n",
       "    function(Bokeh) {\n",
       "      Bokeh.set_log_level(\"info\");\n",
       "    },\n",
       "    \n",
       "    function(Bokeh) {\n",
       "      \n",
       "      document.getElementById(\"c6031adb-ecba-4622-9d17-8877d49c9306\").textContent = \"BokehJS is loading...\";\n",
       "    },\n",
       "    function(Bokeh) {\n",
       "      console.log(\"Bokeh: injecting CSS: https://cdn.pydata.org/bokeh/release/bokeh-0.12.4.min.css\");\n",
       "      Bokeh.embed.inject_css(\"https://cdn.pydata.org/bokeh/release/bokeh-0.12.4.min.css\");\n",
       "      console.log(\"Bokeh: injecting CSS: https://cdn.pydata.org/bokeh/release/bokeh-widgets-0.12.4.min.css\");\n",
       "      Bokeh.embed.inject_css(\"https://cdn.pydata.org/bokeh/release/bokeh-widgets-0.12.4.min.css\");\n",
       "    }\n",
       "  ];\n",
       "\n",
       "  function run_inline_js() {\n",
       "    \n",
       "    if ((window.Bokeh !== undefined) || (force === true)) {\n",
       "      for (var i = 0; i < inline_js.length; i++) {\n",
       "        inline_js[i](window.Bokeh);\n",
       "      }if (force === true) {\n",
       "        display_loaded();\n",
       "      }} else if (Date.now() < window._bokeh_timeout) {\n",
       "      setTimeout(run_inline_js, 100);\n",
       "    } else if (!window._bokeh_failed_load) {\n",
       "      console.log(\"Bokeh: BokehJS failed to load within specified timeout.\");\n",
       "      window._bokeh_failed_load = true;\n",
       "    } else if (force !== true) {\n",
       "      var cell = $(document.getElementById(\"c6031adb-ecba-4622-9d17-8877d49c9306\")).parents('.cell').data().cell;\n",
       "      cell.output_area.append_execute_result(NB_LOAD_WARNING)\n",
       "    }\n",
       "\n",
       "  }\n",
       "\n",
       "  if (window._bokeh_is_loading === 0) {\n",
       "    console.log(\"Bokeh: BokehJS loaded, going straight to plotting\");\n",
       "    run_inline_js();\n",
       "  } else {\n",
       "    load_libs(js_urls, function() {\n",
       "      console.log(\"Bokeh: BokehJS plotting callback run at\", now());\n",
       "      run_inline_js();\n",
       "    });\n",
       "  }\n",
       "}(this));"
      ]
     },
     "metadata": {},
     "output_type": "display_data"
    }
   ],
   "source": [
    "output_notebook()"
   ]
  },
  {
   "cell_type": "code",
   "execution_count": 139,
   "metadata": {
    "scrolled": true
   },
   "outputs": [
    {
     "data": {
      "text/html": [
       "\n",
       "\n",
       "    <div class=\"bk-root\">\n",
       "        <div class=\"bk-plotdiv\" id=\"c0b3d280-50c5-4a42-ae95-46ed4e282018\"></div>\n",
       "    </div>\n",
       "<script type=\"text/javascript\">\n",
       "  \n",
       "  (function(global) {\n",
       "    function now() {\n",
       "      return new Date();\n",
       "    }\n",
       "  \n",
       "    var force = false;\n",
       "  \n",
       "    if (typeof (window._bokeh_onload_callbacks) === \"undefined\" || force === true) {\n",
       "      window._bokeh_onload_callbacks = [];\n",
       "      window._bokeh_is_loading = undefined;\n",
       "    }\n",
       "  \n",
       "  \n",
       "    \n",
       "    if (typeof (window._bokeh_timeout) === \"undefined\" || force === true) {\n",
       "      window._bokeh_timeout = Date.now() + 0;\n",
       "      window._bokeh_failed_load = false;\n",
       "    }\n",
       "  \n",
       "    var NB_LOAD_WARNING = {'data': {'text/html':\n",
       "       \"<div style='background-color: #fdd'>\\n\"+\n",
       "       \"<p>\\n\"+\n",
       "       \"BokehJS does not appear to have successfully loaded. If loading BokehJS from CDN, this \\n\"+\n",
       "       \"may be due to a slow or bad network connection. Possible fixes:\\n\"+\n",
       "       \"</p>\\n\"+\n",
       "       \"<ul>\\n\"+\n",
       "       \"<li>re-rerun `output_notebook()` to attempt to load from CDN again, or</li>\\n\"+\n",
       "       \"<li>use INLINE resources instead, as so:</li>\\n\"+\n",
       "       \"</ul>\\n\"+\n",
       "       \"<code>\\n\"+\n",
       "       \"from bokeh.resources import INLINE\\n\"+\n",
       "       \"output_notebook(resources=INLINE)\\n\"+\n",
       "       \"</code>\\n\"+\n",
       "       \"</div>\"}};\n",
       "  \n",
       "    function display_loaded() {\n",
       "      if (window.Bokeh !== undefined) {\n",
       "        document.getElementById(\"c0b3d280-50c5-4a42-ae95-46ed4e282018\").textContent = \"BokehJS successfully loaded.\";\n",
       "      } else if (Date.now() < window._bokeh_timeout) {\n",
       "        setTimeout(display_loaded, 100)\n",
       "      }\n",
       "    }\n",
       "  \n",
       "    function run_callbacks() {\n",
       "      window._bokeh_onload_callbacks.forEach(function(callback) { callback() });\n",
       "      delete window._bokeh_onload_callbacks\n",
       "      console.info(\"Bokeh: all callbacks have finished\");\n",
       "    }\n",
       "  \n",
       "    function load_libs(js_urls, callback) {\n",
       "      window._bokeh_onload_callbacks.push(callback);\n",
       "      if (window._bokeh_is_loading > 0) {\n",
       "        console.log(\"Bokeh: BokehJS is being loaded, scheduling callback at\", now());\n",
       "        return null;\n",
       "      }\n",
       "      if (js_urls == null || js_urls.length === 0) {\n",
       "        run_callbacks();\n",
       "        return null;\n",
       "      }\n",
       "      console.log(\"Bokeh: BokehJS not loaded, scheduling load and callback at\", now());\n",
       "      window._bokeh_is_loading = js_urls.length;\n",
       "      for (var i = 0; i < js_urls.length; i++) {\n",
       "        var url = js_urls[i];\n",
       "        var s = document.createElement('script');\n",
       "        s.src = url;\n",
       "        s.async = false;\n",
       "        s.onreadystatechange = s.onload = function() {\n",
       "          window._bokeh_is_loading--;\n",
       "          if (window._bokeh_is_loading === 0) {\n",
       "            console.log(\"Bokeh: all BokehJS libraries loaded\");\n",
       "            run_callbacks()\n",
       "          }\n",
       "        };\n",
       "        s.onerror = function() {\n",
       "          console.warn(\"failed to load library \" + url);\n",
       "        };\n",
       "        console.log(\"Bokeh: injecting script tag for BokehJS library: \", url);\n",
       "        document.getElementsByTagName(\"head\")[0].appendChild(s);\n",
       "      }\n",
       "    };var element = document.getElementById(\"c0b3d280-50c5-4a42-ae95-46ed4e282018\");\n",
       "    if (element == null) {\n",
       "      console.log(\"Bokeh: ERROR: autoload.js configured with elementid 'c0b3d280-50c5-4a42-ae95-46ed4e282018' but no matching script tag was found. \")\n",
       "      return false;\n",
       "    }\n",
       "  \n",
       "    var js_urls = [];\n",
       "  \n",
       "    var inline_js = [\n",
       "      function(Bokeh) {\n",
       "        (function() {\n",
       "          var fn = function() {\n",
       "            var docs_json = {\"a705d284-155f-4493-8576-9e6a4bccfad9\":{\"roots\":{\"references\":[{\"attributes\":{\"callback\":null,\"column_names\":[\"color\",\"label\",\"height\",\"width\",\"fill_alpha\",\"y\",\"line_alpha\",\"x\",\"line_color\"],\"data\":{\"chart_index\":[\"(0.529200, 0.550600]\"],\"color\":[\"LightSlateGray\"],\"fill_alpha\":[0.8],\"height\":[45.0],\"label\":[\"(0.529200, 0.550600]\"],\"line_alpha\":[1.0],\"line_color\":[\"black\"],\"width\":[0.021399999999999975],\"x\":[\"0.5399\"],\"y\":[22.5]}},\"id\":\"9231d9b3-d825-49f1-82ef-95cd748ae16a\",\"type\":\"ColumnDataSource\"},{\"attributes\":{\"fill_alpha\":{\"field\":\"fill_alpha\"},\"fill_color\":{\"field\":\"color\"},\"height\":{\"field\":\"height\",\"units\":\"data\"},\"line_color\":{\"field\":\"line_color\"},\"width\":{\"field\":\"width\",\"units\":\"data\"},\"x\":{\"field\":\"x\"},\"y\":{\"field\":\"y\"}},\"id\":\"dd2b6002-ff35-411c-b948-0717673b9196\",\"type\":\"Rect\"},{\"attributes\":{\"data_source\":{\"id\":\"37a70703-1ca8-44a2-acc1-814379deec21\",\"type\":\"ColumnDataSource\"},\"glyph\":{\"id\":\"2229c159-f9e3-4bcb-99e1-bd514705ae44\",\"type\":\"Rect\"},\"hover_glyph\":null,\"nonselection_glyph\":null,\"selection_glyph\":null},\"id\":\"f6346b13-9738-42c3-9d9b-8b2d32a214fe\",\"type\":\"GlyphRenderer\"},{\"attributes\":{\"fill_alpha\":{\"field\":\"fill_alpha\"},\"fill_color\":{\"field\":\"color\"},\"height\":{\"field\":\"height\",\"units\":\"data\"},\"line_color\":{\"field\":\"line_color\"},\"width\":{\"field\":\"width\",\"units\":\"data\"},\"x\":{\"field\":\"x\"},\"y\":{\"field\":\"y\"}},\"id\":\"c330ae80-d462-420f-a37b-5b37590fdcd0\",\"type\":\"Rect\"},{\"attributes\":{\"data_source\":{\"id\":\"5411220d-6dc2-4409-ac9b-3e75e8ad60f9\",\"type\":\"ColumnDataSource\"},\"glyph\":{\"id\":\"726c5b30-ba63-4b82-9fbb-a26ae7dd9fe0\",\"type\":\"Rect\"},\"hover_glyph\":null,\"nonselection_glyph\":null,\"selection_glyph\":null},\"id\":\"5dbf2154-d9a8-400e-97dc-a548f0749936\",\"type\":\"GlyphRenderer\"},{\"attributes\":{\"fill_alpha\":{\"field\":\"fill_alpha\"},\"fill_color\":{\"field\":\"color\"},\"height\":{\"field\":\"height\",\"units\":\"data\"},\"line_color\":{\"field\":\"line_color\"},\"width\":{\"field\":\"width\",\"units\":\"data\"},\"x\":{\"field\":\"x\"},\"y\":{\"field\":\"y\"}},\"id\":\"cfe84419-81a0-41a1-bc43-7595d9f2116d\",\"type\":\"Rect\"},{\"attributes\":{\"fill_alpha\":{\"field\":\"fill_alpha\"},\"fill_color\":{\"field\":\"color\"},\"height\":{\"field\":\"height\",\"units\":\"data\"},\"line_color\":{\"field\":\"line_color\"},\"width\":{\"field\":\"width\",\"units\":\"data\"},\"x\":{\"field\":\"x\"},\"y\":{\"field\":\"y\"}},\"id\":\"2dde2a60-497c-4029-b554-fb14985359b2\",\"type\":\"Rect\"},{\"attributes\":{\"fill_alpha\":{\"field\":\"fill_alpha\"},\"fill_color\":{\"field\":\"color\"},\"height\":{\"field\":\"height\",\"units\":\"data\"},\"line_color\":{\"field\":\"line_color\"},\"width\":{\"field\":\"width\",\"units\":\"data\"},\"x\":{\"field\":\"x\"},\"y\":{\"field\":\"y\"}},\"id\":\"0b4a365c-5acf-41bf-a942-e3fcc2de6fe1\",\"type\":\"Rect\"},{\"attributes\":{\"location\":\"top_left\",\"plot\":{\"id\":\"9b7df24b-6b97-41c2-b018-87c4bf0a2ff4\",\"subtype\":\"Chart\",\"type\":\"Plot\"}},\"id\":\"4fed6c7e-d364-4da9-aa8b-cfeb0967788c\",\"type\":\"Legend\"},{\"attributes\":{\"data_source\":{\"id\":\"4cd8079a-86fb-43b4-a480-be74dbbde778\",\"type\":\"ColumnDataSource\"},\"glyph\":{\"id\":\"def60393-a8b6-4d52-bdac-55945a508e4f\",\"type\":\"Rect\"},\"hover_glyph\":null,\"nonselection_glyph\":null,\"selection_glyph\":null},\"id\":\"313001b1-d54b-4f65-9a3b-c44724678e04\",\"type\":\"GlyphRenderer\"},{\"attributes\":{\"data_source\":{\"id\":\"92550a9e-dbc6-4329-9bc2-d74ab2213396\",\"type\":\"ColumnDataSource\"},\"glyph\":{\"id\":\"09fe4c64-03f8-4656-89ab-9e8a9595bc8e\",\"type\":\"Rect\"},\"hover_glyph\":null,\"nonselection_glyph\":null,\"selection_glyph\":null},\"id\":\"734b11ff-44bc-4669-bbd2-51e3bff1dbaa\",\"type\":\"GlyphRenderer\"},{\"attributes\":{\"callback\":null,\"column_names\":[\"color\",\"label\",\"height\",\"width\",\"fill_alpha\",\"y\",\"line_alpha\",\"x\",\"line_color\"],\"data\":{\"chart_index\":[\"(0.379400, 0.400800]\"],\"color\":[\"LightSlateGray\"],\"fill_alpha\":[0.8],\"height\":[9.0],\"label\":[\"(0.379400, 0.400800]\"],\"line_alpha\":[1.0],\"line_color\":[\"black\"],\"width\":[0.02140000000000003],\"x\":[\"0.3901\"],\"y\":[4.5]}},\"id\":\"5a36af37-661a-4113-943b-018c51368340\",\"type\":\"ColumnDataSource\"},{\"attributes\":{\"fill_alpha\":{\"field\":\"fill_alpha\"},\"fill_color\":{\"field\":\"color\"},\"height\":{\"field\":\"height\",\"units\":\"data\"},\"line_color\":{\"field\":\"line_color\"},\"width\":{\"field\":\"width\",\"units\":\"data\"},\"x\":{\"field\":\"x\"},\"y\":{\"field\":\"y\"}},\"id\":\"89bccd8e-cbf6-40a4-b299-407727ad2e7f\",\"type\":\"Rect\"},{\"attributes\":{\"data_source\":{\"id\":\"e4eeb82c-d256-48b9-bd1b-d19244914b02\",\"type\":\"ColumnDataSource\"},\"glyph\":{\"id\":\"2dde2a60-497c-4029-b554-fb14985359b2\",\"type\":\"Rect\"},\"hover_glyph\":null,\"nonselection_glyph\":null,\"selection_glyph\":null},\"id\":\"8c040c1c-4421-4ac7-bdd2-ddb3d5d98fc2\",\"type\":\"GlyphRenderer\"},{\"attributes\":{\"fill_alpha\":{\"field\":\"fill_alpha\"},\"fill_color\":{\"field\":\"color\"},\"height\":{\"field\":\"height\",\"units\":\"data\"},\"line_color\":{\"field\":\"line_color\"},\"width\":{\"field\":\"width\",\"units\":\"data\"},\"x\":{\"field\":\"x\"},\"y\":{\"field\":\"y\"}},\"id\":\"d5b588fe-0809-4227-9ca6-1cc88826f462\",\"type\":\"Rect\"},{\"attributes\":{\"callback\":null,\"column_names\":[\"color\",\"label\",\"height\",\"width\",\"fill_alpha\",\"y\",\"line_alpha\",\"x\",\"line_color\"],\"data\":{\"chart_index\":[\"(0.871600, 0.893000]\"],\"color\":[\"LightSlateGray\"],\"fill_alpha\":[0.8],\"height\":[82.0],\"label\":[\"(0.871600, 0.893000]\"],\"line_alpha\":[1.0],\"line_color\":[\"black\"],\"width\":[0.021399999999999975],\"x\":[\"0.8823000000000001\"],\"y\":[41.0]}},\"id\":\"3bde2293-0a05-4ca0-a1c0-335cbe7dda9a\",\"type\":\"ColumnDataSource\"},{\"attributes\":{\"callback\":null,\"column_names\":[\"color\",\"label\",\"height\",\"width\",\"fill_alpha\",\"y\",\"line_alpha\",\"x\",\"line_color\"],\"data\":{\"chart_index\":[\"(0.786000, 0.807400]\"],\"color\":[\"LightSlateGray\"],\"fill_alpha\":[0.8],\"height\":[42.0],\"label\":[\"(0.786000, 0.807400]\"],\"line_alpha\":[1.0],\"line_color\":[\"black\"],\"width\":[0.021399999999999864],\"x\":[\"0.7967\"],\"y\":[21.0]}},\"id\":\"37a70703-1ca8-44a2-acc1-814379deec21\",\"type\":\"ColumnDataSource\"},{\"attributes\":{\"callback\":null,\"column_names\":[\"color\",\"label\",\"height\",\"width\",\"fill_alpha\",\"y\",\"line_alpha\",\"x\",\"line_color\"],\"data\":{\"chart_index\":[\"(0.850200, 0.871600]\"],\"color\":[\"LightSlateGray\"],\"fill_alpha\":[0.8],\"height\":[63.0],\"label\":[\"(0.850200, 0.871600]\"],\"line_alpha\":[1.0],\"line_color\":[\"black\"],\"width\":[0.021399999999999975],\"x\":[\"0.8609\"],\"y\":[31.5]}},\"id\":\"d89fc810-d08d-4f01-a2be-e4311401998d\",\"type\":\"ColumnDataSource\"},{\"attributes\":{\"data_source\":{\"id\":\"9d79a8db-b8c3-4b14-82b1-167d27651d9d\",\"type\":\"ColumnDataSource\"},\"glyph\":{\"id\":\"c79b9e8c-fb45-4ad2-b712-33ad2df6775a\",\"type\":\"Rect\"},\"hover_glyph\":null,\"nonselection_glyph\":null,\"selection_glyph\":null},\"id\":\"64ad8cda-cf0d-4dde-b064-79be6468d3f6\",\"type\":\"GlyphRenderer\"},{\"attributes\":{\"callback\":null,\"column_names\":[\"color\",\"label\",\"height\",\"width\",\"fill_alpha\",\"y\",\"line_alpha\",\"x\",\"line_color\"],\"data\":{\"chart_index\":[\"(0.957200, 0.978600]\"],\"color\":[\"LightSlateGray\"],\"fill_alpha\":[0.8],\"height\":[633.0],\"label\":[\"(0.957200, 0.978600]\"],\"line_alpha\":[1.0],\"line_color\":[\"black\"],\"width\":[0.021399999999999975],\"x\":[\"0.9679\"],\"y\":[316.5]}},\"id\":\"9bca3544-4ccf-4367-ba37-c91e652a5bc1\",\"type\":\"ColumnDataSource\"},{\"attributes\":{\"data_source\":{\"id\":\"86cc4d85-91b8-4b32-baf1-d78ae02fa8d0\",\"type\":\"ColumnDataSource\"},\"glyph\":{\"id\":\"347f7343-71c9-4a9a-ad6b-dd5ba741023d\",\"type\":\"Rect\"},\"hover_glyph\":null,\"nonselection_glyph\":null,\"selection_glyph\":null},\"id\":\"b0f6e4b1-313a-4028-b949-63fe7f21bb52\",\"type\":\"GlyphRenderer\"},{\"attributes\":{},\"id\":\"d88eb8d9-e641-4abd-9e42-1dda190923ae\",\"type\":\"BasicTickFormatter\"},{\"attributes\":{\"fill_alpha\":{\"field\":\"fill_alpha\"},\"fill_color\":{\"field\":\"color\"},\"height\":{\"field\":\"height\",\"units\":\"data\"},\"line_color\":{\"field\":\"line_color\"},\"width\":{\"field\":\"width\",\"units\":\"data\"},\"x\":{\"field\":\"x\"},\"y\":{\"field\":\"y\"}},\"id\":\"347f7343-71c9-4a9a-ad6b-dd5ba741023d\",\"type\":\"Rect\"},{\"attributes\":{\"fill_alpha\":{\"field\":\"fill_alpha\"},\"fill_color\":{\"field\":\"color\"},\"height\":{\"field\":\"height\",\"units\":\"data\"},\"line_color\":{\"field\":\"line_color\"},\"width\":{\"field\":\"width\",\"units\":\"data\"},\"x\":{\"field\":\"x\"},\"y\":{\"field\":\"y\"}},\"id\":\"11e33585-4836-4664-a51b-6b8685d6aa60\",\"type\":\"Rect\"},{\"attributes\":{\"data_source\":{\"id\":\"2c3fca77-f45a-4682-b4d3-b3c9b3a21ab3\",\"type\":\"ColumnDataSource\"},\"glyph\":{\"id\":\"7f445c0e-c149-4b42-aa5d-d9219ca60c30\",\"type\":\"Rect\"},\"hover_glyph\":null,\"nonselection_glyph\":null,\"selection_glyph\":null},\"id\":\"86446e4e-8248-4714-8905-aa4525258132\",\"type\":\"GlyphRenderer\"},{\"attributes\":{\"callback\":null,\"column_names\":[\"color\",\"label\",\"height\",\"width\",\"fill_alpha\",\"y\",\"line_alpha\",\"x\",\"line_color\"],\"data\":{\"chart_index\":[\"(0.443600, 0.465000]\"],\"color\":[\"LightSlateGray\"],\"fill_alpha\":[0.8],\"height\":[16.0],\"label\":[\"(0.443600, 0.465000]\"],\"line_alpha\":[1.0],\"line_color\":[\"black\"],\"width\":[0.021399999999999975],\"x\":[\"0.45430000000000004\"],\"y\":[8.0]}},\"id\":\"9830aa89-6ba7-4530-b8bc-814e1845d792\",\"type\":\"ColumnDataSource\"},{\"attributes\":{\"data_source\":{\"id\":\"7b4fbbe9-8662-4e9c-b684-94181fbd6444\",\"type\":\"ColumnDataSource\"},\"glyph\":{\"id\":\"6ed1cd87-44f3-40c0-94c4-5a0bf31ffbc9\",\"type\":\"Rect\"},\"hover_glyph\":null,\"nonselection_glyph\":null,\"selection_glyph\":null},\"id\":\"2e136d38-23fb-4025-816c-9137144a0f3e\",\"type\":\"GlyphRenderer\"},{\"attributes\":{\"data_source\":{\"id\":\"3bde2293-0a05-4ca0-a1c0-335cbe7dda9a\",\"type\":\"ColumnDataSource\"},\"glyph\":{\"id\":\"02e8031f-4553-4b5a-8ba7-7052c99c21a2\",\"type\":\"Rect\"},\"hover_glyph\":null,\"nonselection_glyph\":null,\"selection_glyph\":null},\"id\":\"8015fdb3-d3ae-4e0d-ac6a-ddf9a2624f92\",\"type\":\"GlyphRenderer\"},{\"attributes\":{\"data_source\":{\"id\":\"27bc7657-c2de-40ea-aaed-acef375b1a81\",\"type\":\"ColumnDataSource\"},\"glyph\":{\"id\":\"a31fd52f-24cb-4422-b7aa-8269bde2e2e0\",\"type\":\"Rect\"},\"hover_glyph\":null,\"nonselection_glyph\":null,\"selection_glyph\":null},\"id\":\"386566f0-d43d-44b7-8f1d-23103ac7d17b\",\"type\":\"GlyphRenderer\"},{\"attributes\":{\"callback\":null,\"column_names\":[\"color\",\"label\",\"height\",\"width\",\"fill_alpha\",\"y\",\"line_alpha\",\"x\",\"line_color\"],\"data\":{\"chart_index\":[\"(0.743200, 0.764600]\"],\"color\":[\"LightSlateGray\"],\"fill_alpha\":[0.8],\"height\":[48.0],\"label\":[\"(0.743200, 0.764600]\"],\"line_alpha\":[1.0],\"line_color\":[\"black\"],\"width\":[0.021399999999999975],\"x\":[\"0.7539\"],\"y\":[24.0]}},\"id\":\"cdab1e03-5e4c-4c63-9f6a-e19c2604a621\",\"type\":\"ColumnDataSource\"},{\"attributes\":{\"fill_alpha\":{\"field\":\"fill_alpha\"},\"fill_color\":{\"field\":\"color\"},\"height\":{\"field\":\"height\",\"units\":\"data\"},\"line_color\":{\"field\":\"line_color\"},\"width\":{\"field\":\"width\",\"units\":\"data\"},\"x\":{\"field\":\"x\"},\"y\":{\"field\":\"y\"}},\"id\":\"22ef2278-19c0-40d7-8be1-339ff1a7cc46\",\"type\":\"Rect\"},{\"attributes\":{\"fill_alpha\":{\"field\":\"fill_alpha\"},\"fill_color\":{\"field\":\"color\"},\"height\":{\"field\":\"height\",\"units\":\"data\"},\"line_color\":{\"field\":\"line_color\"},\"width\":{\"field\":\"width\",\"units\":\"data\"},\"x\":{\"field\":\"x\"},\"y\":{\"field\":\"y\"}},\"id\":\"a31fd52f-24cb-4422-b7aa-8269bde2e2e0\",\"type\":\"Rect\"},{\"attributes\":{\"callback\":null,\"column_names\":[\"color\",\"label\",\"height\",\"width\",\"fill_alpha\",\"y\",\"line_alpha\",\"x\",\"line_color\"],\"data\":{\"chart_index\":[\"(0.721800, 0.743200]\"],\"color\":[\"LightSlateGray\"],\"fill_alpha\":[0.8],\"height\":[46.0],\"label\":[\"(0.721800, 0.743200]\"],\"line_alpha\":[1.0],\"line_color\":[\"black\"],\"width\":[0.021399999999999975],\"x\":[\"0.7324999999999999\"],\"y\":[23.0]}},\"id\":\"a598299d-c2e2-4d3f-a7ca-3c4e5468cc9f\",\"type\":\"ColumnDataSource\"},{\"attributes\":{\"fill_alpha\":{\"field\":\"fill_alpha\"},\"fill_color\":{\"field\":\"color\"},\"height\":{\"field\":\"height\",\"units\":\"data\"},\"line_color\":{\"field\":\"line_color\"},\"width\":{\"field\":\"width\",\"units\":\"data\"},\"x\":{\"field\":\"x\"},\"y\":{\"field\":\"y\"}},\"id\":\"726c5b30-ba63-4b82-9fbb-a26ae7dd9fe0\",\"type\":\"Rect\"},{\"attributes\":{\"fill_alpha\":{\"field\":\"fill_alpha\"},\"fill_color\":{\"field\":\"color\"},\"height\":{\"field\":\"height\",\"units\":\"data\"},\"line_color\":{\"field\":\"line_color\"},\"width\":{\"field\":\"width\",\"units\":\"data\"},\"x\":{\"field\":\"x\"},\"y\":{\"field\":\"y\"}},\"id\":\"e4293e5d-62b1-4ee2-8497-5fa541fd62c2\",\"type\":\"Rect\"},{\"attributes\":{\"fill_alpha\":{\"field\":\"fill_alpha\"},\"fill_color\":{\"field\":\"color\"},\"height\":{\"field\":\"height\",\"units\":\"data\"},\"line_color\":{\"field\":\"line_color\"},\"width\":{\"field\":\"width\",\"units\":\"data\"},\"x\":{\"field\":\"x\"},\"y\":{\"field\":\"y\"}},\"id\":\"8d15325b-5646-4277-82ea-d16ee63a8c09\",\"type\":\"Rect\"},{\"attributes\":{\"fill_alpha\":{\"field\":\"fill_alpha\"},\"fill_color\":{\"field\":\"color\"},\"height\":{\"field\":\"height\",\"units\":\"data\"},\"line_color\":{\"field\":\"line_color\"},\"width\":{\"field\":\"width\",\"units\":\"data\"},\"x\":{\"field\":\"x\"},\"y\":{\"field\":\"y\"}},\"id\":\"9445704d-8a2f-42ab-adc1-7dfd54a324a9\",\"type\":\"Rect\"},{\"attributes\":{\"callback\":null,\"column_names\":[\"color\",\"label\",\"height\",\"width\",\"fill_alpha\",\"y\",\"line_alpha\",\"x\",\"line_color\"],\"data\":{\"chart_index\":[\"(0.828800, 0.850200]\"],\"color\":[\"LightSlateGray\"],\"fill_alpha\":[0.8],\"height\":[57.0],\"label\":[\"(0.828800, 0.850200]\"],\"line_alpha\":[1.0],\"line_color\":[\"black\"],\"width\":[0.021399999999999975],\"x\":[\"0.8394999999999999\"],\"y\":[28.5]}},\"id\":\"3be25711-ce4d-4860-a664-64bb52d667ea\",\"type\":\"ColumnDataSource\"},{\"attributes\":{\"callback\":null,\"column_names\":[\"color\",\"label\",\"height\",\"width\",\"fill_alpha\",\"y\",\"line_alpha\",\"x\",\"line_color\"],\"data\":{\"chart_index\":[\"(0.550600, 0.572000]\"],\"color\":[\"LightSlateGray\"],\"fill_alpha\":[0.8],\"height\":[28.0],\"label\":[\"(0.550600, 0.572000]\"],\"line_alpha\":[1.0],\"line_color\":[\"black\"],\"width\":[0.021399999999999975],\"x\":[\"0.5612999999999999\"],\"y\":[14.0]}},\"id\":\"2c3fca77-f45a-4682-b4d3-b3c9b3a21ab3\",\"type\":\"ColumnDataSource\"},{\"attributes\":{\"callback\":null,\"column_names\":[\"color\",\"label\",\"height\",\"width\",\"fill_alpha\",\"y\",\"line_alpha\",\"x\",\"line_color\"],\"data\":{\"chart_index\":[\"(0.978600, 1.000000]\"],\"color\":[\"LightSlateGray\"],\"fill_alpha\":[0.8],\"height\":[1389.0],\"label\":[\"(0.978600, 1.000000]\"],\"line_alpha\":[1.0],\"line_color\":[\"black\"],\"width\":[0.021400000000000086],\"x\":[\"0.9893000000000001\"],\"y\":[694.5]}},\"id\":\"7b4fbbe9-8662-4e9c-b684-94181fbd6444\",\"type\":\"ColumnDataSource\"},{\"attributes\":{\"fill_alpha\":{\"field\":\"fill_alpha\"},\"fill_color\":{\"field\":\"color\"},\"height\":{\"field\":\"height\",\"units\":\"data\"},\"line_color\":{\"field\":\"line_color\"},\"width\":{\"field\":\"width\",\"units\":\"data\"},\"x\":{\"field\":\"x\"},\"y\":{\"field\":\"y\"}},\"id\":\"38e2ba4f-3e72-4cc2-a2d4-26cec061fe03\",\"type\":\"Rect\"},{\"attributes\":{\"data_source\":{\"id\":\"30a9b801-3450-4c20-b2b1-879cb1a49061\",\"type\":\"ColumnDataSource\"},\"glyph\":{\"id\":\"89bccd8e-cbf6-40a4-b299-407727ad2e7f\",\"type\":\"Rect\"},\"hover_glyph\":null,\"nonselection_glyph\":null,\"selection_glyph\":null},\"id\":\"4b195ebf-1950-410a-aa7b-7099af4d4695\",\"type\":\"GlyphRenderer\"},{\"attributes\":{\"data_source\":{\"id\":\"12b7c608-d040-4ac3-b542-a73138c15cd9\",\"type\":\"ColumnDataSource\"},\"glyph\":{\"id\":\"28b65ea8-aead-462b-bdb3-081e8164ced1\",\"type\":\"Rect\"},\"hover_glyph\":null,\"nonselection_glyph\":null,\"selection_glyph\":null},\"id\":\"0d6efff9-d50f-44b1-a4fe-64e145f1afa3\",\"type\":\"GlyphRenderer\"},{\"attributes\":{\"data_source\":{\"id\":\"9bca3544-4ccf-4367-ba37-c91e652a5bc1\",\"type\":\"ColumnDataSource\"},\"glyph\":{\"id\":\"0b4a365c-5acf-41bf-a942-e3fcc2de6fe1\",\"type\":\"Rect\"},\"hover_glyph\":null,\"nonselection_glyph\":null,\"selection_glyph\":null},\"id\":\"08a08e12-62c1-4d61-a969-eaab130d5400\",\"type\":\"GlyphRenderer\"},{\"attributes\":{\"plot\":null,\"text\":\"SVM Normal : Predict Probability\"},\"id\":\"d926848e-d50c-4f63-a795-7f3ffd45a603\",\"type\":\"Title\"},{\"attributes\":{\"active_drag\":\"auto\",\"active_scroll\":\"auto\",\"active_tap\":\"auto\",\"tools\":[{\"id\":\"7ae4f95d-f488-4298-8f37-f4ef2dec31bb\",\"type\":\"PanTool\"},{\"id\":\"f2192ca3-a751-475f-ab15-22c8e1475464\",\"type\":\"WheelZoomTool\"},{\"id\":\"1f4b9272-96b9-4498-85ba-896629d82909\",\"type\":\"BoxZoomTool\"},{\"id\":\"e2b49535-769a-4569-aa57-47e9d66e89a6\",\"type\":\"SaveTool\"},{\"id\":\"4bfdd2d5-9487-475d-9b87-9781d6fcc70c\",\"type\":\"ResetTool\"},{\"id\":\"09928506-85b7-421a-852f-b422bb9534a9\",\"type\":\"HelpTool\"}]},\"id\":\"a171a4d5-ee5d-40b2-8af9-6b4e0a596778\",\"type\":\"Toolbar\"},{\"attributes\":{\"data_source\":{\"id\":\"716fe1d2-05a7-468d-8a34-af2adecde31c\",\"type\":\"ColumnDataSource\"},\"glyph\":{\"id\":\"8d15325b-5646-4277-82ea-d16ee63a8c09\",\"type\":\"Rect\"},\"hover_glyph\":null,\"nonselection_glyph\":null,\"selection_glyph\":null},\"id\":\"04a2f28e-997e-4547-9798-25f2abdfdd88\",\"type\":\"GlyphRenderer\"},{\"attributes\":{\"data_source\":{\"id\":\"a598299d-c2e2-4d3f-a7ca-3c4e5468cc9f\",\"type\":\"ColumnDataSource\"},\"glyph\":{\"id\":\"22ef2278-19c0-40d7-8be1-339ff1a7cc46\",\"type\":\"Rect\"},\"hover_glyph\":null,\"nonselection_glyph\":null,\"selection_glyph\":null},\"id\":\"6de81860-cdca-4bee-a03b-12d64486d2b1\",\"type\":\"GlyphRenderer\"},{\"attributes\":{\"callback\":null,\"column_names\":[\"color\",\"label\",\"height\",\"width\",\"fill_alpha\",\"y\",\"line_alpha\",\"x\",\"line_color\"],\"data\":{\"chart_index\":[\"(0.700400, 0.721800]\"],\"color\":[\"LightSlateGray\"],\"fill_alpha\":[0.8],\"height\":[24.0],\"label\":[\"(0.700400, 0.721800]\"],\"line_alpha\":[1.0],\"line_color\":[\"black\"],\"width\":[0.021400000000000086],\"x\":[\"0.7111000000000001\"],\"y\":[12.0]}},\"id\":\"dabd9e1d-1953-453a-8af3-ad0473206d69\",\"type\":\"ColumnDataSource\"},{\"attributes\":{\"fill_alpha\":{\"field\":\"fill_alpha\"},\"fill_color\":{\"field\":\"color\"},\"height\":{\"field\":\"height\",\"units\":\"data\"},\"line_color\":{\"field\":\"line_color\"},\"width\":{\"field\":\"width\",\"units\":\"data\"},\"x\":{\"field\":\"x\"},\"y\":{\"field\":\"y\"}},\"id\":\"40265867-26b0-4117-abb1-e1672036b84a\",\"type\":\"Rect\"},{\"attributes\":{\"data_source\":{\"id\":\"1fc1184c-11d2-40eb-b1ae-97278057dbee\",\"type\":\"ColumnDataSource\"},\"glyph\":{\"id\":\"40265867-26b0-4117-abb1-e1672036b84a\",\"type\":\"Rect\"},\"hover_glyph\":null,\"nonselection_glyph\":null,\"selection_glyph\":null},\"id\":\"6a626152-4e96-498a-a85d-32027315bde4\",\"type\":\"GlyphRenderer\"},{\"attributes\":{\"data_source\":{\"id\":\"b0af194a-4219-42b3-b727-1e65bc5472b4\",\"type\":\"ColumnDataSource\"},\"glyph\":{\"id\":\"38e2ba4f-3e72-4cc2-a2d4-26cec061fe03\",\"type\":\"Rect\"},\"hover_glyph\":null,\"nonselection_glyph\":null,\"selection_glyph\":null},\"id\":\"201367b5-62d2-44de-bcc7-c76579c3e3a7\",\"type\":\"GlyphRenderer\"},{\"attributes\":{\"below\":[{\"id\":\"47da78e4-b6ac-4bf7-be9d-de16dadfa839\",\"type\":\"LinearAxis\"}],\"css_classes\":null,\"left\":[{\"id\":\"1d8e57ac-7920-4820-8225-90b4e481cfd9\",\"type\":\"LinearAxis\"}],\"renderers\":[{\"id\":\"2aac5f12-42f2-4c31-a884-4c58e8bd70d2\",\"type\":\"BoxAnnotation\"},{\"id\":\"f24959ac-5e72-4057-a5ce-4635b81a0978\",\"type\":\"GlyphRenderer\"},{\"id\":\"b4a9848d-99de-4da3-9677-f6c92817bf7c\",\"type\":\"GlyphRenderer\"},{\"id\":\"8c040c1c-4421-4ac7-bdd2-ddb3d5d98fc2\",\"type\":\"GlyphRenderer\"},{\"id\":\"0e5396c1-36b1-4d70-b5e3-422c8bc3dfdf\",\"type\":\"GlyphRenderer\"},{\"id\":\"89ee0d45-d912-4e47-8cd4-309c37addd36\",\"type\":\"GlyphRenderer\"},{\"id\":\"734b11ff-44bc-4669-bbd2-51e3bff1dbaa\",\"type\":\"GlyphRenderer\"},{\"id\":\"6a626152-4e96-498a-a85d-32027315bde4\",\"type\":\"GlyphRenderer\"},{\"id\":\"cfccd0bc-8da4-4b1a-a671-a47dfb7dc0cd\",\"type\":\"GlyphRenderer\"},{\"id\":\"1c162b56-9365-4a20-a726-da805cfd71f3\",\"type\":\"GlyphRenderer\"},{\"id\":\"86446e4e-8248-4714-8905-aa4525258132\",\"type\":\"GlyphRenderer\"},{\"id\":\"9de91226-b7b7-4509-bc4a-c8846c83f9b7\",\"type\":\"GlyphRenderer\"},{\"id\":\"0d6efff9-d50f-44b1-a4fe-64e145f1afa3\",\"type\":\"GlyphRenderer\"},{\"id\":\"04a2f28e-997e-4547-9798-25f2abdfdd88\",\"type\":\"GlyphRenderer\"},{\"id\":\"5dbf2154-d9a8-400e-97dc-a548f0749936\",\"type\":\"GlyphRenderer\"},{\"id\":\"e39eeebe-3fac-4b29-8613-2b0c68b7eec7\",\"type\":\"GlyphRenderer\"},{\"id\":\"64ad8cda-cf0d-4dde-b064-79be6468d3f6\",\"type\":\"GlyphRenderer\"},{\"id\":\"4333f108-aac4-41d3-bb12-0325a1d0a9bb\",\"type\":\"GlyphRenderer\"},{\"id\":\"6de81860-cdca-4bee-a03b-12d64486d2b1\",\"type\":\"GlyphRenderer\"},{\"id\":\"06d82d83-7d7e-4e10-8f49-f663f59addb0\",\"type\":\"GlyphRenderer\"},{\"id\":\"b0f6e4b1-313a-4028-b949-63fe7f21bb52\",\"type\":\"GlyphRenderer\"},{\"id\":\"f6346b13-9738-42c3-9d9b-8b2d32a214fe\",\"type\":\"GlyphRenderer\"},{\"id\":\"201367b5-62d2-44de-bcc7-c76579c3e3a7\",\"type\":\"GlyphRenderer\"},{\"id\":\"ac66f3eb-5635-4ba7-8513-6000ae03a6be\",\"type\":\"GlyphRenderer\"},{\"id\":\"d393ec2a-3c5b-4b1c-98e7-b7c29ffdd6eb\",\"type\":\"GlyphRenderer\"},{\"id\":\"8015fdb3-d3ae-4e0d-ac6a-ddf9a2624f92\",\"type\":\"GlyphRenderer\"},{\"id\":\"4b195ebf-1950-410a-aa7b-7099af4d4695\",\"type\":\"GlyphRenderer\"},{\"id\":\"313001b1-d54b-4f65-9a3b-c44724678e04\",\"type\":\"GlyphRenderer\"},{\"id\":\"386566f0-d43d-44b7-8f1d-23103ac7d17b\",\"type\":\"GlyphRenderer\"},{\"id\":\"08a08e12-62c1-4d61-a969-eaab130d5400\",\"type\":\"GlyphRenderer\"},{\"id\":\"2e136d38-23fb-4025-816c-9137144a0f3e\",\"type\":\"GlyphRenderer\"},{\"id\":\"4fed6c7e-d364-4da9-aa8b-cfeb0967788c\",\"type\":\"Legend\"},{\"id\":\"47da78e4-b6ac-4bf7-be9d-de16dadfa839\",\"type\":\"LinearAxis\"},{\"id\":\"1d8e57ac-7920-4820-8225-90b4e481cfd9\",\"type\":\"LinearAxis\"},{\"id\":\"aa021c42-917b-4782-a07a-a10a96b5422d\",\"type\":\"Grid\"}],\"title\":{\"id\":\"d926848e-d50c-4f63-a795-7f3ffd45a603\",\"type\":\"Title\"},\"tool_events\":{\"id\":\"c9c1bfb3-fc6a-4b30-a05f-9b59023cf1d9\",\"type\":\"ToolEvents\"},\"toolbar\":{\"id\":\"a171a4d5-ee5d-40b2-8af9-6b4e0a596778\",\"type\":\"Toolbar\"},\"x_mapper_type\":\"auto\",\"x_range\":{\"id\":\"0295ba64-ce5b-4b96-b692-a9a02bbf4dc1\",\"type\":\"Range1d\"},\"y_mapper_type\":\"auto\",\"y_range\":{\"id\":\"ebc19a23-9694-4305-9f9e-bebdd5e4e45e\",\"type\":\"Range1d\"}},\"id\":\"9b7df24b-6b97-41c2-b018-87c4bf0a2ff4\",\"subtype\":\"Chart\",\"type\":\"Plot\"},{\"attributes\":{\"callback\":null,\"column_names\":[\"color\",\"label\",\"height\",\"width\",\"fill_alpha\",\"y\",\"line_alpha\",\"x\",\"line_color\"],\"data\":{\"chart_index\":[\"(0.486400, 0.507800]\"],\"color\":[\"LightSlateGray\"],\"fill_alpha\":[0.8],\"height\":[22.0],\"label\":[\"(0.486400, 0.507800]\"],\"line_alpha\":[1.0],\"line_color\":[\"black\"],\"width\":[0.021400000000000086],\"x\":[\"0.4971\"],\"y\":[11.0]}},\"id\":\"1fc1184c-11d2-40eb-b1ae-97278057dbee\",\"type\":\"ColumnDataSource\"},{\"attributes\":{\"fill_alpha\":{\"field\":\"fill_alpha\"},\"fill_color\":{\"field\":\"color\"},\"height\":{\"field\":\"height\",\"units\":\"data\"},\"line_color\":{\"field\":\"line_color\"},\"width\":{\"field\":\"width\",\"units\":\"data\"},\"x\":{\"field\":\"x\"},\"y\":{\"field\":\"y\"}},\"id\":\"2229c159-f9e3-4bcb-99e1-bd514705ae44\",\"type\":\"Rect\"},{\"attributes\":{},\"id\":\"59cfb521-6e46-48a4-acea-74fc4df7a9d0\",\"type\":\"BasicTicker\"},{\"attributes\":{\"plot\":{\"id\":\"9b7df24b-6b97-41c2-b018-87c4bf0a2ff4\",\"subtype\":\"Chart\",\"type\":\"Plot\"}},\"id\":\"4bfdd2d5-9487-475d-9b87-9781d6fcc70c\",\"type\":\"ResetTool\"},{\"attributes\":{\"data_source\":{\"id\":\"062dcff1-2b63-4186-acce-ec7d888d4b47\",\"type\":\"ColumnDataSource\"},\"glyph\":{\"id\":\"7452c69b-2b59-442b-ba36-534d362d3989\",\"type\":\"Rect\"},\"hover_glyph\":null,\"nonselection_glyph\":null,\"selection_glyph\":null},\"id\":\"e39eeebe-3fac-4b29-8613-2b0c68b7eec7\",\"type\":\"GlyphRenderer\"},{\"attributes\":{\"callback\":null,\"column_names\":[\"color\",\"label\",\"height\",\"width\",\"fill_alpha\",\"y\",\"line_alpha\",\"x\",\"line_color\"],\"data\":{\"chart_index\":[\"(0.636200, 0.657600]\"],\"color\":[\"LightSlateGray\"],\"fill_alpha\":[0.8],\"height\":[40.0],\"label\":[\"(0.636200, 0.657600]\"],\"line_alpha\":[1.0],\"line_color\":[\"black\"],\"width\":[0.021399999999999975],\"x\":[\"0.6469\"],\"y\":[20.0]}},\"id\":\"5411220d-6dc2-4409-ac9b-3e75e8ad60f9\",\"type\":\"ColumnDataSource\"},{\"attributes\":{\"fill_alpha\":{\"field\":\"fill_alpha\"},\"fill_color\":{\"field\":\"color\"},\"height\":{\"field\":\"height\",\"units\":\"data\"},\"line_color\":{\"field\":\"line_color\"},\"width\":{\"field\":\"width\",\"units\":\"data\"},\"x\":{\"field\":\"x\"},\"y\":{\"field\":\"y\"}},\"id\":\"6ed1cd87-44f3-40c0-94c4-5a0bf31ffbc9\",\"type\":\"Rect\"},{\"attributes\":{\"callback\":null,\"column_names\":[\"color\",\"label\",\"height\",\"width\",\"fill_alpha\",\"y\",\"line_alpha\",\"x\",\"line_color\"],\"data\":{\"chart_index\":[\"(0.893000, 0.914400]\"],\"color\":[\"LightSlateGray\"],\"fill_alpha\":[0.8],\"height\":[113.0],\"label\":[\"(0.893000, 0.914400]\"],\"line_alpha\":[1.0],\"line_color\":[\"black\"],\"width\":[0.021400000000000086],\"x\":[\"0.9037\"],\"y\":[56.5]}},\"id\":\"30a9b801-3450-4c20-b2b1-879cb1a49061\",\"type\":\"ColumnDataSource\"},{\"attributes\":{\"fill_alpha\":{\"field\":\"fill_alpha\"},\"fill_color\":{\"field\":\"color\"},\"height\":{\"field\":\"height\",\"units\":\"data\"},\"line_color\":{\"field\":\"line_color\"},\"width\":{\"field\":\"width\",\"units\":\"data\"},\"x\":{\"field\":\"x\"},\"y\":{\"field\":\"y\"}},\"id\":\"ac531d54-1a66-4e57-b2b6-55dcf4666423\",\"type\":\"Rect\"},{\"attributes\":{\"fill_alpha\":{\"field\":\"fill_alpha\"},\"fill_color\":{\"field\":\"color\"},\"height\":{\"field\":\"height\",\"units\":\"data\"},\"line_color\":{\"field\":\"line_color\"},\"width\":{\"field\":\"width\",\"units\":\"data\"},\"x\":{\"field\":\"x\"},\"y\":{\"field\":\"y\"}},\"id\":\"02e8031f-4553-4b5a-8ba7-7052c99c21a2\",\"type\":\"Rect\"},{\"attributes\":{\"callback\":null,\"column_names\":[\"color\",\"label\",\"height\",\"width\",\"fill_alpha\",\"y\",\"line_alpha\",\"x\",\"line_color\"],\"data\":{\"chart_index\":[\"(0.614800, 0.636200]\"],\"color\":[\"LightSlateGray\"],\"fill_alpha\":[0.8],\"height\":[32.0],\"label\":[\"(0.614800, 0.636200]\"],\"line_alpha\":[1.0],\"line_color\":[\"black\"],\"width\":[0.021399999999999975],\"x\":[\"0.6255\"],\"y\":[16.0]}},\"id\":\"716fe1d2-05a7-468d-8a34-af2adecde31c\",\"type\":\"ColumnDataSource\"},{\"attributes\":{\"plot\":{\"id\":\"9b7df24b-6b97-41c2-b018-87c4bf0a2ff4\",\"subtype\":\"Chart\",\"type\":\"Plot\"}},\"id\":\"7ae4f95d-f488-4298-8f37-f4ef2dec31bb\",\"type\":\"PanTool\"},{\"attributes\":{\"plot\":{\"id\":\"9b7df24b-6b97-41c2-b018-87c4bf0a2ff4\",\"subtype\":\"Chart\",\"type\":\"Plot\"}},\"id\":\"f2192ca3-a751-475f-ab15-22c8e1475464\",\"type\":\"WheelZoomTool\"},{\"attributes\":{\"bottom_units\":\"screen\",\"fill_alpha\":{\"value\":0.5},\"fill_color\":{\"value\":\"lightgrey\"},\"left_units\":\"screen\",\"level\":\"overlay\",\"line_alpha\":{\"value\":1.0},\"line_color\":{\"value\":\"black\"},\"line_dash\":[4,4],\"line_width\":{\"value\":2},\"plot\":null,\"render_mode\":\"css\",\"right_units\":\"screen\",\"top_units\":\"screen\"},\"id\":\"2aac5f12-42f2-4c31-a884-4c58e8bd70d2\",\"type\":\"BoxAnnotation\"},{\"attributes\":{\"data_source\":{\"id\":\"3be25711-ce4d-4860-a664-64bb52d667ea\",\"type\":\"ColumnDataSource\"},\"glyph\":{\"id\":\"ac531d54-1a66-4e57-b2b6-55dcf4666423\",\"type\":\"Rect\"},\"hover_glyph\":null,\"nonselection_glyph\":null,\"selection_glyph\":null},\"id\":\"ac66f3eb-5635-4ba7-8513-6000ae03a6be\",\"type\":\"GlyphRenderer\"},{\"attributes\":{\"fill_alpha\":{\"field\":\"fill_alpha\"},\"fill_color\":{\"field\":\"color\"},\"height\":{\"field\":\"height\",\"units\":\"data\"},\"line_color\":{\"field\":\"line_color\"},\"width\":{\"field\":\"width\",\"units\":\"data\"},\"x\":{\"field\":\"x\"},\"y\":{\"field\":\"y\"}},\"id\":\"09fe4c64-03f8-4656-89ab-9e8a9595bc8e\",\"type\":\"Rect\"},{\"attributes\":{\"fill_alpha\":{\"field\":\"fill_alpha\"},\"fill_color\":{\"field\":\"color\"},\"height\":{\"field\":\"height\",\"units\":\"data\"},\"line_color\":{\"field\":\"line_color\"},\"width\":{\"field\":\"width\",\"units\":\"data\"},\"x\":{\"field\":\"x\"},\"y\":{\"field\":\"y\"}},\"id\":\"c23a8c6a-37ed-41f3-a19f-197ef1f3764f\",\"type\":\"Rect\"},{\"attributes\":{\"plot\":{\"id\":\"9b7df24b-6b97-41c2-b018-87c4bf0a2ff4\",\"subtype\":\"Chart\",\"type\":\"Plot\"}},\"id\":\"09928506-85b7-421a-852f-b422bb9534a9\",\"type\":\"HelpTool\"},{\"attributes\":{\"axis_label\":\"Predict Probability\",\"formatter\":{\"id\":\"d88eb8d9-e641-4abd-9e42-1dda190923ae\",\"type\":\"BasicTickFormatter\"},\"plot\":{\"id\":\"9b7df24b-6b97-41c2-b018-87c4bf0a2ff4\",\"subtype\":\"Chart\",\"type\":\"Plot\"},\"ticker\":{\"id\":\"59cfb521-6e46-48a4-acea-74fc4df7a9d0\",\"type\":\"BasicTicker\"}},\"id\":\"47da78e4-b6ac-4bf7-be9d-de16dadfa839\",\"type\":\"LinearAxis\"},{\"attributes\":{\"data_source\":{\"id\":\"79ec2c05-128a-404e-9585-c40131717dd8\",\"type\":\"ColumnDataSource\"},\"glyph\":{\"id\":\"b7b71dff-37bd-46d8-9d1d-64a806fb82a8\",\"type\":\"Rect\"},\"hover_glyph\":null,\"nonselection_glyph\":null,\"selection_glyph\":null},\"id\":\"9de91226-b7b7-4509-bc4a-c8846c83f9b7\",\"type\":\"GlyphRenderer\"},{\"attributes\":{\"fill_alpha\":{\"field\":\"fill_alpha\"},\"fill_color\":{\"field\":\"color\"},\"height\":{\"field\":\"height\",\"units\":\"data\"},\"line_color\":{\"field\":\"line_color\"},\"width\":{\"field\":\"width\",\"units\":\"data\"},\"x\":{\"field\":\"x\"},\"y\":{\"field\":\"y\"}},\"id\":\"7452c69b-2b59-442b-ba36-534d362d3989\",\"type\":\"Rect\"},{\"attributes\":{\"data_source\":{\"id\":\"374e2411-98d2-4234-98f2-df18fcaae3d1\",\"type\":\"ColumnDataSource\"},\"glyph\":{\"id\":\"dd2b6002-ff35-411c-b948-0717673b9196\",\"type\":\"Rect\"},\"hover_glyph\":null,\"nonselection_glyph\":null,\"selection_glyph\":null},\"id\":\"f24959ac-5e72-4057-a5ce-4635b81a0978\",\"type\":\"GlyphRenderer\"},{\"attributes\":{},\"id\":\"a5152442-ff55-45f7-8fcd-97eeaaed55e7\",\"type\":\"BasicTickFormatter\"},{\"attributes\":{\"callback\":null,\"column_names\":[\"color\",\"label\",\"height\",\"width\",\"fill_alpha\",\"y\",\"line_alpha\",\"x\",\"line_color\"],\"data\":{\"chart_index\":[\"(0.507800, 0.529200]\"],\"color\":[\"LightSlateGray\"],\"fill_alpha\":[0.8],\"height\":[30.0],\"label\":[\"(0.507800, 0.529200]\"],\"line_alpha\":[1.0],\"line_color\":[\"black\"],\"width\":[0.021399999999999975],\"x\":[\"0.5185\"],\"y\":[15.0]}},\"id\":\"fe29763e-f4bd-4ab3-ab3f-b7e412137578\",\"type\":\"ColumnDataSource\"},{\"attributes\":{\"fill_alpha\":{\"field\":\"fill_alpha\"},\"fill_color\":{\"field\":\"color\"},\"height\":{\"field\":\"height\",\"units\":\"data\"},\"line_color\":{\"field\":\"line_color\"},\"width\":{\"field\":\"width\",\"units\":\"data\"},\"x\":{\"field\":\"x\"},\"y\":{\"field\":\"y\"}},\"id\":\"7f445c0e-c149-4b42-aa5d-d9219ca60c30\",\"type\":\"Rect\"},{\"attributes\":{\"fill_alpha\":{\"field\":\"fill_alpha\"},\"fill_color\":{\"field\":\"color\"},\"height\":{\"field\":\"height\",\"units\":\"data\"},\"line_color\":{\"field\":\"line_color\"},\"width\":{\"field\":\"width\",\"units\":\"data\"},\"x\":{\"field\":\"x\"},\"y\":{\"field\":\"y\"}},\"id\":\"def60393-a8b6-4d52-bdac-55945a508e4f\",\"type\":\"Rect\"},{\"attributes\":{},\"id\":\"c9c1bfb3-fc6a-4b30-a05f-9b59023cf1d9\",\"type\":\"ToolEvents\"},{\"attributes\":{\"callback\":null,\"column_names\":[\"color\",\"label\",\"height\",\"width\",\"fill_alpha\",\"y\",\"line_alpha\",\"x\",\"line_color\"],\"data\":{\"chart_index\":[\"[0.358000, 0.379400]\"],\"color\":[\"LightSlateGray\"],\"fill_alpha\":[0.8],\"height\":[3.0],\"label\":[\"[0.358000, 0.379400]\"],\"line_alpha\":[1.0],\"line_color\":[\"black\"],\"width\":[0.021399999999999975],\"x\":[\"0.3687\"],\"y\":[1.5]}},\"id\":\"374e2411-98d2-4234-98f2-df18fcaae3d1\",\"type\":\"ColumnDataSource\"},{\"attributes\":{\"callback\":null,\"column_names\":[\"color\",\"label\",\"height\",\"width\",\"fill_alpha\",\"y\",\"line_alpha\",\"x\",\"line_color\"],\"data\":{\"chart_index\":[\"(0.400800, 0.422200]\"],\"color\":[\"LightSlateGray\"],\"fill_alpha\":[0.8],\"height\":[11.0],\"label\":[\"(0.400800, 0.422200]\"],\"line_alpha\":[1.0],\"line_color\":[\"black\"],\"width\":[0.021399999999999975],\"x\":[\"0.4115\"],\"y\":[5.5]}},\"id\":\"e4eeb82c-d256-48b9-bd1b-d19244914b02\",\"type\":\"ColumnDataSource\"},{\"attributes\":{\"overlay\":{\"id\":\"2aac5f12-42f2-4c31-a884-4c58e8bd70d2\",\"type\":\"BoxAnnotation\"},\"plot\":{\"id\":\"9b7df24b-6b97-41c2-b018-87c4bf0a2ff4\",\"subtype\":\"Chart\",\"type\":\"Plot\"}},\"id\":\"1f4b9272-96b9-4498-85ba-896629d82909\",\"type\":\"BoxZoomTool\"},{\"attributes\":{\"callback\":null,\"end\":1.03395,\"start\":0.32405000000000006},\"id\":\"0295ba64-ce5b-4b96-b692-a9a02bbf4dc1\",\"type\":\"Range1d\"},{\"attributes\":{\"callback\":null,\"column_names\":[\"color\",\"label\",\"height\",\"width\",\"fill_alpha\",\"y\",\"line_alpha\",\"x\",\"line_color\"],\"data\":{\"chart_index\":[\"(0.572000, 0.593400]\"],\"color\":[\"LightSlateGray\"],\"fill_alpha\":[0.8],\"height\":[38.0],\"label\":[\"(0.572000, 0.593400]\"],\"line_alpha\":[1.0],\"line_color\":[\"black\"],\"width\":[0.021399999999999975],\"x\":[\"0.5827\"],\"y\":[19.0]}},\"id\":\"79ec2c05-128a-404e-9585-c40131717dd8\",\"type\":\"ColumnDataSource\"},{\"attributes\":{\"dimension\":1,\"plot\":{\"id\":\"9b7df24b-6b97-41c2-b018-87c4bf0a2ff4\",\"subtype\":\"Chart\",\"type\":\"Plot\"},\"ticker\":{\"id\":\"04c32e5b-7b0d-4e5e-877d-33b9baa928f3\",\"type\":\"BasicTicker\"}},\"id\":\"aa021c42-917b-4782-a07a-a10a96b5422d\",\"type\":\"Grid\"},{\"attributes\":{\"callback\":null,\"column_names\":[\"color\",\"label\",\"height\",\"width\",\"fill_alpha\",\"y\",\"line_alpha\",\"x\",\"line_color\"],\"data\":{\"chart_index\":[\"(0.465000, 0.486400]\"],\"color\":[\"LightSlateGray\"],\"fill_alpha\":[0.8],\"height\":[27.0],\"label\":[\"(0.465000, 0.486400]\"],\"line_alpha\":[1.0],\"line_color\":[\"black\"],\"width\":[0.021399999999999975],\"x\":[\"0.4757\"],\"y\":[13.5]}},\"id\":\"92550a9e-dbc6-4329-9bc2-d74ab2213396\",\"type\":\"ColumnDataSource\"},{\"attributes\":{},\"id\":\"04c32e5b-7b0d-4e5e-877d-33b9baa928f3\",\"type\":\"BasicTicker\"},{\"attributes\":{\"fill_alpha\":{\"field\":\"fill_alpha\"},\"fill_color\":{\"field\":\"color\"},\"height\":{\"field\":\"height\",\"units\":\"data\"},\"line_color\":{\"field\":\"line_color\"},\"width\":{\"field\":\"width\",\"units\":\"data\"},\"x\":{\"field\":\"x\"},\"y\":{\"field\":\"y\"}},\"id\":\"b7b71dff-37bd-46d8-9d1d-64a806fb82a8\",\"type\":\"Rect\"},{\"attributes\":{\"callback\":null,\"column_names\":[\"color\",\"label\",\"height\",\"width\",\"fill_alpha\",\"y\",\"line_alpha\",\"x\",\"line_color\"],\"data\":{\"chart_index\":[\"(0.657600, 0.679000]\"],\"color\":[\"LightSlateGray\"],\"fill_alpha\":[0.8],\"height\":[38.0],\"label\":[\"(0.657600, 0.679000]\"],\"line_alpha\":[1.0],\"line_color\":[\"black\"],\"width\":[0.021400000000000086],\"x\":[\"0.6683\"],\"y\":[19.0]}},\"id\":\"062dcff1-2b63-4186-acce-ec7d888d4b47\",\"type\":\"ColumnDataSource\"},{\"attributes\":{\"data_source\":{\"id\":\"dabd9e1d-1953-453a-8af3-ad0473206d69\",\"type\":\"ColumnDataSource\"},\"glyph\":{\"id\":\"cfe84419-81a0-41a1-bc43-7595d9f2116d\",\"type\":\"Rect\"},\"hover_glyph\":null,\"nonselection_glyph\":null,\"selection_glyph\":null},\"id\":\"4333f108-aac4-41d3-bb12-0325a1d0a9bb\",\"type\":\"GlyphRenderer\"},{\"attributes\":{\"fill_alpha\":{\"field\":\"fill_alpha\"},\"fill_color\":{\"field\":\"color\"},\"height\":{\"field\":\"height\",\"units\":\"data\"},\"line_color\":{\"field\":\"line_color\"},\"width\":{\"field\":\"width\",\"units\":\"data\"},\"x\":{\"field\":\"x\"},\"y\":{\"field\":\"y\"}},\"id\":\"28b65ea8-aead-462b-bdb3-081e8164ced1\",\"type\":\"Rect\"},{\"attributes\":{\"data_source\":{\"id\":\"cdab1e03-5e4c-4c63-9f6a-e19c2604a621\",\"type\":\"ColumnDataSource\"},\"glyph\":{\"id\":\"e4293e5d-62b1-4ee2-8497-5fa541fd62c2\",\"type\":\"Rect\"},\"hover_glyph\":null,\"nonselection_glyph\":null,\"selection_glyph\":null},\"id\":\"06d82d83-7d7e-4e10-8f49-f663f59addb0\",\"type\":\"GlyphRenderer\"},{\"attributes\":{\"plot\":{\"id\":\"9b7df24b-6b97-41c2-b018-87c4bf0a2ff4\",\"subtype\":\"Chart\",\"type\":\"Plot\"}},\"id\":\"e2b49535-769a-4569-aa57-47e9d66e89a6\",\"type\":\"SaveTool\"},{\"attributes\":{\"data_source\":{\"id\":\"0c818f37-f84f-4316-99bc-0462bf2e0377\",\"type\":\"ColumnDataSource\"},\"glyph\":{\"id\":\"9445704d-8a2f-42ab-adc1-7dfd54a324a9\",\"type\":\"Rect\"},\"hover_glyph\":null,\"nonselection_glyph\":null,\"selection_glyph\":null},\"id\":\"0e5396c1-36b1-4d70-b5e3-422c8bc3dfdf\",\"type\":\"GlyphRenderer\"},{\"attributes\":{\"callback\":null,\"column_names\":[\"color\",\"label\",\"height\",\"width\",\"fill_alpha\",\"y\",\"line_alpha\",\"x\",\"line_color\"],\"data\":{\"chart_index\":[\"(0.935800, 0.957200]\"],\"color\":[\"LightSlateGray\"],\"fill_alpha\":[0.8],\"height\":[264.0],\"label\":[\"(0.935800, 0.957200]\"],\"line_alpha\":[1.0],\"line_color\":[\"black\"],\"width\":[0.021399999999999975],\"x\":[\"0.9465\"],\"y\":[132.0]}},\"id\":\"27bc7657-c2de-40ea-aaed-acef375b1a81\",\"type\":\"ColumnDataSource\"},{\"attributes\":{\"fill_alpha\":{\"field\":\"fill_alpha\"},\"fill_color\":{\"field\":\"color\"},\"height\":{\"field\":\"height\",\"units\":\"data\"},\"line_color\":{\"field\":\"line_color\"},\"width\":{\"field\":\"width\",\"units\":\"data\"},\"x\":{\"field\":\"x\"},\"y\":{\"field\":\"y\"}},\"id\":\"3b7a80ca-5205-41de-99a9-d80eea0c54fe\",\"type\":\"Rect\"},{\"attributes\":{\"callback\":null,\"column_names\":[\"color\",\"label\",\"height\",\"width\",\"fill_alpha\",\"y\",\"line_alpha\",\"x\",\"line_color\"],\"data\":{\"chart_index\":[\"(0.593400, 0.614800]\"],\"color\":[\"LightSlateGray\"],\"fill_alpha\":[0.8],\"height\":[36.0],\"label\":[\"(0.593400, 0.614800]\"],\"line_alpha\":[1.0],\"line_color\":[\"black\"],\"width\":[0.021400000000000086],\"x\":[\"0.6041000000000001\"],\"y\":[18.0]}},\"id\":\"12b7c608-d040-4ac3-b542-a73138c15cd9\",\"type\":\"ColumnDataSource\"},{\"attributes\":{\"data_source\":{\"id\":\"9231d9b3-d825-49f1-82ef-95cd748ae16a\",\"type\":\"ColumnDataSource\"},\"glyph\":{\"id\":\"c23a8c6a-37ed-41f3-a19f-197ef1f3764f\",\"type\":\"Rect\"},\"hover_glyph\":null,\"nonselection_glyph\":null,\"selection_glyph\":null},\"id\":\"1c162b56-9365-4a20-a726-da805cfd71f3\",\"type\":\"GlyphRenderer\"},{\"attributes\":{\"callback\":null,\"column_names\":[\"color\",\"label\",\"height\",\"width\",\"fill_alpha\",\"y\",\"line_alpha\",\"x\",\"line_color\"],\"data\":{\"chart_index\":[\"(0.422200, 0.443600]\"],\"color\":[\"LightSlateGray\"],\"fill_alpha\":[0.8],\"height\":[15.0],\"label\":[\"(0.422200, 0.443600]\"],\"line_alpha\":[1.0],\"line_color\":[\"black\"],\"width\":[0.02140000000000003],\"x\":[\"0.4329\"],\"y\":[7.5]}},\"id\":\"0c818f37-f84f-4316-99bc-0462bf2e0377\",\"type\":\"ColumnDataSource\"},{\"attributes\":{\"callback\":null,\"end\":1527.9},\"id\":\"ebc19a23-9694-4305-9f9e-bebdd5e4e45e\",\"type\":\"Range1d\"},{\"attributes\":{\"data_source\":{\"id\":\"5a36af37-661a-4113-943b-018c51368340\",\"type\":\"ColumnDataSource\"},\"glyph\":{\"id\":\"c330ae80-d462-420f-a37b-5b37590fdcd0\",\"type\":\"Rect\"},\"hover_glyph\":null,\"nonselection_glyph\":null,\"selection_glyph\":null},\"id\":\"b4a9848d-99de-4da3-9677-f6c92817bf7c\",\"type\":\"GlyphRenderer\"},{\"attributes\":{\"data_source\":{\"id\":\"fe29763e-f4bd-4ab3-ab3f-b7e412137578\",\"type\":\"ColumnDataSource\"},\"glyph\":{\"id\":\"d5b588fe-0809-4227-9ca6-1cc88826f462\",\"type\":\"Rect\"},\"hover_glyph\":null,\"nonselection_glyph\":null,\"selection_glyph\":null},\"id\":\"cfccd0bc-8da4-4b1a-a671-a47dfb7dc0cd\",\"type\":\"GlyphRenderer\"},{\"attributes\":{\"callback\":null,\"column_names\":[\"color\",\"label\",\"height\",\"width\",\"fill_alpha\",\"y\",\"line_alpha\",\"x\",\"line_color\"],\"data\":{\"chart_index\":[\"(0.914400, 0.935800]\"],\"color\":[\"LightSlateGray\"],\"fill_alpha\":[0.8],\"height\":[139.0],\"label\":[\"(0.914400, 0.935800]\"],\"line_alpha\":[1.0],\"line_color\":[\"black\"],\"width\":[0.021399999999999975],\"x\":[\"0.9251\"],\"y\":[69.5]}},\"id\":\"4cd8079a-86fb-43b4-a480-be74dbbde778\",\"type\":\"ColumnDataSource\"},{\"attributes\":{\"callback\":null,\"column_names\":[\"color\",\"label\",\"height\",\"width\",\"fill_alpha\",\"y\",\"line_alpha\",\"x\",\"line_color\"],\"data\":{\"chart_index\":[\"(0.807400, 0.828800]\"],\"color\":[\"LightSlateGray\"],\"fill_alpha\":[0.8],\"height\":[66.0],\"label\":[\"(0.807400, 0.828800]\"],\"line_alpha\":[1.0],\"line_color\":[\"black\"],\"width\":[0.021400000000000086],\"x\":[\"0.8181\"],\"y\":[33.0]}},\"id\":\"b0af194a-4219-42b3-b727-1e65bc5472b4\",\"type\":\"ColumnDataSource\"},{\"attributes\":{\"data_source\":{\"id\":\"9830aa89-6ba7-4530-b8bc-814e1845d792\",\"type\":\"ColumnDataSource\"},\"glyph\":{\"id\":\"3b7a80ca-5205-41de-99a9-d80eea0c54fe\",\"type\":\"Rect\"},\"hover_glyph\":null,\"nonselection_glyph\":null,\"selection_glyph\":null},\"id\":\"89ee0d45-d912-4e47-8cd4-309c37addd36\",\"type\":\"GlyphRenderer\"},{\"attributes\":{\"fill_alpha\":{\"field\":\"fill_alpha\"},\"fill_color\":{\"field\":\"color\"},\"height\":{\"field\":\"height\",\"units\":\"data\"},\"line_color\":{\"field\":\"line_color\"},\"width\":{\"field\":\"width\",\"units\":\"data\"},\"x\":{\"field\":\"x\"},\"y\":{\"field\":\"y\"}},\"id\":\"c79b9e8c-fb45-4ad2-b712-33ad2df6775a\",\"type\":\"Rect\"},{\"attributes\":{\"callback\":null,\"column_names\":[\"color\",\"label\",\"height\",\"width\",\"fill_alpha\",\"y\",\"line_alpha\",\"x\",\"line_color\"],\"data\":{\"chart_index\":[\"(0.764600, 0.786000]\"],\"color\":[\"LightSlateGray\"],\"fill_alpha\":[0.8],\"height\":[65.0],\"label\":[\"(0.764600, 0.786000]\"],\"line_alpha\":[1.0],\"line_color\":[\"black\"],\"width\":[0.021400000000000086],\"x\":[\"0.7753\"],\"y\":[32.5]}},\"id\":\"86cc4d85-91b8-4b32-baf1-d78ae02fa8d0\",\"type\":\"ColumnDataSource\"},{\"attributes\":{\"data_source\":{\"id\":\"d89fc810-d08d-4f01-a2be-e4311401998d\",\"type\":\"ColumnDataSource\"},\"glyph\":{\"id\":\"11e33585-4836-4664-a51b-6b8685d6aa60\",\"type\":\"Rect\"},\"hover_glyph\":null,\"nonselection_glyph\":null,\"selection_glyph\":null},\"id\":\"d393ec2a-3c5b-4b1c-98e7-b7c29ffdd6eb\",\"type\":\"GlyphRenderer\"},{\"attributes\":{\"callback\":null,\"column_names\":[\"color\",\"label\",\"height\",\"width\",\"fill_alpha\",\"y\",\"line_alpha\",\"x\",\"line_color\"],\"data\":{\"chart_index\":[\"(0.679000, 0.700400]\"],\"color\":[\"LightSlateGray\"],\"fill_alpha\":[0.8],\"height\":[42.0],\"label\":[\"(0.679000, 0.700400]\"],\"line_alpha\":[1.0],\"line_color\":[\"black\"],\"width\":[0.021399999999999864],\"x\":[\"0.6897\"],\"y\":[21.0]}},\"id\":\"9d79a8db-b8c3-4b14-82b1-167d27651d9d\",\"type\":\"ColumnDataSource\"},{\"attributes\":{\"axis_label\":\"Frequency\",\"formatter\":{\"id\":\"a5152442-ff55-45f7-8fcd-97eeaaed55e7\",\"type\":\"BasicTickFormatter\"},\"plot\":{\"id\":\"9b7df24b-6b97-41c2-b018-87c4bf0a2ff4\",\"subtype\":\"Chart\",\"type\":\"Plot\"},\"ticker\":{\"id\":\"04c32e5b-7b0d-4e5e-877d-33b9baa928f3\",\"type\":\"BasicTicker\"}},\"id\":\"1d8e57ac-7920-4820-8225-90b4e481cfd9\",\"type\":\"LinearAxis\"}],\"root_ids\":[\"9b7df24b-6b97-41c2-b018-87c4bf0a2ff4\"]},\"title\":\"Bokeh Application\",\"version\":\"0.12.4\"}};\n",
       "            var render_items = [{\"docid\":\"a705d284-155f-4493-8576-9e6a4bccfad9\",\"elementid\":\"c0b3d280-50c5-4a42-ae95-46ed4e282018\",\"modelid\":\"9b7df24b-6b97-41c2-b018-87c4bf0a2ff4\"}];\n",
       "            \n",
       "            Bokeh.embed.embed_items(docs_json, render_items);\n",
       "          };\n",
       "          if (document.readyState != \"loading\") fn();\n",
       "          else document.addEventListener(\"DOMContentLoaded\", fn);\n",
       "        })();\n",
       "      },\n",
       "      function(Bokeh) {\n",
       "      }\n",
       "    ];\n",
       "  \n",
       "    function run_inline_js() {\n",
       "      \n",
       "      if ((window.Bokeh !== undefined) || (force === true)) {\n",
       "        for (var i = 0; i < inline_js.length; i++) {\n",
       "          inline_js[i](window.Bokeh);\n",
       "        }if (force === true) {\n",
       "          display_loaded();\n",
       "        }} else if (Date.now() < window._bokeh_timeout) {\n",
       "        setTimeout(run_inline_js, 100);\n",
       "      } else if (!window._bokeh_failed_load) {\n",
       "        console.log(\"Bokeh: BokehJS failed to load within specified timeout.\");\n",
       "        window._bokeh_failed_load = true;\n",
       "      } else if (force !== true) {\n",
       "        var cell = $(document.getElementById(\"c0b3d280-50c5-4a42-ae95-46ed4e282018\")).parents('.cell').data().cell;\n",
       "        cell.output_area.append_execute_result(NB_LOAD_WARNING)\n",
       "      }\n",
       "  \n",
       "    }\n",
       "  \n",
       "    if (window._bokeh_is_loading === 0) {\n",
       "      console.log(\"Bokeh: BokehJS loaded, going straight to plotting\");\n",
       "      run_inline_js();\n",
       "    } else {\n",
       "      load_libs(js_urls, function() {\n",
       "        console.log(\"Bokeh: BokehJS plotting callback run at\", now());\n",
       "        run_inline_js();\n",
       "      });\n",
       "    }\n",
       "  }(this));\n",
       "</script>"
      ]
     },
     "metadata": {},
     "output_type": "display_data"
    }
   ],
   "source": [
    "p=Histogram(normal_plt,values='max_predprob',title='SVM Normal : Predict Probability',color='LightSlateGray',bins=30,xlabel=\"Predict Probability\",ylabel=\"Frequency\")\n",
    "show(p)"
   ]
  },
  {
   "cell_type": "code",
   "execution_count": 140,
   "metadata": {},
   "outputs": [
    {
     "name": "stderr",
     "output_type": "stream",
     "text": [
      "/Users/lmc2/anaconda/envs/NIHFAES/lib/python3.5/site-packages/ipykernel/__main__.py:3: SettingWithCopyWarning:\n",
      "\n",
      "\n",
      "A value is trying to be set on a copy of a slice from a DataFrame.\n",
      "Try using .loc[row_indexer,col_indexer] = value instead\n",
      "\n",
      "See the caveats in the documentation: http://pandas.pydata.org/pandas-docs/stable/indexing.html#indexing-view-versus-copy\n",
      "\n"
     ]
    }
   ],
   "source": [
    "bins = [0, 0.5, 0.8,0.9,1]\n",
    "group_names_size = ['0-0.5', '0.5-0.8', '0.8-0.9', '0.9-1']\n",
    "abnormal_plt['predprob_bin'] = pd.cut(abnormal_plt['max_predprob'], bins, labels=group_names_size)"
   ]
  },
  {
   "cell_type": "code",
   "execution_count": null,
   "metadata": {
    "collapsed": true
   },
   "outputs": [],
   "source": []
  },
  {
   "cell_type": "code",
   "execution_count": 141,
   "metadata": {},
   "outputs": [],
   "source": [
    "# plt.figure()\n",
    "# plt.plot(normal['x'],normal['y'],'8')\n",
    "# plt.plot(abnormal['x'],abnormal['y'],'ro')\n",
    "# plt.xlabel('x')\n",
    "# plt.ylabel('y')\n",
    "# plt.show()"
   ]
  },
  {
   "cell_type": "code",
   "execution_count": 142,
   "metadata": {},
   "outputs": [
    {
     "data": {
      "image/png": "[encoded data removed]",
      "text/plain": [
       "<matplotlib.figure.Figure at 0x117ba7748>"
      ]
     },
     "metadata": {},
     "output_type": "display_data"
    }
   ],
   "source": [
    "a = plt.scatter(normal['x'],normal['y'], c='blue',\n",
    "                edgecolor='k', s=20)\n",
    "b = plt.scatter(abnormal['x'],abnormal['y'], c='red',\n",
    "                edgecolor='k', s=20)\n",
    "plt.axis('tight')\n",
    "plt.legend([a, b],\n",
    "           [\"normal observations\",\n",
    "            \"abnormal observations\"],\n",
    "           loc=\"upper left\")\n",
    "plt.savefig('/Volumes/lesleydata/SVanalyzer_ML/Oct272017_ML_w_AllTech/data/prelim_df/svm_outliers.png', bbox_inches='tight')"
   ]
  },
  {
   "cell_type": "markdown",
   "metadata": {},
   "source": [
    "** Anomaly Detection - Local Outlier Factor**"
   ]
  },
  {
   "cell_type": "markdown",
   "metadata": {},
   "source": [
    "[LOF](http://scikit-learn.org/stable/auto_examples/neighbors/plot_lof.html#sphx-glr-auto-examples-neighbors-plot-lof-py)"
   ]
  },
  {
   "cell_type": "code",
   "execution_count": 143,
   "metadata": {
    "collapsed": true
   },
   "outputs": [],
   "source": [
    "# Order features\n",
    "X5 = X2.reindex_axis(sorted(X2.columns), axis=1)"
   ]
  },
  {
   "cell_type": "code",
   "execution_count": 144,
   "metadata": {
    "collapsed": true
   },
   "outputs": [],
   "source": [
    "clf = LocalOutlierFactor(n_neighbors=20)\n",
    "pred = clf.fit_predict(X5)\n",
    "\n",
    "# inliers are labeled 1, outliers are labeled -1\n",
    "normal = X5[pred == 1]\n",
    "abnormal = X5[pred == -1]"
   ]
  },
  {
   "cell_type": "code",
   "execution_count": 145,
   "metadata": {},
   "outputs": [
    {
     "data": {
      "text/plain": [
       "(405, 175)"
      ]
     },
     "execution_count": 145,
     "metadata": {},
     "output_type": "execute_result"
    }
   ],
   "source": [
    "abnormal.shape"
   ]
  },
  {
   "cell_type": "code",
   "execution_count": 146,
   "metadata": {},
   "outputs": [
    {
     "data": {
      "text/plain": [
       "(3636, 175)"
      ]
     },
     "execution_count": 146,
     "metadata": {},
     "output_type": "execute_result"
    }
   ],
   "source": [
    "df_std = StandardScaler().fit_transform(normal)\n",
    "df_std.shape"
   ]
  },
  {
   "cell_type": "code",
   "execution_count": 147,
   "metadata": {},
   "outputs": [
    {
     "name": "stdout",
     "output_type": "stream",
     "text": [
      "Number of components that explain 95% of the variance: 85.0\n"
     ]
    }
   ],
   "source": [
    "clf = PCA(0.95)\n",
    "X_tran = clf.fit_transform(df_std)\n",
    "print('Number of components that explain 95% of the variance: {:.1f}'.format(clf.n_components_)) "
   ]
  },
  {
   "cell_type": "code",
   "execution_count": 148,
   "metadata": {
    "collapsed": true
   },
   "outputs": [],
   "source": [
    "ncomps = 86\n",
    "pca=PCA(n_components=ncomps)\n",
    "Y = pca.fit_transform(df_std)\n",
    "dfpca = pd.DataFrame(Y, columns=['c{}'.format(c) for c in range(ncomps)], index=normal.index)\n",
    "tsne = TSNE(n_components=2, random_state=0)\n",
    "Z = tsne.fit_transform(dfpca)\n",
    "dftsne_norm = pd.DataFrame(Z, columns=['x','y'], index=dfpca.index)"
   ]
  },
  {
   "cell_type": "code",
   "execution_count": 149,
   "metadata": {
    "collapsed": true
   },
   "outputs": [],
   "source": [
    "X5['outliers'] = pred"
   ]
  },
  {
   "cell_type": "code",
   "execution_count": 150,
   "metadata": {},
   "outputs": [
    {
     "data": {
      "text/plain": [
       "(3636, 3)"
      ]
     },
     "execution_count": 150,
     "metadata": {},
     "output_type": "execute_result"
    }
   ],
   "source": [
    "dftsne_norm['outliers'] = 1\n",
    "dftsne_norm.shape"
   ]
  },
  {
   "cell_type": "code",
   "execution_count": 151,
   "metadata": {},
   "outputs": [
    {
     "name": "stdout",
     "output_type": "stream",
     "text": [
      "Number of components that explain 95% of the variance: 67.0\n"
     ]
    }
   ],
   "source": [
    "df_std = StandardScaler().fit_transform(abnormal)\n",
    "df_std.shape\n",
    "clf = PCA(0.95)\n",
    "X_tran = clf.fit_transform(df_std)\n",
    "print('Number of components that explain 95% of the variance: {:.1f}'.format(clf.n_components_)) "
   ]
  },
  {
   "cell_type": "code",
   "execution_count": 152,
   "metadata": {
    "collapsed": true
   },
   "outputs": [],
   "source": [
    "ncomps = 68\n",
    "pca=PCA(n_components=ncomps)\n",
    "Y = pca.fit_transform(df_std)\n",
    "dfpca = pd.DataFrame(Y, columns=['c{}'.format(c) for c in range(ncomps)], index=abnormal.index)\n",
    "tsne = TSNE(n_components=2, random_state=0)\n",
    "Z = tsne.fit_transform(dfpca)\n",
    "dftsne_abnorm = pd.DataFrame(Z, columns=['x','y'], index=dfpca.index)"
   ]
  },
  {
   "cell_type": "code",
   "execution_count": 153,
   "metadata": {},
   "outputs": [
    {
     "data": {
      "text/plain": [
       "(405, 3)"
      ]
     },
     "execution_count": 153,
     "metadata": {},
     "output_type": "execute_result"
    }
   ],
   "source": [
    "dftsne_abnorm['outliers'] = -1\n",
    "dftsne_abnorm.shape"
   ]
  },
  {
   "cell_type": "code",
   "execution_count": 154,
   "metadata": {},
   "outputs": [
    {
     "data": {
      "text/plain": [
       "(4041, 3)"
      ]
     },
     "execution_count": 154,
     "metadata": {},
     "output_type": "execute_result"
    }
   ],
   "source": [
    "plot_ = pd.concat([dftsne_abnorm, dftsne_norm], axis=0)\n",
    "plot_.shape"
   ]
  },
  {
   "cell_type": "code",
   "execution_count": 155,
   "metadata": {
    "collapsed": true
   },
   "outputs": [],
   "source": [
    "normal = plot_[plot_['outliers'] == 1]\n",
    "abnormal = plot_[plot_['outliers'] == -1]"
   ]
  },
  {
   "cell_type": "code",
   "execution_count": 156,
   "metadata": {},
   "outputs": [
    {
     "data": {
      "text/plain": [
       "(405, 3)"
      ]
     },
     "execution_count": 156,
     "metadata": {},
     "output_type": "execute_result"
    }
   ],
   "source": [
    "abnormal.shape"
   ]
  },
  {
   "cell_type": "code",
   "execution_count": 157,
   "metadata": {},
   "outputs": [],
   "source": [
    "# plt.figure()\n",
    "# plt.plot(normal['x'],normal['y'],'8')\n",
    "# plt.plot(abnormal['x'],abnormal['y'],'ro')\n",
    "# plt.xlabel('x')\n",
    "# plt.ylabel('y')\n",
    "# plt.show()"
   ]
  },
  {
   "cell_type": "code",
   "execution_count": 158,
   "metadata": {},
   "outputs": [
    {
     "data": {
      "image/png": "[encoded data removed]",
      "text/plain": [
       "<matplotlib.figure.Figure at 0x11b0374a8>"
      ]
     },
     "metadata": {},
     "output_type": "display_data"
    }
   ],
   "source": [
    "a = plt.scatter(normal['x'],normal['y'], c='blue',\n",
    "                edgecolor='k', s=20)\n",
    "b = plt.scatter(abnormal['x'],abnormal['y'], c='red',\n",
    "                edgecolor='k', s=20)\n",
    "plt.axis('tight')\n",
    "plt.legend([a, b],\n",
    "           [\"normal observations\",\n",
    "            \"abnormal observations\"],\n",
    "           loc=\"upper left\")\n",
    "plt.show()"
   ]
  },
  {
   "cell_type": "code",
   "execution_count": null,
   "metadata": {
    "collapsed": true
   },
   "outputs": [],
   "source": []
  },
  {
   "cell_type": "code",
   "execution_count": 159,
   "metadata": {},
   "outputs": [],
   "source": [
    "plot_['Homozygous_Reference_GTcons'] = X6['Homozygous_Reference_GTcons']\n",
    "plot_['Heterozygous_Variant_GTcons'] = X6['Heterozygous_Variant_GTcons']\n",
    "plot_['Homozygous_Variant_GTcons'] = X6['Homozygous_Variant_GTcons']\n",
    "plot_['predicted_GTcons_label'] = X6['predicted_GTcons_label']"
   ]
  },
  {
   "cell_type": "code",
   "execution_count": 160,
   "metadata": {
    "collapsed": true
   },
   "outputs": [],
   "source": [
    "# Abnormal : Predict probability plot"
   ]
  },
  {
   "cell_type": "code",
   "execution_count": 161,
   "metadata": {
    "collapsed": true
   },
   "outputs": [],
   "source": [
    "abnormal_plt = plot_[plot_['outliers'] == -1]"
   ]
  },
  {
   "cell_type": "code",
   "execution_count": 162,
   "metadata": {},
   "outputs": [
    {
     "name": "stderr",
     "output_type": "stream",
     "text": [
      "/Users/lmc2/anaconda/envs/NIHFAES/lib/python3.5/site-packages/ipykernel/__main__.py:2: SettingWithCopyWarning:\n",
      "\n",
      "\n",
      "A value is trying to be set on a copy of a slice from a DataFrame.\n",
      "Try using .loc[row_indexer,col_indexer] = value instead\n",
      "\n",
      "See the caveats in the documentation: http://pandas.pydata.org/pandas-docs/stable/indexing.html#indexing-view-versus-copy\n",
      "\n"
     ]
    }
   ],
   "source": [
    "#Find the max across multiple rows\n",
    "abnormal_plt['max_predprob'] = abnormal_plt[['Homozygous_Reference_GTcons', 'Heterozygous_Variant_GTcons', 'Homozygous_Variant_GTcons']].max(axis=1)"
   ]
  },
  {
   "cell_type": "code",
   "execution_count": 163,
   "metadata": {},
   "outputs": [
    {
     "data": {
      "text/html": [
       "\n",
       "    <div class=\"bk-root\">\n",
       "        <a href=\"http://bokeh.pydata.org\" target=\"_blank\" class=\"bk-logo bk-logo-small bk-logo-notebook\"></a>\n",
       "        <span id=\"7f6bb8ca-271e-4c65-b5f8-5e709af31c91\">Loading BokehJS ...</span>\n",
       "    </div>"
      ]
     },
     "metadata": {},
     "output_type": "display_data"
    },
    {
     "data": {
      "application/javascript": [
       "\n",
       "(function(global) {\n",
       "  function now() {\n",
       "    return new Date();\n",
       "  }\n",
       "\n",
       "  var force = true;\n",
       "\n",
       "  if (typeof (window._bokeh_onload_callbacks) === \"undefined\" || force === true) {\n",
       "    window._bokeh_onload_callbacks = [];\n",
       "    window._bokeh_is_loading = undefined;\n",
       "  }\n",
       "\n",
       "\n",
       "  \n",
       "  if (typeof (window._bokeh_timeout) === \"undefined\" || force === true) {\n",
       "    window._bokeh_timeout = Date.now() + 5000;\n",
       "    window._bokeh_failed_load = false;\n",
       "  }\n",
       "\n",
       "  var NB_LOAD_WARNING = {'data': {'text/html':\n",
       "     \"<div style='background-color: #fdd'>\\n\"+\n",
       "     \"<p>\\n\"+\n",
       "     \"BokehJS does not appear to have successfully loaded. If loading BokehJS from CDN, this \\n\"+\n",
       "     \"may be due to a slow or bad network connection. Possible fixes:\\n\"+\n",
       "     \"</p>\\n\"+\n",
       "     \"<ul>\\n\"+\n",
       "     \"<li>re-rerun `output_notebook()` to attempt to load from CDN again, or</li>\\n\"+\n",
       "     \"<li>use INLINE resources instead, as so:</li>\\n\"+\n",
       "     \"</ul>\\n\"+\n",
       "     \"<code>\\n\"+\n",
       "     \"from bokeh.resources import INLINE\\n\"+\n",
       "     \"output_notebook(resources=INLINE)\\n\"+\n",
       "     \"</code>\\n\"+\n",
       "     \"</div>\"}};\n",
       "\n",
       "  function display_loaded() {\n",
       "    if (window.Bokeh !== undefined) {\n",
       "      document.getElementById(\"7f6bb8ca-271e-4c65-b5f8-5e709af31c91\").textContent = \"BokehJS successfully loaded.\";\n",
       "    } else if (Date.now() < window._bokeh_timeout) {\n",
       "      setTimeout(display_loaded, 100)\n",
       "    }\n",
       "  }\n",
       "\n",
       "  function run_callbacks() {\n",
       "    window._bokeh_onload_callbacks.forEach(function(callback) { callback() });\n",
       "    delete window._bokeh_onload_callbacks\n",
       "    console.info(\"Bokeh: all callbacks have finished\");\n",
       "  }\n",
       "\n",
       "  function load_libs(js_urls, callback) {\n",
       "    window._bokeh_onload_callbacks.push(callback);\n",
       "    if (window._bokeh_is_loading > 0) {\n",
       "      console.log(\"Bokeh: BokehJS is being loaded, scheduling callback at\", now());\n",
       "      return null;\n",
       "    }\n",
       "    if (js_urls == null || js_urls.length === 0) {\n",
       "      run_callbacks();\n",
       "      return null;\n",
       "    }\n",
       "    console.log(\"Bokeh: BokehJS not loaded, scheduling load and callback at\", now());\n",
       "    window._bokeh_is_loading = js_urls.length;\n",
       "    for (var i = 0; i < js_urls.length; i++) {\n",
       "      var url = js_urls[i];\n",
       "      var s = document.createElement('script');\n",
       "      s.src = url;\n",
       "      s.async = false;\n",
       "      s.onreadystatechange = s.onload = function() {\n",
       "        window._bokeh_is_loading--;\n",
       "        if (window._bokeh_is_loading === 0) {\n",
       "          console.log(\"Bokeh: all BokehJS libraries loaded\");\n",
       "          run_callbacks()\n",
       "        }\n",
       "      };\n",
       "      s.onerror = function() {\n",
       "        console.warn(\"failed to load library \" + url);\n",
       "      };\n",
       "      console.log(\"Bokeh: injecting script tag for BokehJS library: \", url);\n",
       "      document.getElementsByTagName(\"head\")[0].appendChild(s);\n",
       "    }\n",
       "  };var element = document.getElementById(\"7f6bb8ca-271e-4c65-b5f8-5e709af31c91\");\n",
       "  if (element == null) {\n",
       "    console.log(\"Bokeh: ERROR: autoload.js configured with elementid '7f6bb8ca-271e-4c65-b5f8-5e709af31c91' but no matching script tag was found. \")\n",
       "    return false;\n",
       "  }\n",
       "\n",
       "  var js_urls = [\"https://cdn.pydata.org/bokeh/release/bokeh-0.12.4.min.js\", \"https://cdn.pydata.org/bokeh/release/bokeh-widgets-0.12.4.min.js\"];\n",
       "\n",
       "  var inline_js = [\n",
       "    function(Bokeh) {\n",
       "      Bokeh.set_log_level(\"info\");\n",
       "    },\n",
       "    \n",
       "    function(Bokeh) {\n",
       "      \n",
       "      document.getElementById(\"7f6bb8ca-271e-4c65-b5f8-5e709af31c91\").textContent = \"BokehJS is loading...\";\n",
       "    },\n",
       "    function(Bokeh) {\n",
       "      console.log(\"Bokeh: injecting CSS: https://cdn.pydata.org/bokeh/release/bokeh-0.12.4.min.css\");\n",
       "      Bokeh.embed.inject_css(\"https://cdn.pydata.org/bokeh/release/bokeh-0.12.4.min.css\");\n",
       "      console.log(\"Bokeh: injecting CSS: https://cdn.pydata.org/bokeh/release/bokeh-widgets-0.12.4.min.css\");\n",
       "      Bokeh.embed.inject_css(\"https://cdn.pydata.org/bokeh/release/bokeh-widgets-0.12.4.min.css\");\n",
       "    }\n",
       "  ];\n",
       "\n",
       "  function run_inline_js() {\n",
       "    \n",
       "    if ((window.Bokeh !== undefined) || (force === true)) {\n",
       "      for (var i = 0; i < inline_js.length; i++) {\n",
       "        inline_js[i](window.Bokeh);\n",
       "      }if (force === true) {\n",
       "        display_loaded();\n",
       "      }} else if (Date.now() < window._bokeh_timeout) {\n",
       "      setTimeout(run_inline_js, 100);\n",
       "    } else if (!window._bokeh_failed_load) {\n",
       "      console.log(\"Bokeh: BokehJS failed to load within specified timeout.\");\n",
       "      window._bokeh_failed_load = true;\n",
       "    } else if (force !== true) {\n",
       "      var cell = $(document.getElementById(\"7f6bb8ca-271e-4c65-b5f8-5e709af31c91\")).parents('.cell').data().cell;\n",
       "      cell.output_area.append_execute_result(NB_LOAD_WARNING)\n",
       "    }\n",
       "\n",
       "  }\n",
       "\n",
       "  if (window._bokeh_is_loading === 0) {\n",
       "    console.log(\"Bokeh: BokehJS loaded, going straight to plotting\");\n",
       "    run_inline_js();\n",
       "  } else {\n",
       "    load_libs(js_urls, function() {\n",
       "      console.log(\"Bokeh: BokehJS plotting callback run at\", now());\n",
       "      run_inline_js();\n",
       "    });\n",
       "  }\n",
       "}(this));"
      ]
     },
     "metadata": {},
     "output_type": "display_data"
    }
   ],
   "source": [
    "output_notebook()"
   ]
  },
  {
   "cell_type": "code",
   "execution_count": 164,
   "metadata": {
    "scrolled": true
   },
   "outputs": [
    {
     "data": {
      "text/html": [
       "\n",
       "\n",
       "    <div class=\"bk-root\">\n",
       "        <div class=\"bk-plotdiv\" id=\"f717bb7b-7254-4a03-a4b2-db4fa49c63f0\"></div>\n",
       "    </div>\n",
       "<script type=\"text/javascript\">\n",
       "  \n",
       "  (function(global) {\n",
       "    function now() {\n",
       "      return new Date();\n",
       "    }\n",
       "  \n",
       "    var force = false;\n",
       "  \n",
       "    if (typeof (window._bokeh_onload_callbacks) === \"undefined\" || force === true) {\n",
       "      window._bokeh_onload_callbacks = [];\n",
       "      window._bokeh_is_loading = undefined;\n",
       "    }\n",
       "  \n",
       "  \n",
       "    \n",
       "    if (typeof (window._bokeh_timeout) === \"undefined\" || force === true) {\n",
       "      window._bokeh_timeout = Date.now() + 0;\n",
       "      window._bokeh_failed_load = false;\n",
       "    }\n",
       "  \n",
       "    var NB_LOAD_WARNING = {'data': {'text/html':\n",
       "       \"<div style='background-color: #fdd'>\\n\"+\n",
       "       \"<p>\\n\"+\n",
       "       \"BokehJS does not appear to have successfully loaded. If loading BokehJS from CDN, this \\n\"+\n",
       "       \"may be due to a slow or bad network connection. Possible fixes:\\n\"+\n",
       "       \"</p>\\n\"+\n",
       "       \"<ul>\\n\"+\n",
       "       \"<li>re-rerun `output_notebook()` to attempt to load from CDN again, or</li>\\n\"+\n",
       "       \"<li>use INLINE resources instead, as so:</li>\\n\"+\n",
       "       \"</ul>\\n\"+\n",
       "       \"<code>\\n\"+\n",
       "       \"from bokeh.resources import INLINE\\n\"+\n",
       "       \"output_notebook(resources=INLINE)\\n\"+\n",
       "       \"</code>\\n\"+\n",
       "       \"</div>\"}};\n",
       "  \n",
       "    function display_loaded() {\n",
       "      if (window.Bokeh !== undefined) {\n",
       "        document.getElementById(\"f717bb7b-7254-4a03-a4b2-db4fa49c63f0\").textContent = \"BokehJS successfully loaded.\";\n",
       "      } else if (Date.now() < window._bokeh_timeout) {\n",
       "        setTimeout(display_loaded, 100)\n",
       "      }\n",
       "    }\n",
       "  \n",
       "    function run_callbacks() {\n",
       "      window._bokeh_onload_callbacks.forEach(function(callback) { callback() });\n",
       "      delete window._bokeh_onload_callbacks\n",
       "      console.info(\"Bokeh: all callbacks have finished\");\n",
       "    }\n",
       "  \n",
       "    function load_libs(js_urls, callback) {\n",
       "      window._bokeh_onload_callbacks.push(callback);\n",
       "      if (window._bokeh_is_loading > 0) {\n",
       "        console.log(\"Bokeh: BokehJS is being loaded, scheduling callback at\", now());\n",
       "        return null;\n",
       "      }\n",
       "      if (js_urls == null || js_urls.length === 0) {\n",
       "        run_callbacks();\n",
       "        return null;\n",
       "      }\n",
       "      console.log(\"Bokeh: BokehJS not loaded, scheduling load and callback at\", now());\n",
       "      window._bokeh_is_loading = js_urls.length;\n",
       "      for (var i = 0; i < js_urls.length; i++) {\n",
       "        var url = js_urls[i];\n",
       "        var s = document.createElement('script');\n",
       "        s.src = url;\n",
       "        s.async = false;\n",
       "        s.onreadystatechange = s.onload = function() {\n",
       "          window._bokeh_is_loading--;\n",
       "          if (window._bokeh_is_loading === 0) {\n",
       "            console.log(\"Bokeh: all BokehJS libraries loaded\");\n",
       "            run_callbacks()\n",
       "          }\n",
       "        };\n",
       "        s.onerror = function() {\n",
       "          console.warn(\"failed to load library \" + url);\n",
       "        };\n",
       "        console.log(\"Bokeh: injecting script tag for BokehJS library: \", url);\n",
       "        document.getElementsByTagName(\"head\")[0].appendChild(s);\n",
       "      }\n",
       "    };var element = document.getElementById(\"f717bb7b-7254-4a03-a4b2-db4fa49c63f0\");\n",
       "    if (element == null) {\n",
       "      console.log(\"Bokeh: ERROR: autoload.js configured with elementid 'f717bb7b-7254-4a03-a4b2-db4fa49c63f0' but no matching script tag was found. \")\n",
       "      return false;\n",
       "    }\n",
       "  \n",
       "    var js_urls = [];\n",
       "  \n",
       "    var inline_js = [\n",
       "      function(Bokeh) {\n",
       "        (function() {\n",
       "          var fn = function() {\n",
       "            var docs_json = {\"10cfafda-6a92-403b-a373-6a2b954b9da5\":{\"roots\":{\"references\":[{\"attributes\":{\"fill_alpha\":{\"field\":\"fill_alpha\"},\"fill_color\":{\"field\":\"color\"},\"height\":{\"field\":\"height\",\"units\":\"data\"},\"line_color\":{\"field\":\"line_color\"},\"width\":{\"field\":\"width\",\"units\":\"data\"},\"x\":{\"field\":\"x\"},\"y\":{\"field\":\"y\"}},\"id\":\"81c5a40f-77df-43c0-a11d-764db67f1091\",\"type\":\"Rect\"},{\"attributes\":{\"callback\":null,\"column_names\":[\"color\",\"label\",\"height\",\"width\",\"fill_alpha\",\"y\",\"line_alpha\",\"x\",\"line_color\"],\"data\":{\"chart_index\":[\"(0.784667, 0.806200]\"],\"color\":[\"LightSlateGray\"],\"fill_alpha\":[0.8],\"height\":[11.0],\"label\":[\"(0.784667, 0.806200]\"],\"line_alpha\":[1.0],\"line_color\":[\"black\"],\"width\":[0.021533333333333404],\"x\":[\"0.7954335\"],\"y\":[5.5]}},\"id\":\"7457db9d-8813-401a-b4f3-1e66e55e7f59\",\"type\":\"ColumnDataSource\"},{\"attributes\":{\"fill_alpha\":{\"field\":\"fill_alpha\"},\"fill_color\":{\"field\":\"color\"},\"height\":{\"field\":\"height\",\"units\":\"data\"},\"line_color\":{\"field\":\"line_color\"},\"width\":{\"field\":\"width\",\"units\":\"data\"},\"x\":{\"field\":\"x\"},\"y\":{\"field\":\"y\"}},\"id\":\"1945f9da-20d8-4b1b-8ede-1ec834a8ec56\",\"type\":\"Rect\"},{\"attributes\":{},\"id\":\"e45b32d2-43a7-432f-90f1-22cfb7e63771\",\"type\":\"BasicTicker\"},{\"attributes\":{\"data_source\":{\"id\":\"0678182c-e946-4f4f-bcb3-df38de32bc2a\",\"type\":\"ColumnDataSource\"},\"glyph\":{\"id\":\"d2ef5267-06a4-41eb-89a3-540fac484740\",\"type\":\"Rect\"},\"hover_glyph\":null,\"nonselection_glyph\":null,\"selection_glyph\":null},\"id\":\"48f4e65b-d6f0-47e1-81b9-ebf70f89d009\",\"type\":\"GlyphRenderer\"},{\"attributes\":{\"fill_alpha\":{\"field\":\"fill_alpha\"},\"fill_color\":{\"field\":\"color\"},\"height\":{\"field\":\"height\",\"units\":\"data\"},\"line_color\":{\"field\":\"line_color\"},\"width\":{\"field\":\"width\",\"units\":\"data\"},\"x\":{\"field\":\"x\"},\"y\":{\"field\":\"y\"}},\"id\":\"86954171-701d-45d3-8299-ad13817d3e53\",\"type\":\"Rect\"},{\"attributes\":{\"callback\":null,\"column_names\":[\"color\",\"label\",\"height\",\"width\",\"fill_alpha\",\"y\",\"line_alpha\",\"x\",\"line_color\"],\"data\":{\"chart_index\":[\"(0.418600, 0.440133]\"],\"color\":[\"LightSlateGray\"],\"fill_alpha\":[0.8],\"height\":[2.0],\"label\":[\"(0.418600, 0.440133]\"],\"line_alpha\":[1.0],\"line_color\":[\"black\"],\"width\":[0.02153333333333335],\"x\":[\"0.4293665\"],\"y\":[1.0]}},\"id\":\"98296611-cc17-445b-b060-c7264d9e4eea\",\"type\":\"ColumnDataSource\"},{\"attributes\":{\"data_source\":{\"id\":\"284ac03a-e3b4-4777-b3c1-97567e1d9976\",\"type\":\"ColumnDataSource\"},\"glyph\":{\"id\":\"b711d958-6e79-4f66-b1d6-37f74522c89b\",\"type\":\"Rect\"},\"hover_glyph\":null,\"nonselection_glyph\":null,\"selection_glyph\":null},\"id\":\"34d74c90-3489-4a36-af89-4a60f4a81444\",\"type\":\"GlyphRenderer\"},{\"attributes\":{\"callback\":null,\"end\":160.60000000000002},\"id\":\"14c1b038-0abf-423a-ae6f-1378d7ab8943\",\"type\":\"Range1d\"},{\"attributes\":{\"callback\":null,\"column_names\":[\"color\",\"label\",\"height\",\"width\",\"fill_alpha\",\"y\",\"line_alpha\",\"x\",\"line_color\"],\"data\":{\"chart_index\":[\"(0.913867, 0.935400]\"],\"color\":[\"LightSlateGray\"],\"fill_alpha\":[0.8],\"height\":[18.0],\"label\":[\"(0.913867, 0.935400]\"],\"line_alpha\":[1.0],\"line_color\":[\"black\"],\"width\":[0.021533333333333293],\"x\":[\"0.9246335\"],\"y\":[9.0]}},\"id\":\"3c182b25-e350-40e4-9473-4c6202419048\",\"type\":\"ColumnDataSource\"},{\"attributes\":{\"dimension\":1,\"plot\":{\"id\":\"272439a0-198c-454c-9dd0-2e5716891866\",\"subtype\":\"Chart\",\"type\":\"Plot\"},\"ticker\":{\"id\":\"66acf4bd-894d-45da-8391-23ff20715f93\",\"type\":\"BasicTicker\"}},\"id\":\"72608d05-1780-4bed-9564-1c321991d49f\",\"type\":\"Grid\"},{\"attributes\":{\"callback\":null,\"column_names\":[\"color\",\"label\",\"height\",\"width\",\"fill_alpha\",\"y\",\"line_alpha\",\"x\",\"line_color\"],\"data\":{\"chart_index\":[\"(0.612400, 0.633933]\"],\"color\":[\"LightSlateGray\"],\"fill_alpha\":[0.8],\"height\":[1.0],\"label\":[\"(0.612400, 0.633933]\"],\"line_alpha\":[1.0],\"line_color\":[\"black\"],\"width\":[0.021533333333333293],\"x\":[\"0.6231665\"],\"y\":[0.5]}},\"id\":\"ca717ad1-cd75-4302-a650-572df6d170a3\",\"type\":\"ColumnDataSource\"},{\"attributes\":{\"data_source\":{\"id\":\"4c836e4a-9b32-4e1a-9493-01feda51250d\",\"type\":\"ColumnDataSource\"},\"glyph\":{\"id\":\"65002c29-bdf1-4a56-89e2-2b218258ab39\",\"type\":\"Rect\"},\"hover_glyph\":null,\"nonselection_glyph\":null,\"selection_glyph\":null},\"id\":\"3a276428-4ec8-4c24-a215-6ea15829d106\",\"type\":\"GlyphRenderer\"},{\"attributes\":{\"fill_alpha\":{\"field\":\"fill_alpha\"},\"fill_color\":{\"field\":\"color\"},\"height\":{\"field\":\"height\",\"units\":\"data\"},\"line_color\":{\"field\":\"line_color\"},\"width\":{\"field\":\"width\",\"units\":\"data\"},\"x\":{\"field\":\"x\"},\"y\":{\"field\":\"y\"}},\"id\":\"78991af1-7f1b-490f-9c46-4c29e4172e80\",\"type\":\"Rect\"},{\"attributes\":{\"fill_alpha\":{\"field\":\"fill_alpha\"},\"fill_color\":{\"field\":\"color\"},\"height\":{\"field\":\"height\",\"units\":\"data\"},\"line_color\":{\"field\":\"line_color\"},\"width\":{\"field\":\"width\",\"units\":\"data\"},\"x\":{\"field\":\"x\"},\"y\":{\"field\":\"y\"}},\"id\":\"52178dba-5430-4552-8465-a0035557ea76\",\"type\":\"Rect\"},{\"attributes\":{\"plot\":{\"id\":\"272439a0-198c-454c-9dd0-2e5716891866\",\"subtype\":\"Chart\",\"type\":\"Plot\"}},\"id\":\"88a67607-2325-4d78-b072-b12138deecdb\",\"type\":\"HelpTool\"},{\"attributes\":{\"data_source\":{\"id\":\"49e562b6-778b-403a-b7ef-25c1342cd72d\",\"type\":\"ColumnDataSource\"},\"glyph\":{\"id\":\"17138348-5c99-42ac-9c57-efa13e83beb1\",\"type\":\"Rect\"},\"hover_glyph\":null,\"nonselection_glyph\":null,\"selection_glyph\":null},\"id\":\"4e96d6ed-8199-40ab-a273-4fca30c0568b\",\"type\":\"GlyphRenderer\"},{\"attributes\":{\"callback\":null,\"column_names\":[\"color\",\"label\",\"height\",\"width\",\"fill_alpha\",\"y\",\"line_alpha\",\"x\",\"line_color\"],\"data\":{\"chart_index\":[\"(0.633933, 0.655467]\"],\"color\":[\"LightSlateGray\"],\"fill_alpha\":[0.8],\"height\":[4.0],\"label\":[\"(0.633933, 0.655467]\"],\"line_alpha\":[1.0],\"line_color\":[\"black\"],\"width\":[0.021533333333333293],\"x\":[\"0.6447\"],\"y\":[2.0]}},\"id\":\"d9227993-0c23-4705-8a67-35346523d937\",\"type\":\"ColumnDataSource\"},{\"attributes\":{\"callback\":null,\"column_names\":[\"color\",\"label\",\"height\",\"width\",\"fill_alpha\",\"y\",\"line_alpha\",\"x\",\"line_color\"],\"data\":{\"chart_index\":[\"(0.763133, 0.784667]\"],\"color\":[\"LightSlateGray\"],\"fill_alpha\":[0.8],\"height\":[10.0],\"label\":[\"(0.763133, 0.784667]\"],\"line_alpha\":[1.0],\"line_color\":[\"black\"],\"width\":[0.021533333333333293],\"x\":[\"0.7739\"],\"y\":[5.0]}},\"id\":\"b0d67bce-7be1-45dc-9aa3-520407fc78f1\",\"type\":\"ColumnDataSource\"},{\"attributes\":{\"fill_alpha\":{\"field\":\"fill_alpha\"},\"fill_color\":{\"field\":\"color\"},\"height\":{\"field\":\"height\",\"units\":\"data\"},\"line_color\":{\"field\":\"line_color\"},\"width\":{\"field\":\"width\",\"units\":\"data\"},\"x\":{\"field\":\"x\"},\"y\":{\"field\":\"y\"}},\"id\":\"ca32190a-b7e0-4f4f-b37d-9811e5b39012\",\"type\":\"Rect\"},{\"attributes\":{\"fill_alpha\":{\"field\":\"fill_alpha\"},\"fill_color\":{\"field\":\"color\"},\"height\":{\"field\":\"height\",\"units\":\"data\"},\"line_color\":{\"field\":\"line_color\"},\"width\":{\"field\":\"width\",\"units\":\"data\"},\"x\":{\"field\":\"x\"},\"y\":{\"field\":\"y\"}},\"id\":\"25ede915-b86d-422f-a281-d7144ff1bfdb\",\"type\":\"Rect\"},{\"attributes\":{\"callback\":null,\"column_names\":[\"color\",\"label\",\"height\",\"width\",\"fill_alpha\",\"y\",\"line_alpha\",\"x\",\"line_color\"],\"data\":{\"chart_index\":[\"(0.397067, 0.418600]\"],\"color\":[\"LightSlateGray\"],\"fill_alpha\":[0.8],\"height\":[0.0],\"label\":[\"(0.397067, 0.418600]\"],\"line_alpha\":[1.0],\"line_color\":[\"black\"],\"width\":[0.021533333333333293],\"x\":[\"0.4078335\"],\"y\":[0.0]}},\"id\":\"e0e4b338-06e8-462d-899c-ac71020c966b\",\"type\":\"ColumnDataSource\"},{\"attributes\":{\"callback\":null,\"column_names\":[\"color\",\"label\",\"height\",\"width\",\"fill_alpha\",\"y\",\"line_alpha\",\"x\",\"line_color\"],\"data\":{\"chart_index\":[\"(0.655467, 0.677000]\"],\"color\":[\"LightSlateGray\"],\"fill_alpha\":[0.8],\"height\":[7.0],\"label\":[\"(0.655467, 0.677000]\"],\"line_alpha\":[1.0],\"line_color\":[\"black\"],\"width\":[0.021533333333333404],\"x\":[\"0.6662335\"],\"y\":[3.5]}},\"id\":\"c0361562-a8a4-49f1-a7a4-6d3e0ac9f7a2\",\"type\":\"ColumnDataSource\"},{\"attributes\":{\"callback\":null,\"end\":1.0338501666666666,\"start\":0.3201498333333333},\"id\":\"ee5201ff-7bfe-44e1-a51b-983b693a28f8\",\"type\":\"Range1d\"},{\"attributes\":{\"data_source\":{\"id\":\"d86f592f-2b6a-4a38-b30f-b5209c8e9610\",\"type\":\"ColumnDataSource\"},\"glyph\":{\"id\":\"fa5f7049-fca8-40d7-a4bd-36eb3514d2d7\",\"type\":\"Rect\"},\"hover_glyph\":null,\"nonselection_glyph\":null,\"selection_glyph\":null},\"id\":\"8648c598-3bc9-426a-a7ea-fe06b23c66f0\",\"type\":\"GlyphRenderer\"},{\"attributes\":{\"plot\":{\"id\":\"272439a0-198c-454c-9dd0-2e5716891866\",\"subtype\":\"Chart\",\"type\":\"Plot\"}},\"id\":\"f760a921-e485-433b-8033-b883d52e2dd4\",\"type\":\"SaveTool\"},{\"attributes\":{\"data_source\":{\"id\":\"75f163a5-a459-4d83-956f-8dc68d88f1c9\",\"type\":\"ColumnDataSource\"},\"glyph\":{\"id\":\"ca32190a-b7e0-4f4f-b37d-9811e5b39012\",\"type\":\"Rect\"},\"hover_glyph\":null,\"nonselection_glyph\":null,\"selection_glyph\":null},\"id\":\"eaee9742-85fb-4952-b6fd-91ae3fdadc24\",\"type\":\"GlyphRenderer\"},{\"attributes\":{\"callback\":null,\"column_names\":[\"color\",\"label\",\"height\",\"width\",\"fill_alpha\",\"y\",\"line_alpha\",\"x\",\"line_color\"],\"data\":{\"chart_index\":[\"(0.547800, 0.569333]\"],\"color\":[\"LightSlateGray\"],\"fill_alpha\":[0.8],\"height\":[4.0],\"label\":[\"(0.547800, 0.569333]\"],\"line_alpha\":[1.0],\"line_color\":[\"black\"],\"width\":[0.021533333333333293],\"x\":[\"0.5585665\"],\"y\":[2.0]}},\"id\":\"8b97280a-b146-4fb4-8280-e05599e78e29\",\"type\":\"ColumnDataSource\"},{\"attributes\":{\"fill_alpha\":{\"field\":\"fill_alpha\"},\"fill_color\":{\"field\":\"color\"},\"height\":{\"field\":\"height\",\"units\":\"data\"},\"line_color\":{\"field\":\"line_color\"},\"width\":{\"field\":\"width\",\"units\":\"data\"},\"x\":{\"field\":\"x\"},\"y\":{\"field\":\"y\"}},\"id\":\"ff6495a4-3179-4963-b3e1-fec9cc216ded\",\"type\":\"Rect\"},{\"attributes\":{\"data_source\":{\"id\":\"311a59ae-f419-49b7-9719-67caae1656c2\",\"type\":\"ColumnDataSource\"},\"glyph\":{\"id\":\"c7f7e223-caef-4d69-85fd-7add51fdd177\",\"type\":\"Rect\"},\"hover_glyph\":null,\"nonselection_glyph\":null,\"selection_glyph\":null},\"id\":\"3f2105ca-bde9-4538-90e6-05c4d93b0d63\",\"type\":\"GlyphRenderer\"},{\"attributes\":{\"callback\":null,\"column_names\":[\"color\",\"label\",\"height\",\"width\",\"fill_alpha\",\"y\",\"line_alpha\",\"x\",\"line_color\"],\"data\":{\"chart_index\":[\"[0.354000, 0.375533]\"],\"color\":[\"LightSlateGray\"],\"fill_alpha\":[0.8],\"height\":[1.0],\"label\":[\"[0.354000, 0.375533]\"],\"line_alpha\":[1.0],\"line_color\":[\"black\"],\"width\":[0.02153333333333335],\"x\":[\"0.3647665\"],\"y\":[0.5]}},\"id\":\"941a5965-6014-41b3-a617-f93a46310108\",\"type\":\"ColumnDataSource\"},{\"attributes\":{\"plot\":null,\"text\":\"LOF Outliers : Abnormal Predict Probability\"},\"id\":\"feb44144-0189-4fc7-bc6f-e43a4ddb438e\",\"type\":\"Title\"},{\"attributes\":{\"callback\":null,\"column_names\":[\"color\",\"label\",\"height\",\"width\",\"fill_alpha\",\"y\",\"line_alpha\",\"x\",\"line_color\"],\"data\":{\"chart_index\":[\"(0.956933, 0.978467]\"],\"color\":[\"LightSlateGray\"],\"fill_alpha\":[0.8],\"height\":[89.0],\"label\":[\"(0.956933, 0.978467]\"],\"line_alpha\":[1.0],\"line_color\":[\"black\"],\"width\":[0.021533333333333404],\"x\":[\"0.9677\"],\"y\":[44.5]}},\"id\":\"c223c4f1-9634-405f-bbd2-d40cf01dba65\",\"type\":\"ColumnDataSource\"},{\"attributes\":{\"fill_alpha\":{\"field\":\"fill_alpha\"},\"fill_color\":{\"field\":\"color\"},\"height\":{\"field\":\"height\",\"units\":\"data\"},\"line_color\":{\"field\":\"line_color\"},\"width\":{\"field\":\"width\",\"units\":\"data\"},\"x\":{\"field\":\"x\"},\"y\":{\"field\":\"y\"}},\"id\":\"0e5e9b3f-e7da-4cca-ba5b-2aeb91364e64\",\"type\":\"Rect\"},{\"attributes\":{\"data_source\":{\"id\":\"b0d67bce-7be1-45dc-9aa3-520407fc78f1\",\"type\":\"ColumnDataSource\"},\"glyph\":{\"id\":\"2187ae67-261e-4fed-95ad-c40484378bd7\",\"type\":\"Rect\"},\"hover_glyph\":null,\"nonselection_glyph\":null,\"selection_glyph\":null},\"id\":\"060decfc-3efb-48b2-8ade-ac274e230f02\",\"type\":\"GlyphRenderer\"},{\"attributes\":{\"fill_alpha\":{\"field\":\"fill_alpha\"},\"fill_color\":{\"field\":\"color\"},\"height\":{\"field\":\"height\",\"units\":\"data\"},\"line_color\":{\"field\":\"line_color\"},\"width\":{\"field\":\"width\",\"units\":\"data\"},\"x\":{\"field\":\"x\"},\"y\":{\"field\":\"y\"}},\"id\":\"d2ef5267-06a4-41eb-89a3-540fac484740\",\"type\":\"Rect\"},{\"attributes\":{\"fill_alpha\":{\"field\":\"fill_alpha\"},\"fill_color\":{\"field\":\"color\"},\"height\":{\"field\":\"height\",\"units\":\"data\"},\"line_color\":{\"field\":\"line_color\"},\"width\":{\"field\":\"width\",\"units\":\"data\"},\"x\":{\"field\":\"x\"},\"y\":{\"field\":\"y\"}},\"id\":\"fa5f7049-fca8-40d7-a4bd-36eb3514d2d7\",\"type\":\"Rect\"},{\"attributes\":{\"callback\":null,\"column_names\":[\"color\",\"label\",\"height\",\"width\",\"fill_alpha\",\"y\",\"line_alpha\",\"x\",\"line_color\"],\"data\":{\"chart_index\":[\"(0.375533, 0.397067]\"],\"color\":[\"LightSlateGray\"],\"fill_alpha\":[0.8],\"height\":[1.0],\"label\":[\"(0.375533, 0.397067]\"],\"line_alpha\":[1.0],\"line_color\":[\"black\"],\"width\":[0.02153333333333335],\"x\":[\"0.3863\"],\"y\":[0.5]}},\"id\":\"6b82d15c-48c6-4b64-ba77-b4ec7dcdf3cb\",\"type\":\"ColumnDataSource\"},{\"attributes\":{\"fill_alpha\":{\"field\":\"fill_alpha\"},\"fill_color\":{\"field\":\"color\"},\"height\":{\"field\":\"height\",\"units\":\"data\"},\"line_color\":{\"field\":\"line_color\"},\"width\":{\"field\":\"width\",\"units\":\"data\"},\"x\":{\"field\":\"x\"},\"y\":{\"field\":\"y\"}},\"id\":\"2187ae67-261e-4fed-95ad-c40484378bd7\",\"type\":\"Rect\"},{\"attributes\":{\"callback\":null,\"column_names\":[\"color\",\"label\",\"height\",\"width\",\"fill_alpha\",\"y\",\"line_alpha\",\"x\",\"line_color\"],\"data\":{\"chart_index\":[\"(0.698533, 0.720067]\"],\"color\":[\"LightSlateGray\"],\"fill_alpha\":[0.8],\"height\":[7.0],\"label\":[\"(0.698533, 0.720067]\"],\"line_alpha\":[1.0],\"line_color\":[\"black\"],\"width\":[0.021533333333333293],\"x\":[\"0.7093\"],\"y\":[3.5]}},\"id\":\"aad268b0-d6ef-4da2-8c26-e17826b63649\",\"type\":\"ColumnDataSource\"},{\"attributes\":{\"data_source\":{\"id\":\"8b97280a-b146-4fb4-8280-e05599e78e29\",\"type\":\"ColumnDataSource\"},\"glyph\":{\"id\":\"ee632572-36f4-4665-bf73-3ec654c787a9\",\"type\":\"Rect\"},\"hover_glyph\":null,\"nonselection_glyph\":null,\"selection_glyph\":null},\"id\":\"981308b9-9fd3-4af3-8052-206382354955\",\"type\":\"GlyphRenderer\"},{\"attributes\":{\"plot\":{\"id\":\"272439a0-198c-454c-9dd0-2e5716891866\",\"subtype\":\"Chart\",\"type\":\"Plot\"}},\"id\":\"8193e7b9-b44d-4402-84b8-f8c8aaf4076b\",\"type\":\"ResetTool\"},{\"attributes\":{\"callback\":null,\"column_names\":[\"color\",\"label\",\"height\",\"width\",\"fill_alpha\",\"y\",\"line_alpha\",\"x\",\"line_color\"],\"data\":{\"chart_index\":[\"(0.892333, 0.913867]\"],\"color\":[\"LightSlateGray\"],\"fill_alpha\":[0.8],\"height\":[11.0],\"label\":[\"(0.892333, 0.913867]\"],\"line_alpha\":[1.0],\"line_color\":[\"black\"],\"width\":[0.021533333333333404],\"x\":[\"0.9031\"],\"y\":[5.5]}},\"id\":\"a9a0a1d0-45c1-46a1-ba5d-6e4d7cb2e47d\",\"type\":\"ColumnDataSource\"},{\"attributes\":{\"plot\":{\"id\":\"272439a0-198c-454c-9dd0-2e5716891866\",\"subtype\":\"Chart\",\"type\":\"Plot\"}},\"id\":\"69fa0eb3-0a96-4de8-8d90-00554c157e2d\",\"type\":\"PanTool\"},{\"attributes\":{\"fill_alpha\":{\"field\":\"fill_alpha\"},\"fill_color\":{\"field\":\"color\"},\"height\":{\"field\":\"height\",\"units\":\"data\"},\"line_color\":{\"field\":\"line_color\"},\"width\":{\"field\":\"width\",\"units\":\"data\"},\"x\":{\"field\":\"x\"},\"y\":{\"field\":\"y\"}},\"id\":\"d38f74b7-ee76-4bc8-9ef0-ea70b87ae669\",\"type\":\"Rect\"},{\"attributes\":{\"overlay\":{\"id\":\"4bbb619f-8ad0-42b2-b1da-bc8bdd468c6d\",\"type\":\"BoxAnnotation\"},\"plot\":{\"id\":\"272439a0-198c-454c-9dd0-2e5716891866\",\"subtype\":\"Chart\",\"type\":\"Plot\"}},\"id\":\"3a114848-61bf-49b5-9930-ac5d96118e76\",\"type\":\"BoxZoomTool\"},{\"attributes\":{\"fill_alpha\":{\"field\":\"fill_alpha\"},\"fill_color\":{\"field\":\"color\"},\"height\":{\"field\":\"height\",\"units\":\"data\"},\"line_color\":{\"field\":\"line_color\"},\"width\":{\"field\":\"width\",\"units\":\"data\"},\"x\":{\"field\":\"x\"},\"y\":{\"field\":\"y\"}},\"id\":\"d727146f-cdbd-4e4d-8346-8e849d6a093a\",\"type\":\"Rect\"},{\"attributes\":{\"data_source\":{\"id\":\"4af378ce-2d82-4eba-bbcf-3504c65bea30\",\"type\":\"ColumnDataSource\"},\"glyph\":{\"id\":\"25ede915-b86d-422f-a281-d7144ff1bfdb\",\"type\":\"Rect\"},\"hover_glyph\":null,\"nonselection_glyph\":null,\"selection_glyph\":null},\"id\":\"c8090eb7-2959-4f8f-990a-5b7f74522a0c\",\"type\":\"GlyphRenderer\"},{\"attributes\":{\"data_source\":{\"id\":\"88c4efec-52e6-40b2-934b-30da77de3628\",\"type\":\"ColumnDataSource\"},\"glyph\":{\"id\":\"52178dba-5430-4552-8465-a0035557ea76\",\"type\":\"Rect\"},\"hover_glyph\":null,\"nonselection_glyph\":null,\"selection_glyph\":null},\"id\":\"87a4e06d-cd85-4c18-9fb3-fbd8994b6f3d\",\"type\":\"GlyphRenderer\"},{\"attributes\":{\"data_source\":{\"id\":\"5f7dcc8d-b229-4f20-9945-0abad3803a9c\",\"type\":\"ColumnDataSource\"},\"glyph\":{\"id\":\"a3c6db0e-19ae-4821-8c28-d427780a12c6\",\"type\":\"Rect\"},\"hover_glyph\":null,\"nonselection_glyph\":null,\"selection_glyph\":null},\"id\":\"62368572-8949-4584-a52e-b4f7d6b5b0d5\",\"type\":\"GlyphRenderer\"},{\"attributes\":{},\"id\":\"66acf4bd-894d-45da-8391-23ff20715f93\",\"type\":\"BasicTicker\"},{\"attributes\":{\"fill_alpha\":{\"field\":\"fill_alpha\"},\"fill_color\":{\"field\":\"color\"},\"height\":{\"field\":\"height\",\"units\":\"data\"},\"line_color\":{\"field\":\"line_color\"},\"width\":{\"field\":\"width\",\"units\":\"data\"},\"x\":{\"field\":\"x\"},\"y\":{\"field\":\"y\"}},\"id\":\"61e8f918-28d2-4a5b-ba08-a2b1bb87f5e0\",\"type\":\"Rect\"},{\"attributes\":{\"fill_alpha\":{\"field\":\"fill_alpha\"},\"fill_color\":{\"field\":\"color\"},\"height\":{\"field\":\"height\",\"units\":\"data\"},\"line_color\":{\"field\":\"line_color\"},\"width\":{\"field\":\"width\",\"units\":\"data\"},\"x\":{\"field\":\"x\"},\"y\":{\"field\":\"y\"}},\"id\":\"c6ad6214-99e4-4f0a-b742-a2cf93a3d7f5\",\"type\":\"Rect\"},{\"attributes\":{\"data_source\":{\"id\":\"7457db9d-8813-401a-b4f3-1e66e55e7f59\",\"type\":\"ColumnDataSource\"},\"glyph\":{\"id\":\"c6ad6214-99e4-4f0a-b742-a2cf93a3d7f5\",\"type\":\"Rect\"},\"hover_glyph\":null,\"nonselection_glyph\":null,\"selection_glyph\":null},\"id\":\"8cd96664-8a48-4999-b1f8-b19193822760\",\"type\":\"GlyphRenderer\"},{\"attributes\":{\"data_source\":{\"id\":\"1918ac34-0314-4107-938c-843da2a052e5\",\"type\":\"ColumnDataSource\"},\"glyph\":{\"id\":\"6ab95c16-50d8-43a4-933b-821ee32d8522\",\"type\":\"Rect\"},\"hover_glyph\":null,\"nonselection_glyph\":null,\"selection_glyph\":null},\"id\":\"f88e1aa8-a74f-4784-8306-c93a5f26e1b2\",\"type\":\"GlyphRenderer\"},{\"attributes\":{\"data_source\":{\"id\":\"d9227993-0c23-4705-8a67-35346523d937\",\"type\":\"ColumnDataSource\"},\"glyph\":{\"id\":\"1ec39d80-27db-494a-803e-ae672c3e1e6f\",\"type\":\"Rect\"},\"hover_glyph\":null,\"nonselection_glyph\":null,\"selection_glyph\":null},\"id\":\"932370cb-5ef8-48f2-891a-1b351b8928b6\",\"type\":\"GlyphRenderer\"},{\"attributes\":{\"fill_alpha\":{\"field\":\"fill_alpha\"},\"fill_color\":{\"field\":\"color\"},\"height\":{\"field\":\"height\",\"units\":\"data\"},\"line_color\":{\"field\":\"line_color\"},\"width\":{\"field\":\"width\",\"units\":\"data\"},\"x\":{\"field\":\"x\"},\"y\":{\"field\":\"y\"}},\"id\":\"1ec39d80-27db-494a-803e-ae672c3e1e6f\",\"type\":\"Rect\"},{\"attributes\":{\"fill_alpha\":{\"field\":\"fill_alpha\"},\"fill_color\":{\"field\":\"color\"},\"height\":{\"field\":\"height\",\"units\":\"data\"},\"line_color\":{\"field\":\"line_color\"},\"width\":{\"field\":\"width\",\"units\":\"data\"},\"x\":{\"field\":\"x\"},\"y\":{\"field\":\"y\"}},\"id\":\"130432fa-e2d1-43c1-98e5-4f89fe179663\",\"type\":\"Rect\"},{\"attributes\":{\"fill_alpha\":{\"field\":\"fill_alpha\"},\"fill_color\":{\"field\":\"color\"},\"height\":{\"field\":\"height\",\"units\":\"data\"},\"line_color\":{\"field\":\"line_color\"},\"width\":{\"field\":\"width\",\"units\":\"data\"},\"x\":{\"field\":\"x\"},\"y\":{\"field\":\"y\"}},\"id\":\"0564d9ce-d3c3-4e45-870c-7e8f68118b94\",\"type\":\"Rect\"},{\"attributes\":{\"fill_alpha\":{\"field\":\"fill_alpha\"},\"fill_color\":{\"field\":\"color\"},\"height\":{\"field\":\"height\",\"units\":\"data\"},\"line_color\":{\"field\":\"line_color\"},\"width\":{\"field\":\"width\",\"units\":\"data\"},\"x\":{\"field\":\"x\"},\"y\":{\"field\":\"y\"}},\"id\":\"a6a89d5f-744d-4e28-b902-6cf2694835ee\",\"type\":\"Rect\"},{\"attributes\":{\"fill_alpha\":{\"field\":\"fill_alpha\"},\"fill_color\":{\"field\":\"color\"},\"height\":{\"field\":\"height\",\"units\":\"data\"},\"line_color\":{\"field\":\"line_color\"},\"width\":{\"field\":\"width\",\"units\":\"data\"},\"x\":{\"field\":\"x\"},\"y\":{\"field\":\"y\"}},\"id\":\"6ab95c16-50d8-43a4-933b-821ee32d8522\",\"type\":\"Rect\"},{\"attributes\":{\"data_source\":{\"id\":\"98296611-cc17-445b-b060-c7264d9e4eea\",\"type\":\"ColumnDataSource\"},\"glyph\":{\"id\":\"d38f74b7-ee76-4bc8-9ef0-ea70b87ae669\",\"type\":\"Rect\"},\"hover_glyph\":null,\"nonselection_glyph\":null,\"selection_glyph\":null},\"id\":\"7162cd5a-cea9-4f55-83b9-f815fd180096\",\"type\":\"GlyphRenderer\"},{\"attributes\":{\"fill_alpha\":{\"field\":\"fill_alpha\"},\"fill_color\":{\"field\":\"color\"},\"height\":{\"field\":\"height\",\"units\":\"data\"},\"line_color\":{\"field\":\"line_color\"},\"width\":{\"field\":\"width\",\"units\":\"data\"},\"x\":{\"field\":\"x\"},\"y\":{\"field\":\"y\"}},\"id\":\"6875c8c5-f1d3-428e-bd5d-3c2dd66a1b21\",\"type\":\"Rect\"},{\"attributes\":{\"callback\":null,\"column_names\":[\"color\",\"label\",\"height\",\"width\",\"fill_alpha\",\"y\",\"line_alpha\",\"x\",\"line_color\"],\"data\":{\"chart_index\":[\"(0.461667, 0.483200]\"],\"color\":[\"LightSlateGray\"],\"fill_alpha\":[0.8],\"height\":[1.0],\"label\":[\"(0.461667, 0.483200]\"],\"line_alpha\":[1.0],\"line_color\":[\"black\"],\"width\":[0.021533333333333293],\"x\":[\"0.4724335\"],\"y\":[0.5]}},\"id\":\"0678182c-e946-4f4f-bcb3-df38de32bc2a\",\"type\":\"ColumnDataSource\"},{\"attributes\":{\"data_source\":{\"id\":\"941a5965-6014-41b3-a617-f93a46310108\",\"type\":\"ColumnDataSource\"},\"glyph\":{\"id\":\"61e8f918-28d2-4a5b-ba08-a2b1bb87f5e0\",\"type\":\"Rect\"},\"hover_glyph\":null,\"nonselection_glyph\":null,\"selection_glyph\":null},\"id\":\"329ee3f8-32fb-4a49-b682-40d5128c3be5\",\"type\":\"GlyphRenderer\"},{\"attributes\":{\"data_source\":{\"id\":\"c0361562-a8a4-49f1-a7a4-6d3e0ac9f7a2\",\"type\":\"ColumnDataSource\"},\"glyph\":{\"id\":\"31823d2b-41cd-45cb-aaaa-1a8502ba82a2\",\"type\":\"Rect\"},\"hover_glyph\":null,\"nonselection_glyph\":null,\"selection_glyph\":null},\"id\":\"6a4a2ce4-f92c-411e-b930-4b24146b8af8\",\"type\":\"GlyphRenderer\"},{\"attributes\":{},\"id\":\"06eb7091-494b-4183-b7f5-ef2399f4aecc\",\"type\":\"BasicTickFormatter\"},{\"attributes\":{},\"id\":\"58fac596-120f-42e0-a840-73f0c61c7f24\",\"type\":\"ToolEvents\"},{\"attributes\":{\"callback\":null,\"column_names\":[\"color\",\"label\",\"height\",\"width\",\"fill_alpha\",\"y\",\"line_alpha\",\"x\",\"line_color\"],\"data\":{\"chart_index\":[\"(0.677000, 0.698533]\"],\"color\":[\"LightSlateGray\"],\"fill_alpha\":[0.8],\"height\":[4.0],\"label\":[\"(0.677000, 0.698533]\"],\"line_alpha\":[1.0],\"line_color\":[\"black\"],\"width\":[0.021533333333333293],\"x\":[\"0.6877665\"],\"y\":[2.0]}},\"id\":\"c7d6be6c-1056-4001-b400-867230056205\",\"type\":\"ColumnDataSource\"},{\"attributes\":{\"data_source\":{\"id\":\"3c182b25-e350-40e4-9473-4c6202419048\",\"type\":\"ColumnDataSource\"},\"glyph\":{\"id\":\"86954171-701d-45d3-8299-ad13817d3e53\",\"type\":\"Rect\"},\"hover_glyph\":null,\"nonselection_glyph\":null,\"selection_glyph\":null},\"id\":\"f92237c2-f841-40b5-9cf0-01cae100c7a8\",\"type\":\"GlyphRenderer\"},{\"attributes\":{\"callback\":null,\"column_names\":[\"color\",\"label\",\"height\",\"width\",\"fill_alpha\",\"y\",\"line_alpha\",\"x\",\"line_color\"],\"data\":{\"chart_index\":[\"(0.806200, 0.827733]\"],\"color\":[\"LightSlateGray\"],\"fill_alpha\":[0.8],\"height\":[3.0],\"label\":[\"(0.806200, 0.827733]\"],\"line_alpha\":[1.0],\"line_color\":[\"black\"],\"width\":[0.021533333333333293],\"x\":[\"0.8169665\"],\"y\":[1.5]}},\"id\":\"311a59ae-f419-49b7-9719-67caae1656c2\",\"type\":\"ColumnDataSource\"},{\"attributes\":{\"fill_alpha\":{\"field\":\"fill_alpha\"},\"fill_color\":{\"field\":\"color\"},\"height\":{\"field\":\"height\",\"units\":\"data\"},\"line_color\":{\"field\":\"line_color\"},\"width\":{\"field\":\"width\",\"units\":\"data\"},\"x\":{\"field\":\"x\"},\"y\":{\"field\":\"y\"}},\"id\":\"b711d958-6e79-4f66-b1d6-37f74522c89b\",\"type\":\"Rect\"},{\"attributes\":{\"data_source\":{\"id\":\"c7d6be6c-1056-4001-b400-867230056205\",\"type\":\"ColumnDataSource\"},\"glyph\":{\"id\":\"81c5a40f-77df-43c0-a11d-764db67f1091\",\"type\":\"Rect\"},\"hover_glyph\":null,\"nonselection_glyph\":null,\"selection_glyph\":null},\"id\":\"15b9cb44-02bd-498c-99d6-b93d7a086cad\",\"type\":\"GlyphRenderer\"},{\"attributes\":{\"callback\":null,\"column_names\":[\"color\",\"label\",\"height\",\"width\",\"fill_alpha\",\"y\",\"line_alpha\",\"x\",\"line_color\"],\"data\":{\"chart_index\":[\"(0.870800, 0.892333]\"],\"color\":[\"LightSlateGray\"],\"fill_alpha\":[0.8],\"height\":[10.0],\"label\":[\"(0.870800, 0.892333]\"],\"line_alpha\":[1.0],\"line_color\":[\"black\"],\"width\":[0.021533333333333293],\"x\":[\"0.8815665\"],\"y\":[5.0]}},\"id\":\"4af378ce-2d82-4eba-bbcf-3504c65bea30\",\"type\":\"ColumnDataSource\"},{\"attributes\":{\"callback\":null,\"column_names\":[\"color\",\"label\",\"height\",\"width\",\"fill_alpha\",\"y\",\"line_alpha\",\"x\",\"line_color\"],\"data\":{\"chart_index\":[\"(0.440133, 0.461667]\"],\"color\":[\"LightSlateGray\"],\"fill_alpha\":[0.8],\"height\":[0.0],\"label\":[\"(0.440133, 0.461667]\"],\"line_alpha\":[1.0],\"line_color\":[\"black\"],\"width\":[0.02153333333333335],\"x\":[\"0.45089999999999997\"],\"y\":[0.0]}},\"id\":\"284ac03a-e3b4-4777-b3c1-97567e1d9976\",\"type\":\"ColumnDataSource\"},{\"attributes\":{\"callback\":null,\"column_names\":[\"color\",\"label\",\"height\",\"width\",\"fill_alpha\",\"y\",\"line_alpha\",\"x\",\"line_color\"],\"data\":{\"chart_index\":[\"(0.849267, 0.870800]\"],\"color\":[\"LightSlateGray\"],\"fill_alpha\":[0.8],\"height\":[8.0],\"label\":[\"(0.849267, 0.870800]\"],\"line_alpha\":[1.0],\"line_color\":[\"black\"],\"width\":[0.021533333333333404],\"x\":[\"0.8600335\"],\"y\":[4.0]}},\"id\":\"75f163a5-a459-4d83-956f-8dc68d88f1c9\",\"type\":\"ColumnDataSource\"},{\"attributes\":{\"callback\":null,\"column_names\":[\"color\",\"label\",\"height\",\"width\",\"fill_alpha\",\"y\",\"line_alpha\",\"x\",\"line_color\"],\"data\":{\"chart_index\":[\"(0.935400, 0.956933]\"],\"color\":[\"LightSlateGray\"],\"fill_alpha\":[0.8],\"height\":[36.0],\"label\":[\"(0.935400, 0.956933]\"],\"line_alpha\":[1.0],\"line_color\":[\"black\"],\"width\":[0.021533333333333293],\"x\":[\"0.9461665\"],\"y\":[18.0]}},\"id\":\"1918ac34-0314-4107-938c-843da2a052e5\",\"type\":\"ColumnDataSource\"},{\"attributes\":{\"data_source\":{\"id\":\"734a20ac-bd4f-4954-84c6-4b39835c47c6\",\"type\":\"ColumnDataSource\"},\"glyph\":{\"id\":\"ff6495a4-3179-4963-b3e1-fec9cc216ded\",\"type\":\"Rect\"},\"hover_glyph\":null,\"nonselection_glyph\":null,\"selection_glyph\":null},\"id\":\"41559507-11a1-43ba-8f01-dd7ef5f23be4\",\"type\":\"GlyphRenderer\"},{\"attributes\":{\"location\":\"top_left\",\"plot\":{\"id\":\"272439a0-198c-454c-9dd0-2e5716891866\",\"subtype\":\"Chart\",\"type\":\"Plot\"}},\"id\":\"7de03f39-cbb5-498c-abca-0eb015790ebb\",\"type\":\"Legend\"},{\"attributes\":{\"active_drag\":\"auto\",\"active_scroll\":\"auto\",\"active_tap\":\"auto\",\"tools\":[{\"id\":\"69fa0eb3-0a96-4de8-8d90-00554c157e2d\",\"type\":\"PanTool\"},{\"id\":\"ec6f2823-0399-4673-a309-b867b46d0f9b\",\"type\":\"WheelZoomTool\"},{\"id\":\"3a114848-61bf-49b5-9930-ac5d96118e76\",\"type\":\"BoxZoomTool\"},{\"id\":\"f760a921-e485-433b-8033-b883d52e2dd4\",\"type\":\"SaveTool\"},{\"id\":\"8193e7b9-b44d-4402-84b8-f8c8aaf4076b\",\"type\":\"ResetTool\"},{\"id\":\"88a67607-2325-4d78-b072-b12138deecdb\",\"type\":\"HelpTool\"}]},\"id\":\"de7f63db-e85f-4708-acd3-497e893c1f80\",\"type\":\"Toolbar\"},{\"attributes\":{\"data_source\":{\"id\":\"07a1e6ae-7cb8-4968-b888-d07ca1272872\",\"type\":\"ColumnDataSource\"},\"glyph\":{\"id\":\"1945f9da-20d8-4b1b-8ede-1ec834a8ec56\",\"type\":\"Rect\"},\"hover_glyph\":null,\"nonselection_glyph\":null,\"selection_glyph\":null},\"id\":\"4cb3183d-0725-4cd7-b1f9-4d557c9356a2\",\"type\":\"GlyphRenderer\"},{\"attributes\":{\"callback\":null,\"column_names\":[\"color\",\"label\",\"height\",\"width\",\"fill_alpha\",\"y\",\"line_alpha\",\"x\",\"line_color\"],\"data\":{\"chart_index\":[\"(0.483200, 0.504733]\"],\"color\":[\"LightSlateGray\"],\"fill_alpha\":[0.8],\"height\":[4.0],\"label\":[\"(0.483200, 0.504733]\"],\"line_alpha\":[1.0],\"line_color\":[\"black\"],\"width\":[0.021533333333333293],\"x\":[\"0.4939665\"],\"y\":[2.0]}},\"id\":\"88c4efec-52e6-40b2-934b-30da77de3628\",\"type\":\"ColumnDataSource\"},{\"attributes\":{\"axis_label\":\"Predict Probability\",\"formatter\":{\"id\":\"2903ac05-9958-4e11-9fd9-385dd8891766\",\"type\":\"BasicTickFormatter\"},\"plot\":{\"id\":\"272439a0-198c-454c-9dd0-2e5716891866\",\"subtype\":\"Chart\",\"type\":\"Plot\"},\"ticker\":{\"id\":\"e45b32d2-43a7-432f-90f1-22cfb7e63771\",\"type\":\"BasicTicker\"}},\"id\":\"69e093ce-3aee-4225-9695-bacfa2673975\",\"type\":\"LinearAxis\"},{\"attributes\":{\"bottom_units\":\"screen\",\"fill_alpha\":{\"value\":0.5},\"fill_color\":{\"value\":\"lightgrey\"},\"left_units\":\"screen\",\"level\":\"overlay\",\"line_alpha\":{\"value\":1.0},\"line_color\":{\"value\":\"black\"},\"line_dash\":[4,4],\"line_width\":{\"value\":2},\"plot\":null,\"render_mode\":\"css\",\"right_units\":\"screen\",\"top_units\":\"screen\"},\"id\":\"4bbb619f-8ad0-42b2-b1da-bc8bdd468c6d\",\"type\":\"BoxAnnotation\"},{\"attributes\":{\"plot\":{\"id\":\"272439a0-198c-454c-9dd0-2e5716891866\",\"subtype\":\"Chart\",\"type\":\"Plot\"}},\"id\":\"ec6f2823-0399-4673-a309-b867b46d0f9b\",\"type\":\"WheelZoomTool\"},{\"attributes\":{\"callback\":null,\"column_names\":[\"color\",\"label\",\"height\",\"width\",\"fill_alpha\",\"y\",\"line_alpha\",\"x\",\"line_color\"],\"data\":{\"chart_index\":[\"(0.590867, 0.612400]\"],\"color\":[\"LightSlateGray\"],\"fill_alpha\":[0.8],\"height\":[0.0],\"label\":[\"(0.590867, 0.612400]\"],\"line_alpha\":[1.0],\"line_color\":[\"black\"],\"width\":[0.021533333333333404],\"x\":[\"0.6016335\"],\"y\":[0.0]}},\"id\":\"369b85bc-d80f-4d71-b244-16c2a31d8272\",\"type\":\"ColumnDataSource\"},{\"attributes\":{\"data_source\":{\"id\":\"ca717ad1-cd75-4302-a650-572df6d170a3\",\"type\":\"ColumnDataSource\"},\"glyph\":{\"id\":\"d727146f-cdbd-4e4d-8346-8e849d6a093a\",\"type\":\"Rect\"},\"hover_glyph\":null,\"nonselection_glyph\":null,\"selection_glyph\":null},\"id\":\"7b37d39c-3d4a-458c-91aa-393b4d5051b2\",\"type\":\"GlyphRenderer\"},{\"attributes\":{\"callback\":null,\"column_names\":[\"color\",\"label\",\"height\",\"width\",\"fill_alpha\",\"y\",\"line_alpha\",\"x\",\"line_color\"],\"data\":{\"chart_index\":[\"(0.569333, 0.590867]\"],\"color\":[\"LightSlateGray\"],\"fill_alpha\":[0.8],\"height\":[2.0],\"label\":[\"(0.569333, 0.590867]\"],\"line_alpha\":[1.0],\"line_color\":[\"black\"],\"width\":[0.021533333333333293],\"x\":[\"0.5801000000000001\"],\"y\":[1.0]}},\"id\":\"49e562b6-778b-403a-b7ef-25c1342cd72d\",\"type\":\"ColumnDataSource\"},{\"attributes\":{\"data_source\":{\"id\":\"369b85bc-d80f-4d71-b244-16c2a31d8272\",\"type\":\"ColumnDataSource\"},\"glyph\":{\"id\":\"78991af1-7f1b-490f-9c46-4c29e4172e80\",\"type\":\"Rect\"},\"hover_glyph\":null,\"nonselection_glyph\":null,\"selection_glyph\":null},\"id\":\"d596cc85-844b-4f29-93d6-a98f4254a904\",\"type\":\"GlyphRenderer\"},{\"attributes\":{},\"id\":\"2903ac05-9958-4e11-9fd9-385dd8891766\",\"type\":\"BasicTickFormatter\"},{\"attributes\":{\"fill_alpha\":{\"field\":\"fill_alpha\"},\"fill_color\":{\"field\":\"color\"},\"height\":{\"field\":\"height\",\"units\":\"data\"},\"line_color\":{\"field\":\"line_color\"},\"width\":{\"field\":\"width\",\"units\":\"data\"},\"x\":{\"field\":\"x\"},\"y\":{\"field\":\"y\"}},\"id\":\"c7f7e223-caef-4d69-85fd-7add51fdd177\",\"type\":\"Rect\"},{\"attributes\":{\"data_source\":{\"id\":\"ddcd81e5-3e8c-4e6f-a777-07f7e6477a0b\",\"type\":\"ColumnDataSource\"},\"glyph\":{\"id\":\"130432fa-e2d1-43c1-98e5-4f89fe179663\",\"type\":\"Rect\"},\"hover_glyph\":null,\"nonselection_glyph\":null,\"selection_glyph\":null},\"id\":\"de8046e6-f37c-44ff-8630-6ac72c226f62\",\"type\":\"GlyphRenderer\"},{\"attributes\":{\"callback\":null,\"column_names\":[\"color\",\"label\",\"height\",\"width\",\"fill_alpha\",\"y\",\"line_alpha\",\"x\",\"line_color\"],\"data\":{\"chart_index\":[\"(0.504733, 0.526267]\"],\"color\":[\"LightSlateGray\"],\"fill_alpha\":[0.8],\"height\":[2.0],\"label\":[\"(0.504733, 0.526267]\"],\"line_alpha\":[1.0],\"line_color\":[\"black\"],\"width\":[0.021533333333333404],\"x\":[\"0.5155000000000001\"],\"y\":[1.0]}},\"id\":\"ddcd81e5-3e8c-4e6f-a777-07f7e6477a0b\",\"type\":\"ColumnDataSource\"},{\"attributes\":{\"below\":[{\"id\":\"69e093ce-3aee-4225-9695-bacfa2673975\",\"type\":\"LinearAxis\"}],\"css_classes\":null,\"left\":[{\"id\":\"8e4c74be-f4f7-4fa1-8a80-07632d54dd6f\",\"type\":\"LinearAxis\"}],\"renderers\":[{\"id\":\"4bbb619f-8ad0-42b2-b1da-bc8bdd468c6d\",\"type\":\"BoxAnnotation\"},{\"id\":\"329ee3f8-32fb-4a49-b682-40d5128c3be5\",\"type\":\"GlyphRenderer\"},{\"id\":\"8f1c1fbd-9d21-4a68-acd4-46944369a98d\",\"type\":\"GlyphRenderer\"},{\"id\":\"ea1099ba-b41b-4546-846b-2b2d155e10e0\",\"type\":\"GlyphRenderer\"},{\"id\":\"7162cd5a-cea9-4f55-83b9-f815fd180096\",\"type\":\"GlyphRenderer\"},{\"id\":\"34d74c90-3489-4a36-af89-4a60f4a81444\",\"type\":\"GlyphRenderer\"},{\"id\":\"48f4e65b-d6f0-47e1-81b9-ebf70f89d009\",\"type\":\"GlyphRenderer\"},{\"id\":\"87a4e06d-cd85-4c18-9fb3-fbd8994b6f3d\",\"type\":\"GlyphRenderer\"},{\"id\":\"de8046e6-f37c-44ff-8630-6ac72c226f62\",\"type\":\"GlyphRenderer\"},{\"id\":\"4cb3183d-0725-4cd7-b1f9-4d557c9356a2\",\"type\":\"GlyphRenderer\"},{\"id\":\"981308b9-9fd3-4af3-8052-206382354955\",\"type\":\"GlyphRenderer\"},{\"id\":\"4e96d6ed-8199-40ab-a273-4fca30c0568b\",\"type\":\"GlyphRenderer\"},{\"id\":\"d596cc85-844b-4f29-93d6-a98f4254a904\",\"type\":\"GlyphRenderer\"},{\"id\":\"7b37d39c-3d4a-458c-91aa-393b4d5051b2\",\"type\":\"GlyphRenderer\"},{\"id\":\"932370cb-5ef8-48f2-891a-1b351b8928b6\",\"type\":\"GlyphRenderer\"},{\"id\":\"6a4a2ce4-f92c-411e-b930-4b24146b8af8\",\"type\":\"GlyphRenderer\"},{\"id\":\"15b9cb44-02bd-498c-99d6-b93d7a086cad\",\"type\":\"GlyphRenderer\"},{\"id\":\"c8d85b2a-db97-49d8-98dc-8f2e1491c7c9\",\"type\":\"GlyphRenderer\"},{\"id\":\"8648c598-3bc9-426a-a7ea-fe06b23c66f0\",\"type\":\"GlyphRenderer\"},{\"id\":\"41559507-11a1-43ba-8f01-dd7ef5f23be4\",\"type\":\"GlyphRenderer\"},{\"id\":\"060decfc-3efb-48b2-8ade-ac274e230f02\",\"type\":\"GlyphRenderer\"},{\"id\":\"8cd96664-8a48-4999-b1f8-b19193822760\",\"type\":\"GlyphRenderer\"},{\"id\":\"3f2105ca-bde9-4538-90e6-05c4d93b0d63\",\"type\":\"GlyphRenderer\"},{\"id\":\"62368572-8949-4584-a52e-b4f7d6b5b0d5\",\"type\":\"GlyphRenderer\"},{\"id\":\"eaee9742-85fb-4952-b6fd-91ae3fdadc24\",\"type\":\"GlyphRenderer\"},{\"id\":\"c8090eb7-2959-4f8f-990a-5b7f74522a0c\",\"type\":\"GlyphRenderer\"},{\"id\":\"f0e40a34-e406-4be8-961a-52c1998230ee\",\"type\":\"GlyphRenderer\"},{\"id\":\"f92237c2-f841-40b5-9cf0-01cae100c7a8\",\"type\":\"GlyphRenderer\"},{\"id\":\"f88e1aa8-a74f-4784-8306-c93a5f26e1b2\",\"type\":\"GlyphRenderer\"},{\"id\":\"da8070aa-9f1d-4cb7-a624-31c37f9b6fbc\",\"type\":\"GlyphRenderer\"},{\"id\":\"3a276428-4ec8-4c24-a215-6ea15829d106\",\"type\":\"GlyphRenderer\"},{\"id\":\"7de03f39-cbb5-498c-abca-0eb015790ebb\",\"type\":\"Legend\"},{\"id\":\"69e093ce-3aee-4225-9695-bacfa2673975\",\"type\":\"LinearAxis\"},{\"id\":\"8e4c74be-f4f7-4fa1-8a80-07632d54dd6f\",\"type\":\"LinearAxis\"},{\"id\":\"72608d05-1780-4bed-9564-1c321991d49f\",\"type\":\"Grid\"}],\"title\":{\"id\":\"feb44144-0189-4fc7-bc6f-e43a4ddb438e\",\"type\":\"Title\"},\"tool_events\":{\"id\":\"58fac596-120f-42e0-a840-73f0c61c7f24\",\"type\":\"ToolEvents\"},\"toolbar\":{\"id\":\"de7f63db-e85f-4708-acd3-497e893c1f80\",\"type\":\"Toolbar\"},\"x_mapper_type\":\"auto\",\"x_range\":{\"id\":\"ee5201ff-7bfe-44e1-a51b-983b693a28f8\",\"type\":\"Range1d\"},\"y_mapper_type\":\"auto\",\"y_range\":{\"id\":\"14c1b038-0abf-423a-ae6f-1378d7ab8943\",\"type\":\"Range1d\"}},\"id\":\"272439a0-198c-454c-9dd0-2e5716891866\",\"subtype\":\"Chart\",\"type\":\"Plot\"},{\"attributes\":{\"callback\":null,\"column_names\":[\"color\",\"label\",\"height\",\"width\",\"fill_alpha\",\"y\",\"line_alpha\",\"x\",\"line_color\"],\"data\":{\"chart_index\":[\"(0.526267, 0.547800]\"],\"color\":[\"LightSlateGray\"],\"fill_alpha\":[0.8],\"height\":[2.0],\"label\":[\"(0.526267, 0.547800]\"],\"line_alpha\":[1.0],\"line_color\":[\"black\"],\"width\":[0.021533333333333404],\"x\":[\"0.5370334999999999\"],\"y\":[1.0]}},\"id\":\"07a1e6ae-7cb8-4968-b888-d07ca1272872\",\"type\":\"ColumnDataSource\"},{\"attributes\":{\"callback\":null,\"column_names\":[\"color\",\"label\",\"height\",\"width\",\"fill_alpha\",\"y\",\"line_alpha\",\"x\",\"line_color\"],\"data\":{\"chart_index\":[\"(0.978467, 1.000000]\"],\"color\":[\"LightSlateGray\"],\"fill_alpha\":[0.8],\"height\":[146.0],\"label\":[\"(0.978467, 1.000000]\"],\"line_alpha\":[1.0],\"line_color\":[\"black\"],\"width\":[0.021533333333333293],\"x\":[\"0.9892335\"],\"y\":[73.0]}},\"id\":\"4c836e4a-9b32-4e1a-9493-01feda51250d\",\"type\":\"ColumnDataSource\"},{\"attributes\":{\"callback\":null,\"column_names\":[\"color\",\"label\",\"height\",\"width\",\"fill_alpha\",\"y\",\"line_alpha\",\"x\",\"line_color\"],\"data\":{\"chart_index\":[\"(0.741600, 0.763133]\"],\"color\":[\"LightSlateGray\"],\"fill_alpha\":[0.8],\"height\":[9.0],\"label\":[\"(0.741600, 0.763133]\"],\"line_alpha\":[1.0],\"line_color\":[\"black\"],\"width\":[0.021533333333333293],\"x\":[\"0.7523664999999999\"],\"y\":[4.5]}},\"id\":\"734a20ac-bd4f-4954-84c6-4b39835c47c6\",\"type\":\"ColumnDataSource\"},{\"attributes\":{\"callback\":null,\"column_names\":[\"color\",\"label\",\"height\",\"width\",\"fill_alpha\",\"y\",\"line_alpha\",\"x\",\"line_color\"],\"data\":{\"chart_index\":[\"(0.827733, 0.849267]\"],\"color\":[\"LightSlateGray\"],\"fill_alpha\":[0.8],\"height\":[8.0],\"label\":[\"(0.827733, 0.849267]\"],\"line_alpha\":[1.0],\"line_color\":[\"black\"],\"width\":[0.021533333333333293],\"x\":[\"0.8385\"],\"y\":[4.0]}},\"id\":\"5f7dcc8d-b229-4f20-9945-0abad3803a9c\",\"type\":\"ColumnDataSource\"},{\"attributes\":{\"data_source\":{\"id\":\"a9a0a1d0-45c1-46a1-ba5d-6e4d7cb2e47d\",\"type\":\"ColumnDataSource\"},\"glyph\":{\"id\":\"0564d9ce-d3c3-4e45-870c-7e8f68118b94\",\"type\":\"Rect\"},\"hover_glyph\":null,\"nonselection_glyph\":null,\"selection_glyph\":null},\"id\":\"f0e40a34-e406-4be8-961a-52c1998230ee\",\"type\":\"GlyphRenderer\"},{\"attributes\":{\"fill_alpha\":{\"field\":\"fill_alpha\"},\"fill_color\":{\"field\":\"color\"},\"height\":{\"field\":\"height\",\"units\":\"data\"},\"line_color\":{\"field\":\"line_color\"},\"width\":{\"field\":\"width\",\"units\":\"data\"},\"x\":{\"field\":\"x\"},\"y\":{\"field\":\"y\"}},\"id\":\"31823d2b-41cd-45cb-aaaa-1a8502ba82a2\",\"type\":\"Rect\"},{\"attributes\":{\"fill_alpha\":{\"field\":\"fill_alpha\"},\"fill_color\":{\"field\":\"color\"},\"height\":{\"field\":\"height\",\"units\":\"data\"},\"line_color\":{\"field\":\"line_color\"},\"width\":{\"field\":\"width\",\"units\":\"data\"},\"x\":{\"field\":\"x\"},\"y\":{\"field\":\"y\"}},\"id\":\"25717ce1-40ca-4c9f-92ab-1c3ea1ea7784\",\"type\":\"Rect\"},{\"attributes\":{\"fill_alpha\":{\"field\":\"fill_alpha\"},\"fill_color\":{\"field\":\"color\"},\"height\":{\"field\":\"height\",\"units\":\"data\"},\"line_color\":{\"field\":\"line_color\"},\"width\":{\"field\":\"width\",\"units\":\"data\"},\"x\":{\"field\":\"x\"},\"y\":{\"field\":\"y\"}},\"id\":\"65002c29-bdf1-4a56-89e2-2b218258ab39\",\"type\":\"Rect\"},{\"attributes\":{\"axis_label\":\"Frequency\",\"formatter\":{\"id\":\"06eb7091-494b-4183-b7f5-ef2399f4aecc\",\"type\":\"BasicTickFormatter\"},\"plot\":{\"id\":\"272439a0-198c-454c-9dd0-2e5716891866\",\"subtype\":\"Chart\",\"type\":\"Plot\"},\"ticker\":{\"id\":\"66acf4bd-894d-45da-8391-23ff20715f93\",\"type\":\"BasicTicker\"}},\"id\":\"8e4c74be-f4f7-4fa1-8a80-07632d54dd6f\",\"type\":\"LinearAxis\"},{\"attributes\":{\"data_source\":{\"id\":\"aad268b0-d6ef-4da2-8c26-e17826b63649\",\"type\":\"ColumnDataSource\"},\"glyph\":{\"id\":\"6875c8c5-f1d3-428e-bd5d-3c2dd66a1b21\",\"type\":\"Rect\"},\"hover_glyph\":null,\"nonselection_glyph\":null,\"selection_glyph\":null},\"id\":\"c8d85b2a-db97-49d8-98dc-8f2e1491c7c9\",\"type\":\"GlyphRenderer\"},{\"attributes\":{\"data_source\":{\"id\":\"c223c4f1-9634-405f-bbd2-d40cf01dba65\",\"type\":\"ColumnDataSource\"},\"glyph\":{\"id\":\"25717ce1-40ca-4c9f-92ab-1c3ea1ea7784\",\"type\":\"Rect\"},\"hover_glyph\":null,\"nonselection_glyph\":null,\"selection_glyph\":null},\"id\":\"da8070aa-9f1d-4cb7-a624-31c37f9b6fbc\",\"type\":\"GlyphRenderer\"},{\"attributes\":{\"fill_alpha\":{\"field\":\"fill_alpha\"},\"fill_color\":{\"field\":\"color\"},\"height\":{\"field\":\"height\",\"units\":\"data\"},\"line_color\":{\"field\":\"line_color\"},\"width\":{\"field\":\"width\",\"units\":\"data\"},\"x\":{\"field\":\"x\"},\"y\":{\"field\":\"y\"}},\"id\":\"a3c6db0e-19ae-4821-8c28-d427780a12c6\",\"type\":\"Rect\"},{\"attributes\":{\"data_source\":{\"id\":\"e0e4b338-06e8-462d-899c-ac71020c966b\",\"type\":\"ColumnDataSource\"},\"glyph\":{\"id\":\"a6a89d5f-744d-4e28-b902-6cf2694835ee\",\"type\":\"Rect\"},\"hover_glyph\":null,\"nonselection_glyph\":null,\"selection_glyph\":null},\"id\":\"ea1099ba-b41b-4546-846b-2b2d155e10e0\",\"type\":\"GlyphRenderer\"},{\"attributes\":{\"fill_alpha\":{\"field\":\"fill_alpha\"},\"fill_color\":{\"field\":\"color\"},\"height\":{\"field\":\"height\",\"units\":\"data\"},\"line_color\":{\"field\":\"line_color\"},\"width\":{\"field\":\"width\",\"units\":\"data\"},\"x\":{\"field\":\"x\"},\"y\":{\"field\":\"y\"}},\"id\":\"17138348-5c99-42ac-9c57-efa13e83beb1\",\"type\":\"Rect\"},{\"attributes\":{\"fill_alpha\":{\"field\":\"fill_alpha\"},\"fill_color\":{\"field\":\"color\"},\"height\":{\"field\":\"height\",\"units\":\"data\"},\"line_color\":{\"field\":\"line_color\"},\"width\":{\"field\":\"width\",\"units\":\"data\"},\"x\":{\"field\":\"x\"},\"y\":{\"field\":\"y\"}},\"id\":\"ee632572-36f4-4665-bf73-3ec654c787a9\",\"type\":\"Rect\"},{\"attributes\":{\"data_source\":{\"id\":\"6b82d15c-48c6-4b64-ba77-b4ec7dcdf3cb\",\"type\":\"ColumnDataSource\"},\"glyph\":{\"id\":\"0e5e9b3f-e7da-4cca-ba5b-2aeb91364e64\",\"type\":\"Rect\"},\"hover_glyph\":null,\"nonselection_glyph\":null,\"selection_glyph\":null},\"id\":\"8f1c1fbd-9d21-4a68-acd4-46944369a98d\",\"type\":\"GlyphRenderer\"},{\"attributes\":{\"callback\":null,\"column_names\":[\"color\",\"label\",\"height\",\"width\",\"fill_alpha\",\"y\",\"line_alpha\",\"x\",\"line_color\"],\"data\":{\"chart_index\":[\"(0.720067, 0.741600]\"],\"color\":[\"LightSlateGray\"],\"fill_alpha\":[0.8],\"height\":[4.0],\"label\":[\"(0.720067, 0.741600]\"],\"line_alpha\":[1.0],\"line_color\":[\"black\"],\"width\":[0.021533333333333404],\"x\":[\"0.7308335\"],\"y\":[2.0]}},\"id\":\"d86f592f-2b6a-4a38-b30f-b5209c8e9610\",\"type\":\"ColumnDataSource\"}],\"root_ids\":[\"272439a0-198c-454c-9dd0-2e5716891866\"]},\"title\":\"Bokeh Application\",\"version\":\"0.12.4\"}};\n",
       "            var render_items = [{\"docid\":\"10cfafda-6a92-403b-a373-6a2b954b9da5\",\"elementid\":\"f717bb7b-7254-4a03-a4b2-db4fa49c63f0\",\"modelid\":\"272439a0-198c-454c-9dd0-2e5716891866\"}];\n",
       "            \n",
       "            Bokeh.embed.embed_items(docs_json, render_items);\n",
       "          };\n",
       "          if (document.readyState != \"loading\") fn();\n",
       "          else document.addEventListener(\"DOMContentLoaded\", fn);\n",
       "        })();\n",
       "      },\n",
       "      function(Bokeh) {\n",
       "      }\n",
       "    ];\n",
       "  \n",
       "    function run_inline_js() {\n",
       "      \n",
       "      if ((window.Bokeh !== undefined) || (force === true)) {\n",
       "        for (var i = 0; i < inline_js.length; i++) {\n",
       "          inline_js[i](window.Bokeh);\n",
       "        }if (force === true) {\n",
       "          display_loaded();\n",
       "        }} else if (Date.now() < window._bokeh_timeout) {\n",
       "        setTimeout(run_inline_js, 100);\n",
       "      } else if (!window._bokeh_failed_load) {\n",
       "        console.log(\"Bokeh: BokehJS failed to load within specified timeout.\");\n",
       "        window._bokeh_failed_load = true;\n",
       "      } else if (force !== true) {\n",
       "        var cell = $(document.getElementById(\"f717bb7b-7254-4a03-a4b2-db4fa49c63f0\")).parents('.cell').data().cell;\n",
       "        cell.output_area.append_execute_result(NB_LOAD_WARNING)\n",
       "      }\n",
       "  \n",
       "    }\n",
       "  \n",
       "    if (window._bokeh_is_loading === 0) {\n",
       "      console.log(\"Bokeh: BokehJS loaded, going straight to plotting\");\n",
       "      run_inline_js();\n",
       "    } else {\n",
       "      load_libs(js_urls, function() {\n",
       "        console.log(\"Bokeh: BokehJS plotting callback run at\", now());\n",
       "        run_inline_js();\n",
       "      });\n",
       "    }\n",
       "  }(this));\n",
       "</script>"
      ]
     },
     "metadata": {},
     "output_type": "display_data"
    }
   ],
   "source": [
    "p=Histogram(abnormal_plt,values='max_predprob',title='LOF Outliers : Abnormal Predict Probability',color='LightSlateGray',bins=30,xlabel=\"Predict Probability\",ylabel=\"Frequency\")\n",
    "show(p)\n",
    "plt.savefig('/Volumes/lesleydata/SVanalyzer_ML/Oct272017_ML_w_AllTech/data/prelim_df/LOF_outliers.png', bbox_inches='tight')"
   ]
  },
  {
   "cell_type": "code",
   "execution_count": 165,
   "metadata": {
    "collapsed": true
   },
   "outputs": [],
   "source": [
    "# Normal : Predict probability plot"
   ]
  },
  {
   "cell_type": "code",
   "execution_count": 166,
   "metadata": {
    "collapsed": true
   },
   "outputs": [],
   "source": [
    "normal_plt = plot_[plot_['outliers'] == 1]"
   ]
  },
  {
   "cell_type": "code",
   "execution_count": 167,
   "metadata": {},
   "outputs": [
    {
     "name": "stderr",
     "output_type": "stream",
     "text": [
      "/Users/lmc2/anaconda/envs/NIHFAES/lib/python3.5/site-packages/ipykernel/__main__.py:2: SettingWithCopyWarning:\n",
      "\n",
      "\n",
      "A value is trying to be set on a copy of a slice from a DataFrame.\n",
      "Try using .loc[row_indexer,col_indexer] = value instead\n",
      "\n",
      "See the caveats in the documentation: http://pandas.pydata.org/pandas-docs/stable/indexing.html#indexing-view-versus-copy\n",
      "\n"
     ]
    }
   ],
   "source": [
    "#Find the max across multiple rows\n",
    "normal_plt['max_predprob'] = normal_plt[['Homozygous_Reference_GTcons', 'Heterozygous_Variant_GTcons', 'Homozygous_Variant_GTcons']].max(axis=1)"
   ]
  },
  {
   "cell_type": "code",
   "execution_count": 168,
   "metadata": {},
   "outputs": [
    {
     "data": {
      "text/html": [
       "\n",
       "    <div class=\"bk-root\">\n",
       "        <a href=\"http://bokeh.pydata.org\" target=\"_blank\" class=\"bk-logo bk-logo-small bk-logo-notebook\"></a>\n",
       "        <span id=\"71d0ae21-8013-4b4f-a375-4c75c03b5b58\">Loading BokehJS ...</span>\n",
       "    </div>"
      ]
     },
     "metadata": {},
     "output_type": "display_data"
    },
    {
     "data": {
      "application/javascript": [
       "\n",
       "(function(global) {\n",
       "  function now() {\n",
       "    return new Date();\n",
       "  }\n",
       "\n",
       "  var force = true;\n",
       "\n",
       "  if (typeof (window._bokeh_onload_callbacks) === \"undefined\" || force === true) {\n",
       "    window._bokeh_onload_callbacks = [];\n",
       "    window._bokeh_is_loading = undefined;\n",
       "  }\n",
       "\n",
       "\n",
       "  \n",
       "  if (typeof (window._bokeh_timeout) === \"undefined\" || force === true) {\n",
       "    window._bokeh_timeout = Date.now() + 5000;\n",
       "    window._bokeh_failed_load = false;\n",
       "  }\n",
       "\n",
       "  var NB_LOAD_WARNING = {'data': {'text/html':\n",
       "     \"<div style='background-color: #fdd'>\\n\"+\n",
       "     \"<p>\\n\"+\n",
       "     \"BokehJS does not appear to have successfully loaded. If loading BokehJS from CDN, this \\n\"+\n",
       "     \"may be due to a slow or bad network connection. Possible fixes:\\n\"+\n",
       "     \"</p>\\n\"+\n",
       "     \"<ul>\\n\"+\n",
       "     \"<li>re-rerun `output_notebook()` to attempt to load from CDN again, or</li>\\n\"+\n",
       "     \"<li>use INLINE resources instead, as so:</li>\\n\"+\n",
       "     \"</ul>\\n\"+\n",
       "     \"<code>\\n\"+\n",
       "     \"from bokeh.resources import INLINE\\n\"+\n",
       "     \"output_notebook(resources=INLINE)\\n\"+\n",
       "     \"</code>\\n\"+\n",
       "     \"</div>\"}};\n",
       "\n",
       "  function display_loaded() {\n",
       "    if (window.Bokeh !== undefined) {\n",
       "      document.getElementById(\"71d0ae21-8013-4b4f-a375-4c75c03b5b58\").textContent = \"BokehJS successfully loaded.\";\n",
       "    } else if (Date.now() < window._bokeh_timeout) {\n",
       "      setTimeout(display_loaded, 100)\n",
       "    }\n",
       "  }\n",
       "\n",
       "  function run_callbacks() {\n",
       "    window._bokeh_onload_callbacks.forEach(function(callback) { callback() });\n",
       "    delete window._bokeh_onload_callbacks\n",
       "    console.info(\"Bokeh: all callbacks have finished\");\n",
       "  }\n",
       "\n",
       "  function load_libs(js_urls, callback) {\n",
       "    window._bokeh_onload_callbacks.push(callback);\n",
       "    if (window._bokeh_is_loading > 0) {\n",
       "      console.log(\"Bokeh: BokehJS is being loaded, scheduling callback at\", now());\n",
       "      return null;\n",
       "    }\n",
       "    if (js_urls == null || js_urls.length === 0) {\n",
       "      run_callbacks();\n",
       "      return null;\n",
       "    }\n",
       "    console.log(\"Bokeh: BokehJS not loaded, scheduling load and callback at\", now());\n",
       "    window._bokeh_is_loading = js_urls.length;\n",
       "    for (var i = 0; i < js_urls.length; i++) {\n",
       "      var url = js_urls[i];\n",
       "      var s = document.createElement('script');\n",
       "      s.src = url;\n",
       "      s.async = false;\n",
       "      s.onreadystatechange = s.onload = function() {\n",
       "        window._bokeh_is_loading--;\n",
       "        if (window._bokeh_is_loading === 0) {\n",
       "          console.log(\"Bokeh: all BokehJS libraries loaded\");\n",
       "          run_callbacks()\n",
       "        }\n",
       "      };\n",
       "      s.onerror = function() {\n",
       "        console.warn(\"failed to load library \" + url);\n",
       "      };\n",
       "      console.log(\"Bokeh: injecting script tag for BokehJS library: \", url);\n",
       "      document.getElementsByTagName(\"head\")[0].appendChild(s);\n",
       "    }\n",
       "  };var element = document.getElementById(\"71d0ae21-8013-4b4f-a375-4c75c03b5b58\");\n",
       "  if (element == null) {\n",
       "    console.log(\"Bokeh: ERROR: autoload.js configured with elementid '71d0ae21-8013-4b4f-a375-4c75c03b5b58' but no matching script tag was found. \")\n",
       "    return false;\n",
       "  }\n",
       "\n",
       "  var js_urls = [\"https://cdn.pydata.org/bokeh/release/bokeh-0.12.4.min.js\", \"https://cdn.pydata.org/bokeh/release/bokeh-widgets-0.12.4.min.js\"];\n",
       "\n",
       "  var inline_js = [\n",
       "    function(Bokeh) {\n",
       "      Bokeh.set_log_level(\"info\");\n",
       "    },\n",
       "    \n",
       "    function(Bokeh) {\n",
       "      \n",
       "      document.getElementById(\"71d0ae21-8013-4b4f-a375-4c75c03b5b58\").textContent = \"BokehJS is loading...\";\n",
       "    },\n",
       "    function(Bokeh) {\n",
       "      console.log(\"Bokeh: injecting CSS: https://cdn.pydata.org/bokeh/release/bokeh-0.12.4.min.css\");\n",
       "      Bokeh.embed.inject_css(\"https://cdn.pydata.org/bokeh/release/bokeh-0.12.4.min.css\");\n",
       "      console.log(\"Bokeh: injecting CSS: https://cdn.pydata.org/bokeh/release/bokeh-widgets-0.12.4.min.css\");\n",
       "      Bokeh.embed.inject_css(\"https://cdn.pydata.org/bokeh/release/bokeh-widgets-0.12.4.min.css\");\n",
       "    }\n",
       "  ];\n",
       "\n",
       "  function run_inline_js() {\n",
       "    \n",
       "    if ((window.Bokeh !== undefined) || (force === true)) {\n",
       "      for (var i = 0; i < inline_js.length; i++) {\n",
       "        inline_js[i](window.Bokeh);\n",
       "      }if (force === true) {\n",
       "        display_loaded();\n",
       "      }} else if (Date.now() < window._bokeh_timeout) {\n",
       "      setTimeout(run_inline_js, 100);\n",
       "    } else if (!window._bokeh_failed_load) {\n",
       "      console.log(\"Bokeh: BokehJS failed to load within specified timeout.\");\n",
       "      window._bokeh_failed_load = true;\n",
       "    } else if (force !== true) {\n",
       "      var cell = $(document.getElementById(\"71d0ae21-8013-4b4f-a375-4c75c03b5b58\")).parents('.cell').data().cell;\n",
       "      cell.output_area.append_execute_result(NB_LOAD_WARNING)\n",
       "    }\n",
       "\n",
       "  }\n",
       "\n",
       "  if (window._bokeh_is_loading === 0) {\n",
       "    console.log(\"Bokeh: BokehJS loaded, going straight to plotting\");\n",
       "    run_inline_js();\n",
       "  } else {\n",
       "    load_libs(js_urls, function() {\n",
       "      console.log(\"Bokeh: BokehJS plotting callback run at\", now());\n",
       "      run_inline_js();\n",
       "    });\n",
       "  }\n",
       "}(this));"
      ]
     },
     "metadata": {},
     "output_type": "display_data"
    }
   ],
   "source": [
    "output_notebook()"
   ]
  },
  {
   "cell_type": "code",
   "execution_count": 169,
   "metadata": {
    "scrolled": false
   },
   "outputs": [
    {
     "data": {
      "text/html": [
       "\n",
       "\n",
       "    <div class=\"bk-root\">\n",
       "        <div class=\"bk-plotdiv\" id=\"8fe5140d-c21b-426c-8fa1-afee77cd3abd\"></div>\n",
       "    </div>\n",
       "<script type=\"text/javascript\">\n",
       "  \n",
       "  (function(global) {\n",
       "    function now() {\n",
       "      return new Date();\n",
       "    }\n",
       "  \n",
       "    var force = false;\n",
       "  \n",
       "    if (typeof (window._bokeh_onload_callbacks) === \"undefined\" || force === true) {\n",
       "      window._bokeh_onload_callbacks = [];\n",
       "      window._bokeh_is_loading = undefined;\n",
       "    }\n",
       "  \n",
       "  \n",
       "    \n",
       "    if (typeof (window._bokeh_timeout) === \"undefined\" || force === true) {\n",
       "      window._bokeh_timeout = Date.now() + 0;\n",
       "      window._bokeh_failed_load = false;\n",
       "    }\n",
       "  \n",
       "    var NB_LOAD_WARNING = {'data': {'text/html':\n",
       "       \"<div style='background-color: #fdd'>\\n\"+\n",
       "       \"<p>\\n\"+\n",
       "       \"BokehJS does not appear to have successfully loaded. If loading BokehJS from CDN, this \\n\"+\n",
       "       \"may be due to a slow or bad network connection. Possible fixes:\\n\"+\n",
       "       \"</p>\\n\"+\n",
       "       \"<ul>\\n\"+\n",
       "       \"<li>re-rerun `output_notebook()` to attempt to load from CDN again, or</li>\\n\"+\n",
       "       \"<li>use INLINE resources instead, as so:</li>\\n\"+\n",
       "       \"</ul>\\n\"+\n",
       "       \"<code>\\n\"+\n",
       "       \"from bokeh.resources import INLINE\\n\"+\n",
       "       \"output_notebook(resources=INLINE)\\n\"+\n",
       "       \"</code>\\n\"+\n",
       "       \"</div>\"}};\n",
       "  \n",
       "    function display_loaded() {\n",
       "      if (window.Bokeh !== undefined) {\n",
       "        document.getElementById(\"8fe5140d-c21b-426c-8fa1-afee77cd3abd\").textContent = \"BokehJS successfully loaded.\";\n",
       "      } else if (Date.now() < window._bokeh_timeout) {\n",
       "        setTimeout(display_loaded, 100)\n",
       "      }\n",
       "    }\n",
       "  \n",
       "    function run_callbacks() {\n",
       "      window._bokeh_onload_callbacks.forEach(function(callback) { callback() });\n",
       "      delete window._bokeh_onload_callbacks\n",
       "      console.info(\"Bokeh: all callbacks have finished\");\n",
       "    }\n",
       "  \n",
       "    function load_libs(js_urls, callback) {\n",
       "      window._bokeh_onload_callbacks.push(callback);\n",
       "      if (window._bokeh_is_loading > 0) {\n",
       "        console.log(\"Bokeh: BokehJS is being loaded, scheduling callback at\", now());\n",
       "        return null;\n",
       "      }\n",
       "      if (js_urls == null || js_urls.length === 0) {\n",
       "        run_callbacks();\n",
       "        return null;\n",
       "      }\n",
       "      console.log(\"Bokeh: BokehJS not loaded, scheduling load and callback at\", now());\n",
       "      window._bokeh_is_loading = js_urls.length;\n",
       "      for (var i = 0; i < js_urls.length; i++) {\n",
       "        var url = js_urls[i];\n",
       "        var s = document.createElement('script');\n",
       "        s.src = url;\n",
       "        s.async = false;\n",
       "        s.onreadystatechange = s.onload = function() {\n",
       "          window._bokeh_is_loading--;\n",
       "          if (window._bokeh_is_loading === 0) {\n",
       "            console.log(\"Bokeh: all BokehJS libraries loaded\");\n",
       "            run_callbacks()\n",
       "          }\n",
       "        };\n",
       "        s.onerror = function() {\n",
       "          console.warn(\"failed to load library \" + url);\n",
       "        };\n",
       "        console.log(\"Bokeh: injecting script tag for BokehJS library: \", url);\n",
       "        document.getElementsByTagName(\"head\")[0].appendChild(s);\n",
       "      }\n",
       "    };var element = document.getElementById(\"8fe5140d-c21b-426c-8fa1-afee77cd3abd\");\n",
       "    if (element == null) {\n",
       "      console.log(\"Bokeh: ERROR: autoload.js configured with elementid '8fe5140d-c21b-426c-8fa1-afee77cd3abd' but no matching script tag was found. \")\n",
       "      return false;\n",
       "    }\n",
       "  \n",
       "    var js_urls = [];\n",
       "  \n",
       "    var inline_js = [\n",
       "      function(Bokeh) {\n",
       "        (function() {\n",
       "          var fn = function() {\n",
       "            var docs_json = {\"e5104ce4-7494-4a9c-a013-0c9cf18f7664\":{\"roots\":{\"references\":[{\"attributes\":{\"callback\":null,\"column_names\":[\"color\",\"label\",\"height\",\"width\",\"fill_alpha\",\"y\",\"line_alpha\",\"x\",\"line_color\"],\"data\":{\"chart_index\":[\"(0.828800, 0.850200]\"],\"color\":[\"LightSlateGray\"],\"fill_alpha\":[0.8],\"height\":[62.0],\"label\":[\"(0.828800, 0.850200]\"],\"line_alpha\":[1.0],\"line_color\":[\"black\"],\"width\":[0.021399999999999975],\"x\":[\"0.8394999999999999\"],\"y\":[31.0]}},\"id\":\"4088d402-5f26-4b33-83ac-7421f966fd73\",\"type\":\"ColumnDataSource\"},{\"attributes\":{},\"id\":\"0c114698-f6c8-48e6-8154-b382d962dcdc\",\"type\":\"BasicTickFormatter\"},{\"attributes\":{\"data_source\":{\"id\":\"013fbafb-6ee1-4b6a-8e84-c22791bdcc75\",\"type\":\"ColumnDataSource\"},\"glyph\":{\"id\":\"06de1244-17e6-4f71-834d-d3fc056b5832\",\"type\":\"Rect\"},\"hover_glyph\":null,\"nonselection_glyph\":null,\"selection_glyph\":null},\"id\":\"85468d81-ffaf-48ea-9bcb-a8eba3192859\",\"type\":\"GlyphRenderer\"},{\"attributes\":{\"data_source\":{\"id\":\"4088d402-5f26-4b33-83ac-7421f966fd73\",\"type\":\"ColumnDataSource\"},\"glyph\":{\"id\":\"0c8f1fdf-24f4-4c41-8b8c-1be8c45356ea\",\"type\":\"Rect\"},\"hover_glyph\":null,\"nonselection_glyph\":null,\"selection_glyph\":null},\"id\":\"e387a239-7a0d-4ef7-8fb2-c7ad1037cc5d\",\"type\":\"GlyphRenderer\"},{\"attributes\":{\"callback\":null,\"column_names\":[\"color\",\"label\",\"height\",\"width\",\"fill_alpha\",\"y\",\"line_alpha\",\"x\",\"line_color\"],\"data\":{\"chart_index\":[\"(0.529200, 0.550600]\"],\"color\":[\"LightSlateGray\"],\"fill_alpha\":[0.8],\"height\":[46.0],\"label\":[\"(0.529200, 0.550600]\"],\"line_alpha\":[1.0],\"line_color\":[\"black\"],\"width\":[0.021399999999999975],\"x\":[\"0.5399\"],\"y\":[23.0]}},\"id\":\"3af36013-f4c9-444e-926c-9b51be5a6514\",\"type\":\"ColumnDataSource\"},{\"attributes\":{\"data_source\":{\"id\":\"43273008-da16-400a-beb6-f23f373f68a4\",\"type\":\"ColumnDataSource\"},\"glyph\":{\"id\":\"822771dd-2f1a-488b-8f7a-e595a61c2b00\",\"type\":\"Rect\"},\"hover_glyph\":null,\"nonselection_glyph\":null,\"selection_glyph\":null},\"id\":\"9c486698-aa1a-44c7-88fa-6579533963d7\",\"type\":\"GlyphRenderer\"},{\"attributes\":{\"fill_alpha\":{\"field\":\"fill_alpha\"},\"fill_color\":{\"field\":\"color\"},\"height\":{\"field\":\"height\",\"units\":\"data\"},\"line_color\":{\"field\":\"line_color\"},\"width\":{\"field\":\"width\",\"units\":\"data\"},\"x\":{\"field\":\"x\"},\"y\":{\"field\":\"y\"}},\"id\":\"43c2aaaa-683f-48e3-9aa7-4ff8f3221ca5\",\"type\":\"Rect\"},{\"attributes\":{\"fill_alpha\":{\"field\":\"fill_alpha\"},\"fill_color\":{\"field\":\"color\"},\"height\":{\"field\":\"height\",\"units\":\"data\"},\"line_color\":{\"field\":\"line_color\"},\"width\":{\"field\":\"width\",\"units\":\"data\"},\"x\":{\"field\":\"x\"},\"y\":{\"field\":\"y\"}},\"id\":\"bb2de2c6-0692-4d3d-8853-d42398580d36\",\"type\":\"Rect\"},{\"attributes\":{\"data_source\":{\"id\":\"b61cc92e-d813-45ac-bc27-9eb658214120\",\"type\":\"ColumnDataSource\"},\"glyph\":{\"id\":\"465148ca-7efb-413f-8d3e-9bf3f2b11d4d\",\"type\":\"Rect\"},\"hover_glyph\":null,\"nonselection_glyph\":null,\"selection_glyph\":null},\"id\":\"e3d1862a-2402-4e66-a6ca-368293fa8f07\",\"type\":\"GlyphRenderer\"},{\"attributes\":{\"callback\":null,\"column_names\":[\"color\",\"label\",\"height\",\"width\",\"fill_alpha\",\"y\",\"line_alpha\",\"x\",\"line_color\"],\"data\":{\"chart_index\":[\"(0.914400, 0.935800]\"],\"color\":[\"LightSlateGray\"],\"fill_alpha\":[0.8],\"height\":[151.0],\"label\":[\"(0.914400, 0.935800]\"],\"line_alpha\":[1.0],\"line_color\":[\"black\"],\"width\":[0.021399999999999975],\"x\":[\"0.9251\"],\"y\":[75.5]}},\"id\":\"4fab0351-0cf3-4ac1-965b-a30676b55fcc\",\"type\":\"ColumnDataSource\"},{\"attributes\":{\"fill_alpha\":{\"field\":\"fill_alpha\"},\"fill_color\":{\"field\":\"color\"},\"height\":{\"field\":\"height\",\"units\":\"data\"},\"line_color\":{\"field\":\"line_color\"},\"width\":{\"field\":\"width\",\"units\":\"data\"},\"x\":{\"field\":\"x\"},\"y\":{\"field\":\"y\"}},\"id\":\"c25e4a5c-ce06-4d82-b51a-da86c1404b89\",\"type\":\"Rect\"},{\"attributes\":{\"fill_alpha\":{\"field\":\"fill_alpha\"},\"fill_color\":{\"field\":\"color\"},\"height\":{\"field\":\"height\",\"units\":\"data\"},\"line_color\":{\"field\":\"line_color\"},\"width\":{\"field\":\"width\",\"units\":\"data\"},\"x\":{\"field\":\"x\"},\"y\":{\"field\":\"y\"}},\"id\":\"c9f1e8b7-a605-4b61-b8e3-557de7dfddf7\",\"type\":\"Rect\"},{\"attributes\":{\"fill_alpha\":{\"field\":\"fill_alpha\"},\"fill_color\":{\"field\":\"color\"},\"height\":{\"field\":\"height\",\"units\":\"data\"},\"line_color\":{\"field\":\"line_color\"},\"width\":{\"field\":\"width\",\"units\":\"data\"},\"x\":{\"field\":\"x\"},\"y\":{\"field\":\"y\"}},\"id\":\"3b8c393b-7d13-4adf-81df-82ef6344daf5\",\"type\":\"Rect\"},{\"attributes\":{\"callback\":null,\"column_names\":[\"color\",\"label\",\"height\",\"width\",\"fill_alpha\",\"y\",\"line_alpha\",\"x\",\"line_color\"],\"data\":{\"chart_index\":[\"(0.657600, 0.679000]\"],\"color\":[\"LightSlateGray\"],\"fill_alpha\":[0.8],\"height\":[40.0],\"label\":[\"(0.657600, 0.679000]\"],\"line_alpha\":[1.0],\"line_color\":[\"black\"],\"width\":[0.021400000000000086],\"x\":[\"0.6683\"],\"y\":[20.0]}},\"id\":\"f62abedd-9be3-4c6a-94da-a5d4a1c5eae0\",\"type\":\"ColumnDataSource\"},{\"attributes\":{\"callback\":null,\"column_names\":[\"color\",\"label\",\"height\",\"width\",\"fill_alpha\",\"y\",\"line_alpha\",\"x\",\"line_color\"],\"data\":{\"chart_index\":[\"(0.465000, 0.486400]\"],\"color\":[\"LightSlateGray\"],\"fill_alpha\":[0.8],\"height\":[30.0],\"label\":[\"(0.465000, 0.486400]\"],\"line_alpha\":[1.0],\"line_color\":[\"black\"],\"width\":[0.021399999999999975],\"x\":[\"0.4757\"],\"y\":[15.0]}},\"id\":\"aee9509c-f919-4e94-8630-b2c7eb7cd8a2\",\"type\":\"ColumnDataSource\"},{\"attributes\":{\"plot\":{\"id\":\"bee10a1b-c4c5-4114-973d-6d6d0d15a28c\",\"subtype\":\"Chart\",\"type\":\"Plot\"}},\"id\":\"7a6c7632-1f9a-41ea-94b0-43356721c6be\",\"type\":\"HelpTool\"},{\"attributes\":{\"data_source\":{\"id\":\"947fb886-b942-446c-8b4f-e29ba4bfd06a\",\"type\":\"ColumnDataSource\"},\"glyph\":{\"id\":\"2cc060e4-090b-4793-981e-16d4cb55a329\",\"type\":\"Rect\"},\"hover_glyph\":null,\"nonselection_glyph\":null,\"selection_glyph\":null},\"id\":\"3850bac1-7ac5-40aa-bcd5-15fae3ab0a87\",\"type\":\"GlyphRenderer\"},{\"attributes\":{\"callback\":null,\"column_names\":[\"color\",\"label\",\"height\",\"width\",\"fill_alpha\",\"y\",\"line_alpha\",\"x\",\"line_color\"],\"data\":{\"chart_index\":[\"(0.743200, 0.764600]\"],\"color\":[\"LightSlateGray\"],\"fill_alpha\":[0.8],\"height\":[42.0],\"label\":[\"(0.743200, 0.764600]\"],\"line_alpha\":[1.0],\"line_color\":[\"black\"],\"width\":[0.021399999999999975],\"x\":[\"0.7539\"],\"y\":[21.0]}},\"id\":\"db691da8-becc-48fe-947b-f0926b65b0eb\",\"type\":\"ColumnDataSource\"},{\"attributes\":{\"fill_alpha\":{\"field\":\"fill_alpha\"},\"fill_color\":{\"field\":\"color\"},\"height\":{\"field\":\"height\",\"units\":\"data\"},\"line_color\":{\"field\":\"line_color\"},\"width\":{\"field\":\"width\",\"units\":\"data\"},\"x\":{\"field\":\"x\"},\"y\":{\"field\":\"y\"}},\"id\":\"43f1669e-d37c-4516-a3a0-d9ff0ef4c2ed\",\"type\":\"Rect\"},{\"attributes\":{\"callback\":null,\"end\":1622.5000000000002},\"id\":\"1105df37-2011-43b8-87a6-5d9dece13065\",\"type\":\"Range1d\"},{\"attributes\":{\"callback\":null,\"column_names\":[\"color\",\"label\",\"height\",\"width\",\"fill_alpha\",\"y\",\"line_alpha\",\"x\",\"line_color\"],\"data\":{\"chart_index\":[\"(0.593400, 0.614800]\"],\"color\":[\"LightSlateGray\"],\"fill_alpha\":[0.8],\"height\":[43.0],\"label\":[\"(0.593400, 0.614800]\"],\"line_alpha\":[1.0],\"line_color\":[\"black\"],\"width\":[0.021400000000000086],\"x\":[\"0.6041000000000001\"],\"y\":[21.5]}},\"id\":\"945ddef2-2e2d-4295-8bd6-e853030eecb2\",\"type\":\"ColumnDataSource\"},{\"attributes\":{\"fill_alpha\":{\"field\":\"fill_alpha\"},\"fill_color\":{\"field\":\"color\"},\"height\":{\"field\":\"height\",\"units\":\"data\"},\"line_color\":{\"field\":\"line_color\"},\"width\":{\"field\":\"width\",\"units\":\"data\"},\"x\":{\"field\":\"x\"},\"y\":{\"field\":\"y\"}},\"id\":\"b55ad774-b56d-4de3-a90c-8fd3922c9d51\",\"type\":\"Rect\"},{\"attributes\":{\"callback\":null,\"column_names\":[\"color\",\"label\",\"height\",\"width\",\"fill_alpha\",\"y\",\"line_alpha\",\"x\",\"line_color\"],\"data\":{\"chart_index\":[\"(0.679000, 0.700400]\"],\"color\":[\"LightSlateGray\"],\"fill_alpha\":[0.8],\"height\":[44.0],\"label\":[\"(0.679000, 0.700400]\"],\"line_alpha\":[1.0],\"line_color\":[\"black\"],\"width\":[0.021399999999999864],\"x\":[\"0.6897\"],\"y\":[22.0]}},\"id\":\"e51fb574-f50d-419c-ace0-ffd4f1c4a603\",\"type\":\"ColumnDataSource\"},{\"attributes\":{\"data_source\":{\"id\":\"1168b851-ca24-4fb3-9829-41522afdb77d\",\"type\":\"ColumnDataSource\"},\"glyph\":{\"id\":\"65c1259d-a4c7-4dc4-8815-1a4dac4f8c71\",\"type\":\"Rect\"},\"hover_glyph\":null,\"nonselection_glyph\":null,\"selection_glyph\":null},\"id\":\"2e50bf25-d1a8-459d-b19a-d76082900e5c\",\"type\":\"GlyphRenderer\"},{\"attributes\":{\"data_source\":{\"id\":\"0dd45774-3b95-4be0-817a-acab6f00a63e\",\"type\":\"ColumnDataSource\"},\"glyph\":{\"id\":\"e3e8c32e-e35c-4dbb-8f41-665f64025a3a\",\"type\":\"Rect\"},\"hover_glyph\":null,\"nonselection_glyph\":null,\"selection_glyph\":null},\"id\":\"0becdb99-62d1-4f33-b192-f10abaf56db8\",\"type\":\"GlyphRenderer\"},{\"attributes\":{\"callback\":null,\"column_names\":[\"color\",\"label\",\"height\",\"width\",\"fill_alpha\",\"y\",\"line_alpha\",\"x\",\"line_color\"],\"data\":{\"chart_index\":[\"(0.786000, 0.807400]\"],\"color\":[\"LightSlateGray\"],\"fill_alpha\":[0.8],\"height\":[36.0],\"label\":[\"(0.786000, 0.807400]\"],\"line_alpha\":[1.0],\"line_color\":[\"black\"],\"width\":[0.021399999999999864],\"x\":[\"0.7967\"],\"y\":[18.0]}},\"id\":\"b61cc92e-d813-45ac-bc27-9eb658214120\",\"type\":\"ColumnDataSource\"},{\"attributes\":{\"fill_alpha\":{\"field\":\"fill_alpha\"},\"fill_color\":{\"field\":\"color\"},\"height\":{\"field\":\"height\",\"units\":\"data\"},\"line_color\":{\"field\":\"line_color\"},\"width\":{\"field\":\"width\",\"units\":\"data\"},\"x\":{\"field\":\"x\"},\"y\":{\"field\":\"y\"}},\"id\":\"aac2fa54-23b5-48f7-bcb5-6bd04310ee6d\",\"type\":\"Rect\"},{\"attributes\":{\"data_source\":{\"id\":\"db691da8-becc-48fe-947b-f0926b65b0eb\",\"type\":\"ColumnDataSource\"},\"glyph\":{\"id\":\"634ee54f-63fa-44e6-b373-e5412eb50e85\",\"type\":\"Rect\"},\"hover_glyph\":null,\"nonselection_glyph\":null,\"selection_glyph\":null},\"id\":\"f545212f-9a3e-4c81-8e49-e0322fe36aa1\",\"type\":\"GlyphRenderer\"},{\"attributes\":{\"fill_alpha\":{\"field\":\"fill_alpha\"},\"fill_color\":{\"field\":\"color\"},\"height\":{\"field\":\"height\",\"units\":\"data\"},\"line_color\":{\"field\":\"line_color\"},\"width\":{\"field\":\"width\",\"units\":\"data\"},\"x\":{\"field\":\"x\"},\"y\":{\"field\":\"y\"}},\"id\":\"b6204c74-899c-4a31-92f6-e426e52b9b26\",\"type\":\"Rect\"},{\"attributes\":{\"plot\":null,\"text\":\"LOF Normal: Predict Probability\"},\"id\":\"abfbdb2e-03e3-49c4-88c2-fa83cb54529b\",\"type\":\"Title\"},{\"attributes\":{\"callback\":null,\"column_names\":[\"color\",\"label\",\"height\",\"width\",\"fill_alpha\",\"y\",\"line_alpha\",\"x\",\"line_color\"],\"data\":{\"chart_index\":[\"(0.764600, 0.786000]\"],\"color\":[\"LightSlateGray\"],\"fill_alpha\":[0.8],\"height\":[62.0],\"label\":[\"(0.764600, 0.786000]\"],\"line_alpha\":[1.0],\"line_color\":[\"black\"],\"width\":[0.021400000000000086],\"x\":[\"0.7753\"],\"y\":[31.0]}},\"id\":\"ac1f3489-0ee6-492c-8332-e588ac7ecfe1\",\"type\":\"ColumnDataSource\"},{\"attributes\":{\"fill_alpha\":{\"field\":\"fill_alpha\"},\"fill_color\":{\"field\":\"color\"},\"height\":{\"field\":\"height\",\"units\":\"data\"},\"line_color\":{\"field\":\"line_color\"},\"width\":{\"field\":\"width\",\"units\":\"data\"},\"x\":{\"field\":\"x\"},\"y\":{\"field\":\"y\"}},\"id\":\"76f2cb17-e3f0-4a42-ba1d-92f05ef25743\",\"type\":\"Rect\"},{\"attributes\":{\"plot\":{\"id\":\"bee10a1b-c4c5-4114-973d-6d6d0d15a28c\",\"subtype\":\"Chart\",\"type\":\"Plot\"}},\"id\":\"f36320dd-2720-4420-9882-acabc9e19b15\",\"type\":\"ResetTool\"},{\"attributes\":{\"fill_alpha\":{\"field\":\"fill_alpha\"},\"fill_color\":{\"field\":\"color\"},\"height\":{\"field\":\"height\",\"units\":\"data\"},\"line_color\":{\"field\":\"line_color\"},\"width\":{\"field\":\"width\",\"units\":\"data\"},\"x\":{\"field\":\"x\"},\"y\":{\"field\":\"y\"}},\"id\":\"863aa3e4-d6dd-4b04-a337-ad5b0ca4eccb\",\"type\":\"Rect\"},{\"attributes\":{\"data_source\":{\"id\":\"aee9509c-f919-4e94-8630-b2c7eb7cd8a2\",\"type\":\"ColumnDataSource\"},\"glyph\":{\"id\":\"c25e4a5c-ce06-4d82-b51a-da86c1404b89\",\"type\":\"Rect\"},\"hover_glyph\":null,\"nonselection_glyph\":null,\"selection_glyph\":null},\"id\":\"4e4aa959-294c-42b1-b169-33a11c6551d8\",\"type\":\"GlyphRenderer\"},{\"attributes\":{\"fill_alpha\":{\"field\":\"fill_alpha\"},\"fill_color\":{\"field\":\"color\"},\"height\":{\"field\":\"height\",\"units\":\"data\"},\"line_color\":{\"field\":\"line_color\"},\"width\":{\"field\":\"width\",\"units\":\"data\"},\"x\":{\"field\":\"x\"},\"y\":{\"field\":\"y\"}},\"id\":\"06de1244-17e6-4f71-834d-d3fc056b5832\",\"type\":\"Rect\"},{\"attributes\":{\"callback\":null,\"column_names\":[\"color\",\"label\",\"height\",\"width\",\"fill_alpha\",\"y\",\"line_alpha\",\"x\",\"line_color\"],\"data\":{\"chart_index\":[\"[0.358000, 0.379400]\"],\"color\":[\"LightSlateGray\"],\"fill_alpha\":[0.8],\"height\":[3.0],\"label\":[\"[0.358000, 0.379400]\"],\"line_alpha\":[1.0],\"line_color\":[\"black\"],\"width\":[0.021399999999999975],\"x\":[\"0.3687\"],\"y\":[1.5]}},\"id\":\"55de1ac4-e2e0-4f7c-941f-bb3ca80fe3f5\",\"type\":\"ColumnDataSource\"},{\"attributes\":{\"fill_alpha\":{\"field\":\"fill_alpha\"},\"fill_color\":{\"field\":\"color\"},\"height\":{\"field\":\"height\",\"units\":\"data\"},\"line_color\":{\"field\":\"line_color\"},\"width\":{\"field\":\"width\",\"units\":\"data\"},\"x\":{\"field\":\"x\"},\"y\":{\"field\":\"y\"}},\"id\":\"de1e0ec5-e90a-416f-8720-4912c9e54bcd\",\"type\":\"Rect\"},{\"attributes\":{\"callback\":null,\"column_names\":[\"color\",\"label\",\"height\",\"width\",\"fill_alpha\",\"y\",\"line_alpha\",\"x\",\"line_color\"],\"data\":{\"chart_index\":[\"(0.443600, 0.465000]\"],\"color\":[\"LightSlateGray\"],\"fill_alpha\":[0.8],\"height\":[17.0],\"label\":[\"(0.443600, 0.465000]\"],\"line_alpha\":[1.0],\"line_color\":[\"black\"],\"width\":[0.021399999999999975],\"x\":[\"0.45430000000000004\"],\"y\":[8.5]}},\"id\":\"43273008-da16-400a-beb6-f23f373f68a4\",\"type\":\"ColumnDataSource\"},{\"attributes\":{\"callback\":null,\"column_names\":[\"color\",\"label\",\"height\",\"width\",\"fill_alpha\",\"y\",\"line_alpha\",\"x\",\"line_color\"],\"data\":{\"chart_index\":[\"(0.422200, 0.443600]\"],\"color\":[\"LightSlateGray\"],\"fill_alpha\":[0.8],\"height\":[14.0],\"label\":[\"(0.422200, 0.443600]\"],\"line_alpha\":[1.0],\"line_color\":[\"black\"],\"width\":[0.02140000000000003],\"x\":[\"0.4329\"],\"y\":[7.0]}},\"id\":\"1d784865-aaa7-4a1f-9947-8720cb596083\",\"type\":\"ColumnDataSource\"},{\"attributes\":{\"callback\":null,\"column_names\":[\"color\",\"label\",\"height\",\"width\",\"fill_alpha\",\"y\",\"line_alpha\",\"x\",\"line_color\"],\"data\":{\"chart_index\":[\"(0.700400, 0.721800]\"],\"color\":[\"LightSlateGray\"],\"fill_alpha\":[0.8],\"height\":[24.0],\"label\":[\"(0.700400, 0.721800]\"],\"line_alpha\":[1.0],\"line_color\":[\"black\"],\"width\":[0.021400000000000086],\"x\":[\"0.7111000000000001\"],\"y\":[12.0]}},\"id\":\"947fb886-b942-446c-8b4f-e29ba4bfd06a\",\"type\":\"ColumnDataSource\"},{\"attributes\":{\"callback\":null,\"column_names\":[\"color\",\"label\",\"height\",\"width\",\"fill_alpha\",\"y\",\"line_alpha\",\"x\",\"line_color\"],\"data\":{\"chart_index\":[\"(0.807400, 0.828800]\"],\"color\":[\"LightSlateGray\"],\"fill_alpha\":[0.8],\"height\":[67.0],\"label\":[\"(0.807400, 0.828800]\"],\"line_alpha\":[1.0],\"line_color\":[\"black\"],\"width\":[0.021400000000000086],\"x\":[\"0.8181\"],\"y\":[33.5]}},\"id\":\"7d3bfa34-0af1-414f-b80b-0ca1dc4fa8f4\",\"type\":\"ColumnDataSource\"},{\"attributes\":{\"callback\":null,\"column_names\":[\"color\",\"label\",\"height\",\"width\",\"fill_alpha\",\"y\",\"line_alpha\",\"x\",\"line_color\"],\"data\":{\"chart_index\":[\"(0.507800, 0.529200]\"],\"color\":[\"LightSlateGray\"],\"fill_alpha\":[0.8],\"height\":[37.0],\"label\":[\"(0.507800, 0.529200]\"],\"line_alpha\":[1.0],\"line_color\":[\"black\"],\"width\":[0.021399999999999975],\"x\":[\"0.5185\"],\"y\":[18.5]}},\"id\":\"6b98d829-d923-4abf-9ef0-0273effa2a97\",\"type\":\"ColumnDataSource\"},{\"attributes\":{\"fill_alpha\":{\"field\":\"fill_alpha\"},\"fill_color\":{\"field\":\"color\"},\"height\":{\"field\":\"height\",\"units\":\"data\"},\"line_color\":{\"field\":\"line_color\"},\"width\":{\"field\":\"width\",\"units\":\"data\"},\"x\":{\"field\":\"x\"},\"y\":{\"field\":\"y\"}},\"id\":\"0fe85672-a852-4914-a494-1e39edf7010c\",\"type\":\"Rect\"},{\"attributes\":{\"callback\":null,\"column_names\":[\"color\",\"label\",\"height\",\"width\",\"fill_alpha\",\"y\",\"line_alpha\",\"x\",\"line_color\"],\"data\":{\"chart_index\":[\"(0.486400, 0.507800]\"],\"color\":[\"LightSlateGray\"],\"fill_alpha\":[0.8],\"height\":[22.0],\"label\":[\"(0.486400, 0.507800]\"],\"line_alpha\":[1.0],\"line_color\":[\"black\"],\"width\":[0.021400000000000086],\"x\":[\"0.4971\"],\"y\":[11.0]}},\"id\":\"03a4e7d3-15af-434c-af39-fb23609dc338\",\"type\":\"ColumnDataSource\"},{\"attributes\":{\"callback\":null,\"column_names\":[\"color\",\"label\",\"height\",\"width\",\"fill_alpha\",\"y\",\"line_alpha\",\"x\",\"line_color\"],\"data\":{\"chart_index\":[\"(0.636200, 0.657600]\"],\"color\":[\"LightSlateGray\"],\"fill_alpha\":[0.8],\"height\":[43.0],\"label\":[\"(0.636200, 0.657600]\"],\"line_alpha\":[1.0],\"line_color\":[\"black\"],\"width\":[0.021399999999999975],\"x\":[\"0.6469\"],\"y\":[21.5]}},\"id\":\"d92c485c-fff8-4357-83ce-96825e4f81c2\",\"type\":\"ColumnDataSource\"},{\"attributes\":{\"fill_alpha\":{\"field\":\"fill_alpha\"},\"fill_color\":{\"field\":\"color\"},\"height\":{\"field\":\"height\",\"units\":\"data\"},\"line_color\":{\"field\":\"line_color\"},\"width\":{\"field\":\"width\",\"units\":\"data\"},\"x\":{\"field\":\"x\"},\"y\":{\"field\":\"y\"}},\"id\":\"983375d6-97d0-4ae7-8f1e-fe3a7e7dd3db\",\"type\":\"Rect\"},{\"attributes\":{\"callback\":null,\"column_names\":[\"color\",\"label\",\"height\",\"width\",\"fill_alpha\",\"y\",\"line_alpha\",\"x\",\"line_color\"],\"data\":{\"chart_index\":[\"(0.550600, 0.572000]\"],\"color\":[\"LightSlateGray\"],\"fill_alpha\":[0.8],\"height\":[34.0],\"label\":[\"(0.550600, 0.572000]\"],\"line_alpha\":[1.0],\"line_color\":[\"black\"],\"width\":[0.021399999999999975],\"x\":[\"0.5612999999999999\"],\"y\":[17.0]}},\"id\":\"049dd0d3-781a-45f6-83f4-7705df1c15c6\",\"type\":\"ColumnDataSource\"},{\"attributes\":{\"fill_alpha\":{\"field\":\"fill_alpha\"},\"fill_color\":{\"field\":\"color\"},\"height\":{\"field\":\"height\",\"units\":\"data\"},\"line_color\":{\"field\":\"line_color\"},\"width\":{\"field\":\"width\",\"units\":\"data\"},\"x\":{\"field\":\"x\"},\"y\":{\"field\":\"y\"}},\"id\":\"465148ca-7efb-413f-8d3e-9bf3f2b11d4d\",\"type\":\"Rect\"},{\"attributes\":{\"data_source\":{\"id\":\"7d3bfa34-0af1-414f-b80b-0ca1dc4fa8f4\",\"type\":\"ColumnDataSource\"},\"glyph\":{\"id\":\"76f2cb17-e3f0-4a42-ba1d-92f05ef25743\",\"type\":\"Rect\"},\"hover_glyph\":null,\"nonselection_glyph\":null,\"selection_glyph\":null},\"id\":\"d5bfe8a5-93b7-4954-9461-e5a171a8f27b\",\"type\":\"GlyphRenderer\"},{\"attributes\":{\"data_source\":{\"id\":\"6bfa02d6-c34e-4039-a1ed-9721b10fa2c5\",\"type\":\"ColumnDataSource\"},\"glyph\":{\"id\":\"0b495890-fa24-4b3c-85b3-a716543f785d\",\"type\":\"Rect\"},\"hover_glyph\":null,\"nonselection_glyph\":null,\"selection_glyph\":null},\"id\":\"264cb48a-68ee-4c52-9b56-da654953d63e\",\"type\":\"GlyphRenderer\"},{\"attributes\":{\"location\":\"top_left\",\"plot\":{\"id\":\"bee10a1b-c4c5-4114-973d-6d6d0d15a28c\",\"subtype\":\"Chart\",\"type\":\"Plot\"}},\"id\":\"d71547e8-d387-42ed-a744-0fb1a1f8df8f\",\"type\":\"Legend\"},{\"attributes\":{\"fill_alpha\":{\"field\":\"fill_alpha\"},\"fill_color\":{\"field\":\"color\"},\"height\":{\"field\":\"height\",\"units\":\"data\"},\"line_color\":{\"field\":\"line_color\"},\"width\":{\"field\":\"width\",\"units\":\"data\"},\"x\":{\"field\":\"x\"},\"y\":{\"field\":\"y\"}},\"id\":\"1ccfe441-0386-4a39-8824-f2af85cd6b81\",\"type\":\"Rect\"},{\"attributes\":{\"callback\":null,\"column_names\":[\"color\",\"label\",\"height\",\"width\",\"fill_alpha\",\"y\",\"line_alpha\",\"x\",\"line_color\"],\"data\":{\"chart_index\":[\"(0.935800, 0.957200]\"],\"color\":[\"LightSlateGray\"],\"fill_alpha\":[0.8],\"height\":[271.0],\"label\":[\"(0.935800, 0.957200]\"],\"line_alpha\":[1.0],\"line_color\":[\"black\"],\"width\":[0.021399999999999975],\"x\":[\"0.9465\"],\"y\":[135.5]}},\"id\":\"6871418c-c629-4c96-bfea-f6c2075c04dc\",\"type\":\"ColumnDataSource\"},{\"attributes\":{\"axis_label\":\"Predict Probability\",\"formatter\":{\"id\":\"0c114698-f6c8-48e6-8154-b382d962dcdc\",\"type\":\"BasicTickFormatter\"},\"plot\":{\"id\":\"bee10a1b-c4c5-4114-973d-6d6d0d15a28c\",\"subtype\":\"Chart\",\"type\":\"Plot\"},\"ticker\":{\"id\":\"ff52014c-dc6c-4103-af01-06b38e1c8cab\",\"type\":\"BasicTicker\"}},\"id\":\"76069631-761a-4ba4-9602-db852db40484\",\"type\":\"LinearAxis\"},{\"attributes\":{\"data_source\":{\"id\":\"6871418c-c629-4c96-bfea-f6c2075c04dc\",\"type\":\"ColumnDataSource\"},\"glyph\":{\"id\":\"3c8d9531-3dcc-4df9-adaa-8ff18f9ee619\",\"type\":\"Rect\"},\"hover_glyph\":null,\"nonselection_glyph\":null,\"selection_glyph\":null},\"id\":\"17518d2a-cb9c-4533-bc7d-7c60e6e48fc5\",\"type\":\"GlyphRenderer\"},{\"attributes\":{\"plot\":{\"id\":\"bee10a1b-c4c5-4114-973d-6d6d0d15a28c\",\"subtype\":\"Chart\",\"type\":\"Plot\"}},\"id\":\"7c9dcbc2-70c6-4ba7-9792-21bd9e3f69cb\",\"type\":\"SaveTool\"},{\"attributes\":{\"data_source\":{\"id\":\"17288e8f-253b-4d39-bdcb-22d7b30dd831\",\"type\":\"ColumnDataSource\"},\"glyph\":{\"id\":\"1ccfe441-0386-4a39-8824-f2af85cd6b81\",\"type\":\"Rect\"},\"hover_glyph\":null,\"nonselection_glyph\":null,\"selection_glyph\":null},\"id\":\"e55e528e-5045-439b-9d93-5ceb454dae4a\",\"type\":\"GlyphRenderer\"},{\"attributes\":{\"data_source\":{\"id\":\"1d784865-aaa7-4a1f-9947-8720cb596083\",\"type\":\"ColumnDataSource\"},\"glyph\":{\"id\":\"e0ab62a0-bbaa-4be6-8780-7b51e1c8bf46\",\"type\":\"Rect\"},\"hover_glyph\":null,\"nonselection_glyph\":null,\"selection_glyph\":null},\"id\":\"98edcefb-5451-49d9-b40e-be429a4a3bdc\",\"type\":\"GlyphRenderer\"},{\"attributes\":{\"callback\":null,\"column_names\":[\"color\",\"label\",\"height\",\"width\",\"fill_alpha\",\"y\",\"line_alpha\",\"x\",\"line_color\"],\"data\":{\"chart_index\":[\"(0.978600, 1.000000]\"],\"color\":[\"LightSlateGray\"],\"fill_alpha\":[0.8],\"height\":[1475.0],\"label\":[\"(0.978600, 1.000000]\"],\"line_alpha\":[1.0],\"line_color\":[\"black\"],\"width\":[0.021400000000000086],\"x\":[\"0.9893000000000001\"],\"y\":[737.5]}},\"id\":\"0dd45774-3b95-4be0-817a-acab6f00a63e\",\"type\":\"ColumnDataSource\"},{\"attributes\":{\"fill_alpha\":{\"field\":\"fill_alpha\"},\"fill_color\":{\"field\":\"color\"},\"height\":{\"field\":\"height\",\"units\":\"data\"},\"line_color\":{\"field\":\"line_color\"},\"width\":{\"field\":\"width\",\"units\":\"data\"},\"x\":{\"field\":\"x\"},\"y\":{\"field\":\"y\"}},\"id\":\"0b495890-fa24-4b3c-85b3-a716543f785d\",\"type\":\"Rect\"},{\"attributes\":{\"callback\":null,\"column_names\":[\"color\",\"label\",\"height\",\"width\",\"fill_alpha\",\"y\",\"line_alpha\",\"x\",\"line_color\"],\"data\":{\"chart_index\":[\"(0.957200, 0.978600]\"],\"color\":[\"LightSlateGray\"],\"fill_alpha\":[0.8],\"height\":[645.0],\"label\":[\"(0.957200, 0.978600]\"],\"line_alpha\":[1.0],\"line_color\":[\"black\"],\"width\":[0.021399999999999975],\"x\":[\"0.9679\"],\"y\":[322.5]}},\"id\":\"013fbafb-6ee1-4b6a-8e84-c22791bdcc75\",\"type\":\"ColumnDataSource\"},{\"attributes\":{\"callback\":null,\"column_names\":[\"color\",\"label\",\"height\",\"width\",\"fill_alpha\",\"y\",\"line_alpha\",\"x\",\"line_color\"],\"data\":{\"chart_index\":[\"(0.572000, 0.593400]\"],\"color\":[\"LightSlateGray\"],\"fill_alpha\":[0.8],\"height\":[40.0],\"label\":[\"(0.572000, 0.593400]\"],\"line_alpha\":[1.0],\"line_color\":[\"black\"],\"width\":[0.021399999999999975],\"x\":[\"0.5827\"],\"y\":[20.0]}},\"id\":\"0529a7d8-4eeb-4818-998a-7b4c8ad93caf\",\"type\":\"ColumnDataSource\"},{\"attributes\":{\"bottom_units\":\"screen\",\"fill_alpha\":{\"value\":0.5},\"fill_color\":{\"value\":\"lightgrey\"},\"left_units\":\"screen\",\"level\":\"overlay\",\"line_alpha\":{\"value\":1.0},\"line_color\":{\"value\":\"black\"},\"line_dash\":[4,4],\"line_width\":{\"value\":2},\"plot\":null,\"render_mode\":\"css\",\"right_units\":\"screen\",\"top_units\":\"screen\"},\"id\":\"21cb8ff5-7e3f-45c3-8fd5-466797dc09af\",\"type\":\"BoxAnnotation\"},{\"attributes\":{\"active_drag\":\"auto\",\"active_scroll\":\"auto\",\"active_tap\":\"auto\",\"tools\":[{\"id\":\"0ba56209-0adc-4a16-9784-8e23b9a8904b\",\"type\":\"PanTool\"},{\"id\":\"d9e67c84-2ee3-4018-beff-7d74f48d6fe8\",\"type\":\"WheelZoomTool\"},{\"id\":\"8dd0eefd-4073-4560-9a1a-808755b3f484\",\"type\":\"BoxZoomTool\"},{\"id\":\"7c9dcbc2-70c6-4ba7-9792-21bd9e3f69cb\",\"type\":\"SaveTool\"},{\"id\":\"f36320dd-2720-4420-9882-acabc9e19b15\",\"type\":\"ResetTool\"},{\"id\":\"7a6c7632-1f9a-41ea-94b0-43356721c6be\",\"type\":\"HelpTool\"}]},\"id\":\"4f7fe6f8-d960-4859-b7a9-f042398b74d9\",\"type\":\"Toolbar\"},{\"attributes\":{\"fill_alpha\":{\"field\":\"fill_alpha\"},\"fill_color\":{\"field\":\"color\"},\"height\":{\"field\":\"height\",\"units\":\"data\"},\"line_color\":{\"field\":\"line_color\"},\"width\":{\"field\":\"width\",\"units\":\"data\"},\"x\":{\"field\":\"x\"},\"y\":{\"field\":\"y\"}},\"id\":\"65c1259d-a4c7-4dc4-8815-1a4dac4f8c71\",\"type\":\"Rect\"},{\"attributes\":{\"overlay\":{\"id\":\"21cb8ff5-7e3f-45c3-8fd5-466797dc09af\",\"type\":\"BoxAnnotation\"},\"plot\":{\"id\":\"bee10a1b-c4c5-4114-973d-6d6d0d15a28c\",\"subtype\":\"Chart\",\"type\":\"Plot\"}},\"id\":\"8dd0eefd-4073-4560-9a1a-808755b3f484\",\"type\":\"BoxZoomTool\"},{\"attributes\":{\"data_source\":{\"id\":\"03a4e7d3-15af-434c-af39-fb23609dc338\",\"type\":\"ColumnDataSource\"},\"glyph\":{\"id\":\"a29c407f-a5b7-4f1b-80ca-6b3fdb622ef5\",\"type\":\"Rect\"},\"hover_glyph\":null,\"nonselection_glyph\":null,\"selection_glyph\":null},\"id\":\"077b4529-89a1-4e02-b5f3-eab0c37c5e81\",\"type\":\"GlyphRenderer\"},{\"attributes\":{\"data_source\":{\"id\":\"4fab0351-0cf3-4ac1-965b-a30676b55fcc\",\"type\":\"ColumnDataSource\"},\"glyph\":{\"id\":\"43f1669e-d37c-4516-a3a0-d9ff0ef4c2ed\",\"type\":\"Rect\"},\"hover_glyph\":null,\"nonselection_glyph\":null,\"selection_glyph\":null},\"id\":\"517cbaaf-2aea-49f5-8ddf-768bf10f676c\",\"type\":\"GlyphRenderer\"},{\"attributes\":{\"data_source\":{\"id\":\"55de1ac4-e2e0-4f7c-941f-bb3ca80fe3f5\",\"type\":\"ColumnDataSource\"},\"glyph\":{\"id\":\"b55ad774-b56d-4de3-a90c-8fd3922c9d51\",\"type\":\"Rect\"},\"hover_glyph\":null,\"nonselection_glyph\":null,\"selection_glyph\":null},\"id\":\"6c5b502a-de57-4452-9194-eab0eb1ba857\",\"type\":\"GlyphRenderer\"},{\"attributes\":{\"data_source\":{\"id\":\"e3feda62-5770-409c-8192-9def00f05f42\",\"type\":\"ColumnDataSource\"},\"glyph\":{\"id\":\"aac2fa54-23b5-48f7-bcb5-6bd04310ee6d\",\"type\":\"Rect\"},\"hover_glyph\":null,\"nonselection_glyph\":null,\"selection_glyph\":null},\"id\":\"ce17a844-96c3-4b43-a3b6-7fbf367b6768\",\"type\":\"GlyphRenderer\"},{\"attributes\":{\"fill_alpha\":{\"field\":\"fill_alpha\"},\"fill_color\":{\"field\":\"color\"},\"height\":{\"field\":\"height\",\"units\":\"data\"},\"line_color\":{\"field\":\"line_color\"},\"width\":{\"field\":\"width\",\"units\":\"data\"},\"x\":{\"field\":\"x\"},\"y\":{\"field\":\"y\"}},\"id\":\"0115a1cb-91a9-41b2-99b6-b8710e94de9a\",\"type\":\"Rect\"},{\"attributes\":{\"data_source\":{\"id\":\"e51fb574-f50d-419c-ace0-ffd4f1c4a603\",\"type\":\"ColumnDataSource\"},\"glyph\":{\"id\":\"b6204c74-899c-4a31-92f6-e426e52b9b26\",\"type\":\"Rect\"},\"hover_glyph\":null,\"nonselection_glyph\":null,\"selection_glyph\":null},\"id\":\"6ead3cb6-4e06-40e2-8a8a-0057055ed2cf\",\"type\":\"GlyphRenderer\"},{\"attributes\":{\"data_source\":{\"id\":\"0529a7d8-4eeb-4818-998a-7b4c8ad93caf\",\"type\":\"ColumnDataSource\"},\"glyph\":{\"id\":\"0115a1cb-91a9-41b2-99b6-b8710e94de9a\",\"type\":\"Rect\"},\"hover_glyph\":null,\"nonselection_glyph\":null,\"selection_glyph\":null},\"id\":\"d02e5cdc-5698-4e45-acbe-74d228c3ea31\",\"type\":\"GlyphRenderer\"},{\"attributes\":{\"fill_alpha\":{\"field\":\"fill_alpha\"},\"fill_color\":{\"field\":\"color\"},\"height\":{\"field\":\"height\",\"units\":\"data\"},\"line_color\":{\"field\":\"line_color\"},\"width\":{\"field\":\"width\",\"units\":\"data\"},\"x\":{\"field\":\"x\"},\"y\":{\"field\":\"y\"}},\"id\":\"634ee54f-63fa-44e6-b373-e5412eb50e85\",\"type\":\"Rect\"},{\"attributes\":{\"fill_alpha\":{\"field\":\"fill_alpha\"},\"fill_color\":{\"field\":\"color\"},\"height\":{\"field\":\"height\",\"units\":\"data\"},\"line_color\":{\"field\":\"line_color\"},\"width\":{\"field\":\"width\",\"units\":\"data\"},\"x\":{\"field\":\"x\"},\"y\":{\"field\":\"y\"}},\"id\":\"3c8d9531-3dcc-4df9-adaa-8ff18f9ee619\",\"type\":\"Rect\"},{\"attributes\":{\"callback\":null,\"end\":1.03395,\"start\":0.32405000000000006},\"id\":\"0ed1068f-9780-4c3c-bfca-3f473965a6ac\",\"type\":\"Range1d\"},{\"attributes\":{\"data_source\":{\"id\":\"ac1f3489-0ee6-492c-8332-e588ac7ecfe1\",\"type\":\"ColumnDataSource\"},\"glyph\":{\"id\":\"0fe85672-a852-4914-a494-1e39edf7010c\",\"type\":\"Rect\"},\"hover_glyph\":null,\"nonselection_glyph\":null,\"selection_glyph\":null},\"id\":\"edf80acf-74e1-4472-b50d-df71c97e9763\",\"type\":\"GlyphRenderer\"},{\"attributes\":{\"below\":[{\"id\":\"76069631-761a-4ba4-9602-db852db40484\",\"type\":\"LinearAxis\"}],\"css_classes\":null,\"left\":[{\"id\":\"b745f89a-d6b6-47ab-a3ea-5bcda45ff10b\",\"type\":\"LinearAxis\"}],\"renderers\":[{\"id\":\"21cb8ff5-7e3f-45c3-8fd5-466797dc09af\",\"type\":\"BoxAnnotation\"},{\"id\":\"6c5b502a-de57-4452-9194-eab0eb1ba857\",\"type\":\"GlyphRenderer\"},{\"id\":\"75d76cf8-238c-4349-bf58-ba6091657599\",\"type\":\"GlyphRenderer\"},{\"id\":\"e55e528e-5045-439b-9d93-5ceb454dae4a\",\"type\":\"GlyphRenderer\"},{\"id\":\"98edcefb-5451-49d9-b40e-be429a4a3bdc\",\"type\":\"GlyphRenderer\"},{\"id\":\"9c486698-aa1a-44c7-88fa-6579533963d7\",\"type\":\"GlyphRenderer\"},{\"id\":\"4e4aa959-294c-42b1-b169-33a11c6551d8\",\"type\":\"GlyphRenderer\"},{\"id\":\"077b4529-89a1-4e02-b5f3-eab0c37c5e81\",\"type\":\"GlyphRenderer\"},{\"id\":\"ca79b0f5-e464-4bec-86f6-af6e20f6ad1a\",\"type\":\"GlyphRenderer\"},{\"id\":\"49282328-c2c1-4c2b-9241-ebf503dd6a59\",\"type\":\"GlyphRenderer\"},{\"id\":\"f8f52cb8-acbc-4cc4-ac3b-ae4d6016c497\",\"type\":\"GlyphRenderer\"},{\"id\":\"d02e5cdc-5698-4e45-acbe-74d228c3ea31\",\"type\":\"GlyphRenderer\"},{\"id\":\"9d9e736b-b772-43aa-b1c1-577063a9d809\",\"type\":\"GlyphRenderer\"},{\"id\":\"264cb48a-68ee-4c52-9b56-da654953d63e\",\"type\":\"GlyphRenderer\"},{\"id\":\"0d7a30ad-2c2e-4e3b-a8e8-a654b8bc130b\",\"type\":\"GlyphRenderer\"},{\"id\":\"4419195c-97c2-421b-8dc3-335b98c402f2\",\"type\":\"GlyphRenderer\"},{\"id\":\"6ead3cb6-4e06-40e2-8a8a-0057055ed2cf\",\"type\":\"GlyphRenderer\"},{\"id\":\"3850bac1-7ac5-40aa-bcd5-15fae3ab0a87\",\"type\":\"GlyphRenderer\"},{\"id\":\"cbe91205-422b-4fff-85d8-31641ac8cb23\",\"type\":\"GlyphRenderer\"},{\"id\":\"f545212f-9a3e-4c81-8e49-e0322fe36aa1\",\"type\":\"GlyphRenderer\"},{\"id\":\"edf80acf-74e1-4472-b50d-df71c97e9763\",\"type\":\"GlyphRenderer\"},{\"id\":\"e3d1862a-2402-4e66-a6ca-368293fa8f07\",\"type\":\"GlyphRenderer\"},{\"id\":\"d5bfe8a5-93b7-4954-9461-e5a171a8f27b\",\"type\":\"GlyphRenderer\"},{\"id\":\"e387a239-7a0d-4ef7-8fb2-c7ad1037cc5d\",\"type\":\"GlyphRenderer\"},{\"id\":\"ce17a844-96c3-4b43-a3b6-7fbf367b6768\",\"type\":\"GlyphRenderer\"},{\"id\":\"2e50bf25-d1a8-459d-b19a-d76082900e5c\",\"type\":\"GlyphRenderer\"},{\"id\":\"c66dbf57-178a-4acc-9823-e17f57595d40\",\"type\":\"GlyphRenderer\"},{\"id\":\"517cbaaf-2aea-49f5-8ddf-768bf10f676c\",\"type\":\"GlyphRenderer\"},{\"id\":\"17518d2a-cb9c-4533-bc7d-7c60e6e48fc5\",\"type\":\"GlyphRenderer\"},{\"id\":\"85468d81-ffaf-48ea-9bcb-a8eba3192859\",\"type\":\"GlyphRenderer\"},{\"id\":\"0becdb99-62d1-4f33-b192-f10abaf56db8\",\"type\":\"GlyphRenderer\"},{\"id\":\"d71547e8-d387-42ed-a744-0fb1a1f8df8f\",\"type\":\"Legend\"},{\"id\":\"76069631-761a-4ba4-9602-db852db40484\",\"type\":\"LinearAxis\"},{\"id\":\"b745f89a-d6b6-47ab-a3ea-5bcda45ff10b\",\"type\":\"LinearAxis\"},{\"id\":\"2d651b47-308d-45c1-b2f3-ac07364d6ed9\",\"type\":\"Grid\"}],\"title\":{\"id\":\"abfbdb2e-03e3-49c4-88c2-fa83cb54529b\",\"type\":\"Title\"},\"tool_events\":{\"id\":\"2db5fcc4-69ca-401e-856a-335e0f45eb7f\",\"type\":\"ToolEvents\"},\"toolbar\":{\"id\":\"4f7fe6f8-d960-4859-b7a9-f042398b74d9\",\"type\":\"Toolbar\"},\"x_mapper_type\":\"auto\",\"x_range\":{\"id\":\"0ed1068f-9780-4c3c-bfca-3f473965a6ac\",\"type\":\"Range1d\"},\"y_mapper_type\":\"auto\",\"y_range\":{\"id\":\"1105df37-2011-43b8-87a6-5d9dece13065\",\"type\":\"Range1d\"}},\"id\":\"bee10a1b-c4c5-4114-973d-6d6d0d15a28c\",\"subtype\":\"Chart\",\"type\":\"Plot\"},{\"attributes\":{\"data_source\":{\"id\":\"d03ffcfa-2219-40cf-9704-5ad6a6b60e10\",\"type\":\"ColumnDataSource\"},\"glyph\":{\"id\":\"c9f1e8b7-a605-4b61-b8e3-557de7dfddf7\",\"type\":\"Rect\"},\"hover_glyph\":null,\"nonselection_glyph\":null,\"selection_glyph\":null},\"id\":\"75d76cf8-238c-4349-bf58-ba6091657599\",\"type\":\"GlyphRenderer\"},{\"attributes\":{\"data_source\":{\"id\":\"f62abedd-9be3-4c6a-94da-a5d4a1c5eae0\",\"type\":\"ColumnDataSource\"},\"glyph\":{\"id\":\"de1e0ec5-e90a-416f-8720-4912c9e54bcd\",\"type\":\"Rect\"},\"hover_glyph\":null,\"nonselection_glyph\":null,\"selection_glyph\":null},\"id\":\"4419195c-97c2-421b-8dc3-335b98c402f2\",\"type\":\"GlyphRenderer\"},{\"attributes\":{\"data_source\":{\"id\":\"6b98d829-d923-4abf-9ef0-0273effa2a97\",\"type\":\"ColumnDataSource\"},\"glyph\":{\"id\":\"983375d6-97d0-4ae7-8f1e-fe3a7e7dd3db\",\"type\":\"Rect\"},\"hover_glyph\":null,\"nonselection_glyph\":null,\"selection_glyph\":null},\"id\":\"ca79b0f5-e464-4bec-86f6-af6e20f6ad1a\",\"type\":\"GlyphRenderer\"},{\"attributes\":{},\"id\":\"ff52014c-dc6c-4103-af01-06b38e1c8cab\",\"type\":\"BasicTicker\"},{\"attributes\":{\"fill_alpha\":{\"field\":\"fill_alpha\"},\"fill_color\":{\"field\":\"color\"},\"height\":{\"field\":\"height\",\"units\":\"data\"},\"line_color\":{\"field\":\"line_color\"},\"width\":{\"field\":\"width\",\"units\":\"data\"},\"x\":{\"field\":\"x\"},\"y\":{\"field\":\"y\"}},\"id\":\"e0ab62a0-bbaa-4be6-8780-7b51e1c8bf46\",\"type\":\"Rect\"},{\"attributes\":{\"data_source\":{\"id\":\"945ddef2-2e2d-4295-8bd6-e853030eecb2\",\"type\":\"ColumnDataSource\"},\"glyph\":{\"id\":\"ca69e4cb-fe0c-4593-90e5-1554143de153\",\"type\":\"Rect\"},\"hover_glyph\":null,\"nonselection_glyph\":null,\"selection_glyph\":null},\"id\":\"9d9e736b-b772-43aa-b1c1-577063a9d809\",\"type\":\"GlyphRenderer\"},{\"attributes\":{\"data_source\":{\"id\":\"d92c485c-fff8-4357-83ce-96825e4f81c2\",\"type\":\"ColumnDataSource\"},\"glyph\":{\"id\":\"863aa3e4-d6dd-4b04-a337-ad5b0ca4eccb\",\"type\":\"Rect\"},\"hover_glyph\":null,\"nonselection_glyph\":null,\"selection_glyph\":null},\"id\":\"0d7a30ad-2c2e-4e3b-a8e8-a654b8bc130b\",\"type\":\"GlyphRenderer\"},{\"attributes\":{\"data_source\":{\"id\":\"3af36013-f4c9-444e-926c-9b51be5a6514\",\"type\":\"ColumnDataSource\"},\"glyph\":{\"id\":\"43c2aaaa-683f-48e3-9aa7-4ff8f3221ca5\",\"type\":\"Rect\"},\"hover_glyph\":null,\"nonselection_glyph\":null,\"selection_glyph\":null},\"id\":\"49282328-c2c1-4c2b-9241-ebf503dd6a59\",\"type\":\"GlyphRenderer\"},{\"attributes\":{\"callback\":null,\"column_names\":[\"color\",\"label\",\"height\",\"width\",\"fill_alpha\",\"y\",\"line_alpha\",\"x\",\"line_color\"],\"data\":{\"chart_index\":[\"(0.400800, 0.422200]\"],\"color\":[\"LightSlateGray\"],\"fill_alpha\":[0.8],\"height\":[11.0],\"label\":[\"(0.400800, 0.422200]\"],\"line_alpha\":[1.0],\"line_color\":[\"black\"],\"width\":[0.021399999999999975],\"x\":[\"0.4115\"],\"y\":[5.5]}},\"id\":\"17288e8f-253b-4d39-bdcb-22d7b30dd831\",\"type\":\"ColumnDataSource\"},{\"attributes\":{\"dimension\":1,\"plot\":{\"id\":\"bee10a1b-c4c5-4114-973d-6d6d0d15a28c\",\"subtype\":\"Chart\",\"type\":\"Plot\"},\"ticker\":{\"id\":\"0513210a-e1b5-4780-88d5-13626104e155\",\"type\":\"BasicTicker\"}},\"id\":\"2d651b47-308d-45c1-b2f3-ac07364d6ed9\",\"type\":\"Grid\"},{\"attributes\":{},\"id\":\"2db5fcc4-69ca-401e-856a-335e0f45eb7f\",\"type\":\"ToolEvents\"},{\"attributes\":{},\"id\":\"0513210a-e1b5-4780-88d5-13626104e155\",\"type\":\"BasicTicker\"},{\"attributes\":{\"fill_alpha\":{\"field\":\"fill_alpha\"},\"fill_color\":{\"field\":\"color\"},\"height\":{\"field\":\"height\",\"units\":\"data\"},\"line_color\":{\"field\":\"line_color\"},\"width\":{\"field\":\"width\",\"units\":\"data\"},\"x\":{\"field\":\"x\"},\"y\":{\"field\":\"y\"}},\"id\":\"e3e8c32e-e35c-4dbb-8f41-665f64025a3a\",\"type\":\"Rect\"},{\"attributes\":{\"fill_alpha\":{\"field\":\"fill_alpha\"},\"fill_color\":{\"field\":\"color\"},\"height\":{\"field\":\"height\",\"units\":\"data\"},\"line_color\":{\"field\":\"line_color\"},\"width\":{\"field\":\"width\",\"units\":\"data\"},\"x\":{\"field\":\"x\"},\"y\":{\"field\":\"y\"}},\"id\":\"a29c407f-a5b7-4f1b-80ca-6b3fdb622ef5\",\"type\":\"Rect\"},{\"attributes\":{\"callback\":null,\"column_names\":[\"color\",\"label\",\"height\",\"width\",\"fill_alpha\",\"y\",\"line_alpha\",\"x\",\"line_color\"],\"data\":{\"chart_index\":[\"(0.893000, 0.914400]\"],\"color\":[\"LightSlateGray\"],\"fill_alpha\":[0.8],\"height\":[119.0],\"label\":[\"(0.893000, 0.914400]\"],\"line_alpha\":[1.0],\"line_color\":[\"black\"],\"width\":[0.021400000000000086],\"x\":[\"0.9037\"],\"y\":[59.5]}},\"id\":\"a24a7f9d-ccd7-4d39-b1d1-edebec0e8bdb\",\"type\":\"ColumnDataSource\"},{\"attributes\":{\"data_source\":{\"id\":\"58db129a-1272-4710-8d12-8ce21fa0be09\",\"type\":\"ColumnDataSource\"},\"glyph\":{\"id\":\"3b8c393b-7d13-4adf-81df-82ef6344daf5\",\"type\":\"Rect\"},\"hover_glyph\":null,\"nonselection_glyph\":null,\"selection_glyph\":null},\"id\":\"cbe91205-422b-4fff-85d8-31641ac8cb23\",\"type\":\"GlyphRenderer\"},{\"attributes\":{\"fill_alpha\":{\"field\":\"fill_alpha\"},\"fill_color\":{\"field\":\"color\"},\"height\":{\"field\":\"height\",\"units\":\"data\"},\"line_color\":{\"field\":\"line_color\"},\"width\":{\"field\":\"width\",\"units\":\"data\"},\"x\":{\"field\":\"x\"},\"y\":{\"field\":\"y\"}},\"id\":\"0c8f1fdf-24f4-4c41-8b8c-1be8c45356ea\",\"type\":\"Rect\"},{\"attributes\":{\"callback\":null,\"column_names\":[\"color\",\"label\",\"height\",\"width\",\"fill_alpha\",\"y\",\"line_alpha\",\"x\",\"line_color\"],\"data\":{\"chart_index\":[\"(0.850200, 0.871600]\"],\"color\":[\"LightSlateGray\"],\"fill_alpha\":[0.8],\"height\":[66.0],\"label\":[\"(0.850200, 0.871600]\"],\"line_alpha\":[1.0],\"line_color\":[\"black\"],\"width\":[0.021399999999999975],\"x\":[\"0.8609\"],\"y\":[33.0]}},\"id\":\"e3feda62-5770-409c-8192-9def00f05f42\",\"type\":\"ColumnDataSource\"},{\"attributes\":{},\"id\":\"15d17703-5f04-4581-b424-8d5cc0521326\",\"type\":\"BasicTickFormatter\"},{\"attributes\":{\"plot\":{\"id\":\"bee10a1b-c4c5-4114-973d-6d6d0d15a28c\",\"subtype\":\"Chart\",\"type\":\"Plot\"}},\"id\":\"0ba56209-0adc-4a16-9784-8e23b9a8904b\",\"type\":\"PanTool\"},{\"attributes\":{\"data_source\":{\"id\":\"a24a7f9d-ccd7-4d39-b1d1-edebec0e8bdb\",\"type\":\"ColumnDataSource\"},\"glyph\":{\"id\":\"bb2de2c6-0692-4d3d-8853-d42398580d36\",\"type\":\"Rect\"},\"hover_glyph\":null,\"nonselection_glyph\":null,\"selection_glyph\":null},\"id\":\"c66dbf57-178a-4acc-9823-e17f57595d40\",\"type\":\"GlyphRenderer\"},{\"attributes\":{\"callback\":null,\"column_names\":[\"color\",\"label\",\"height\",\"width\",\"fill_alpha\",\"y\",\"line_alpha\",\"x\",\"line_color\"],\"data\":{\"chart_index\":[\"(0.379400, 0.400800]\"],\"color\":[\"LightSlateGray\"],\"fill_alpha\":[0.8],\"height\":[9.0],\"label\":[\"(0.379400, 0.400800]\"],\"line_alpha\":[1.0],\"line_color\":[\"black\"],\"width\":[0.02140000000000003],\"x\":[\"0.3901\"],\"y\":[4.5]}},\"id\":\"d03ffcfa-2219-40cf-9704-5ad6a6b60e10\",\"type\":\"ColumnDataSource\"},{\"attributes\":{\"plot\":{\"id\":\"bee10a1b-c4c5-4114-973d-6d6d0d15a28c\",\"subtype\":\"Chart\",\"type\":\"Plot\"}},\"id\":\"d9e67c84-2ee3-4018-beff-7d74f48d6fe8\",\"type\":\"WheelZoomTool\"},{\"attributes\":{\"callback\":null,\"column_names\":[\"color\",\"label\",\"height\",\"width\",\"fill_alpha\",\"y\",\"line_alpha\",\"x\",\"line_color\"],\"data\":{\"chart_index\":[\"(0.614800, 0.636200]\"],\"color\":[\"LightSlateGray\"],\"fill_alpha\":[0.8],\"height\":[41.0],\"label\":[\"(0.614800, 0.636200]\"],\"line_alpha\":[1.0],\"line_color\":[\"black\"],\"width\":[0.021399999999999975],\"x\":[\"0.6255\"],\"y\":[20.5]}},\"id\":\"6bfa02d6-c34e-4039-a1ed-9721b10fa2c5\",\"type\":\"ColumnDataSource\"},{\"attributes\":{\"fill_alpha\":{\"field\":\"fill_alpha\"},\"fill_color\":{\"field\":\"color\"},\"height\":{\"field\":\"height\",\"units\":\"data\"},\"line_color\":{\"field\":\"line_color\"},\"width\":{\"field\":\"width\",\"units\":\"data\"},\"x\":{\"field\":\"x\"},\"y\":{\"field\":\"y\"}},\"id\":\"84c5bfff-de45-4026-bb33-75c9007c6fe0\",\"type\":\"Rect\"},{\"attributes\":{\"callback\":null,\"column_names\":[\"color\",\"label\",\"height\",\"width\",\"fill_alpha\",\"y\",\"line_alpha\",\"x\",\"line_color\"],\"data\":{\"chart_index\":[\"(0.721800, 0.743200]\"],\"color\":[\"LightSlateGray\"],\"fill_alpha\":[0.8],\"height\":[50.0],\"label\":[\"(0.721800, 0.743200]\"],\"line_alpha\":[1.0],\"line_color\":[\"black\"],\"width\":[0.021399999999999975],\"x\":[\"0.7324999999999999\"],\"y\":[25.0]}},\"id\":\"58db129a-1272-4710-8d12-8ce21fa0be09\",\"type\":\"ColumnDataSource\"},{\"attributes\":{\"fill_alpha\":{\"field\":\"fill_alpha\"},\"fill_color\":{\"field\":\"color\"},\"height\":{\"field\":\"height\",\"units\":\"data\"},\"line_color\":{\"field\":\"line_color\"},\"width\":{\"field\":\"width\",\"units\":\"data\"},\"x\":{\"field\":\"x\"},\"y\":{\"field\":\"y\"}},\"id\":\"2cc060e4-090b-4793-981e-16d4cb55a329\",\"type\":\"Rect\"},{\"attributes\":{\"fill_alpha\":{\"field\":\"fill_alpha\"},\"fill_color\":{\"field\":\"color\"},\"height\":{\"field\":\"height\",\"units\":\"data\"},\"line_color\":{\"field\":\"line_color\"},\"width\":{\"field\":\"width\",\"units\":\"data\"},\"x\":{\"field\":\"x\"},\"y\":{\"field\":\"y\"}},\"id\":\"ca69e4cb-fe0c-4593-90e5-1554143de153\",\"type\":\"Rect\"},{\"attributes\":{\"fill_alpha\":{\"field\":\"fill_alpha\"},\"fill_color\":{\"field\":\"color\"},\"height\":{\"field\":\"height\",\"units\":\"data\"},\"line_color\":{\"field\":\"line_color\"},\"width\":{\"field\":\"width\",\"units\":\"data\"},\"x\":{\"field\":\"x\"},\"y\":{\"field\":\"y\"}},\"id\":\"822771dd-2f1a-488b-8f7a-e595a61c2b00\",\"type\":\"Rect\"},{\"attributes\":{\"axis_label\":\"Frequency\",\"formatter\":{\"id\":\"15d17703-5f04-4581-b424-8d5cc0521326\",\"type\":\"BasicTickFormatter\"},\"plot\":{\"id\":\"bee10a1b-c4c5-4114-973d-6d6d0d15a28c\",\"subtype\":\"Chart\",\"type\":\"Plot\"},\"ticker\":{\"id\":\"0513210a-e1b5-4780-88d5-13626104e155\",\"type\":\"BasicTicker\"}},\"id\":\"b745f89a-d6b6-47ab-a3ea-5bcda45ff10b\",\"type\":\"LinearAxis\"},{\"attributes\":{\"callback\":null,\"column_names\":[\"color\",\"label\",\"height\",\"width\",\"fill_alpha\",\"y\",\"line_alpha\",\"x\",\"line_color\"],\"data\":{\"chart_index\":[\"(0.871600, 0.893000]\"],\"color\":[\"LightSlateGray\"],\"fill_alpha\":[0.8],\"height\":[92.0],\"label\":[\"(0.871600, 0.893000]\"],\"line_alpha\":[1.0],\"line_color\":[\"black\"],\"width\":[0.021399999999999975],\"x\":[\"0.8823000000000001\"],\"y\":[46.0]}},\"id\":\"1168b851-ca24-4fb3-9829-41522afdb77d\",\"type\":\"ColumnDataSource\"},{\"attributes\":{\"data_source\":{\"id\":\"049dd0d3-781a-45f6-83f4-7705df1c15c6\",\"type\":\"ColumnDataSource\"},\"glyph\":{\"id\":\"84c5bfff-de45-4026-bb33-75c9007c6fe0\",\"type\":\"Rect\"},\"hover_glyph\":null,\"nonselection_glyph\":null,\"selection_glyph\":null},\"id\":\"f8f52cb8-acbc-4cc4-ac3b-ae4d6016c497\",\"type\":\"GlyphRenderer\"}],\"root_ids\":[\"bee10a1b-c4c5-4114-973d-6d6d0d15a28c\"]},\"title\":\"Bokeh Application\",\"version\":\"0.12.4\"}};\n",
       "            var render_items = [{\"docid\":\"e5104ce4-7494-4a9c-a013-0c9cf18f7664\",\"elementid\":\"8fe5140d-c21b-426c-8fa1-afee77cd3abd\",\"modelid\":\"bee10a1b-c4c5-4114-973d-6d6d0d15a28c\"}];\n",
       "            \n",
       "            Bokeh.embed.embed_items(docs_json, render_items);\n",
       "          };\n",
       "          if (document.readyState != \"loading\") fn();\n",
       "          else document.addEventListener(\"DOMContentLoaded\", fn);\n",
       "        })();\n",
       "      },\n",
       "      function(Bokeh) {\n",
       "      }\n",
       "    ];\n",
       "  \n",
       "    function run_inline_js() {\n",
       "      \n",
       "      if ((window.Bokeh !== undefined) || (force === true)) {\n",
       "        for (var i = 0; i < inline_js.length; i++) {\n",
       "          inline_js[i](window.Bokeh);\n",
       "        }if (force === true) {\n",
       "          display_loaded();\n",
       "        }} else if (Date.now() < window._bokeh_timeout) {\n",
       "        setTimeout(run_inline_js, 100);\n",
       "      } else if (!window._bokeh_failed_load) {\n",
       "        console.log(\"Bokeh: BokehJS failed to load within specified timeout.\");\n",
       "        window._bokeh_failed_load = true;\n",
       "      } else if (force !== true) {\n",
       "        var cell = $(document.getElementById(\"8fe5140d-c21b-426c-8fa1-afee77cd3abd\")).parents('.cell').data().cell;\n",
       "        cell.output_area.append_execute_result(NB_LOAD_WARNING)\n",
       "      }\n",
       "  \n",
       "    }\n",
       "  \n",
       "    if (window._bokeh_is_loading === 0) {\n",
       "      console.log(\"Bokeh: BokehJS loaded, going straight to plotting\");\n",
       "      run_inline_js();\n",
       "    } else {\n",
       "      load_libs(js_urls, function() {\n",
       "        console.log(\"Bokeh: BokehJS plotting callback run at\", now());\n",
       "        run_inline_js();\n",
       "      });\n",
       "    }\n",
       "  }(this));\n",
       "</script>"
      ]
     },
     "metadata": {},
     "output_type": "display_data"
    }
   ],
   "source": [
    "p=Histogram(normal_plt,values='max_predprob',title='LOF Normal: Predict Probability',color='LightSlateGray',bins=30,xlabel=\"Predict Probability\",ylabel=\"Frequency\")\n",
    "show(p)"
   ]
  },
  {
   "cell_type": "code",
   "execution_count": null,
   "metadata": {
    "collapsed": true
   },
   "outputs": [],
   "source": []
  }
 ],
 "metadata": {
  "kernelspec": {
   "display_name": "Python [NIHFAES]",
   "language": "python",
   "name": "Python [NIHFAES]"
  },
  "language_info": {
   "codemirror_mode": {
    "name": "ipython",
    "version": 3
   },
   "file_extension": ".py",
   "mimetype": "text/x-python",
   "name": "python",
   "nbconvert_exporter": "python",
   "pygments_lexer": "ipython3",
   "version": "3.5.2"
  }
 },
 "nbformat": 4,
 "nbformat_minor": 2
}
